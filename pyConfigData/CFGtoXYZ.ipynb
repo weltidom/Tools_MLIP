{
 "cells": [
  {
   "cell_type": "code",
   "execution_count": 1,
   "metadata": {},
   "outputs": [],
   "source": [
    "from pyDataHandler import Cfg, Xyz\n",
    "import numpy as np \n",
    "import pandas as pd"
   ]
  },
  {
   "cell_type": "code",
   "execution_count": 2,
   "metadata": {},
   "outputs": [],
   "source": [
    "atom_types = {0:'Ta', 1:'V', 2:'Cr', 3:'W'} "
   ]
  },
  {
   "cell_type": "code",
   "execution_count": 3,
   "metadata": {},
   "outputs": [],
   "source": [
    "#retrieve paths to CFG files in project\n",
    "import os\n",
    "folder_path='/Users/dominicwelti/Library/CloudStorage/Dropbox/Master_Thesis/data_npj/Dataset/cfg'\n",
    "\n",
    "files=[]\n",
    "for (dirpath, dirnames, filenames) in os.walk(folder_path):\n",
    "    for filename in filenames:\n",
    "        files.append(f'{dirpath}/{filename}')\n",
    "\n",
    "f=filter(lambda x: '.cfg' in x, files)\n",
    "files=list(f)"
   ]
  },
  {
   "cell_type": "code",
   "execution_count": 4,
   "metadata": {},
   "outputs": [],
   "source": [
    "# only select CFG files containing string in file name\n",
    "selection=['valid_']\n",
    "files_train=[]\n",
    "for pattern in selection:\n",
    "    files_train.append(list(filter(lambda x: pattern in x, files)))\n",
    "\n",
    "files_train = np.array(files_train)\n",
    "files_train=files_train.flatten()"
   ]
  },
  {
   "cell_type": "code",
   "execution_count": 5,
   "metadata": {},
   "outputs": [],
   "source": [
    "# retrieve data contained in relevant CFG files\n",
    "data_lst = []\n",
    "for file in files_train:\n",
    "    cfg = Cfg(file.split('/')[-1], file)\n",
    "    cfg.read()\n",
    "    cfg.parse()\n",
    "    data_lst.append(cfg.data)\n",
    "\n",
    "data = pd.concat(data_lst)"
   ]
  },
  {
   "cell_type": "code",
   "execution_count": 6,
   "metadata": {},
   "outputs": [
    {
     "data": {
      "text/plain": [
       "13380.0"
      ]
     },
     "execution_count": 6,
     "metadata": {},
     "output_type": "execute_result"
    }
   ],
   "source": [
    "# retrieve number of configurations contained\n",
    "data.groupby(by='Name').max('Configuration').sum()['Configuration']"
   ]
  },
  {
   "cell_type": "code",
   "execution_count": null,
   "metadata": {},
   "outputs": [],
   "source": [
    "# produce combined xyz file\n",
    "xyz = Xyz('/Users/dominicwelti/Library/CloudStorage/Dropbox/Master_Thesis/data_npj/', 'deformed', atom_types)\n",
    "xyz.write(data)"
   ]
  },
  {
   "cell_type": "code",
   "execution_count": null,
   "metadata": {},
   "outputs": [],
   "source": [
    "# produce seperate xyz files per config\n",
    "for name in data['Name'].unique():\n",
    "    subset = data.query('Name==@name')\n",
    "    xyz = Xyz('/Users/dominicwelti/Library/CloudStorage/Dropbox/Master_Thesis/data_npj/mace', name, atom_types)\n",
    "    xyz.write(subset)"
   ]
  },
  {
   "cell_type": "code",
   "execution_count": 7,
   "metadata": {},
   "outputs": [],
   "source": [
    "# produce seperate xyz files per split with all configs combined\n",
    "splits=np.arange(0,10)\n",
    "for split in splits:\n",
    "    subset=data.query(f'Name.str.endswith(\"{split}\")')\n",
    "    xyz=Xyz('/Users/dominicwelti/Documents/Master_Thesis_Data_Set/hea', f'{selection}_{split}', atom_types)\n",
    "    xyz.write(subset)"
   ]
  },
  {
   "cell_type": "code",
   "execution_count": null,
   "metadata": {},
   "outputs": [],
   "source": [
    "# build 432 atoms config for MD computation cost testing\n",
    "path='/Users/dominicwelti/Library/CloudStorage/Dropbox/Master_Thesis/data_npj/Dataset/cfg/in_distribution_splits/4comp.cfg_valid_0'\n",
    "cfg=Cfg('4comp_0k',path)\n",
    "cfg.read()\n",
    "cfg.parse()"
   ]
  },
  {
   "cell_type": "code",
   "execution_count": null,
   "metadata": {},
   "outputs": [],
   "source": [
    "xyz=Xyz('/Users/dominicwelti/Library/CloudStorage/Dropbox/Master_Thesis/data_npj', cfg.name, atom_types)"
   ]
  },
  {
   "cell_type": "code",
   "execution_count": null,
   "metadata": {},
   "outputs": [
    {
     "data": {
      "text/html": [
       "<div>\n",
       "<style scoped>\n",
       "    .dataframe tbody tr th:only-of-type {\n",
       "        vertical-align: middle;\n",
       "    }\n",
       "\n",
       "    .dataframe tbody tr th {\n",
       "        vertical-align: top;\n",
       "    }\n",
       "\n",
       "    .dataframe thead th {\n",
       "        text-align: right;\n",
       "    }\n",
       "</style>\n",
       "<table border=\"1\" class=\"dataframe\">\n",
       "  <thead>\n",
       "    <tr style=\"text-align: right;\">\n",
       "      <th></th>\n",
       "      <th>Name</th>\n",
       "      <th>Lattice</th>\n",
       "      <th>Configuration</th>\n",
       "      <th>Config. size</th>\n",
       "      <th>Energy</th>\n",
       "      <th>Atom</th>\n",
       "      <th>Position</th>\n",
       "      <th>Force</th>\n",
       "    </tr>\n",
       "  </thead>\n",
       "  <tbody>\n",
       "    <tr>\n",
       "      <th>0</th>\n",
       "      <td>4comp_0k</td>\n",
       "      <td>[[12.417093, -0.000002, 0.000002], [-0.000002,...</td>\n",
       "      <td>1</td>\n",
       "      <td>128</td>\n",
       "      <td>-1383.026392</td>\n",
       "      <td>[1, 1, 1, 1, 1, 1, 1, 1, 1, 1, 1, 1, 1, 1, 1, ...</td>\n",
       "      <td>[[0.000020, 12.417090, 0.193190], [3.104330, 0...</td>\n",
       "      <td>[[0.003742, -0.001385, -0.000639], [-0.003647,...</td>\n",
       "    </tr>\n",
       "    <tr>\n",
       "      <th>0</th>\n",
       "      <td>4comp_0k</td>\n",
       "      <td>[[12.372950, -0.091678, 0.000003], [-0.091678,...</td>\n",
       "      <td>2</td>\n",
       "      <td>128</td>\n",
       "      <td>-1377.955951</td>\n",
       "      <td>[1, 1, 1, 1, 1, 1, 1, 1, 1, 1, 1, 1, 1, 1, 1, ...</td>\n",
       "      <td>[[0.000090, 0.000000, 0.004660], [6.117710, 9....</td>\n",
       "      <td>[[-0.001207, 0.001275, 0.001526], [0.000403, -...</td>\n",
       "    </tr>\n",
       "    <tr>\n",
       "      <th>0</th>\n",
       "      <td>4comp_0k</td>\n",
       "      <td>[[12.385524, 0.023617, -0.005930], [0.023442, ...</td>\n",
       "      <td>3</td>\n",
       "      <td>128</td>\n",
       "      <td>-1380.740406</td>\n",
       "      <td>[1, 1, 1, 1, 1, 1, 1, 1, 1, 1, 1, 1, 1, 1, 1, ...</td>\n",
       "      <td>[[10.826210, 7.769670, 1.577610], [3.073840, 3...</td>\n",
       "      <td>[[0.002529, -0.000909, -0.004608], [-0.008655,...</td>\n",
       "    </tr>\n",
       "    <tr>\n",
       "      <th>0</th>\n",
       "      <td>4comp_0k</td>\n",
       "      <td>[[12.347574, -0.017404, 0.018104], [-0.017464,...</td>\n",
       "      <td>4</td>\n",
       "      <td>128</td>\n",
       "      <td>-1377.910324</td>\n",
       "      <td>[1, 1, 1, 1, 1, 1, 1, 1, 1, 1, 1, 1, 1, 1, 1, ...</td>\n",
       "      <td>[[0.053940, 0.034310, 12.388140], [6.176370, 9...</td>\n",
       "      <td>[[0.000534, 0.001173, 0.002910], [0.001066, 0....</td>\n",
       "    </tr>\n",
       "    <tr>\n",
       "      <th>0</th>\n",
       "      <td>4comp_0k</td>\n",
       "      <td>[[12.415658, 0.000000, 0.000002], [0.000000, 1...</td>\n",
       "      <td>5</td>\n",
       "      <td>128</td>\n",
       "      <td>-1383.025328</td>\n",
       "      <td>[1, 1, 1, 1, 1, 1, 1, 1, 1, 1, 1, 1, 1, 1, 1, ...</td>\n",
       "      <td>[[3.103790, 6.207770, 6.366180], [6.207870, 3....</td>\n",
       "      <td>[[-0.001545, 0.002482, -0.001277], [0.000657, ...</td>\n",
       "    </tr>\n",
       "    <tr>\n",
       "      <th>...</th>\n",
       "      <td>...</td>\n",
       "      <td>...</td>\n",
       "      <td>...</td>\n",
       "      <td>...</td>\n",
       "      <td>...</td>\n",
       "      <td>...</td>\n",
       "      <td>...</td>\n",
       "      <td>...</td>\n",
       "    </tr>\n",
       "    <tr>\n",
       "      <th>0</th>\n",
       "      <td>4comp_0k</td>\n",
       "      <td>[[19.000019, 0.000000, 0.000000], [0.000000, 1...</td>\n",
       "      <td>114</td>\n",
       "      <td>432</td>\n",
       "      <td>-4605.767404</td>\n",
       "      <td>[1, 1, 1, 1, 1, 1, 1, 1, 1, 1, 1, 1, 1, 1, 1, ...</td>\n",
       "      <td>[[9.500010, 9.500010, 6.333340], [6.333340, 9....</td>\n",
       "      <td>[[-0.510694, 0.122917, 0.072949], [0.003821, 0...</td>\n",
       "    </tr>\n",
       "    <tr>\n",
       "      <th>0</th>\n",
       "      <td>4comp_0k</td>\n",
       "      <td>[[18.578200, 0.007106, -0.044461], [0.007112, ...</td>\n",
       "      <td>115</td>\n",
       "      <td>432</td>\n",
       "      <td>-4656.265863</td>\n",
       "      <td>[0, 0, 0, 0, 0, 0, 0, 0, 0, 0, 0, 0, 0, 0, 0, ...</td>\n",
       "      <td>[[18.529100, 18.567900, 18.384600], [7.794420,...</td>\n",
       "      <td>[[-0.006446, 0.054703, 0.172828], [-0.029112, ...</td>\n",
       "    </tr>\n",
       "    <tr>\n",
       "      <th>0</th>\n",
       "      <td>4comp_0k</td>\n",
       "      <td>[[18.583700, 0.000034, -0.005524], [0.000031, ...</td>\n",
       "      <td>116</td>\n",
       "      <td>432</td>\n",
       "      <td>-4657.052548</td>\n",
       "      <td>[0, 0, 0, 0, 0, 0, 0, 0, 0, 0, 0, 0, 0, 0, 0, ...</td>\n",
       "      <td>[[13.967600, 10.803300, 1.495280], [7.721730, ...</td>\n",
       "      <td>[[-0.046911, 0.231170, 0.199007], [-0.052442, ...</td>\n",
       "    </tr>\n",
       "    <tr>\n",
       "      <th>0</th>\n",
       "      <td>4comp_0k</td>\n",
       "      <td>[[18.509500, -0.035271, 0.001863], [-0.035275,...</td>\n",
       "      <td>117</td>\n",
       "      <td>432</td>\n",
       "      <td>-4641.428585</td>\n",
       "      <td>[0, 0, 0, 0, 0, 0, 0, 0, 0, 0, 0, 0, 0, 0, 0, ...</td>\n",
       "      <td>[[10.770700, 7.703330, 7.987260], [4.639520, 7...</td>\n",
       "      <td>[[0.111748, -0.064748, -0.008068], [0.034885, ...</td>\n",
       "    </tr>\n",
       "    <tr>\n",
       "      <th>0</th>\n",
       "      <td>4comp_0k</td>\n",
       "      <td>[[18.595200, 0.007454, -0.004710], [0.007455, ...</td>\n",
       "      <td>118</td>\n",
       "      <td>432</td>\n",
       "      <td>-4658.409471</td>\n",
       "      <td>[0, 0, 0, 0, 0, 0, 0, 0, 0, 0, 0, 0, 0, 0, 0, ...</td>\n",
       "      <td>[[17.109600, 17.041700, 17.084400], [10.856300...</td>\n",
       "      <td>[[-0.054841, 0.032188, -0.099209], [-0.053512,...</td>\n",
       "    </tr>\n",
       "  </tbody>\n",
       "</table>\n",
       "<p>118 rows × 8 columns</p>\n",
       "</div>"
      ],
      "text/plain": [
       "        Name                                            Lattice  \\\n",
       "0   4comp_0k  [[12.417093, -0.000002, 0.000002], [-0.000002,...   \n",
       "0   4comp_0k  [[12.372950, -0.091678, 0.000003], [-0.091678,...   \n",
       "0   4comp_0k  [[12.385524, 0.023617, -0.005930], [0.023442, ...   \n",
       "0   4comp_0k  [[12.347574, -0.017404, 0.018104], [-0.017464,...   \n",
       "0   4comp_0k  [[12.415658, 0.000000, 0.000002], [0.000000, 1...   \n",
       "..       ...                                                ...   \n",
       "0   4comp_0k  [[19.000019, 0.000000, 0.000000], [0.000000, 1...   \n",
       "0   4comp_0k  [[18.578200, 0.007106, -0.044461], [0.007112, ...   \n",
       "0   4comp_0k  [[18.583700, 0.000034, -0.005524], [0.000031, ...   \n",
       "0   4comp_0k  [[18.509500, -0.035271, 0.001863], [-0.035275,...   \n",
       "0   4comp_0k  [[18.595200, 0.007454, -0.004710], [0.007455, ...   \n",
       "\n",
       "    Configuration  Config. size       Energy  \\\n",
       "0               1           128 -1383.026392   \n",
       "0               2           128 -1377.955951   \n",
       "0               3           128 -1380.740406   \n",
       "0               4           128 -1377.910324   \n",
       "0               5           128 -1383.025328   \n",
       "..            ...           ...          ...   \n",
       "0             114           432 -4605.767404   \n",
       "0             115           432 -4656.265863   \n",
       "0             116           432 -4657.052548   \n",
       "0             117           432 -4641.428585   \n",
       "0             118           432 -4658.409471   \n",
       "\n",
       "                                                 Atom  \\\n",
       "0   [1, 1, 1, 1, 1, 1, 1, 1, 1, 1, 1, 1, 1, 1, 1, ...   \n",
       "0   [1, 1, 1, 1, 1, 1, 1, 1, 1, 1, 1, 1, 1, 1, 1, ...   \n",
       "0   [1, 1, 1, 1, 1, 1, 1, 1, 1, 1, 1, 1, 1, 1, 1, ...   \n",
       "0   [1, 1, 1, 1, 1, 1, 1, 1, 1, 1, 1, 1, 1, 1, 1, ...   \n",
       "0   [1, 1, 1, 1, 1, 1, 1, 1, 1, 1, 1, 1, 1, 1, 1, ...   \n",
       "..                                                ...   \n",
       "0   [1, 1, 1, 1, 1, 1, 1, 1, 1, 1, 1, 1, 1, 1, 1, ...   \n",
       "0   [0, 0, 0, 0, 0, 0, 0, 0, 0, 0, 0, 0, 0, 0, 0, ...   \n",
       "0   [0, 0, 0, 0, 0, 0, 0, 0, 0, 0, 0, 0, 0, 0, 0, ...   \n",
       "0   [0, 0, 0, 0, 0, 0, 0, 0, 0, 0, 0, 0, 0, 0, 0, ...   \n",
       "0   [0, 0, 0, 0, 0, 0, 0, 0, 0, 0, 0, 0, 0, 0, 0, ...   \n",
       "\n",
       "                                             Position  \\\n",
       "0   [[0.000020, 12.417090, 0.193190], [3.104330, 0...   \n",
       "0   [[0.000090, 0.000000, 0.004660], [6.117710, 9....   \n",
       "0   [[10.826210, 7.769670, 1.577610], [3.073840, 3...   \n",
       "0   [[0.053940, 0.034310, 12.388140], [6.176370, 9...   \n",
       "0   [[3.103790, 6.207770, 6.366180], [6.207870, 3....   \n",
       "..                                                ...   \n",
       "0   [[9.500010, 9.500010, 6.333340], [6.333340, 9....   \n",
       "0   [[18.529100, 18.567900, 18.384600], [7.794420,...   \n",
       "0   [[13.967600, 10.803300, 1.495280], [7.721730, ...   \n",
       "0   [[10.770700, 7.703330, 7.987260], [4.639520, 7...   \n",
       "0   [[17.109600, 17.041700, 17.084400], [10.856300...   \n",
       "\n",
       "                                                Force  \n",
       "0   [[0.003742, -0.001385, -0.000639], [-0.003647,...  \n",
       "0   [[-0.001207, 0.001275, 0.001526], [0.000403, -...  \n",
       "0   [[0.002529, -0.000909, -0.004608], [-0.008655,...  \n",
       "0   [[0.000534, 0.001173, 0.002910], [0.001066, 0....  \n",
       "0   [[-0.001545, 0.002482, -0.001277], [0.000657, ...  \n",
       "..                                                ...  \n",
       "0   [[-0.510694, 0.122917, 0.072949], [0.003821, 0...  \n",
       "0   [[-0.006446, 0.054703, 0.172828], [-0.029112, ...  \n",
       "0   [[-0.046911, 0.231170, 0.199007], [-0.052442, ...  \n",
       "0   [[0.111748, -0.064748, -0.008068], [0.034885, ...  \n",
       "0   [[-0.054841, 0.032188, -0.099209], [-0.053512,...  \n",
       "\n",
       "[118 rows x 8 columns]"
      ]
     },
     "execution_count": 47,
     "metadata": {},
     "output_type": "execute_result"
    }
   ],
   "source": [
    "cfg.data"
   ]
  },
  {
   "cell_type": "code",
   "execution_count": null,
   "metadata": {},
   "outputs": [],
   "source": [
    "configs_432=cfg.data.query('`Config. size`==432')"
   ]
  },
  {
   "cell_type": "code",
   "execution_count": null,
   "metadata": {},
   "outputs": [],
   "source": [
    "xyz.write(configs_432)"
   ]
  }
 ],
 "metadata": {
  "kernelspec": {
   "display_name": "mace_env",
   "language": "python",
   "name": "python3"
  },
  "language_info": {
   "codemirror_mode": {
    "name": "ipython",
    "version": 3
   },
   "file_extension": ".py",
   "mimetype": "text/x-python",
   "name": "python",
   "nbconvert_exporter": "python",
   "pygments_lexer": "ipython3",
   "version": "3.9.16"
  }
 },
 "nbformat": 4,
 "nbformat_minor": 2
}
