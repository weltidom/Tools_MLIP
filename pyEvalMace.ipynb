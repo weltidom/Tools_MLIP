{
 "cells": [
  {
   "cell_type": "code",
   "execution_count": 23,
   "metadata": {},
   "outputs": [],
   "source": [
    "import numpy as np\n",
    "import pandas as pd\n",
    "import ase.io as io\n",
    "\n",
    "class Xyz:\n",
    "    def __init__(self, path:str):\n",
    "        self.path = path\n",
    "\n",
    "    def read_eval(self, desc:str=''):\n",
    "        '''Read and parse data from extended XYZ file output from MACE evaluation. Resulting dataframe saved under self.data.'''\n",
    "        atoms_lst = io.read(\n",
    "            self.path,\n",
    "            index=':',\n",
    "            format='extxyz'\n",
    "        )\n",
    "        data_lst = []\n",
    "\n",
    "        for i, atom in enumerate(atoms_lst):\n",
    "            entry_dict = atom.todict()\n",
    "            entry = pd.DataFrame({\n",
    "                    'Type': desc,\n",
    "                    'Name': ''.join(np.unique(atom.get_chemical_symbols())),\n",
    "                    'Lattice': [entry_dict['cell']],\n",
    "                    'Configuration': i+1,\n",
    "                    'Config. size': len(atom.get_positions()),\n",
    "                    'Energy': entry_dict['info']['Energy'],\n",
    "                    'Energy_MACE': entry_dict['info']['MACE_energy'],\n",
    "                    'Atom': [atom.get_chemical_symbols()],\n",
    "                    'Position': [entry_dict['positions']],\n",
    "                    'Force': [entry_dict['forces']],\n",
    "                    'Force_MACE': [entry_dict['MACE_forces']],\n",
    "                    })\n",
    "            data_lst.append(entry)\n",
    "            \n",
    "        self.data = pd.concat(data_lst)\n",
    "\n",
    "    def get_errors(self):\n",
    "        '''Get mean force error (sum over absolute difference in all directions) per configuration.'''\n",
    "        self.data['Delta E'] = abs(self.data['Energy'] - self.data['Energy_MACE'])/self.data['Config. size']\n",
    "        self.data['Delta F'] = abs(self.data['Force'] - self.data['Force_MACE'])\n",
    "        self.data['Delta F sum'] = 0\n",
    "        for run, config, delta_fs, config_size in zip(self.data['Name'],self.data['Configuration'],self.data['Delta F'],self.data['Config. size']):\n",
    "            sums=[]\n",
    "            for delta_f in delta_fs:\n",
    "                sums.append(delta_f.sum()) # delta_f.sum() = sum of forces deviation per atom\n",
    "            #print(sums)\n",
    "            self.data.loc[(self.data['Name']==run) & (self.data['Configuration']==config),['Delta F sum']]=np.sum(sums)/config_size\n",
    "\n",
    "    def get_stats(self, idt:str):\n",
    "        '''Return dataframe containing summary of errors.'''\n",
    "        stats=self.data.groupby(by='Name').mean(['Delta F sum', 'Delta E'])\n",
    "        stats['ID']=idt\n",
    "        return stats"
   ]
  },
  {
   "cell_type": "code",
   "execution_count": 6,
   "metadata": {},
   "outputs": [],
   "source": [
    "#retrieve paths\n",
    "import os\n",
    "folder_path='/Users/dominicwelti/Library/CloudStorage/Dropbox/Master_Thesis/data_npj/mace/results/eval_valid'\n",
    "\n",
    "files=[]\n",
    "for (dirpath, dirnames, filenames) in os.walk(folder_path):\n",
    "    for filename in filenames:\n",
    "        files.append(f'{dirpath}/{filename}')\n",
    "\n",
    "f=filter(lambda x: '.xyz' in x, files)\n",
    "files=list(f)"
   ]
  },
  {
   "cell_type": "code",
   "execution_count": 7,
   "metadata": {},
   "outputs": [],
   "source": [
    "files_sub=list(filter(lambda x: 'eval_valid_' in x, files))"
   ]
  },
  {
   "cell_type": "code",
   "execution_count": 24,
   "metadata": {},
   "outputs": [
    {
     "name": "stdout",
     "output_type": "stream",
     "text": [
      "Parsing eval_valid_8.xyz\n",
      "Parsing eval_valid_9.xyz\n",
      "Parsing eval_valid_1.xyz\n",
      "Parsing eval_valid_0.xyz\n",
      "Parsing eval_valid_2.xyz\n",
      "Parsing eval_valid_3.xyz\n",
      "Parsing eval_valid_7.xyz\n",
      "Parsing eval_valid_6.xyz\n",
      "Parsing eval_valid_4.xyz\n",
      "Parsing eval_valid_5.xyz\n"
     ]
    }
   ],
   "source": [
    "stats_lst=[]\n",
    "for file in files_sub:\n",
    "    print(f'Parsing {file.split(\"/\")[-1]}')\n",
    "    xyz=Xyz(file)\n",
    "    xyz.read_eval()\n",
    "    xyz.get_errors()\n",
    "    stats_lst.append(xyz.get_stats(idt=file.split(\"/\")[-1]))\n",
    "stats=pd.concat(stats_lst)"
   ]
  },
  {
   "cell_type": "code",
   "execution_count": 29,
   "metadata": {},
   "outputs": [
    {
     "name": "stderr",
     "output_type": "stream",
     "text": [
      "/var/folders/22/kgbcd6856bb9_kzpfp_36k600000gn/T/ipykernel_18198/559968580.py:1: FutureWarning: The default value of numeric_only in DataFrameGroupBy.mean is deprecated. In a future version, numeric_only will default to False. Either specify numeric_only or select only columns which should be valid for the function.\n",
      "  results=stats.groupby('Name').mean()\n"
     ]
    }
   ],
   "source": [
    "results=stats.groupby('Name').mean()"
   ]
  }
 ],
 "metadata": {
  "kernelspec": {
   "display_name": "base",
   "language": "python",
   "name": "python3"
  },
  "language_info": {
   "codemirror_mode": {
    "name": "ipython",
    "version": 3
   },
   "file_extension": ".py",
   "mimetype": "text/x-python",
   "name": "python",
   "nbconvert_exporter": "python",
   "pygments_lexer": "ipython3",
   "version": "3.9.16"
  }
 },
 "nbformat": 4,
 "nbformat_minor": 2
}
