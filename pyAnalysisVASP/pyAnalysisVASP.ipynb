{
 "cells": [
  {
   "cell_type": "code",
   "execution_count": 9,
   "metadata": {},
   "outputs": [],
   "source": [
    "import paramiko as pm\n",
    "import socket as socket\n",
    "import numpy as np\n",
    "import os\n",
    "\n",
    "class Server:\n",
    "    def __init__(self, username: str, host: str, home_path_remote: str):\n",
    "        self.host = host\n",
    "        self.user = username\n",
    "        self.home_path = home_path_remote # SFTP home path\n",
    "\n",
    "    def connect(self):\n",
    "        '''Connects to server and returns SFTP and transport objects'''\n",
    "        sock = socket.socket(socket.AF_INET, socket.SOCK_STREAM)\n",
    "        sock.connect((self.host, 22))\n",
    "        ts = pm.Transport(sock)\n",
    "        ts.start_client(timeout=10)\n",
    "        ts.auth_interactive_dumb(self.user)\n",
    "        print(ts)\n",
    "        sftp = pm.SFTPClient.from_transport(ts)\n",
    "        print(sftp)\n",
    "        return sftp, ts\n",
    "    \n",
    "    def list_folders(self, sftp:object):\n",
    "        '''Returns list of folders in SFTP home directory'''\n",
    "        return sftp.listdir(self.home_path)\n",
    "    \n",
    "    def download_folder(self, sftp: object, job_name:str, temp_localfolder):\n",
    "        '''Download all files in job folder to local temporary folder'''\n",
    "        # Source and target folders specification\n",
    "        os.mkdir(f'{temp_localfolder}{job_name}')\n",
    "        source_folder=f'/lustre/home/st/st_us-031400/st_st179390/{job_name}/'\n",
    "        inbound_files=sftp.listdir(source_folder)\n",
    "\n",
    "        # Download all files from that path\n",
    "        for file in inbound_files:\n",
    "            filepath = f'{source_folder}{file}'\n",
    "            localpath = f'{temp_localfolder}{job_name}/{file}'\n",
    "            sftp.get(filepath, localpath)"
   ]
  },
  {
   "cell_type": "code",
   "execution_count": 10,
   "metadata": {},
   "outputs": [],
   "source": [
    "temp_localfolder = '/Users/dominicwelti/Library/CloudStorage/Dropbox/Master_Thesis/VASP_temporary/'\n",
    "#job_name = 'MD_Test01_420eV_3x5x6_bulk_4b'"
   ]
  },
  {
   "cell_type": "code",
   "execution_count": 11,
   "metadata": {},
   "outputs": [
    {
     "name": "stdout",
     "output_type": "stream",
     "text": [
      "Your OTP: Password: <paramiko.Transport at 0x1784ffd0 (cipher aes128-ctr, 128 bits) (active; 0 open channel(s))>\n",
      "<paramiko.sftp_client.SFTPClient object at 0x117d7be80>\n"
     ]
    }
   ],
   "source": [
    "# Initialize Server\n",
    "server = Server('st_st179390','justus2.uni-ulm.de', '/lustre/home/st/st_us-031400/st_st179390/')\n",
    "sftp, ts = server.connect()"
   ]
  },
  {
   "cell_type": "code",
   "execution_count": 12,
   "metadata": {},
   "outputs": [],
   "source": [
    "# List directories\n",
    "jobs = server.list_folders(sftp)"
   ]
  },
  {
   "cell_type": "code",
   "execution_count": 13,
   "metadata": {},
   "outputs": [
    {
     "data": {
      "text/plain": [
       "['.bashrc',\n",
       " 'bulk_LPS_mesh_LREAL_6x10x12_500eV',\n",
       " '.bash_profile',\n",
       " 'bulk_LPS_mesh_LREAL_2x2x4_500eV',\n",
       " 'bulk_LPS_mesh_6x8x13_500eV',\n",
       " 'bulk_LPS_6x10x12_500eV',\n",
       " 'bulk_LPS_mesh_6x6x6_500eV',\n",
       " 'bulk_LPS_6x10x12_340eV',\n",
       " 'bulk_LPS_mesh_LREAL_8x10x14_500eV',\n",
       " 'bulk_LPS_mesh_4x4x4_500eV',\n",
       " 'bulk_LPS_mesh_LREAL_7x9x15_500eV',\n",
       " 'bulk_LPS_mesh_1x1x1_500eV',\n",
       " 'bulk_LPS_mesh_LREAL_4x4x4_500eV',\n",
       " 'test_LH5',\n",
       " 'bulk_LPS_LREAL_auto_mesh_1x1x1_500eV',\n",
       " 'bulk_LPS_12_x_10_x_6_280eV_Ex_4b',\n",
       " 'MD_Test_TEBEG_1200k_3x5x6_460eV_bulk_4b',\n",
       " 'bulk_LPS_mesh_5x7x11_500eV',\n",
       " 'codes',\n",
       " 'bulk_LPS_6x10x12_620eV',\n",
       " 'bulk_LPS_mesh_LREAL_1x2x2_500eV',\n",
       " 'bulk_LPS_6x10x12_740eV',\n",
       " 'batch_scripts',\n",
       " 'bulk_LPS_mesh_1x2x2_500eV',\n",
       " 'bulk_LPS_6x10x12_700eV',\n",
       " 'bulk_LPS_12_x_10_x_6_280eV_Ex_4c',\n",
       " 'bulk_LPS_LREAL_auto_mesh_2x2x4_500eV',\n",
       " 'bulk_LPS_6x10x12_100eV',\n",
       " 'bulk_LPS_mesh_LREAL_8x8x8_500eV',\n",
       " 'MD_Test_PMASS_500amu_3x5x6_460eV_bulk_4b',\n",
       " 'bulk_LPS_mesh_8x8x8_500eV',\n",
       " 'bulk_LPS_mesh_4x5x8_500eV',\n",
       " 'bulk_LPS_mesh_7x9x15_500eV',\n",
       " 'MD_Test_PMASS_1250amu_3x5x6_460eV_bulk_4b',\n",
       " 'MD_Test_TEBEG_1300k_3x5x6_460eV_bulk_4b',\n",
       " 'bulk_LPS_mesh_3x5x6_500eV',\n",
       " 'bulk_LPS_6x10x12_140eV',\n",
       " 'bulk_LPS_6x10x12_660eV',\n",
       " 'MD_Test_PMASS_1500amu_3x5x6_460eV_bulk_4b',\n",
       " '.bash_logout',\n",
       " 'Test_01',\n",
       " '.oh-my-zsh',\n",
       " 'bulk_LPS_mesh_LREAL_3x4x6_500eV',\n",
       " 'MD_Test_PMASS_1000amu_3x5x6_460eV_bulk_4b',\n",
       " 'bulk_LPS_6_x_10_x_12_280eV_GW',\n",
       " 'bulk_LPS_6x10x12_220eV',\n",
       " 'bulk_LPS_6_x_10_x_12_280eV',\n",
       " 'bulk_LPS_6x10x12_300eV',\n",
       " 'bulk_LPS_mesh_8x10x14_500eV',\n",
       " 'bulk_LPS_mesh_LREAL_3x5x6_500eV',\n",
       " '.ssh',\n",
       " '.emacs',\n",
       " 'bulk_LPS_6x10x12_420eV',\n",
       " 'bulk_LPS_LREAL_auto_mesh_3x4x6_500eV',\n",
       " 'MD_Test_TEBEG_1100k_3x5x6_460eV_bulk_4b',\n",
       " 'bulk_LPS_mesh_LREAL_2x2x2_500eV',\n",
       " 'mypps',\n",
       " 'bulk_LPS_LREAL_auto_mesh_2x2x2_500eV',\n",
       " 'bulk_LPS_mesh_LREAL_6x8x13_500eV',\n",
       " 'bulk_LPS_6x10x12_260eV',\n",
       " 'MD_Test01_420eV_3x5x6_bulk_4b',\n",
       " 'bulk_LPS_6x10x12_180eV',\n",
       " 'bulk_LPS_LREAL_auto_mesh_1x2x2_500eV',\n",
       " 'bulk_LPS_mesh_2x2x4_500eV',\n",
       " '.bash_history',\n",
       " 'bulk_LPS_6x10x12_380eV',\n",
       " 'bulk_LPS_6_x_10_x_12_280eV_new_structure',\n",
       " 'bulk_LPS_mesh_6x10x12_500eV',\n",
       " 'bulk_LPS_mesh_LREAL_4x5x8_500eV',\n",
       " 'bulk_LPS_6x10x12_460eV',\n",
       " 'MD_Test_PMASS_750amu_3x5x6_460eV_bulk_4b',\n",
       " 'bulk_LPS_mesh_3x4x6_500eV',\n",
       " 'bulk_LPS_6x10x12_580eV',\n",
       " 'bulk_LPS_mesh_LREAL_6x6x6_500eV',\n",
       " 'MD_Test01_420eV_3x5x6_bulk_4b_H5',\n",
       " '.viminfo',\n",
       " 'bulk_LPS_mesh_2x2x2_500eV',\n",
       " 'bulk_LPS_6x10x12_540eV',\n",
       " 'bulk_LPS_mesh_LREAL_1x1x1_500eV',\n",
       " 'bulk_LPS_mesh_LREAL_5x7x11_500eV',\n",
       " 'MD_Test_TEBEG_900k_3x5x6_460eV_bulk_4b',\n",
       " 'bulk_LPS_LREAL_auto_mesh_3x5x6_500eV']"
      ]
     },
     "execution_count": 13,
     "metadata": {},
     "output_type": "execute_result"
    }
   ],
   "source": [
    "jobs"
   ]
  },
  {
   "cell_type": "code",
   "execution_count": 14,
   "metadata": {},
   "outputs": [],
   "source": [
    "# filter jobs\n",
    "jobs = list(filter(lambda x: x.startswith('MD_Test_TEBEG'),jobs))\n",
    "n_jobs = len(jobs)"
   ]
  },
  {
   "cell_type": "code",
   "execution_count": 517,
   "metadata": {},
   "outputs": [],
   "source": [
    "# filter jobs (convergence testing)\n",
    "jobs_filtered = []\n",
    "\n",
    "for job in jobs:\n",
    "    if 'bulk_LPS_mesh' in job or 'bulk_LPS_LREAL' in job:\n",
    "        jobs_filtered.append(job)"
   ]
  },
  {
   "cell_type": "code",
   "execution_count": 519,
   "metadata": {},
   "outputs": [],
   "source": [
    "jobs = jobs_filtered\n",
    "n_jobs = len(jobs)"
   ]
  },
  {
   "cell_type": "code",
   "execution_count": 15,
   "metadata": {},
   "outputs": [],
   "source": [
    "# Download files\n",
    "for job in jobs:\n",
    "    server.download_folder(sftp, job, temp_localfolder)"
   ]
  },
  {
   "cell_type": "code",
   "execution_count": 16,
   "metadata": {},
   "outputs": [],
   "source": [
    "# Terminate connection\n",
    "if sftp: sftp.close()\n",
    "if ts.active: ts.close()"
   ]
  },
  {
   "cell_type": "code",
   "execution_count": 23,
   "metadata": {},
   "outputs": [],
   "source": [
    "# !Requires H5 output file!\n",
    "#import py4vasp\n",
    "\n",
    "#calc = py4vasp.Calculation.from_path(f'{temp_localfolder}{job_name}')\n",
    "#dos = calc.dos.read()"
   ]
  },
  {
   "cell_type": "code",
   "execution_count": 508,
   "metadata": {},
   "outputs": [],
   "source": [
    "import os\n",
    "jobs = os.listdir(temp_localfolder)\n",
    "#n_jobs = len(jobs)"
   ]
  },
  {
   "cell_type": "code",
   "execution_count": 520,
   "metadata": {},
   "outputs": [],
   "source": [
    "import pandas as pd\n",
    "\n",
    "entries = n_jobs*[0]\n",
    "\n",
    "results = pd.DataFrame(\n",
    "    {   \n",
    "        'Job name': entries,\n",
    "        'k-points': entries,\n",
    "        '# k-points': entries,\n",
    "        'Energy cutoff [eV]': entries,\n",
    "        'Lattice parameter a': entries,\n",
    "        'Lattice parameter b': entries,\n",
    "        'Lattice parameter c': entries,\n",
    "        'Band gap [eV]': entries,\n",
    "        'Final energy [eV]': entries,\n",
    "        'CPU time [s]': entries\n",
    "    }\n",
    ")"
   ]
  },
  {
   "cell_type": "code",
   "execution_count": 521,
   "metadata": {},
   "outputs": [
    {
     "name": "stdout",
     "output_type": "stream",
     "text": [
      "Parsing bulk_LPS_mesh_4x4x4_500eV\n"
     ]
    },
    {
     "name": "stderr",
     "output_type": "stream",
     "text": [
      "/Users/dominicwelti/opt/anaconda3/lib/python3.9/site-packages/pymatgen/io/vasp/inputs.py:1837: UserWarning:\n",
      "\n",
      "POTCAR with symbol Li and functional\n",
      "PBE has a SHA256 hash defined,\n",
      "but the computed hash differs.\n",
      "YOUR POTCAR FILE HAS BEEN CORRUPTED AND SHOULD NOT BE USED!\n",
      "\n",
      "/Users/dominicwelti/opt/anaconda3/lib/python3.9/site-packages/pymatgen/io/vasp/inputs.py:1837: UserWarning:\n",
      "\n",
      "POTCAR with symbol P and functional\n",
      "PBE has a SHA256 hash defined,\n",
      "but the computed hash differs.\n",
      "YOUR POTCAR FILE HAS BEEN CORRUPTED AND SHOULD NOT BE USED!\n",
      "\n",
      "/Users/dominicwelti/opt/anaconda3/lib/python3.9/site-packages/pymatgen/io/vasp/inputs.py:1837: UserWarning:\n",
      "\n",
      "POTCAR with symbol S and functional\n",
      "PBE has a SHA256 hash defined,\n",
      "but the computed hash differs.\n",
      "YOUR POTCAR FILE HAS BEEN CORRUPTED AND SHOULD NOT BE USED!\n",
      "\n"
     ]
    },
    {
     "name": "stdout",
     "output_type": "stream",
     "text": [
      "Parsing bulk_LPS_mesh_8x10x14_500eV\n"
     ]
    },
    {
     "name": "stderr",
     "output_type": "stream",
     "text": [
      "/Users/dominicwelti/opt/anaconda3/lib/python3.9/site-packages/pymatgen/io/vasp/inputs.py:1837: UserWarning:\n",
      "\n",
      "POTCAR with symbol Li and functional\n",
      "PBE has a SHA256 hash defined,\n",
      "but the computed hash differs.\n",
      "YOUR POTCAR FILE HAS BEEN CORRUPTED AND SHOULD NOT BE USED!\n",
      "\n",
      "/Users/dominicwelti/opt/anaconda3/lib/python3.9/site-packages/pymatgen/io/vasp/inputs.py:1837: UserWarning:\n",
      "\n",
      "POTCAR with symbol P and functional\n",
      "PBE has a SHA256 hash defined,\n",
      "but the computed hash differs.\n",
      "YOUR POTCAR FILE HAS BEEN CORRUPTED AND SHOULD NOT BE USED!\n",
      "\n",
      "/Users/dominicwelti/opt/anaconda3/lib/python3.9/site-packages/pymatgen/io/vasp/inputs.py:1837: UserWarning:\n",
      "\n",
      "POTCAR with symbol S and functional\n",
      "PBE has a SHA256 hash defined,\n",
      "but the computed hash differs.\n",
      "YOUR POTCAR FILE HAS BEEN CORRUPTED AND SHOULD NOT BE USED!\n",
      "\n"
     ]
    },
    {
     "name": "stdout",
     "output_type": "stream",
     "text": [
      "Parsing bulk_LPS_LREAL_auto_mesh_2x2x2_500eV\n",
      "Parsing bulk_LPS_mesh_LREAL_2x2x2_500eV\n",
      "Parsing bulk_LPS_mesh_LREAL_6x10x12_500eV\n",
      "Parsing bulk_LPS_mesh_7x9x15_500eV\n",
      "Parsing bulk_LPS_mesh_LREAL_7x9x15_500eV\n",
      "Parsing bulk_LPS_LREAL_auto_mesh_2x2x4_500eV\n",
      "Parsing bulk_LPS_mesh_LREAL_2x2x4_500eV\n",
      "Parsing bulk_LPS_mesh_8x8x8_500eV\n",
      "Parsing bulk_LPS_mesh_3x5x6_500eV\n",
      "Parsing bulk_LPS_mesh_LREAL_6x6x6_500eV\n",
      "Parsing bulk_LPS_mesh_LREAL_4x5x8_500eV\n",
      "Parsing bulk_LPS_mesh_1x2x2_500eV\n",
      "Parsing bulk_LPS_mesh_1x1x1_500eV\n",
      "Parsing bulk_LPS_mesh_3x4x6_500eV\n",
      "Parsing bulk_LPS_mesh_2x2x4_500eV\n",
      "Parsing bulk_LPS_mesh_LREAL_5x7x11_500eV\n",
      "Parsing bulk_LPS_mesh_6x8x13_500eV\n",
      "Parsing bulk_LPS_mesh_5x7x11_500eV\n",
      "Parsing bulk_LPS_mesh_2x2x2_500eV\n",
      "Parsing bulk_LPS_mesh_LREAL_6x8x13_500eV\n",
      "Parsing bulk_LPS_mesh_LREAL_4x4x4_500eV\n",
      "Parsing bulk_LPS_mesh_LREAL_1x2x2_500eV\n",
      "Parsing bulk_LPS_LREAL_auto_mesh_1x2x2_500eV\n",
      "Parsing bulk_LPS_mesh_4x5x8_500eV\n",
      "Parsing bulk_LPS_mesh_6x10x12_500eV\n",
      "Parsing bulk_LPS_mesh_LREAL_8x10x14_500eV\n",
      "Parsing bulk_LPS_mesh_LREAL_1x1x1_500eV\n",
      "Parsing bulk_LPS_mesh_LREAL_3x4x6_500eV\n",
      "Parsing bulk_LPS_LREAL_auto_mesh_3x4x6_500eV\n",
      "Parsing bulk_LPS_LREAL_auto_mesh_1x1x1_500eV\n",
      "Parsing bulk_LPS_mesh_LREAL_8x8x8_500eV\n",
      "Parsing bulk_LPS_mesh_LREAL_3x5x6_500eV\n",
      "Parsing bulk_LPS_LREAL_auto_mesh_3x5x6_500eV\n",
      "Parsing bulk_LPS_mesh_6x6x6_500eV\n"
     ]
    }
   ],
   "source": [
    "from pymatgen.io import vasp\n",
    "\n",
    "for i, job in enumerate(jobs):\n",
    "    print(f'Parsing {job}')\n",
    "    run = vasp.Vasprun(f'{temp_localfolder}{job}/vasprun.xml')\n",
    "    outcar = vasp.Outcar(f'{temp_localfolder}{job}/OUTCAR')\n",
    "    \n",
    "    results.loc[i, 'Job name'] = job\n",
    "    results.loc[i, 'k-points'] = str(run.kpoints.kpts[0]).replace(', ', 'x').strip('[](),')\n",
    "    results.loc[i, '# k-points'] = len(run.actual_kpoints),\n",
    "    results.loc[i, 'Energy cutoff [eV]'] = run.incar['ENCUT'],\n",
    "    results.loc[i, 'Final energy [eV]'] = run.final_energy/len(run.atomic_symbols),\n",
    "    results.loc[i, 'Band gap [eV]'] = run.eigenvalue_band_properties[0],\n",
    "    results.loc[i, 'Lattice parameter a'] = run.final_structure.lattice.abc[0],\n",
    "    results.loc[i, 'Lattice parameter b'] = run.final_structure.lattice.abc[1],\n",
    "    results.loc[i, 'Lattice parameter c'] = run.final_structure.lattice.abc[2],\n",
    "    results.loc[i, 'CPU time [min]'] = outcar.run_stats['Total CPU time used (sec)']/60"
   ]
  },
  {
   "cell_type": "code",
   "execution_count": 478,
   "metadata": {},
   "outputs": [],
   "source": [
    "# sort values\n",
    "results = results.sort_values('Energy cutoff [eV]').reset_index(drop=True)"
   ]
  },
  {
   "cell_type": "code",
   "execution_count": 406,
   "metadata": {},
   "outputs": [],
   "source": [
    "results['Change to previous value [eV]'] = 0\n",
    "\n",
    "for i, job in enumerate(results['Job name']):\n",
    "    if i==0:\n",
    "        results.loc[i, 'Change to previous value [eV]'] = None\n",
    "    else:\n",
    "        results.loc[i, 'Change to previous value [eV]'] = abs(results.loc[i, 'Final energy [eV]'] - results.loc[i-1, 'Final energy [eV]'])"
   ]
  },
  {
   "cell_type": "code",
   "execution_count": 479,
   "metadata": {},
   "outputs": [],
   "source": [
    "max_value = float(results.tail(1)['Final energy [eV]'])"
   ]
  },
  {
   "cell_type": "code",
   "execution_count": 451,
   "metadata": {},
   "outputs": [
    {
     "data": {
      "application/vnd.plotly.v1+json": {
       "config": {
        "plotlyServerURL": "https://plot.ly"
       },
       "data": [
        {
         "showlegend": false,
         "type": "scatter",
         "x": [
          500,
          500,
          500,
          500,
          500,
          500,
          500,
          500,
          500,
          500,
          500,
          500,
          500,
          500,
          500,
          500,
          500,
          500,
          500,
          500,
          500,
          500
         ],
         "xaxis": "x",
         "y": [
          -4.387856248125,
          -4.3878554375,
          -4.39266866625,
          -4.392669088125,
          -4.392661638125,
          -4.3878496971875,
          -4.3926615140625,
          -4.387849186875,
          -4.392665060625,
          -4.3878509621875,
          -4.3878505825,
          -4.3926644709375,
          -4.392663736875,
          -4.38785043625,
          -4.39266408625,
          -4.3878507715625,
          -4.3878505734375,
          -4.3926639096875,
          -4.3878504234375,
          -4.3926637646875,
          -4.3878501371875,
          -4.392663449375
         ],
         "yaxis": "y"
        },
        {
         "showlegend": false,
         "type": "scatter",
         "x": [
          500,
          500,
          500,
          500,
          500,
          500,
          500,
          500,
          500,
          500,
          500,
          500,
          500,
          500,
          500,
          500,
          500,
          500,
          500,
          500,
          500,
          500
         ],
         "xaxis": "x2",
         "y": [
          null,
          8.106250000139426e-7,
          0.004813228749999787,
          4.2187500071122486e-7,
          0.000007450000000019941,
          0.004811940937500481,
          0.004811816874999764,
          0.0048123271874995766,
          0.004815873750000144,
          0.004814098437500469,
          3.796875001071953e-7,
          0.004813888437499969,
          7.340624996743372e-7,
          0.004813300624999961,
          0.004813650000000003,
          0.00481331468749957,
          1.9812499996163524e-7,
          0.0048133362499998,
          0.004813486249999777,
          0.0048133412499993256,
          0.004813627499999917,
          0.004813312187500252
         ],
         "yaxis": "y2"
        },
        {
         "showlegend": false,
         "type": "scatter",
         "x": [
          500,
          500,
          500,
          500,
          500,
          500,
          500,
          500,
          500,
          500,
          500,
          500,
          500,
          500,
          500,
          500,
          500,
          500,
          500,
          500,
          500,
          500
         ],
         "xaxis": "x3",
         "y": [
          13.387483333333334,
          13.460033333333334,
          18.76815,
          19.253933333333336,
          20.87458333333333,
          13.989533333333332,
          33.45036666666667,
          21.501133333333332,
          49.37175,
          27.90056666666667,
          31.1123,
          50.709783333333334,
          88.61996666666667,
          53.3483,
          99.72311666666666,
          59.73093333333334,
          67.60253333333334,
          113.95554999999999,
          71.23615,
          120.59726666666667,
          101.04768333333332,
          169.91905
         ],
         "yaxis": "y3"
        }
       ],
       "layout": {
        "annotations": [
         {
          "showarrow": false,
          "text": "1 meV range",
          "x": 0,
          "xanchor": "left",
          "xref": "x domain",
          "y": -4.391663449375,
          "yanchor": "top",
          "yref": "y"
         },
         {
          "showarrow": false,
          "text": "1 meV range",
          "x": 0,
          "xanchor": "left",
          "xref": "x2 domain",
          "y": 0.001,
          "yanchor": "top",
          "yref": "y2"
         }
        ],
        "shapes": [
         {
          "fillcolor": "yellow",
          "line": {
           "width": 0
          },
          "opacity": 0.2,
          "type": "rect",
          "x0": 0,
          "x1": 1,
          "xref": "x domain",
          "y0": -4.393663449375,
          "y1": -4.391663449375,
          "yref": "y"
         },
         {
          "fillcolor": "yellow",
          "line": {
           "width": 0
          },
          "opacity": 0.2,
          "type": "rect",
          "x0": 0,
          "x1": 1,
          "xref": "x2 domain",
          "y0": -0.001,
          "y1": 0.001,
          "yref": "y2"
         }
        ],
        "template": {
         "data": {
          "bar": [
           {
            "error_x": {
             "color": "#2a3f5f"
            },
            "error_y": {
             "color": "#2a3f5f"
            },
            "marker": {
             "line": {
              "color": "#E5ECF6",
              "width": 0.5
             },
             "pattern": {
              "fillmode": "overlay",
              "size": 10,
              "solidity": 0.2
             }
            },
            "type": "bar"
           }
          ],
          "barpolar": [
           {
            "marker": {
             "line": {
              "color": "#E5ECF6",
              "width": 0.5
             },
             "pattern": {
              "fillmode": "overlay",
              "size": 10,
              "solidity": 0.2
             }
            },
            "type": "barpolar"
           }
          ],
          "carpet": [
           {
            "aaxis": {
             "endlinecolor": "#2a3f5f",
             "gridcolor": "white",
             "linecolor": "white",
             "minorgridcolor": "white",
             "startlinecolor": "#2a3f5f"
            },
            "baxis": {
             "endlinecolor": "#2a3f5f",
             "gridcolor": "white",
             "linecolor": "white",
             "minorgridcolor": "white",
             "startlinecolor": "#2a3f5f"
            },
            "type": "carpet"
           }
          ],
          "choropleth": [
           {
            "colorbar": {
             "outlinewidth": 0,
             "ticks": ""
            },
            "type": "choropleth"
           }
          ],
          "contour": [
           {
            "colorbar": {
             "outlinewidth": 0,
             "ticks": ""
            },
            "colorscale": [
             [
              0,
              "#0d0887"
             ],
             [
              0.1111111111111111,
              "#46039f"
             ],
             [
              0.2222222222222222,
              "#7201a8"
             ],
             [
              0.3333333333333333,
              "#9c179e"
             ],
             [
              0.4444444444444444,
              "#bd3786"
             ],
             [
              0.5555555555555556,
              "#d8576b"
             ],
             [
              0.6666666666666666,
              "#ed7953"
             ],
             [
              0.7777777777777778,
              "#fb9f3a"
             ],
             [
              0.8888888888888888,
              "#fdca26"
             ],
             [
              1,
              "#f0f921"
             ]
            ],
            "type": "contour"
           }
          ],
          "contourcarpet": [
           {
            "colorbar": {
             "outlinewidth": 0,
             "ticks": ""
            },
            "type": "contourcarpet"
           }
          ],
          "heatmap": [
           {
            "colorbar": {
             "outlinewidth": 0,
             "ticks": ""
            },
            "colorscale": [
             [
              0,
              "#0d0887"
             ],
             [
              0.1111111111111111,
              "#46039f"
             ],
             [
              0.2222222222222222,
              "#7201a8"
             ],
             [
              0.3333333333333333,
              "#9c179e"
             ],
             [
              0.4444444444444444,
              "#bd3786"
             ],
             [
              0.5555555555555556,
              "#d8576b"
             ],
             [
              0.6666666666666666,
              "#ed7953"
             ],
             [
              0.7777777777777778,
              "#fb9f3a"
             ],
             [
              0.8888888888888888,
              "#fdca26"
             ],
             [
              1,
              "#f0f921"
             ]
            ],
            "type": "heatmap"
           }
          ],
          "heatmapgl": [
           {
            "colorbar": {
             "outlinewidth": 0,
             "ticks": ""
            },
            "colorscale": [
             [
              0,
              "#0d0887"
             ],
             [
              0.1111111111111111,
              "#46039f"
             ],
             [
              0.2222222222222222,
              "#7201a8"
             ],
             [
              0.3333333333333333,
              "#9c179e"
             ],
             [
              0.4444444444444444,
              "#bd3786"
             ],
             [
              0.5555555555555556,
              "#d8576b"
             ],
             [
              0.6666666666666666,
              "#ed7953"
             ],
             [
              0.7777777777777778,
              "#fb9f3a"
             ],
             [
              0.8888888888888888,
              "#fdca26"
             ],
             [
              1,
              "#f0f921"
             ]
            ],
            "type": "heatmapgl"
           }
          ],
          "histogram": [
           {
            "marker": {
             "pattern": {
              "fillmode": "overlay",
              "size": 10,
              "solidity": 0.2
             }
            },
            "type": "histogram"
           }
          ],
          "histogram2d": [
           {
            "colorbar": {
             "outlinewidth": 0,
             "ticks": ""
            },
            "colorscale": [
             [
              0,
              "#0d0887"
             ],
             [
              0.1111111111111111,
              "#46039f"
             ],
             [
              0.2222222222222222,
              "#7201a8"
             ],
             [
              0.3333333333333333,
              "#9c179e"
             ],
             [
              0.4444444444444444,
              "#bd3786"
             ],
             [
              0.5555555555555556,
              "#d8576b"
             ],
             [
              0.6666666666666666,
              "#ed7953"
             ],
             [
              0.7777777777777778,
              "#fb9f3a"
             ],
             [
              0.8888888888888888,
              "#fdca26"
             ],
             [
              1,
              "#f0f921"
             ]
            ],
            "type": "histogram2d"
           }
          ],
          "histogram2dcontour": [
           {
            "colorbar": {
             "outlinewidth": 0,
             "ticks": ""
            },
            "colorscale": [
             [
              0,
              "#0d0887"
             ],
             [
              0.1111111111111111,
              "#46039f"
             ],
             [
              0.2222222222222222,
              "#7201a8"
             ],
             [
              0.3333333333333333,
              "#9c179e"
             ],
             [
              0.4444444444444444,
              "#bd3786"
             ],
             [
              0.5555555555555556,
              "#d8576b"
             ],
             [
              0.6666666666666666,
              "#ed7953"
             ],
             [
              0.7777777777777778,
              "#fb9f3a"
             ],
             [
              0.8888888888888888,
              "#fdca26"
             ],
             [
              1,
              "#f0f921"
             ]
            ],
            "type": "histogram2dcontour"
           }
          ],
          "mesh3d": [
           {
            "colorbar": {
             "outlinewidth": 0,
             "ticks": ""
            },
            "type": "mesh3d"
           }
          ],
          "parcoords": [
           {
            "line": {
             "colorbar": {
              "outlinewidth": 0,
              "ticks": ""
             }
            },
            "type": "parcoords"
           }
          ],
          "pie": [
           {
            "automargin": true,
            "type": "pie"
           }
          ],
          "scatter": [
           {
            "fillpattern": {
             "fillmode": "overlay",
             "size": 10,
             "solidity": 0.2
            },
            "type": "scatter"
           }
          ],
          "scatter3d": [
           {
            "line": {
             "colorbar": {
              "outlinewidth": 0,
              "ticks": ""
             }
            },
            "marker": {
             "colorbar": {
              "outlinewidth": 0,
              "ticks": ""
             }
            },
            "type": "scatter3d"
           }
          ],
          "scattercarpet": [
           {
            "marker": {
             "colorbar": {
              "outlinewidth": 0,
              "ticks": ""
             }
            },
            "type": "scattercarpet"
           }
          ],
          "scattergeo": [
           {
            "marker": {
             "colorbar": {
              "outlinewidth": 0,
              "ticks": ""
             }
            },
            "type": "scattergeo"
           }
          ],
          "scattergl": [
           {
            "marker": {
             "colorbar": {
              "outlinewidth": 0,
              "ticks": ""
             }
            },
            "type": "scattergl"
           }
          ],
          "scattermapbox": [
           {
            "marker": {
             "colorbar": {
              "outlinewidth": 0,
              "ticks": ""
             }
            },
            "type": "scattermapbox"
           }
          ],
          "scatterpolar": [
           {
            "marker": {
             "colorbar": {
              "outlinewidth": 0,
              "ticks": ""
             }
            },
            "type": "scatterpolar"
           }
          ],
          "scatterpolargl": [
           {
            "marker": {
             "colorbar": {
              "outlinewidth": 0,
              "ticks": ""
             }
            },
            "type": "scatterpolargl"
           }
          ],
          "scatterternary": [
           {
            "marker": {
             "colorbar": {
              "outlinewidth": 0,
              "ticks": ""
             }
            },
            "type": "scatterternary"
           }
          ],
          "surface": [
           {
            "colorbar": {
             "outlinewidth": 0,
             "ticks": ""
            },
            "colorscale": [
             [
              0,
              "#0d0887"
             ],
             [
              0.1111111111111111,
              "#46039f"
             ],
             [
              0.2222222222222222,
              "#7201a8"
             ],
             [
              0.3333333333333333,
              "#9c179e"
             ],
             [
              0.4444444444444444,
              "#bd3786"
             ],
             [
              0.5555555555555556,
              "#d8576b"
             ],
             [
              0.6666666666666666,
              "#ed7953"
             ],
             [
              0.7777777777777778,
              "#fb9f3a"
             ],
             [
              0.8888888888888888,
              "#fdca26"
             ],
             [
              1,
              "#f0f921"
             ]
            ],
            "type": "surface"
           }
          ],
          "table": [
           {
            "cells": {
             "fill": {
              "color": "#EBF0F8"
             },
             "line": {
              "color": "white"
             }
            },
            "header": {
             "fill": {
              "color": "#C8D4E3"
             },
             "line": {
              "color": "white"
             }
            },
            "type": "table"
           }
          ]
         },
         "layout": {
          "annotationdefaults": {
           "arrowcolor": "#2a3f5f",
           "arrowhead": 0,
           "arrowwidth": 1
          },
          "autotypenumbers": "strict",
          "coloraxis": {
           "colorbar": {
            "outlinewidth": 0,
            "ticks": ""
           }
          },
          "colorscale": {
           "diverging": [
            [
             0,
             "#8e0152"
            ],
            [
             0.1,
             "#c51b7d"
            ],
            [
             0.2,
             "#de77ae"
            ],
            [
             0.3,
             "#f1b6da"
            ],
            [
             0.4,
             "#fde0ef"
            ],
            [
             0.5,
             "#f7f7f7"
            ],
            [
             0.6,
             "#e6f5d0"
            ],
            [
             0.7,
             "#b8e186"
            ],
            [
             0.8,
             "#7fbc41"
            ],
            [
             0.9,
             "#4d9221"
            ],
            [
             1,
             "#276419"
            ]
           ],
           "sequential": [
            [
             0,
             "#0d0887"
            ],
            [
             0.1111111111111111,
             "#46039f"
            ],
            [
             0.2222222222222222,
             "#7201a8"
            ],
            [
             0.3333333333333333,
             "#9c179e"
            ],
            [
             0.4444444444444444,
             "#bd3786"
            ],
            [
             0.5555555555555556,
             "#d8576b"
            ],
            [
             0.6666666666666666,
             "#ed7953"
            ],
            [
             0.7777777777777778,
             "#fb9f3a"
            ],
            [
             0.8888888888888888,
             "#fdca26"
            ],
            [
             1,
             "#f0f921"
            ]
           ],
           "sequentialminus": [
            [
             0,
             "#0d0887"
            ],
            [
             0.1111111111111111,
             "#46039f"
            ],
            [
             0.2222222222222222,
             "#7201a8"
            ],
            [
             0.3333333333333333,
             "#9c179e"
            ],
            [
             0.4444444444444444,
             "#bd3786"
            ],
            [
             0.5555555555555556,
             "#d8576b"
            ],
            [
             0.6666666666666666,
             "#ed7953"
            ],
            [
             0.7777777777777778,
             "#fb9f3a"
            ],
            [
             0.8888888888888888,
             "#fdca26"
            ],
            [
             1,
             "#f0f921"
            ]
           ]
          },
          "colorway": [
           "#636efa",
           "#EF553B",
           "#00cc96",
           "#ab63fa",
           "#FFA15A",
           "#19d3f3",
           "#FF6692",
           "#B6E880",
           "#FF97FF",
           "#FECB52"
          ],
          "font": {
           "color": "#2a3f5f"
          },
          "geo": {
           "bgcolor": "white",
           "lakecolor": "white",
           "landcolor": "#E5ECF6",
           "showlakes": true,
           "showland": true,
           "subunitcolor": "white"
          },
          "hoverlabel": {
           "align": "left"
          },
          "hovermode": "closest",
          "mapbox": {
           "style": "light"
          },
          "paper_bgcolor": "white",
          "plot_bgcolor": "#E5ECF6",
          "polar": {
           "angularaxis": {
            "gridcolor": "white",
            "linecolor": "white",
            "ticks": ""
           },
           "bgcolor": "#E5ECF6",
           "radialaxis": {
            "gridcolor": "white",
            "linecolor": "white",
            "ticks": ""
           }
          },
          "scene": {
           "xaxis": {
            "backgroundcolor": "#E5ECF6",
            "gridcolor": "white",
            "gridwidth": 2,
            "linecolor": "white",
            "showbackground": true,
            "ticks": "",
            "zerolinecolor": "white"
           },
           "yaxis": {
            "backgroundcolor": "#E5ECF6",
            "gridcolor": "white",
            "gridwidth": 2,
            "linecolor": "white",
            "showbackground": true,
            "ticks": "",
            "zerolinecolor": "white"
           },
           "zaxis": {
            "backgroundcolor": "#E5ECF6",
            "gridcolor": "white",
            "gridwidth": 2,
            "linecolor": "white",
            "showbackground": true,
            "ticks": "",
            "zerolinecolor": "white"
           }
          },
          "shapedefaults": {
           "line": {
            "color": "#2a3f5f"
           }
          },
          "ternary": {
           "aaxis": {
            "gridcolor": "white",
            "linecolor": "white",
            "ticks": ""
           },
           "baxis": {
            "gridcolor": "white",
            "linecolor": "white",
            "ticks": ""
           },
           "bgcolor": "#E5ECF6",
           "caxis": {
            "gridcolor": "white",
            "linecolor": "white",
            "ticks": ""
           }
          },
          "title": {
           "x": 0.05
          },
          "xaxis": {
           "automargin": true,
           "gridcolor": "white",
           "linecolor": "white",
           "ticks": "",
           "title": {
            "standoff": 15
           },
           "zerolinecolor": "white",
           "zerolinewidth": 2
          },
          "yaxis": {
           "automargin": true,
           "gridcolor": "white",
           "linecolor": "white",
           "ticks": "",
           "title": {
            "standoff": 15
           },
           "zerolinecolor": "white",
           "zerolinewidth": 2
          }
         }
        },
        "title": {
         "text": "Convergence test - Energy cutoff"
        },
        "xaxis": {
         "anchor": "y",
         "domain": [
          0,
          1
         ],
         "matches": "x3",
         "showticklabels": false
        },
        "xaxis2": {
         "anchor": "y2",
         "domain": [
          0,
          1
         ],
         "matches": "x3",
         "showticklabels": false
        },
        "xaxis3": {
         "anchor": "y3",
         "domain": [
          0,
          1
         ],
         "title": {
          "text": "Energy cutoff [eV]"
         }
        },
        "yaxis": {
         "anchor": "x",
         "domain": [
          0.7333333333333333,
          1
         ],
         "range": [
          -4.402663449375,
          -4.382663449375
         ],
         "title": {
          "text": "Final energy per atom [eV]"
         }
        },
        "yaxis2": {
         "anchor": "x2",
         "domain": [
          0.36666666666666664,
          0.6333333333333333
         ],
         "range": [
          0,
          0.015
         ],
         "title": {
          "text": "Change to previous point [eV]"
         }
        },
        "yaxis3": {
         "anchor": "x3",
         "domain": [
          0,
          0.26666666666666666
         ],
         "title": {
          "text": "CPU time [min]"
         }
        }
       }
      }
     },
     "metadata": {},
     "output_type": "display_data"
    }
   ],
   "source": [
    "# graphing for energy cutoff\n",
    "from plotly.subplots import make_subplots\n",
    "import plotly.graph_objects as go\n",
    "\n",
    "fig = make_subplots(rows=3, cols=1, shared_xaxes=True)\n",
    "\n",
    "fig.append_trace(go.Scatter(\n",
    "     x=results['Energy cutoff [eV]'],\n",
    "     y=results['Final energy [eV]'],\n",
    "     showlegend=False\n",
    "    ),\n",
    "    row=1, col=1\n",
    ")\n",
    "fig.append_trace(go.Scatter(\n",
    "     x=results['Energy cutoff [eV]'],\n",
    "     y=results['Change to previous value [eV]'],\n",
    "     showlegend=False\n",
    "    ),\n",
    "    row=2, col=1\n",
    ")\n",
    "fig.append_trace(go.Scatter(\n",
    "     x=results['Energy cutoff [eV]'],\n",
    "     y=results['CPU time [min]'],\n",
    "     showlegend=False\n",
    "    ),\n",
    "    row=3, col=1\n",
    ")\n",
    "\n",
    "fig.update_layout(\n",
    "    title_text = 'Convergence test - Energy cutoff',\n",
    "\n",
    ")\n",
    "fig.update_xaxes(title_text='Energy cutoff [eV]', row=3, col=1)\n",
    "fig.update_yaxes(title_text='Final energy per atom [eV]', row=1, col=1, range=[max_value-0.01,max_value+0.01])\n",
    "fig.update_yaxes(title_text='Change to previous point [eV]', row=2, col=1,range=[0,0.015])\n",
    "fig.update_yaxes(title_text='CPU time [min]', row=3, col=1)\n",
    "fig.add_hrect(y0=max_value-0.001,y1=max_value+0.001, row=1, col=1, line_width=0, fillcolor='yellow', opacity=0.2, annotation_text=\"1 meV range\", annotation_position=\"top left\")\n",
    "fig.add_hrect(y0=-0.001,y1=0.001, row=2, col=1, line_width=0, fillcolor='yellow', opacity=0.2, annotation_text=\"1 meV range\", annotation_position=\"top left\")"
   ]
  },
  {
   "cell_type": "code",
   "execution_count": 336,
   "metadata": {},
   "outputs": [],
   "source": [
    "# save plot as HTML file\n",
    "fig.write_html('/Users/dominicwelti/Library/CloudStorage/Dropbox/Master_Thesis/Covergence test bulk/E_cutoff.html')"
   ]
  },
  {
   "cell_type": "code",
   "execution_count": 526,
   "metadata": {},
   "outputs": [],
   "source": [
    "# sort values\n",
    "results = results.sort_values('# k-points').reset_index(drop=True)"
   ]
  },
  {
   "cell_type": "code",
   "execution_count": 532,
   "metadata": {},
   "outputs": [],
   "source": [
    "results['Real space'] = 0\n",
    "\n",
    "for i, name in enumerate(results['Job name']):\n",
    "    if 'LREAL' in name:\n",
    "        if 'auto' in name:\n",
    "            results.loc[i, 'Real space'] = 'auto'\n",
    "        else:\n",
    "            results.loc[i, 'Real space'] = 'on'\n",
    "    else:\n",
    "        results.loc[i, 'Real space'] = 'off'\n",
    "\n",
    "results_off = results.query('`Real space` == \"off\"', engine='python')\n",
    "results_on = results.query('`Real space` == \"on\"', engine='python')\n",
    "results_auto = results.query('`Real space` == \"auto\"', engine='python')"
   ]
  },
  {
   "cell_type": "code",
   "execution_count": 533,
   "metadata": {},
   "outputs": [],
   "source": [
    "max_value = float(results_off.tail(1)['Final energy [eV]'])"
   ]
  },
  {
   "cell_type": "code",
   "execution_count": 534,
   "metadata": {},
   "outputs": [
    {
     "data": {
      "application/vnd.plotly.v1+json": {
       "config": {
        "plotlyServerURL": "https://plot.ly"
       },
       "data": [
        {
         "hovertemplate": "%{text}<br>Number of k-points: %{x}<br>Final energy: %{y}",
         "name": "Reciprocal space energy",
         "showlegend": false,
         "text": [
          "1x1x1",
          "1x2x2",
          "2x2x2",
          "2x2x4",
          "3x4x6",
          "3x5x6",
          "4x4x4",
          "4x5x8",
          "6x6x6",
          "5x7x11",
          "8x8x8",
          "6x8x13",
          "7x9x15",
          "6x10x12",
          "8x10x14"
         ],
         "type": "scatter",
         "x": [
          1,
          4,
          8,
          12,
          24,
          24,
          27,
          45,
          64,
          72,
          125,
          140,
          160,
          168,
          240
         ],
         "xaxis": "x",
         "y": [
          -4.4128827703125,
          -4.431150119375,
          -4.3920168734375,
          -4.3920136903125,
          -4.39266866625,
          -4.392669088125,
          -4.392661638125,
          -4.3926615140625,
          -4.392665060625,
          -4.3926644709375,
          -4.392663736875,
          -4.39266408625,
          -4.3926639096875,
          -4.3926637646875,
          -4.392663449375
         ],
         "yaxis": "y"
        },
        {
         "hovertemplate": "%{text}<br>Number of k-points: %{x}<br>CPU time: %{y}",
         "name": "Reciprocal space computation time",
         "showlegend": false,
         "text": [
          "1x1x1",
          "1x2x2",
          "2x2x2",
          "2x2x4",
          "3x4x6",
          "3x5x6",
          "4x4x4",
          "4x5x8",
          "6x6x6",
          "5x7x11",
          "8x8x8",
          "6x8x13",
          "7x9x15",
          "6x10x12",
          "8x10x14"
         ],
         "type": "scatter",
         "x": [
          1,
          4,
          8,
          12,
          24,
          24,
          27,
          45,
          64,
          72,
          125,
          140,
          160,
          168,
          240
         ],
         "xaxis": "x3",
         "y": [
          5.81375,
          7.695533333333334,
          8.0502,
          11.030116666666666,
          18.76815,
          19.253933333333336,
          20.87458333333333,
          33.45036666666667,
          49.37175,
          50.709783333333334,
          88.61996666666667,
          99.72311666666666,
          113.95554999999999,
          120.59726666666667,
          169.91905
         ],
         "yaxis": "y3"
        },
        {
         "hovertemplate": "%{text}<br>Number of k-points: %{x}<br>Final energy: %{y}",
         "name": "Real space energy",
         "showlegend": false,
         "text": [
          "1x1x1",
          "1x2x2",
          "2x2x2",
          "2x2x4",
          "3x5x6",
          "3x4x6",
          "4x4x4",
          "4x5x8",
          "6x6x6",
          "5x7x11",
          "8x8x8",
          "6x8x13",
          "7x9x15",
          "6x10x12",
          "8x10x14"
         ],
         "type": "scatter",
         "x": [
          1,
          4,
          8,
          12,
          24,
          24,
          27,
          45,
          64,
          72,
          125,
          140,
          160,
          168,
          240
         ],
         "xaxis": "x2",
         "y": [
          -4.408134025,
          -4.426386056875,
          -4.387206966875,
          -4.38720421,
          -4.3878554375,
          -4.387856248125,
          -4.3878496971875,
          -4.387849186875,
          -4.3878509621875,
          -4.3878505825,
          -4.38785043625,
          -4.3878507715625,
          -4.3878505734375,
          -4.3878504234375,
          -4.3878501371875
         ],
         "yaxis": "y2"
        },
        {
         "hovertemplate": "%{text}<br>Number of k-points: %{x}<br>CPU time: %{y}",
         "name": "Real space computation time",
         "showlegend": false,
         "text": [
          "1x1x1",
          "1x2x2",
          "2x2x2",
          "2x2x4",
          "3x5x6",
          "3x4x6",
          "4x4x4",
          "4x5x8",
          "6x6x6",
          "5x7x11",
          "8x8x8",
          "6x8x13",
          "7x9x15",
          "6x10x12",
          "8x10x14"
         ],
         "type": "scatter",
         "x": [
          1,
          4,
          8,
          12,
          24,
          24,
          27,
          45,
          64,
          72,
          125,
          140,
          160,
          168,
          240
         ],
         "xaxis": "x4",
         "y": [
          6.1363,
          11.44805,
          4.608549999999999,
          7.3723833333333335,
          13.460033333333334,
          13.387483333333334,
          13.989533333333332,
          21.501133333333332,
          27.90056666666667,
          31.1123,
          53.3483,
          59.73093333333334,
          67.60253333333334,
          71.23615,
          101.04768333333332
         ],
         "yaxis": "y4"
        }
       ],
       "layout": {
        "annotations": [
         {
          "showarrow": false,
          "text": "1 meV range",
          "x": 0,
          "xanchor": "left",
          "xref": "x domain",
          "y": -4.391663449375,
          "yanchor": "top",
          "yref": "y"
         },
         {
          "showarrow": false,
          "text": "1 meV range",
          "x": 0,
          "xanchor": "left",
          "xref": "x2 domain",
          "y": -4.391663449375,
          "yanchor": "top",
          "yref": "y2"
         }
        ],
        "shapes": [
         {
          "fillcolor": "yellow",
          "line": {
           "width": 0
          },
          "opacity": 0.2,
          "type": "rect",
          "x0": 0,
          "x1": 1,
          "xref": "x domain",
          "y0": -4.393663449375,
          "y1": -4.391663449375,
          "yref": "y"
         },
         {
          "fillcolor": "yellow",
          "line": {
           "width": 0
          },
          "opacity": 0.2,
          "type": "rect",
          "x0": 0,
          "x1": 1,
          "xref": "x2 domain",
          "y0": -4.393663449375,
          "y1": -4.391663449375,
          "yref": "y2"
         }
        ],
        "template": {
         "data": {
          "bar": [
           {
            "error_x": {
             "color": "#2a3f5f"
            },
            "error_y": {
             "color": "#2a3f5f"
            },
            "marker": {
             "line": {
              "color": "#E5ECF6",
              "width": 0.5
             },
             "pattern": {
              "fillmode": "overlay",
              "size": 10,
              "solidity": 0.2
             }
            },
            "type": "bar"
           }
          ],
          "barpolar": [
           {
            "marker": {
             "line": {
              "color": "#E5ECF6",
              "width": 0.5
             },
             "pattern": {
              "fillmode": "overlay",
              "size": 10,
              "solidity": 0.2
             }
            },
            "type": "barpolar"
           }
          ],
          "carpet": [
           {
            "aaxis": {
             "endlinecolor": "#2a3f5f",
             "gridcolor": "white",
             "linecolor": "white",
             "minorgridcolor": "white",
             "startlinecolor": "#2a3f5f"
            },
            "baxis": {
             "endlinecolor": "#2a3f5f",
             "gridcolor": "white",
             "linecolor": "white",
             "minorgridcolor": "white",
             "startlinecolor": "#2a3f5f"
            },
            "type": "carpet"
           }
          ],
          "choropleth": [
           {
            "colorbar": {
             "outlinewidth": 0,
             "ticks": ""
            },
            "type": "choropleth"
           }
          ],
          "contour": [
           {
            "colorbar": {
             "outlinewidth": 0,
             "ticks": ""
            },
            "colorscale": [
             [
              0,
              "#0d0887"
             ],
             [
              0.1111111111111111,
              "#46039f"
             ],
             [
              0.2222222222222222,
              "#7201a8"
             ],
             [
              0.3333333333333333,
              "#9c179e"
             ],
             [
              0.4444444444444444,
              "#bd3786"
             ],
             [
              0.5555555555555556,
              "#d8576b"
             ],
             [
              0.6666666666666666,
              "#ed7953"
             ],
             [
              0.7777777777777778,
              "#fb9f3a"
             ],
             [
              0.8888888888888888,
              "#fdca26"
             ],
             [
              1,
              "#f0f921"
             ]
            ],
            "type": "contour"
           }
          ],
          "contourcarpet": [
           {
            "colorbar": {
             "outlinewidth": 0,
             "ticks": ""
            },
            "type": "contourcarpet"
           }
          ],
          "heatmap": [
           {
            "colorbar": {
             "outlinewidth": 0,
             "ticks": ""
            },
            "colorscale": [
             [
              0,
              "#0d0887"
             ],
             [
              0.1111111111111111,
              "#46039f"
             ],
             [
              0.2222222222222222,
              "#7201a8"
             ],
             [
              0.3333333333333333,
              "#9c179e"
             ],
             [
              0.4444444444444444,
              "#bd3786"
             ],
             [
              0.5555555555555556,
              "#d8576b"
             ],
             [
              0.6666666666666666,
              "#ed7953"
             ],
             [
              0.7777777777777778,
              "#fb9f3a"
             ],
             [
              0.8888888888888888,
              "#fdca26"
             ],
             [
              1,
              "#f0f921"
             ]
            ],
            "type": "heatmap"
           }
          ],
          "heatmapgl": [
           {
            "colorbar": {
             "outlinewidth": 0,
             "ticks": ""
            },
            "colorscale": [
             [
              0,
              "#0d0887"
             ],
             [
              0.1111111111111111,
              "#46039f"
             ],
             [
              0.2222222222222222,
              "#7201a8"
             ],
             [
              0.3333333333333333,
              "#9c179e"
             ],
             [
              0.4444444444444444,
              "#bd3786"
             ],
             [
              0.5555555555555556,
              "#d8576b"
             ],
             [
              0.6666666666666666,
              "#ed7953"
             ],
             [
              0.7777777777777778,
              "#fb9f3a"
             ],
             [
              0.8888888888888888,
              "#fdca26"
             ],
             [
              1,
              "#f0f921"
             ]
            ],
            "type": "heatmapgl"
           }
          ],
          "histogram": [
           {
            "marker": {
             "pattern": {
              "fillmode": "overlay",
              "size": 10,
              "solidity": 0.2
             }
            },
            "type": "histogram"
           }
          ],
          "histogram2d": [
           {
            "colorbar": {
             "outlinewidth": 0,
             "ticks": ""
            },
            "colorscale": [
             [
              0,
              "#0d0887"
             ],
             [
              0.1111111111111111,
              "#46039f"
             ],
             [
              0.2222222222222222,
              "#7201a8"
             ],
             [
              0.3333333333333333,
              "#9c179e"
             ],
             [
              0.4444444444444444,
              "#bd3786"
             ],
             [
              0.5555555555555556,
              "#d8576b"
             ],
             [
              0.6666666666666666,
              "#ed7953"
             ],
             [
              0.7777777777777778,
              "#fb9f3a"
             ],
             [
              0.8888888888888888,
              "#fdca26"
             ],
             [
              1,
              "#f0f921"
             ]
            ],
            "type": "histogram2d"
           }
          ],
          "histogram2dcontour": [
           {
            "colorbar": {
             "outlinewidth": 0,
             "ticks": ""
            },
            "colorscale": [
             [
              0,
              "#0d0887"
             ],
             [
              0.1111111111111111,
              "#46039f"
             ],
             [
              0.2222222222222222,
              "#7201a8"
             ],
             [
              0.3333333333333333,
              "#9c179e"
             ],
             [
              0.4444444444444444,
              "#bd3786"
             ],
             [
              0.5555555555555556,
              "#d8576b"
             ],
             [
              0.6666666666666666,
              "#ed7953"
             ],
             [
              0.7777777777777778,
              "#fb9f3a"
             ],
             [
              0.8888888888888888,
              "#fdca26"
             ],
             [
              1,
              "#f0f921"
             ]
            ],
            "type": "histogram2dcontour"
           }
          ],
          "mesh3d": [
           {
            "colorbar": {
             "outlinewidth": 0,
             "ticks": ""
            },
            "type": "mesh3d"
           }
          ],
          "parcoords": [
           {
            "line": {
             "colorbar": {
              "outlinewidth": 0,
              "ticks": ""
             }
            },
            "type": "parcoords"
           }
          ],
          "pie": [
           {
            "automargin": true,
            "type": "pie"
           }
          ],
          "scatter": [
           {
            "fillpattern": {
             "fillmode": "overlay",
             "size": 10,
             "solidity": 0.2
            },
            "type": "scatter"
           }
          ],
          "scatter3d": [
           {
            "line": {
             "colorbar": {
              "outlinewidth": 0,
              "ticks": ""
             }
            },
            "marker": {
             "colorbar": {
              "outlinewidth": 0,
              "ticks": ""
             }
            },
            "type": "scatter3d"
           }
          ],
          "scattercarpet": [
           {
            "marker": {
             "colorbar": {
              "outlinewidth": 0,
              "ticks": ""
             }
            },
            "type": "scattercarpet"
           }
          ],
          "scattergeo": [
           {
            "marker": {
             "colorbar": {
              "outlinewidth": 0,
              "ticks": ""
             }
            },
            "type": "scattergeo"
           }
          ],
          "scattergl": [
           {
            "marker": {
             "colorbar": {
              "outlinewidth": 0,
              "ticks": ""
             }
            },
            "type": "scattergl"
           }
          ],
          "scattermapbox": [
           {
            "marker": {
             "colorbar": {
              "outlinewidth": 0,
              "ticks": ""
             }
            },
            "type": "scattermapbox"
           }
          ],
          "scatterpolar": [
           {
            "marker": {
             "colorbar": {
              "outlinewidth": 0,
              "ticks": ""
             }
            },
            "type": "scatterpolar"
           }
          ],
          "scatterpolargl": [
           {
            "marker": {
             "colorbar": {
              "outlinewidth": 0,
              "ticks": ""
             }
            },
            "type": "scatterpolargl"
           }
          ],
          "scatterternary": [
           {
            "marker": {
             "colorbar": {
              "outlinewidth": 0,
              "ticks": ""
             }
            },
            "type": "scatterternary"
           }
          ],
          "surface": [
           {
            "colorbar": {
             "outlinewidth": 0,
             "ticks": ""
            },
            "colorscale": [
             [
              0,
              "#0d0887"
             ],
             [
              0.1111111111111111,
              "#46039f"
             ],
             [
              0.2222222222222222,
              "#7201a8"
             ],
             [
              0.3333333333333333,
              "#9c179e"
             ],
             [
              0.4444444444444444,
              "#bd3786"
             ],
             [
              0.5555555555555556,
              "#d8576b"
             ],
             [
              0.6666666666666666,
              "#ed7953"
             ],
             [
              0.7777777777777778,
              "#fb9f3a"
             ],
             [
              0.8888888888888888,
              "#fdca26"
             ],
             [
              1,
              "#f0f921"
             ]
            ],
            "type": "surface"
           }
          ],
          "table": [
           {
            "cells": {
             "fill": {
              "color": "#EBF0F8"
             },
             "line": {
              "color": "white"
             }
            },
            "header": {
             "fill": {
              "color": "#C8D4E3"
             },
             "line": {
              "color": "white"
             }
            },
            "type": "table"
           }
          ]
         },
         "layout": {
          "annotationdefaults": {
           "arrowcolor": "#2a3f5f",
           "arrowhead": 0,
           "arrowwidth": 1
          },
          "autotypenumbers": "strict",
          "coloraxis": {
           "colorbar": {
            "outlinewidth": 0,
            "ticks": ""
           }
          },
          "colorscale": {
           "diverging": [
            [
             0,
             "#8e0152"
            ],
            [
             0.1,
             "#c51b7d"
            ],
            [
             0.2,
             "#de77ae"
            ],
            [
             0.3,
             "#f1b6da"
            ],
            [
             0.4,
             "#fde0ef"
            ],
            [
             0.5,
             "#f7f7f7"
            ],
            [
             0.6,
             "#e6f5d0"
            ],
            [
             0.7,
             "#b8e186"
            ],
            [
             0.8,
             "#7fbc41"
            ],
            [
             0.9,
             "#4d9221"
            ],
            [
             1,
             "#276419"
            ]
           ],
           "sequential": [
            [
             0,
             "#0d0887"
            ],
            [
             0.1111111111111111,
             "#46039f"
            ],
            [
             0.2222222222222222,
             "#7201a8"
            ],
            [
             0.3333333333333333,
             "#9c179e"
            ],
            [
             0.4444444444444444,
             "#bd3786"
            ],
            [
             0.5555555555555556,
             "#d8576b"
            ],
            [
             0.6666666666666666,
             "#ed7953"
            ],
            [
             0.7777777777777778,
             "#fb9f3a"
            ],
            [
             0.8888888888888888,
             "#fdca26"
            ],
            [
             1,
             "#f0f921"
            ]
           ],
           "sequentialminus": [
            [
             0,
             "#0d0887"
            ],
            [
             0.1111111111111111,
             "#46039f"
            ],
            [
             0.2222222222222222,
             "#7201a8"
            ],
            [
             0.3333333333333333,
             "#9c179e"
            ],
            [
             0.4444444444444444,
             "#bd3786"
            ],
            [
             0.5555555555555556,
             "#d8576b"
            ],
            [
             0.6666666666666666,
             "#ed7953"
            ],
            [
             0.7777777777777778,
             "#fb9f3a"
            ],
            [
             0.8888888888888888,
             "#fdca26"
            ],
            [
             1,
             "#f0f921"
            ]
           ]
          },
          "colorway": [
           "#636efa",
           "#EF553B",
           "#00cc96",
           "#ab63fa",
           "#FFA15A",
           "#19d3f3",
           "#FF6692",
           "#B6E880",
           "#FF97FF",
           "#FECB52"
          ],
          "font": {
           "color": "#2a3f5f"
          },
          "geo": {
           "bgcolor": "white",
           "lakecolor": "white",
           "landcolor": "#E5ECF6",
           "showlakes": true,
           "showland": true,
           "subunitcolor": "white"
          },
          "hoverlabel": {
           "align": "left"
          },
          "hovermode": "closest",
          "mapbox": {
           "style": "light"
          },
          "paper_bgcolor": "white",
          "plot_bgcolor": "#E5ECF6",
          "polar": {
           "angularaxis": {
            "gridcolor": "white",
            "linecolor": "white",
            "ticks": ""
           },
           "bgcolor": "#E5ECF6",
           "radialaxis": {
            "gridcolor": "white",
            "linecolor": "white",
            "ticks": ""
           }
          },
          "scene": {
           "xaxis": {
            "backgroundcolor": "#E5ECF6",
            "gridcolor": "white",
            "gridwidth": 2,
            "linecolor": "white",
            "showbackground": true,
            "ticks": "",
            "zerolinecolor": "white"
           },
           "yaxis": {
            "backgroundcolor": "#E5ECF6",
            "gridcolor": "white",
            "gridwidth": 2,
            "linecolor": "white",
            "showbackground": true,
            "ticks": "",
            "zerolinecolor": "white"
           },
           "zaxis": {
            "backgroundcolor": "#E5ECF6",
            "gridcolor": "white",
            "gridwidth": 2,
            "linecolor": "white",
            "showbackground": true,
            "ticks": "",
            "zerolinecolor": "white"
           }
          },
          "shapedefaults": {
           "line": {
            "color": "#2a3f5f"
           }
          },
          "ternary": {
           "aaxis": {
            "gridcolor": "white",
            "linecolor": "white",
            "ticks": ""
           },
           "baxis": {
            "gridcolor": "white",
            "linecolor": "white",
            "ticks": ""
           },
           "bgcolor": "#E5ECF6",
           "caxis": {
            "gridcolor": "white",
            "linecolor": "white",
            "ticks": ""
           }
          },
          "title": {
           "x": 0.05
          },
          "xaxis": {
           "automargin": true,
           "gridcolor": "white",
           "linecolor": "white",
           "ticks": "",
           "title": {
            "standoff": 15
           },
           "zerolinecolor": "white",
           "zerolinewidth": 2
          },
          "yaxis": {
           "automargin": true,
           "gridcolor": "white",
           "linecolor": "white",
           "ticks": "",
           "title": {
            "standoff": 15
           },
           "zerolinecolor": "white",
           "zerolinewidth": 2
          }
         }
        },
        "title": {
         "text": "Convergence test - k-point mesh"
        },
        "xaxis": {
         "anchor": "y",
         "domain": [
          0,
          0.45
         ],
         "matches": "x3",
         "showticklabels": false
        },
        "xaxis2": {
         "anchor": "y2",
         "domain": [
          0.55,
          1
         ],
         "matches": "x4",
         "showticklabels": false
        },
        "xaxis3": {
         "anchor": "y3",
         "domain": [
          0,
          0.45
         ],
         "title": {
          "text": "Number of k-points"
         }
        },
        "xaxis4": {
         "anchor": "y4",
         "domain": [
          0.55,
          1
         ],
         "title": {
          "text": "Number of k-points"
         }
        },
        "yaxis": {
         "anchor": "x",
         "domain": [
          0.575,
          1
         ],
         "range": [
          -4.402663449375,
          -4.382663449375
         ],
         "title": {
          "text": "Final energy per atom [eV]"
         }
        },
        "yaxis2": {
         "anchor": "x2",
         "domain": [
          0.575,
          1
         ],
         "range": [
          -4.402663449375,
          -4.382663449375
         ],
         "title": {
          "text": "Final energy per atom [eV]"
         }
        },
        "yaxis3": {
         "anchor": "x3",
         "domain": [
          0,
          0.425
         ],
         "title": {
          "text": "CPU time [min]"
         }
        },
        "yaxis4": {
         "anchor": "x4",
         "domain": [
          0,
          0.425
         ],
         "title": {
          "text": "CPU time [min]"
         }
        }
       }
      }
     },
     "metadata": {},
     "output_type": "display_data"
    }
   ],
   "source": [
    "# graphing for k-points\n",
    "fig = make_subplots(rows=2, cols=2, shared_xaxes=True)\n",
    "\n",
    "fig.append_trace(go.Scatter(\n",
    "            x=results_off['# k-points'],\n",
    "            y=results_off['Final energy [eV]'],\n",
    "            name='Reciprocal space energy',\n",
    "            hovertemplate=\n",
    "                \"%{text}\"+\"<br>Number of k-points: %{x}\"+\"<br>Final energy: %{y}\",\n",
    "            text = results_off['k-points'],\n",
    "            showlegend=False\n",
    "        ),\n",
    "        row=1, col=1\n",
    "        )\n",
    "fig.append_trace(go.Scatter(\n",
    "            x=results_off['# k-points'],\n",
    "            y=results_off['CPU time [min]'],\n",
    "            name='Reciprocal space computation time',\n",
    "            hovertemplate=\n",
    "                \"%{text}\"+\"<br>Number of k-points: %{x}\"+\"<br>CPU time: %{y}\",\n",
    "            text = results_off['k-points'],\n",
    "            showlegend=False\n",
    "        ),\n",
    "        row=2, col=1\n",
    "        )\n",
    "fig.update_layout(\n",
    "        title_text = 'Convergence test - k-point mesh',\n",
    "        )\n",
    "\n",
    "fig.update_xaxes(title_text='Number of k-points', row=2, col=1)\n",
    "fig.update_yaxes(title_text='Final energy per atom [eV]', row=1, col=1, range=[max_value-0.01,max_value+0.01])\n",
    "fig.update_yaxes(title_text='CPU time [min]', row=2, col=1)\n",
    "fig.add_hrect(y0=max_value-0.001,y1=max_value+0.001, row=1, col=1, line_width=0, fillcolor='yellow', opacity=0.2, annotation_text=\"1 meV range\", annotation_position=\"top left\")\n",
    "\n",
    "fig.append_trace(go.Scatter(\n",
    "            x=results_on['# k-points'],\n",
    "            y=results_on['Final energy [eV]'],\n",
    "            name='Real space energy',\n",
    "            hovertemplate=\n",
    "                \"%{text}\"+\"<br>Number of k-points: %{x}\"+\"<br>Final energy: %{y}\",\n",
    "            text = results_on['k-points'],\n",
    "            showlegend=False\n",
    "        ),\n",
    "        row=1, col=2\n",
    "        )\n",
    "fig.append_trace(go.Scatter(\n",
    "            x=results_on['# k-points'],\n",
    "            y=results_on['CPU time [min]'],\n",
    "            name='Real space computation time',\n",
    "            hovertemplate=\n",
    "                \"%{text}\"+\"<br>Number of k-points: %{x}\"+\"<br>CPU time: %{y}\",\n",
    "            text = results_on['k-points'],\n",
    "            showlegend=False\n",
    "        ),\n",
    "        row=2, col=2\n",
    "        )\n",
    "\n",
    "fig.update_xaxes(title_text='Number of k-points', row=2, col=2)\n",
    "fig.update_yaxes(title_text='Final energy per atom [eV]', row=1, col=2, range=[max_value-0.01,max_value+0.01])\n",
    "fig.update_yaxes(title_text='CPU time [min]', row=2, col=2)\n",
    "fig.add_hrect(y0=max_value-0.001,y1=max_value+0.001, row=1, col=2, line_width=0, fillcolor='yellow', opacity=0.2, annotation_text=\"1 meV range\", annotation_position=\"top left\")"
   ]
  },
  {
   "cell_type": "code",
   "execution_count": 539,
   "metadata": {},
   "outputs": [
    {
     "data": {
      "text/plain": [
       "array(['auto', 'off', 'on'], dtype=object)"
      ]
     },
     "execution_count": 539,
     "metadata": {},
     "output_type": "execute_result"
    }
   ],
   "source": [
    "results['Real space'].unique()"
   ]
  },
  {
   "cell_type": "code",
   "execution_count": 544,
   "metadata": {},
   "outputs": [
    {
     "data": {
      "application/vnd.plotly.v1+json": {
       "config": {
        "plotlyServerURL": "https://plot.ly"
       },
       "data": [
        {
         "hovertemplate": "%{text}<br>Number of k-points: %{x}<br>Final energy: %{y}",
         "name": "LREAL: auto",
         "text": [
          "1x1x1",
          "1x2x2",
          "2x2x2",
          "2x2x4",
          "3x4x6",
          "3x5x6"
         ],
         "type": "scatter",
         "x": [
          1,
          4,
          8,
          12,
          24,
          24
         ],
         "xaxis": "x",
         "y": [
          -4.4132424634375,
          -4.431521155625,
          -4.39235962875,
          -4.3923559303125,
          -4.393014650625,
          -4.39301429
         ],
         "yaxis": "y"
        },
        {
         "hovertemplate": "%{text}<br>Number of k-points: %{x}<br>CPU time: %{y}",
         "name": "LREAL: auto",
         "text": [
          "1x1x1",
          "1x2x2",
          "2x2x2",
          "2x2x4",
          "3x4x6",
          "3x5x6"
         ],
         "type": "scatter",
         "x": [
          1,
          4,
          8,
          12,
          24,
          24
         ],
         "xaxis": "x2",
         "y": [
          4.76755,
          8.518816666666668,
          7.619616666666667,
          9.907649999999999,
          19.003383333333332,
          19.018700000000003
         ],
         "yaxis": "y2"
        },
        {
         "hovertemplate": "%{text}<br>Number of k-points: %{x}<br>Final energy: %{y}",
         "name": "LREAL: off",
         "text": [
          "1x1x1",
          "1x2x2",
          "2x2x2",
          "2x2x4",
          "3x4x6",
          "3x5x6",
          "4x4x4",
          "4x5x8",
          "6x6x6",
          "5x7x11",
          "8x8x8",
          "6x8x13",
          "7x9x15",
          "6x10x12",
          "8x10x14"
         ],
         "type": "scatter",
         "x": [
          1,
          4,
          8,
          12,
          24,
          24,
          27,
          45,
          64,
          72,
          125,
          140,
          160,
          168,
          240
         ],
         "xaxis": "x",
         "y": [
          -4.4128827703125,
          -4.431150119375,
          -4.3920168734375,
          -4.3920136903125,
          -4.39266866625,
          -4.392669088125,
          -4.392661638125,
          -4.3926615140625,
          -4.392665060625,
          -4.3926644709375,
          -4.392663736875,
          -4.39266408625,
          -4.3926639096875,
          -4.3926637646875,
          -4.392663449375
         ],
         "yaxis": "y"
        },
        {
         "hovertemplate": "%{text}<br>Number of k-points: %{x}<br>CPU time: %{y}",
         "name": "LREAL: off",
         "text": [
          "1x1x1",
          "1x2x2",
          "2x2x2",
          "2x2x4",
          "3x4x6",
          "3x5x6",
          "4x4x4",
          "4x5x8",
          "6x6x6",
          "5x7x11",
          "8x8x8",
          "6x8x13",
          "7x9x15",
          "6x10x12",
          "8x10x14"
         ],
         "type": "scatter",
         "x": [
          1,
          4,
          8,
          12,
          24,
          24,
          27,
          45,
          64,
          72,
          125,
          140,
          160,
          168,
          240
         ],
         "xaxis": "x2",
         "y": [
          5.81375,
          7.695533333333334,
          8.0502,
          11.030116666666666,
          18.76815,
          19.253933333333336,
          20.87458333333333,
          33.45036666666667,
          49.37175,
          50.709783333333334,
          88.61996666666667,
          99.72311666666666,
          113.95554999999999,
          120.59726666666667,
          169.91905
         ],
         "yaxis": "y2"
        },
        {
         "hovertemplate": "%{text}<br>Number of k-points: %{x}<br>Final energy: %{y}",
         "name": "LREAL: on",
         "text": [
          "1x1x1",
          "1x2x2",
          "2x2x2",
          "2x2x4",
          "3x5x6",
          "3x4x6",
          "4x4x4",
          "4x5x8",
          "6x6x6",
          "5x7x11",
          "8x8x8",
          "6x8x13",
          "7x9x15",
          "6x10x12",
          "8x10x14"
         ],
         "type": "scatter",
         "x": [
          1,
          4,
          8,
          12,
          24,
          24,
          27,
          45,
          64,
          72,
          125,
          140,
          160,
          168,
          240
         ],
         "xaxis": "x",
         "y": [
          -4.408134025,
          -4.426386056875,
          -4.387206966875,
          -4.38720421,
          -4.3878554375,
          -4.387856248125,
          -4.3878496971875,
          -4.387849186875,
          -4.3878509621875,
          -4.3878505825,
          -4.38785043625,
          -4.3878507715625,
          -4.3878505734375,
          -4.3878504234375,
          -4.3878501371875
         ],
         "yaxis": "y"
        },
        {
         "hovertemplate": "%{text}<br>Number of k-points: %{x}<br>CPU time: %{y}",
         "name": "LREAL: on",
         "text": [
          "1x1x1",
          "1x2x2",
          "2x2x2",
          "2x2x4",
          "3x5x6",
          "3x4x6",
          "4x4x4",
          "4x5x8",
          "6x6x6",
          "5x7x11",
          "8x8x8",
          "6x8x13",
          "7x9x15",
          "6x10x12",
          "8x10x14"
         ],
         "type": "scatter",
         "x": [
          1,
          4,
          8,
          12,
          24,
          24,
          27,
          45,
          64,
          72,
          125,
          140,
          160,
          168,
          240
         ],
         "xaxis": "x2",
         "y": [
          6.1363,
          11.44805,
          4.608549999999999,
          7.3723833333333335,
          13.460033333333334,
          13.387483333333334,
          13.989533333333332,
          21.501133333333332,
          27.90056666666667,
          31.1123,
          53.3483,
          59.73093333333334,
          67.60253333333334,
          71.23615,
          101.04768333333332
         ],
         "yaxis": "y2"
        }
       ],
       "layout": {
        "annotations": [
         {
          "showarrow": false,
          "text": "1 meV range",
          "x": 0,
          "xanchor": "left",
          "xref": "x domain",
          "y": -4.391663449375,
          "yanchor": "top",
          "yref": "y"
         }
        ],
        "shapes": [
         {
          "fillcolor": "yellow",
          "line": {
           "width": 0
          },
          "opacity": 0.2,
          "type": "rect",
          "x0": 0,
          "x1": 1,
          "xref": "x domain",
          "y0": -4.393663449375,
          "y1": -4.391663449375,
          "yref": "y"
         }
        ],
        "template": {
         "data": {
          "bar": [
           {
            "error_x": {
             "color": "#2a3f5f"
            },
            "error_y": {
             "color": "#2a3f5f"
            },
            "marker": {
             "line": {
              "color": "#E5ECF6",
              "width": 0.5
             },
             "pattern": {
              "fillmode": "overlay",
              "size": 10,
              "solidity": 0.2
             }
            },
            "type": "bar"
           }
          ],
          "barpolar": [
           {
            "marker": {
             "line": {
              "color": "#E5ECF6",
              "width": 0.5
             },
             "pattern": {
              "fillmode": "overlay",
              "size": 10,
              "solidity": 0.2
             }
            },
            "type": "barpolar"
           }
          ],
          "carpet": [
           {
            "aaxis": {
             "endlinecolor": "#2a3f5f",
             "gridcolor": "white",
             "linecolor": "white",
             "minorgridcolor": "white",
             "startlinecolor": "#2a3f5f"
            },
            "baxis": {
             "endlinecolor": "#2a3f5f",
             "gridcolor": "white",
             "linecolor": "white",
             "minorgridcolor": "white",
             "startlinecolor": "#2a3f5f"
            },
            "type": "carpet"
           }
          ],
          "choropleth": [
           {
            "colorbar": {
             "outlinewidth": 0,
             "ticks": ""
            },
            "type": "choropleth"
           }
          ],
          "contour": [
           {
            "colorbar": {
             "outlinewidth": 0,
             "ticks": ""
            },
            "colorscale": [
             [
              0,
              "#0d0887"
             ],
             [
              0.1111111111111111,
              "#46039f"
             ],
             [
              0.2222222222222222,
              "#7201a8"
             ],
             [
              0.3333333333333333,
              "#9c179e"
             ],
             [
              0.4444444444444444,
              "#bd3786"
             ],
             [
              0.5555555555555556,
              "#d8576b"
             ],
             [
              0.6666666666666666,
              "#ed7953"
             ],
             [
              0.7777777777777778,
              "#fb9f3a"
             ],
             [
              0.8888888888888888,
              "#fdca26"
             ],
             [
              1,
              "#f0f921"
             ]
            ],
            "type": "contour"
           }
          ],
          "contourcarpet": [
           {
            "colorbar": {
             "outlinewidth": 0,
             "ticks": ""
            },
            "type": "contourcarpet"
           }
          ],
          "heatmap": [
           {
            "colorbar": {
             "outlinewidth": 0,
             "ticks": ""
            },
            "colorscale": [
             [
              0,
              "#0d0887"
             ],
             [
              0.1111111111111111,
              "#46039f"
             ],
             [
              0.2222222222222222,
              "#7201a8"
             ],
             [
              0.3333333333333333,
              "#9c179e"
             ],
             [
              0.4444444444444444,
              "#bd3786"
             ],
             [
              0.5555555555555556,
              "#d8576b"
             ],
             [
              0.6666666666666666,
              "#ed7953"
             ],
             [
              0.7777777777777778,
              "#fb9f3a"
             ],
             [
              0.8888888888888888,
              "#fdca26"
             ],
             [
              1,
              "#f0f921"
             ]
            ],
            "type": "heatmap"
           }
          ],
          "heatmapgl": [
           {
            "colorbar": {
             "outlinewidth": 0,
             "ticks": ""
            },
            "colorscale": [
             [
              0,
              "#0d0887"
             ],
             [
              0.1111111111111111,
              "#46039f"
             ],
             [
              0.2222222222222222,
              "#7201a8"
             ],
             [
              0.3333333333333333,
              "#9c179e"
             ],
             [
              0.4444444444444444,
              "#bd3786"
             ],
             [
              0.5555555555555556,
              "#d8576b"
             ],
             [
              0.6666666666666666,
              "#ed7953"
             ],
             [
              0.7777777777777778,
              "#fb9f3a"
             ],
             [
              0.8888888888888888,
              "#fdca26"
             ],
             [
              1,
              "#f0f921"
             ]
            ],
            "type": "heatmapgl"
           }
          ],
          "histogram": [
           {
            "marker": {
             "pattern": {
              "fillmode": "overlay",
              "size": 10,
              "solidity": 0.2
             }
            },
            "type": "histogram"
           }
          ],
          "histogram2d": [
           {
            "colorbar": {
             "outlinewidth": 0,
             "ticks": ""
            },
            "colorscale": [
             [
              0,
              "#0d0887"
             ],
             [
              0.1111111111111111,
              "#46039f"
             ],
             [
              0.2222222222222222,
              "#7201a8"
             ],
             [
              0.3333333333333333,
              "#9c179e"
             ],
             [
              0.4444444444444444,
              "#bd3786"
             ],
             [
              0.5555555555555556,
              "#d8576b"
             ],
             [
              0.6666666666666666,
              "#ed7953"
             ],
             [
              0.7777777777777778,
              "#fb9f3a"
             ],
             [
              0.8888888888888888,
              "#fdca26"
             ],
             [
              1,
              "#f0f921"
             ]
            ],
            "type": "histogram2d"
           }
          ],
          "histogram2dcontour": [
           {
            "colorbar": {
             "outlinewidth": 0,
             "ticks": ""
            },
            "colorscale": [
             [
              0,
              "#0d0887"
             ],
             [
              0.1111111111111111,
              "#46039f"
             ],
             [
              0.2222222222222222,
              "#7201a8"
             ],
             [
              0.3333333333333333,
              "#9c179e"
             ],
             [
              0.4444444444444444,
              "#bd3786"
             ],
             [
              0.5555555555555556,
              "#d8576b"
             ],
             [
              0.6666666666666666,
              "#ed7953"
             ],
             [
              0.7777777777777778,
              "#fb9f3a"
             ],
             [
              0.8888888888888888,
              "#fdca26"
             ],
             [
              1,
              "#f0f921"
             ]
            ],
            "type": "histogram2dcontour"
           }
          ],
          "mesh3d": [
           {
            "colorbar": {
             "outlinewidth": 0,
             "ticks": ""
            },
            "type": "mesh3d"
           }
          ],
          "parcoords": [
           {
            "line": {
             "colorbar": {
              "outlinewidth": 0,
              "ticks": ""
             }
            },
            "type": "parcoords"
           }
          ],
          "pie": [
           {
            "automargin": true,
            "type": "pie"
           }
          ],
          "scatter": [
           {
            "fillpattern": {
             "fillmode": "overlay",
             "size": 10,
             "solidity": 0.2
            },
            "type": "scatter"
           }
          ],
          "scatter3d": [
           {
            "line": {
             "colorbar": {
              "outlinewidth": 0,
              "ticks": ""
             }
            },
            "marker": {
             "colorbar": {
              "outlinewidth": 0,
              "ticks": ""
             }
            },
            "type": "scatter3d"
           }
          ],
          "scattercarpet": [
           {
            "marker": {
             "colorbar": {
              "outlinewidth": 0,
              "ticks": ""
             }
            },
            "type": "scattercarpet"
           }
          ],
          "scattergeo": [
           {
            "marker": {
             "colorbar": {
              "outlinewidth": 0,
              "ticks": ""
             }
            },
            "type": "scattergeo"
           }
          ],
          "scattergl": [
           {
            "marker": {
             "colorbar": {
              "outlinewidth": 0,
              "ticks": ""
             }
            },
            "type": "scattergl"
           }
          ],
          "scattermapbox": [
           {
            "marker": {
             "colorbar": {
              "outlinewidth": 0,
              "ticks": ""
             }
            },
            "type": "scattermapbox"
           }
          ],
          "scatterpolar": [
           {
            "marker": {
             "colorbar": {
              "outlinewidth": 0,
              "ticks": ""
             }
            },
            "type": "scatterpolar"
           }
          ],
          "scatterpolargl": [
           {
            "marker": {
             "colorbar": {
              "outlinewidth": 0,
              "ticks": ""
             }
            },
            "type": "scatterpolargl"
           }
          ],
          "scatterternary": [
           {
            "marker": {
             "colorbar": {
              "outlinewidth": 0,
              "ticks": ""
             }
            },
            "type": "scatterternary"
           }
          ],
          "surface": [
           {
            "colorbar": {
             "outlinewidth": 0,
             "ticks": ""
            },
            "colorscale": [
             [
              0,
              "#0d0887"
             ],
             [
              0.1111111111111111,
              "#46039f"
             ],
             [
              0.2222222222222222,
              "#7201a8"
             ],
             [
              0.3333333333333333,
              "#9c179e"
             ],
             [
              0.4444444444444444,
              "#bd3786"
             ],
             [
              0.5555555555555556,
              "#d8576b"
             ],
             [
              0.6666666666666666,
              "#ed7953"
             ],
             [
              0.7777777777777778,
              "#fb9f3a"
             ],
             [
              0.8888888888888888,
              "#fdca26"
             ],
             [
              1,
              "#f0f921"
             ]
            ],
            "type": "surface"
           }
          ],
          "table": [
           {
            "cells": {
             "fill": {
              "color": "#EBF0F8"
             },
             "line": {
              "color": "white"
             }
            },
            "header": {
             "fill": {
              "color": "#C8D4E3"
             },
             "line": {
              "color": "white"
             }
            },
            "type": "table"
           }
          ]
         },
         "layout": {
          "annotationdefaults": {
           "arrowcolor": "#2a3f5f",
           "arrowhead": 0,
           "arrowwidth": 1
          },
          "autotypenumbers": "strict",
          "coloraxis": {
           "colorbar": {
            "outlinewidth": 0,
            "ticks": ""
           }
          },
          "colorscale": {
           "diverging": [
            [
             0,
             "#8e0152"
            ],
            [
             0.1,
             "#c51b7d"
            ],
            [
             0.2,
             "#de77ae"
            ],
            [
             0.3,
             "#f1b6da"
            ],
            [
             0.4,
             "#fde0ef"
            ],
            [
             0.5,
             "#f7f7f7"
            ],
            [
             0.6,
             "#e6f5d0"
            ],
            [
             0.7,
             "#b8e186"
            ],
            [
             0.8,
             "#7fbc41"
            ],
            [
             0.9,
             "#4d9221"
            ],
            [
             1,
             "#276419"
            ]
           ],
           "sequential": [
            [
             0,
             "#0d0887"
            ],
            [
             0.1111111111111111,
             "#46039f"
            ],
            [
             0.2222222222222222,
             "#7201a8"
            ],
            [
             0.3333333333333333,
             "#9c179e"
            ],
            [
             0.4444444444444444,
             "#bd3786"
            ],
            [
             0.5555555555555556,
             "#d8576b"
            ],
            [
             0.6666666666666666,
             "#ed7953"
            ],
            [
             0.7777777777777778,
             "#fb9f3a"
            ],
            [
             0.8888888888888888,
             "#fdca26"
            ],
            [
             1,
             "#f0f921"
            ]
           ],
           "sequentialminus": [
            [
             0,
             "#0d0887"
            ],
            [
             0.1111111111111111,
             "#46039f"
            ],
            [
             0.2222222222222222,
             "#7201a8"
            ],
            [
             0.3333333333333333,
             "#9c179e"
            ],
            [
             0.4444444444444444,
             "#bd3786"
            ],
            [
             0.5555555555555556,
             "#d8576b"
            ],
            [
             0.6666666666666666,
             "#ed7953"
            ],
            [
             0.7777777777777778,
             "#fb9f3a"
            ],
            [
             0.8888888888888888,
             "#fdca26"
            ],
            [
             1,
             "#f0f921"
            ]
           ]
          },
          "colorway": [
           "#636efa",
           "#EF553B",
           "#00cc96",
           "#ab63fa",
           "#FFA15A",
           "#19d3f3",
           "#FF6692",
           "#B6E880",
           "#FF97FF",
           "#FECB52"
          ],
          "font": {
           "color": "#2a3f5f"
          },
          "geo": {
           "bgcolor": "white",
           "lakecolor": "white",
           "landcolor": "#E5ECF6",
           "showlakes": true,
           "showland": true,
           "subunitcolor": "white"
          },
          "hoverlabel": {
           "align": "left"
          },
          "hovermode": "closest",
          "mapbox": {
           "style": "light"
          },
          "paper_bgcolor": "white",
          "plot_bgcolor": "#E5ECF6",
          "polar": {
           "angularaxis": {
            "gridcolor": "white",
            "linecolor": "white",
            "ticks": ""
           },
           "bgcolor": "#E5ECF6",
           "radialaxis": {
            "gridcolor": "white",
            "linecolor": "white",
            "ticks": ""
           }
          },
          "scene": {
           "xaxis": {
            "backgroundcolor": "#E5ECF6",
            "gridcolor": "white",
            "gridwidth": 2,
            "linecolor": "white",
            "showbackground": true,
            "ticks": "",
            "zerolinecolor": "white"
           },
           "yaxis": {
            "backgroundcolor": "#E5ECF6",
            "gridcolor": "white",
            "gridwidth": 2,
            "linecolor": "white",
            "showbackground": true,
            "ticks": "",
            "zerolinecolor": "white"
           },
           "zaxis": {
            "backgroundcolor": "#E5ECF6",
            "gridcolor": "white",
            "gridwidth": 2,
            "linecolor": "white",
            "showbackground": true,
            "ticks": "",
            "zerolinecolor": "white"
           }
          },
          "shapedefaults": {
           "line": {
            "color": "#2a3f5f"
           }
          },
          "ternary": {
           "aaxis": {
            "gridcolor": "white",
            "linecolor": "white",
            "ticks": ""
           },
           "baxis": {
            "gridcolor": "white",
            "linecolor": "white",
            "ticks": ""
           },
           "bgcolor": "#E5ECF6",
           "caxis": {
            "gridcolor": "white",
            "linecolor": "white",
            "ticks": ""
           }
          },
          "title": {
           "x": 0.05
          },
          "xaxis": {
           "automargin": true,
           "gridcolor": "white",
           "linecolor": "white",
           "ticks": "",
           "title": {
            "standoff": 15
           },
           "zerolinecolor": "white",
           "zerolinewidth": 2
          },
          "yaxis": {
           "automargin": true,
           "gridcolor": "white",
           "linecolor": "white",
           "ticks": "",
           "title": {
            "standoff": 15
           },
           "zerolinecolor": "white",
           "zerolinewidth": 2
          }
         }
        },
        "title": {
         "text": "Convergence test - k-point mesh"
        },
        "xaxis": {
         "anchor": "y",
         "domain": [
          0,
          1
         ],
         "matches": "x2",
         "showticklabels": false
        },
        "xaxis2": {
         "anchor": "y2",
         "domain": [
          0,
          1
         ],
         "title": {
          "text": "Number of k-points"
         }
        },
        "yaxis": {
         "anchor": "x",
         "domain": [
          0.575,
          1
         ],
         "range": [
          -4.402663449375,
          -4.382663449375
         ],
         "title": {
          "text": "Final energy per atom [eV]"
         }
        },
        "yaxis2": {
         "anchor": "x2",
         "domain": [
          0,
          0.425
         ],
         "title": {
          "text": "CPU time [min]"
         }
        }
       }
      }
     },
     "metadata": {},
     "output_type": "display_data"
    }
   ],
   "source": [
    "# graphing 1x2\n",
    "fig = make_subplots(rows=2, cols=1, shared_xaxes=True)\n",
    "\n",
    "for setting in results['Real space'].unique():\n",
    "    subset = results.query('`Real space`==@setting')\n",
    "    fig.append_trace(go.Scatter(\n",
    "                x=subset['# k-points'],\n",
    "                y=subset['Final energy [eV]'],\n",
    "                name=f'LREAL: {setting}',\n",
    "                hovertemplate=\n",
    "                    \"%{text}\"+\"<br>Number of k-points: %{x}\"+\"<br>Final energy: %{y}\",\n",
    "                text = subset['k-points']\n",
    "            ),\n",
    "            row=1, col=1\n",
    "            )\n",
    "    fig.append_trace(go.Scatter(\n",
    "                x=subset['# k-points'],\n",
    "                y=subset['CPU time [min]'],\n",
    "                name=f'LREAL: {setting}',\n",
    "                hovertemplate=\n",
    "                    \"%{text}\"+\"<br>Number of k-points: %{x}\"+\"<br>CPU time: %{y}\",\n",
    "                text = subset['k-points']\n",
    "            ),\n",
    "            row=2, col=1\n",
    "            )\n",
    "fig.update_layout(\n",
    "        title_text = 'Convergence test - k-point mesh',\n",
    "        )\n",
    "\n",
    "fig.update_xaxes(title_text='Number of k-points', row=2, col=1)\n",
    "fig.update_yaxes(title_text='Final energy per atom [eV]', row=1, col=1, range=[max_value-0.01,max_value+0.01])\n",
    "fig.update_yaxes(title_text='CPU time [min]', row=2, col=1)\n",
    "fig.add_hrect(y0=max_value-0.001,y1=max_value+0.001, row=1, col=1, line_width=0, fillcolor='yellow', opacity=0.2, annotation_text=\"1 meV range\", annotation_position=\"top left\")"
   ]
  },
  {
   "cell_type": "code",
   "execution_count": 545,
   "metadata": {},
   "outputs": [],
   "source": [
    "# save plot as HTML file\n",
    "fig.write_html('/Users/dominicwelti/Library/CloudStorage/Dropbox/Master_Thesis/Covergence test bulk/k_mesh_energy_settings_LREAL.html')"
   ]
  },
  {
   "cell_type": "code",
   "execution_count": 536,
   "metadata": {},
   "outputs": [
    {
     "data": {
      "application/vnd.plotly.v1+json": {
       "config": {
        "plotlyServerURL": "https://plot.ly"
       },
       "data": [
        {
         "hovertemplate": "%{text}<br>Number of k-points: %{x}<br>Band gap: %{y}",
         "name": "Reciprocal space band gap",
         "showlegend": false,
         "text": [
          "1x1x1",
          "1x2x2",
          "2x2x2",
          "2x2x4",
          "3x4x6",
          "3x5x6",
          "4x4x4",
          "4x5x8",
          "6x6x6",
          "5x7x11",
          "8x8x8",
          "6x8x13",
          "7x9x15",
          "6x10x12",
          "8x10x14"
         ],
         "type": "scatter",
         "x": [
          1,
          4,
          8,
          12,
          24,
          24,
          27,
          45,
          64,
          72,
          125,
          140,
          160,
          168,
          240
         ],
         "xaxis": "x",
         "y": [
          2.3892,
          2.351,
          2.8921,
          2.8922,
          2.8105,
          2.8107,
          2.819,
          2.819,
          2.8095999999999997,
          2.8402000000000003,
          2.819,
          2.8099,
          2.8099,
          2.8099,
          2.819
         ],
         "yaxis": "y"
        },
        {
         "hovertemplate": "%{text}<br>Number of k-points: %{x}<br>CPU time: %{y}",
         "name": "Reciprocal space computation time",
         "showlegend": false,
         "text": [
          "1x1x1",
          "1x2x2",
          "2x2x2",
          "2x2x4",
          "3x4x6",
          "3x5x6",
          "4x4x4",
          "4x5x8",
          "6x6x6",
          "5x7x11",
          "8x8x8",
          "6x8x13",
          "7x9x15",
          "6x10x12",
          "8x10x14"
         ],
         "type": "scatter",
         "x": [
          1,
          4,
          8,
          12,
          24,
          24,
          27,
          45,
          64,
          72,
          125,
          140,
          160,
          168,
          240
         ],
         "xaxis": "x3",
         "y": [
          5.81375,
          7.695533333333334,
          8.0502,
          11.030116666666666,
          18.76815,
          19.253933333333336,
          20.87458333333333,
          33.45036666666667,
          49.37175,
          50.709783333333334,
          88.61996666666667,
          99.72311666666666,
          113.95554999999999,
          120.59726666666667,
          169.91905
         ],
         "yaxis": "y3"
        },
        {
         "hovertemplate": "%{text}<br>Number of k-points: %{x}<br>Final energy: %{y}",
         "name": "Real space band gap",
         "showlegend": false,
         "text": [
          "1x1x1",
          "1x2x2",
          "2x2x2",
          "2x2x4",
          "3x5x6",
          "3x4x6",
          "4x4x4",
          "4x5x8",
          "6x6x6",
          "5x7x11",
          "8x8x8",
          "6x8x13",
          "7x9x15",
          "6x10x12",
          "8x10x14"
         ],
         "type": "scatter",
         "x": [
          1,
          4,
          8,
          12,
          24,
          24,
          27,
          45,
          64,
          72,
          125,
          140,
          160,
          168,
          240
         ],
         "xaxis": "x2",
         "y": [
          2.3826,
          2.3447000000000005,
          2.8929,
          2.8938000000000006,
          2.8109,
          2.8133,
          2.8222999999999994,
          2.8221999999999996,
          2.8114999999999997,
          2.8407999999999998,
          2.8206999999999995,
          2.8114999999999997,
          2.8117,
          2.8114999999999997,
          2.8206999999999995
         ],
         "yaxis": "y2"
        },
        {
         "hovertemplate": "%{text}<br>Number of k-points: %{x}<br>CPU time: %{y}",
         "name": "Real space computation time",
         "showlegend": false,
         "text": [
          "1x1x1",
          "1x2x2",
          "2x2x2",
          "2x2x4",
          "3x5x6",
          "3x4x6",
          "4x4x4",
          "4x5x8",
          "6x6x6",
          "5x7x11",
          "8x8x8",
          "6x8x13",
          "7x9x15",
          "6x10x12",
          "8x10x14"
         ],
         "type": "scatter",
         "x": [
          1,
          4,
          8,
          12,
          24,
          24,
          27,
          45,
          64,
          72,
          125,
          140,
          160,
          168,
          240
         ],
         "xaxis": "x4",
         "y": [
          6.1363,
          11.44805,
          4.608549999999999,
          7.3723833333333335,
          13.460033333333334,
          13.387483333333334,
          13.989533333333332,
          21.501133333333332,
          27.90056666666667,
          31.1123,
          53.3483,
          59.73093333333334,
          67.60253333333334,
          71.23615,
          101.04768333333332
         ],
         "yaxis": "y4"
        }
       ],
       "layout": {
        "template": {
         "data": {
          "bar": [
           {
            "error_x": {
             "color": "#2a3f5f"
            },
            "error_y": {
             "color": "#2a3f5f"
            },
            "marker": {
             "line": {
              "color": "#E5ECF6",
              "width": 0.5
             },
             "pattern": {
              "fillmode": "overlay",
              "size": 10,
              "solidity": 0.2
             }
            },
            "type": "bar"
           }
          ],
          "barpolar": [
           {
            "marker": {
             "line": {
              "color": "#E5ECF6",
              "width": 0.5
             },
             "pattern": {
              "fillmode": "overlay",
              "size": 10,
              "solidity": 0.2
             }
            },
            "type": "barpolar"
           }
          ],
          "carpet": [
           {
            "aaxis": {
             "endlinecolor": "#2a3f5f",
             "gridcolor": "white",
             "linecolor": "white",
             "minorgridcolor": "white",
             "startlinecolor": "#2a3f5f"
            },
            "baxis": {
             "endlinecolor": "#2a3f5f",
             "gridcolor": "white",
             "linecolor": "white",
             "minorgridcolor": "white",
             "startlinecolor": "#2a3f5f"
            },
            "type": "carpet"
           }
          ],
          "choropleth": [
           {
            "colorbar": {
             "outlinewidth": 0,
             "ticks": ""
            },
            "type": "choropleth"
           }
          ],
          "contour": [
           {
            "colorbar": {
             "outlinewidth": 0,
             "ticks": ""
            },
            "colorscale": [
             [
              0,
              "#0d0887"
             ],
             [
              0.1111111111111111,
              "#46039f"
             ],
             [
              0.2222222222222222,
              "#7201a8"
             ],
             [
              0.3333333333333333,
              "#9c179e"
             ],
             [
              0.4444444444444444,
              "#bd3786"
             ],
             [
              0.5555555555555556,
              "#d8576b"
             ],
             [
              0.6666666666666666,
              "#ed7953"
             ],
             [
              0.7777777777777778,
              "#fb9f3a"
             ],
             [
              0.8888888888888888,
              "#fdca26"
             ],
             [
              1,
              "#f0f921"
             ]
            ],
            "type": "contour"
           }
          ],
          "contourcarpet": [
           {
            "colorbar": {
             "outlinewidth": 0,
             "ticks": ""
            },
            "type": "contourcarpet"
           }
          ],
          "heatmap": [
           {
            "colorbar": {
             "outlinewidth": 0,
             "ticks": ""
            },
            "colorscale": [
             [
              0,
              "#0d0887"
             ],
             [
              0.1111111111111111,
              "#46039f"
             ],
             [
              0.2222222222222222,
              "#7201a8"
             ],
             [
              0.3333333333333333,
              "#9c179e"
             ],
             [
              0.4444444444444444,
              "#bd3786"
             ],
             [
              0.5555555555555556,
              "#d8576b"
             ],
             [
              0.6666666666666666,
              "#ed7953"
             ],
             [
              0.7777777777777778,
              "#fb9f3a"
             ],
             [
              0.8888888888888888,
              "#fdca26"
             ],
             [
              1,
              "#f0f921"
             ]
            ],
            "type": "heatmap"
           }
          ],
          "heatmapgl": [
           {
            "colorbar": {
             "outlinewidth": 0,
             "ticks": ""
            },
            "colorscale": [
             [
              0,
              "#0d0887"
             ],
             [
              0.1111111111111111,
              "#46039f"
             ],
             [
              0.2222222222222222,
              "#7201a8"
             ],
             [
              0.3333333333333333,
              "#9c179e"
             ],
             [
              0.4444444444444444,
              "#bd3786"
             ],
             [
              0.5555555555555556,
              "#d8576b"
             ],
             [
              0.6666666666666666,
              "#ed7953"
             ],
             [
              0.7777777777777778,
              "#fb9f3a"
             ],
             [
              0.8888888888888888,
              "#fdca26"
             ],
             [
              1,
              "#f0f921"
             ]
            ],
            "type": "heatmapgl"
           }
          ],
          "histogram": [
           {
            "marker": {
             "pattern": {
              "fillmode": "overlay",
              "size": 10,
              "solidity": 0.2
             }
            },
            "type": "histogram"
           }
          ],
          "histogram2d": [
           {
            "colorbar": {
             "outlinewidth": 0,
             "ticks": ""
            },
            "colorscale": [
             [
              0,
              "#0d0887"
             ],
             [
              0.1111111111111111,
              "#46039f"
             ],
             [
              0.2222222222222222,
              "#7201a8"
             ],
             [
              0.3333333333333333,
              "#9c179e"
             ],
             [
              0.4444444444444444,
              "#bd3786"
             ],
             [
              0.5555555555555556,
              "#d8576b"
             ],
             [
              0.6666666666666666,
              "#ed7953"
             ],
             [
              0.7777777777777778,
              "#fb9f3a"
             ],
             [
              0.8888888888888888,
              "#fdca26"
             ],
             [
              1,
              "#f0f921"
             ]
            ],
            "type": "histogram2d"
           }
          ],
          "histogram2dcontour": [
           {
            "colorbar": {
             "outlinewidth": 0,
             "ticks": ""
            },
            "colorscale": [
             [
              0,
              "#0d0887"
             ],
             [
              0.1111111111111111,
              "#46039f"
             ],
             [
              0.2222222222222222,
              "#7201a8"
             ],
             [
              0.3333333333333333,
              "#9c179e"
             ],
             [
              0.4444444444444444,
              "#bd3786"
             ],
             [
              0.5555555555555556,
              "#d8576b"
             ],
             [
              0.6666666666666666,
              "#ed7953"
             ],
             [
              0.7777777777777778,
              "#fb9f3a"
             ],
             [
              0.8888888888888888,
              "#fdca26"
             ],
             [
              1,
              "#f0f921"
             ]
            ],
            "type": "histogram2dcontour"
           }
          ],
          "mesh3d": [
           {
            "colorbar": {
             "outlinewidth": 0,
             "ticks": ""
            },
            "type": "mesh3d"
           }
          ],
          "parcoords": [
           {
            "line": {
             "colorbar": {
              "outlinewidth": 0,
              "ticks": ""
             }
            },
            "type": "parcoords"
           }
          ],
          "pie": [
           {
            "automargin": true,
            "type": "pie"
           }
          ],
          "scatter": [
           {
            "fillpattern": {
             "fillmode": "overlay",
             "size": 10,
             "solidity": 0.2
            },
            "type": "scatter"
           }
          ],
          "scatter3d": [
           {
            "line": {
             "colorbar": {
              "outlinewidth": 0,
              "ticks": ""
             }
            },
            "marker": {
             "colorbar": {
              "outlinewidth": 0,
              "ticks": ""
             }
            },
            "type": "scatter3d"
           }
          ],
          "scattercarpet": [
           {
            "marker": {
             "colorbar": {
              "outlinewidth": 0,
              "ticks": ""
             }
            },
            "type": "scattercarpet"
           }
          ],
          "scattergeo": [
           {
            "marker": {
             "colorbar": {
              "outlinewidth": 0,
              "ticks": ""
             }
            },
            "type": "scattergeo"
           }
          ],
          "scattergl": [
           {
            "marker": {
             "colorbar": {
              "outlinewidth": 0,
              "ticks": ""
             }
            },
            "type": "scattergl"
           }
          ],
          "scattermapbox": [
           {
            "marker": {
             "colorbar": {
              "outlinewidth": 0,
              "ticks": ""
             }
            },
            "type": "scattermapbox"
           }
          ],
          "scatterpolar": [
           {
            "marker": {
             "colorbar": {
              "outlinewidth": 0,
              "ticks": ""
             }
            },
            "type": "scatterpolar"
           }
          ],
          "scatterpolargl": [
           {
            "marker": {
             "colorbar": {
              "outlinewidth": 0,
              "ticks": ""
             }
            },
            "type": "scatterpolargl"
           }
          ],
          "scatterternary": [
           {
            "marker": {
             "colorbar": {
              "outlinewidth": 0,
              "ticks": ""
             }
            },
            "type": "scatterternary"
           }
          ],
          "surface": [
           {
            "colorbar": {
             "outlinewidth": 0,
             "ticks": ""
            },
            "colorscale": [
             [
              0,
              "#0d0887"
             ],
             [
              0.1111111111111111,
              "#46039f"
             ],
             [
              0.2222222222222222,
              "#7201a8"
             ],
             [
              0.3333333333333333,
              "#9c179e"
             ],
             [
              0.4444444444444444,
              "#bd3786"
             ],
             [
              0.5555555555555556,
              "#d8576b"
             ],
             [
              0.6666666666666666,
              "#ed7953"
             ],
             [
              0.7777777777777778,
              "#fb9f3a"
             ],
             [
              0.8888888888888888,
              "#fdca26"
             ],
             [
              1,
              "#f0f921"
             ]
            ],
            "type": "surface"
           }
          ],
          "table": [
           {
            "cells": {
             "fill": {
              "color": "#EBF0F8"
             },
             "line": {
              "color": "white"
             }
            },
            "header": {
             "fill": {
              "color": "#C8D4E3"
             },
             "line": {
              "color": "white"
             }
            },
            "type": "table"
           }
          ]
         },
         "layout": {
          "annotationdefaults": {
           "arrowcolor": "#2a3f5f",
           "arrowhead": 0,
           "arrowwidth": 1
          },
          "autotypenumbers": "strict",
          "coloraxis": {
           "colorbar": {
            "outlinewidth": 0,
            "ticks": ""
           }
          },
          "colorscale": {
           "diverging": [
            [
             0,
             "#8e0152"
            ],
            [
             0.1,
             "#c51b7d"
            ],
            [
             0.2,
             "#de77ae"
            ],
            [
             0.3,
             "#f1b6da"
            ],
            [
             0.4,
             "#fde0ef"
            ],
            [
             0.5,
             "#f7f7f7"
            ],
            [
             0.6,
             "#e6f5d0"
            ],
            [
             0.7,
             "#b8e186"
            ],
            [
             0.8,
             "#7fbc41"
            ],
            [
             0.9,
             "#4d9221"
            ],
            [
             1,
             "#276419"
            ]
           ],
           "sequential": [
            [
             0,
             "#0d0887"
            ],
            [
             0.1111111111111111,
             "#46039f"
            ],
            [
             0.2222222222222222,
             "#7201a8"
            ],
            [
             0.3333333333333333,
             "#9c179e"
            ],
            [
             0.4444444444444444,
             "#bd3786"
            ],
            [
             0.5555555555555556,
             "#d8576b"
            ],
            [
             0.6666666666666666,
             "#ed7953"
            ],
            [
             0.7777777777777778,
             "#fb9f3a"
            ],
            [
             0.8888888888888888,
             "#fdca26"
            ],
            [
             1,
             "#f0f921"
            ]
           ],
           "sequentialminus": [
            [
             0,
             "#0d0887"
            ],
            [
             0.1111111111111111,
             "#46039f"
            ],
            [
             0.2222222222222222,
             "#7201a8"
            ],
            [
             0.3333333333333333,
             "#9c179e"
            ],
            [
             0.4444444444444444,
             "#bd3786"
            ],
            [
             0.5555555555555556,
             "#d8576b"
            ],
            [
             0.6666666666666666,
             "#ed7953"
            ],
            [
             0.7777777777777778,
             "#fb9f3a"
            ],
            [
             0.8888888888888888,
             "#fdca26"
            ],
            [
             1,
             "#f0f921"
            ]
           ]
          },
          "colorway": [
           "#636efa",
           "#EF553B",
           "#00cc96",
           "#ab63fa",
           "#FFA15A",
           "#19d3f3",
           "#FF6692",
           "#B6E880",
           "#FF97FF",
           "#FECB52"
          ],
          "font": {
           "color": "#2a3f5f"
          },
          "geo": {
           "bgcolor": "white",
           "lakecolor": "white",
           "landcolor": "#E5ECF6",
           "showlakes": true,
           "showland": true,
           "subunitcolor": "white"
          },
          "hoverlabel": {
           "align": "left"
          },
          "hovermode": "closest",
          "mapbox": {
           "style": "light"
          },
          "paper_bgcolor": "white",
          "plot_bgcolor": "#E5ECF6",
          "polar": {
           "angularaxis": {
            "gridcolor": "white",
            "linecolor": "white",
            "ticks": ""
           },
           "bgcolor": "#E5ECF6",
           "radialaxis": {
            "gridcolor": "white",
            "linecolor": "white",
            "ticks": ""
           }
          },
          "scene": {
           "xaxis": {
            "backgroundcolor": "#E5ECF6",
            "gridcolor": "white",
            "gridwidth": 2,
            "linecolor": "white",
            "showbackground": true,
            "ticks": "",
            "zerolinecolor": "white"
           },
           "yaxis": {
            "backgroundcolor": "#E5ECF6",
            "gridcolor": "white",
            "gridwidth": 2,
            "linecolor": "white",
            "showbackground": true,
            "ticks": "",
            "zerolinecolor": "white"
           },
           "zaxis": {
            "backgroundcolor": "#E5ECF6",
            "gridcolor": "white",
            "gridwidth": 2,
            "linecolor": "white",
            "showbackground": true,
            "ticks": "",
            "zerolinecolor": "white"
           }
          },
          "shapedefaults": {
           "line": {
            "color": "#2a3f5f"
           }
          },
          "ternary": {
           "aaxis": {
            "gridcolor": "white",
            "linecolor": "white",
            "ticks": ""
           },
           "baxis": {
            "gridcolor": "white",
            "linecolor": "white",
            "ticks": ""
           },
           "bgcolor": "#E5ECF6",
           "caxis": {
            "gridcolor": "white",
            "linecolor": "white",
            "ticks": ""
           }
          },
          "title": {
           "x": 0.05
          },
          "xaxis": {
           "automargin": true,
           "gridcolor": "white",
           "linecolor": "white",
           "ticks": "",
           "title": {
            "standoff": 15
           },
           "zerolinecolor": "white",
           "zerolinewidth": 2
          },
          "yaxis": {
           "automargin": true,
           "gridcolor": "white",
           "linecolor": "white",
           "ticks": "",
           "title": {
            "standoff": 15
           },
           "zerolinecolor": "white",
           "zerolinewidth": 2
          }
         }
        },
        "title": {
         "text": "Band gap - k-point mesh"
        },
        "xaxis": {
         "anchor": "y",
         "domain": [
          0,
          0.45
         ],
         "matches": "x3",
         "showticklabels": false
        },
        "xaxis2": {
         "anchor": "y2",
         "domain": [
          0.55,
          1
         ],
         "matches": "x4",
         "showticklabels": false
        },
        "xaxis3": {
         "anchor": "y3",
         "domain": [
          0,
          0.45
         ],
         "title": {
          "text": "Number of k-points"
         }
        },
        "xaxis4": {
         "anchor": "y4",
         "domain": [
          0.55,
          1
         ],
         "title": {
          "text": "Number of k-points"
         }
        },
        "yaxis": {
         "anchor": "x",
         "domain": [
          0.575,
          1
         ],
         "title": {
          "text": "Band gap [eV]"
         }
        },
        "yaxis2": {
         "anchor": "x2",
         "domain": [
          0.575,
          1
         ],
         "title": {
          "text": "Band gap [eV]"
         }
        },
        "yaxis3": {
         "anchor": "x3",
         "domain": [
          0,
          0.425
         ],
         "title": {
          "text": "CPU time [min]"
         }
        },
        "yaxis4": {
         "anchor": "x4",
         "domain": [
          0,
          0.425
         ],
         "title": {
          "text": "CPU time [min]"
         }
        }
       }
      }
     },
     "metadata": {},
     "output_type": "display_data"
    }
   ],
   "source": [
    "# graphing for k-points - band gap\n",
    "fig = make_subplots(rows=2, cols=2, shared_xaxes=True)\n",
    "\n",
    "fig.append_trace(go.Scatter(\n",
    "            x=results_off['# k-points'],\n",
    "            y=results_off['Band gap [eV]'],\n",
    "            name='Reciprocal space band gap',\n",
    "            hovertemplate=\n",
    "                \"%{text}\"+\"<br>Number of k-points: %{x}\"+\"<br>Band gap: %{y}\",\n",
    "            text = results_off['k-points'],\n",
    "            showlegend=False\n",
    "        ),\n",
    "        row=1, col=1\n",
    "        )\n",
    "fig.append_trace(go.Scatter(\n",
    "            x=results_off['# k-points'],\n",
    "            y=results_off['CPU time [min]'],\n",
    "            name='Reciprocal space computation time',\n",
    "            hovertemplate=\n",
    "                \"%{text}\"+\"<br>Number of k-points: %{x}\"+\"<br>CPU time: %{y}\",\n",
    "            text = results_off['k-points'],\n",
    "            showlegend=False\n",
    "        ),\n",
    "        row=2, col=1\n",
    "        )\n",
    "fig.update_layout(\n",
    "        title_text = 'Band gap - k-point mesh',\n",
    "        )\n",
    "\n",
    "fig.update_xaxes(title_text='Number of k-points', row=2, col=1)\n",
    "fig.update_yaxes(title_text='Band gap [eV]', row=1, col=1)\n",
    "fig.update_yaxes(title_text='CPU time [min]', row=2, col=1)\n",
    "\n",
    "fig.append_trace(go.Scatter(\n",
    "            x=results_on['# k-points'],\n",
    "            y=results_on['Band gap [eV]'],\n",
    "            name='Real space band gap',\n",
    "            hovertemplate=\n",
    "                \"%{text}\"+\"<br>Number of k-points: %{x}\"+\"<br>Final energy: %{y}\",\n",
    "            text = results_on['k-points'],\n",
    "            showlegend=False\n",
    "        ),\n",
    "        row=1, col=2\n",
    "        )\n",
    "fig.append_trace(go.Scatter(\n",
    "            x=results_on['# k-points'],\n",
    "            y=results_on['CPU time [min]'],\n",
    "            name='Real space computation time',\n",
    "            hovertemplate=\n",
    "                \"%{text}\"+\"<br>Number of k-points: %{x}\"+\"<br>CPU time: %{y}\",\n",
    "            text = results_on['k-points'],\n",
    "            showlegend=False\n",
    "        ),\n",
    "        row=2, col=2\n",
    "        )\n",
    "\n",
    "fig.update_xaxes(title_text='Number of k-points', row=2, col=2)\n",
    "fig.update_yaxes(title_text='Band gap [eV]', row=1, col=2)\n",
    "fig.update_yaxes(title_text='CPU time [min]', row=2, col=2)"
   ]
  },
  {
   "cell_type": "code",
   "execution_count": 537,
   "metadata": {},
   "outputs": [],
   "source": [
    "# save plot as HTML file\n",
    "fig.write_html('/Users/dominicwelti/Library/CloudStorage/Dropbox/Master_Thesis/Covergence test bulk/k_mesh_bandgap.html')"
   ]
  }
 ],
 "metadata": {
  "kernelspec": {
   "display_name": "base",
   "language": "python",
   "name": "python3"
  },
  "language_info": {
   "codemirror_mode": {
    "name": "ipython",
    "version": 3
   },
   "file_extension": ".py",
   "mimetype": "text/x-python",
   "name": "python",
   "nbconvert_exporter": "python",
   "pygments_lexer": "ipython3",
   "version": "3.9.16"
  },
  "orig_nbformat": 4
 },
 "nbformat": 4,
 "nbformat_minor": 2
}
