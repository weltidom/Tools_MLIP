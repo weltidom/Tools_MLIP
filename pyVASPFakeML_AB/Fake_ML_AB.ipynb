{
 "cells": [
  {
   "cell_type": "code",
   "execution_count": 1,
   "metadata": {},
   "outputs": [],
   "source": [
    "from pymatgen.io import vasp\n",
    "\n",
    "class Job:\n",
    "    '''Job class containing the results of a VASP ab-initio MD run. Parses vasprun.xml and POSCAR.'''\n",
    "    def __init__(self, name: str, path_job: str):\n",
    "        self.name = name # name of file\n",
    "        self.path = path_job # path to folder containing POSCAR & vasprun.xml\n",
    "        self.run = vasp.Vasprun(f'{self.path}/vasprun.xml')\n",
    "        self.poscar = vasp.Poscar.from_file(f'{self.path}/POSCAR')\n",
    "        print(f'{self.name} job instance started')"
   ]
  },
  {
   "cell_type": "code",
   "execution_count": 2,
   "metadata": {},
   "outputs": [],
   "source": [
    "import pandas as pd\n",
    "import numpy as np\n",
    "\n",
    "class ML_AB:\n",
    "    def __init__(self, job:Job, save_path:str):\n",
    "        self.path = save_path\n",
    "        self.jobs = [job.name]\n",
    "        self.steps = []\n",
    "\n",
    "    def get_header(self, job:Job):\n",
    "        self.header = pd.DataFrame({\n",
    "            'The number of configurations': len(job.run.structures),\n",
    "            'The maximum number of atom type': len(job.poscar.site_symbols),\n",
    "            'The atom types in the data file': [job.poscar.site_symbols],\n",
    "            'The maximum number of atoms per system': sum(job.poscar.natoms),\n",
    "            'The maximum number of atoms per atom type': max(job.poscar.natoms),\n",
    "            'Reference atomic energy (eV)':[ len(job.poscar.site_symbols)*['0.000000000000000E+000']],\n",
    "            'Atomic mass': [job.run.parameters['POMASS']],\n",
    "            'The numbers of basis sets per atom type': [len(job.poscar.site_symbols)*['1']]\n",
    "        })\n",
    "\n",
    "        # add placeholder for basis sets per atom    \n",
    "        for atom_type in self.header['The atom types in the data file'].to_list()[0]:\n",
    "            self.header[f'Basis set for {atom_type}'] = [['1','1']]\n",
    "\n",
    "    def update_header(self, job:Job):\n",
    "        '''Update header data with new job'''\n",
    "        if self.header['The atom types in the data file'].to_list()==[job.poscar.site_symbols]:\n",
    "            print('Same atoms types')\n",
    "        else:\n",
    "            print('Different atom types: needs adjustment to code!')\n",
    "\n",
    "        self.header['The number of configurations']+=len(job.run.structures)\n",
    "        self.jobs.append(job.name)\n",
    "\n",
    "    def get_atoms_type_no(self, job:Job):\n",
    "        lines=[]\n",
    "        for i, element in enumerate(job.poscar.site_symbols):\n",
    "            lines.append([element,job.poscar.natoms[i]])\n",
    "        return lines\n",
    "    \n",
    "    def get_step(self, job:Job, config: int, step: int):\n",
    "        '''Produces data frame with entries for an individual MD step'''\n",
    "        self.step = pd.DataFrame({\n",
    "            'Configuration num.': config,\n",
    "            'System name': job.poscar.comment,\n",
    "            'The number of atom types': self.header['The maximum number of atom type'],\n",
    "            'The number of atoms': self.header['The maximum number of atoms per system'],\n",
    "            'Atom types and atom numbers': [self.get_atoms_type_no(job)],\n",
    "            'Primitive lattice vectors (ang.)': [job.run.structures[step].lattice._matrix],\n",
    "            'Atomic positions (ang.)': [job.run.structures[step].cart_coords],\n",
    "            'Total energy (eV)': job.run.ionic_steps[step]['e_0_energy'],\n",
    "            'Forces (eV ang.^-1)': [job.run.ionic_steps[step]['forces']],\n",
    "            'Stress (kbar)': '',\n",
    "            'XX YY ZZ': [[job.run.ionic_steps[step]['stress'][0][0],job.run.ionic_steps[step]['stress'][1][1],job.run.ionic_steps[step]['stress'][2][2]]],\n",
    "            'XY YZ ZX': [[job.run.ionic_steps[step]['stress'][1][0],job.run.ionic_steps[step]['stress'][1][2],job.run.ionic_steps[step]['stress'][0][2]]],\n",
    "        })\n",
    "    \n",
    "    def save_steps(self):\n",
    "        self.steps.append(self.step)\n",
    "\n",
    "    def write_header(self):\n",
    "        '''Create file and write initial headers'''\n",
    "        with open(f'{self.path}/ML_AB.txt', 'w') as f:\n",
    "            f.write(' 1.0 Version\\n')\n",
    "            for parameter in self.header.columns:\n",
    "                f.write('**************************************************\\n')\n",
    "                f.write(f'     {parameter}\\n')\n",
    "                f.write('--------------------------------------------------\\n')\n",
    "                f.write('     ')\n",
    "                try:\n",
    "                    i=1\n",
    "                    for entry in self.header[parameter][0]:\n",
    "                        if i<=3:\n",
    "                            f.write(f'{entry} ')\n",
    "                            i+=1\n",
    "                        else:\n",
    "                            f.write('\\n')\n",
    "                            f.write(f'     {entry} ')\n",
    "                            i=1\n",
    "                    f.write('\\n')\n",
    "                except:\n",
    "                    f.write(f'{self.header[parameter].to_string(index=False)}\\n')\n",
    "\n",
    "    def write_step(self, data:pd.DataFrame, ctifor:str='10.000000000000000E-002'):\n",
    "        '''Append step entries to file'''\n",
    "        with open(f'{self.path}/ML_AB.txt', 'a') as f:\n",
    "            f.write('**************************************************\\n')\n",
    "            f.write(f'     Configuration num.\\t{int(data[\"Configuration num.\"])+1}\\n')\n",
    "\n",
    "            f.write('==================================================\\n')\n",
    "            f.write(f'     System name\\n')\n",
    "            f.write('--------------------------------------------------\\n')\n",
    "            f.write(f'     {data[\"System name\"].to_string(index=False)}\\n')\n",
    "\n",
    "            f.write('==================================================\\n')\n",
    "            f.write(f'     The number of atom types\\n')\n",
    "            f.write('--------------------------------------------------\\n')\n",
    "            f.write(f'       {int(data[\"The number of atom types\"])}\\n')\n",
    "\n",
    "            f.write('==================================================\\n')\n",
    "            f.write(f'     The number of atoms\\n')\n",
    "            f.write('--------------------------------------------------\\n')\n",
    "            f.write(f'         {int(data[\"The number of atoms\"])}\\n')\n",
    "\n",
    "            f.write('**************************************************\\n')\n",
    "            f.write(f'     Atom types and atom numbers\\n')\n",
    "            f.write('--------------------------------------------------\\n')\n",
    "            for atom, no in data['Atom types and atom numbers'][0]:\n",
    "                f.write(f'     {atom}     {no}\\n')\n",
    "\n",
    "            f.write('==================================================\\n')\n",
    "            f.write(f'     CTIFOR\\n')\n",
    "            f.write('--------------------------------------------------\\n')\n",
    "            f.write(f'         {ctifor}\\n')\n",
    "\n",
    "            f.write('==================================================\\n')\n",
    "            f.write(f'     Primitive lattice vectors (ang.)\\n')\n",
    "            f.write('--------------------------------------------------\\n')\n",
    "            for line in data['Primitive lattice vectors (ang.)'][0]:\n",
    "                f.write(f'   {line[0]}      {line[1]}      {line[2]}\\n')\n",
    "\n",
    "            f.write('==================================================\\n')\n",
    "            f.write(f'     Atomic positions (ang.)\\n')\n",
    "            f.write('--------------------------------------------------\\n')\n",
    "            for line in data['Atomic positions (ang.)'][0]:\n",
    "                f.write(f'   {line[0]}      {line[1]}      {line[2]}\\n')\n",
    "\n",
    "            f.write('==================================================\\n')\n",
    "            f.write(f'     Total energy (eV)\\n')\n",
    "            f.write('--------------------------------------------------\\n')\n",
    "            f.write(f'   {data[\"Total energy (eV)\"][0]}\\n')\n",
    "    \n",
    "            f.write('==================================================\\n')\n",
    "            f.write(f'     Forces (eV ang.^-1)\\n')\n",
    "            f.write('--------------------------------------------------\\n')\n",
    "            for line in data['Forces (eV ang.^-1)'][0]:\n",
    "                f.write(f'   {line[0]}      {line[1]}      {line[2]}\\n')\n",
    "\n",
    "            f.write('==================================================\\n')\n",
    "            f.write(f'     Stress (kbar)\\n')\n",
    "            f.write('--------------------------------------------------\\n')\n",
    "            f.write(f'     XX YY ZZ\\n')\n",
    "            f.write('--------------------------------------------------\\n')\n",
    "            for line in data['XX YY ZZ']:\n",
    "                f.write(f'   {line[0]}\\t{line[1]}\\t{line[2]}\\n')\n",
    "            f.write('--------------------------------------------------\\n')\n",
    "            f.write(f'     XY YZ ZX\\n')\n",
    "            f.write('--------------------------------------------------\\n')\n",
    "            for line in data['XY YZ ZX']:\n",
    "                f.write(f'   {line[0]}      {line[1]}      {line[2]}\\n')"
   ]
  },
  {
   "cell_type": "code",
   "execution_count": 3,
   "metadata": {},
   "outputs": [],
   "source": [
    "master_dir = '/Users/dominicwelti/Library/CloudStorage/Dropbox/Master_Thesis/Compare_ML/Ref_VASP_MD/'"
   ]
  },
  {
   "cell_type": "code",
   "execution_count": 4,
   "metadata": {},
   "outputs": [],
   "source": [
    "# list jobs in folder to be loaded\n",
    "import os\n",
    "jobs = os.listdir(f'{master_dir}')\n",
    "jobs = list(filter(lambda x: x.startswith('v'),jobs))\n",
    "\n",
    "jobs.sort()"
   ]
  },
  {
   "cell_type": "code",
   "execution_count": 5,
   "metadata": {},
   "outputs": [
    {
     "name": "stderr",
     "output_type": "stream",
     "text": [
      "/Users/dominicwelti/opt/anaconda3/lib/python3.9/site-packages/pymatgen/io/vasp/outputs.py:142: UserWarning: Float overflow (*******) encountered in vasprun\n",
      "  warnings.warn(\"Float overflow (*******) encountered in vasprun\")\n",
      "/Users/dominicwelti/opt/anaconda3/lib/python3.9/site-packages/pymatgen/io/vasp/outputs.py:1098: UserWarning: No POTCAR file with matching TITEL fields was found in /Users/dominicwelti/Library/CloudStorage/Dropbox/Master_Thesis/Compare_ML/Ref_VASP_MD/v085\n",
      "  warnings.warn(f\"No POTCAR file with matching TITEL fields was found in {os.path.abspath(p)}\")\n"
     ]
    },
    {
     "name": "stdout",
     "output_type": "stream",
     "text": [
      "v085 job instance started\n"
     ]
    },
    {
     "name": "stderr",
     "output_type": "stream",
     "text": [
      "/Users/dominicwelti/opt/anaconda3/lib/python3.9/site-packages/pymatgen/io/vasp/outputs.py:142: UserWarning: Float overflow (*******) encountered in vasprun\n",
      "  warnings.warn(\"Float overflow (*******) encountered in vasprun\")\n",
      "/Users/dominicwelti/opt/anaconda3/lib/python3.9/site-packages/pymatgen/io/vasp/outputs.py:1098: UserWarning: No POTCAR file with matching TITEL fields was found in /Users/dominicwelti/Library/CloudStorage/Dropbox/Master_Thesis/Compare_ML/Ref_VASP_MD/v085\n",
      "  warnings.warn(f\"No POTCAR file with matching TITEL fields was found in {os.path.abspath(p)}\")\n"
     ]
    },
    {
     "name": "stdout",
     "output_type": "stream",
     "text": [
      "v085 job instance started\n"
     ]
    },
    {
     "name": "stderr",
     "output_type": "stream",
     "text": [
      "/Users/dominicwelti/opt/anaconda3/lib/python3.9/site-packages/pymatgen/io/vasp/outputs.py:1098: UserWarning: No POTCAR file with matching TITEL fields was found in /Users/dominicwelti/Library/CloudStorage/Dropbox/Master_Thesis/Compare_ML/Ref_VASP_MD/v090\n",
      "  warnings.warn(f\"No POTCAR file with matching TITEL fields was found in {os.path.abspath(p)}\")\n"
     ]
    },
    {
     "name": "stdout",
     "output_type": "stream",
     "text": [
      "v090 job instance started\n",
      "Same atoms types\n"
     ]
    },
    {
     "name": "stderr",
     "output_type": "stream",
     "text": [
      "/Users/dominicwelti/opt/anaconda3/lib/python3.9/site-packages/pymatgen/io/vasp/outputs.py:1098: UserWarning: No POTCAR file with matching TITEL fields was found in /Users/dominicwelti/Library/CloudStorage/Dropbox/Master_Thesis/Compare_ML/Ref_VASP_MD/v095\n",
      "  warnings.warn(f\"No POTCAR file with matching TITEL fields was found in {os.path.abspath(p)}\")\n"
     ]
    },
    {
     "name": "stdout",
     "output_type": "stream",
     "text": [
      "v095 job instance started\n",
      "Same atoms types\n"
     ]
    },
    {
     "name": "stderr",
     "output_type": "stream",
     "text": [
      "/Users/dominicwelti/opt/anaconda3/lib/python3.9/site-packages/pymatgen/io/vasp/outputs.py:1098: UserWarning: No POTCAR file with matching TITEL fields was found in /Users/dominicwelti/Library/CloudStorage/Dropbox/Master_Thesis/Compare_ML/Ref_VASP_MD/v100\n",
      "  warnings.warn(f\"No POTCAR file with matching TITEL fields was found in {os.path.abspath(p)}\")\n"
     ]
    },
    {
     "name": "stdout",
     "output_type": "stream",
     "text": [
      "v100 job instance started\n",
      "Same atoms types\n"
     ]
    },
    {
     "name": "stderr",
     "output_type": "stream",
     "text": [
      "/Users/dominicwelti/opt/anaconda3/lib/python3.9/site-packages/pymatgen/io/vasp/outputs.py:1098: UserWarning: No POTCAR file with matching TITEL fields was found in /Users/dominicwelti/Library/CloudStorage/Dropbox/Master_Thesis/Compare_ML/Ref_VASP_MD/v105\n",
      "  warnings.warn(f\"No POTCAR file with matching TITEL fields was found in {os.path.abspath(p)}\")\n"
     ]
    },
    {
     "name": "stdout",
     "output_type": "stream",
     "text": [
      "v105 job instance started\n",
      "Same atoms types\n"
     ]
    },
    {
     "name": "stderr",
     "output_type": "stream",
     "text": [
      "/Users/dominicwelti/opt/anaconda3/lib/python3.9/site-packages/pymatgen/io/vasp/outputs.py:1098: UserWarning: No POTCAR file with matching TITEL fields was found in /Users/dominicwelti/Library/CloudStorage/Dropbox/Master_Thesis/Compare_ML/Ref_VASP_MD/v110\n",
      "  warnings.warn(f\"No POTCAR file with matching TITEL fields was found in {os.path.abspath(p)}\")\n"
     ]
    },
    {
     "name": "stdout",
     "output_type": "stream",
     "text": [
      "v110 job instance started\n",
      "Same atoms types\n"
     ]
    },
    {
     "name": "stderr",
     "output_type": "stream",
     "text": [
      "/Users/dominicwelti/opt/anaconda3/lib/python3.9/site-packages/pymatgen/io/vasp/outputs.py:1098: UserWarning: No POTCAR file with matching TITEL fields was found in /Users/dominicwelti/Library/CloudStorage/Dropbox/Master_Thesis/Compare_ML/Ref_VASP_MD/v115\n",
      "  warnings.warn(f\"No POTCAR file with matching TITEL fields was found in {os.path.abspath(p)}\")\n"
     ]
    },
    {
     "name": "stdout",
     "output_type": "stream",
     "text": [
      "v115 job instance started\n",
      "Same atoms types\n"
     ]
    },
    {
     "name": "stderr",
     "output_type": "stream",
     "text": [
      "/Users/dominicwelti/opt/anaconda3/lib/python3.9/site-packages/pymatgen/io/vasp/outputs.py:1098: UserWarning: No POTCAR file with matching TITEL fields was found in /Users/dominicwelti/Library/CloudStorage/Dropbox/Master_Thesis/Compare_ML/Ref_VASP_MD/v120\n",
      "  warnings.warn(f\"No POTCAR file with matching TITEL fields was found in {os.path.abspath(p)}\")\n"
     ]
    },
    {
     "name": "stdout",
     "output_type": "stream",
     "text": [
      "v120 job instance started\n",
      "Same atoms types\n"
     ]
    },
    {
     "name": "stderr",
     "output_type": "stream",
     "text": [
      "/Users/dominicwelti/opt/anaconda3/lib/python3.9/site-packages/pymatgen/io/vasp/outputs.py:1098: UserWarning: No POTCAR file with matching TITEL fields was found in /Users/dominicwelti/Library/CloudStorage/Dropbox/Master_Thesis/Compare_ML/Ref_VASP_MD/v125\n",
      "  warnings.warn(f\"No POTCAR file with matching TITEL fields was found in {os.path.abspath(p)}\")\n"
     ]
    },
    {
     "name": "stdout",
     "output_type": "stream",
     "text": [
      "v125 job instance started\n",
      "Same atoms types\n"
     ]
    }
   ],
   "source": [
    "# load and save data\n",
    "job_init = Job(jobs[0], f'{master_dir}/{jobs[0]}')\n",
    "ml_ab = ML_AB(job_init, master_dir)\n",
    "ml_ab.get_header(job_init)\n",
    "no_config_prev = 0\n",
    "\n",
    "for i, job in enumerate(jobs):\n",
    "    job = Job(job, f'{master_dir}/{job}')\n",
    "\n",
    "    #update no. of configurations\n",
    "    if i>0:\n",
    "        no_config_prev = int(ml_ab.header['The number of configurations'])\n",
    "        ml_ab.update_header(job)\n",
    "\n",
    "    md_step = 0 #tracking MD step within individual run\n",
    "    for config in range(no_config_prev,int(ml_ab.header['The number of configurations'])): #iterate over added configurations by new md run\n",
    "        ml_ab.get_step(job,config, md_step)\n",
    "        ml_ab.save_steps()\n",
    "        md_step+=1"
   ]
  },
  {
   "cell_type": "code",
   "execution_count": 7,
   "metadata": {},
   "outputs": [],
   "source": [
    "def decimate(ml_ab:ML_AB):\n",
    "    '''Remove 9/10 of all configurations to reduce computational demand during retraining. Every 10th configurations is kept (1, 11, 21, ...).'''\n",
    "    i=0 # index altered df\n",
    "    j=0 # index original df\n",
    "    for config in ml_ab.steps:\n",
    "        if config['Configuration num.']%10==1:\n",
    "            ml_ab.steps[j]['Configuration num.'] = i\n",
    "            i+=1\n",
    "        else:\n",
    "            ml_ab.steps.pop(j)\n",
    "        j+=1\n",
    "    \n",
    "    # update total number of configurations\n",
    "    ml_ab.header['The number of configurations'] = j\n",
    "    \n",
    "    return ml_ab\n"
   ]
  },
  {
   "cell_type": "code",
   "execution_count": 1,
   "metadata": {},
   "outputs": [
    {
     "ename": "NameError",
     "evalue": "name 'ml_ab' is not defined",
     "output_type": "error",
     "traceback": [
      "\u001b[0;31m---------------------------------------------------------------------------\u001b[0m",
      "\u001b[0;31mNameError\u001b[0m                                 Traceback (most recent call last)",
      "Cell \u001b[0;32mIn[1], line 1\u001b[0m\n\u001b[0;32m----> 1\u001b[0m ml_ab_og \u001b[39m=\u001b[39m ml_ab\n\u001b[1;32m      2\u001b[0m ml_ab \u001b[39m=\u001b[39m decimate(ml_ab_og)\n",
      "\u001b[0;31mNameError\u001b[0m: name 'ml_ab' is not defined"
     ]
    }
   ],
   "source": [
    "ml_ab_og = ml_ab\n",
    "ml_ab = decimate(ml_ab_og)"
   ]
  },
  {
   "cell_type": "code",
   "execution_count": 17,
   "metadata": {},
   "outputs": [],
   "source": [
    "#write header\n",
    "ml_ab.write_header()"
   ]
  },
  {
   "cell_type": "code",
   "execution_count": 18,
   "metadata": {},
   "outputs": [],
   "source": [
    "#write all steps (configurations)\n",
    "for step in ml_ab.steps:\n",
    "    ml_ab.write_step(data=step,ctifor='8.000000000000000E-002')"
   ]
  },
  {
   "cell_type": "code",
   "execution_count": 22,
   "metadata": {},
   "outputs": [
    {
     "data": {
      "text/plain": [
       "[array([[9.22120276, 0.        , 0.        ],\n",
       "        [0.        , 9.22120276, 0.        ],\n",
       "        [0.        , 0.        , 9.22120276]])]"
      ]
     },
     "execution_count": 22,
     "metadata": {},
     "output_type": "execute_result"
    }
   ],
   "source": [
    "ml_ab.steps[4001]['Primitive lattice vectors (ang.)'].to_list()"
   ]
  }
 ],
 "metadata": {
  "kernelspec": {
   "display_name": "base",
   "language": "python",
   "name": "python3"
  },
  "language_info": {
   "codemirror_mode": {
    "name": "ipython",
    "version": 3
   },
   "file_extension": ".py",
   "mimetype": "text/x-python",
   "name": "python",
   "nbconvert_exporter": "python",
   "pygments_lexer": "ipython3",
   "version": "3.9.16"
  },
  "orig_nbformat": 4
 },
 "nbformat": 4,
 "nbformat_minor": 2
}
