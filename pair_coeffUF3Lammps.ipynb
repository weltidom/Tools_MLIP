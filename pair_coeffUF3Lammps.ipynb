{
 "cells": [
  {
   "cell_type": "code",
   "execution_count": 77,
   "metadata": {},
   "outputs": [],
   "source": [
    "# permutations for 2 and 3 body UF3 potential files for use in LAMMPS\n",
    "import itertools\n",
    "\n",
    "elements = {1:'Ta', 2:'V', 3:'Cr', 4:'W'}"
   ]
  },
  {
   "cell_type": "code",
   "execution_count": 110,
   "metadata": {},
   "outputs": [],
   "source": [
    "def produce_combinations(elements, n_body):\n",
    "    combinations=list(itertools.product(elements.values(), repeat=n_body))\n",
    "    # remove duplicate products (same elements contained just in different positions)\n",
    "    return set(tuple(sorted(l)) for l in combinations)\n",
    "    #return combinations"
   ]
  },
  {
   "cell_type": "code",
   "execution_count": 111,
   "metadata": {},
   "outputs": [],
   "source": [
    "lst=[]\n",
    "for body in [2,3]:\n",
    "    for combination in produce_combinations(elements,body):\n",
    "        lst_no=[]\n",
    "        for name in combination:\n",
    "            for i, element in elements.items():\n",
    "                if name==element:\n",
    "                    lst_no.append(str(i))\n",
    "        lst.append(f\"pair_coeff {' '.join(lst_no)} {'_'.join(combination)}\")"
   ]
  },
  {
   "cell_type": "code",
   "execution_count": 140,
   "metadata": {},
   "outputs": [
    {
     "name": "stdout",
     "output_type": "stream",
     "text": [
      "['Cr', 'Cr']\n",
      "['Cr', 'Cr', 'Cr']\n",
      "['Cr', 'Cr', 'Ta']\n",
      "['Cr', 'Cr', 'W']\n",
      "['Cr', 'Ta']\n",
      "['Cr', 'Ta', 'Ta']\n",
      "['Cr', 'Ta', 'W']\n",
      "['Cr', 'V', 'Cr']\n",
      "['Cr', 'V', 'Ta']\n",
      "['Cr', 'V', 'V']\n",
      "['Cr', 'V', 'W']\n",
      "['Cr', 'W']\n",
      "['Cr', 'W', 'W']\n",
      "['Ta', 'Cr', 'Cr']\n",
      "['Ta', 'Cr', 'Ta']\n",
      "['Ta', 'Cr', 'W']\n",
      "['Ta', 'Ta']\n",
      "['Ta', 'Ta', 'Ta']\n",
      "['Ta', 'Ta', 'W']\n",
      "['Ta', 'V', 'Cr']\n",
      "['Ta', 'V', 'Ta']\n",
      "['Ta', 'V', 'V']\n",
      "['Ta', 'V', 'W']\n",
      "['Ta', 'W']\n",
      "['Ta', 'W', 'W']\n",
      "['V', 'Cr']\n",
      "['V', 'Cr', 'Cr']\n",
      "['V', 'Cr', 'Ta']\n",
      "['V', 'Cr', 'W']\n",
      "['V', 'Ta']\n",
      "['V', 'Ta', 'Ta']\n",
      "['V', 'Ta', 'W']\n",
      "['V', 'V']\n",
      "['V', 'V', 'Cr']\n",
      "['V', 'V', 'Ta']\n",
      "['V', 'V', 'V']\n",
      "['V', 'V', 'W']\n",
      "['V', 'W']\n",
      "['V', 'W', 'W']\n",
      "['W', 'Cr', 'Cr']\n",
      "['W', 'Cr', 'Ta']\n",
      "['W', 'Cr', 'W']\n",
      "['W', 'Ta', 'Ta']\n",
      "['W', 'Ta', 'W']\n",
      "['W', 'V', 'Cr']\n",
      "['W', 'V', 'Ta']\n",
      "['W', 'V', 'V']\n",
      "['W', 'V', 'W']\n",
      "['W', 'W']\n",
      "['W', 'W', 'W']\n"
     ]
    }
   ],
   "source": [
    "import pandas as pd \n",
    "lst=[]\n",
    "for i, name in pd.read_csv('/Users/dominicwelti/Library/CloudStorage/Dropbox/Master_Thesis/UF3/PotentialFiles.csv', header=None).iterrows():\n",
    "    combination=name[0].split('_')\n",
    "    print(combination)\n",
    "    lst_no=[]\n",
    "    for name in combination:\n",
    "        for i, element in elements.items():\n",
    "            if name==element:\n",
    "                lst_no.append(str(i))\n",
    "    if len(combination)==2:\n",
    "        lst.append(f\"pair_coeff {' '.join(lst_no)} {'_'.join(combination)}\")\n",
    "    elif len(combination)==3:\n",
    "        lst.append(f\"pair_coeff 3b {' '.join(lst_no)} {'_'.join(combination)}\")"
   ]
  },
  {
   "cell_type": "code",
   "execution_count": 141,
   "metadata": {},
   "outputs": [
    {
     "data": {
      "text/plain": [
       "['pair_coeff 3 3 Cr_Cr',\n",
       " 'pair_coeff 3b 3 3 3 Cr_Cr_Cr',\n",
       " 'pair_coeff 3b 3 3 1 Cr_Cr_Ta',\n",
       " 'pair_coeff 3b 3 3 4 Cr_Cr_W',\n",
       " 'pair_coeff 3 1 Cr_Ta',\n",
       " 'pair_coeff 3b 3 1 1 Cr_Ta_Ta',\n",
       " 'pair_coeff 3b 3 1 4 Cr_Ta_W',\n",
       " 'pair_coeff 3b 3 2 3 Cr_V_Cr',\n",
       " 'pair_coeff 3b 3 2 1 Cr_V_Ta',\n",
       " 'pair_coeff 3b 3 2 2 Cr_V_V',\n",
       " 'pair_coeff 3b 3 2 4 Cr_V_W',\n",
       " 'pair_coeff 3 4 Cr_W',\n",
       " 'pair_coeff 3b 3 4 4 Cr_W_W',\n",
       " 'pair_coeff 3b 1 3 3 Ta_Cr_Cr',\n",
       " 'pair_coeff 3b 1 3 1 Ta_Cr_Ta',\n",
       " 'pair_coeff 3b 1 3 4 Ta_Cr_W',\n",
       " 'pair_coeff 1 1 Ta_Ta',\n",
       " 'pair_coeff 3b 1 1 1 Ta_Ta_Ta',\n",
       " 'pair_coeff 3b 1 1 4 Ta_Ta_W',\n",
       " 'pair_coeff 3b 1 2 3 Ta_V_Cr',\n",
       " 'pair_coeff 3b 1 2 1 Ta_V_Ta',\n",
       " 'pair_coeff 3b 1 2 2 Ta_V_V',\n",
       " 'pair_coeff 3b 1 2 4 Ta_V_W',\n",
       " 'pair_coeff 1 4 Ta_W',\n",
       " 'pair_coeff 3b 1 4 4 Ta_W_W',\n",
       " 'pair_coeff 2 3 V_Cr',\n",
       " 'pair_coeff 3b 2 3 3 V_Cr_Cr',\n",
       " 'pair_coeff 3b 2 3 1 V_Cr_Ta',\n",
       " 'pair_coeff 3b 2 3 4 V_Cr_W',\n",
       " 'pair_coeff 2 1 V_Ta',\n",
       " 'pair_coeff 3b 2 1 1 V_Ta_Ta',\n",
       " 'pair_coeff 3b 2 1 4 V_Ta_W',\n",
       " 'pair_coeff 2 2 V_V',\n",
       " 'pair_coeff 3b 2 2 3 V_V_Cr',\n",
       " 'pair_coeff 3b 2 2 1 V_V_Ta',\n",
       " 'pair_coeff 3b 2 2 2 V_V_V',\n",
       " 'pair_coeff 3b 2 2 4 V_V_W',\n",
       " 'pair_coeff 2 4 V_W',\n",
       " 'pair_coeff 3b 2 4 4 V_W_W',\n",
       " 'pair_coeff 3b 4 3 3 W_Cr_Cr',\n",
       " 'pair_coeff 3b 4 3 1 W_Cr_Ta',\n",
       " 'pair_coeff 3b 4 3 4 W_Cr_W',\n",
       " 'pair_coeff 3b 4 1 1 W_Ta_Ta',\n",
       " 'pair_coeff 3b 4 1 4 W_Ta_W',\n",
       " 'pair_coeff 3b 4 2 3 W_V_Cr',\n",
       " 'pair_coeff 3b 4 2 1 W_V_Ta',\n",
       " 'pair_coeff 3b 4 2 2 W_V_V',\n",
       " 'pair_coeff 3b 4 2 4 W_V_W',\n",
       " 'pair_coeff 4 4 W_W',\n",
       " 'pair_coeff 3b 4 4 4 W_W_W']"
      ]
     },
     "execution_count": 141,
     "metadata": {},
     "output_type": "execute_result"
    }
   ],
   "source": [
    "lst"
   ]
  },
  {
   "cell_type": "code",
   "execution_count": 142,
   "metadata": {},
   "outputs": [
    {
     "name": "stdout",
     "output_type": "stream",
     "text": [
      "Done\n"
     ]
    }
   ],
   "source": [
    "with open('/Users/dominicwelti/Library/CloudStorage/Dropbox/Master_Thesis/UF3/combinations.txt', 'w') as fp:\n",
    "    for item in lst:\n",
    "        # write each item on a new line\n",
    "        fp.write(\"%s\\n\" % item)\n",
    "    print('Done')"
   ]
  }
 ],
 "metadata": {
  "kernelspec": {
   "display_name": "base",
   "language": "python",
   "name": "python3"
  },
  "language_info": {
   "codemirror_mode": {
    "name": "ipython",
    "version": 3
   },
   "file_extension": ".py",
   "mimetype": "text/x-python",
   "name": "python",
   "nbconvert_exporter": "python",
   "pygments_lexer": "ipython3",
   "version": "3.9.16"
  }
 },
 "nbformat": 4,
 "nbformat_minor": 2
}
