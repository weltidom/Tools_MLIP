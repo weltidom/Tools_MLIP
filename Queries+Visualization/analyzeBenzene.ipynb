{
 "cells": [
  {
   "cell_type": "code",
   "execution_count": 18,
   "metadata": {},
   "outputs": [],
   "source": [
    "import pandas as pd\n",
    "import numpy as np\n",
    "import plotly.express as px\n",
    "import os\n",
    "from ase.io import read"
   ]
  },
  {
   "cell_type": "code",
   "execution_count": 6,
   "metadata": {},
   "outputs": [],
   "source": [
    "# ended up not using\n",
    "\n",
    "def getEnergy(outPath:str):\n",
    "    '''Get calculated energy from molpro.out'''\n",
    "    with open(outPath, \"r\") as file: \n",
    "        for line in file:\n",
    "            if 'DF-KS/aug-cc-pVTZ energy=' in line:\n",
    "                return float(line.split('   ')[1])"
   ]
  },
  {
   "cell_type": "code",
   "execution_count": 5,
   "metadata": {},
   "outputs": [
    {
     "data": {
      "text/plain": [
       "-460.364314311695"
      ]
     },
     "execution_count": 5,
     "metadata": {},
     "output_type": "execute_result"
    }
   ],
   "source": [
    "# test\n",
    "getEnergy('/Users/dominicwelti/Documents/Master_Thesis_Data_Set/Benzene/DF-KS_LDA/aug-cc-pVTZ/Benzene-Benzene_pi-pi_0.90/molpro.out')"
   ]
  },
  {
   "cell_type": "code",
   "execution_count": 27,
   "metadata": {},
   "outputs": [],
   "source": [
    "molpro_folder='/Users/dominicwelti/Documents/Master_Thesis_Data_Set/Benzene'\n",
    "\n",
    "files=[]\n",
    "for (dirpath, dirnames, filenames) in os.walk(molpro_folder):\n",
    "    for filename in filenames:\n",
    "        files.append(f'{dirpath}/{filename}')\n",
    "\n",
    "files=list(filter(lambda x:'ase.xyz' in x, files))\n",
    "\n",
    "data_molpro=pd.DataFrame({\n",
    "    'Calculation type': 'Ab initio',\n",
    "    'Method': '',\n",
    "    'Distance': [0]*len(files),\n",
    "    'Energy': 0\n",
    "})"
   ]
  },
  {
   "cell_type": "code",
   "execution_count": 28,
   "metadata": {},
   "outputs": [
    {
     "name": "stdout",
     "output_type": "stream",
     "text": [
      "Parsing /Users/dominicwelti/Documents/Master_Thesis_Data_Set/Benzene/DF-KS_PBE-D3_BJ/aug-cc-pVTZ/Benzene-Benzene_pi-pi_0.90/ase.xyz\n",
      "Parsing /Users/dominicwelti/Documents/Master_Thesis_Data_Set/Benzene/DF-KS_PBE-D3_BJ/aug-cc-pVTZ/Benzene-Benzene_pi-pi_1.00/ase.xyz\n",
      "Parsing /Users/dominicwelti/Documents/Master_Thesis_Data_Set/Benzene/DF-KS_PBE-D3_BJ/aug-cc-pVTZ/Benzene-Benzene_pi-pi_1/ase.xyz\n",
      "Parsing /Users/dominicwelti/Documents/Master_Thesis_Data_Set/Benzene/DF-KS_PBE-D3_BJ/aug-cc-pVTZ/Benzene-Benzene_pi-pi_1.25/ase.xyz\n",
      "Parsing /Users/dominicwelti/Documents/Master_Thesis_Data_Set/Benzene/DF-KS_PBE-D3_BJ/aug-cc-pVTZ/Benzene-Benzene_pi-pi_0.95/ase.xyz\n",
      "Parsing /Users/dominicwelti/Documents/Master_Thesis_Data_Set/Benzene/DF-KS_PBE-D3_BJ/aug-cc-pVTZ/Benzene-Benzene_pi-pi_1.50/ase.xyz\n",
      "Parsing /Users/dominicwelti/Documents/Master_Thesis_Data_Set/Benzene/DF-KS_PBE-D3_BJ/aug-cc-pVTZ/Benzene-Benzene_pi-pi_1.05/ase.xyz\n",
      "Parsing /Users/dominicwelti/Documents/Master_Thesis_Data_Set/Benzene/DF-KS_PBE-D3_BJ/aug-cc-pVTZ/Benzene-Benzene_pi-pi_2.00/ase.xyz\n",
      "Parsing /Users/dominicwelti/Documents/Master_Thesis_Data_Set/Benzene/DF-KS_PBE-D3_BJ/aug-cc-pVTZ/Benzene-Benzene_pi-pi_2/ase.xyz\n",
      "Parsing /Users/dominicwelti/Documents/Master_Thesis_Data_Set/Benzene/DF-KS_PBE-D3_BJ/aug-cc-pVTZ/Benzene-Benzene_pi-pi_1.10/ase.xyz\n",
      "Parsing /Users/dominicwelti/Documents/Master_Thesis_Data_Set/Benzene/DF-PNO-LCCSD_T/aug-cc-pVTZ/Benzene-Benzene_pi-pi_0.90/ase.xyz\n",
      "Parsing /Users/dominicwelti/Documents/Master_Thesis_Data_Set/Benzene/DF-PNO-LCCSD_T/aug-cc-pVTZ/Benzene-Benzene_pi-pi_1.00/ase.xyz\n",
      "Parsing /Users/dominicwelti/Documents/Master_Thesis_Data_Set/Benzene/DF-PNO-LCCSD_T/aug-cc-pVTZ/Benzene-Benzene_pi-pi_1/ase.xyz\n",
      "Parsing /Users/dominicwelti/Documents/Master_Thesis_Data_Set/Benzene/DF-PNO-LCCSD_T/aug-cc-pVTZ/Benzene-Benzene_pi-pi_1.25/ase.xyz\n",
      "Parsing /Users/dominicwelti/Documents/Master_Thesis_Data_Set/Benzene/DF-PNO-LCCSD_T/aug-cc-pVTZ/Benzene-Benzene_pi-pi_0.95/ase.xyz\n",
      "Parsing /Users/dominicwelti/Documents/Master_Thesis_Data_Set/Benzene/DF-PNO-LCCSD_T/aug-cc-pVTZ/Benzene-Benzene_pi-pi_1.50/ase.xyz\n",
      "Parsing /Users/dominicwelti/Documents/Master_Thesis_Data_Set/Benzene/DF-PNO-LCCSD_T/aug-cc-pVTZ/Benzene-Benzene_pi-pi_1.05/ase.xyz\n",
      "Parsing /Users/dominicwelti/Documents/Master_Thesis_Data_Set/Benzene/DF-PNO-LCCSD_T/aug-cc-pVTZ/Benzene-Benzene_pi-pi_2.00/ase.xyz\n",
      "Parsing /Users/dominicwelti/Documents/Master_Thesis_Data_Set/Benzene/DF-PNO-LCCSD_T/aug-cc-pVTZ/Benzene-Benzene_pi-pi_2/ase.xyz\n",
      "Parsing /Users/dominicwelti/Documents/Master_Thesis_Data_Set/Benzene/DF-PNO-LCCSD_T/aug-cc-pVTZ/Benzene-Benzene_pi-pi_1.10/ase.xyz\n",
      "Parsing /Users/dominicwelti/Documents/Master_Thesis_Data_Set/Benzene/DF-KS_PBE-D4/aug-cc-pVTZ/Benzene-Benzene_pi-pi_0.90/ase.xyz\n",
      "Parsing /Users/dominicwelti/Documents/Master_Thesis_Data_Set/Benzene/DF-KS_PBE-D4/aug-cc-pVTZ/Benzene-Benzene_pi-pi_1.00/ase.xyz\n",
      "Parsing /Users/dominicwelti/Documents/Master_Thesis_Data_Set/Benzene/DF-KS_PBE-D4/aug-cc-pVTZ/Benzene-Benzene_pi-pi_1/ase.xyz\n",
      "Parsing /Users/dominicwelti/Documents/Master_Thesis_Data_Set/Benzene/DF-KS_PBE-D4/aug-cc-pVTZ/Benzene-Benzene_pi-pi_1.25/ase.xyz\n",
      "Parsing /Users/dominicwelti/Documents/Master_Thesis_Data_Set/Benzene/DF-KS_PBE-D4/aug-cc-pVTZ/Benzene-Benzene_pi-pi_0.95/ase.xyz\n",
      "Parsing /Users/dominicwelti/Documents/Master_Thesis_Data_Set/Benzene/DF-KS_PBE-D4/aug-cc-pVTZ/Benzene-Benzene_pi-pi_1.50/ase.xyz\n",
      "Parsing /Users/dominicwelti/Documents/Master_Thesis_Data_Set/Benzene/DF-KS_PBE-D4/aug-cc-pVTZ/Benzene-Benzene_pi-pi_1.05/ase.xyz\n",
      "Parsing /Users/dominicwelti/Documents/Master_Thesis_Data_Set/Benzene/DF-KS_PBE-D4/aug-cc-pVTZ/Benzene-Benzene_pi-pi_2.00/ase.xyz\n",
      "Parsing /Users/dominicwelti/Documents/Master_Thesis_Data_Set/Benzene/DF-KS_PBE-D4/aug-cc-pVTZ/Benzene-Benzene_pi-pi_2/ase.xyz\n",
      "Parsing /Users/dominicwelti/Documents/Master_Thesis_Data_Set/Benzene/DF-KS_PBE-D4/aug-cc-pVTZ/Benzene-Benzene_pi-pi_1.10/ase.xyz\n",
      "Parsing /Users/dominicwelti/Documents/Master_Thesis_Data_Set/Benzene/DF-KS_PBE/aug-cc-pVTZ/Benzene-Benzene_pi-pi_0.90/ase.xyz\n",
      "Parsing /Users/dominicwelti/Documents/Master_Thesis_Data_Set/Benzene/DF-KS_PBE/aug-cc-pVTZ/Benzene-Benzene_pi-pi_1.00/ase.xyz\n",
      "Parsing /Users/dominicwelti/Documents/Master_Thesis_Data_Set/Benzene/DF-KS_PBE/aug-cc-pVTZ/Benzene-Benzene_pi-pi_1/ase.xyz\n",
      "Parsing /Users/dominicwelti/Documents/Master_Thesis_Data_Set/Benzene/DF-KS_PBE/aug-cc-pVTZ/Benzene-Benzene_pi-pi_1.25/ase.xyz\n",
      "Parsing /Users/dominicwelti/Documents/Master_Thesis_Data_Set/Benzene/DF-KS_PBE/aug-cc-pVTZ/Benzene-Benzene_pi-pi_0.95/ase.xyz\n",
      "Parsing /Users/dominicwelti/Documents/Master_Thesis_Data_Set/Benzene/DF-KS_PBE/aug-cc-pVTZ/Benzene-Benzene_pi-pi_1.50/ase.xyz\n",
      "Parsing /Users/dominicwelti/Documents/Master_Thesis_Data_Set/Benzene/DF-KS_PBE/aug-cc-pVTZ/Benzene-Benzene_pi-pi_1.05/ase.xyz\n",
      "Parsing /Users/dominicwelti/Documents/Master_Thesis_Data_Set/Benzene/DF-KS_PBE/aug-cc-pVTZ/Benzene-Benzene_pi-pi_2.00/ase.xyz\n",
      "Parsing /Users/dominicwelti/Documents/Master_Thesis_Data_Set/Benzene/DF-KS_PBE/aug-cc-pVTZ/Benzene-Benzene_pi-pi_2/ase.xyz\n",
      "Parsing /Users/dominicwelti/Documents/Master_Thesis_Data_Set/Benzene/DF-KS_PBE/aug-cc-pVTZ/Benzene-Benzene_pi-pi_1.10/ase.xyz\n",
      "Parsing /Users/dominicwelti/Documents/Master_Thesis_Data_Set/Benzene/DF-KS_LDA/aug-cc-pVTZ/Benzene-Benzene_pi-pi_0.90/ase.xyz\n",
      "Parsing /Users/dominicwelti/Documents/Master_Thesis_Data_Set/Benzene/DF-KS_LDA/aug-cc-pVTZ/Benzene-Benzene_pi-pi_1.00/ase.xyz\n",
      "Parsing /Users/dominicwelti/Documents/Master_Thesis_Data_Set/Benzene/DF-KS_LDA/aug-cc-pVTZ/Benzene-Benzene_pi-pi_1/ase.xyz\n",
      "Parsing /Users/dominicwelti/Documents/Master_Thesis_Data_Set/Benzene/DF-KS_LDA/aug-cc-pVTZ/Benzene-Benzene_pi-pi_1.25/ase.xyz\n",
      "Parsing /Users/dominicwelti/Documents/Master_Thesis_Data_Set/Benzene/DF-KS_LDA/aug-cc-pVTZ/Benzene-Benzene_pi-pi_0.95/ase.xyz\n",
      "Parsing /Users/dominicwelti/Documents/Master_Thesis_Data_Set/Benzene/DF-KS_LDA/aug-cc-pVTZ/Benzene-Benzene_pi-pi_1.50/ase.xyz\n",
      "Parsing /Users/dominicwelti/Documents/Master_Thesis_Data_Set/Benzene/DF-KS_LDA/aug-cc-pVTZ/Benzene-Benzene_pi-pi_1.05/ase.xyz\n",
      "Parsing /Users/dominicwelti/Documents/Master_Thesis_Data_Set/Benzene/DF-KS_LDA/aug-cc-pVTZ/Benzene-Benzene_pi-pi_2.00/ase.xyz\n",
      "Parsing /Users/dominicwelti/Documents/Master_Thesis_Data_Set/Benzene/DF-KS_LDA/aug-cc-pVTZ/Benzene-Benzene_pi-pi_2/ase.xyz\n",
      "Parsing /Users/dominicwelti/Documents/Master_Thesis_Data_Set/Benzene/DF-KS_LDA/aug-cc-pVTZ/Benzene-Benzene_pi-pi_1.10/ase.xyz\n"
     ]
    }
   ],
   "source": [
    "for i, row in data_molpro.iterrows():\n",
    "    #print(f'Parsing {files[i]}')\n",
    "    data_molpro.loc[i, 'Method'] = files[i].split('/')[-4]\n",
    "    data_molpro.loc[i, 'Distance'] = files[i].split('/')[-2].split('_')[-1]\n",
    "\n",
    "    atoms=read(files[i],format='extxyz')\n",
    "    data_molpro.loc[i, 'Energy'] = atoms.get_total_energy()"
   ]
  },
  {
   "cell_type": "code",
   "execution_count": 29,
   "metadata": {},
   "outputs": [
    {
     "data": {
      "text/html": [
       "<div>\n",
       "<style scoped>\n",
       "    .dataframe tbody tr th:only-of-type {\n",
       "        vertical-align: middle;\n",
       "    }\n",
       "\n",
       "    .dataframe tbody tr th {\n",
       "        vertical-align: top;\n",
       "    }\n",
       "\n",
       "    .dataframe thead th {\n",
       "        text-align: right;\n",
       "    }\n",
       "</style>\n",
       "<table border=\"1\" class=\"dataframe\">\n",
       "  <thead>\n",
       "    <tr style=\"text-align: right;\">\n",
       "      <th></th>\n",
       "      <th>Calculation type</th>\n",
       "      <th>Method</th>\n",
       "      <th>Distance</th>\n",
       "      <th>Energy</th>\n",
       "    </tr>\n",
       "  </thead>\n",
       "  <tbody>\n",
       "    <tr>\n",
       "      <th>0</th>\n",
       "      <td>Ab initio</td>\n",
       "      <td>DF-KS_PBE-D3_BJ</td>\n",
       "      <td>0.90</td>\n",
       "      <td>-12627.129354</td>\n",
       "    </tr>\n",
       "    <tr>\n",
       "      <th>1</th>\n",
       "      <td>Ab initio</td>\n",
       "      <td>DF-KS_PBE-D3_BJ</td>\n",
       "      <td>1.00</td>\n",
       "      <td>-12627.276818</td>\n",
       "    </tr>\n",
       "    <tr>\n",
       "      <th>2</th>\n",
       "      <td>Ab initio</td>\n",
       "      <td>DF-KS_PBE-D3_BJ</td>\n",
       "      <td>1</td>\n",
       "      <td>-6313.582836</td>\n",
       "    </tr>\n",
       "    <tr>\n",
       "      <th>3</th>\n",
       "      <td>Ab initio</td>\n",
       "      <td>DF-KS_PBE-D3_BJ</td>\n",
       "      <td>1.25</td>\n",
       "      <td>-12627.248956</td>\n",
       "    </tr>\n",
       "    <tr>\n",
       "      <th>4</th>\n",
       "      <td>Ab initio</td>\n",
       "      <td>DF-KS_PBE-D3_BJ</td>\n",
       "      <td>0.95</td>\n",
       "      <td>-12627.230987</td>\n",
       "    </tr>\n",
       "    <tr>\n",
       "      <th>5</th>\n",
       "      <td>Ab initio</td>\n",
       "      <td>DF-KS_PBE-D3_BJ</td>\n",
       "      <td>1.50</td>\n",
       "      <td>-12627.194983</td>\n",
       "    </tr>\n",
       "    <tr>\n",
       "      <th>6</th>\n",
       "      <td>Ab initio</td>\n",
       "      <td>DF-KS_PBE-D3_BJ</td>\n",
       "      <td>1.05</td>\n",
       "      <td>-12627.290918</td>\n",
       "    </tr>\n",
       "    <tr>\n",
       "      <th>7</th>\n",
       "      <td>Ab initio</td>\n",
       "      <td>DF-KS_PBE-D3_BJ</td>\n",
       "      <td>2.00</td>\n",
       "      <td>-12627.169746</td>\n",
       "    </tr>\n",
       "    <tr>\n",
       "      <th>8</th>\n",
       "      <td>Ab initio</td>\n",
       "      <td>DF-KS_PBE-D3_BJ</td>\n",
       "      <td>2</td>\n",
       "      <td>-6313.582830</td>\n",
       "    </tr>\n",
       "    <tr>\n",
       "      <th>9</th>\n",
       "      <td>Ab initio</td>\n",
       "      <td>DF-KS_PBE-D3_BJ</td>\n",
       "      <td>1.10</td>\n",
       "      <td>-12627.288650</td>\n",
       "    </tr>\n",
       "    <tr>\n",
       "      <th>10</th>\n",
       "      <td>Ab initio</td>\n",
       "      <td>DF-PNO-LCCSD_T</td>\n",
       "      <td>0.90</td>\n",
       "      <td>-12616.288560</td>\n",
       "    </tr>\n",
       "    <tr>\n",
       "      <th>11</th>\n",
       "      <td>Ab initio</td>\n",
       "      <td>DF-PNO-LCCSD_T</td>\n",
       "      <td>1.00</td>\n",
       "      <td>-12616.407234</td>\n",
       "    </tr>\n",
       "    <tr>\n",
       "      <th>12</th>\n",
       "      <td>Ab initio</td>\n",
       "      <td>DF-PNO-LCCSD_T</td>\n",
       "      <td>1</td>\n",
       "      <td>-6308.143167</td>\n",
       "    </tr>\n",
       "    <tr>\n",
       "      <th>13</th>\n",
       "      <td>Ab initio</td>\n",
       "      <td>DF-PNO-LCCSD_T</td>\n",
       "      <td>1.25</td>\n",
       "      <td>-12616.361438</td>\n",
       "    </tr>\n",
       "    <tr>\n",
       "      <th>14</th>\n",
       "      <td>Ab initio</td>\n",
       "      <td>DF-PNO-LCCSD_T</td>\n",
       "      <td>0.95</td>\n",
       "      <td>-12616.374583</td>\n",
       "    </tr>\n",
       "    <tr>\n",
       "      <th>15</th>\n",
       "      <td>Ab initio</td>\n",
       "      <td>DF-PNO-LCCSD_T</td>\n",
       "      <td>1.50</td>\n",
       "      <td>-12616.312310</td>\n",
       "    </tr>\n",
       "    <tr>\n",
       "      <th>16</th>\n",
       "      <td>Ab initio</td>\n",
       "      <td>DF-PNO-LCCSD_T</td>\n",
       "      <td>1.05</td>\n",
       "      <td>-12616.412093</td>\n",
       "    </tr>\n",
       "    <tr>\n",
       "      <th>17</th>\n",
       "      <td>Ab initio</td>\n",
       "      <td>DF-PNO-LCCSD_T</td>\n",
       "      <td>2.00</td>\n",
       "      <td>-12616.291218</td>\n",
       "    </tr>\n",
       "    <tr>\n",
       "      <th>18</th>\n",
       "      <td>Ab initio</td>\n",
       "      <td>DF-PNO-LCCSD_T</td>\n",
       "      <td>2</td>\n",
       "      <td>-6308.143166</td>\n",
       "    </tr>\n",
       "    <tr>\n",
       "      <th>19</th>\n",
       "      <td>Ab initio</td>\n",
       "      <td>DF-PNO-LCCSD_T</td>\n",
       "      <td>1.10</td>\n",
       "      <td>-12616.403889</td>\n",
       "    </tr>\n",
       "    <tr>\n",
       "      <th>20</th>\n",
       "      <td>Ab initio</td>\n",
       "      <td>DF-KS_PBE-D4</td>\n",
       "      <td>0.90</td>\n",
       "      <td>-12627.602041</td>\n",
       "    </tr>\n",
       "    <tr>\n",
       "      <th>21</th>\n",
       "      <td>Ab initio</td>\n",
       "      <td>DF-KS_PBE-D4</td>\n",
       "      <td>1.00</td>\n",
       "      <td>-12627.722910</td>\n",
       "    </tr>\n",
       "    <tr>\n",
       "      <th>22</th>\n",
       "      <td>Ab initio</td>\n",
       "      <td>DF-KS_PBE-D4</td>\n",
       "      <td>1</td>\n",
       "      <td>-6313.793717</td>\n",
       "    </tr>\n",
       "    <tr>\n",
       "      <th>23</th>\n",
       "      <td>Ab initio</td>\n",
       "      <td>DF-KS_PBE-D4</td>\n",
       "      <td>1.25</td>\n",
       "      <td>-12627.669388</td>\n",
       "    </tr>\n",
       "    <tr>\n",
       "      <th>24</th>\n",
       "      <td>Ab initio</td>\n",
       "      <td>DF-KS_PBE-D4</td>\n",
       "      <td>0.95</td>\n",
       "      <td>-12627.688306</td>\n",
       "    </tr>\n",
       "    <tr>\n",
       "      <th>25</th>\n",
       "      <td>Ab initio</td>\n",
       "      <td>DF-KS_PBE-D4</td>\n",
       "      <td>1.50</td>\n",
       "      <td>-12627.613593</td>\n",
       "    </tr>\n",
       "    <tr>\n",
       "      <th>26</th>\n",
       "      <td>Ab initio</td>\n",
       "      <td>DF-KS_PBE-D4</td>\n",
       "      <td>1.05</td>\n",
       "      <td>-12627.728238</td>\n",
       "    </tr>\n",
       "    <tr>\n",
       "      <th>27</th>\n",
       "      <td>Ab initio</td>\n",
       "      <td>DF-KS_PBE-D4</td>\n",
       "      <td>2.00</td>\n",
       "      <td>-12627.589096</td>\n",
       "    </tr>\n",
       "    <tr>\n",
       "      <th>28</th>\n",
       "      <td>Ab initio</td>\n",
       "      <td>DF-KS_PBE-D4</td>\n",
       "      <td>2</td>\n",
       "      <td>-6313.793711</td>\n",
       "    </tr>\n",
       "    <tr>\n",
       "      <th>29</th>\n",
       "      <td>Ab initio</td>\n",
       "      <td>DF-KS_PBE-D4</td>\n",
       "      <td>1.10</td>\n",
       "      <td>-12627.719151</td>\n",
       "    </tr>\n",
       "    <tr>\n",
       "      <th>30</th>\n",
       "      <td>Ab initio</td>\n",
       "      <td>DF-KS_PBE</td>\n",
       "      <td>0.90</td>\n",
       "      <td>-12626.732479</td>\n",
       "    </tr>\n",
       "    <tr>\n",
       "      <th>31</th>\n",
       "      <td>Ab initio</td>\n",
       "      <td>DF-KS_PBE</td>\n",
       "      <td>1.00</td>\n",
       "      <td>-12626.930001</td>\n",
       "    </tr>\n",
       "    <tr>\n",
       "      <th>32</th>\n",
       "      <td>Ab initio</td>\n",
       "      <td>DF-KS_PBE</td>\n",
       "      <td>1</td>\n",
       "      <td>-6313.500067</td>\n",
       "    </tr>\n",
       "    <tr>\n",
       "      <th>33</th>\n",
       "      <td>Ab initio</td>\n",
       "      <td>DF-KS_PBE</td>\n",
       "      <td>1.25</td>\n",
       "      <td>-12627.004678</td>\n",
       "    </tr>\n",
       "    <tr>\n",
       "      <th>34</th>\n",
       "      <td>Ab initio</td>\n",
       "      <td>DF-KS_PBE</td>\n",
       "      <td>0.95</td>\n",
       "      <td>-12626.858504</td>\n",
       "    </tr>\n",
       "    <tr>\n",
       "      <th>35</th>\n",
       "      <td>Ab initio</td>\n",
       "      <td>DF-KS_PBE</td>\n",
       "      <td>1.50</td>\n",
       "      <td>-12627.000895</td>\n",
       "    </tr>\n",
       "    <tr>\n",
       "      <th>36</th>\n",
       "      <td>Ab initio</td>\n",
       "      <td>DF-KS_PBE</td>\n",
       "      <td>1.05</td>\n",
       "      <td>-12626.968625</td>\n",
       "    </tr>\n",
       "    <tr>\n",
       "      <th>37</th>\n",
       "      <td>Ab initio</td>\n",
       "      <td>DF-KS_PBE</td>\n",
       "      <td>2.00</td>\n",
       "      <td>-12626.998798</td>\n",
       "    </tr>\n",
       "    <tr>\n",
       "      <th>38</th>\n",
       "      <td>Ab initio</td>\n",
       "      <td>DF-KS_PBE</td>\n",
       "      <td>2</td>\n",
       "      <td>-6313.500060</td>\n",
       "    </tr>\n",
       "    <tr>\n",
       "      <th>39</th>\n",
       "      <td>Ab initio</td>\n",
       "      <td>DF-KS_PBE</td>\n",
       "      <td>1.10</td>\n",
       "      <td>-12626.988759</td>\n",
       "    </tr>\n",
       "    <tr>\n",
       "      <th>40</th>\n",
       "      <td>Ab initio</td>\n",
       "      <td>DF-KS_LDA</td>\n",
       "      <td>0.90</td>\n",
       "      <td>-12527.151069</td>\n",
       "    </tr>\n",
       "    <tr>\n",
       "      <th>41</th>\n",
       "      <td>Ab initio</td>\n",
       "      <td>DF-KS_LDA</td>\n",
       "      <td>1.00</td>\n",
       "      <td>-12527.200146</td>\n",
       "    </tr>\n",
       "    <tr>\n",
       "      <th>42</th>\n",
       "      <td>Ab initio</td>\n",
       "      <td>DF-KS_LDA</td>\n",
       "      <td>1</td>\n",
       "      <td>-6263.540850</td>\n",
       "    </tr>\n",
       "    <tr>\n",
       "      <th>43</th>\n",
       "      <td>Ab initio</td>\n",
       "      <td>DF-KS_LDA</td>\n",
       "      <td>1.25</td>\n",
       "      <td>-12527.119957</td>\n",
       "    </tr>\n",
       "    <tr>\n",
       "      <th>44</th>\n",
       "      <td>Ab initio</td>\n",
       "      <td>DF-KS_LDA</td>\n",
       "      <td>0.95</td>\n",
       "      <td>-12527.193640</td>\n",
       "    </tr>\n",
       "    <tr>\n",
       "      <th>45</th>\n",
       "      <td>Ab initio</td>\n",
       "      <td>DF-KS_LDA</td>\n",
       "      <td>1.50</td>\n",
       "      <td>-12527.084891</td>\n",
       "    </tr>\n",
       "    <tr>\n",
       "      <th>46</th>\n",
       "      <td>Ab initio</td>\n",
       "      <td>DF-KS_LDA</td>\n",
       "      <td>1.05</td>\n",
       "      <td>-12527.188509</td>\n",
       "    </tr>\n",
       "    <tr>\n",
       "      <th>47</th>\n",
       "      <td>Ab initio</td>\n",
       "      <td>DF-KS_LDA</td>\n",
       "      <td>2.00</td>\n",
       "      <td>-12527.080074</td>\n",
       "    </tr>\n",
       "    <tr>\n",
       "      <th>48</th>\n",
       "      <td>Ab initio</td>\n",
       "      <td>DF-KS_LDA</td>\n",
       "      <td>2</td>\n",
       "      <td>-6263.540829</td>\n",
       "    </tr>\n",
       "    <tr>\n",
       "      <th>49</th>\n",
       "      <td>Ab initio</td>\n",
       "      <td>DF-KS_LDA</td>\n",
       "      <td>1.10</td>\n",
       "      <td>-12527.170619</td>\n",
       "    </tr>\n",
       "  </tbody>\n",
       "</table>\n",
       "</div>"
      ],
      "text/plain": [
       "   Calculation type           Method Distance        Energy\n",
       "0         Ab initio  DF-KS_PBE-D3_BJ     0.90 -12627.129354\n",
       "1         Ab initio  DF-KS_PBE-D3_BJ     1.00 -12627.276818\n",
       "2         Ab initio  DF-KS_PBE-D3_BJ        1  -6313.582836\n",
       "3         Ab initio  DF-KS_PBE-D3_BJ     1.25 -12627.248956\n",
       "4         Ab initio  DF-KS_PBE-D3_BJ     0.95 -12627.230987\n",
       "5         Ab initio  DF-KS_PBE-D3_BJ     1.50 -12627.194983\n",
       "6         Ab initio  DF-KS_PBE-D3_BJ     1.05 -12627.290918\n",
       "7         Ab initio  DF-KS_PBE-D3_BJ     2.00 -12627.169746\n",
       "8         Ab initio  DF-KS_PBE-D3_BJ        2  -6313.582830\n",
       "9         Ab initio  DF-KS_PBE-D3_BJ     1.10 -12627.288650\n",
       "10        Ab initio   DF-PNO-LCCSD_T     0.90 -12616.288560\n",
       "11        Ab initio   DF-PNO-LCCSD_T     1.00 -12616.407234\n",
       "12        Ab initio   DF-PNO-LCCSD_T        1  -6308.143167\n",
       "13        Ab initio   DF-PNO-LCCSD_T     1.25 -12616.361438\n",
       "14        Ab initio   DF-PNO-LCCSD_T     0.95 -12616.374583\n",
       "15        Ab initio   DF-PNO-LCCSD_T     1.50 -12616.312310\n",
       "16        Ab initio   DF-PNO-LCCSD_T     1.05 -12616.412093\n",
       "17        Ab initio   DF-PNO-LCCSD_T     2.00 -12616.291218\n",
       "18        Ab initio   DF-PNO-LCCSD_T        2  -6308.143166\n",
       "19        Ab initio   DF-PNO-LCCSD_T     1.10 -12616.403889\n",
       "20        Ab initio     DF-KS_PBE-D4     0.90 -12627.602041\n",
       "21        Ab initio     DF-KS_PBE-D4     1.00 -12627.722910\n",
       "22        Ab initio     DF-KS_PBE-D4        1  -6313.793717\n",
       "23        Ab initio     DF-KS_PBE-D4     1.25 -12627.669388\n",
       "24        Ab initio     DF-KS_PBE-D4     0.95 -12627.688306\n",
       "25        Ab initio     DF-KS_PBE-D4     1.50 -12627.613593\n",
       "26        Ab initio     DF-KS_PBE-D4     1.05 -12627.728238\n",
       "27        Ab initio     DF-KS_PBE-D4     2.00 -12627.589096\n",
       "28        Ab initio     DF-KS_PBE-D4        2  -6313.793711\n",
       "29        Ab initio     DF-KS_PBE-D4     1.10 -12627.719151\n",
       "30        Ab initio        DF-KS_PBE     0.90 -12626.732479\n",
       "31        Ab initio        DF-KS_PBE     1.00 -12626.930001\n",
       "32        Ab initio        DF-KS_PBE        1  -6313.500067\n",
       "33        Ab initio        DF-KS_PBE     1.25 -12627.004678\n",
       "34        Ab initio        DF-KS_PBE     0.95 -12626.858504\n",
       "35        Ab initio        DF-KS_PBE     1.50 -12627.000895\n",
       "36        Ab initio        DF-KS_PBE     1.05 -12626.968625\n",
       "37        Ab initio        DF-KS_PBE     2.00 -12626.998798\n",
       "38        Ab initio        DF-KS_PBE        2  -6313.500060\n",
       "39        Ab initio        DF-KS_PBE     1.10 -12626.988759\n",
       "40        Ab initio        DF-KS_LDA     0.90 -12527.151069\n",
       "41        Ab initio        DF-KS_LDA     1.00 -12527.200146\n",
       "42        Ab initio        DF-KS_LDA        1  -6263.540850\n",
       "43        Ab initio        DF-KS_LDA     1.25 -12527.119957\n",
       "44        Ab initio        DF-KS_LDA     0.95 -12527.193640\n",
       "45        Ab initio        DF-KS_LDA     1.50 -12527.084891\n",
       "46        Ab initio        DF-KS_LDA     1.05 -12527.188509\n",
       "47        Ab initio        DF-KS_LDA     2.00 -12527.080074\n",
       "48        Ab initio        DF-KS_LDA        2  -6263.540829\n",
       "49        Ab initio        DF-KS_LDA     1.10 -12527.170619"
      ]
     },
     "execution_count": 29,
     "metadata": {},
     "output_type": "execute_result"
    }
   ],
   "source": [
    "data_molpro"
   ]
  },
  {
   "cell_type": "code",
   "execution_count": 43,
   "metadata": {},
   "outputs": [],
   "source": [
    "data_mace=pd.read_pickle('/Users/dominicwelti/Documents/Master_Thesis_Data_Set/Benzene/MACE/results.pkl')\n",
    "data_mace['Method']='MACE'+'-'+data_mace['Model']"
   ]
  },
  {
   "cell_type": "code",
   "execution_count": 80,
   "metadata": {},
   "outputs": [],
   "source": [
    "df=pd.concat([data_molpro,data_mace])\n",
    "df=df[df['Distance'].str.len()>=2] # drop full integer values (Distance 2 & 1 represent individual benzene and not dimer)"
   ]
  },
  {
   "cell_type": "code",
   "execution_count": 89,
   "metadata": {},
   "outputs": [],
   "source": [
    "df['Distance']=df['Distance'].astype(float)"
   ]
  },
  {
   "cell_type": "code",
   "execution_count": 90,
   "metadata": {},
   "outputs": [],
   "source": [
    "plot=px.scatter(df, x='Distance', y='Energy', color='Method')"
   ]
  },
  {
   "cell_type": "code",
   "execution_count": 92,
   "metadata": {},
   "outputs": [
    {
     "data": {
      "application/vnd.plotly.v1+json": {
       "config": {
        "plotlyServerURL": "https://plot.ly"
       },
       "data": [
        {
         "hovertemplate": "Method=DF-KS_PBE-D3_BJ<br>Distance=%{x}<br>Energy=%{y}<extra></extra>",
         "legendgroup": "DF-KS_PBE-D3_BJ",
         "marker": {
          "color": "#636efa",
          "symbol": "circle"
         },
         "mode": "markers",
         "name": "DF-KS_PBE-D3_BJ",
         "orientation": "v",
         "showlegend": true,
         "type": "scatter",
         "x": [
          0.9,
          1,
          1.25,
          0.95,
          1.5,
          1.05,
          2,
          1.1
         ],
         "xaxis": "x",
         "y": [
          -12627.129353934697,
          -12627.27681820133,
          -12627.248956249161,
          -12627.230986823944,
          -12627.194982886214,
          -12627.29091776361,
          -12627.16974554276,
          -12627.288650286268
         ],
         "yaxis": "y"
        },
        {
         "hovertemplate": "Method=DF-PNO-LCCSD_T<br>Distance=%{x}<br>Energy=%{y}<extra></extra>",
         "legendgroup": "DF-PNO-LCCSD_T",
         "marker": {
          "color": "#EF553B",
          "symbol": "circle"
         },
         "mode": "markers",
         "name": "DF-PNO-LCCSD_T",
         "orientation": "v",
         "showlegend": true,
         "type": "scatter",
         "x": [
          0.9,
          1,
          1.25,
          0.95,
          1.5,
          1.05,
          2,
          1.1
         ],
         "xaxis": "x",
         "y": [
          -12616.288560022223,
          -12616.407233986078,
          -12616.361438249756,
          -12616.374582609395,
          -12616.312309925275,
          -12616.412092565392,
          -12616.291218414446,
          -12616.40388915848
         ],
         "yaxis": "y"
        },
        {
         "hovertemplate": "Method=DF-KS_PBE-D4<br>Distance=%{x}<br>Energy=%{y}<extra></extra>",
         "legendgroup": "DF-KS_PBE-D4",
         "marker": {
          "color": "#00cc96",
          "symbol": "circle"
         },
         "mode": "markers",
         "name": "DF-KS_PBE-D4",
         "orientation": "v",
         "showlegend": true,
         "type": "scatter",
         "x": [
          0.9,
          1,
          1.25,
          0.95,
          1.5,
          1.05,
          2,
          1.1
         ],
         "xaxis": "x",
         "y": [
          -12627.602041185239,
          -12627.722910144852,
          -12627.669387706082,
          -12627.688306053446,
          -12627.613593493239,
          -12627.728238240985,
          -12627.589095500967,
          -12627.71915134067
         ],
         "yaxis": "y"
        },
        {
         "hovertemplate": "Method=DF-KS_PBE<br>Distance=%{x}<br>Energy=%{y}<extra></extra>",
         "legendgroup": "DF-KS_PBE",
         "marker": {
          "color": "#ab63fa",
          "symbol": "circle"
         },
         "mode": "markers",
         "name": "DF-KS_PBE",
         "orientation": "v",
         "showlegend": true,
         "type": "scatter",
         "x": [
          0.9,
          1,
          1.25,
          0.95,
          1.5,
          1.05,
          2,
          1.1
         ],
         "xaxis": "x",
         "y": [
          -12626.732478889235,
          -12626.930000880257,
          -12627.00467804041,
          -12626.858503964992,
          -12627.000894547555,
          -12626.968625083817,
          -12626.998797633005,
          -12626.988758642157
         ],
         "yaxis": "y"
        },
        {
         "hovertemplate": "Method=DF-KS_LDA<br>Distance=%{x}<br>Energy=%{y}<extra></extra>",
         "legendgroup": "DF-KS_LDA",
         "marker": {
          "color": "#FFA15A",
          "symbol": "circle"
         },
         "mode": "markers",
         "name": "DF-KS_LDA",
         "orientation": "v",
         "showlegend": true,
         "type": "scatter",
         "x": [
          0.9,
          1,
          1.25,
          0.95,
          1.5,
          1.05,
          2,
          1.1
         ],
         "xaxis": "x",
         "y": [
          -12527.151068578667,
          -12527.200146430625,
          -12527.119957449453,
          -12527.193640477728,
          -12527.084891037852,
          -12527.18850884285,
          -12527.080073856961,
          -12527.170619231212
         ],
         "yaxis": "y"
        },
        {
         "hovertemplate": "Method=MACE-ANI-1ccx<br>Distance=%{x}<br>Energy=%{y}<extra></extra>",
         "legendgroup": "MACE-ANI-1ccx",
         "marker": {
          "color": "#19d3f3",
          "symbol": "circle"
         },
         "mode": "markers",
         "name": "MACE-ANI-1ccx",
         "orientation": "v",
         "showlegend": true,
         "type": "scatter",
         "x": [
          1,
          0.95,
          2,
          1.5,
          0.9,
          1.25,
          1.1,
          1.05
         ],
         "xaxis": "x",
         "y": [
          -12622.775390625,
          -12622.8056640625,
          -12622.6484375,
          -12622.6484375,
          -12622.6962890625,
          -12622.6650390625,
          -12622.65625,
          -12622.70703125
         ],
         "yaxis": "y"
        },
        {
         "hovertemplate": "Method=MACE-s66x8<br>Distance=%{x}<br>Energy=%{y}<extra></extra>",
         "legendgroup": "MACE-s66x8",
         "marker": {
          "color": "#FF6692",
          "symbol": "circle"
         },
         "mode": "markers",
         "name": "MACE-s66x8",
         "orientation": "v",
         "showlegend": true,
         "type": "scatter",
         "x": [
          1,
          0.95,
          2,
          1.5,
          0.9,
          1.25,
          1.1,
          1.05
         ],
         "xaxis": "x",
         "y": [
          -12616.416015625,
          -12616.38671875,
          -12616.3037109375,
          -12616.3037109375,
          -12616.3115234375,
          -12616.3291015625,
          -12616.4072265625,
          -12616.419921875
         ],
         "yaxis": "y"
        },
        {
         "hovertemplate": "Method=MACE-ANI-1ccx+s66x8<br>Distance=%{x}<br>Energy=%{y}<extra></extra>",
         "legendgroup": "MACE-ANI-1ccx+s66x8",
         "marker": {
          "color": "#B6E880",
          "symbol": "circle"
         },
         "mode": "markers",
         "name": "MACE-ANI-1ccx+s66x8",
         "orientation": "v",
         "showlegend": true,
         "type": "scatter",
         "x": [
          1,
          0.95,
          2,
          1.5,
          0.9,
          1.25,
          1.1,
          1.05
         ],
         "xaxis": "x",
         "y": [
          -12616.4111328125,
          -12616.380859375,
          -12616.296875,
          -12616.296875,
          -12616.2900390625,
          -12616.3544921875,
          -12616.4052734375,
          -12616.41015625
         ],
         "yaxis": "y"
        }
       ],
       "layout": {
        "legend": {
         "title": {
          "text": "Method"
         },
         "tracegroupgap": 0
        },
        "margin": {
         "t": 60
        },
        "template": {
         "data": {
          "bar": [
           {
            "error_x": {
             "color": "#2a3f5f"
            },
            "error_y": {
             "color": "#2a3f5f"
            },
            "marker": {
             "line": {
              "color": "#E5ECF6",
              "width": 0.5
             },
             "pattern": {
              "fillmode": "overlay",
              "size": 10,
              "solidity": 0.2
             }
            },
            "type": "bar"
           }
          ],
          "barpolar": [
           {
            "marker": {
             "line": {
              "color": "#E5ECF6",
              "width": 0.5
             },
             "pattern": {
              "fillmode": "overlay",
              "size": 10,
              "solidity": 0.2
             }
            },
            "type": "barpolar"
           }
          ],
          "carpet": [
           {
            "aaxis": {
             "endlinecolor": "#2a3f5f",
             "gridcolor": "white",
             "linecolor": "white",
             "minorgridcolor": "white",
             "startlinecolor": "#2a3f5f"
            },
            "baxis": {
             "endlinecolor": "#2a3f5f",
             "gridcolor": "white",
             "linecolor": "white",
             "minorgridcolor": "white",
             "startlinecolor": "#2a3f5f"
            },
            "type": "carpet"
           }
          ],
          "choropleth": [
           {
            "colorbar": {
             "outlinewidth": 0,
             "ticks": ""
            },
            "type": "choropleth"
           }
          ],
          "contour": [
           {
            "colorbar": {
             "outlinewidth": 0,
             "ticks": ""
            },
            "colorscale": [
             [
              0,
              "#0d0887"
             ],
             [
              0.1111111111111111,
              "#46039f"
             ],
             [
              0.2222222222222222,
              "#7201a8"
             ],
             [
              0.3333333333333333,
              "#9c179e"
             ],
             [
              0.4444444444444444,
              "#bd3786"
             ],
             [
              0.5555555555555556,
              "#d8576b"
             ],
             [
              0.6666666666666666,
              "#ed7953"
             ],
             [
              0.7777777777777778,
              "#fb9f3a"
             ],
             [
              0.8888888888888888,
              "#fdca26"
             ],
             [
              1,
              "#f0f921"
             ]
            ],
            "type": "contour"
           }
          ],
          "contourcarpet": [
           {
            "colorbar": {
             "outlinewidth": 0,
             "ticks": ""
            },
            "type": "contourcarpet"
           }
          ],
          "heatmap": [
           {
            "colorbar": {
             "outlinewidth": 0,
             "ticks": ""
            },
            "colorscale": [
             [
              0,
              "#0d0887"
             ],
             [
              0.1111111111111111,
              "#46039f"
             ],
             [
              0.2222222222222222,
              "#7201a8"
             ],
             [
              0.3333333333333333,
              "#9c179e"
             ],
             [
              0.4444444444444444,
              "#bd3786"
             ],
             [
              0.5555555555555556,
              "#d8576b"
             ],
             [
              0.6666666666666666,
              "#ed7953"
             ],
             [
              0.7777777777777778,
              "#fb9f3a"
             ],
             [
              0.8888888888888888,
              "#fdca26"
             ],
             [
              1,
              "#f0f921"
             ]
            ],
            "type": "heatmap"
           }
          ],
          "heatmapgl": [
           {
            "colorbar": {
             "outlinewidth": 0,
             "ticks": ""
            },
            "colorscale": [
             [
              0,
              "#0d0887"
             ],
             [
              0.1111111111111111,
              "#46039f"
             ],
             [
              0.2222222222222222,
              "#7201a8"
             ],
             [
              0.3333333333333333,
              "#9c179e"
             ],
             [
              0.4444444444444444,
              "#bd3786"
             ],
             [
              0.5555555555555556,
              "#d8576b"
             ],
             [
              0.6666666666666666,
              "#ed7953"
             ],
             [
              0.7777777777777778,
              "#fb9f3a"
             ],
             [
              0.8888888888888888,
              "#fdca26"
             ],
             [
              1,
              "#f0f921"
             ]
            ],
            "type": "heatmapgl"
           }
          ],
          "histogram": [
           {
            "marker": {
             "pattern": {
              "fillmode": "overlay",
              "size": 10,
              "solidity": 0.2
             }
            },
            "type": "histogram"
           }
          ],
          "histogram2d": [
           {
            "colorbar": {
             "outlinewidth": 0,
             "ticks": ""
            },
            "colorscale": [
             [
              0,
              "#0d0887"
             ],
             [
              0.1111111111111111,
              "#46039f"
             ],
             [
              0.2222222222222222,
              "#7201a8"
             ],
             [
              0.3333333333333333,
              "#9c179e"
             ],
             [
              0.4444444444444444,
              "#bd3786"
             ],
             [
              0.5555555555555556,
              "#d8576b"
             ],
             [
              0.6666666666666666,
              "#ed7953"
             ],
             [
              0.7777777777777778,
              "#fb9f3a"
             ],
             [
              0.8888888888888888,
              "#fdca26"
             ],
             [
              1,
              "#f0f921"
             ]
            ],
            "type": "histogram2d"
           }
          ],
          "histogram2dcontour": [
           {
            "colorbar": {
             "outlinewidth": 0,
             "ticks": ""
            },
            "colorscale": [
             [
              0,
              "#0d0887"
             ],
             [
              0.1111111111111111,
              "#46039f"
             ],
             [
              0.2222222222222222,
              "#7201a8"
             ],
             [
              0.3333333333333333,
              "#9c179e"
             ],
             [
              0.4444444444444444,
              "#bd3786"
             ],
             [
              0.5555555555555556,
              "#d8576b"
             ],
             [
              0.6666666666666666,
              "#ed7953"
             ],
             [
              0.7777777777777778,
              "#fb9f3a"
             ],
             [
              0.8888888888888888,
              "#fdca26"
             ],
             [
              1,
              "#f0f921"
             ]
            ],
            "type": "histogram2dcontour"
           }
          ],
          "mesh3d": [
           {
            "colorbar": {
             "outlinewidth": 0,
             "ticks": ""
            },
            "type": "mesh3d"
           }
          ],
          "parcoords": [
           {
            "line": {
             "colorbar": {
              "outlinewidth": 0,
              "ticks": ""
             }
            },
            "type": "parcoords"
           }
          ],
          "pie": [
           {
            "automargin": true,
            "type": "pie"
           }
          ],
          "scatter": [
           {
            "fillpattern": {
             "fillmode": "overlay",
             "size": 10,
             "solidity": 0.2
            },
            "type": "scatter"
           }
          ],
          "scatter3d": [
           {
            "line": {
             "colorbar": {
              "outlinewidth": 0,
              "ticks": ""
             }
            },
            "marker": {
             "colorbar": {
              "outlinewidth": 0,
              "ticks": ""
             }
            },
            "type": "scatter3d"
           }
          ],
          "scattercarpet": [
           {
            "marker": {
             "colorbar": {
              "outlinewidth": 0,
              "ticks": ""
             }
            },
            "type": "scattercarpet"
           }
          ],
          "scattergeo": [
           {
            "marker": {
             "colorbar": {
              "outlinewidth": 0,
              "ticks": ""
             }
            },
            "type": "scattergeo"
           }
          ],
          "scattergl": [
           {
            "marker": {
             "colorbar": {
              "outlinewidth": 0,
              "ticks": ""
             }
            },
            "type": "scattergl"
           }
          ],
          "scattermapbox": [
           {
            "marker": {
             "colorbar": {
              "outlinewidth": 0,
              "ticks": ""
             }
            },
            "type": "scattermapbox"
           }
          ],
          "scatterpolar": [
           {
            "marker": {
             "colorbar": {
              "outlinewidth": 0,
              "ticks": ""
             }
            },
            "type": "scatterpolar"
           }
          ],
          "scatterpolargl": [
           {
            "marker": {
             "colorbar": {
              "outlinewidth": 0,
              "ticks": ""
             }
            },
            "type": "scatterpolargl"
           }
          ],
          "scatterternary": [
           {
            "marker": {
             "colorbar": {
              "outlinewidth": 0,
              "ticks": ""
             }
            },
            "type": "scatterternary"
           }
          ],
          "surface": [
           {
            "colorbar": {
             "outlinewidth": 0,
             "ticks": ""
            },
            "colorscale": [
             [
              0,
              "#0d0887"
             ],
             [
              0.1111111111111111,
              "#46039f"
             ],
             [
              0.2222222222222222,
              "#7201a8"
             ],
             [
              0.3333333333333333,
              "#9c179e"
             ],
             [
              0.4444444444444444,
              "#bd3786"
             ],
             [
              0.5555555555555556,
              "#d8576b"
             ],
             [
              0.6666666666666666,
              "#ed7953"
             ],
             [
              0.7777777777777778,
              "#fb9f3a"
             ],
             [
              0.8888888888888888,
              "#fdca26"
             ],
             [
              1,
              "#f0f921"
             ]
            ],
            "type": "surface"
           }
          ],
          "table": [
           {
            "cells": {
             "fill": {
              "color": "#EBF0F8"
             },
             "line": {
              "color": "white"
             }
            },
            "header": {
             "fill": {
              "color": "#C8D4E3"
             },
             "line": {
              "color": "white"
             }
            },
            "type": "table"
           }
          ]
         },
         "layout": {
          "annotationdefaults": {
           "arrowcolor": "#2a3f5f",
           "arrowhead": 0,
           "arrowwidth": 1
          },
          "autotypenumbers": "strict",
          "coloraxis": {
           "colorbar": {
            "outlinewidth": 0,
            "ticks": ""
           }
          },
          "colorscale": {
           "diverging": [
            [
             0,
             "#8e0152"
            ],
            [
             0.1,
             "#c51b7d"
            ],
            [
             0.2,
             "#de77ae"
            ],
            [
             0.3,
             "#f1b6da"
            ],
            [
             0.4,
             "#fde0ef"
            ],
            [
             0.5,
             "#f7f7f7"
            ],
            [
             0.6,
             "#e6f5d0"
            ],
            [
             0.7,
             "#b8e186"
            ],
            [
             0.8,
             "#7fbc41"
            ],
            [
             0.9,
             "#4d9221"
            ],
            [
             1,
             "#276419"
            ]
           ],
           "sequential": [
            [
             0,
             "#0d0887"
            ],
            [
             0.1111111111111111,
             "#46039f"
            ],
            [
             0.2222222222222222,
             "#7201a8"
            ],
            [
             0.3333333333333333,
             "#9c179e"
            ],
            [
             0.4444444444444444,
             "#bd3786"
            ],
            [
             0.5555555555555556,
             "#d8576b"
            ],
            [
             0.6666666666666666,
             "#ed7953"
            ],
            [
             0.7777777777777778,
             "#fb9f3a"
            ],
            [
             0.8888888888888888,
             "#fdca26"
            ],
            [
             1,
             "#f0f921"
            ]
           ],
           "sequentialminus": [
            [
             0,
             "#0d0887"
            ],
            [
             0.1111111111111111,
             "#46039f"
            ],
            [
             0.2222222222222222,
             "#7201a8"
            ],
            [
             0.3333333333333333,
             "#9c179e"
            ],
            [
             0.4444444444444444,
             "#bd3786"
            ],
            [
             0.5555555555555556,
             "#d8576b"
            ],
            [
             0.6666666666666666,
             "#ed7953"
            ],
            [
             0.7777777777777778,
             "#fb9f3a"
            ],
            [
             0.8888888888888888,
             "#fdca26"
            ],
            [
             1,
             "#f0f921"
            ]
           ]
          },
          "colorway": [
           "#636efa",
           "#EF553B",
           "#00cc96",
           "#ab63fa",
           "#FFA15A",
           "#19d3f3",
           "#FF6692",
           "#B6E880",
           "#FF97FF",
           "#FECB52"
          ],
          "font": {
           "color": "#2a3f5f"
          },
          "geo": {
           "bgcolor": "white",
           "lakecolor": "white",
           "landcolor": "#E5ECF6",
           "showlakes": true,
           "showland": true,
           "subunitcolor": "white"
          },
          "hoverlabel": {
           "align": "left"
          },
          "hovermode": "closest",
          "mapbox": {
           "style": "light"
          },
          "paper_bgcolor": "white",
          "plot_bgcolor": "#E5ECF6",
          "polar": {
           "angularaxis": {
            "gridcolor": "white",
            "linecolor": "white",
            "ticks": ""
           },
           "bgcolor": "#E5ECF6",
           "radialaxis": {
            "gridcolor": "white",
            "linecolor": "white",
            "ticks": ""
           }
          },
          "scene": {
           "xaxis": {
            "backgroundcolor": "#E5ECF6",
            "gridcolor": "white",
            "gridwidth": 2,
            "linecolor": "white",
            "showbackground": true,
            "ticks": "",
            "zerolinecolor": "white"
           },
           "yaxis": {
            "backgroundcolor": "#E5ECF6",
            "gridcolor": "white",
            "gridwidth": 2,
            "linecolor": "white",
            "showbackground": true,
            "ticks": "",
            "zerolinecolor": "white"
           },
           "zaxis": {
            "backgroundcolor": "#E5ECF6",
            "gridcolor": "white",
            "gridwidth": 2,
            "linecolor": "white",
            "showbackground": true,
            "ticks": "",
            "zerolinecolor": "white"
           }
          },
          "shapedefaults": {
           "line": {
            "color": "#2a3f5f"
           }
          },
          "ternary": {
           "aaxis": {
            "gridcolor": "white",
            "linecolor": "white",
            "ticks": ""
           },
           "baxis": {
            "gridcolor": "white",
            "linecolor": "white",
            "ticks": ""
           },
           "bgcolor": "#E5ECF6",
           "caxis": {
            "gridcolor": "white",
            "linecolor": "white",
            "ticks": ""
           }
          },
          "title": {
           "x": 0.05
          },
          "xaxis": {
           "automargin": true,
           "gridcolor": "white",
           "linecolor": "white",
           "ticks": "",
           "title": {
            "standoff": 15
           },
           "zerolinecolor": "white",
           "zerolinewidth": 2
          },
          "yaxis": {
           "automargin": true,
           "gridcolor": "white",
           "linecolor": "white",
           "ticks": "",
           "title": {
            "standoff": 15
           },
           "zerolinecolor": "white",
           "zerolinewidth": 2
          }
         }
        },
        "xaxis": {
         "anchor": "y",
         "domain": [
          0,
          1
         ],
         "title": {
          "text": "Distance"
         }
        },
        "yaxis": {
         "anchor": "x",
         "domain": [
          0,
          1
         ],
         "title": {
          "text": "Energy"
         }
        }
       }
      }
     },
     "metadata": {},
     "output_type": "display_data"
    }
   ],
   "source": [
    "plot.show()"
   ]
  }
 ],
 "metadata": {
  "kernelspec": {
   "display_name": "base",
   "language": "python",
   "name": "python3"
  },
  "language_info": {
   "codemirror_mode": {
    "name": "ipython",
    "version": 3
   },
   "file_extension": ".py",
   "mimetype": "text/x-python",
   "name": "python",
   "nbconvert_exporter": "python",
   "pygments_lexer": "ipython3",
   "version": "3.9.16"
  }
 },
 "nbformat": 4,
 "nbformat_minor": 2
}
