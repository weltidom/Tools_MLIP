{
 "cells": [
  {
   "cell_type": "code",
   "execution_count": 102,
   "metadata": {},
   "outputs": [],
   "source": [
    "import pandas as pd\n",
    "import numpy as np\n",
    "import plotly.express as px\n",
    "import os\n",
    "from ase.io import read"
   ]
  },
  {
   "cell_type": "code",
   "execution_count": 103,
   "metadata": {},
   "outputs": [],
   "source": [
    "molpro_folder='/Users/dominicwelti/Documents/Master_Thesis_Data_Set/Benzene'\n",
    "\n",
    "files=[]\n",
    "for (dirpath, dirnames, filenames) in os.walk(molpro_folder):\n",
    "    for filename in filenames:\n",
    "        files.append(f'{dirpath}/{filename}')\n",
    "\n",
    "files=list(filter(lambda x:'ase.xyz' in x, files))\n",
    "\n",
    "data_molpro=pd.DataFrame({\n",
    "    'Calculation type': 'Ab initio',\n",
    "    'Method': '',\n",
    "    'Distance': [0]*len(files),\n",
    "    'Energy': 0\n",
    "})"
   ]
  },
  {
   "cell_type": "code",
   "execution_count": 104,
   "metadata": {},
   "outputs": [
    {
     "name": "stderr",
     "output_type": "stream",
     "text": [
      "/var/folders/22/kgbcd6856bb9_kzpfp_36k600000gn/T/ipykernel_90891/1374398513.py:3: FutureWarning:\n",
      "\n",
      "Setting an item of incompatible dtype is deprecated and will raise an error in a future version of pandas. Value '0.90' has dtype incompatible with int64, please explicitly cast to a compatible dtype first.\n",
      "\n",
      "/var/folders/22/kgbcd6856bb9_kzpfp_36k600000gn/T/ipykernel_90891/1374398513.py:6: FutureWarning:\n",
      "\n",
      "Setting an item of incompatible dtype is deprecated and will raise an error in a future version of pandas. Value '-12627.129353934697' has dtype incompatible with int64, please explicitly cast to a compatible dtype first.\n",
      "\n"
     ]
    }
   ],
   "source": [
    "for i, row in data_molpro.iterrows():\n",
    "    data_molpro.loc[i, 'Method'] = files[i].split('/')[-4]\n",
    "    data_molpro.loc[i, 'Distance'] = files[i].split('/')[-2].split('_')[-1]\n",
    "\n",
    "    atoms=read(files[i],format='extxyz')\n",
    "    data_molpro.loc[i, 'Energy'] = atoms.get_total_energy()"
   ]
  },
  {
   "cell_type": "code",
   "execution_count": 105,
   "metadata": {},
   "outputs": [],
   "source": [
    "data_mace=pd.read_pickle('/Users/dominicwelti/Documents/Master_Thesis_Data_Set/Benzene/MACE/results.pkl')\n",
    "data_mace['Method']='MACE'+' '+data_mace['Model']\n",
    "\n",
    "df=pd.concat([data_molpro,data_mace], ignore_index=True)"
   ]
  },
  {
   "cell_type": "code",
   "execution_count": 106,
   "metadata": {},
   "outputs": [
    {
     "name": "stderr",
     "output_type": "stream",
     "text": [
      "/var/folders/22/kgbcd6856bb9_kzpfp_36k600000gn/T/ipykernel_90891/4006019392.py:6: FutureWarning:\n",
      "\n",
      "Calling float on a single element Series is deprecated and will raise a TypeError in the future. Use float(ser.iloc[0]) instead\n",
      "\n",
      "/var/folders/22/kgbcd6856bb9_kzpfp_36k600000gn/T/ipykernel_90891/4006019392.py:6: FutureWarning:\n",
      "\n",
      "Setting an item of incompatible dtype is deprecated and will raise an error in a future version of pandas. Value '[ 3.63122542e-02 -1.11152012e-01  6.31358283e+03 -8.32900603e-02\n",
      " -6.53206351e-02 -2.93166973e-02 -1.25251575e-01 -4.07935387e-03\n",
      "  6.31358284e+03 -1.22984097e-01]' has dtype incompatible with int64, please explicitly cast to a compatible dtype first.\n",
      "\n",
      "/var/folders/22/kgbcd6856bb9_kzpfp_36k600000gn/T/ipykernel_90891/4006019392.py:6: FutureWarning:\n",
      "\n",
      "Calling float on a single element Series is deprecated and will raise a TypeError in the future. Use float(ser.iloc[0]) instead\n",
      "\n",
      "/var/folders/22/kgbcd6856bb9_kzpfp_36k600000gn/T/ipykernel_90891/4006019392.py:6: FutureWarning:\n",
      "\n",
      "Calling float on a single element Series is deprecated and will raise a TypeError in the future. Use float(ser.iloc[0]) instead\n",
      "\n",
      "/var/folders/22/kgbcd6856bb9_kzpfp_36k600000gn/T/ipykernel_90891/4006019392.py:6: FutureWarning:\n",
      "\n",
      "Calling float on a single element Series is deprecated and will raise a TypeError in the future. Use float(ser.iloc[0]) instead\n",
      "\n",
      "/var/folders/22/kgbcd6856bb9_kzpfp_36k600000gn/T/ipykernel_90891/4006019392.py:6: FutureWarning:\n",
      "\n",
      "Calling float on a single element Series is deprecated and will raise a TypeError in the future. Use float(ser.iloc[0]) instead\n",
      "\n",
      "/var/folders/22/kgbcd6856bb9_kzpfp_36k600000gn/T/ipykernel_90891/4006019392.py:6: FutureWarning:\n",
      "\n",
      "Calling float on a single element Series is deprecated and will raise a TypeError in the future. Use float(ser.iloc[0]) instead\n",
      "\n",
      "/var/folders/22/kgbcd6856bb9_kzpfp_36k600000gn/T/ipykernel_90891/4006019392.py:6: FutureWarning:\n",
      "\n",
      "Calling float on a single element Series is deprecated and will raise a TypeError in the future. Use float(ser.iloc[0]) instead\n",
      "\n",
      "/var/folders/22/kgbcd6856bb9_kzpfp_36k600000gn/T/ipykernel_90891/4006019392.py:6: FutureWarning:\n",
      "\n",
      "Calling float on a single element Series is deprecated and will raise a TypeError in the future. Use float(ser.iloc[0]) instead\n",
      "\n"
     ]
    }
   ],
   "source": [
    "# calculate interaction energy (total energy minus monomers)\n",
    "df['Interaction energy [eV]']=0\n",
    "\n",
    "for method in df['Method'].unique():\n",
    "    subset=df.query(f'Method == \"{method}\"')\n",
    "    df.loc[df['Method']==method, 'Interaction energy [eV]'] = subset['Energy'] - float(subset.loc[subset['Distance']=='1', 'Energy']) - float(subset.loc[subset['Distance']=='2', 'Energy'])"
   ]
  },
  {
   "cell_type": "code",
   "execution_count": 107,
   "metadata": {},
   "outputs": [],
   "source": [
    "df=df[df['Distance'].str.len()>=2] # drop full integer values (Distance 2 & 1 represent individual benzene and not dimer)\n",
    "df['Distance']=df['Distance'].astype(float)\n",
    "df=df.sort_values('Distance').reset_index(drop=True)"
   ]
  },
  {
   "cell_type": "code",
   "execution_count": 108,
   "metadata": {},
   "outputs": [],
   "source": [
    "plot=px.line(df, x='Distance', y='Interaction energy [eV]', color='Method', markers=True, template='ggplot2',\n",
    "             title='Benzene dimer: interaction energy in relation to distance (multiplier of equilibrium distance determined by CCSD(T) calculation). Model ANI-1ccx: MACE model trained on ANI-1ccx dataset (organic molecules CCSD(T) level). Model s66x8: MACE model trained on s66x8 dataset (organic dimer molecules CCSD(T) level). Model ANI-1ccx+s66x8: trained on both.')"
   ]
  },
  {
   "cell_type": "code",
   "execution_count": 109,
   "metadata": {},
   "outputs": [
    {
     "data": {
      "application/vnd.plotly.v1+json": {
       "config": {
        "plotlyServerURL": "https://plotly.com"
       },
       "data": [
        {
         "hovertemplate": "Method=DF-KS_PBE-D3_BJ<br>Distance=%{x}<br>Interaction energy [eV]=%{y}<extra></extra>",
         "legendgroup": "DF-KS_PBE-D3_BJ",
         "line": {
          "color": "#F8766D",
          "dash": "solid"
         },
         "marker": {
          "symbol": "circle"
         },
         "mode": "lines+markers",
         "name": "DF-KS_PBE-D3_BJ",
         "orientation": "v",
         "showlegend": true,
         "type": "scatter",
         "x": [
          0.9,
          0.95,
          1,
          1.05,
          1.1,
          1.25,
          1.5,
          2
         ],
         "xaxis": "x",
         "y": [
          0.036312254188487714,
          -0.06532063505892438,
          -0.11115201244410855,
          -0.12525157472464343,
          -0.12298409738195915,
          -0.08329006027543073,
          -0.02931669732879527,
          -0.004079353874658409
         ],
         "yaxis": "y"
        },
        {
         "hovertemplate": "Method=DF-KS_PBE<br>Distance=%{x}<br>Interaction energy [eV]=%{y}<extra></extra>",
         "legendgroup": "DF-KS_PBE",
         "line": {
          "color": "#A3A500",
          "dash": "solid"
         },
         "marker": {
          "symbol": "circle"
         },
         "mode": "lines+markers",
         "name": "DF-KS_PBE",
         "orientation": "v",
         "showlegend": true,
         "type": "scatter",
         "x": [
          0.9,
          0.95,
          1,
          1.05,
          1.1,
          1.25,
          1.5,
          2
         ],
         "xaxis": "x",
         "y": [
          0.2676486048321749,
          0.14162352907533204,
          0.07012661381031648,
          0.03150241025014111,
          0.011368851909537625,
          -0.004550546343125461,
          -0.000767053487834346,
          0.0013298610620040563
         ],
         "yaxis": "y"
        },
        {
         "hovertemplate": "Method=DF-KS_LDA<br>Distance=%{x}<br>Interaction energy [eV]=%{y}<extra></extra>",
         "legendgroup": "DF-KS_LDA",
         "line": {
          "color": "#00BF7D",
          "dash": "solid"
         },
         "marker": {
          "symbol": "circle"
         },
         "mode": "lines+markers",
         "name": "DF-KS_LDA",
         "orientation": "v",
         "showlegend": true,
         "type": "scatter",
         "x": [
          0.9,
          0.95,
          1,
          1.05,
          1.1,
          1.25,
          1.5,
          2
         ],
         "xaxis": "x",
         "y": [
          -0.06938979848564486,
          -0.11196169754657603,
          -0.11846765044356289,
          -0.10683006266845041,
          -0.08894045103079407,
          -0.038278669271676335,
          -0.0032122576703841332,
          0.0016049232199293328
         ],
         "yaxis": "y"
        },
        {
         "hovertemplate": "Method=MACE ANI-1ccx+s66x8<br>Distance=%{x}<br>Interaction energy [eV]=%{y}<extra></extra>",
         "legendgroup": "MACE ANI-1ccx+s66x8",
         "line": {
          "color": "#00B0F6",
          "dash": "solid"
         },
         "marker": {
          "symbol": "circle"
         },
         "mode": "lines+markers",
         "name": "MACE ANI-1ccx+s66x8",
         "orientation": "v",
         "showlegend": true,
         "type": "scatter",
         "x": [
          0.9,
          0.95,
          1,
          1.05,
          1.1,
          1.25,
          1.5,
          2
         ],
         "xaxis": "x",
         "y": [
          0.0068359375,
          -0.083984375,
          -0.1142578125,
          -0.11328125,
          -0.1083984375,
          -0.0576171875,
          0,
          0
         ],
         "yaxis": "y"
        },
        {
         "hovertemplate": "Method=MACE s66x8<br>Distance=%{x}<br>Interaction energy [eV]=%{y}<extra></extra>",
         "legendgroup": "MACE s66x8",
         "line": {
          "color": "#E76BF3",
          "dash": "solid"
         },
         "marker": {
          "symbol": "circle"
         },
         "mode": "lines+markers",
         "name": "MACE s66x8",
         "orientation": "v",
         "showlegend": true,
         "type": "scatter",
         "x": [
          0.9,
          0.95,
          1,
          1.05,
          1.1,
          1.25,
          1.5,
          2
         ],
         "xaxis": "x",
         "y": [
          -0.0078125,
          -0.0830078125,
          -0.1123046875,
          -0.1162109375,
          -0.103515625,
          -0.025390625,
          0,
          0
         ],
         "yaxis": "y"
        },
        {
         "hovertemplate": "Method=MACE ANI-1ccx<br>Distance=%{x}<br>Interaction energy [eV]=%{y}<extra></extra>",
         "legendgroup": "MACE ANI-1ccx",
         "line": {
          "color": "#F8766D",
          "dash": "solid"
         },
         "marker": {
          "symbol": "circle"
         },
         "mode": "lines+markers",
         "name": "MACE ANI-1ccx",
         "orientation": "v",
         "showlegend": true,
         "type": "scatter",
         "x": [
          0.9,
          0.95,
          1,
          1.05,
          1.1,
          1.25,
          1.5,
          2
         ],
         "xaxis": "x",
         "y": [
          -0.0478515625,
          -0.1572265625,
          -0.126953125,
          -0.05859375,
          -0.0078125,
          -0.0166015625,
          0,
          0
         ],
         "yaxis": "y"
        },
        {
         "hovertemplate": "Method=DF-PNO-LCCSD_T<br>Distance=%{x}<br>Interaction energy [eV]=%{y}<extra></extra>",
         "legendgroup": "DF-PNO-LCCSD_T",
         "line": {
          "color": "#A3A500",
          "dash": "solid"
         },
         "marker": {
          "symbol": "circle"
         },
         "mode": "lines+markers",
         "name": "DF-PNO-LCCSD_T",
         "orientation": "v",
         "showlegend": true,
         "type": "scatter",
         "x": [
          0.9,
          0.95,
          1,
          1.05,
          1.1,
          1.25,
          1.5,
          2
         ],
         "xaxis": "x",
         "y": [
          -0.0022270758063314133,
          -0.08824966297743231,
          -0.12090103966056631,
          -0.12575961897437082,
          -0.11755621206339129,
          -0.07510530333911447,
          -0.02597697885812522,
          -0.004885468028987816
         ],
         "yaxis": "y"
        },
        {
         "hovertemplate": "Method=DF-KS_PBE-D4<br>Distance=%{x}<br>Interaction energy [eV]=%{y}<extra></extra>",
         "legendgroup": "DF-KS_PBE-D4",
         "line": {
          "color": "#00BF7D",
          "dash": "solid"
         },
         "marker": {
          "symbol": "circle"
         },
         "mode": "lines+markers",
         "name": "DF-KS_PBE-D4",
         "orientation": "v",
         "showlegend": true,
         "type": "scatter",
         "x": [
          0.9,
          0.95,
          1,
          1.05,
          1.1,
          1.25,
          1.5,
          2
         ],
         "xaxis": "x",
         "y": [
          -0.014613414663472213,
          -0.10087828287032607,
          -0.13548237427676213,
          -0.14081047040963313,
          -0.13172357009534608,
          -0.08195993550725689,
          -0.026165722663790802,
          -0.0016677303920005215
         ],
         "yaxis": "y"
        }
       ],
       "layout": {
        "legend": {
         "title": {
          "text": "Method"
         },
         "tracegroupgap": 0
        },
        "template": {
         "data": {
          "bar": [
           {
            "error_x": {
             "color": "rgb(51,51,51)"
            },
            "error_y": {
             "color": "rgb(51,51,51)"
            },
            "marker": {
             "line": {
              "color": "rgb(237,237,237)",
              "width": 0.5
             },
             "pattern": {
              "fillmode": "overlay",
              "size": 10,
              "solidity": 0.2
             }
            },
            "type": "bar"
           }
          ],
          "barpolar": [
           {
            "marker": {
             "line": {
              "color": "rgb(237,237,237)",
              "width": 0.5
             },
             "pattern": {
              "fillmode": "overlay",
              "size": 10,
              "solidity": 0.2
             }
            },
            "type": "barpolar"
           }
          ],
          "carpet": [
           {
            "aaxis": {
             "endlinecolor": "rgb(51,51,51)",
             "gridcolor": "white",
             "linecolor": "white",
             "minorgridcolor": "white",
             "startlinecolor": "rgb(51,51,51)"
            },
            "baxis": {
             "endlinecolor": "rgb(51,51,51)",
             "gridcolor": "white",
             "linecolor": "white",
             "minorgridcolor": "white",
             "startlinecolor": "rgb(51,51,51)"
            },
            "type": "carpet"
           }
          ],
          "choropleth": [
           {
            "colorbar": {
             "outlinewidth": 0,
             "tickcolor": "rgb(237,237,237)",
             "ticklen": 6,
             "ticks": "inside"
            },
            "type": "choropleth"
           }
          ],
          "contour": [
           {
            "colorbar": {
             "outlinewidth": 0,
             "tickcolor": "rgb(237,237,237)",
             "ticklen": 6,
             "ticks": "inside"
            },
            "colorscale": [
             [
              0,
              "rgb(20,44,66)"
             ],
             [
              1,
              "rgb(90,179,244)"
             ]
            ],
            "type": "contour"
           }
          ],
          "contourcarpet": [
           {
            "colorbar": {
             "outlinewidth": 0,
             "tickcolor": "rgb(237,237,237)",
             "ticklen": 6,
             "ticks": "inside"
            },
            "type": "contourcarpet"
           }
          ],
          "heatmap": [
           {
            "colorbar": {
             "outlinewidth": 0,
             "tickcolor": "rgb(237,237,237)",
             "ticklen": 6,
             "ticks": "inside"
            },
            "colorscale": [
             [
              0,
              "rgb(20,44,66)"
             ],
             [
              1,
              "rgb(90,179,244)"
             ]
            ],
            "type": "heatmap"
           }
          ],
          "heatmapgl": [
           {
            "colorbar": {
             "outlinewidth": 0,
             "tickcolor": "rgb(237,237,237)",
             "ticklen": 6,
             "ticks": "inside"
            },
            "colorscale": [
             [
              0,
              "rgb(20,44,66)"
             ],
             [
              1,
              "rgb(90,179,244)"
             ]
            ],
            "type": "heatmapgl"
           }
          ],
          "histogram": [
           {
            "marker": {
             "pattern": {
              "fillmode": "overlay",
              "size": 10,
              "solidity": 0.2
             }
            },
            "type": "histogram"
           }
          ],
          "histogram2d": [
           {
            "colorbar": {
             "outlinewidth": 0,
             "tickcolor": "rgb(237,237,237)",
             "ticklen": 6,
             "ticks": "inside"
            },
            "colorscale": [
             [
              0,
              "rgb(20,44,66)"
             ],
             [
              1,
              "rgb(90,179,244)"
             ]
            ],
            "type": "histogram2d"
           }
          ],
          "histogram2dcontour": [
           {
            "colorbar": {
             "outlinewidth": 0,
             "tickcolor": "rgb(237,237,237)",
             "ticklen": 6,
             "ticks": "inside"
            },
            "colorscale": [
             [
              0,
              "rgb(20,44,66)"
             ],
             [
              1,
              "rgb(90,179,244)"
             ]
            ],
            "type": "histogram2dcontour"
           }
          ],
          "mesh3d": [
           {
            "colorbar": {
             "outlinewidth": 0,
             "tickcolor": "rgb(237,237,237)",
             "ticklen": 6,
             "ticks": "inside"
            },
            "type": "mesh3d"
           }
          ],
          "parcoords": [
           {
            "line": {
             "colorbar": {
              "outlinewidth": 0,
              "tickcolor": "rgb(237,237,237)",
              "ticklen": 6,
              "ticks": "inside"
             }
            },
            "type": "parcoords"
           }
          ],
          "pie": [
           {
            "automargin": true,
            "type": "pie"
           }
          ],
          "scatter": [
           {
            "fillpattern": {
             "fillmode": "overlay",
             "size": 10,
             "solidity": 0.2
            },
            "type": "scatter"
           }
          ],
          "scatter3d": [
           {
            "line": {
             "colorbar": {
              "outlinewidth": 0,
              "tickcolor": "rgb(237,237,237)",
              "ticklen": 6,
              "ticks": "inside"
             }
            },
            "marker": {
             "colorbar": {
              "outlinewidth": 0,
              "tickcolor": "rgb(237,237,237)",
              "ticklen": 6,
              "ticks": "inside"
             }
            },
            "type": "scatter3d"
           }
          ],
          "scattercarpet": [
           {
            "marker": {
             "colorbar": {
              "outlinewidth": 0,
              "tickcolor": "rgb(237,237,237)",
              "ticklen": 6,
              "ticks": "inside"
             }
            },
            "type": "scattercarpet"
           }
          ],
          "scattergeo": [
           {
            "marker": {
             "colorbar": {
              "outlinewidth": 0,
              "tickcolor": "rgb(237,237,237)",
              "ticklen": 6,
              "ticks": "inside"
             }
            },
            "type": "scattergeo"
           }
          ],
          "scattergl": [
           {
            "marker": {
             "colorbar": {
              "outlinewidth": 0,
              "tickcolor": "rgb(237,237,237)",
              "ticklen": 6,
              "ticks": "inside"
             }
            },
            "type": "scattergl"
           }
          ],
          "scattermapbox": [
           {
            "marker": {
             "colorbar": {
              "outlinewidth": 0,
              "tickcolor": "rgb(237,237,237)",
              "ticklen": 6,
              "ticks": "inside"
             }
            },
            "type": "scattermapbox"
           }
          ],
          "scatterpolar": [
           {
            "marker": {
             "colorbar": {
              "outlinewidth": 0,
              "tickcolor": "rgb(237,237,237)",
              "ticklen": 6,
              "ticks": "inside"
             }
            },
            "type": "scatterpolar"
           }
          ],
          "scatterpolargl": [
           {
            "marker": {
             "colorbar": {
              "outlinewidth": 0,
              "tickcolor": "rgb(237,237,237)",
              "ticklen": 6,
              "ticks": "inside"
             }
            },
            "type": "scatterpolargl"
           }
          ],
          "scatterternary": [
           {
            "marker": {
             "colorbar": {
              "outlinewidth": 0,
              "tickcolor": "rgb(237,237,237)",
              "ticklen": 6,
              "ticks": "inside"
             }
            },
            "type": "scatterternary"
           }
          ],
          "surface": [
           {
            "colorbar": {
             "outlinewidth": 0,
             "tickcolor": "rgb(237,237,237)",
             "ticklen": 6,
             "ticks": "inside"
            },
            "colorscale": [
             [
              0,
              "rgb(20,44,66)"
             ],
             [
              1,
              "rgb(90,179,244)"
             ]
            ],
            "type": "surface"
           }
          ],
          "table": [
           {
            "cells": {
             "fill": {
              "color": "rgb(237,237,237)"
             },
             "line": {
              "color": "white"
             }
            },
            "header": {
             "fill": {
              "color": "rgb(217,217,217)"
             },
             "line": {
              "color": "white"
             }
            },
            "type": "table"
           }
          ]
         },
         "layout": {
          "annotationdefaults": {
           "arrowhead": 0,
           "arrowwidth": 1
          },
          "autotypenumbers": "strict",
          "coloraxis": {
           "colorbar": {
            "outlinewidth": 0,
            "tickcolor": "rgb(237,237,237)",
            "ticklen": 6,
            "ticks": "inside"
           }
          },
          "colorscale": {
           "sequential": [
            [
             0,
             "rgb(20,44,66)"
            ],
            [
             1,
             "rgb(90,179,244)"
            ]
           ],
           "sequentialminus": [
            [
             0,
             "rgb(20,44,66)"
            ],
            [
             1,
             "rgb(90,179,244)"
            ]
           ]
          },
          "colorway": [
           "#F8766D",
           "#A3A500",
           "#00BF7D",
           "#00B0F6",
           "#E76BF3"
          ],
          "font": {
           "color": "rgb(51,51,51)"
          },
          "geo": {
           "bgcolor": "white",
           "lakecolor": "white",
           "landcolor": "rgb(237,237,237)",
           "showlakes": true,
           "showland": true,
           "subunitcolor": "white"
          },
          "hoverlabel": {
           "align": "left"
          },
          "hovermode": "closest",
          "paper_bgcolor": "white",
          "plot_bgcolor": "rgb(237,237,237)",
          "polar": {
           "angularaxis": {
            "gridcolor": "white",
            "linecolor": "white",
            "showgrid": true,
            "tickcolor": "rgb(51,51,51)",
            "ticks": "outside"
           },
           "bgcolor": "rgb(237,237,237)",
           "radialaxis": {
            "gridcolor": "white",
            "linecolor": "white",
            "showgrid": true,
            "tickcolor": "rgb(51,51,51)",
            "ticks": "outside"
           }
          },
          "scene": {
           "xaxis": {
            "backgroundcolor": "rgb(237,237,237)",
            "gridcolor": "white",
            "gridwidth": 2,
            "linecolor": "white",
            "showbackground": true,
            "showgrid": true,
            "tickcolor": "rgb(51,51,51)",
            "ticks": "outside",
            "zerolinecolor": "white"
           },
           "yaxis": {
            "backgroundcolor": "rgb(237,237,237)",
            "gridcolor": "white",
            "gridwidth": 2,
            "linecolor": "white",
            "showbackground": true,
            "showgrid": true,
            "tickcolor": "rgb(51,51,51)",
            "ticks": "outside",
            "zerolinecolor": "white"
           },
           "zaxis": {
            "backgroundcolor": "rgb(237,237,237)",
            "gridcolor": "white",
            "gridwidth": 2,
            "linecolor": "white",
            "showbackground": true,
            "showgrid": true,
            "tickcolor": "rgb(51,51,51)",
            "ticks": "outside",
            "zerolinecolor": "white"
           }
          },
          "shapedefaults": {
           "fillcolor": "black",
           "line": {
            "width": 0
           },
           "opacity": 0.3
          },
          "ternary": {
           "aaxis": {
            "gridcolor": "white",
            "linecolor": "white",
            "showgrid": true,
            "tickcolor": "rgb(51,51,51)",
            "ticks": "outside"
           },
           "baxis": {
            "gridcolor": "white",
            "linecolor": "white",
            "showgrid": true,
            "tickcolor": "rgb(51,51,51)",
            "ticks": "outside"
           },
           "bgcolor": "rgb(237,237,237)",
           "caxis": {
            "gridcolor": "white",
            "linecolor": "white",
            "showgrid": true,
            "tickcolor": "rgb(51,51,51)",
            "ticks": "outside"
           }
          },
          "xaxis": {
           "automargin": true,
           "gridcolor": "white",
           "linecolor": "white",
           "showgrid": true,
           "tickcolor": "rgb(51,51,51)",
           "ticks": "outside",
           "title": {
            "standoff": 15
           },
           "zerolinecolor": "white"
          },
          "yaxis": {
           "automargin": true,
           "gridcolor": "white",
           "linecolor": "white",
           "showgrid": true,
           "tickcolor": "rgb(51,51,51)",
           "ticks": "outside",
           "title": {
            "standoff": 15
           },
           "zerolinecolor": "white"
          }
         }
        },
        "title": {
         "text": "Benzene dimer: interaction energy in relation to distance (multiplier of equilibrium distance determined by CCSD(T) calculation). Model ANI-1ccx: MACE model trained on ANI-1ccx dataset (organic molecules CCSD(T) level). Model s66x8: MACE model trained on s66x8 dataset (organic dimer molecules CCSD(T) level). Model ANI-1ccx+s66x8: trained on both."
        },
        "xaxis": {
         "anchor": "y",
         "domain": [
          0,
          1
         ],
         "title": {
          "text": "Distance"
         }
        },
        "yaxis": {
         "anchor": "x",
         "domain": [
          0,
          1
         ],
         "title": {
          "text": "Interaction energy [eV]"
         }
        }
       }
      }
     },
     "metadata": {},
     "output_type": "display_data"
    }
   ],
   "source": [
    "plot.show()"
   ]
  },
  {
   "cell_type": "code",
   "execution_count": 110,
   "metadata": {},
   "outputs": [],
   "source": [
    "plot.write_html('/Users/dominicwelti/Library/CloudStorage/Dropbox/Master_Thesis/Graphs/benzeneDimer_Distance.html')"
   ]
  },
  {
   "cell_type": "code",
   "execution_count": 111,
   "metadata": {},
   "outputs": [],
   "source": [
    "# rename columns\n",
    "df.loc[df['Method']=='DF-KS_PBE-D3_BJ', 'Method']='DFT PBE-D3BJ'\n",
    "df.loc[df['Method']=='DF-KS_PBE', 'Method']='DFT PBE'\n",
    "df.loc[df['Method']=='DF-KS_LDA', 'Method']='DFT LDA'\n",
    "df.loc[df['Method']=='DF-PNO-LCCSD_T', 'Method']='LCCSD(T)'"
   ]
  },
  {
   "cell_type": "code",
   "execution_count": 112,
   "metadata": {},
   "outputs": [],
   "source": [
    "# add distinctive colours\n",
    "\n",
    "df['Colour']=''\n",
    "\n",
    "for i, name in enumerate(df['Method'].unique()):\n",
    "    if 'DFT PBE-D3BJ' in name:\n",
    "        df.loc[(df['Method']==name),['Colour']]='red'\n",
    "    elif 'LDA' in name:\n",
    "        df.loc[(df['Method']==name),['Colour']]='turquoise'\n",
    "    elif 'DFT PBE'==name:\n",
    "        df.loc[(df['Method']==name),['Colour']]='grey'\n",
    "    elif 'MACE ANI-1ccx'==name:\n",
    "        df.loc[(df['Method']==name),['Colour']]='green'\n",
    "    elif 'MACE ANI-1ccx+s66x8'==name:\n",
    "            df.loc[(df['Method']==name),['Colour']]='orange'\n",
    "    elif 'MACE s66x8'==name:\n",
    "            df.loc[(df['Method']==name),['Colour']]='purple'\n",
    "    elif 'LCCSD(T)' in name:\n",
    "            df.loc[(df['Method']==name),['Colour']]='blue'\n",
    "    elif 'LCCSD(T)' in name:\n",
    "            df.loc[(df['Method']==name),['Colour']]='black'"
   ]
  },
  {
   "cell_type": "code",
   "execution_count": 113,
   "metadata": {},
   "outputs": [],
   "source": [
    "# filter data and produce plot for use in thesis\n",
    "df_fp = df.query(\"Method != 'DF-KS_PBE-D4'\") # drop D4 data\n",
    "df_fp = df_fp.query('not `Method`.str.contains(\"MACE\")') "
   ]
  },
  {
   "cell_type": "code",
   "execution_count": 114,
   "metadata": {},
   "outputs": [
    {
     "data": {
      "text/plain": [
       "Series([], Name: Method, dtype: object)"
      ]
     },
     "execution_count": 114,
     "metadata": {},
     "output_type": "execute_result"
    }
   ],
   "source": [
    "df.loc[df['Method']=='DF-KS_PBE-D3_BJ', 'Method']"
   ]
  },
  {
   "cell_type": "code",
   "execution_count": 115,
   "metadata": {},
   "outputs": [
    {
     "data": {
      "application/vnd.plotly.v1+json": {
       "config": {
        "plotlyServerURL": "https://plotly.com"
       },
       "data": [
        {
         "hovertemplate": "Method=DFT PBE-D3BJ<br>Distance=%{x}<br>Interaction energy [eV]=%{y}<extra></extra>",
         "legendgroup": "DFT PBE-D3BJ",
         "line": {
          "color": "#F8766D",
          "dash": "solid"
         },
         "marker": {
          "symbol": "circle"
         },
         "mode": "lines+markers",
         "name": "DFT PBE-D3BJ",
         "orientation": "v",
         "showlegend": true,
         "type": "scatter",
         "x": [
          0.9,
          0.95,
          1,
          1.05,
          1.1,
          1.25,
          1.5,
          2
         ],
         "xaxis": "x",
         "y": [
          0.036312254188487714,
          -0.06532063505892438,
          -0.11115201244410855,
          -0.12525157472464343,
          -0.12298409738195915,
          -0.08329006027543073,
          -0.02931669732879527,
          -0.004079353874658409
         ],
         "yaxis": "y"
        },
        {
         "hovertemplate": "Method=DFT PBE<br>Distance=%{x}<br>Interaction energy [eV]=%{y}<extra></extra>",
         "legendgroup": "DFT PBE",
         "line": {
          "color": "#A3A500",
          "dash": "solid"
         },
         "marker": {
          "symbol": "circle"
         },
         "mode": "lines+markers",
         "name": "DFT PBE",
         "orientation": "v",
         "showlegend": true,
         "type": "scatter",
         "x": [
          0.9,
          0.95,
          1,
          1.05,
          1.1,
          1.25,
          1.5,
          2
         ],
         "xaxis": "x",
         "y": [
          0.2676486048321749,
          0.14162352907533204,
          0.07012661381031648,
          0.03150241025014111,
          0.011368851909537625,
          -0.004550546343125461,
          -0.000767053487834346,
          0.0013298610620040563
         ],
         "yaxis": "y"
        },
        {
         "hovertemplate": "Method=DFT LDA<br>Distance=%{x}<br>Interaction energy [eV]=%{y}<extra></extra>",
         "legendgroup": "DFT LDA",
         "line": {
          "color": "#00BF7D",
          "dash": "solid"
         },
         "marker": {
          "symbol": "circle"
         },
         "mode": "lines+markers",
         "name": "DFT LDA",
         "orientation": "v",
         "showlegend": true,
         "type": "scatter",
         "x": [
          0.9,
          0.95,
          1,
          1.05,
          1.1,
          1.25,
          1.5,
          2
         ],
         "xaxis": "x",
         "y": [
          -0.06938979848564486,
          -0.11196169754657603,
          -0.11846765044356289,
          -0.10683006266845041,
          -0.08894045103079407,
          -0.038278669271676335,
          -0.0032122576703841332,
          0.0016049232199293328
         ],
         "yaxis": "y"
        },
        {
         "hovertemplate": "Method=LCCSD(T)<br>Distance=%{x}<br>Interaction energy [eV]=%{y}<extra></extra>",
         "legendgroup": "LCCSD(T)",
         "line": {
          "color": "#00B0F6",
          "dash": "solid"
         },
         "marker": {
          "symbol": "circle"
         },
         "mode": "lines+markers",
         "name": "LCCSD(T)",
         "orientation": "v",
         "showlegend": true,
         "type": "scatter",
         "x": [
          0.9,
          0.95,
          1,
          1.05,
          1.1,
          1.25,
          1.5,
          2
         ],
         "xaxis": "x",
         "y": [
          -0.0022270758063314133,
          -0.08824966297743231,
          -0.12090103966056631,
          -0.12575961897437082,
          -0.11755621206339129,
          -0.07510530333911447,
          -0.02597697885812522,
          -0.004885468028987816
         ],
         "yaxis": "y"
        }
       ],
       "layout": {
        "font": {
         "family": "Serif",
         "size": 18
        },
        "height": 350,
        "legend": {
         "title": {
          "text": "Method"
         },
         "tracegroupgap": 0
        },
        "margin": {
         "t": 60
        },
        "template": {
         "data": {
          "bar": [
           {
            "error_x": {
             "color": "rgb(51,51,51)"
            },
            "error_y": {
             "color": "rgb(51,51,51)"
            },
            "marker": {
             "line": {
              "color": "rgb(237,237,237)",
              "width": 0.5
             },
             "pattern": {
              "fillmode": "overlay",
              "size": 10,
              "solidity": 0.2
             }
            },
            "type": "bar"
           }
          ],
          "barpolar": [
           {
            "marker": {
             "line": {
              "color": "rgb(237,237,237)",
              "width": 0.5
             },
             "pattern": {
              "fillmode": "overlay",
              "size": 10,
              "solidity": 0.2
             }
            },
            "type": "barpolar"
           }
          ],
          "carpet": [
           {
            "aaxis": {
             "endlinecolor": "rgb(51,51,51)",
             "gridcolor": "white",
             "linecolor": "white",
             "minorgridcolor": "white",
             "startlinecolor": "rgb(51,51,51)"
            },
            "baxis": {
             "endlinecolor": "rgb(51,51,51)",
             "gridcolor": "white",
             "linecolor": "white",
             "minorgridcolor": "white",
             "startlinecolor": "rgb(51,51,51)"
            },
            "type": "carpet"
           }
          ],
          "choropleth": [
           {
            "colorbar": {
             "outlinewidth": 0,
             "tickcolor": "rgb(237,237,237)",
             "ticklen": 6,
             "ticks": "inside"
            },
            "type": "choropleth"
           }
          ],
          "contour": [
           {
            "colorbar": {
             "outlinewidth": 0,
             "tickcolor": "rgb(237,237,237)",
             "ticklen": 6,
             "ticks": "inside"
            },
            "colorscale": [
             [
              0,
              "rgb(20,44,66)"
             ],
             [
              1,
              "rgb(90,179,244)"
             ]
            ],
            "type": "contour"
           }
          ],
          "contourcarpet": [
           {
            "colorbar": {
             "outlinewidth": 0,
             "tickcolor": "rgb(237,237,237)",
             "ticklen": 6,
             "ticks": "inside"
            },
            "type": "contourcarpet"
           }
          ],
          "heatmap": [
           {
            "colorbar": {
             "outlinewidth": 0,
             "tickcolor": "rgb(237,237,237)",
             "ticklen": 6,
             "ticks": "inside"
            },
            "colorscale": [
             [
              0,
              "rgb(20,44,66)"
             ],
             [
              1,
              "rgb(90,179,244)"
             ]
            ],
            "type": "heatmap"
           }
          ],
          "heatmapgl": [
           {
            "colorbar": {
             "outlinewidth": 0,
             "tickcolor": "rgb(237,237,237)",
             "ticklen": 6,
             "ticks": "inside"
            },
            "colorscale": [
             [
              0,
              "rgb(20,44,66)"
             ],
             [
              1,
              "rgb(90,179,244)"
             ]
            ],
            "type": "heatmapgl"
           }
          ],
          "histogram": [
           {
            "marker": {
             "pattern": {
              "fillmode": "overlay",
              "size": 10,
              "solidity": 0.2
             }
            },
            "type": "histogram"
           }
          ],
          "histogram2d": [
           {
            "colorbar": {
             "outlinewidth": 0,
             "tickcolor": "rgb(237,237,237)",
             "ticklen": 6,
             "ticks": "inside"
            },
            "colorscale": [
             [
              0,
              "rgb(20,44,66)"
             ],
             [
              1,
              "rgb(90,179,244)"
             ]
            ],
            "type": "histogram2d"
           }
          ],
          "histogram2dcontour": [
           {
            "colorbar": {
             "outlinewidth": 0,
             "tickcolor": "rgb(237,237,237)",
             "ticklen": 6,
             "ticks": "inside"
            },
            "colorscale": [
             [
              0,
              "rgb(20,44,66)"
             ],
             [
              1,
              "rgb(90,179,244)"
             ]
            ],
            "type": "histogram2dcontour"
           }
          ],
          "mesh3d": [
           {
            "colorbar": {
             "outlinewidth": 0,
             "tickcolor": "rgb(237,237,237)",
             "ticklen": 6,
             "ticks": "inside"
            },
            "type": "mesh3d"
           }
          ],
          "parcoords": [
           {
            "line": {
             "colorbar": {
              "outlinewidth": 0,
              "tickcolor": "rgb(237,237,237)",
              "ticklen": 6,
              "ticks": "inside"
             }
            },
            "type": "parcoords"
           }
          ],
          "pie": [
           {
            "automargin": true,
            "type": "pie"
           }
          ],
          "scatter": [
           {
            "fillpattern": {
             "fillmode": "overlay",
             "size": 10,
             "solidity": 0.2
            },
            "type": "scatter"
           }
          ],
          "scatter3d": [
           {
            "line": {
             "colorbar": {
              "outlinewidth": 0,
              "tickcolor": "rgb(237,237,237)",
              "ticklen": 6,
              "ticks": "inside"
             }
            },
            "marker": {
             "colorbar": {
              "outlinewidth": 0,
              "tickcolor": "rgb(237,237,237)",
              "ticklen": 6,
              "ticks": "inside"
             }
            },
            "type": "scatter3d"
           }
          ],
          "scattercarpet": [
           {
            "marker": {
             "colorbar": {
              "outlinewidth": 0,
              "tickcolor": "rgb(237,237,237)",
              "ticklen": 6,
              "ticks": "inside"
             }
            },
            "type": "scattercarpet"
           }
          ],
          "scattergeo": [
           {
            "marker": {
             "colorbar": {
              "outlinewidth": 0,
              "tickcolor": "rgb(237,237,237)",
              "ticklen": 6,
              "ticks": "inside"
             }
            },
            "type": "scattergeo"
           }
          ],
          "scattergl": [
           {
            "marker": {
             "colorbar": {
              "outlinewidth": 0,
              "tickcolor": "rgb(237,237,237)",
              "ticklen": 6,
              "ticks": "inside"
             }
            },
            "type": "scattergl"
           }
          ],
          "scattermapbox": [
           {
            "marker": {
             "colorbar": {
              "outlinewidth": 0,
              "tickcolor": "rgb(237,237,237)",
              "ticklen": 6,
              "ticks": "inside"
             }
            },
            "type": "scattermapbox"
           }
          ],
          "scatterpolar": [
           {
            "marker": {
             "colorbar": {
              "outlinewidth": 0,
              "tickcolor": "rgb(237,237,237)",
              "ticklen": 6,
              "ticks": "inside"
             }
            },
            "type": "scatterpolar"
           }
          ],
          "scatterpolargl": [
           {
            "marker": {
             "colorbar": {
              "outlinewidth": 0,
              "tickcolor": "rgb(237,237,237)",
              "ticklen": 6,
              "ticks": "inside"
             }
            },
            "type": "scatterpolargl"
           }
          ],
          "scatterternary": [
           {
            "marker": {
             "colorbar": {
              "outlinewidth": 0,
              "tickcolor": "rgb(237,237,237)",
              "ticklen": 6,
              "ticks": "inside"
             }
            },
            "type": "scatterternary"
           }
          ],
          "surface": [
           {
            "colorbar": {
             "outlinewidth": 0,
             "tickcolor": "rgb(237,237,237)",
             "ticklen": 6,
             "ticks": "inside"
            },
            "colorscale": [
             [
              0,
              "rgb(20,44,66)"
             ],
             [
              1,
              "rgb(90,179,244)"
             ]
            ],
            "type": "surface"
           }
          ],
          "table": [
           {
            "cells": {
             "fill": {
              "color": "rgb(237,237,237)"
             },
             "line": {
              "color": "white"
             }
            },
            "header": {
             "fill": {
              "color": "rgb(217,217,217)"
             },
             "line": {
              "color": "white"
             }
            },
            "type": "table"
           }
          ]
         },
         "layout": {
          "annotationdefaults": {
           "arrowhead": 0,
           "arrowwidth": 1
          },
          "autotypenumbers": "strict",
          "coloraxis": {
           "colorbar": {
            "outlinewidth": 0,
            "tickcolor": "rgb(237,237,237)",
            "ticklen": 6,
            "ticks": "inside"
           }
          },
          "colorscale": {
           "sequential": [
            [
             0,
             "rgb(20,44,66)"
            ],
            [
             1,
             "rgb(90,179,244)"
            ]
           ],
           "sequentialminus": [
            [
             0,
             "rgb(20,44,66)"
            ],
            [
             1,
             "rgb(90,179,244)"
            ]
           ]
          },
          "colorway": [
           "#F8766D",
           "#A3A500",
           "#00BF7D",
           "#00B0F6",
           "#E76BF3"
          ],
          "font": {
           "color": "rgb(51,51,51)"
          },
          "geo": {
           "bgcolor": "white",
           "lakecolor": "white",
           "landcolor": "rgb(237,237,237)",
           "showlakes": true,
           "showland": true,
           "subunitcolor": "white"
          },
          "hoverlabel": {
           "align": "left"
          },
          "hovermode": "closest",
          "paper_bgcolor": "white",
          "plot_bgcolor": "rgb(237,237,237)",
          "polar": {
           "angularaxis": {
            "gridcolor": "white",
            "linecolor": "white",
            "showgrid": true,
            "tickcolor": "rgb(51,51,51)",
            "ticks": "outside"
           },
           "bgcolor": "rgb(237,237,237)",
           "radialaxis": {
            "gridcolor": "white",
            "linecolor": "white",
            "showgrid": true,
            "tickcolor": "rgb(51,51,51)",
            "ticks": "outside"
           }
          },
          "scene": {
           "xaxis": {
            "backgroundcolor": "rgb(237,237,237)",
            "gridcolor": "white",
            "gridwidth": 2,
            "linecolor": "white",
            "showbackground": true,
            "showgrid": true,
            "tickcolor": "rgb(51,51,51)",
            "ticks": "outside",
            "zerolinecolor": "white"
           },
           "yaxis": {
            "backgroundcolor": "rgb(237,237,237)",
            "gridcolor": "white",
            "gridwidth": 2,
            "linecolor": "white",
            "showbackground": true,
            "showgrid": true,
            "tickcolor": "rgb(51,51,51)",
            "ticks": "outside",
            "zerolinecolor": "white"
           },
           "zaxis": {
            "backgroundcolor": "rgb(237,237,237)",
            "gridcolor": "white",
            "gridwidth": 2,
            "linecolor": "white",
            "showbackground": true,
            "showgrid": true,
            "tickcolor": "rgb(51,51,51)",
            "ticks": "outside",
            "zerolinecolor": "white"
           }
          },
          "shapedefaults": {
           "fillcolor": "black",
           "line": {
            "width": 0
           },
           "opacity": 0.3
          },
          "ternary": {
           "aaxis": {
            "gridcolor": "white",
            "linecolor": "white",
            "showgrid": true,
            "tickcolor": "rgb(51,51,51)",
            "ticks": "outside"
           },
           "baxis": {
            "gridcolor": "white",
            "linecolor": "white",
            "showgrid": true,
            "tickcolor": "rgb(51,51,51)",
            "ticks": "outside"
           },
           "bgcolor": "rgb(237,237,237)",
           "caxis": {
            "gridcolor": "white",
            "linecolor": "white",
            "showgrid": true,
            "tickcolor": "rgb(51,51,51)",
            "ticks": "outside"
           }
          },
          "xaxis": {
           "automargin": true,
           "gridcolor": "white",
           "linecolor": "white",
           "showgrid": true,
           "tickcolor": "rgb(51,51,51)",
           "ticks": "outside",
           "title": {
            "standoff": 15
           },
           "zerolinecolor": "white"
          },
          "yaxis": {
           "automargin": true,
           "gridcolor": "white",
           "linecolor": "white",
           "showgrid": true,
           "tickcolor": "rgb(51,51,51)",
           "ticks": "outside",
           "title": {
            "standoff": 15
           },
           "zerolinecolor": "white"
          }
         }
        },
        "width": 1000,
        "xaxis": {
         "anchor": "y",
         "domain": [
          0,
          1
         ],
         "range": [
          0.9,
          2
         ],
         "tick0": 0.9,
         "title": {
          "text": "Distance"
         }
        },
        "yaxis": {
         "anchor": "x",
         "domain": [
          0,
          1
         ],
         "range": [
          -0.2,
          0.3
         ],
         "title": {
          "text": "Interaction energy [eV]"
         }
        }
       }
      }
     },
     "metadata": {},
     "output_type": "display_data"
    }
   ],
   "source": [
    "plot=px.line(df_fp, x='Distance', y='Interaction energy [eV]', color='Method', markers=True, template='ggplot2')\n",
    "plot.update_layout(font_family=\"Serif\",font_size=18,\n",
    "                   xaxis=dict(\n",
    "                       tick0=0.9,\n",
    "                       range=[0.9,2]\n",
    "                   ),\n",
    "                   yaxis=dict(\n",
    "                       range=[-0.2,0.3]\n",
    "                   ),\n",
    "                   width=1000,\n",
    "                   height=350)"
   ]
  },
  {
   "cell_type": "code",
   "execution_count": 116,
   "metadata": {},
   "outputs": [],
   "source": [
    "plot.write_image('/Users/dominicwelti/Library/CloudStorage/Dropbox/Apps/Overleaf/Master Thesis - MLIP evaluation/graphs/results/benzeneDimer_ab_initio.pdf',format='pdf',scale=5)"
   ]
  },
  {
   "cell_type": "code",
   "execution_count": 117,
   "metadata": {},
   "outputs": [
    {
     "data": {
      "text/html": [
       "<div>\n",
       "<style scoped>\n",
       "    .dataframe tbody tr th:only-of-type {\n",
       "        vertical-align: middle;\n",
       "    }\n",
       "\n",
       "    .dataframe tbody tr th {\n",
       "        vertical-align: top;\n",
       "    }\n",
       "\n",
       "    .dataframe thead th {\n",
       "        text-align: right;\n",
       "    }\n",
       "</style>\n",
       "<table border=\"1\" class=\"dataframe\">\n",
       "  <thead>\n",
       "    <tr style=\"text-align: right;\">\n",
       "      <th></th>\n",
       "      <th>Calculation type</th>\n",
       "      <th>Method</th>\n",
       "      <th>Distance</th>\n",
       "      <th>Energy</th>\n",
       "      <th>Model</th>\n",
       "      <th>c Parameter</th>\n",
       "      <th>Interaction energy [eV]</th>\n",
       "      <th>Colour</th>\n",
       "    </tr>\n",
       "  </thead>\n",
       "  <tbody>\n",
       "    <tr>\n",
       "      <th>0</th>\n",
       "      <td>Ab initio</td>\n",
       "      <td>DFT PBE-D3BJ</td>\n",
       "      <td>0.9</td>\n",
       "      <td>-12627.129354</td>\n",
       "      <td>NaN</td>\n",
       "      <td>NaN</td>\n",
       "      <td>0.036312</td>\n",
       "      <td>red</td>\n",
       "    </tr>\n",
       "    <tr>\n",
       "      <th>1</th>\n",
       "      <td>Ab initio</td>\n",
       "      <td>DFT PBE</td>\n",
       "      <td>0.9</td>\n",
       "      <td>-12626.732479</td>\n",
       "      <td>NaN</td>\n",
       "      <td>NaN</td>\n",
       "      <td>0.267649</td>\n",
       "      <td>grey</td>\n",
       "    </tr>\n",
       "    <tr>\n",
       "      <th>2</th>\n",
       "      <td>Ab initio</td>\n",
       "      <td>DFT LDA</td>\n",
       "      <td>0.9</td>\n",
       "      <td>-12527.151069</td>\n",
       "      <td>NaN</td>\n",
       "      <td>NaN</td>\n",
       "      <td>-0.069390</td>\n",
       "      <td>turquoise</td>\n",
       "    </tr>\n",
       "    <tr>\n",
       "      <th>3</th>\n",
       "      <td>MACE</td>\n",
       "      <td>MACE ANI-1ccx+s66x8</td>\n",
       "      <td>0.9</td>\n",
       "      <td>-12616.290039</td>\n",
       "      <td>ANI-1ccx+s66x8</td>\n",
       "      <td>0.0</td>\n",
       "      <td>0.006836</td>\n",
       "      <td>orange</td>\n",
       "    </tr>\n",
       "    <tr>\n",
       "      <th>4</th>\n",
       "      <td>MACE</td>\n",
       "      <td>MACE s66x8</td>\n",
       "      <td>0.9</td>\n",
       "      <td>-12616.311523</td>\n",
       "      <td>s66x8</td>\n",
       "      <td>0.0</td>\n",
       "      <td>-0.007812</td>\n",
       "      <td>purple</td>\n",
       "    </tr>\n",
       "    <tr>\n",
       "      <th>...</th>\n",
       "      <td>...</td>\n",
       "      <td>...</td>\n",
       "      <td>...</td>\n",
       "      <td>...</td>\n",
       "      <td>...</td>\n",
       "      <td>...</td>\n",
       "      <td>...</td>\n",
       "      <td>...</td>\n",
       "    </tr>\n",
       "    <tr>\n",
       "      <th>59</th>\n",
       "      <td>MACE</td>\n",
       "      <td>MACE ANI-1ccx+s66x8</td>\n",
       "      <td>2.0</td>\n",
       "      <td>-12616.296875</td>\n",
       "      <td>ANI-1ccx+s66x8</td>\n",
       "      <td>0.0</td>\n",
       "      <td>0.000000</td>\n",
       "      <td>orange</td>\n",
       "    </tr>\n",
       "    <tr>\n",
       "      <th>60</th>\n",
       "      <td>MACE</td>\n",
       "      <td>MACE s66x8</td>\n",
       "      <td>2.0</td>\n",
       "      <td>-12616.303711</td>\n",
       "      <td>s66x8</td>\n",
       "      <td>0.0</td>\n",
       "      <td>0.000000</td>\n",
       "      <td>purple</td>\n",
       "    </tr>\n",
       "    <tr>\n",
       "      <th>61</th>\n",
       "      <td>Ab initio</td>\n",
       "      <td>DF-KS_PBE-D4</td>\n",
       "      <td>2.0</td>\n",
       "      <td>-12627.589096</td>\n",
       "      <td>NaN</td>\n",
       "      <td>NaN</td>\n",
       "      <td>-0.001668</td>\n",
       "      <td></td>\n",
       "    </tr>\n",
       "    <tr>\n",
       "      <th>62</th>\n",
       "      <td>Ab initio</td>\n",
       "      <td>DFT PBE</td>\n",
       "      <td>2.0</td>\n",
       "      <td>-12626.998798</td>\n",
       "      <td>NaN</td>\n",
       "      <td>NaN</td>\n",
       "      <td>0.001330</td>\n",
       "      <td>grey</td>\n",
       "    </tr>\n",
       "    <tr>\n",
       "      <th>63</th>\n",
       "      <td>MACE</td>\n",
       "      <td>MACE ANI-1ccx</td>\n",
       "      <td>2.0</td>\n",
       "      <td>-12622.648438</td>\n",
       "      <td>ANI-1ccx</td>\n",
       "      <td>0.0</td>\n",
       "      <td>0.000000</td>\n",
       "      <td>green</td>\n",
       "    </tr>\n",
       "  </tbody>\n",
       "</table>\n",
       "<p>64 rows × 8 columns</p>\n",
       "</div>"
      ],
      "text/plain": [
       "   Calculation type               Method  Distance        Energy  \\\n",
       "0         Ab initio         DFT PBE-D3BJ       0.9 -12627.129354   \n",
       "1         Ab initio              DFT PBE       0.9 -12626.732479   \n",
       "2         Ab initio              DFT LDA       0.9 -12527.151069   \n",
       "3              MACE  MACE ANI-1ccx+s66x8       0.9 -12616.290039   \n",
       "4              MACE           MACE s66x8       0.9 -12616.311523   \n",
       "..              ...                  ...       ...           ...   \n",
       "59             MACE  MACE ANI-1ccx+s66x8       2.0 -12616.296875   \n",
       "60             MACE           MACE s66x8       2.0 -12616.303711   \n",
       "61        Ab initio         DF-KS_PBE-D4       2.0 -12627.589096   \n",
       "62        Ab initio              DFT PBE       2.0 -12626.998798   \n",
       "63             MACE        MACE ANI-1ccx       2.0 -12622.648438   \n",
       "\n",
       "             Model  c Parameter  Interaction energy [eV]     Colour  \n",
       "0              NaN          NaN                 0.036312        red  \n",
       "1              NaN          NaN                 0.267649       grey  \n",
       "2              NaN          NaN                -0.069390  turquoise  \n",
       "3   ANI-1ccx+s66x8          0.0                 0.006836     orange  \n",
       "4            s66x8          0.0                -0.007812     purple  \n",
       "..             ...          ...                      ...        ...  \n",
       "59  ANI-1ccx+s66x8          0.0                 0.000000     orange  \n",
       "60           s66x8          0.0                 0.000000     purple  \n",
       "61             NaN          NaN                -0.001668             \n",
       "62             NaN          NaN                 0.001330       grey  \n",
       "63        ANI-1ccx          0.0                 0.000000      green  \n",
       "\n",
       "[64 rows x 8 columns]"
      ]
     },
     "execution_count": 117,
     "metadata": {},
     "output_type": "execute_result"
    }
   ],
   "source": [
    "df"
   ]
  },
  {
   "cell_type": "code",
   "execution_count": 118,
   "metadata": {},
   "outputs": [],
   "source": [
    "df_mace=df.query('`Method`.str.contains(\"MACE\") or `Method`.str.contains(\"CCSD\") or `Method`.str.contains(\"DFT PBE-D3BJ\")')"
   ]
  },
  {
   "cell_type": "code",
   "execution_count": 119,
   "metadata": {},
   "outputs": [
    {
     "data": {
      "application/vnd.plotly.v1+json": {
       "config": {
        "plotlyServerURL": "https://plotly.com"
       },
       "data": [
        {
         "hovertemplate": "Method=DFT PBE-D3BJ<br>Distance=%{x}<br>Interaction energy [eV]=%{y}<extra></extra>",
         "legendgroup": "DFT PBE-D3BJ",
         "line": {
          "color": "#F8766D",
          "dash": "solid"
         },
         "marker": {
          "symbol": "circle"
         },
         "mode": "lines+markers",
         "name": "DFT PBE-D3BJ",
         "orientation": "v",
         "showlegend": true,
         "type": "scatter",
         "x": [
          0.9,
          0.95,
          1,
          1.05,
          1.1,
          1.25,
          1.5,
          2
         ],
         "xaxis": "x",
         "y": [
          0.036312254188487714,
          -0.06532063505892438,
          -0.11115201244410855,
          -0.12525157472464343,
          -0.12298409738195915,
          -0.08329006027543073,
          -0.02931669732879527,
          -0.004079353874658409
         ],
         "yaxis": "y"
        },
        {
         "hovertemplate": "Method=MACE ANI-1ccx+s66x8<br>Distance=%{x}<br>Interaction energy [eV]=%{y}<extra></extra>",
         "legendgroup": "MACE ANI-1ccx+s66x8",
         "line": {
          "color": "#A3A500",
          "dash": "solid"
         },
         "marker": {
          "symbol": "circle"
         },
         "mode": "lines+markers",
         "name": "MACE ANI-1ccx+s66x8",
         "orientation": "v",
         "showlegend": true,
         "type": "scatter",
         "x": [
          0.9,
          0.95,
          1,
          1.05,
          1.1,
          1.25,
          1.5,
          2
         ],
         "xaxis": "x",
         "y": [
          0.0068359375,
          -0.083984375,
          -0.1142578125,
          -0.11328125,
          -0.1083984375,
          -0.0576171875,
          0,
          0
         ],
         "yaxis": "y"
        },
        {
         "hovertemplate": "Method=MACE s66x8<br>Distance=%{x}<br>Interaction energy [eV]=%{y}<extra></extra>",
         "legendgroup": "MACE s66x8",
         "line": {
          "color": "#00BF7D",
          "dash": "solid"
         },
         "marker": {
          "symbol": "circle"
         },
         "mode": "lines+markers",
         "name": "MACE s66x8",
         "orientation": "v",
         "showlegend": true,
         "type": "scatter",
         "x": [
          0.9,
          0.95,
          1,
          1.05,
          1.1,
          1.25,
          1.5,
          2
         ],
         "xaxis": "x",
         "y": [
          -0.0078125,
          -0.0830078125,
          -0.1123046875,
          -0.1162109375,
          -0.103515625,
          -0.025390625,
          0,
          0
         ],
         "yaxis": "y"
        },
        {
         "hovertemplate": "Method=MACE ANI-1ccx<br>Distance=%{x}<br>Interaction energy [eV]=%{y}<extra></extra>",
         "legendgroup": "MACE ANI-1ccx",
         "line": {
          "color": "#00B0F6",
          "dash": "solid"
         },
         "marker": {
          "symbol": "circle"
         },
         "mode": "lines+markers",
         "name": "MACE ANI-1ccx",
         "orientation": "v",
         "showlegend": true,
         "type": "scatter",
         "x": [
          0.9,
          0.95,
          1,
          1.05,
          1.1,
          1.25,
          1.5,
          2
         ],
         "xaxis": "x",
         "y": [
          -0.0478515625,
          -0.1572265625,
          -0.126953125,
          -0.05859375,
          -0.0078125,
          -0.0166015625,
          0,
          0
         ],
         "yaxis": "y"
        },
        {
         "hovertemplate": "Method=LCCSD(T)<br>Distance=%{x}<br>Interaction energy [eV]=%{y}<extra></extra>",
         "legendgroup": "LCCSD(T)",
         "line": {
          "color": "#E76BF3",
          "dash": "solid"
         },
         "marker": {
          "symbol": "circle"
         },
         "mode": "lines+markers",
         "name": "LCCSD(T)",
         "orientation": "v",
         "showlegend": true,
         "type": "scatter",
         "x": [
          0.9,
          0.95,
          1,
          1.05,
          1.1,
          1.25,
          1.5,
          2
         ],
         "xaxis": "x",
         "y": [
          -0.0022270758063314133,
          -0.08824966297743231,
          -0.12090103966056631,
          -0.12575961897437082,
          -0.11755621206339129,
          -0.07510530333911447,
          -0.02597697885812522,
          -0.004885468028987816
         ],
         "yaxis": "y"
        }
       ],
       "layout": {
        "font": {
         "family": "Serif",
         "size": 18
        },
        "height": 350,
        "legend": {
         "title": {
          "text": "Method"
         },
         "tracegroupgap": 0
        },
        "margin": {
         "t": 60
        },
        "template": {
         "data": {
          "bar": [
           {
            "error_x": {
             "color": "rgb(51,51,51)"
            },
            "error_y": {
             "color": "rgb(51,51,51)"
            },
            "marker": {
             "line": {
              "color": "rgb(237,237,237)",
              "width": 0.5
             },
             "pattern": {
              "fillmode": "overlay",
              "size": 10,
              "solidity": 0.2
             }
            },
            "type": "bar"
           }
          ],
          "barpolar": [
           {
            "marker": {
             "line": {
              "color": "rgb(237,237,237)",
              "width": 0.5
             },
             "pattern": {
              "fillmode": "overlay",
              "size": 10,
              "solidity": 0.2
             }
            },
            "type": "barpolar"
           }
          ],
          "carpet": [
           {
            "aaxis": {
             "endlinecolor": "rgb(51,51,51)",
             "gridcolor": "white",
             "linecolor": "white",
             "minorgridcolor": "white",
             "startlinecolor": "rgb(51,51,51)"
            },
            "baxis": {
             "endlinecolor": "rgb(51,51,51)",
             "gridcolor": "white",
             "linecolor": "white",
             "minorgridcolor": "white",
             "startlinecolor": "rgb(51,51,51)"
            },
            "type": "carpet"
           }
          ],
          "choropleth": [
           {
            "colorbar": {
             "outlinewidth": 0,
             "tickcolor": "rgb(237,237,237)",
             "ticklen": 6,
             "ticks": "inside"
            },
            "type": "choropleth"
           }
          ],
          "contour": [
           {
            "colorbar": {
             "outlinewidth": 0,
             "tickcolor": "rgb(237,237,237)",
             "ticklen": 6,
             "ticks": "inside"
            },
            "colorscale": [
             [
              0,
              "rgb(20,44,66)"
             ],
             [
              1,
              "rgb(90,179,244)"
             ]
            ],
            "type": "contour"
           }
          ],
          "contourcarpet": [
           {
            "colorbar": {
             "outlinewidth": 0,
             "tickcolor": "rgb(237,237,237)",
             "ticklen": 6,
             "ticks": "inside"
            },
            "type": "contourcarpet"
           }
          ],
          "heatmap": [
           {
            "colorbar": {
             "outlinewidth": 0,
             "tickcolor": "rgb(237,237,237)",
             "ticklen": 6,
             "ticks": "inside"
            },
            "colorscale": [
             [
              0,
              "rgb(20,44,66)"
             ],
             [
              1,
              "rgb(90,179,244)"
             ]
            ],
            "type": "heatmap"
           }
          ],
          "heatmapgl": [
           {
            "colorbar": {
             "outlinewidth": 0,
             "tickcolor": "rgb(237,237,237)",
             "ticklen": 6,
             "ticks": "inside"
            },
            "colorscale": [
             [
              0,
              "rgb(20,44,66)"
             ],
             [
              1,
              "rgb(90,179,244)"
             ]
            ],
            "type": "heatmapgl"
           }
          ],
          "histogram": [
           {
            "marker": {
             "pattern": {
              "fillmode": "overlay",
              "size": 10,
              "solidity": 0.2
             }
            },
            "type": "histogram"
           }
          ],
          "histogram2d": [
           {
            "colorbar": {
             "outlinewidth": 0,
             "tickcolor": "rgb(237,237,237)",
             "ticklen": 6,
             "ticks": "inside"
            },
            "colorscale": [
             [
              0,
              "rgb(20,44,66)"
             ],
             [
              1,
              "rgb(90,179,244)"
             ]
            ],
            "type": "histogram2d"
           }
          ],
          "histogram2dcontour": [
           {
            "colorbar": {
             "outlinewidth": 0,
             "tickcolor": "rgb(237,237,237)",
             "ticklen": 6,
             "ticks": "inside"
            },
            "colorscale": [
             [
              0,
              "rgb(20,44,66)"
             ],
             [
              1,
              "rgb(90,179,244)"
             ]
            ],
            "type": "histogram2dcontour"
           }
          ],
          "mesh3d": [
           {
            "colorbar": {
             "outlinewidth": 0,
             "tickcolor": "rgb(237,237,237)",
             "ticklen": 6,
             "ticks": "inside"
            },
            "type": "mesh3d"
           }
          ],
          "parcoords": [
           {
            "line": {
             "colorbar": {
              "outlinewidth": 0,
              "tickcolor": "rgb(237,237,237)",
              "ticklen": 6,
              "ticks": "inside"
             }
            },
            "type": "parcoords"
           }
          ],
          "pie": [
           {
            "automargin": true,
            "type": "pie"
           }
          ],
          "scatter": [
           {
            "fillpattern": {
             "fillmode": "overlay",
             "size": 10,
             "solidity": 0.2
            },
            "type": "scatter"
           }
          ],
          "scatter3d": [
           {
            "line": {
             "colorbar": {
              "outlinewidth": 0,
              "tickcolor": "rgb(237,237,237)",
              "ticklen": 6,
              "ticks": "inside"
             }
            },
            "marker": {
             "colorbar": {
              "outlinewidth": 0,
              "tickcolor": "rgb(237,237,237)",
              "ticklen": 6,
              "ticks": "inside"
             }
            },
            "type": "scatter3d"
           }
          ],
          "scattercarpet": [
           {
            "marker": {
             "colorbar": {
              "outlinewidth": 0,
              "tickcolor": "rgb(237,237,237)",
              "ticklen": 6,
              "ticks": "inside"
             }
            },
            "type": "scattercarpet"
           }
          ],
          "scattergeo": [
           {
            "marker": {
             "colorbar": {
              "outlinewidth": 0,
              "tickcolor": "rgb(237,237,237)",
              "ticklen": 6,
              "ticks": "inside"
             }
            },
            "type": "scattergeo"
           }
          ],
          "scattergl": [
           {
            "marker": {
             "colorbar": {
              "outlinewidth": 0,
              "tickcolor": "rgb(237,237,237)",
              "ticklen": 6,
              "ticks": "inside"
             }
            },
            "type": "scattergl"
           }
          ],
          "scattermapbox": [
           {
            "marker": {
             "colorbar": {
              "outlinewidth": 0,
              "tickcolor": "rgb(237,237,237)",
              "ticklen": 6,
              "ticks": "inside"
             }
            },
            "type": "scattermapbox"
           }
          ],
          "scatterpolar": [
           {
            "marker": {
             "colorbar": {
              "outlinewidth": 0,
              "tickcolor": "rgb(237,237,237)",
              "ticklen": 6,
              "ticks": "inside"
             }
            },
            "type": "scatterpolar"
           }
          ],
          "scatterpolargl": [
           {
            "marker": {
             "colorbar": {
              "outlinewidth": 0,
              "tickcolor": "rgb(237,237,237)",
              "ticklen": 6,
              "ticks": "inside"
             }
            },
            "type": "scatterpolargl"
           }
          ],
          "scatterternary": [
           {
            "marker": {
             "colorbar": {
              "outlinewidth": 0,
              "tickcolor": "rgb(237,237,237)",
              "ticklen": 6,
              "ticks": "inside"
             }
            },
            "type": "scatterternary"
           }
          ],
          "surface": [
           {
            "colorbar": {
             "outlinewidth": 0,
             "tickcolor": "rgb(237,237,237)",
             "ticklen": 6,
             "ticks": "inside"
            },
            "colorscale": [
             [
              0,
              "rgb(20,44,66)"
             ],
             [
              1,
              "rgb(90,179,244)"
             ]
            ],
            "type": "surface"
           }
          ],
          "table": [
           {
            "cells": {
             "fill": {
              "color": "rgb(237,237,237)"
             },
             "line": {
              "color": "white"
             }
            },
            "header": {
             "fill": {
              "color": "rgb(217,217,217)"
             },
             "line": {
              "color": "white"
             }
            },
            "type": "table"
           }
          ]
         },
         "layout": {
          "annotationdefaults": {
           "arrowhead": 0,
           "arrowwidth": 1
          },
          "autotypenumbers": "strict",
          "coloraxis": {
           "colorbar": {
            "outlinewidth": 0,
            "tickcolor": "rgb(237,237,237)",
            "ticklen": 6,
            "ticks": "inside"
           }
          },
          "colorscale": {
           "sequential": [
            [
             0,
             "rgb(20,44,66)"
            ],
            [
             1,
             "rgb(90,179,244)"
            ]
           ],
           "sequentialminus": [
            [
             0,
             "rgb(20,44,66)"
            ],
            [
             1,
             "rgb(90,179,244)"
            ]
           ]
          },
          "colorway": [
           "#F8766D",
           "#A3A500",
           "#00BF7D",
           "#00B0F6",
           "#E76BF3"
          ],
          "font": {
           "color": "rgb(51,51,51)"
          },
          "geo": {
           "bgcolor": "white",
           "lakecolor": "white",
           "landcolor": "rgb(237,237,237)",
           "showlakes": true,
           "showland": true,
           "subunitcolor": "white"
          },
          "hoverlabel": {
           "align": "left"
          },
          "hovermode": "closest",
          "paper_bgcolor": "white",
          "plot_bgcolor": "rgb(237,237,237)",
          "polar": {
           "angularaxis": {
            "gridcolor": "white",
            "linecolor": "white",
            "showgrid": true,
            "tickcolor": "rgb(51,51,51)",
            "ticks": "outside"
           },
           "bgcolor": "rgb(237,237,237)",
           "radialaxis": {
            "gridcolor": "white",
            "linecolor": "white",
            "showgrid": true,
            "tickcolor": "rgb(51,51,51)",
            "ticks": "outside"
           }
          },
          "scene": {
           "xaxis": {
            "backgroundcolor": "rgb(237,237,237)",
            "gridcolor": "white",
            "gridwidth": 2,
            "linecolor": "white",
            "showbackground": true,
            "showgrid": true,
            "tickcolor": "rgb(51,51,51)",
            "ticks": "outside",
            "zerolinecolor": "white"
           },
           "yaxis": {
            "backgroundcolor": "rgb(237,237,237)",
            "gridcolor": "white",
            "gridwidth": 2,
            "linecolor": "white",
            "showbackground": true,
            "showgrid": true,
            "tickcolor": "rgb(51,51,51)",
            "ticks": "outside",
            "zerolinecolor": "white"
           },
           "zaxis": {
            "backgroundcolor": "rgb(237,237,237)",
            "gridcolor": "white",
            "gridwidth": 2,
            "linecolor": "white",
            "showbackground": true,
            "showgrid": true,
            "tickcolor": "rgb(51,51,51)",
            "ticks": "outside",
            "zerolinecolor": "white"
           }
          },
          "shapedefaults": {
           "fillcolor": "black",
           "line": {
            "width": 0
           },
           "opacity": 0.3
          },
          "ternary": {
           "aaxis": {
            "gridcolor": "white",
            "linecolor": "white",
            "showgrid": true,
            "tickcolor": "rgb(51,51,51)",
            "ticks": "outside"
           },
           "baxis": {
            "gridcolor": "white",
            "linecolor": "white",
            "showgrid": true,
            "tickcolor": "rgb(51,51,51)",
            "ticks": "outside"
           },
           "bgcolor": "rgb(237,237,237)",
           "caxis": {
            "gridcolor": "white",
            "linecolor": "white",
            "showgrid": true,
            "tickcolor": "rgb(51,51,51)",
            "ticks": "outside"
           }
          },
          "xaxis": {
           "automargin": true,
           "gridcolor": "white",
           "linecolor": "white",
           "showgrid": true,
           "tickcolor": "rgb(51,51,51)",
           "ticks": "outside",
           "title": {
            "standoff": 15
           },
           "zerolinecolor": "white"
          },
          "yaxis": {
           "automargin": true,
           "gridcolor": "white",
           "linecolor": "white",
           "showgrid": true,
           "tickcolor": "rgb(51,51,51)",
           "ticks": "outside",
           "title": {
            "standoff": 15
           },
           "zerolinecolor": "white"
          }
         }
        },
        "width": 1000,
        "xaxis": {
         "anchor": "y",
         "domain": [
          0,
          1
         ],
         "range": [
          0.9,
          2
         ],
         "tick0": 0.9,
         "title": {
          "text": "Distance"
         }
        },
        "yaxis": {
         "anchor": "x",
         "domain": [
          0,
          1
         ],
         "range": [
          -0.2,
          0.3
         ],
         "title": {
          "text": "Interaction energy [eV]"
         }
        }
       }
      }
     },
     "metadata": {},
     "output_type": "display_data"
    }
   ],
   "source": [
    "plot=px.line(df_mace, x='Distance', y='Interaction energy [eV]', color='Method', markers=True, template='ggplot2')\n",
    "plot.update_layout(font_family=\"Serif\",font_size=18,\n",
    "                   xaxis=dict(\n",
    "                       tick0=0.9,\n",
    "                       range=[0.9,2]\n",
    "                   ),\n",
    "                   yaxis=dict(\n",
    "                       range=[-0.2,0.3]\n",
    "                   ),\n",
    "                   width=1000,\n",
    "                   height=350,\n",
    "                   )"
   ]
  },
  {
   "cell_type": "code",
   "execution_count": 120,
   "metadata": {},
   "outputs": [],
   "source": [
    "plot.write_image('/Users/dominicwelti/Library/CloudStorage/Dropbox/Apps/Overleaf/Master Thesis - MLIP evaluation/graphs/results/benzeneDimer_mace.pdf',format='pdf',scale=5)"
   ]
  },
  {
   "cell_type": "code",
   "execution_count": 137,
   "metadata": {},
   "outputs": [
    {
     "name": "stdout",
     "output_type": "stream",
     "text": [
      "1 DFT PBE-D3BJ\n",
      "1 DFT PBE\n",
      "1 DFT LDA\n",
      "1 LCCSD(T)\n",
      "2 DFT PBE-D3BJ\n",
      "2 MACE ANI-1ccx+s66x8\n",
      "2 MACE s66x8\n",
      "2 MACE ANI-1ccx\n",
      "2 LCCSD(T)\n"
     ]
    }
   ],
   "source": [
    "from plotly.subplots import make_subplots\n",
    "import plotly.graph_objects as go\n",
    "\n",
    "# combined plots \n",
    "fig_c=make_subplots(rows=2,cols=1,\n",
    "                    shared_xaxes=True,shared_yaxes=True,\n",
    "                    y_title='Interaction energy [eV]',\n",
    "                    subplot_titles=('(a)',  '(b)'))\n",
    "subs=[df_fp,df_mace]\n",
    "i=0\n",
    "\n",
    "for data in subs:\n",
    "    i+=1\n",
    "    for method in data['Method'].unique():\n",
    "        subset=data.query('Method==@method')\n",
    "        print(i,method)\n",
    "        fig_c.append_trace(go.Scatter(\n",
    "            x=subset['Distance'],\n",
    "            y=subset['Interaction energy [eV]'],\n",
    "            #color=subset('Method==@method')['Colour'][0],\n",
    "            name=method,\n",
    "            line={'color':subset['Colour'].unique()[0]},\n",
    "        ), row=i,col=1\n",
    "    )\n",
    "        \n",
    "\n",
    "fig_c.update_layout(#yaxis2={'title':'Relative energy'},\n",
    "                xaxis2={'title':'Equilibrium distance factor','range':[0.9,2]},\n",
    "                grid_yaxes=['y1'],\n",
    "                legend_title_text='Method',\n",
    "                font_family=\"Serif\",font_size=20,\n",
    "                template='ggplot2',\n",
    "                width=1000,\n",
    "                height=600) #,'position':0\n",
    "\n",
    "\n",
    "#remove duplicate labels\n",
    "names=set()\n",
    "fig_c.for_each_trace(\n",
    "    lambda trace:\n",
    "        trace.update(showlegend=False)\n",
    "        if (trace.name in names) else names.add(trace.name))\n",
    "\n",
    "for i,an in enumerate(fig_c.layout.annotations):\n",
    "    fig_c.layout.annotations[i][\"font\"] = {'size': 23,'family':\"Serif\"}\n",
    "#fig_c.layout.annotations[0][\"font\"] = {'size': 22}\n",
    "fig_c.layout.annotations[2][\"xshift\"] = -50"
   ]
  },
  {
   "cell_type": "code",
   "execution_count": 138,
   "metadata": {},
   "outputs": [
    {
     "data": {
      "application/vnd.plotly.v1+json": {
       "config": {
        "plotlyServerURL": "https://plotly.com"
       },
       "data": [
        {
         "line": {
          "color": "red"
         },
         "name": "DFT PBE-D3BJ",
         "type": "scatter",
         "x": [
          0.9,
          0.95,
          1,
          1.05,
          1.1,
          1.25,
          1.5,
          2
         ],
         "xaxis": "x",
         "y": [
          0.036312254188487714,
          -0.06532063505892438,
          -0.11115201244410855,
          -0.12525157472464343,
          -0.12298409738195915,
          -0.08329006027543073,
          -0.02931669732879527,
          -0.004079353874658409
         ],
         "yaxis": "y"
        },
        {
         "line": {
          "color": "grey"
         },
         "name": "DFT PBE",
         "type": "scatter",
         "x": [
          0.9,
          0.95,
          1,
          1.05,
          1.1,
          1.25,
          1.5,
          2
         ],
         "xaxis": "x",
         "y": [
          0.2676486048321749,
          0.14162352907533204,
          0.07012661381031648,
          0.03150241025014111,
          0.011368851909537625,
          -0.004550546343125461,
          -0.000767053487834346,
          0.0013298610620040563
         ],
         "yaxis": "y"
        },
        {
         "line": {
          "color": "turquoise"
         },
         "name": "DFT LDA",
         "type": "scatter",
         "x": [
          0.9,
          0.95,
          1,
          1.05,
          1.1,
          1.25,
          1.5,
          2
         ],
         "xaxis": "x",
         "y": [
          -0.06938979848564486,
          -0.11196169754657603,
          -0.11846765044356289,
          -0.10683006266845041,
          -0.08894045103079407,
          -0.038278669271676335,
          -0.0032122576703841332,
          0.0016049232199293328
         ],
         "yaxis": "y"
        },
        {
         "line": {
          "color": "blue"
         },
         "name": "LCCSD(T)",
         "type": "scatter",
         "x": [
          0.9,
          0.95,
          1,
          1.05,
          1.1,
          1.25,
          1.5,
          2
         ],
         "xaxis": "x",
         "y": [
          -0.0022270758063314133,
          -0.08824966297743231,
          -0.12090103966056631,
          -0.12575961897437082,
          -0.11755621206339129,
          -0.07510530333911447,
          -0.02597697885812522,
          -0.004885468028987816
         ],
         "yaxis": "y"
        },
        {
         "line": {
          "color": "red"
         },
         "name": "DFT PBE-D3BJ",
         "showlegend": false,
         "type": "scatter",
         "x": [
          0.9,
          0.95,
          1,
          1.05,
          1.1,
          1.25,
          1.5,
          2
         ],
         "xaxis": "x2",
         "y": [
          0.036312254188487714,
          -0.06532063505892438,
          -0.11115201244410855,
          -0.12525157472464343,
          -0.12298409738195915,
          -0.08329006027543073,
          -0.02931669732879527,
          -0.004079353874658409
         ],
         "yaxis": "y2"
        },
        {
         "line": {
          "color": "orange"
         },
         "name": "MACE ANI-1ccx+s66x8",
         "type": "scatter",
         "x": [
          0.9,
          0.95,
          1,
          1.05,
          1.1,
          1.25,
          1.5,
          2
         ],
         "xaxis": "x2",
         "y": [
          0.0068359375,
          -0.083984375,
          -0.1142578125,
          -0.11328125,
          -0.1083984375,
          -0.0576171875,
          0,
          0
         ],
         "yaxis": "y2"
        },
        {
         "line": {
          "color": "purple"
         },
         "name": "MACE s66x8",
         "type": "scatter",
         "x": [
          0.9,
          0.95,
          1,
          1.05,
          1.1,
          1.25,
          1.5,
          2
         ],
         "xaxis": "x2",
         "y": [
          -0.0078125,
          -0.0830078125,
          -0.1123046875,
          -0.1162109375,
          -0.103515625,
          -0.025390625,
          0,
          0
         ],
         "yaxis": "y2"
        },
        {
         "line": {
          "color": "green"
         },
         "name": "MACE ANI-1ccx",
         "type": "scatter",
         "x": [
          0.9,
          0.95,
          1,
          1.05,
          1.1,
          1.25,
          1.5,
          2
         ],
         "xaxis": "x2",
         "y": [
          -0.0478515625,
          -0.1572265625,
          -0.126953125,
          -0.05859375,
          -0.0078125,
          -0.0166015625,
          0,
          0
         ],
         "yaxis": "y2"
        },
        {
         "line": {
          "color": "blue"
         },
         "name": "LCCSD(T)",
         "showlegend": false,
         "type": "scatter",
         "x": [
          0.9,
          0.95,
          1,
          1.05,
          1.1,
          1.25,
          1.5,
          2
         ],
         "xaxis": "x2",
         "y": [
          -0.0022270758063314133,
          -0.08824966297743231,
          -0.12090103966056631,
          -0.12575961897437082,
          -0.11755621206339129,
          -0.07510530333911447,
          -0.02597697885812522,
          -0.004885468028987816
         ],
         "yaxis": "y2"
        }
       ],
       "layout": {
        "annotations": [
         {
          "font": {
           "family": "Serif",
           "size": 23
          },
          "showarrow": false,
          "text": "(a)",
          "x": 0.5,
          "xanchor": "center",
          "xref": "paper",
          "y": 1,
          "yanchor": "bottom",
          "yref": "paper"
         },
         {
          "font": {
           "family": "Serif",
           "size": 23
          },
          "showarrow": false,
          "text": "(b)",
          "x": 0.5,
          "xanchor": "center",
          "xref": "paper",
          "y": 0.375,
          "yanchor": "bottom",
          "yref": "paper"
         },
         {
          "font": {
           "family": "Serif",
           "size": 23
          },
          "showarrow": false,
          "text": "Interaction energy [eV]",
          "textangle": -90,
          "x": 0,
          "xanchor": "right",
          "xref": "paper",
          "xshift": -50,
          "y": 0.5,
          "yanchor": "middle",
          "yref": "paper"
         }
        ],
        "font": {
         "family": "Serif",
         "size": 20
        },
        "grid": {
         "yaxes": [
          "y"
         ]
        },
        "height": 600,
        "legend": {
         "title": {
          "text": "Method"
         }
        },
        "template": {
         "data": {
          "bar": [
           {
            "error_x": {
             "color": "rgb(51,51,51)"
            },
            "error_y": {
             "color": "rgb(51,51,51)"
            },
            "marker": {
             "line": {
              "color": "rgb(237,237,237)",
              "width": 0.5
             },
             "pattern": {
              "fillmode": "overlay",
              "size": 10,
              "solidity": 0.2
             }
            },
            "type": "bar"
           }
          ],
          "barpolar": [
           {
            "marker": {
             "line": {
              "color": "rgb(237,237,237)",
              "width": 0.5
             },
             "pattern": {
              "fillmode": "overlay",
              "size": 10,
              "solidity": 0.2
             }
            },
            "type": "barpolar"
           }
          ],
          "carpet": [
           {
            "aaxis": {
             "endlinecolor": "rgb(51,51,51)",
             "gridcolor": "white",
             "linecolor": "white",
             "minorgridcolor": "white",
             "startlinecolor": "rgb(51,51,51)"
            },
            "baxis": {
             "endlinecolor": "rgb(51,51,51)",
             "gridcolor": "white",
             "linecolor": "white",
             "minorgridcolor": "white",
             "startlinecolor": "rgb(51,51,51)"
            },
            "type": "carpet"
           }
          ],
          "choropleth": [
           {
            "colorbar": {
             "outlinewidth": 0,
             "tickcolor": "rgb(237,237,237)",
             "ticklen": 6,
             "ticks": "inside"
            },
            "type": "choropleth"
           }
          ],
          "contour": [
           {
            "colorbar": {
             "outlinewidth": 0,
             "tickcolor": "rgb(237,237,237)",
             "ticklen": 6,
             "ticks": "inside"
            },
            "colorscale": [
             [
              0,
              "rgb(20,44,66)"
             ],
             [
              1,
              "rgb(90,179,244)"
             ]
            ],
            "type": "contour"
           }
          ],
          "contourcarpet": [
           {
            "colorbar": {
             "outlinewidth": 0,
             "tickcolor": "rgb(237,237,237)",
             "ticklen": 6,
             "ticks": "inside"
            },
            "type": "contourcarpet"
           }
          ],
          "heatmap": [
           {
            "colorbar": {
             "outlinewidth": 0,
             "tickcolor": "rgb(237,237,237)",
             "ticklen": 6,
             "ticks": "inside"
            },
            "colorscale": [
             [
              0,
              "rgb(20,44,66)"
             ],
             [
              1,
              "rgb(90,179,244)"
             ]
            ],
            "type": "heatmap"
           }
          ],
          "heatmapgl": [
           {
            "colorbar": {
             "outlinewidth": 0,
             "tickcolor": "rgb(237,237,237)",
             "ticklen": 6,
             "ticks": "inside"
            },
            "colorscale": [
             [
              0,
              "rgb(20,44,66)"
             ],
             [
              1,
              "rgb(90,179,244)"
             ]
            ],
            "type": "heatmapgl"
           }
          ],
          "histogram": [
           {
            "marker": {
             "pattern": {
              "fillmode": "overlay",
              "size": 10,
              "solidity": 0.2
             }
            },
            "type": "histogram"
           }
          ],
          "histogram2d": [
           {
            "colorbar": {
             "outlinewidth": 0,
             "tickcolor": "rgb(237,237,237)",
             "ticklen": 6,
             "ticks": "inside"
            },
            "colorscale": [
             [
              0,
              "rgb(20,44,66)"
             ],
             [
              1,
              "rgb(90,179,244)"
             ]
            ],
            "type": "histogram2d"
           }
          ],
          "histogram2dcontour": [
           {
            "colorbar": {
             "outlinewidth": 0,
             "tickcolor": "rgb(237,237,237)",
             "ticklen": 6,
             "ticks": "inside"
            },
            "colorscale": [
             [
              0,
              "rgb(20,44,66)"
             ],
             [
              1,
              "rgb(90,179,244)"
             ]
            ],
            "type": "histogram2dcontour"
           }
          ],
          "mesh3d": [
           {
            "colorbar": {
             "outlinewidth": 0,
             "tickcolor": "rgb(237,237,237)",
             "ticklen": 6,
             "ticks": "inside"
            },
            "type": "mesh3d"
           }
          ],
          "parcoords": [
           {
            "line": {
             "colorbar": {
              "outlinewidth": 0,
              "tickcolor": "rgb(237,237,237)",
              "ticklen": 6,
              "ticks": "inside"
             }
            },
            "type": "parcoords"
           }
          ],
          "pie": [
           {
            "automargin": true,
            "type": "pie"
           }
          ],
          "scatter": [
           {
            "fillpattern": {
             "fillmode": "overlay",
             "size": 10,
             "solidity": 0.2
            },
            "type": "scatter"
           }
          ],
          "scatter3d": [
           {
            "line": {
             "colorbar": {
              "outlinewidth": 0,
              "tickcolor": "rgb(237,237,237)",
              "ticklen": 6,
              "ticks": "inside"
             }
            },
            "marker": {
             "colorbar": {
              "outlinewidth": 0,
              "tickcolor": "rgb(237,237,237)",
              "ticklen": 6,
              "ticks": "inside"
             }
            },
            "type": "scatter3d"
           }
          ],
          "scattercarpet": [
           {
            "marker": {
             "colorbar": {
              "outlinewidth": 0,
              "tickcolor": "rgb(237,237,237)",
              "ticklen": 6,
              "ticks": "inside"
             }
            },
            "type": "scattercarpet"
           }
          ],
          "scattergeo": [
           {
            "marker": {
             "colorbar": {
              "outlinewidth": 0,
              "tickcolor": "rgb(237,237,237)",
              "ticklen": 6,
              "ticks": "inside"
             }
            },
            "type": "scattergeo"
           }
          ],
          "scattergl": [
           {
            "marker": {
             "colorbar": {
              "outlinewidth": 0,
              "tickcolor": "rgb(237,237,237)",
              "ticklen": 6,
              "ticks": "inside"
             }
            },
            "type": "scattergl"
           }
          ],
          "scattermapbox": [
           {
            "marker": {
             "colorbar": {
              "outlinewidth": 0,
              "tickcolor": "rgb(237,237,237)",
              "ticklen": 6,
              "ticks": "inside"
             }
            },
            "type": "scattermapbox"
           }
          ],
          "scatterpolar": [
           {
            "marker": {
             "colorbar": {
              "outlinewidth": 0,
              "tickcolor": "rgb(237,237,237)",
              "ticklen": 6,
              "ticks": "inside"
             }
            },
            "type": "scatterpolar"
           }
          ],
          "scatterpolargl": [
           {
            "marker": {
             "colorbar": {
              "outlinewidth": 0,
              "tickcolor": "rgb(237,237,237)",
              "ticklen": 6,
              "ticks": "inside"
             }
            },
            "type": "scatterpolargl"
           }
          ],
          "scatterternary": [
           {
            "marker": {
             "colorbar": {
              "outlinewidth": 0,
              "tickcolor": "rgb(237,237,237)",
              "ticklen": 6,
              "ticks": "inside"
             }
            },
            "type": "scatterternary"
           }
          ],
          "surface": [
           {
            "colorbar": {
             "outlinewidth": 0,
             "tickcolor": "rgb(237,237,237)",
             "ticklen": 6,
             "ticks": "inside"
            },
            "colorscale": [
             [
              0,
              "rgb(20,44,66)"
             ],
             [
              1,
              "rgb(90,179,244)"
             ]
            ],
            "type": "surface"
           }
          ],
          "table": [
           {
            "cells": {
             "fill": {
              "color": "rgb(237,237,237)"
             },
             "line": {
              "color": "white"
             }
            },
            "header": {
             "fill": {
              "color": "rgb(217,217,217)"
             },
             "line": {
              "color": "white"
             }
            },
            "type": "table"
           }
          ]
         },
         "layout": {
          "annotationdefaults": {
           "arrowhead": 0,
           "arrowwidth": 1
          },
          "autotypenumbers": "strict",
          "coloraxis": {
           "colorbar": {
            "outlinewidth": 0,
            "tickcolor": "rgb(237,237,237)",
            "ticklen": 6,
            "ticks": "inside"
           }
          },
          "colorscale": {
           "sequential": [
            [
             0,
             "rgb(20,44,66)"
            ],
            [
             1,
             "rgb(90,179,244)"
            ]
           ],
           "sequentialminus": [
            [
             0,
             "rgb(20,44,66)"
            ],
            [
             1,
             "rgb(90,179,244)"
            ]
           ]
          },
          "colorway": [
           "#F8766D",
           "#A3A500",
           "#00BF7D",
           "#00B0F6",
           "#E76BF3"
          ],
          "font": {
           "color": "rgb(51,51,51)"
          },
          "geo": {
           "bgcolor": "white",
           "lakecolor": "white",
           "landcolor": "rgb(237,237,237)",
           "showlakes": true,
           "showland": true,
           "subunitcolor": "white"
          },
          "hoverlabel": {
           "align": "left"
          },
          "hovermode": "closest",
          "paper_bgcolor": "white",
          "plot_bgcolor": "rgb(237,237,237)",
          "polar": {
           "angularaxis": {
            "gridcolor": "white",
            "linecolor": "white",
            "showgrid": true,
            "tickcolor": "rgb(51,51,51)",
            "ticks": "outside"
           },
           "bgcolor": "rgb(237,237,237)",
           "radialaxis": {
            "gridcolor": "white",
            "linecolor": "white",
            "showgrid": true,
            "tickcolor": "rgb(51,51,51)",
            "ticks": "outside"
           }
          },
          "scene": {
           "xaxis": {
            "backgroundcolor": "rgb(237,237,237)",
            "gridcolor": "white",
            "gridwidth": 2,
            "linecolor": "white",
            "showbackground": true,
            "showgrid": true,
            "tickcolor": "rgb(51,51,51)",
            "ticks": "outside",
            "zerolinecolor": "white"
           },
           "yaxis": {
            "backgroundcolor": "rgb(237,237,237)",
            "gridcolor": "white",
            "gridwidth": 2,
            "linecolor": "white",
            "showbackground": true,
            "showgrid": true,
            "tickcolor": "rgb(51,51,51)",
            "ticks": "outside",
            "zerolinecolor": "white"
           },
           "zaxis": {
            "backgroundcolor": "rgb(237,237,237)",
            "gridcolor": "white",
            "gridwidth": 2,
            "linecolor": "white",
            "showbackground": true,
            "showgrid": true,
            "tickcolor": "rgb(51,51,51)",
            "ticks": "outside",
            "zerolinecolor": "white"
           }
          },
          "shapedefaults": {
           "fillcolor": "black",
           "line": {
            "width": 0
           },
           "opacity": 0.3
          },
          "ternary": {
           "aaxis": {
            "gridcolor": "white",
            "linecolor": "white",
            "showgrid": true,
            "tickcolor": "rgb(51,51,51)",
            "ticks": "outside"
           },
           "baxis": {
            "gridcolor": "white",
            "linecolor": "white",
            "showgrid": true,
            "tickcolor": "rgb(51,51,51)",
            "ticks": "outside"
           },
           "bgcolor": "rgb(237,237,237)",
           "caxis": {
            "gridcolor": "white",
            "linecolor": "white",
            "showgrid": true,
            "tickcolor": "rgb(51,51,51)",
            "ticks": "outside"
           }
          },
          "xaxis": {
           "automargin": true,
           "gridcolor": "white",
           "linecolor": "white",
           "showgrid": true,
           "tickcolor": "rgb(51,51,51)",
           "ticks": "outside",
           "title": {
            "standoff": 15
           },
           "zerolinecolor": "white"
          },
          "yaxis": {
           "automargin": true,
           "gridcolor": "white",
           "linecolor": "white",
           "showgrid": true,
           "tickcolor": "rgb(51,51,51)",
           "ticks": "outside",
           "title": {
            "standoff": 15
           },
           "zerolinecolor": "white"
          }
         }
        },
        "width": 1000,
        "xaxis": {
         "anchor": "y",
         "domain": [
          0,
          1
         ],
         "matches": "x2",
         "showticklabels": false
        },
        "xaxis2": {
         "anchor": "y2",
         "domain": [
          0,
          1
         ],
         "range": [
          0.9,
          2
         ],
         "title": {
          "text": "Equilibrium distance factor"
         }
        },
        "yaxis": {
         "anchor": "x",
         "domain": [
          0.625,
          1
         ]
        },
        "yaxis2": {
         "anchor": "x2",
         "domain": [
          0,
          0.375
         ]
        }
       }
      }
     },
     "metadata": {},
     "output_type": "display_data"
    }
   ],
   "source": [
    "fig_c.show()"
   ]
  },
  {
   "cell_type": "code",
   "execution_count": 139,
   "metadata": {},
   "outputs": [],
   "source": [
    "fig_c.write_image('/Users/dominicwelti/Library/CloudStorage/Dropbox/Apps/Overleaf/Master Thesis - MLIP evaluation/graphs/results/benzeneDimer_comb.pdf',format='pdf',scale=5)"
   ]
  }
 ],
 "metadata": {
  "kernelspec": {
   "display_name": "base",
   "language": "python",
   "name": "python3"
  },
  "language_info": {
   "codemirror_mode": {
    "name": "ipython",
    "version": 3
   },
   "file_extension": ".py",
   "mimetype": "text/x-python",
   "name": "python",
   "nbconvert_exporter": "python",
   "pygments_lexer": "ipython3",
   "version": "3.12.5"
  }
 },
 "nbformat": 4,
 "nbformat_minor": 2
}
