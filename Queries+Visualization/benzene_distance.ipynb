{
 "cells": [
  {
   "cell_type": "code",
   "execution_count": 1,
   "metadata": {},
   "outputs": [],
   "source": [
    "import pandas as pd\n",
    "import numpy as np\n",
    "import plotly.express as px\n",
    "import os\n",
    "from ase.io import read"
   ]
  },
  {
   "cell_type": "code",
   "execution_count": 2,
   "metadata": {},
   "outputs": [],
   "source": [
    "# ended up not using\n",
    "\n",
    "def getEnergy(outPath:str):\n",
    "    '''Get calculated energy from molpro.out'''\n",
    "    with open(outPath, \"r\") as file: \n",
    "        for line in file:\n",
    "            if 'DF-KS/aug-cc-pVTZ energy=' in line:\n",
    "                return float(line.split('   ')[1])"
   ]
  },
  {
   "cell_type": "code",
   "execution_count": 3,
   "metadata": {},
   "outputs": [
    {
     "data": {
      "text/plain": [
       "-460.364314311695"
      ]
     },
     "execution_count": 3,
     "metadata": {},
     "output_type": "execute_result"
    }
   ],
   "source": [
    "# test\n",
    "getEnergy('/Users/dominicwelti/Documents/Master_Thesis_Data_Set/Benzene/DF-KS_LDA/aug-cc-pVTZ/Benzene-Benzene_pi-pi_0.90/molpro.out')"
   ]
  },
  {
   "cell_type": "code",
   "execution_count": 4,
   "metadata": {},
   "outputs": [],
   "source": [
    "molpro_folder='/Users/dominicwelti/Documents/Master_Thesis_Data_Set/Benzene'\n",
    "\n",
    "files=[]\n",
    "for (dirpath, dirnames, filenames) in os.walk(molpro_folder):\n",
    "    for filename in filenames:\n",
    "        files.append(f'{dirpath}/{filename}')\n",
    "\n",
    "files=list(filter(lambda x:'ase.xyz' in x, files))\n",
    "\n",
    "data_molpro=pd.DataFrame({\n",
    "    'Calculation type': 'Ab initio',\n",
    "    'Method': '',\n",
    "    'Distance': [0]*len(files),\n",
    "    'Energy': 0\n",
    "})"
   ]
  },
  {
   "cell_type": "code",
   "execution_count": 5,
   "metadata": {},
   "outputs": [
    {
     "name": "stderr",
     "output_type": "stream",
     "text": [
      "/var/folders/22/kgbcd6856bb9_kzpfp_36k600000gn/T/ipykernel_57142/1374398513.py:3: FutureWarning: Setting an item of incompatible dtype is deprecated and will raise an error in a future version of pandas. Value '0.90' has dtype incompatible with int64, please explicitly cast to a compatible dtype first.\n",
      "  data_molpro.loc[i, 'Distance'] = files[i].split('/')[-2].split('_')[-1]\n",
      "/var/folders/22/kgbcd6856bb9_kzpfp_36k600000gn/T/ipykernel_57142/1374398513.py:6: FutureWarning: Setting an item of incompatible dtype is deprecated and will raise an error in a future version of pandas. Value '-12627.129353934697' has dtype incompatible with int64, please explicitly cast to a compatible dtype first.\n",
      "  data_molpro.loc[i, 'Energy'] = atoms.get_total_energy()\n"
     ]
    }
   ],
   "source": [
    "for i, row in data_molpro.iterrows():\n",
    "    data_molpro.loc[i, 'Method'] = files[i].split('/')[-4]\n",
    "    data_molpro.loc[i, 'Distance'] = files[i].split('/')[-2].split('_')[-1]\n",
    "\n",
    "    atoms=read(files[i],format='extxyz')\n",
    "    data_molpro.loc[i, 'Energy'] = atoms.get_total_energy()"
   ]
  },
  {
   "cell_type": "code",
   "execution_count": 19,
   "metadata": {},
   "outputs": [],
   "source": [
    "data_mace=pd.read_pickle('/Users/dominicwelti/Documents/Master_Thesis_Data_Set/Benzene/MACE/results.pkl')\n",
    "data_mace['Method']='MACE'+'-'+data_mace['Model']\n",
    "\n",
    "df=pd.concat([data_molpro,data_mace], ignore_index=True)"
   ]
  },
  {
   "cell_type": "code",
   "execution_count": 20,
   "metadata": {},
   "outputs": [
    {
     "name": "stderr",
     "output_type": "stream",
     "text": [
      "/var/folders/22/kgbcd6856bb9_kzpfp_36k600000gn/T/ipykernel_57142/4006019392.py:6: FutureWarning:\n",
      "\n",
      "Calling float on a single element Series is deprecated and will raise a TypeError in the future. Use float(ser.iloc[0]) instead\n",
      "\n",
      "/var/folders/22/kgbcd6856bb9_kzpfp_36k600000gn/T/ipykernel_57142/4006019392.py:6: FutureWarning:\n",
      "\n",
      "Setting an item of incompatible dtype is deprecated and will raise an error in a future version of pandas. Value '[ 3.63122542e-02 -1.11152012e-01  6.31358283e+03 -8.32900603e-02\n",
      " -6.53206351e-02 -2.93166973e-02 -1.25251575e-01 -4.07935387e-03\n",
      "  6.31358284e+03 -1.22984097e-01]' has dtype incompatible with int64, please explicitly cast to a compatible dtype first.\n",
      "\n",
      "/var/folders/22/kgbcd6856bb9_kzpfp_36k600000gn/T/ipykernel_57142/4006019392.py:6: FutureWarning:\n",
      "\n",
      "Calling float on a single element Series is deprecated and will raise a TypeError in the future. Use float(ser.iloc[0]) instead\n",
      "\n",
      "/var/folders/22/kgbcd6856bb9_kzpfp_36k600000gn/T/ipykernel_57142/4006019392.py:6: FutureWarning:\n",
      "\n",
      "Calling float on a single element Series is deprecated and will raise a TypeError in the future. Use float(ser.iloc[0]) instead\n",
      "\n",
      "/var/folders/22/kgbcd6856bb9_kzpfp_36k600000gn/T/ipykernel_57142/4006019392.py:6: FutureWarning:\n",
      "\n",
      "Calling float on a single element Series is deprecated and will raise a TypeError in the future. Use float(ser.iloc[0]) instead\n",
      "\n",
      "/var/folders/22/kgbcd6856bb9_kzpfp_36k600000gn/T/ipykernel_57142/4006019392.py:6: FutureWarning:\n",
      "\n",
      "Calling float on a single element Series is deprecated and will raise a TypeError in the future. Use float(ser.iloc[0]) instead\n",
      "\n",
      "/var/folders/22/kgbcd6856bb9_kzpfp_36k600000gn/T/ipykernel_57142/4006019392.py:6: FutureWarning:\n",
      "\n",
      "Calling float on a single element Series is deprecated and will raise a TypeError in the future. Use float(ser.iloc[0]) instead\n",
      "\n",
      "/var/folders/22/kgbcd6856bb9_kzpfp_36k600000gn/T/ipykernel_57142/4006019392.py:6: FutureWarning:\n",
      "\n",
      "Calling float on a single element Series is deprecated and will raise a TypeError in the future. Use float(ser.iloc[0]) instead\n",
      "\n",
      "/var/folders/22/kgbcd6856bb9_kzpfp_36k600000gn/T/ipykernel_57142/4006019392.py:6: FutureWarning:\n",
      "\n",
      "Calling float on a single element Series is deprecated and will raise a TypeError in the future. Use float(ser.iloc[0]) instead\n",
      "\n"
     ]
    }
   ],
   "source": [
    "# calculate interaction energy (total energy minus monomers)\n",
    "df['Interaction energy [eV]']=0\n",
    "\n",
    "for method in df['Method'].unique():\n",
    "    subset=df.query(f'Method == \"{method}\"')\n",
    "    df.loc[df['Method']==method, 'Interaction energy [eV]'] = subset['Energy'] - float(subset.loc[subset['Distance']=='1', 'Energy']) - float(subset.loc[subset['Distance']=='2', 'Energy'])"
   ]
  },
  {
   "cell_type": "code",
   "execution_count": 21,
   "metadata": {},
   "outputs": [],
   "source": [
    "df=df[df['Distance'].str.len()>=2] # drop full integer values (Distance 2 & 1 represent individual benzene and not dimer)\n",
    "df['Distance']=df['Distance'].astype(float)\n",
    "df=df.sort_values('Distance').reset_index(drop=True)"
   ]
  },
  {
   "cell_type": "code",
   "execution_count": 24,
   "metadata": {},
   "outputs": [],
   "source": [
    "plot=px.line(df, x='Distance', y='Interaction energy [eV]', color='Method', markers=True, template='ggplot2')"
   ]
  },
  {
   "cell_type": "code",
   "execution_count": 25,
   "metadata": {},
   "outputs": [
    {
     "data": {
      "application/vnd.plotly.v1+json": {
       "config": {
        "plotlyServerURL": "https://plot.ly"
       },
       "data": [
        {
         "hovertemplate": "Method=DF-KS_PBE-D3_BJ<br>Distance=%{x}<br>Interaction energy [eV]=%{y}<extra></extra>",
         "legendgroup": "DF-KS_PBE-D3_BJ",
         "line": {
          "color": "#F8766D",
          "dash": "solid"
         },
         "marker": {
          "symbol": "circle"
         },
         "mode": "lines+markers",
         "name": "DF-KS_PBE-D3_BJ",
         "orientation": "v",
         "showlegend": true,
         "type": "scatter",
         "x": [
          0.9,
          0.95,
          1,
          1.05,
          1.1,
          1.25,
          1.5,
          2
         ],
         "xaxis": "x",
         "y": [
          0.036312254188487714,
          -0.06532063505892438,
          -0.11115201244410855,
          -0.12525157472464343,
          -0.12298409738195915,
          -0.08329006027543073,
          -0.02931669732879527,
          -0.004079353874658409
         ],
         "yaxis": "y"
        },
        {
         "hovertemplate": "Method=DF-KS_PBE<br>Distance=%{x}<br>Interaction energy [eV]=%{y}<extra></extra>",
         "legendgroup": "DF-KS_PBE",
         "line": {
          "color": "#A3A500",
          "dash": "solid"
         },
         "marker": {
          "symbol": "circle"
         },
         "mode": "lines+markers",
         "name": "DF-KS_PBE",
         "orientation": "v",
         "showlegend": true,
         "type": "scatter",
         "x": [
          0.9,
          0.95,
          1,
          1.05,
          1.1,
          1.25,
          1.5,
          2
         ],
         "xaxis": "x",
         "y": [
          0.2676486048321749,
          0.14162352907533204,
          0.07012661381031648,
          0.03150241025014111,
          0.011368851909537625,
          -0.004550546343125461,
          -0.000767053487834346,
          0.0013298610620040563
         ],
         "yaxis": "y"
        },
        {
         "hovertemplate": "Method=DF-KS_LDA<br>Distance=%{x}<br>Interaction energy [eV]=%{y}<extra></extra>",
         "legendgroup": "DF-KS_LDA",
         "line": {
          "color": "#00BF7D",
          "dash": "solid"
         },
         "marker": {
          "symbol": "circle"
         },
         "mode": "lines+markers",
         "name": "DF-KS_LDA",
         "orientation": "v",
         "showlegend": true,
         "type": "scatter",
         "x": [
          0.9,
          0.95,
          1,
          1.05,
          1.1,
          1.25,
          1.5,
          2
         ],
         "xaxis": "x",
         "y": [
          -0.06938979848564486,
          -0.11196169754657603,
          -0.11846765044356289,
          -0.10683006266845041,
          -0.08894045103079407,
          -0.038278669271676335,
          -0.0032122576703841332,
          0.0016049232199293328
         ],
         "yaxis": "y"
        },
        {
         "hovertemplate": "Method=MACE-ANI-1ccx+s66x8<br>Distance=%{x}<br>Interaction energy [eV]=%{y}<extra></extra>",
         "legendgroup": "MACE-ANI-1ccx+s66x8",
         "line": {
          "color": "#00B0F6",
          "dash": "solid"
         },
         "marker": {
          "symbol": "circle"
         },
         "mode": "lines+markers",
         "name": "MACE-ANI-1ccx+s66x8",
         "orientation": "v",
         "showlegend": true,
         "type": "scatter",
         "x": [
          0.9,
          0.95,
          1,
          1.05,
          1.1,
          1.25,
          1.5,
          2
         ],
         "xaxis": "x",
         "y": [
          0.0068359375,
          -0.083984375,
          -0.1142578125,
          -0.11328125,
          -0.1083984375,
          -0.0576171875,
          0,
          0
         ],
         "yaxis": "y"
        },
        {
         "hovertemplate": "Method=MACE-s66x8<br>Distance=%{x}<br>Interaction energy [eV]=%{y}<extra></extra>",
         "legendgroup": "MACE-s66x8",
         "line": {
          "color": "#E76BF3",
          "dash": "solid"
         },
         "marker": {
          "symbol": "circle"
         },
         "mode": "lines+markers",
         "name": "MACE-s66x8",
         "orientation": "v",
         "showlegend": true,
         "type": "scatter",
         "x": [
          0.9,
          0.95,
          1,
          1.05,
          1.1,
          1.25,
          1.5,
          2
         ],
         "xaxis": "x",
         "y": [
          -0.0078125,
          -0.0830078125,
          -0.1123046875,
          -0.1162109375,
          -0.103515625,
          -0.025390625,
          0,
          0
         ],
         "yaxis": "y"
        },
        {
         "hovertemplate": "Method=MACE-ANI-1ccx<br>Distance=%{x}<br>Interaction energy [eV]=%{y}<extra></extra>",
         "legendgroup": "MACE-ANI-1ccx",
         "line": {
          "color": "#F8766D",
          "dash": "solid"
         },
         "marker": {
          "symbol": "circle"
         },
         "mode": "lines+markers",
         "name": "MACE-ANI-1ccx",
         "orientation": "v",
         "showlegend": true,
         "type": "scatter",
         "x": [
          0.9,
          0.95,
          1,
          1.05,
          1.1,
          1.25,
          1.5,
          2
         ],
         "xaxis": "x",
         "y": [
          -0.0478515625,
          -0.1572265625,
          -0.126953125,
          -0.05859375,
          -0.0078125,
          -0.0166015625,
          0,
          0
         ],
         "yaxis": "y"
        },
        {
         "hovertemplate": "Method=DF-PNO-LCCSD_T<br>Distance=%{x}<br>Interaction energy [eV]=%{y}<extra></extra>",
         "legendgroup": "DF-PNO-LCCSD_T",
         "line": {
          "color": "#A3A500",
          "dash": "solid"
         },
         "marker": {
          "symbol": "circle"
         },
         "mode": "lines+markers",
         "name": "DF-PNO-LCCSD_T",
         "orientation": "v",
         "showlegend": true,
         "type": "scatter",
         "x": [
          0.9,
          0.95,
          1,
          1.05,
          1.1,
          1.25,
          1.5,
          2
         ],
         "xaxis": "x",
         "y": [
          -0.0022270758063314133,
          -0.08824966297743231,
          -0.12090103966056631,
          -0.12575961897437082,
          -0.11755621206339129,
          -0.07510530333911447,
          -0.02597697885812522,
          -0.004885468028987816
         ],
         "yaxis": "y"
        },
        {
         "hovertemplate": "Method=DF-KS_PBE-D4<br>Distance=%{x}<br>Interaction energy [eV]=%{y}<extra></extra>",
         "legendgroup": "DF-KS_PBE-D4",
         "line": {
          "color": "#00BF7D",
          "dash": "solid"
         },
         "marker": {
          "symbol": "circle"
         },
         "mode": "lines+markers",
         "name": "DF-KS_PBE-D4",
         "orientation": "v",
         "showlegend": true,
         "type": "scatter",
         "x": [
          0.9,
          0.95,
          1,
          1.05,
          1.1,
          1.25,
          1.5,
          2
         ],
         "xaxis": "x",
         "y": [
          -0.014613414663472213,
          -0.10087828287032607,
          -0.13548237427676213,
          -0.14081047040963313,
          -0.13172357009534608,
          -0.08195993550725689,
          -0.026165722663790802,
          -0.0016677303920005215
         ],
         "yaxis": "y"
        }
       ],
       "layout": {
        "legend": {
         "title": {
          "text": "Method"
         },
         "tracegroupgap": 0
        },
        "margin": {
         "t": 60
        },
        "template": {
         "data": {
          "bar": [
           {
            "error_x": {
             "color": "rgb(51,51,51)"
            },
            "error_y": {
             "color": "rgb(51,51,51)"
            },
            "marker": {
             "line": {
              "color": "rgb(237,237,237)",
              "width": 0.5
             },
             "pattern": {
              "fillmode": "overlay",
              "size": 10,
              "solidity": 0.2
             }
            },
            "type": "bar"
           }
          ],
          "barpolar": [
           {
            "marker": {
             "line": {
              "color": "rgb(237,237,237)",
              "width": 0.5
             },
             "pattern": {
              "fillmode": "overlay",
              "size": 10,
              "solidity": 0.2
             }
            },
            "type": "barpolar"
           }
          ],
          "carpet": [
           {
            "aaxis": {
             "endlinecolor": "rgb(51,51,51)",
             "gridcolor": "white",
             "linecolor": "white",
             "minorgridcolor": "white",
             "startlinecolor": "rgb(51,51,51)"
            },
            "baxis": {
             "endlinecolor": "rgb(51,51,51)",
             "gridcolor": "white",
             "linecolor": "white",
             "minorgridcolor": "white",
             "startlinecolor": "rgb(51,51,51)"
            },
            "type": "carpet"
           }
          ],
          "choropleth": [
           {
            "colorbar": {
             "outlinewidth": 0,
             "tickcolor": "rgb(237,237,237)",
             "ticklen": 6,
             "ticks": "inside"
            },
            "type": "choropleth"
           }
          ],
          "contour": [
           {
            "colorbar": {
             "outlinewidth": 0,
             "tickcolor": "rgb(237,237,237)",
             "ticklen": 6,
             "ticks": "inside"
            },
            "colorscale": [
             [
              0,
              "rgb(20,44,66)"
             ],
             [
              1,
              "rgb(90,179,244)"
             ]
            ],
            "type": "contour"
           }
          ],
          "contourcarpet": [
           {
            "colorbar": {
             "outlinewidth": 0,
             "tickcolor": "rgb(237,237,237)",
             "ticklen": 6,
             "ticks": "inside"
            },
            "type": "contourcarpet"
           }
          ],
          "heatmap": [
           {
            "colorbar": {
             "outlinewidth": 0,
             "tickcolor": "rgb(237,237,237)",
             "ticklen": 6,
             "ticks": "inside"
            },
            "colorscale": [
             [
              0,
              "rgb(20,44,66)"
             ],
             [
              1,
              "rgb(90,179,244)"
             ]
            ],
            "type": "heatmap"
           }
          ],
          "heatmapgl": [
           {
            "colorbar": {
             "outlinewidth": 0,
             "tickcolor": "rgb(237,237,237)",
             "ticklen": 6,
             "ticks": "inside"
            },
            "colorscale": [
             [
              0,
              "rgb(20,44,66)"
             ],
             [
              1,
              "rgb(90,179,244)"
             ]
            ],
            "type": "heatmapgl"
           }
          ],
          "histogram": [
           {
            "marker": {
             "pattern": {
              "fillmode": "overlay",
              "size": 10,
              "solidity": 0.2
             }
            },
            "type": "histogram"
           }
          ],
          "histogram2d": [
           {
            "colorbar": {
             "outlinewidth": 0,
             "tickcolor": "rgb(237,237,237)",
             "ticklen": 6,
             "ticks": "inside"
            },
            "colorscale": [
             [
              0,
              "rgb(20,44,66)"
             ],
             [
              1,
              "rgb(90,179,244)"
             ]
            ],
            "type": "histogram2d"
           }
          ],
          "histogram2dcontour": [
           {
            "colorbar": {
             "outlinewidth": 0,
             "tickcolor": "rgb(237,237,237)",
             "ticklen": 6,
             "ticks": "inside"
            },
            "colorscale": [
             [
              0,
              "rgb(20,44,66)"
             ],
             [
              1,
              "rgb(90,179,244)"
             ]
            ],
            "type": "histogram2dcontour"
           }
          ],
          "mesh3d": [
           {
            "colorbar": {
             "outlinewidth": 0,
             "tickcolor": "rgb(237,237,237)",
             "ticklen": 6,
             "ticks": "inside"
            },
            "type": "mesh3d"
           }
          ],
          "parcoords": [
           {
            "line": {
             "colorbar": {
              "outlinewidth": 0,
              "tickcolor": "rgb(237,237,237)",
              "ticklen": 6,
              "ticks": "inside"
             }
            },
            "type": "parcoords"
           }
          ],
          "pie": [
           {
            "automargin": true,
            "type": "pie"
           }
          ],
          "scatter": [
           {
            "fillpattern": {
             "fillmode": "overlay",
             "size": 10,
             "solidity": 0.2
            },
            "type": "scatter"
           }
          ],
          "scatter3d": [
           {
            "line": {
             "colorbar": {
              "outlinewidth": 0,
              "tickcolor": "rgb(237,237,237)",
              "ticklen": 6,
              "ticks": "inside"
             }
            },
            "marker": {
             "colorbar": {
              "outlinewidth": 0,
              "tickcolor": "rgb(237,237,237)",
              "ticklen": 6,
              "ticks": "inside"
             }
            },
            "type": "scatter3d"
           }
          ],
          "scattercarpet": [
           {
            "marker": {
             "colorbar": {
              "outlinewidth": 0,
              "tickcolor": "rgb(237,237,237)",
              "ticklen": 6,
              "ticks": "inside"
             }
            },
            "type": "scattercarpet"
           }
          ],
          "scattergeo": [
           {
            "marker": {
             "colorbar": {
              "outlinewidth": 0,
              "tickcolor": "rgb(237,237,237)",
              "ticklen": 6,
              "ticks": "inside"
             }
            },
            "type": "scattergeo"
           }
          ],
          "scattergl": [
           {
            "marker": {
             "colorbar": {
              "outlinewidth": 0,
              "tickcolor": "rgb(237,237,237)",
              "ticklen": 6,
              "ticks": "inside"
             }
            },
            "type": "scattergl"
           }
          ],
          "scattermapbox": [
           {
            "marker": {
             "colorbar": {
              "outlinewidth": 0,
              "tickcolor": "rgb(237,237,237)",
              "ticklen": 6,
              "ticks": "inside"
             }
            },
            "type": "scattermapbox"
           }
          ],
          "scatterpolar": [
           {
            "marker": {
             "colorbar": {
              "outlinewidth": 0,
              "tickcolor": "rgb(237,237,237)",
              "ticklen": 6,
              "ticks": "inside"
             }
            },
            "type": "scatterpolar"
           }
          ],
          "scatterpolargl": [
           {
            "marker": {
             "colorbar": {
              "outlinewidth": 0,
              "tickcolor": "rgb(237,237,237)",
              "ticklen": 6,
              "ticks": "inside"
             }
            },
            "type": "scatterpolargl"
           }
          ],
          "scatterternary": [
           {
            "marker": {
             "colorbar": {
              "outlinewidth": 0,
              "tickcolor": "rgb(237,237,237)",
              "ticklen": 6,
              "ticks": "inside"
             }
            },
            "type": "scatterternary"
           }
          ],
          "surface": [
           {
            "colorbar": {
             "outlinewidth": 0,
             "tickcolor": "rgb(237,237,237)",
             "ticklen": 6,
             "ticks": "inside"
            },
            "colorscale": [
             [
              0,
              "rgb(20,44,66)"
             ],
             [
              1,
              "rgb(90,179,244)"
             ]
            ],
            "type": "surface"
           }
          ],
          "table": [
           {
            "cells": {
             "fill": {
              "color": "rgb(237,237,237)"
             },
             "line": {
              "color": "white"
             }
            },
            "header": {
             "fill": {
              "color": "rgb(217,217,217)"
             },
             "line": {
              "color": "white"
             }
            },
            "type": "table"
           }
          ]
         },
         "layout": {
          "annotationdefaults": {
           "arrowhead": 0,
           "arrowwidth": 1
          },
          "autotypenumbers": "strict",
          "coloraxis": {
           "colorbar": {
            "outlinewidth": 0,
            "tickcolor": "rgb(237,237,237)",
            "ticklen": 6,
            "ticks": "inside"
           }
          },
          "colorscale": {
           "sequential": [
            [
             0,
             "rgb(20,44,66)"
            ],
            [
             1,
             "rgb(90,179,244)"
            ]
           ],
           "sequentialminus": [
            [
             0,
             "rgb(20,44,66)"
            ],
            [
             1,
             "rgb(90,179,244)"
            ]
           ]
          },
          "colorway": [
           "#F8766D",
           "#A3A500",
           "#00BF7D",
           "#00B0F6",
           "#E76BF3"
          ],
          "font": {
           "color": "rgb(51,51,51)"
          },
          "geo": {
           "bgcolor": "white",
           "lakecolor": "white",
           "landcolor": "rgb(237,237,237)",
           "showlakes": true,
           "showland": true,
           "subunitcolor": "white"
          },
          "hoverlabel": {
           "align": "left"
          },
          "hovermode": "closest",
          "paper_bgcolor": "white",
          "plot_bgcolor": "rgb(237,237,237)",
          "polar": {
           "angularaxis": {
            "gridcolor": "white",
            "linecolor": "white",
            "showgrid": true,
            "tickcolor": "rgb(51,51,51)",
            "ticks": "outside"
           },
           "bgcolor": "rgb(237,237,237)",
           "radialaxis": {
            "gridcolor": "white",
            "linecolor": "white",
            "showgrid": true,
            "tickcolor": "rgb(51,51,51)",
            "ticks": "outside"
           }
          },
          "scene": {
           "xaxis": {
            "backgroundcolor": "rgb(237,237,237)",
            "gridcolor": "white",
            "gridwidth": 2,
            "linecolor": "white",
            "showbackground": true,
            "showgrid": true,
            "tickcolor": "rgb(51,51,51)",
            "ticks": "outside",
            "zerolinecolor": "white"
           },
           "yaxis": {
            "backgroundcolor": "rgb(237,237,237)",
            "gridcolor": "white",
            "gridwidth": 2,
            "linecolor": "white",
            "showbackground": true,
            "showgrid": true,
            "tickcolor": "rgb(51,51,51)",
            "ticks": "outside",
            "zerolinecolor": "white"
           },
           "zaxis": {
            "backgroundcolor": "rgb(237,237,237)",
            "gridcolor": "white",
            "gridwidth": 2,
            "linecolor": "white",
            "showbackground": true,
            "showgrid": true,
            "tickcolor": "rgb(51,51,51)",
            "ticks": "outside",
            "zerolinecolor": "white"
           }
          },
          "shapedefaults": {
           "fillcolor": "black",
           "line": {
            "width": 0
           },
           "opacity": 0.3
          },
          "ternary": {
           "aaxis": {
            "gridcolor": "white",
            "linecolor": "white",
            "showgrid": true,
            "tickcolor": "rgb(51,51,51)",
            "ticks": "outside"
           },
           "baxis": {
            "gridcolor": "white",
            "linecolor": "white",
            "showgrid": true,
            "tickcolor": "rgb(51,51,51)",
            "ticks": "outside"
           },
           "bgcolor": "rgb(237,237,237)",
           "caxis": {
            "gridcolor": "white",
            "linecolor": "white",
            "showgrid": true,
            "tickcolor": "rgb(51,51,51)",
            "ticks": "outside"
           }
          },
          "xaxis": {
           "automargin": true,
           "gridcolor": "white",
           "linecolor": "white",
           "showgrid": true,
           "tickcolor": "rgb(51,51,51)",
           "ticks": "outside",
           "title": {
            "standoff": 15
           },
           "zerolinecolor": "white"
          },
          "yaxis": {
           "automargin": true,
           "gridcolor": "white",
           "linecolor": "white",
           "showgrid": true,
           "tickcolor": "rgb(51,51,51)",
           "ticks": "outside",
           "title": {
            "standoff": 15
           },
           "zerolinecolor": "white"
          }
         }
        },
        "xaxis": {
         "anchor": "y",
         "domain": [
          0,
          1
         ],
         "title": {
          "text": "Distance"
         }
        },
        "yaxis": {
         "anchor": "x",
         "domain": [
          0,
          1
         ],
         "title": {
          "text": "Interaction energy [eV]"
         }
        }
       }
      }
     },
     "metadata": {},
     "output_type": "display_data"
    }
   ],
   "source": [
    "plot.show()"
   ]
  }
 ],
 "metadata": {
  "kernelspec": {
   "display_name": "base",
   "language": "python",
   "name": "python3"
  },
  "language_info": {
   "codemirror_mode": {
    "name": "ipython",
    "version": 3
   },
   "file_extension": ".py",
   "mimetype": "text/x-python",
   "name": "python",
   "nbconvert_exporter": "python",
   "pygments_lexer": "ipython3",
   "version": "3.9.16"
  }
 },
 "nbformat": 4,
 "nbformat_minor": 2
}
