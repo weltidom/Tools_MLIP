{
 "cells": [
  {
   "cell_type": "code",
   "execution_count": 1,
   "metadata": {},
   "outputs": [],
   "source": [
    "import pandas as pd \n",
    "import plotly.express  as px\n",
    "\n",
    "df=pd.read_pickle('/Users/dominicwelti/Documents/Master_Thesis_Data_Set/hea/stats_results.pkl')"
   ]
  },
  {
   "cell_type": "code",
   "execution_count": 2,
   "metadata": {},
   "outputs": [
    {
     "data": {
      "text/html": [
       "<div>\n",
       "<style scoped>\n",
       "    .dataframe tbody tr th:only-of-type {\n",
       "        vertical-align: middle;\n",
       "    }\n",
       "\n",
       "    .dataframe tbody tr th {\n",
       "        vertical-align: top;\n",
       "    }\n",
       "\n",
       "    .dataframe thead th {\n",
       "        text-align: right;\n",
       "    }\n",
       "</style>\n",
       "<table border=\"1\" class=\"dataframe\">\n",
       "  <thead>\n",
       "    <tr style=\"text-align: right;\">\n",
       "      <th></th>\n",
       "      <th>Configuration</th>\n",
       "      <th>Config. size</th>\n",
       "      <th>Energy</th>\n",
       "      <th>Energy_Inference</th>\n",
       "      <th>Delta E</th>\n",
       "      <th>Delta F sum</th>\n",
       "      <th>ID</th>\n",
       "      <th>Split</th>\n",
       "      <th>Model</th>\n",
       "    </tr>\n",
       "    <tr>\n",
       "      <th>Name</th>\n",
       "      <th></th>\n",
       "      <th></th>\n",
       "      <th></th>\n",
       "      <th></th>\n",
       "      <th></th>\n",
       "      <th></th>\n",
       "      <th></th>\n",
       "      <th></th>\n",
       "      <th></th>\n",
       "    </tr>\n",
       "  </thead>\n",
       "  <tbody>\n",
       "    <tr>\n",
       "      <th>CrTa</th>\n",
       "      <td>70.761905</td>\n",
       "      <td>17.706349</td>\n",
       "      <td>-187.682097</td>\n",
       "      <td>-187.704333</td>\n",
       "      <td>0.003119</td>\n",
       "      <td>0.043292</td>\n",
       "      <td>standard</td>\n",
       "      <td>8</td>\n",
       "      <td>Allegro</td>\n",
       "    </tr>\n",
       "    <tr>\n",
       "      <th>CrTaV</th>\n",
       "      <td>685.000000</td>\n",
       "      <td>38.400000</td>\n",
       "      <td>-385.217510</td>\n",
       "      <td>-385.230710</td>\n",
       "      <td>0.001534</td>\n",
       "      <td>0.038852</td>\n",
       "      <td>standard</td>\n",
       "      <td>8</td>\n",
       "      <td>Allegro</td>\n",
       "    </tr>\n",
       "    <tr>\n",
       "      <th>CrTaVW</th>\n",
       "      <td>710.808642</td>\n",
       "      <td>106.814815</td>\n",
       "      <td>-1115.658343</td>\n",
       "      <td>-1115.821852</td>\n",
       "      <td>0.004581</td>\n",
       "      <td>0.218316</td>\n",
       "      <td>standard</td>\n",
       "      <td>8</td>\n",
       "      <td>Allegro</td>\n",
       "    </tr>\n",
       "    <tr>\n",
       "      <th>CrTaW</th>\n",
       "      <td>1030.653846</td>\n",
       "      <td>41.846154</td>\n",
       "      <td>-473.548236</td>\n",
       "      <td>-473.377659</td>\n",
       "      <td>0.001898</td>\n",
       "      <td>0.042901</td>\n",
       "      <td>standard</td>\n",
       "      <td>8</td>\n",
       "      <td>Allegro</td>\n",
       "    </tr>\n",
       "    <tr>\n",
       "      <th>CrV</th>\n",
       "      <td>245.834254</td>\n",
       "      <td>13.005525</td>\n",
       "      <td>-119.980938</td>\n",
       "      <td>-120.129489</td>\n",
       "      <td>0.002656</td>\n",
       "      <td>0.024275</td>\n",
       "      <td>standard</td>\n",
       "      <td>8</td>\n",
       "      <td>Allegro</td>\n",
       "    </tr>\n",
       "    <tr>\n",
       "      <th>...</th>\n",
       "      <td>...</td>\n",
       "      <td>...</td>\n",
       "      <td>...</td>\n",
       "      <td>...</td>\n",
       "      <td>...</td>\n",
       "      <td>...</td>\n",
       "      <td>...</td>\n",
       "      <td>...</td>\n",
       "      <td>...</td>\n",
       "    </tr>\n",
       "    <tr>\n",
       "      <th>CrTaVW</th>\n",
       "      <td>59.500000</td>\n",
       "      <td>47.728814</td>\n",
       "      <td>-513.303190</td>\n",
       "      <td>-513.233036</td>\n",
       "      <td>0.003583</td>\n",
       "      <td>0.176254</td>\n",
       "      <td>4comp</td>\n",
       "      <td>0</td>\n",
       "      <td>UF3</td>\n",
       "    </tr>\n",
       "    <tr>\n",
       "      <th>CrTaVW</th>\n",
       "      <td>59.500000</td>\n",
       "      <td>52.474576</td>\n",
       "      <td>-565.159290</td>\n",
       "      <td>-565.153125</td>\n",
       "      <td>0.003621</td>\n",
       "      <td>0.162545</td>\n",
       "      <td>4comp</td>\n",
       "      <td>4</td>\n",
       "      <td>UF3</td>\n",
       "    </tr>\n",
       "    <tr>\n",
       "      <th>CrTaVW</th>\n",
       "      <td>59.500000</td>\n",
       "      <td>35.457627</td>\n",
       "      <td>-380.900263</td>\n",
       "      <td>-380.881607</td>\n",
       "      <td>0.003354</td>\n",
       "      <td>0.173294</td>\n",
       "      <td>4comp</td>\n",
       "      <td>5</td>\n",
       "      <td>UF3</td>\n",
       "    </tr>\n",
       "    <tr>\n",
       "      <th>CrTaVW</th>\n",
       "      <td>59.500000</td>\n",
       "      <td>52.203390</td>\n",
       "      <td>-562.494543</td>\n",
       "      <td>-562.504044</td>\n",
       "      <td>0.002760</td>\n",
       "      <td>0.163795</td>\n",
       "      <td>4comp</td>\n",
       "      <td>7</td>\n",
       "      <td>UF3</td>\n",
       "    </tr>\n",
       "    <tr>\n",
       "      <th>CrTaVW</th>\n",
       "      <td>59.500000</td>\n",
       "      <td>47.322034</td>\n",
       "      <td>-509.311784</td>\n",
       "      <td>-509.336809</td>\n",
       "      <td>0.002937</td>\n",
       "      <td>0.164860</td>\n",
       "      <td>4comp</td>\n",
       "      <td>6</td>\n",
       "      <td>UF3</td>\n",
       "    </tr>\n",
       "  </tbody>\n",
       "</table>\n",
       "<p>520 rows × 9 columns</p>\n",
       "</div>"
      ],
      "text/plain": [
       "        Configuration  Config. size       Energy  Energy_Inference   Delta E  \\\n",
       "Name                                                                           \n",
       "CrTa        70.761905     17.706349  -187.682097       -187.704333  0.003119   \n",
       "CrTaV      685.000000     38.400000  -385.217510       -385.230710  0.001534   \n",
       "CrTaVW     710.808642    106.814815 -1115.658343      -1115.821852  0.004581   \n",
       "CrTaW     1030.653846     41.846154  -473.548236       -473.377659  0.001898   \n",
       "CrV        245.834254     13.005525  -119.980938       -120.129489  0.002656   \n",
       "...               ...           ...          ...               ...       ...   \n",
       "CrTaVW      59.500000     47.728814  -513.303190       -513.233036  0.003583   \n",
       "CrTaVW      59.500000     52.474576  -565.159290       -565.153125  0.003621   \n",
       "CrTaVW      59.500000     35.457627  -380.900263       -380.881607  0.003354   \n",
       "CrTaVW      59.500000     52.203390  -562.494543       -562.504044  0.002760   \n",
       "CrTaVW      59.500000     47.322034  -509.311784       -509.336809  0.002937   \n",
       "\n",
       "        Delta F sum        ID  Split    Model  \n",
       "Name                                           \n",
       "CrTa       0.043292  standard      8  Allegro  \n",
       "CrTaV      0.038852  standard      8  Allegro  \n",
       "CrTaVW     0.218316  standard      8  Allegro  \n",
       "CrTaW      0.042901  standard      8  Allegro  \n",
       "CrV        0.024275  standard      8  Allegro  \n",
       "...             ...       ...    ...      ...  \n",
       "CrTaVW     0.176254     4comp      0      UF3  \n",
       "CrTaVW     0.162545     4comp      4      UF3  \n",
       "CrTaVW     0.173294     4comp      5      UF3  \n",
       "CrTaVW     0.163795     4comp      7      UF3  \n",
       "CrTaVW     0.164860     4comp      6      UF3  \n",
       "\n",
       "[520 rows x 9 columns]"
      ]
     },
     "execution_count": 2,
     "metadata": {},
     "output_type": "execute_result"
    }
   ],
   "source": [
    "df"
   ]
  },
  {
   "cell_type": "code",
   "execution_count": 3,
   "metadata": {},
   "outputs": [],
   "source": [
    "# CrTaVW standard data contains 4comp and 2500k data, which is seperatedly listed\n",
    "df = df.query('not (Name==\"CrTaVW\" & ID==\"standard\")')"
   ]
  },
  {
   "cell_type": "code",
   "execution_count": 4,
   "metadata": {},
   "outputs": [
    {
     "name": "stderr",
     "output_type": "stream",
     "text": [
      "/var/folders/22/kgbcd6856bb9_kzpfp_36k600000gn/T/ipykernel_78476/3591540525.py:1: FutureWarning: The default value of numeric_only in DataFrameGroupBy.mean is deprecated. In a future version, numeric_only will default to False. Either specify numeric_only or select only columns which should be valid for the function.\n",
      "  results=df.groupby(['Model','Split']).mean().reset_index()\n"
     ]
    }
   ],
   "source": [
    "results=df.groupby(['Model','Split']).mean().reset_index()"
   ]
  },
  {
   "cell_type": "code",
   "execution_count": 5,
   "metadata": {},
   "outputs": [
    {
     "data": {
      "text/html": [
       "<div>\n",
       "<style scoped>\n",
       "    .dataframe tbody tr th:only-of-type {\n",
       "        vertical-align: middle;\n",
       "    }\n",
       "\n",
       "    .dataframe tbody tr th {\n",
       "        vertical-align: top;\n",
       "    }\n",
       "\n",
       "    .dataframe thead th {\n",
       "        text-align: right;\n",
       "    }\n",
       "</style>\n",
       "<table border=\"1\" class=\"dataframe\">\n",
       "  <thead>\n",
       "    <tr style=\"text-align: right;\">\n",
       "      <th></th>\n",
       "      <th>Model</th>\n",
       "      <th>Split</th>\n",
       "      <th>Configuration</th>\n",
       "      <th>Config. size</th>\n",
       "      <th>Energy</th>\n",
       "      <th>Energy_Inference</th>\n",
       "      <th>Delta E</th>\n",
       "      <th>Delta F sum</th>\n",
       "    </tr>\n",
       "  </thead>\n",
       "  <tbody>\n",
       "    <tr>\n",
       "      <th>0</th>\n",
       "      <td>Allegro</td>\n",
       "      <td>0</td>\n",
       "      <td>552.573648</td>\n",
       "      <td>37.749558</td>\n",
       "      <td>-403.485887</td>\n",
       "      <td>-403.481372</td>\n",
       "      <td>0.003596</td>\n",
       "      <td>0.059309</td>\n",
       "    </tr>\n",
       "    <tr>\n",
       "      <th>1</th>\n",
       "      <td>Allegro</td>\n",
       "      <td>1</td>\n",
       "      <td>559.626915</td>\n",
       "      <td>39.448083</td>\n",
       "      <td>-418.378842</td>\n",
       "      <td>-418.432741</td>\n",
       "      <td>0.003696</td>\n",
       "      <td>0.059957</td>\n",
       "    </tr>\n",
       "    <tr>\n",
       "      <th>2</th>\n",
       "      <td>Allegro</td>\n",
       "      <td>2</td>\n",
       "      <td>542.887067</td>\n",
       "      <td>36.277183</td>\n",
       "      <td>-385.165298</td>\n",
       "      <td>-385.172810</td>\n",
       "      <td>0.003423</td>\n",
       "      <td>0.059453</td>\n",
       "    </tr>\n",
       "    <tr>\n",
       "      <th>3</th>\n",
       "      <td>Allegro</td>\n",
       "      <td>3</td>\n",
       "      <td>568.856674</td>\n",
       "      <td>37.791052</td>\n",
       "      <td>-403.554154</td>\n",
       "      <td>-403.520184</td>\n",
       "      <td>0.003155</td>\n",
       "      <td>0.059277</td>\n",
       "    </tr>\n",
       "    <tr>\n",
       "      <th>4</th>\n",
       "      <td>Allegro</td>\n",
       "      <td>4</td>\n",
       "      <td>550.734060</td>\n",
       "      <td>36.937471</td>\n",
       "      <td>-393.556141</td>\n",
       "      <td>-393.587372</td>\n",
       "      <td>0.003356</td>\n",
       "      <td>0.059454</td>\n",
       "    </tr>\n",
       "    <tr>\n",
       "      <th>5</th>\n",
       "      <td>Allegro</td>\n",
       "      <td>5</td>\n",
       "      <td>558.909133</td>\n",
       "      <td>34.891418</td>\n",
       "      <td>-371.436715</td>\n",
       "      <td>-371.490261</td>\n",
       "      <td>0.003276</td>\n",
       "      <td>0.059894</td>\n",
       "    </tr>\n",
       "    <tr>\n",
       "      <th>6</th>\n",
       "      <td>Allegro</td>\n",
       "      <td>6</td>\n",
       "      <td>545.028079</td>\n",
       "      <td>36.919201</td>\n",
       "      <td>-393.033302</td>\n",
       "      <td>-393.049563</td>\n",
       "      <td>0.002970</td>\n",
       "      <td>0.059009</td>\n",
       "    </tr>\n",
       "    <tr>\n",
       "      <th>7</th>\n",
       "      <td>Allegro</td>\n",
       "      <td>7</td>\n",
       "      <td>567.405071</td>\n",
       "      <td>35.612120</td>\n",
       "      <td>-378.533146</td>\n",
       "      <td>-378.530118</td>\n",
       "      <td>0.003129</td>\n",
       "      <td>0.058219</td>\n",
       "    </tr>\n",
       "    <tr>\n",
       "      <th>8</th>\n",
       "      <td>Allegro</td>\n",
       "      <td>8</td>\n",
       "      <td>551.199968</td>\n",
       "      <td>35.476684</td>\n",
       "      <td>-377.857849</td>\n",
       "      <td>-377.851228</td>\n",
       "      <td>0.002679</td>\n",
       "      <td>0.057167</td>\n",
       "    </tr>\n",
       "    <tr>\n",
       "      <th>9</th>\n",
       "      <td>Allegro</td>\n",
       "      <td>9</td>\n",
       "      <td>577.773650</td>\n",
       "      <td>35.569813</td>\n",
       "      <td>-379.349696</td>\n",
       "      <td>-379.370537</td>\n",
       "      <td>0.003665</td>\n",
       "      <td>0.059664</td>\n",
       "    </tr>\n",
       "    <tr>\n",
       "      <th>10</th>\n",
       "      <td>MACE</td>\n",
       "      <td>0</td>\n",
       "      <td>552.573648</td>\n",
       "      <td>37.749558</td>\n",
       "      <td>-403.485887</td>\n",
       "      <td>-403.488336</td>\n",
       "      <td>0.001626</td>\n",
       "      <td>0.061477</td>\n",
       "    </tr>\n",
       "    <tr>\n",
       "      <th>11</th>\n",
       "      <td>MACE</td>\n",
       "      <td>1</td>\n",
       "      <td>559.626915</td>\n",
       "      <td>39.448083</td>\n",
       "      <td>-418.378842</td>\n",
       "      <td>-418.399528</td>\n",
       "      <td>0.001868</td>\n",
       "      <td>0.061599</td>\n",
       "    </tr>\n",
       "    <tr>\n",
       "      <th>12</th>\n",
       "      <td>MACE</td>\n",
       "      <td>2</td>\n",
       "      <td>542.887067</td>\n",
       "      <td>36.277183</td>\n",
       "      <td>-385.165298</td>\n",
       "      <td>-385.174459</td>\n",
       "      <td>0.001574</td>\n",
       "      <td>0.060574</td>\n",
       "    </tr>\n",
       "    <tr>\n",
       "      <th>13</th>\n",
       "      <td>MACE</td>\n",
       "      <td>3</td>\n",
       "      <td>568.856674</td>\n",
       "      <td>37.791052</td>\n",
       "      <td>-403.554154</td>\n",
       "      <td>-403.542711</td>\n",
       "      <td>0.001543</td>\n",
       "      <td>0.062044</td>\n",
       "    </tr>\n",
       "    <tr>\n",
       "      <th>14</th>\n",
       "      <td>MACE</td>\n",
       "      <td>4</td>\n",
       "      <td>550.734060</td>\n",
       "      <td>36.937471</td>\n",
       "      <td>-393.556141</td>\n",
       "      <td>-393.562045</td>\n",
       "      <td>0.001282</td>\n",
       "      <td>0.059864</td>\n",
       "    </tr>\n",
       "    <tr>\n",
       "      <th>15</th>\n",
       "      <td>MACE</td>\n",
       "      <td>5</td>\n",
       "      <td>558.909133</td>\n",
       "      <td>34.891418</td>\n",
       "      <td>-371.436715</td>\n",
       "      <td>-371.448193</td>\n",
       "      <td>0.001718</td>\n",
       "      <td>0.061667</td>\n",
       "    </tr>\n",
       "    <tr>\n",
       "      <th>16</th>\n",
       "      <td>MACE</td>\n",
       "      <td>6</td>\n",
       "      <td>545.028079</td>\n",
       "      <td>36.919201</td>\n",
       "      <td>-393.033302</td>\n",
       "      <td>-393.040347</td>\n",
       "      <td>0.001370</td>\n",
       "      <td>0.061359</td>\n",
       "    </tr>\n",
       "    <tr>\n",
       "      <th>17</th>\n",
       "      <td>MACE</td>\n",
       "      <td>7</td>\n",
       "      <td>567.405071</td>\n",
       "      <td>35.612120</td>\n",
       "      <td>-378.533146</td>\n",
       "      <td>-378.518660</td>\n",
       "      <td>0.001349</td>\n",
       "      <td>0.061195</td>\n",
       "    </tr>\n",
       "    <tr>\n",
       "      <th>18</th>\n",
       "      <td>MACE</td>\n",
       "      <td>8</td>\n",
       "      <td>551.199968</td>\n",
       "      <td>35.476684</td>\n",
       "      <td>-377.857849</td>\n",
       "      <td>-377.869438</td>\n",
       "      <td>0.001636</td>\n",
       "      <td>0.059827</td>\n",
       "    </tr>\n",
       "    <tr>\n",
       "      <th>19</th>\n",
       "      <td>MACE</td>\n",
       "      <td>9</td>\n",
       "      <td>577.773650</td>\n",
       "      <td>35.569813</td>\n",
       "      <td>-379.349696</td>\n",
       "      <td>-379.347298</td>\n",
       "      <td>0.001727</td>\n",
       "      <td>0.061987</td>\n",
       "    </tr>\n",
       "    <tr>\n",
       "      <th>20</th>\n",
       "      <td>NequIP</td>\n",
       "      <td>0</td>\n",
       "      <td>552.573648</td>\n",
       "      <td>37.749558</td>\n",
       "      <td>-403.485887</td>\n",
       "      <td>-403.450162</td>\n",
       "      <td>0.003887</td>\n",
       "      <td>0.067747</td>\n",
       "    </tr>\n",
       "    <tr>\n",
       "      <th>21</th>\n",
       "      <td>NequIP</td>\n",
       "      <td>1</td>\n",
       "      <td>559.626915</td>\n",
       "      <td>39.448083</td>\n",
       "      <td>-418.378842</td>\n",
       "      <td>-418.332092</td>\n",
       "      <td>0.003977</td>\n",
       "      <td>0.066968</td>\n",
       "    </tr>\n",
       "    <tr>\n",
       "      <th>22</th>\n",
       "      <td>NequIP</td>\n",
       "      <td>2</td>\n",
       "      <td>542.887067</td>\n",
       "      <td>36.277183</td>\n",
       "      <td>-385.165298</td>\n",
       "      <td>-385.143797</td>\n",
       "      <td>0.003480</td>\n",
       "      <td>0.065877</td>\n",
       "    </tr>\n",
       "    <tr>\n",
       "      <th>23</th>\n",
       "      <td>NequIP</td>\n",
       "      <td>3</td>\n",
       "      <td>568.856674</td>\n",
       "      <td>37.791052</td>\n",
       "      <td>-403.554154</td>\n",
       "      <td>-403.537895</td>\n",
       "      <td>0.001837</td>\n",
       "      <td>0.066881</td>\n",
       "    </tr>\n",
       "    <tr>\n",
       "      <th>24</th>\n",
       "      <td>NequIP</td>\n",
       "      <td>4</td>\n",
       "      <td>550.734060</td>\n",
       "      <td>36.937471</td>\n",
       "      <td>-393.556141</td>\n",
       "      <td>-393.522824</td>\n",
       "      <td>0.003808</td>\n",
       "      <td>0.066979</td>\n",
       "    </tr>\n",
       "    <tr>\n",
       "      <th>25</th>\n",
       "      <td>NequIP</td>\n",
       "      <td>5</td>\n",
       "      <td>558.909133</td>\n",
       "      <td>34.891418</td>\n",
       "      <td>-371.436715</td>\n",
       "      <td>-371.449248</td>\n",
       "      <td>0.003644</td>\n",
       "      <td>0.068208</td>\n",
       "    </tr>\n",
       "    <tr>\n",
       "      <th>26</th>\n",
       "      <td>NequIP</td>\n",
       "      <td>6</td>\n",
       "      <td>545.028079</td>\n",
       "      <td>36.919201</td>\n",
       "      <td>-393.033302</td>\n",
       "      <td>-393.028229</td>\n",
       "      <td>0.003951</td>\n",
       "      <td>0.068151</td>\n",
       "    </tr>\n",
       "    <tr>\n",
       "      <th>27</th>\n",
       "      <td>NequIP</td>\n",
       "      <td>7</td>\n",
       "      <td>567.405071</td>\n",
       "      <td>35.612120</td>\n",
       "      <td>-378.533146</td>\n",
       "      <td>-378.519644</td>\n",
       "      <td>0.003550</td>\n",
       "      <td>0.066686</td>\n",
       "    </tr>\n",
       "    <tr>\n",
       "      <th>28</th>\n",
       "      <td>NequIP</td>\n",
       "      <td>8</td>\n",
       "      <td>551.199968</td>\n",
       "      <td>35.476684</td>\n",
       "      <td>-377.857849</td>\n",
       "      <td>-377.816786</td>\n",
       "      <td>0.003408</td>\n",
       "      <td>0.065568</td>\n",
       "    </tr>\n",
       "    <tr>\n",
       "      <th>29</th>\n",
       "      <td>NequIP</td>\n",
       "      <td>9</td>\n",
       "      <td>577.773650</td>\n",
       "      <td>35.569813</td>\n",
       "      <td>-379.349696</td>\n",
       "      <td>-379.320340</td>\n",
       "      <td>0.003428</td>\n",
       "      <td>0.067684</td>\n",
       "    </tr>\n",
       "    <tr>\n",
       "      <th>30</th>\n",
       "      <td>UF3</td>\n",
       "      <td>0</td>\n",
       "      <td>552.573648</td>\n",
       "      <td>37.749558</td>\n",
       "      <td>-403.485887</td>\n",
       "      <td>-403.502281</td>\n",
       "      <td>0.002924</td>\n",
       "      <td>0.200835</td>\n",
       "    </tr>\n",
       "    <tr>\n",
       "      <th>31</th>\n",
       "      <td>UF3</td>\n",
       "      <td>1</td>\n",
       "      <td>559.626915</td>\n",
       "      <td>39.448083</td>\n",
       "      <td>-418.378842</td>\n",
       "      <td>-418.403265</td>\n",
       "      <td>0.002697</td>\n",
       "      <td>0.201697</td>\n",
       "    </tr>\n",
       "    <tr>\n",
       "      <th>32</th>\n",
       "      <td>UF3</td>\n",
       "      <td>2</td>\n",
       "      <td>542.887067</td>\n",
       "      <td>36.277183</td>\n",
       "      <td>-385.165298</td>\n",
       "      <td>-385.177151</td>\n",
       "      <td>0.002778</td>\n",
       "      <td>0.196868</td>\n",
       "    </tr>\n",
       "    <tr>\n",
       "      <th>33</th>\n",
       "      <td>UF3</td>\n",
       "      <td>3</td>\n",
       "      <td>568.856674</td>\n",
       "      <td>37.791052</td>\n",
       "      <td>-403.554154</td>\n",
       "      <td>-403.566043</td>\n",
       "      <td>0.002735</td>\n",
       "      <td>0.201360</td>\n",
       "    </tr>\n",
       "    <tr>\n",
       "      <th>34</th>\n",
       "      <td>UF3</td>\n",
       "      <td>4</td>\n",
       "      <td>550.734060</td>\n",
       "      <td>36.937471</td>\n",
       "      <td>-393.556141</td>\n",
       "      <td>-393.575280</td>\n",
       "      <td>0.002940</td>\n",
       "      <td>0.196748</td>\n",
       "    </tr>\n",
       "    <tr>\n",
       "      <th>35</th>\n",
       "      <td>UF3</td>\n",
       "      <td>5</td>\n",
       "      <td>558.909133</td>\n",
       "      <td>34.891418</td>\n",
       "      <td>-371.436715</td>\n",
       "      <td>-371.451405</td>\n",
       "      <td>0.002911</td>\n",
       "      <td>0.198879</td>\n",
       "    </tr>\n",
       "    <tr>\n",
       "      <th>36</th>\n",
       "      <td>UF3</td>\n",
       "      <td>6</td>\n",
       "      <td>545.028079</td>\n",
       "      <td>36.919201</td>\n",
       "      <td>-393.033302</td>\n",
       "      <td>-393.053209</td>\n",
       "      <td>0.002714</td>\n",
       "      <td>0.202009</td>\n",
       "    </tr>\n",
       "    <tr>\n",
       "      <th>37</th>\n",
       "      <td>UF3</td>\n",
       "      <td>7</td>\n",
       "      <td>567.405071</td>\n",
       "      <td>35.612120</td>\n",
       "      <td>-378.533146</td>\n",
       "      <td>-378.526263</td>\n",
       "      <td>0.002873</td>\n",
       "      <td>0.199935</td>\n",
       "    </tr>\n",
       "    <tr>\n",
       "      <th>38</th>\n",
       "      <td>UF3</td>\n",
       "      <td>8</td>\n",
       "      <td>551.199968</td>\n",
       "      <td>35.476684</td>\n",
       "      <td>-377.857849</td>\n",
       "      <td>-377.893983</td>\n",
       "      <td>0.002765</td>\n",
       "      <td>0.195436</td>\n",
       "    </tr>\n",
       "    <tr>\n",
       "      <th>39</th>\n",
       "      <td>UF3</td>\n",
       "      <td>9</td>\n",
       "      <td>577.773650</td>\n",
       "      <td>35.569813</td>\n",
       "      <td>-379.349696</td>\n",
       "      <td>-379.395082</td>\n",
       "      <td>0.002746</td>\n",
       "      <td>0.198270</td>\n",
       "    </tr>\n",
       "  </tbody>\n",
       "</table>\n",
       "</div>"
      ],
      "text/plain": [
       "      Model  Split  Configuration  Config. size      Energy  Energy_Inference  \\\n",
       "0   Allegro      0     552.573648     37.749558 -403.485887       -403.481372   \n",
       "1   Allegro      1     559.626915     39.448083 -418.378842       -418.432741   \n",
       "2   Allegro      2     542.887067     36.277183 -385.165298       -385.172810   \n",
       "3   Allegro      3     568.856674     37.791052 -403.554154       -403.520184   \n",
       "4   Allegro      4     550.734060     36.937471 -393.556141       -393.587372   \n",
       "5   Allegro      5     558.909133     34.891418 -371.436715       -371.490261   \n",
       "6   Allegro      6     545.028079     36.919201 -393.033302       -393.049563   \n",
       "7   Allegro      7     567.405071     35.612120 -378.533146       -378.530118   \n",
       "8   Allegro      8     551.199968     35.476684 -377.857849       -377.851228   \n",
       "9   Allegro      9     577.773650     35.569813 -379.349696       -379.370537   \n",
       "10     MACE      0     552.573648     37.749558 -403.485887       -403.488336   \n",
       "11     MACE      1     559.626915     39.448083 -418.378842       -418.399528   \n",
       "12     MACE      2     542.887067     36.277183 -385.165298       -385.174459   \n",
       "13     MACE      3     568.856674     37.791052 -403.554154       -403.542711   \n",
       "14     MACE      4     550.734060     36.937471 -393.556141       -393.562045   \n",
       "15     MACE      5     558.909133     34.891418 -371.436715       -371.448193   \n",
       "16     MACE      6     545.028079     36.919201 -393.033302       -393.040347   \n",
       "17     MACE      7     567.405071     35.612120 -378.533146       -378.518660   \n",
       "18     MACE      8     551.199968     35.476684 -377.857849       -377.869438   \n",
       "19     MACE      9     577.773650     35.569813 -379.349696       -379.347298   \n",
       "20   NequIP      0     552.573648     37.749558 -403.485887       -403.450162   \n",
       "21   NequIP      1     559.626915     39.448083 -418.378842       -418.332092   \n",
       "22   NequIP      2     542.887067     36.277183 -385.165298       -385.143797   \n",
       "23   NequIP      3     568.856674     37.791052 -403.554154       -403.537895   \n",
       "24   NequIP      4     550.734060     36.937471 -393.556141       -393.522824   \n",
       "25   NequIP      5     558.909133     34.891418 -371.436715       -371.449248   \n",
       "26   NequIP      6     545.028079     36.919201 -393.033302       -393.028229   \n",
       "27   NequIP      7     567.405071     35.612120 -378.533146       -378.519644   \n",
       "28   NequIP      8     551.199968     35.476684 -377.857849       -377.816786   \n",
       "29   NequIP      9     577.773650     35.569813 -379.349696       -379.320340   \n",
       "30      UF3      0     552.573648     37.749558 -403.485887       -403.502281   \n",
       "31      UF3      1     559.626915     39.448083 -418.378842       -418.403265   \n",
       "32      UF3      2     542.887067     36.277183 -385.165298       -385.177151   \n",
       "33      UF3      3     568.856674     37.791052 -403.554154       -403.566043   \n",
       "34      UF3      4     550.734060     36.937471 -393.556141       -393.575280   \n",
       "35      UF3      5     558.909133     34.891418 -371.436715       -371.451405   \n",
       "36      UF3      6     545.028079     36.919201 -393.033302       -393.053209   \n",
       "37      UF3      7     567.405071     35.612120 -378.533146       -378.526263   \n",
       "38      UF3      8     551.199968     35.476684 -377.857849       -377.893983   \n",
       "39      UF3      9     577.773650     35.569813 -379.349696       -379.395082   \n",
       "\n",
       "     Delta E  Delta F sum  \n",
       "0   0.003596     0.059309  \n",
       "1   0.003696     0.059957  \n",
       "2   0.003423     0.059453  \n",
       "3   0.003155     0.059277  \n",
       "4   0.003356     0.059454  \n",
       "5   0.003276     0.059894  \n",
       "6   0.002970     0.059009  \n",
       "7   0.003129     0.058219  \n",
       "8   0.002679     0.057167  \n",
       "9   0.003665     0.059664  \n",
       "10  0.001626     0.061477  \n",
       "11  0.001868     0.061599  \n",
       "12  0.001574     0.060574  \n",
       "13  0.001543     0.062044  \n",
       "14  0.001282     0.059864  \n",
       "15  0.001718     0.061667  \n",
       "16  0.001370     0.061359  \n",
       "17  0.001349     0.061195  \n",
       "18  0.001636     0.059827  \n",
       "19  0.001727     0.061987  \n",
       "20  0.003887     0.067747  \n",
       "21  0.003977     0.066968  \n",
       "22  0.003480     0.065877  \n",
       "23  0.001837     0.066881  \n",
       "24  0.003808     0.066979  \n",
       "25  0.003644     0.068208  \n",
       "26  0.003951     0.068151  \n",
       "27  0.003550     0.066686  \n",
       "28  0.003408     0.065568  \n",
       "29  0.003428     0.067684  \n",
       "30  0.002924     0.200835  \n",
       "31  0.002697     0.201697  \n",
       "32  0.002778     0.196868  \n",
       "33  0.002735     0.201360  \n",
       "34  0.002940     0.196748  \n",
       "35  0.002911     0.198879  \n",
       "36  0.002714     0.202009  \n",
       "37  0.002873     0.199935  \n",
       "38  0.002765     0.195436  \n",
       "39  0.002746     0.198270  "
      ]
     },
     "execution_count": 5,
     "metadata": {},
     "output_type": "execute_result"
    }
   ],
   "source": [
    "results"
   ]
  },
  {
   "cell_type": "code",
   "execution_count": 6,
   "metadata": {},
   "outputs": [],
   "source": [
    "results['Delta E']*=1000"
   ]
  },
  {
   "cell_type": "code",
   "execution_count": 7,
   "metadata": {},
   "outputs": [
    {
     "data": {
      "application/vnd.plotly.v1+json": {
       "config": {
        "plotlyServerURL": "https://plot.ly"
       },
       "data": [
        {
         "alignmentgroup": "True",
         "boxpoints": "all",
         "hovertemplate": "Model=%{x}<br>Delta E=%{y}<extra></extra>",
         "legendgroup": "",
         "marker": {
          "color": "#636efa"
         },
         "name": "",
         "notched": false,
         "offsetgroup": "",
         "orientation": "v",
         "showlegend": false,
         "type": "box",
         "x": [
          "Allegro",
          "Allegro",
          "Allegro",
          "Allegro",
          "Allegro",
          "Allegro",
          "Allegro",
          "Allegro",
          "Allegro",
          "Allegro",
          "MACE",
          "MACE",
          "MACE",
          "MACE",
          "MACE",
          "MACE",
          "MACE",
          "MACE",
          "MACE",
          "MACE",
          "NequIP",
          "NequIP",
          "NequIP",
          "NequIP",
          "NequIP",
          "NequIP",
          "NequIP",
          "NequIP",
          "NequIP",
          "NequIP",
          "UF3",
          "UF3",
          "UF3",
          "UF3",
          "UF3",
          "UF3",
          "UF3",
          "UF3",
          "UF3",
          "UF3"
         ],
         "x0": " ",
         "xaxis": "x",
         "y": [
          3.5959684000949497,
          3.695524240572897,
          3.423069089026052,
          3.155300222064731,
          3.35647497742628,
          3.275503016517401,
          2.9698714031673545,
          3.1291429597471963,
          2.678533299854084,
          3.664726194682629,
          1.6260374039078764,
          1.8676087970336657,
          1.573970938792991,
          1.5427199198055042,
          1.2822158457267299,
          1.7179407383082643,
          1.3701529401521821,
          1.3493920924943867,
          1.6357386830913327,
          1.7268378944426503,
          3.8870436861032682,
          3.976900503626534,
          3.4804964263385973,
          1.8372979776568796,
          3.807585425113433,
          3.643931358925587,
          3.9506743996323226,
          3.5500339550072493,
          3.4079528642742294,
          3.4280211191623757,
          2.924444061188729,
          2.696894093501498,
          2.7778705368764913,
          2.7351842064616743,
          2.9402232037522587,
          2.9105585937016967,
          2.714339203870347,
          2.872813677543715,
          2.764724059656121,
          2.745540444449806
         ],
         "y0": " ",
         "yaxis": "y"
        }
       ],
       "layout": {
        "boxmode": "group",
        "legend": {
         "tracegroupgap": 0
        },
        "margin": {
         "t": 60
        },
        "template": {
         "data": {
          "bar": [
           {
            "error_x": {
             "color": "#2a3f5f"
            },
            "error_y": {
             "color": "#2a3f5f"
            },
            "marker": {
             "line": {
              "color": "#E5ECF6",
              "width": 0.5
             },
             "pattern": {
              "fillmode": "overlay",
              "size": 10,
              "solidity": 0.2
             }
            },
            "type": "bar"
           }
          ],
          "barpolar": [
           {
            "marker": {
             "line": {
              "color": "#E5ECF6",
              "width": 0.5
             },
             "pattern": {
              "fillmode": "overlay",
              "size": 10,
              "solidity": 0.2
             }
            },
            "type": "barpolar"
           }
          ],
          "carpet": [
           {
            "aaxis": {
             "endlinecolor": "#2a3f5f",
             "gridcolor": "white",
             "linecolor": "white",
             "minorgridcolor": "white",
             "startlinecolor": "#2a3f5f"
            },
            "baxis": {
             "endlinecolor": "#2a3f5f",
             "gridcolor": "white",
             "linecolor": "white",
             "minorgridcolor": "white",
             "startlinecolor": "#2a3f5f"
            },
            "type": "carpet"
           }
          ],
          "choropleth": [
           {
            "colorbar": {
             "outlinewidth": 0,
             "ticks": ""
            },
            "type": "choropleth"
           }
          ],
          "contour": [
           {
            "colorbar": {
             "outlinewidth": 0,
             "ticks": ""
            },
            "colorscale": [
             [
              0,
              "#0d0887"
             ],
             [
              0.1111111111111111,
              "#46039f"
             ],
             [
              0.2222222222222222,
              "#7201a8"
             ],
             [
              0.3333333333333333,
              "#9c179e"
             ],
             [
              0.4444444444444444,
              "#bd3786"
             ],
             [
              0.5555555555555556,
              "#d8576b"
             ],
             [
              0.6666666666666666,
              "#ed7953"
             ],
             [
              0.7777777777777778,
              "#fb9f3a"
             ],
             [
              0.8888888888888888,
              "#fdca26"
             ],
             [
              1,
              "#f0f921"
             ]
            ],
            "type": "contour"
           }
          ],
          "contourcarpet": [
           {
            "colorbar": {
             "outlinewidth": 0,
             "ticks": ""
            },
            "type": "contourcarpet"
           }
          ],
          "heatmap": [
           {
            "colorbar": {
             "outlinewidth": 0,
             "ticks": ""
            },
            "colorscale": [
             [
              0,
              "#0d0887"
             ],
             [
              0.1111111111111111,
              "#46039f"
             ],
             [
              0.2222222222222222,
              "#7201a8"
             ],
             [
              0.3333333333333333,
              "#9c179e"
             ],
             [
              0.4444444444444444,
              "#bd3786"
             ],
             [
              0.5555555555555556,
              "#d8576b"
             ],
             [
              0.6666666666666666,
              "#ed7953"
             ],
             [
              0.7777777777777778,
              "#fb9f3a"
             ],
             [
              0.8888888888888888,
              "#fdca26"
             ],
             [
              1,
              "#f0f921"
             ]
            ],
            "type": "heatmap"
           }
          ],
          "heatmapgl": [
           {
            "colorbar": {
             "outlinewidth": 0,
             "ticks": ""
            },
            "colorscale": [
             [
              0,
              "#0d0887"
             ],
             [
              0.1111111111111111,
              "#46039f"
             ],
             [
              0.2222222222222222,
              "#7201a8"
             ],
             [
              0.3333333333333333,
              "#9c179e"
             ],
             [
              0.4444444444444444,
              "#bd3786"
             ],
             [
              0.5555555555555556,
              "#d8576b"
             ],
             [
              0.6666666666666666,
              "#ed7953"
             ],
             [
              0.7777777777777778,
              "#fb9f3a"
             ],
             [
              0.8888888888888888,
              "#fdca26"
             ],
             [
              1,
              "#f0f921"
             ]
            ],
            "type": "heatmapgl"
           }
          ],
          "histogram": [
           {
            "marker": {
             "pattern": {
              "fillmode": "overlay",
              "size": 10,
              "solidity": 0.2
             }
            },
            "type": "histogram"
           }
          ],
          "histogram2d": [
           {
            "colorbar": {
             "outlinewidth": 0,
             "ticks": ""
            },
            "colorscale": [
             [
              0,
              "#0d0887"
             ],
             [
              0.1111111111111111,
              "#46039f"
             ],
             [
              0.2222222222222222,
              "#7201a8"
             ],
             [
              0.3333333333333333,
              "#9c179e"
             ],
             [
              0.4444444444444444,
              "#bd3786"
             ],
             [
              0.5555555555555556,
              "#d8576b"
             ],
             [
              0.6666666666666666,
              "#ed7953"
             ],
             [
              0.7777777777777778,
              "#fb9f3a"
             ],
             [
              0.8888888888888888,
              "#fdca26"
             ],
             [
              1,
              "#f0f921"
             ]
            ],
            "type": "histogram2d"
           }
          ],
          "histogram2dcontour": [
           {
            "colorbar": {
             "outlinewidth": 0,
             "ticks": ""
            },
            "colorscale": [
             [
              0,
              "#0d0887"
             ],
             [
              0.1111111111111111,
              "#46039f"
             ],
             [
              0.2222222222222222,
              "#7201a8"
             ],
             [
              0.3333333333333333,
              "#9c179e"
             ],
             [
              0.4444444444444444,
              "#bd3786"
             ],
             [
              0.5555555555555556,
              "#d8576b"
             ],
             [
              0.6666666666666666,
              "#ed7953"
             ],
             [
              0.7777777777777778,
              "#fb9f3a"
             ],
             [
              0.8888888888888888,
              "#fdca26"
             ],
             [
              1,
              "#f0f921"
             ]
            ],
            "type": "histogram2dcontour"
           }
          ],
          "mesh3d": [
           {
            "colorbar": {
             "outlinewidth": 0,
             "ticks": ""
            },
            "type": "mesh3d"
           }
          ],
          "parcoords": [
           {
            "line": {
             "colorbar": {
              "outlinewidth": 0,
              "ticks": ""
             }
            },
            "type": "parcoords"
           }
          ],
          "pie": [
           {
            "automargin": true,
            "type": "pie"
           }
          ],
          "scatter": [
           {
            "fillpattern": {
             "fillmode": "overlay",
             "size": 10,
             "solidity": 0.2
            },
            "type": "scatter"
           }
          ],
          "scatter3d": [
           {
            "line": {
             "colorbar": {
              "outlinewidth": 0,
              "ticks": ""
             }
            },
            "marker": {
             "colorbar": {
              "outlinewidth": 0,
              "ticks": ""
             }
            },
            "type": "scatter3d"
           }
          ],
          "scattercarpet": [
           {
            "marker": {
             "colorbar": {
              "outlinewidth": 0,
              "ticks": ""
             }
            },
            "type": "scattercarpet"
           }
          ],
          "scattergeo": [
           {
            "marker": {
             "colorbar": {
              "outlinewidth": 0,
              "ticks": ""
             }
            },
            "type": "scattergeo"
           }
          ],
          "scattergl": [
           {
            "marker": {
             "colorbar": {
              "outlinewidth": 0,
              "ticks": ""
             }
            },
            "type": "scattergl"
           }
          ],
          "scattermapbox": [
           {
            "marker": {
             "colorbar": {
              "outlinewidth": 0,
              "ticks": ""
             }
            },
            "type": "scattermapbox"
           }
          ],
          "scatterpolar": [
           {
            "marker": {
             "colorbar": {
              "outlinewidth": 0,
              "ticks": ""
             }
            },
            "type": "scatterpolar"
           }
          ],
          "scatterpolargl": [
           {
            "marker": {
             "colorbar": {
              "outlinewidth": 0,
              "ticks": ""
             }
            },
            "type": "scatterpolargl"
           }
          ],
          "scatterternary": [
           {
            "marker": {
             "colorbar": {
              "outlinewidth": 0,
              "ticks": ""
             }
            },
            "type": "scatterternary"
           }
          ],
          "surface": [
           {
            "colorbar": {
             "outlinewidth": 0,
             "ticks": ""
            },
            "colorscale": [
             [
              0,
              "#0d0887"
             ],
             [
              0.1111111111111111,
              "#46039f"
             ],
             [
              0.2222222222222222,
              "#7201a8"
             ],
             [
              0.3333333333333333,
              "#9c179e"
             ],
             [
              0.4444444444444444,
              "#bd3786"
             ],
             [
              0.5555555555555556,
              "#d8576b"
             ],
             [
              0.6666666666666666,
              "#ed7953"
             ],
             [
              0.7777777777777778,
              "#fb9f3a"
             ],
             [
              0.8888888888888888,
              "#fdca26"
             ],
             [
              1,
              "#f0f921"
             ]
            ],
            "type": "surface"
           }
          ],
          "table": [
           {
            "cells": {
             "fill": {
              "color": "#EBF0F8"
             },
             "line": {
              "color": "white"
             }
            },
            "header": {
             "fill": {
              "color": "#C8D4E3"
             },
             "line": {
              "color": "white"
             }
            },
            "type": "table"
           }
          ]
         },
         "layout": {
          "annotationdefaults": {
           "arrowcolor": "#2a3f5f",
           "arrowhead": 0,
           "arrowwidth": 1
          },
          "autotypenumbers": "strict",
          "coloraxis": {
           "colorbar": {
            "outlinewidth": 0,
            "ticks": ""
           }
          },
          "colorscale": {
           "diverging": [
            [
             0,
             "#8e0152"
            ],
            [
             0.1,
             "#c51b7d"
            ],
            [
             0.2,
             "#de77ae"
            ],
            [
             0.3,
             "#f1b6da"
            ],
            [
             0.4,
             "#fde0ef"
            ],
            [
             0.5,
             "#f7f7f7"
            ],
            [
             0.6,
             "#e6f5d0"
            ],
            [
             0.7,
             "#b8e186"
            ],
            [
             0.8,
             "#7fbc41"
            ],
            [
             0.9,
             "#4d9221"
            ],
            [
             1,
             "#276419"
            ]
           ],
           "sequential": [
            [
             0,
             "#0d0887"
            ],
            [
             0.1111111111111111,
             "#46039f"
            ],
            [
             0.2222222222222222,
             "#7201a8"
            ],
            [
             0.3333333333333333,
             "#9c179e"
            ],
            [
             0.4444444444444444,
             "#bd3786"
            ],
            [
             0.5555555555555556,
             "#d8576b"
            ],
            [
             0.6666666666666666,
             "#ed7953"
            ],
            [
             0.7777777777777778,
             "#fb9f3a"
            ],
            [
             0.8888888888888888,
             "#fdca26"
            ],
            [
             1,
             "#f0f921"
            ]
           ],
           "sequentialminus": [
            [
             0,
             "#0d0887"
            ],
            [
             0.1111111111111111,
             "#46039f"
            ],
            [
             0.2222222222222222,
             "#7201a8"
            ],
            [
             0.3333333333333333,
             "#9c179e"
            ],
            [
             0.4444444444444444,
             "#bd3786"
            ],
            [
             0.5555555555555556,
             "#d8576b"
            ],
            [
             0.6666666666666666,
             "#ed7953"
            ],
            [
             0.7777777777777778,
             "#fb9f3a"
            ],
            [
             0.8888888888888888,
             "#fdca26"
            ],
            [
             1,
             "#f0f921"
            ]
           ]
          },
          "colorway": [
           "#636efa",
           "#EF553B",
           "#00cc96",
           "#ab63fa",
           "#FFA15A",
           "#19d3f3",
           "#FF6692",
           "#B6E880",
           "#FF97FF",
           "#FECB52"
          ],
          "font": {
           "color": "#2a3f5f"
          },
          "geo": {
           "bgcolor": "white",
           "lakecolor": "white",
           "landcolor": "#E5ECF6",
           "showlakes": true,
           "showland": true,
           "subunitcolor": "white"
          },
          "hoverlabel": {
           "align": "left"
          },
          "hovermode": "closest",
          "mapbox": {
           "style": "light"
          },
          "paper_bgcolor": "white",
          "plot_bgcolor": "#E5ECF6",
          "polar": {
           "angularaxis": {
            "gridcolor": "white",
            "linecolor": "white",
            "ticks": ""
           },
           "bgcolor": "#E5ECF6",
           "radialaxis": {
            "gridcolor": "white",
            "linecolor": "white",
            "ticks": ""
           }
          },
          "scene": {
           "xaxis": {
            "backgroundcolor": "#E5ECF6",
            "gridcolor": "white",
            "gridwidth": 2,
            "linecolor": "white",
            "showbackground": true,
            "ticks": "",
            "zerolinecolor": "white"
           },
           "yaxis": {
            "backgroundcolor": "#E5ECF6",
            "gridcolor": "white",
            "gridwidth": 2,
            "linecolor": "white",
            "showbackground": true,
            "ticks": "",
            "zerolinecolor": "white"
           },
           "zaxis": {
            "backgroundcolor": "#E5ECF6",
            "gridcolor": "white",
            "gridwidth": 2,
            "linecolor": "white",
            "showbackground": true,
            "ticks": "",
            "zerolinecolor": "white"
           }
          },
          "shapedefaults": {
           "line": {
            "color": "#2a3f5f"
           }
          },
          "ternary": {
           "aaxis": {
            "gridcolor": "white",
            "linecolor": "white",
            "ticks": ""
           },
           "baxis": {
            "gridcolor": "white",
            "linecolor": "white",
            "ticks": ""
           },
           "bgcolor": "#E5ECF6",
           "caxis": {
            "gridcolor": "white",
            "linecolor": "white",
            "ticks": ""
           }
          },
          "title": {
           "x": 0.05
          },
          "xaxis": {
           "automargin": true,
           "gridcolor": "white",
           "linecolor": "white",
           "ticks": "",
           "title": {
            "standoff": 15
           },
           "zerolinecolor": "white",
           "zerolinewidth": 2
          },
          "yaxis": {
           "automargin": true,
           "gridcolor": "white",
           "linecolor": "white",
           "ticks": "",
           "title": {
            "standoff": 15
           },
           "zerolinecolor": "white",
           "zerolinewidth": 2
          }
         }
        },
        "title": {
         "text": "Box plot of overall RMS energy deviation of models per split. Does not include deformed structures."
        },
        "xaxis": {
         "anchor": "y",
         "domain": [
          0,
          1
         ],
         "title": {
          "text": "Model"
         }
        },
        "yaxis": {
         "anchor": "x",
         "domain": [
          0,
          1
         ],
         "title": {
          "text": "Energy RMS error [meV/atom]"
         }
        }
       }
      }
     },
     "metadata": {},
     "output_type": "display_data"
    }
   ],
   "source": [
    "fig = px.box(results,x='Model',y='Delta E', points=\"all\")\n",
    "fig.update_layout(\n",
    "    title_text=\"Box plot of overall RMS energy deviation of models per split. Does not include deformed structures.\",\n",
    "    yaxis={'title':'Energy RMS error [meV/atom]'}\n",
    ")"
   ]
  },
  {
   "cell_type": "code",
   "execution_count": 8,
   "metadata": {},
   "outputs": [],
   "source": [
    "fig.write_html('/Users/dominicwelti/Library/CloudStorage/Dropbox/Master_Thesis/data_npj/RMSE_boxplot.html')"
   ]
  }
 ],
 "metadata": {
  "kernelspec": {
   "display_name": "base",
   "language": "python",
   "name": "python3"
  },
  "language_info": {
   "codemirror_mode": {
    "name": "ipython",
    "version": 3
   },
   "file_extension": ".py",
   "mimetype": "text/x-python",
   "name": "python",
   "nbconvert_exporter": "python",
   "pygments_lexer": "ipython3",
   "version": "3.9.16"
  }
 },
 "nbformat": 4,
 "nbformat_minor": 2
}
