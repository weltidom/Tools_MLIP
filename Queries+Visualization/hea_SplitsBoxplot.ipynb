{
 "cells": [
  {
   "cell_type": "code",
   "execution_count": 37,
   "metadata": {},
   "outputs": [],
   "source": [
    "import pandas as pd \n",
    "import plotly.express  as px\n",
    "\n",
    "df=pd.read_pickle('/Users/dominicwelti/Documents/Master_Thesis_Data_Set/hea/stats_results.pkl')"
   ]
  },
  {
   "cell_type": "code",
   "execution_count": 38,
   "metadata": {},
   "outputs": [
    {
     "data": {
      "text/html": [
       "<div>\n",
       "<style scoped>\n",
       "    .dataframe tbody tr th:only-of-type {\n",
       "        vertical-align: middle;\n",
       "    }\n",
       "\n",
       "    .dataframe tbody tr th {\n",
       "        vertical-align: top;\n",
       "    }\n",
       "\n",
       "    .dataframe thead th {\n",
       "        text-align: right;\n",
       "    }\n",
       "</style>\n",
       "<table border=\"1\" class=\"dataframe\">\n",
       "  <thead>\n",
       "    <tr style=\"text-align: right;\">\n",
       "      <th></th>\n",
       "      <th>Configuration</th>\n",
       "      <th>Config. size</th>\n",
       "      <th>Energy</th>\n",
       "      <th>Energy_Inference</th>\n",
       "      <th>Delta E</th>\n",
       "      <th>Delta F sum</th>\n",
       "      <th>ID</th>\n",
       "      <th>Split</th>\n",
       "      <th>Model</th>\n",
       "    </tr>\n",
       "    <tr>\n",
       "      <th>Name</th>\n",
       "      <th></th>\n",
       "      <th></th>\n",
       "      <th></th>\n",
       "      <th></th>\n",
       "      <th></th>\n",
       "      <th></th>\n",
       "      <th></th>\n",
       "      <th></th>\n",
       "      <th></th>\n",
       "    </tr>\n",
       "  </thead>\n",
       "  <tbody>\n",
       "    <tr>\n",
       "      <th>CrTa</th>\n",
       "      <td>70.761905</td>\n",
       "      <td>17.706349</td>\n",
       "      <td>-187.682097</td>\n",
       "      <td>-187.704333</td>\n",
       "      <td>0.003119</td>\n",
       "      <td>0.043292</td>\n",
       "      <td>standard</td>\n",
       "      <td>8</td>\n",
       "      <td>Allegro</td>\n",
       "    </tr>\n",
       "    <tr>\n",
       "      <th>CrTaV</th>\n",
       "      <td>685.000000</td>\n",
       "      <td>38.400000</td>\n",
       "      <td>-385.217510</td>\n",
       "      <td>-385.230710</td>\n",
       "      <td>0.001534</td>\n",
       "      <td>0.038852</td>\n",
       "      <td>standard</td>\n",
       "      <td>8</td>\n",
       "      <td>Allegro</td>\n",
       "    </tr>\n",
       "    <tr>\n",
       "      <th>CrTaVW</th>\n",
       "      <td>710.808642</td>\n",
       "      <td>106.814815</td>\n",
       "      <td>-1115.658343</td>\n",
       "      <td>-1115.821852</td>\n",
       "      <td>0.004581</td>\n",
       "      <td>0.218316</td>\n",
       "      <td>standard</td>\n",
       "      <td>8</td>\n",
       "      <td>Allegro</td>\n",
       "    </tr>\n",
       "    <tr>\n",
       "      <th>CrTaW</th>\n",
       "      <td>1030.653846</td>\n",
       "      <td>41.846154</td>\n",
       "      <td>-473.548236</td>\n",
       "      <td>-473.377659</td>\n",
       "      <td>0.001898</td>\n",
       "      <td>0.042901</td>\n",
       "      <td>standard</td>\n",
       "      <td>8</td>\n",
       "      <td>Allegro</td>\n",
       "    </tr>\n",
       "    <tr>\n",
       "      <th>CrV</th>\n",
       "      <td>245.834254</td>\n",
       "      <td>13.005525</td>\n",
       "      <td>-119.980938</td>\n",
       "      <td>-120.129489</td>\n",
       "      <td>0.002656</td>\n",
       "      <td>0.024275</td>\n",
       "      <td>standard</td>\n",
       "      <td>8</td>\n",
       "      <td>Allegro</td>\n",
       "    </tr>\n",
       "    <tr>\n",
       "      <th>...</th>\n",
       "      <td>...</td>\n",
       "      <td>...</td>\n",
       "      <td>...</td>\n",
       "      <td>...</td>\n",
       "      <td>...</td>\n",
       "      <td>...</td>\n",
       "      <td>...</td>\n",
       "      <td>...</td>\n",
       "      <td>...</td>\n",
       "    </tr>\n",
       "    <tr>\n",
       "      <th>CrTaVW</th>\n",
       "      <td>59.500000</td>\n",
       "      <td>47.728814</td>\n",
       "      <td>-513.303190</td>\n",
       "      <td>-513.233036</td>\n",
       "      <td>0.003583</td>\n",
       "      <td>0.176254</td>\n",
       "      <td>4comp</td>\n",
       "      <td>0</td>\n",
       "      <td>UF3</td>\n",
       "    </tr>\n",
       "    <tr>\n",
       "      <th>CrTaVW</th>\n",
       "      <td>59.500000</td>\n",
       "      <td>52.474576</td>\n",
       "      <td>-565.159290</td>\n",
       "      <td>-565.153125</td>\n",
       "      <td>0.003621</td>\n",
       "      <td>0.162545</td>\n",
       "      <td>4comp</td>\n",
       "      <td>4</td>\n",
       "      <td>UF3</td>\n",
       "    </tr>\n",
       "    <tr>\n",
       "      <th>CrTaVW</th>\n",
       "      <td>59.500000</td>\n",
       "      <td>35.457627</td>\n",
       "      <td>-380.900263</td>\n",
       "      <td>-380.881607</td>\n",
       "      <td>0.003354</td>\n",
       "      <td>0.173294</td>\n",
       "      <td>4comp</td>\n",
       "      <td>5</td>\n",
       "      <td>UF3</td>\n",
       "    </tr>\n",
       "    <tr>\n",
       "      <th>CrTaVW</th>\n",
       "      <td>59.500000</td>\n",
       "      <td>52.203390</td>\n",
       "      <td>-562.494543</td>\n",
       "      <td>-562.504044</td>\n",
       "      <td>0.002760</td>\n",
       "      <td>0.163795</td>\n",
       "      <td>4comp</td>\n",
       "      <td>7</td>\n",
       "      <td>UF3</td>\n",
       "    </tr>\n",
       "    <tr>\n",
       "      <th>CrTaVW</th>\n",
       "      <td>59.500000</td>\n",
       "      <td>47.322034</td>\n",
       "      <td>-509.311784</td>\n",
       "      <td>-509.336809</td>\n",
       "      <td>0.002937</td>\n",
       "      <td>0.164860</td>\n",
       "      <td>4comp</td>\n",
       "      <td>6</td>\n",
       "      <td>UF3</td>\n",
       "    </tr>\n",
       "  </tbody>\n",
       "</table>\n",
       "<p>520 rows × 9 columns</p>\n",
       "</div>"
      ],
      "text/plain": [
       "        Configuration  Config. size       Energy  Energy_Inference   Delta E  \\\n",
       "Name                                                                           \n",
       "CrTa        70.761905     17.706349  -187.682097       -187.704333  0.003119   \n",
       "CrTaV      685.000000     38.400000  -385.217510       -385.230710  0.001534   \n",
       "CrTaVW     710.808642    106.814815 -1115.658343      -1115.821852  0.004581   \n",
       "CrTaW     1030.653846     41.846154  -473.548236       -473.377659  0.001898   \n",
       "CrV        245.834254     13.005525  -119.980938       -120.129489  0.002656   \n",
       "...               ...           ...          ...               ...       ...   \n",
       "CrTaVW      59.500000     47.728814  -513.303190       -513.233036  0.003583   \n",
       "CrTaVW      59.500000     52.474576  -565.159290       -565.153125  0.003621   \n",
       "CrTaVW      59.500000     35.457627  -380.900263       -380.881607  0.003354   \n",
       "CrTaVW      59.500000     52.203390  -562.494543       -562.504044  0.002760   \n",
       "CrTaVW      59.500000     47.322034  -509.311784       -509.336809  0.002937   \n",
       "\n",
       "        Delta F sum        ID  Split    Model  \n",
       "Name                                           \n",
       "CrTa       0.043292  standard      8  Allegro  \n",
       "CrTaV      0.038852  standard      8  Allegro  \n",
       "CrTaVW     0.218316  standard      8  Allegro  \n",
       "CrTaW      0.042901  standard      8  Allegro  \n",
       "CrV        0.024275  standard      8  Allegro  \n",
       "...             ...       ...    ...      ...  \n",
       "CrTaVW     0.176254     4comp      0      UF3  \n",
       "CrTaVW     0.162545     4comp      4      UF3  \n",
       "CrTaVW     0.173294     4comp      5      UF3  \n",
       "CrTaVW     0.163795     4comp      7      UF3  \n",
       "CrTaVW     0.164860     4comp      6      UF3  \n",
       "\n",
       "[520 rows x 9 columns]"
      ]
     },
     "execution_count": 38,
     "metadata": {},
     "output_type": "execute_result"
    }
   ],
   "source": [
    "df"
   ]
  },
  {
   "cell_type": "code",
   "execution_count": 39,
   "metadata": {},
   "outputs": [],
   "source": [
    "# CrTaVW standard data contains 4comp and 2500k data, which is seperatedly listed\n",
    "#df = df.query('not (Name==\"CrTaVW\" & ID==\"standard\")')"
   ]
  },
  {
   "cell_type": "code",
   "execution_count": 40,
   "metadata": {},
   "outputs": [
    {
     "data": {
      "text/plain": [
       "Configuration       float64\n",
       "Config. size        float64\n",
       "Energy              float64\n",
       "Energy_Inference    float64\n",
       "Delta E             float64\n",
       "Delta F sum         float64\n",
       "ID                   object\n",
       "Split                 int64\n",
       "Model                object\n",
       "dtype: object"
      ]
     },
     "execution_count": 40,
     "metadata": {},
     "output_type": "execute_result"
    }
   ],
   "source": [
    "df.dtypes"
   ]
  },
  {
   "cell_type": "code",
   "execution_count": 41,
   "metadata": {},
   "outputs": [],
   "source": [
    "results=df.groupby(['Model','Split']).mean(['Delta E']).reset_index()"
   ]
  },
  {
   "cell_type": "code",
   "execution_count": 42,
   "metadata": {},
   "outputs": [
    {
     "data": {
      "text/html": [
       "<div>\n",
       "<style scoped>\n",
       "    .dataframe tbody tr th:only-of-type {\n",
       "        vertical-align: middle;\n",
       "    }\n",
       "\n",
       "    .dataframe tbody tr th {\n",
       "        vertical-align: top;\n",
       "    }\n",
       "\n",
       "    .dataframe thead th {\n",
       "        text-align: right;\n",
       "    }\n",
       "</style>\n",
       "<table border=\"1\" class=\"dataframe\">\n",
       "  <thead>\n",
       "    <tr style=\"text-align: right;\">\n",
       "      <th></th>\n",
       "      <th>Model</th>\n",
       "      <th>Split</th>\n",
       "      <th>Configuration</th>\n",
       "      <th>Config. size</th>\n",
       "      <th>Energy</th>\n",
       "      <th>Energy_Inference</th>\n",
       "      <th>Delta E</th>\n",
       "      <th>Delta F sum</th>\n",
       "    </tr>\n",
       "  </thead>\n",
       "  <tbody>\n",
       "    <tr>\n",
       "      <th>0</th>\n",
       "      <td>Allegro</td>\n",
       "      <td>0</td>\n",
       "      <td>559.898942</td>\n",
       "      <td>42.948310</td>\n",
       "      <td>-456.995847</td>\n",
       "      <td>-457.022075</td>\n",
       "      <td>0.003857</td>\n",
       "      <td>0.071922</td>\n",
       "    </tr>\n",
       "    <tr>\n",
       "      <th>1</th>\n",
       "      <td>Allegro</td>\n",
       "      <td>1</td>\n",
       "      <td>564.898254</td>\n",
       "      <td>44.506682</td>\n",
       "      <td>-470.680695</td>\n",
       "      <td>-470.777737</td>\n",
       "      <td>0.004006</td>\n",
       "      <td>0.072293</td>\n",
       "    </tr>\n",
       "    <tr>\n",
       "      <th>2</th>\n",
       "      <td>Allegro</td>\n",
       "      <td>2</td>\n",
       "      <td>558.921870</td>\n",
       "      <td>41.782926</td>\n",
       "      <td>-442.244823</td>\n",
       "      <td>-442.273837</td>\n",
       "      <td>0.003609</td>\n",
       "      <td>0.071892</td>\n",
       "    </tr>\n",
       "    <tr>\n",
       "      <th>3</th>\n",
       "      <td>Allegro</td>\n",
       "      <td>3</td>\n",
       "      <td>571.689162</td>\n",
       "      <td>42.878350</td>\n",
       "      <td>-455.961778</td>\n",
       "      <td>-455.952164</td>\n",
       "      <td>0.003352</td>\n",
       "      <td>0.071790</td>\n",
       "    </tr>\n",
       "    <tr>\n",
       "      <th>4</th>\n",
       "      <td>Allegro</td>\n",
       "      <td>4</td>\n",
       "      <td>561.318619</td>\n",
       "      <td>42.764693</td>\n",
       "      <td>-454.009091</td>\n",
       "      <td>-454.071465</td>\n",
       "      <td>0.003572</td>\n",
       "      <td>0.071873</td>\n",
       "    </tr>\n",
       "    <tr>\n",
       "      <th>5</th>\n",
       "      <td>Allegro</td>\n",
       "      <td>5</td>\n",
       "      <td>567.353445</td>\n",
       "      <td>39.821897</td>\n",
       "      <td>-422.132842</td>\n",
       "      <td>-422.216392</td>\n",
       "      <td>0.003506</td>\n",
       "      <td>0.072605</td>\n",
       "    </tr>\n",
       "    <tr>\n",
       "      <th>6</th>\n",
       "      <td>Allegro</td>\n",
       "      <td>6</td>\n",
       "      <td>557.780430</td>\n",
       "      <td>42.098256</td>\n",
       "      <td>-446.468704</td>\n",
       "      <td>-446.502247</td>\n",
       "      <td>0.003120</td>\n",
       "      <td>0.071398</td>\n",
       "    </tr>\n",
       "    <tr>\n",
       "      <th>7</th>\n",
       "      <td>Allegro</td>\n",
       "      <td>7</td>\n",
       "      <td>567.231462</td>\n",
       "      <td>41.028471</td>\n",
       "      <td>-434.560974</td>\n",
       "      <td>-434.579798</td>\n",
       "      <td>0.003282</td>\n",
       "      <td>0.070906</td>\n",
       "    </tr>\n",
       "    <tr>\n",
       "      <th>8</th>\n",
       "      <td>Allegro</td>\n",
       "      <td>8</td>\n",
       "      <td>563.477558</td>\n",
       "      <td>40.964232</td>\n",
       "      <td>-434.611733</td>\n",
       "      <td>-434.618199</td>\n",
       "      <td>0.002825</td>\n",
       "      <td>0.069563</td>\n",
       "    </tr>\n",
       "    <tr>\n",
       "      <th>9</th>\n",
       "      <td>Allegro</td>\n",
       "      <td>9</td>\n",
       "      <td>576.802458</td>\n",
       "      <td>40.733008</td>\n",
       "      <td>-432.516395</td>\n",
       "      <td>-432.576298</td>\n",
       "      <td>0.003942</td>\n",
       "      <td>0.072292</td>\n",
       "    </tr>\n",
       "    <tr>\n",
       "      <th>10</th>\n",
       "      <td>MACE</td>\n",
       "      <td>0</td>\n",
       "      <td>559.898942</td>\n",
       "      <td>42.948310</td>\n",
       "      <td>-456.995847</td>\n",
       "      <td>-456.997503</td>\n",
       "      <td>0.001753</td>\n",
       "      <td>0.079210</td>\n",
       "    </tr>\n",
       "    <tr>\n",
       "      <th>11</th>\n",
       "      <td>MACE</td>\n",
       "      <td>1</td>\n",
       "      <td>564.898254</td>\n",
       "      <td>44.506682</td>\n",
       "      <td>-470.680695</td>\n",
       "      <td>-470.698108</td>\n",
       "      <td>0.002013</td>\n",
       "      <td>0.078428</td>\n",
       "    </tr>\n",
       "    <tr>\n",
       "      <th>12</th>\n",
       "      <td>MACE</td>\n",
       "      <td>2</td>\n",
       "      <td>558.921870</td>\n",
       "      <td>41.782926</td>\n",
       "      <td>-442.244823</td>\n",
       "      <td>-442.253565</td>\n",
       "      <td>0.001691</td>\n",
       "      <td>0.077218</td>\n",
       "    </tr>\n",
       "    <tr>\n",
       "      <th>13</th>\n",
       "      <td>MACE</td>\n",
       "      <td>3</td>\n",
       "      <td>571.689162</td>\n",
       "      <td>42.878350</td>\n",
       "      <td>-455.961778</td>\n",
       "      <td>-455.951582</td>\n",
       "      <td>0.001670</td>\n",
       "      <td>0.079365</td>\n",
       "    </tr>\n",
       "    <tr>\n",
       "      <th>14</th>\n",
       "      <td>MACE</td>\n",
       "      <td>4</td>\n",
       "      <td>561.318619</td>\n",
       "      <td>42.764693</td>\n",
       "      <td>-454.009091</td>\n",
       "      <td>-454.014106</td>\n",
       "      <td>0.001352</td>\n",
       "      <td>0.076212</td>\n",
       "    </tr>\n",
       "    <tr>\n",
       "      <th>15</th>\n",
       "      <td>MACE</td>\n",
       "      <td>5</td>\n",
       "      <td>567.353445</td>\n",
       "      <td>39.821897</td>\n",
       "      <td>-422.132842</td>\n",
       "      <td>-422.150055</td>\n",
       "      <td>0.001896</td>\n",
       "      <td>0.078759</td>\n",
       "    </tr>\n",
       "    <tr>\n",
       "      <th>16</th>\n",
       "      <td>MACE</td>\n",
       "      <td>6</td>\n",
       "      <td>557.780430</td>\n",
       "      <td>42.098256</td>\n",
       "      <td>-446.468704</td>\n",
       "      <td>-446.478166</td>\n",
       "      <td>0.001512</td>\n",
       "      <td>0.078552</td>\n",
       "    </tr>\n",
       "    <tr>\n",
       "      <th>17</th>\n",
       "      <td>MACE</td>\n",
       "      <td>7</td>\n",
       "      <td>567.231462</td>\n",
       "      <td>41.028471</td>\n",
       "      <td>-434.560974</td>\n",
       "      <td>-434.541974</td>\n",
       "      <td>0.001482</td>\n",
       "      <td>0.077904</td>\n",
       "    </tr>\n",
       "    <tr>\n",
       "      <th>18</th>\n",
       "      <td>MACE</td>\n",
       "      <td>8</td>\n",
       "      <td>563.477558</td>\n",
       "      <td>40.964232</td>\n",
       "      <td>-434.611733</td>\n",
       "      <td>-434.617941</td>\n",
       "      <td>0.001762</td>\n",
       "      <td>0.076592</td>\n",
       "    </tr>\n",
       "    <tr>\n",
       "      <th>19</th>\n",
       "      <td>MACE</td>\n",
       "      <td>9</td>\n",
       "      <td>576.802458</td>\n",
       "      <td>40.733008</td>\n",
       "      <td>-432.516395</td>\n",
       "      <td>-432.516618</td>\n",
       "      <td>0.001878</td>\n",
       "      <td>0.079042</td>\n",
       "    </tr>\n",
       "    <tr>\n",
       "      <th>20</th>\n",
       "      <td>NequIP</td>\n",
       "      <td>0</td>\n",
       "      <td>559.898942</td>\n",
       "      <td>42.948310</td>\n",
       "      <td>-456.995847</td>\n",
       "      <td>-456.990118</td>\n",
       "      <td>0.004214</td>\n",
       "      <td>0.082822</td>\n",
       "    </tr>\n",
       "    <tr>\n",
       "      <th>21</th>\n",
       "      <td>NequIP</td>\n",
       "      <td>1</td>\n",
       "      <td>564.898254</td>\n",
       "      <td>44.506682</td>\n",
       "      <td>-470.680695</td>\n",
       "      <td>-470.666396</td>\n",
       "      <td>0.004230</td>\n",
       "      <td>0.081783</td>\n",
       "    </tr>\n",
       "    <tr>\n",
       "      <th>22</th>\n",
       "      <td>NequIP</td>\n",
       "      <td>2</td>\n",
       "      <td>558.921870</td>\n",
       "      <td>41.782926</td>\n",
       "      <td>-442.244823</td>\n",
       "      <td>-442.249511</td>\n",
       "      <td>0.003761</td>\n",
       "      <td>0.080605</td>\n",
       "    </tr>\n",
       "    <tr>\n",
       "      <th>23</th>\n",
       "      <td>NequIP</td>\n",
       "      <td>3</td>\n",
       "      <td>571.689162</td>\n",
       "      <td>42.878350</td>\n",
       "      <td>-455.961778</td>\n",
       "      <td>-455.950782</td>\n",
       "      <td>0.001946</td>\n",
       "      <td>0.083060</td>\n",
       "    </tr>\n",
       "    <tr>\n",
       "      <th>24</th>\n",
       "      <td>NequIP</td>\n",
       "      <td>4</td>\n",
       "      <td>561.318619</td>\n",
       "      <td>42.764693</td>\n",
       "      <td>-454.009091</td>\n",
       "      <td>-454.002000</td>\n",
       "      <td>0.004125</td>\n",
       "      <td>0.081758</td>\n",
       "    </tr>\n",
       "    <tr>\n",
       "      <th>25</th>\n",
       "      <td>NequIP</td>\n",
       "      <td>5</td>\n",
       "      <td>567.353445</td>\n",
       "      <td>39.821897</td>\n",
       "      <td>-422.132842</td>\n",
       "      <td>-422.182157</td>\n",
       "      <td>0.003926</td>\n",
       "      <td>0.083295</td>\n",
       "    </tr>\n",
       "    <tr>\n",
       "      <th>26</th>\n",
       "      <td>NequIP</td>\n",
       "      <td>6</td>\n",
       "      <td>557.780430</td>\n",
       "      <td>42.098256</td>\n",
       "      <td>-446.468704</td>\n",
       "      <td>-446.504995</td>\n",
       "      <td>0.004292</td>\n",
       "      <td>0.082764</td>\n",
       "    </tr>\n",
       "    <tr>\n",
       "      <th>27</th>\n",
       "      <td>NequIP</td>\n",
       "      <td>7</td>\n",
       "      <td>567.231462</td>\n",
       "      <td>41.028471</td>\n",
       "      <td>-434.560974</td>\n",
       "      <td>-434.583037</td>\n",
       "      <td>0.003890</td>\n",
       "      <td>0.081664</td>\n",
       "    </tr>\n",
       "    <tr>\n",
       "      <th>28</th>\n",
       "      <td>NequIP</td>\n",
       "      <td>8</td>\n",
       "      <td>563.477558</td>\n",
       "      <td>40.964232</td>\n",
       "      <td>-434.611733</td>\n",
       "      <td>-434.591030</td>\n",
       "      <td>0.003638</td>\n",
       "      <td>0.080351</td>\n",
       "    </tr>\n",
       "    <tr>\n",
       "      <th>29</th>\n",
       "      <td>NequIP</td>\n",
       "      <td>9</td>\n",
       "      <td>576.802458</td>\n",
       "      <td>40.733008</td>\n",
       "      <td>-432.516395</td>\n",
       "      <td>-432.513202</td>\n",
       "      <td>0.003718</td>\n",
       "      <td>0.082768</td>\n",
       "    </tr>\n",
       "    <tr>\n",
       "      <th>30</th>\n",
       "      <td>UF3</td>\n",
       "      <td>0</td>\n",
       "      <td>559.898942</td>\n",
       "      <td>42.948310</td>\n",
       "      <td>-456.995847</td>\n",
       "      <td>-457.013364</td>\n",
       "      <td>0.003145</td>\n",
       "      <td>0.233597</td>\n",
       "    </tr>\n",
       "    <tr>\n",
       "      <th>31</th>\n",
       "      <td>UF3</td>\n",
       "      <td>1</td>\n",
       "      <td>564.898254</td>\n",
       "      <td>44.506682</td>\n",
       "      <td>-470.680695</td>\n",
       "      <td>-470.701445</td>\n",
       "      <td>0.002911</td>\n",
       "      <td>0.233777</td>\n",
       "    </tr>\n",
       "    <tr>\n",
       "      <th>32</th>\n",
       "      <td>UF3</td>\n",
       "      <td>2</td>\n",
       "      <td>558.921870</td>\n",
       "      <td>41.782926</td>\n",
       "      <td>-442.244823</td>\n",
       "      <td>-442.258118</td>\n",
       "      <td>0.002975</td>\n",
       "      <td>0.229108</td>\n",
       "    </tr>\n",
       "    <tr>\n",
       "      <th>33</th>\n",
       "      <td>UF3</td>\n",
       "      <td>3</td>\n",
       "      <td>571.689162</td>\n",
       "      <td>42.878350</td>\n",
       "      <td>-455.961778</td>\n",
       "      <td>-455.977710</td>\n",
       "      <td>0.002940</td>\n",
       "      <td>0.233807</td>\n",
       "    </tr>\n",
       "    <tr>\n",
       "      <th>34</th>\n",
       "      <td>UF3</td>\n",
       "      <td>4</td>\n",
       "      <td>561.318619</td>\n",
       "      <td>42.764693</td>\n",
       "      <td>-454.009091</td>\n",
       "      <td>-454.033027</td>\n",
       "      <td>0.003170</td>\n",
       "      <td>0.228784</td>\n",
       "    </tr>\n",
       "    <tr>\n",
       "      <th>35</th>\n",
       "      <td>UF3</td>\n",
       "      <td>5</td>\n",
       "      <td>567.353445</td>\n",
       "      <td>39.821897</td>\n",
       "      <td>-422.132842</td>\n",
       "      <td>-422.149871</td>\n",
       "      <td>0.003127</td>\n",
       "      <td>0.232026</td>\n",
       "    </tr>\n",
       "    <tr>\n",
       "      <th>36</th>\n",
       "      <td>UF3</td>\n",
       "      <td>6</td>\n",
       "      <td>557.780430</td>\n",
       "      <td>42.098256</td>\n",
       "      <td>-446.468704</td>\n",
       "      <td>-446.493013</td>\n",
       "      <td>0.002910</td>\n",
       "      <td>0.234371</td>\n",
       "    </tr>\n",
       "    <tr>\n",
       "      <th>37</th>\n",
       "      <td>UF3</td>\n",
       "      <td>7</td>\n",
       "      <td>567.231462</td>\n",
       "      <td>41.028471</td>\n",
       "      <td>-434.560974</td>\n",
       "      <td>-434.554041</td>\n",
       "      <td>0.003078</td>\n",
       "      <td>0.232606</td>\n",
       "    </tr>\n",
       "    <tr>\n",
       "      <th>38</th>\n",
       "      <td>UF3</td>\n",
       "      <td>8</td>\n",
       "      <td>563.477558</td>\n",
       "      <td>40.964232</td>\n",
       "      <td>-434.611733</td>\n",
       "      <td>-434.654591</td>\n",
       "      <td>0.002958</td>\n",
       "      <td>0.227880</td>\n",
       "    </tr>\n",
       "    <tr>\n",
       "      <th>39</th>\n",
       "      <td>UF3</td>\n",
       "      <td>9</td>\n",
       "      <td>576.802458</td>\n",
       "      <td>40.733008</td>\n",
       "      <td>-432.516395</td>\n",
       "      <td>-432.566234</td>\n",
       "      <td>0.002950</td>\n",
       "      <td>0.231189</td>\n",
       "    </tr>\n",
       "  </tbody>\n",
       "</table>\n",
       "</div>"
      ],
      "text/plain": [
       "      Model  Split  Configuration  Config. size      Energy  Energy_Inference  \\\n",
       "0   Allegro      0     559.898942     42.948310 -456.995847       -457.022075   \n",
       "1   Allegro      1     564.898254     44.506682 -470.680695       -470.777737   \n",
       "2   Allegro      2     558.921870     41.782926 -442.244823       -442.273837   \n",
       "3   Allegro      3     571.689162     42.878350 -455.961778       -455.952164   \n",
       "4   Allegro      4     561.318619     42.764693 -454.009091       -454.071465   \n",
       "5   Allegro      5     567.353445     39.821897 -422.132842       -422.216392   \n",
       "6   Allegro      6     557.780430     42.098256 -446.468704       -446.502247   \n",
       "7   Allegro      7     567.231462     41.028471 -434.560974       -434.579798   \n",
       "8   Allegro      8     563.477558     40.964232 -434.611733       -434.618199   \n",
       "9   Allegro      9     576.802458     40.733008 -432.516395       -432.576298   \n",
       "10     MACE      0     559.898942     42.948310 -456.995847       -456.997503   \n",
       "11     MACE      1     564.898254     44.506682 -470.680695       -470.698108   \n",
       "12     MACE      2     558.921870     41.782926 -442.244823       -442.253565   \n",
       "13     MACE      3     571.689162     42.878350 -455.961778       -455.951582   \n",
       "14     MACE      4     561.318619     42.764693 -454.009091       -454.014106   \n",
       "15     MACE      5     567.353445     39.821897 -422.132842       -422.150055   \n",
       "16     MACE      6     557.780430     42.098256 -446.468704       -446.478166   \n",
       "17     MACE      7     567.231462     41.028471 -434.560974       -434.541974   \n",
       "18     MACE      8     563.477558     40.964232 -434.611733       -434.617941   \n",
       "19     MACE      9     576.802458     40.733008 -432.516395       -432.516618   \n",
       "20   NequIP      0     559.898942     42.948310 -456.995847       -456.990118   \n",
       "21   NequIP      1     564.898254     44.506682 -470.680695       -470.666396   \n",
       "22   NequIP      2     558.921870     41.782926 -442.244823       -442.249511   \n",
       "23   NequIP      3     571.689162     42.878350 -455.961778       -455.950782   \n",
       "24   NequIP      4     561.318619     42.764693 -454.009091       -454.002000   \n",
       "25   NequIP      5     567.353445     39.821897 -422.132842       -422.182157   \n",
       "26   NequIP      6     557.780430     42.098256 -446.468704       -446.504995   \n",
       "27   NequIP      7     567.231462     41.028471 -434.560974       -434.583037   \n",
       "28   NequIP      8     563.477558     40.964232 -434.611733       -434.591030   \n",
       "29   NequIP      9     576.802458     40.733008 -432.516395       -432.513202   \n",
       "30      UF3      0     559.898942     42.948310 -456.995847       -457.013364   \n",
       "31      UF3      1     564.898254     44.506682 -470.680695       -470.701445   \n",
       "32      UF3      2     558.921870     41.782926 -442.244823       -442.258118   \n",
       "33      UF3      3     571.689162     42.878350 -455.961778       -455.977710   \n",
       "34      UF3      4     561.318619     42.764693 -454.009091       -454.033027   \n",
       "35      UF3      5     567.353445     39.821897 -422.132842       -422.149871   \n",
       "36      UF3      6     557.780430     42.098256 -446.468704       -446.493013   \n",
       "37      UF3      7     567.231462     41.028471 -434.560974       -434.554041   \n",
       "38      UF3      8     563.477558     40.964232 -434.611733       -434.654591   \n",
       "39      UF3      9     576.802458     40.733008 -432.516395       -432.566234   \n",
       "\n",
       "     Delta E  Delta F sum  \n",
       "0   0.003857     0.071922  \n",
       "1   0.004006     0.072293  \n",
       "2   0.003609     0.071892  \n",
       "3   0.003352     0.071790  \n",
       "4   0.003572     0.071873  \n",
       "5   0.003506     0.072605  \n",
       "6   0.003120     0.071398  \n",
       "7   0.003282     0.070906  \n",
       "8   0.002825     0.069563  \n",
       "9   0.003942     0.072292  \n",
       "10  0.001753     0.079210  \n",
       "11  0.002013     0.078428  \n",
       "12  0.001691     0.077218  \n",
       "13  0.001670     0.079365  \n",
       "14  0.001352     0.076212  \n",
       "15  0.001896     0.078759  \n",
       "16  0.001512     0.078552  \n",
       "17  0.001482     0.077904  \n",
       "18  0.001762     0.076592  \n",
       "19  0.001878     0.079042  \n",
       "20  0.004214     0.082822  \n",
       "21  0.004230     0.081783  \n",
       "22  0.003761     0.080605  \n",
       "23  0.001946     0.083060  \n",
       "24  0.004125     0.081758  \n",
       "25  0.003926     0.083295  \n",
       "26  0.004292     0.082764  \n",
       "27  0.003890     0.081664  \n",
       "28  0.003638     0.080351  \n",
       "29  0.003718     0.082768  \n",
       "30  0.003145     0.233597  \n",
       "31  0.002911     0.233777  \n",
       "32  0.002975     0.229108  \n",
       "33  0.002940     0.233807  \n",
       "34  0.003170     0.228784  \n",
       "35  0.003127     0.232026  \n",
       "36  0.002910     0.234371  \n",
       "37  0.003078     0.232606  \n",
       "38  0.002958     0.227880  \n",
       "39  0.002950     0.231189  "
      ]
     },
     "execution_count": 42,
     "metadata": {},
     "output_type": "execute_result"
    }
   ],
   "source": [
    "results"
   ]
  },
  {
   "cell_type": "code",
   "execution_count": 43,
   "metadata": {},
   "outputs": [],
   "source": [
    "results['Delta E']*=1000"
   ]
  },
  {
   "cell_type": "code",
   "execution_count": 44,
   "metadata": {},
   "outputs": [
    {
     "data": {
      "application/vnd.plotly.v1+json": {
       "config": {
        "plotlyServerURL": "https://plotly.com"
       },
       "data": [
        {
         "alignmentgroup": "True",
         "boxpoints": "all",
         "hovertemplate": "Model=%{x}<br>Delta E=%{y}<extra></extra>",
         "legendgroup": "",
         "marker": {
          "color": "#636efa"
         },
         "name": "",
         "notched": false,
         "offsetgroup": "",
         "orientation": "v",
         "showlegend": false,
         "type": "box",
         "x": [
          "Allegro",
          "Allegro",
          "Allegro",
          "Allegro",
          "Allegro",
          "Allegro",
          "Allegro",
          "Allegro",
          "Allegro",
          "Allegro",
          "MACE",
          "MACE",
          "MACE",
          "MACE",
          "MACE",
          "MACE",
          "MACE",
          "MACE",
          "MACE",
          "MACE",
          "NequIP",
          "NequIP",
          "NequIP",
          "NequIP",
          "NequIP",
          "NequIP",
          "NequIP",
          "NequIP",
          "NequIP",
          "NequIP",
          "UF3",
          "UF3",
          "UF3",
          "UF3",
          "UF3",
          "UF3",
          "UF3",
          "UF3",
          "UF3",
          "UF3"
         ],
         "x0": " ",
         "xaxis": "x",
         "y": [
          3.8571667799765024,
          4.005759375329202,
          3.609258995288032,
          3.3518575015858514,
          3.572043339812459,
          3.5057132640304234,
          3.1198553042822454,
          3.282340025611753,
          2.8248529507735918,
          3.9423778663661553,
          1.7528728682501098,
          2.0125670103494993,
          1.6911010698925182,
          1.669728365188946,
          1.352494000229227,
          1.8961063207244189,
          1.512403016526655,
          1.482094076211101,
          1.7617965768249957,
          1.8776322102888645,
          4.213671366991441,
          4.2301863634355295,
          3.760500985000471,
          1.9455705290591903,
          4.125119757909542,
          3.9262935900625577,
          4.291599892388368,
          3.8900786505438787,
          3.637720137826921,
          3.718045745462387,
          3.144647101405612,
          2.9114784561348355,
          2.9754770156281976,
          2.9395246241758506,
          3.1698884547207657,
          3.126935209026206,
          2.9100527486520718,
          3.0781099684625466,
          2.9582752406924375,
          2.950044935762799
         ],
         "y0": " ",
         "yaxis": "y"
        }
       ],
       "layout": {
        "boxmode": "group",
        "legend": {
         "tracegroupgap": 0
        },
        "margin": {
         "t": 60
        },
        "template": {
         "data": {
          "bar": [
           {
            "error_x": {
             "color": "#2a3f5f"
            },
            "error_y": {
             "color": "#2a3f5f"
            },
            "marker": {
             "line": {
              "color": "#E5ECF6",
              "width": 0.5
             },
             "pattern": {
              "fillmode": "overlay",
              "size": 10,
              "solidity": 0.2
             }
            },
            "type": "bar"
           }
          ],
          "barpolar": [
           {
            "marker": {
             "line": {
              "color": "#E5ECF6",
              "width": 0.5
             },
             "pattern": {
              "fillmode": "overlay",
              "size": 10,
              "solidity": 0.2
             }
            },
            "type": "barpolar"
           }
          ],
          "carpet": [
           {
            "aaxis": {
             "endlinecolor": "#2a3f5f",
             "gridcolor": "white",
             "linecolor": "white",
             "minorgridcolor": "white",
             "startlinecolor": "#2a3f5f"
            },
            "baxis": {
             "endlinecolor": "#2a3f5f",
             "gridcolor": "white",
             "linecolor": "white",
             "minorgridcolor": "white",
             "startlinecolor": "#2a3f5f"
            },
            "type": "carpet"
           }
          ],
          "choropleth": [
           {
            "colorbar": {
             "outlinewidth": 0,
             "ticks": ""
            },
            "type": "choropleth"
           }
          ],
          "contour": [
           {
            "colorbar": {
             "outlinewidth": 0,
             "ticks": ""
            },
            "colorscale": [
             [
              0,
              "#0d0887"
             ],
             [
              0.1111111111111111,
              "#46039f"
             ],
             [
              0.2222222222222222,
              "#7201a8"
             ],
             [
              0.3333333333333333,
              "#9c179e"
             ],
             [
              0.4444444444444444,
              "#bd3786"
             ],
             [
              0.5555555555555556,
              "#d8576b"
             ],
             [
              0.6666666666666666,
              "#ed7953"
             ],
             [
              0.7777777777777778,
              "#fb9f3a"
             ],
             [
              0.8888888888888888,
              "#fdca26"
             ],
             [
              1,
              "#f0f921"
             ]
            ],
            "type": "contour"
           }
          ],
          "contourcarpet": [
           {
            "colorbar": {
             "outlinewidth": 0,
             "ticks": ""
            },
            "type": "contourcarpet"
           }
          ],
          "heatmap": [
           {
            "colorbar": {
             "outlinewidth": 0,
             "ticks": ""
            },
            "colorscale": [
             [
              0,
              "#0d0887"
             ],
             [
              0.1111111111111111,
              "#46039f"
             ],
             [
              0.2222222222222222,
              "#7201a8"
             ],
             [
              0.3333333333333333,
              "#9c179e"
             ],
             [
              0.4444444444444444,
              "#bd3786"
             ],
             [
              0.5555555555555556,
              "#d8576b"
             ],
             [
              0.6666666666666666,
              "#ed7953"
             ],
             [
              0.7777777777777778,
              "#fb9f3a"
             ],
             [
              0.8888888888888888,
              "#fdca26"
             ],
             [
              1,
              "#f0f921"
             ]
            ],
            "type": "heatmap"
           }
          ],
          "heatmapgl": [
           {
            "colorbar": {
             "outlinewidth": 0,
             "ticks": ""
            },
            "colorscale": [
             [
              0,
              "#0d0887"
             ],
             [
              0.1111111111111111,
              "#46039f"
             ],
             [
              0.2222222222222222,
              "#7201a8"
             ],
             [
              0.3333333333333333,
              "#9c179e"
             ],
             [
              0.4444444444444444,
              "#bd3786"
             ],
             [
              0.5555555555555556,
              "#d8576b"
             ],
             [
              0.6666666666666666,
              "#ed7953"
             ],
             [
              0.7777777777777778,
              "#fb9f3a"
             ],
             [
              0.8888888888888888,
              "#fdca26"
             ],
             [
              1,
              "#f0f921"
             ]
            ],
            "type": "heatmapgl"
           }
          ],
          "histogram": [
           {
            "marker": {
             "pattern": {
              "fillmode": "overlay",
              "size": 10,
              "solidity": 0.2
             }
            },
            "type": "histogram"
           }
          ],
          "histogram2d": [
           {
            "colorbar": {
             "outlinewidth": 0,
             "ticks": ""
            },
            "colorscale": [
             [
              0,
              "#0d0887"
             ],
             [
              0.1111111111111111,
              "#46039f"
             ],
             [
              0.2222222222222222,
              "#7201a8"
             ],
             [
              0.3333333333333333,
              "#9c179e"
             ],
             [
              0.4444444444444444,
              "#bd3786"
             ],
             [
              0.5555555555555556,
              "#d8576b"
             ],
             [
              0.6666666666666666,
              "#ed7953"
             ],
             [
              0.7777777777777778,
              "#fb9f3a"
             ],
             [
              0.8888888888888888,
              "#fdca26"
             ],
             [
              1,
              "#f0f921"
             ]
            ],
            "type": "histogram2d"
           }
          ],
          "histogram2dcontour": [
           {
            "colorbar": {
             "outlinewidth": 0,
             "ticks": ""
            },
            "colorscale": [
             [
              0,
              "#0d0887"
             ],
             [
              0.1111111111111111,
              "#46039f"
             ],
             [
              0.2222222222222222,
              "#7201a8"
             ],
             [
              0.3333333333333333,
              "#9c179e"
             ],
             [
              0.4444444444444444,
              "#bd3786"
             ],
             [
              0.5555555555555556,
              "#d8576b"
             ],
             [
              0.6666666666666666,
              "#ed7953"
             ],
             [
              0.7777777777777778,
              "#fb9f3a"
             ],
             [
              0.8888888888888888,
              "#fdca26"
             ],
             [
              1,
              "#f0f921"
             ]
            ],
            "type": "histogram2dcontour"
           }
          ],
          "mesh3d": [
           {
            "colorbar": {
             "outlinewidth": 0,
             "ticks": ""
            },
            "type": "mesh3d"
           }
          ],
          "parcoords": [
           {
            "line": {
             "colorbar": {
              "outlinewidth": 0,
              "ticks": ""
             }
            },
            "type": "parcoords"
           }
          ],
          "pie": [
           {
            "automargin": true,
            "type": "pie"
           }
          ],
          "scatter": [
           {
            "fillpattern": {
             "fillmode": "overlay",
             "size": 10,
             "solidity": 0.2
            },
            "type": "scatter"
           }
          ],
          "scatter3d": [
           {
            "line": {
             "colorbar": {
              "outlinewidth": 0,
              "ticks": ""
             }
            },
            "marker": {
             "colorbar": {
              "outlinewidth": 0,
              "ticks": ""
             }
            },
            "type": "scatter3d"
           }
          ],
          "scattercarpet": [
           {
            "marker": {
             "colorbar": {
              "outlinewidth": 0,
              "ticks": ""
             }
            },
            "type": "scattercarpet"
           }
          ],
          "scattergeo": [
           {
            "marker": {
             "colorbar": {
              "outlinewidth": 0,
              "ticks": ""
             }
            },
            "type": "scattergeo"
           }
          ],
          "scattergl": [
           {
            "marker": {
             "colorbar": {
              "outlinewidth": 0,
              "ticks": ""
             }
            },
            "type": "scattergl"
           }
          ],
          "scattermapbox": [
           {
            "marker": {
             "colorbar": {
              "outlinewidth": 0,
              "ticks": ""
             }
            },
            "type": "scattermapbox"
           }
          ],
          "scatterpolar": [
           {
            "marker": {
             "colorbar": {
              "outlinewidth": 0,
              "ticks": ""
             }
            },
            "type": "scatterpolar"
           }
          ],
          "scatterpolargl": [
           {
            "marker": {
             "colorbar": {
              "outlinewidth": 0,
              "ticks": ""
             }
            },
            "type": "scatterpolargl"
           }
          ],
          "scatterternary": [
           {
            "marker": {
             "colorbar": {
              "outlinewidth": 0,
              "ticks": ""
             }
            },
            "type": "scatterternary"
           }
          ],
          "surface": [
           {
            "colorbar": {
             "outlinewidth": 0,
             "ticks": ""
            },
            "colorscale": [
             [
              0,
              "#0d0887"
             ],
             [
              0.1111111111111111,
              "#46039f"
             ],
             [
              0.2222222222222222,
              "#7201a8"
             ],
             [
              0.3333333333333333,
              "#9c179e"
             ],
             [
              0.4444444444444444,
              "#bd3786"
             ],
             [
              0.5555555555555556,
              "#d8576b"
             ],
             [
              0.6666666666666666,
              "#ed7953"
             ],
             [
              0.7777777777777778,
              "#fb9f3a"
             ],
             [
              0.8888888888888888,
              "#fdca26"
             ],
             [
              1,
              "#f0f921"
             ]
            ],
            "type": "surface"
           }
          ],
          "table": [
           {
            "cells": {
             "fill": {
              "color": "#EBF0F8"
             },
             "line": {
              "color": "white"
             }
            },
            "header": {
             "fill": {
              "color": "#C8D4E3"
             },
             "line": {
              "color": "white"
             }
            },
            "type": "table"
           }
          ]
         },
         "layout": {
          "annotationdefaults": {
           "arrowcolor": "#2a3f5f",
           "arrowhead": 0,
           "arrowwidth": 1
          },
          "autotypenumbers": "strict",
          "coloraxis": {
           "colorbar": {
            "outlinewidth": 0,
            "ticks": ""
           }
          },
          "colorscale": {
           "diverging": [
            [
             0,
             "#8e0152"
            ],
            [
             0.1,
             "#c51b7d"
            ],
            [
             0.2,
             "#de77ae"
            ],
            [
             0.3,
             "#f1b6da"
            ],
            [
             0.4,
             "#fde0ef"
            ],
            [
             0.5,
             "#f7f7f7"
            ],
            [
             0.6,
             "#e6f5d0"
            ],
            [
             0.7,
             "#b8e186"
            ],
            [
             0.8,
             "#7fbc41"
            ],
            [
             0.9,
             "#4d9221"
            ],
            [
             1,
             "#276419"
            ]
           ],
           "sequential": [
            [
             0,
             "#0d0887"
            ],
            [
             0.1111111111111111,
             "#46039f"
            ],
            [
             0.2222222222222222,
             "#7201a8"
            ],
            [
             0.3333333333333333,
             "#9c179e"
            ],
            [
             0.4444444444444444,
             "#bd3786"
            ],
            [
             0.5555555555555556,
             "#d8576b"
            ],
            [
             0.6666666666666666,
             "#ed7953"
            ],
            [
             0.7777777777777778,
             "#fb9f3a"
            ],
            [
             0.8888888888888888,
             "#fdca26"
            ],
            [
             1,
             "#f0f921"
            ]
           ],
           "sequentialminus": [
            [
             0,
             "#0d0887"
            ],
            [
             0.1111111111111111,
             "#46039f"
            ],
            [
             0.2222222222222222,
             "#7201a8"
            ],
            [
             0.3333333333333333,
             "#9c179e"
            ],
            [
             0.4444444444444444,
             "#bd3786"
            ],
            [
             0.5555555555555556,
             "#d8576b"
            ],
            [
             0.6666666666666666,
             "#ed7953"
            ],
            [
             0.7777777777777778,
             "#fb9f3a"
            ],
            [
             0.8888888888888888,
             "#fdca26"
            ],
            [
             1,
             "#f0f921"
            ]
           ]
          },
          "colorway": [
           "#636efa",
           "#EF553B",
           "#00cc96",
           "#ab63fa",
           "#FFA15A",
           "#19d3f3",
           "#FF6692",
           "#B6E880",
           "#FF97FF",
           "#FECB52"
          ],
          "font": {
           "color": "#2a3f5f"
          },
          "geo": {
           "bgcolor": "white",
           "lakecolor": "white",
           "landcolor": "#E5ECF6",
           "showlakes": true,
           "showland": true,
           "subunitcolor": "white"
          },
          "hoverlabel": {
           "align": "left"
          },
          "hovermode": "closest",
          "mapbox": {
           "style": "light"
          },
          "paper_bgcolor": "white",
          "plot_bgcolor": "#E5ECF6",
          "polar": {
           "angularaxis": {
            "gridcolor": "white",
            "linecolor": "white",
            "ticks": ""
           },
           "bgcolor": "#E5ECF6",
           "radialaxis": {
            "gridcolor": "white",
            "linecolor": "white",
            "ticks": ""
           }
          },
          "scene": {
           "xaxis": {
            "backgroundcolor": "#E5ECF6",
            "gridcolor": "white",
            "gridwidth": 2,
            "linecolor": "white",
            "showbackground": true,
            "ticks": "",
            "zerolinecolor": "white"
           },
           "yaxis": {
            "backgroundcolor": "#E5ECF6",
            "gridcolor": "white",
            "gridwidth": 2,
            "linecolor": "white",
            "showbackground": true,
            "ticks": "",
            "zerolinecolor": "white"
           },
           "zaxis": {
            "backgroundcolor": "#E5ECF6",
            "gridcolor": "white",
            "gridwidth": 2,
            "linecolor": "white",
            "showbackground": true,
            "ticks": "",
            "zerolinecolor": "white"
           }
          },
          "shapedefaults": {
           "line": {
            "color": "#2a3f5f"
           }
          },
          "ternary": {
           "aaxis": {
            "gridcolor": "white",
            "linecolor": "white",
            "ticks": ""
           },
           "baxis": {
            "gridcolor": "white",
            "linecolor": "white",
            "ticks": ""
           },
           "bgcolor": "#E5ECF6",
           "caxis": {
            "gridcolor": "white",
            "linecolor": "white",
            "ticks": ""
           }
          },
          "title": {
           "x": 0.05
          },
          "xaxis": {
           "automargin": true,
           "gridcolor": "white",
           "linecolor": "white",
           "ticks": "",
           "title": {
            "standoff": 15
           },
           "zerolinecolor": "white",
           "zerolinewidth": 2
          },
          "yaxis": {
           "automargin": true,
           "gridcolor": "white",
           "linecolor": "white",
           "ticks": "",
           "title": {
            "standoff": 15
           },
           "zerolinecolor": "white",
           "zerolinewidth": 2
          }
         }
        },
        "title": {
         "text": "Box plot of overall RMS energy deviation of models per split. Does not include deformed structures."
        },
        "xaxis": {
         "anchor": "y",
         "domain": [
          0,
          1
         ],
         "title": {
          "text": "Model"
         }
        },
        "yaxis": {
         "anchor": "x",
         "domain": [
          0,
          1
         ],
         "title": {
          "text": "Energy RMS error [meV/atom]"
         }
        }
       }
      }
     },
     "metadata": {},
     "output_type": "display_data"
    }
   ],
   "source": [
    "fig = px.box(results,x='Model',y='Delta E', points=\"all\")\n",
    "fig.update_layout(\n",
    "    title_text=\"Box plot of overall RMS energy deviation of models per split. Does not include deformed structures.\",\n",
    "    yaxis={'title':'Energy RMS error [meV/atom]'}\n",
    ")"
   ]
  },
  {
   "cell_type": "code",
   "execution_count": 45,
   "metadata": {},
   "outputs": [],
   "source": [
    "#fig.write_html('/Users/dominicwelti/Library/CloudStorage/Dropbox/Master_Thesis/data_npj/RMSE_boxplot.html')"
   ]
  },
  {
   "cell_type": "code",
   "execution_count": 46,
   "metadata": {},
   "outputs": [
    {
     "data": {
      "application/vnd.plotly.v1+json": {
       "config": {
        "plotlyServerURL": "https://plotly.com"
       },
       "data": [
        {
         "alignmentgroup": "True",
         "boxpoints": "all",
         "hovertemplate": "Model=%{x}<br>Delta E=%{y}<extra></extra>",
         "legendgroup": "",
         "marker": {
          "color": "#636efa"
         },
         "name": "",
         "notched": false,
         "offsetgroup": "",
         "orientation": "v",
         "showlegend": false,
         "type": "box",
         "x": [
          "Allegro",
          "Allegro",
          "Allegro",
          "Allegro",
          "Allegro",
          "Allegro",
          "Allegro",
          "Allegro",
          "Allegro",
          "Allegro",
          "MACE",
          "MACE",
          "MACE",
          "MACE",
          "MACE",
          "MACE",
          "MACE",
          "MACE",
          "MACE",
          "MACE",
          "NequIP",
          "NequIP",
          "NequIP",
          "NequIP",
          "NequIP",
          "NequIP",
          "NequIP",
          "NequIP",
          "NequIP",
          "NequIP",
          "UF3",
          "UF3",
          "UF3",
          "UF3",
          "UF3",
          "UF3",
          "UF3",
          "UF3",
          "UF3",
          "UF3"
         ],
         "x0": " ",
         "xaxis": "x",
         "y": [
          3.8571667799765024,
          4.005759375329202,
          3.609258995288032,
          3.3518575015858514,
          3.572043339812459,
          3.5057132640304234,
          3.1198553042822454,
          3.282340025611753,
          2.8248529507735918,
          3.9423778663661553,
          1.7528728682501098,
          2.0125670103494993,
          1.6911010698925182,
          1.669728365188946,
          1.352494000229227,
          1.8961063207244189,
          1.512403016526655,
          1.482094076211101,
          1.7617965768249957,
          1.8776322102888645,
          4.213671366991441,
          4.2301863634355295,
          3.760500985000471,
          1.9455705290591903,
          4.125119757909542,
          3.9262935900625577,
          4.291599892388368,
          3.8900786505438787,
          3.637720137826921,
          3.718045745462387,
          3.144647101405612,
          2.9114784561348355,
          2.9754770156281976,
          2.9395246241758506,
          3.1698884547207657,
          3.126935209026206,
          2.9100527486520718,
          3.0781099684625466,
          2.9582752406924375,
          2.950044935762799
         ],
         "y0": " ",
         "yaxis": "y"
        }
       ],
       "layout": {
        "boxmode": "group",
        "font": {
         "family": "Serif",
         "size": 20
        },
        "height": 600,
        "legend": {
         "tracegroupgap": 0
        },
        "margin": {
         "t": 60
        },
        "template": {
         "data": {
          "bar": [
           {
            "error_x": {
             "color": "rgb(51,51,51)"
            },
            "error_y": {
             "color": "rgb(51,51,51)"
            },
            "marker": {
             "line": {
              "color": "rgb(237,237,237)",
              "width": 0.5
             },
             "pattern": {
              "fillmode": "overlay",
              "size": 10,
              "solidity": 0.2
             }
            },
            "type": "bar"
           }
          ],
          "barpolar": [
           {
            "marker": {
             "line": {
              "color": "rgb(237,237,237)",
              "width": 0.5
             },
             "pattern": {
              "fillmode": "overlay",
              "size": 10,
              "solidity": 0.2
             }
            },
            "type": "barpolar"
           }
          ],
          "carpet": [
           {
            "aaxis": {
             "endlinecolor": "rgb(51,51,51)",
             "gridcolor": "white",
             "linecolor": "white",
             "minorgridcolor": "white",
             "startlinecolor": "rgb(51,51,51)"
            },
            "baxis": {
             "endlinecolor": "rgb(51,51,51)",
             "gridcolor": "white",
             "linecolor": "white",
             "minorgridcolor": "white",
             "startlinecolor": "rgb(51,51,51)"
            },
            "type": "carpet"
           }
          ],
          "choropleth": [
           {
            "colorbar": {
             "outlinewidth": 0,
             "tickcolor": "rgb(237,237,237)",
             "ticklen": 6,
             "ticks": "inside"
            },
            "type": "choropleth"
           }
          ],
          "contour": [
           {
            "colorbar": {
             "outlinewidth": 0,
             "tickcolor": "rgb(237,237,237)",
             "ticklen": 6,
             "ticks": "inside"
            },
            "colorscale": [
             [
              0,
              "rgb(20,44,66)"
             ],
             [
              1,
              "rgb(90,179,244)"
             ]
            ],
            "type": "contour"
           }
          ],
          "contourcarpet": [
           {
            "colorbar": {
             "outlinewidth": 0,
             "tickcolor": "rgb(237,237,237)",
             "ticklen": 6,
             "ticks": "inside"
            },
            "type": "contourcarpet"
           }
          ],
          "heatmap": [
           {
            "colorbar": {
             "outlinewidth": 0,
             "tickcolor": "rgb(237,237,237)",
             "ticklen": 6,
             "ticks": "inside"
            },
            "colorscale": [
             [
              0,
              "rgb(20,44,66)"
             ],
             [
              1,
              "rgb(90,179,244)"
             ]
            ],
            "type": "heatmap"
           }
          ],
          "heatmapgl": [
           {
            "colorbar": {
             "outlinewidth": 0,
             "tickcolor": "rgb(237,237,237)",
             "ticklen": 6,
             "ticks": "inside"
            },
            "colorscale": [
             [
              0,
              "rgb(20,44,66)"
             ],
             [
              1,
              "rgb(90,179,244)"
             ]
            ],
            "type": "heatmapgl"
           }
          ],
          "histogram": [
           {
            "marker": {
             "pattern": {
              "fillmode": "overlay",
              "size": 10,
              "solidity": 0.2
             }
            },
            "type": "histogram"
           }
          ],
          "histogram2d": [
           {
            "colorbar": {
             "outlinewidth": 0,
             "tickcolor": "rgb(237,237,237)",
             "ticklen": 6,
             "ticks": "inside"
            },
            "colorscale": [
             [
              0,
              "rgb(20,44,66)"
             ],
             [
              1,
              "rgb(90,179,244)"
             ]
            ],
            "type": "histogram2d"
           }
          ],
          "histogram2dcontour": [
           {
            "colorbar": {
             "outlinewidth": 0,
             "tickcolor": "rgb(237,237,237)",
             "ticklen": 6,
             "ticks": "inside"
            },
            "colorscale": [
             [
              0,
              "rgb(20,44,66)"
             ],
             [
              1,
              "rgb(90,179,244)"
             ]
            ],
            "type": "histogram2dcontour"
           }
          ],
          "mesh3d": [
           {
            "colorbar": {
             "outlinewidth": 0,
             "tickcolor": "rgb(237,237,237)",
             "ticklen": 6,
             "ticks": "inside"
            },
            "type": "mesh3d"
           }
          ],
          "parcoords": [
           {
            "line": {
             "colorbar": {
              "outlinewidth": 0,
              "tickcolor": "rgb(237,237,237)",
              "ticklen": 6,
              "ticks": "inside"
             }
            },
            "type": "parcoords"
           }
          ],
          "pie": [
           {
            "automargin": true,
            "type": "pie"
           }
          ],
          "scatter": [
           {
            "fillpattern": {
             "fillmode": "overlay",
             "size": 10,
             "solidity": 0.2
            },
            "type": "scatter"
           }
          ],
          "scatter3d": [
           {
            "line": {
             "colorbar": {
              "outlinewidth": 0,
              "tickcolor": "rgb(237,237,237)",
              "ticklen": 6,
              "ticks": "inside"
             }
            },
            "marker": {
             "colorbar": {
              "outlinewidth": 0,
              "tickcolor": "rgb(237,237,237)",
              "ticklen": 6,
              "ticks": "inside"
             }
            },
            "type": "scatter3d"
           }
          ],
          "scattercarpet": [
           {
            "marker": {
             "colorbar": {
              "outlinewidth": 0,
              "tickcolor": "rgb(237,237,237)",
              "ticklen": 6,
              "ticks": "inside"
             }
            },
            "type": "scattercarpet"
           }
          ],
          "scattergeo": [
           {
            "marker": {
             "colorbar": {
              "outlinewidth": 0,
              "tickcolor": "rgb(237,237,237)",
              "ticklen": 6,
              "ticks": "inside"
             }
            },
            "type": "scattergeo"
           }
          ],
          "scattergl": [
           {
            "marker": {
             "colorbar": {
              "outlinewidth": 0,
              "tickcolor": "rgb(237,237,237)",
              "ticklen": 6,
              "ticks": "inside"
             }
            },
            "type": "scattergl"
           }
          ],
          "scattermapbox": [
           {
            "marker": {
             "colorbar": {
              "outlinewidth": 0,
              "tickcolor": "rgb(237,237,237)",
              "ticklen": 6,
              "ticks": "inside"
             }
            },
            "type": "scattermapbox"
           }
          ],
          "scatterpolar": [
           {
            "marker": {
             "colorbar": {
              "outlinewidth": 0,
              "tickcolor": "rgb(237,237,237)",
              "ticklen": 6,
              "ticks": "inside"
             }
            },
            "type": "scatterpolar"
           }
          ],
          "scatterpolargl": [
           {
            "marker": {
             "colorbar": {
              "outlinewidth": 0,
              "tickcolor": "rgb(237,237,237)",
              "ticklen": 6,
              "ticks": "inside"
             }
            },
            "type": "scatterpolargl"
           }
          ],
          "scatterternary": [
           {
            "marker": {
             "colorbar": {
              "outlinewidth": 0,
              "tickcolor": "rgb(237,237,237)",
              "ticklen": 6,
              "ticks": "inside"
             }
            },
            "type": "scatterternary"
           }
          ],
          "surface": [
           {
            "colorbar": {
             "outlinewidth": 0,
             "tickcolor": "rgb(237,237,237)",
             "ticklen": 6,
             "ticks": "inside"
            },
            "colorscale": [
             [
              0,
              "rgb(20,44,66)"
             ],
             [
              1,
              "rgb(90,179,244)"
             ]
            ],
            "type": "surface"
           }
          ],
          "table": [
           {
            "cells": {
             "fill": {
              "color": "rgb(237,237,237)"
             },
             "line": {
              "color": "white"
             }
            },
            "header": {
             "fill": {
              "color": "rgb(217,217,217)"
             },
             "line": {
              "color": "white"
             }
            },
            "type": "table"
           }
          ]
         },
         "layout": {
          "annotationdefaults": {
           "arrowhead": 0,
           "arrowwidth": 1
          },
          "autotypenumbers": "strict",
          "coloraxis": {
           "colorbar": {
            "outlinewidth": 0,
            "tickcolor": "rgb(237,237,237)",
            "ticklen": 6,
            "ticks": "inside"
           }
          },
          "colorscale": {
           "sequential": [
            [
             0,
             "rgb(20,44,66)"
            ],
            [
             1,
             "rgb(90,179,244)"
            ]
           ],
           "sequentialminus": [
            [
             0,
             "rgb(20,44,66)"
            ],
            [
             1,
             "rgb(90,179,244)"
            ]
           ]
          },
          "colorway": [
           "#F8766D",
           "#A3A500",
           "#00BF7D",
           "#00B0F6",
           "#E76BF3"
          ],
          "font": {
           "color": "rgb(51,51,51)"
          },
          "geo": {
           "bgcolor": "white",
           "lakecolor": "white",
           "landcolor": "rgb(237,237,237)",
           "showlakes": true,
           "showland": true,
           "subunitcolor": "white"
          },
          "hoverlabel": {
           "align": "left"
          },
          "hovermode": "closest",
          "paper_bgcolor": "white",
          "plot_bgcolor": "rgb(237,237,237)",
          "polar": {
           "angularaxis": {
            "gridcolor": "white",
            "linecolor": "white",
            "showgrid": true,
            "tickcolor": "rgb(51,51,51)",
            "ticks": "outside"
           },
           "bgcolor": "rgb(237,237,237)",
           "radialaxis": {
            "gridcolor": "white",
            "linecolor": "white",
            "showgrid": true,
            "tickcolor": "rgb(51,51,51)",
            "ticks": "outside"
           }
          },
          "scene": {
           "xaxis": {
            "backgroundcolor": "rgb(237,237,237)",
            "gridcolor": "white",
            "gridwidth": 2,
            "linecolor": "white",
            "showbackground": true,
            "showgrid": true,
            "tickcolor": "rgb(51,51,51)",
            "ticks": "outside",
            "zerolinecolor": "white"
           },
           "yaxis": {
            "backgroundcolor": "rgb(237,237,237)",
            "gridcolor": "white",
            "gridwidth": 2,
            "linecolor": "white",
            "showbackground": true,
            "showgrid": true,
            "tickcolor": "rgb(51,51,51)",
            "ticks": "outside",
            "zerolinecolor": "white"
           },
           "zaxis": {
            "backgroundcolor": "rgb(237,237,237)",
            "gridcolor": "white",
            "gridwidth": 2,
            "linecolor": "white",
            "showbackground": true,
            "showgrid": true,
            "tickcolor": "rgb(51,51,51)",
            "ticks": "outside",
            "zerolinecolor": "white"
           }
          },
          "shapedefaults": {
           "fillcolor": "black",
           "line": {
            "width": 0
           },
           "opacity": 0.3
          },
          "ternary": {
           "aaxis": {
            "gridcolor": "white",
            "linecolor": "white",
            "showgrid": true,
            "tickcolor": "rgb(51,51,51)",
            "ticks": "outside"
           },
           "baxis": {
            "gridcolor": "white",
            "linecolor": "white",
            "showgrid": true,
            "tickcolor": "rgb(51,51,51)",
            "ticks": "outside"
           },
           "bgcolor": "rgb(237,237,237)",
           "caxis": {
            "gridcolor": "white",
            "linecolor": "white",
            "showgrid": true,
            "tickcolor": "rgb(51,51,51)",
            "ticks": "outside"
           }
          },
          "xaxis": {
           "automargin": true,
           "gridcolor": "white",
           "linecolor": "white",
           "showgrid": true,
           "tickcolor": "rgb(51,51,51)",
           "ticks": "outside",
           "title": {
            "standoff": 15
           },
           "zerolinecolor": "white"
          },
          "yaxis": {
           "automargin": true,
           "gridcolor": "white",
           "linecolor": "white",
           "showgrid": true,
           "tickcolor": "rgb(51,51,51)",
           "ticks": "outside",
           "title": {
            "standoff": 15
           },
           "zerolinecolor": "white"
          }
         }
        },
        "width": 1000,
        "xaxis": {
         "anchor": "y",
         "domain": [
          0,
          1
         ],
         "title": {
          "text": "Model"
         }
        },
        "yaxis": {
         "anchor": "x",
         "domain": [
          0,
          1
         ],
         "title": {
          "text": "Energy RMSE [meV/atom]"
         }
        }
       }
      }
     },
     "metadata": {},
     "output_type": "display_data"
    }
   ],
   "source": [
    "fig = px.box(results,x='Model',y='Delta E', points=\"all\")\n",
    "fig.update_layout(\n",
    "    yaxis={'title':'Energy RMSE [meV/atom]'},\n",
    "        font_family=\"Serif\",font_size=20,\n",
    "        template='ggplot2',\n",
    "        width=1000,\n",
    "        height=600\n",
    ")"
   ]
  },
  {
   "cell_type": "code",
   "execution_count": 47,
   "metadata": {},
   "outputs": [],
   "source": [
    "fig.write_image('/Users/dominicwelti/Library/CloudStorage/Dropbox/Apps/Overleaf/Master Thesis - MLIP evaluation/graphs/appendix/splitEval.pdf',format='pdf',scale=5)"
   ]
  },
  {
   "cell_type": "code",
   "execution_count": 48,
   "metadata": {},
   "outputs": [
    {
     "data": {
      "application/vnd.plotly.v1+json": {
       "config": {
        "plotlyServerURL": "https://plotly.com"
       },
       "data": [
        {
         "alignmentgroup": "True",
         "boxpoints": "all",
         "hovertemplate": "Model=%{x}<br>Delta F sum=%{y}<extra></extra>",
         "legendgroup": "",
         "marker": {
          "color": "#636efa"
         },
         "name": "",
         "notched": false,
         "offsetgroup": "",
         "orientation": "v",
         "showlegend": false,
         "type": "box",
         "x": [
          "Allegro",
          "Allegro",
          "Allegro",
          "Allegro",
          "Allegro",
          "Allegro",
          "Allegro",
          "Allegro",
          "Allegro",
          "Allegro",
          "MACE",
          "MACE",
          "MACE",
          "MACE",
          "MACE",
          "MACE",
          "MACE",
          "MACE",
          "MACE",
          "MACE",
          "NequIP",
          "NequIP",
          "NequIP",
          "NequIP",
          "NequIP",
          "NequIP",
          "NequIP",
          "NequIP",
          "NequIP",
          "NequIP",
          "UF3",
          "UF3",
          "UF3",
          "UF3",
          "UF3",
          "UF3",
          "UF3",
          "UF3",
          "UF3",
          "UF3"
         ],
         "x0": " ",
         "xaxis": "x",
         "y": [
          0.07192194350011748,
          0.07229344482102605,
          0.07189185792528291,
          0.0717901054858267,
          0.07187267097607228,
          0.07260458315288183,
          0.07139753624147907,
          0.07090601692618258,
          0.069563112723639,
          0.07229178625230838,
          0.07920989189005723,
          0.07842812370137708,
          0.07721829456498117,
          0.07936470764744284,
          0.07621218075382244,
          0.07875879269724322,
          0.0785523477950811,
          0.07790367238550208,
          0.07659153419842653,
          0.07904211784799033,
          0.08282179460490248,
          0.08178280384348259,
          0.08060514305490402,
          0.0830595233128005,
          0.08175764483714366,
          0.08329506105432308,
          0.08276413440293441,
          0.08166366649769802,
          0.08035063029177872,
          0.08276775598519229,
          0.23359698972694568,
          0.23377733795871827,
          0.22910824764333843,
          0.23380745779195083,
          0.22878426033053115,
          0.2320260106685106,
          0.2343707309647868,
          0.23260568740132662,
          0.2278799276964598,
          0.2311887606650351
         ],
         "y0": " ",
         "yaxis": "y"
        }
       ],
       "layout": {
        "boxmode": "group",
        "font": {
         "family": "Serif",
         "size": 20
        },
        "height": 600,
        "legend": {
         "tracegroupgap": 0
        },
        "margin": {
         "t": 60
        },
        "template": {
         "data": {
          "bar": [
           {
            "error_x": {
             "color": "rgb(51,51,51)"
            },
            "error_y": {
             "color": "rgb(51,51,51)"
            },
            "marker": {
             "line": {
              "color": "rgb(237,237,237)",
              "width": 0.5
             },
             "pattern": {
              "fillmode": "overlay",
              "size": 10,
              "solidity": 0.2
             }
            },
            "type": "bar"
           }
          ],
          "barpolar": [
           {
            "marker": {
             "line": {
              "color": "rgb(237,237,237)",
              "width": 0.5
             },
             "pattern": {
              "fillmode": "overlay",
              "size": 10,
              "solidity": 0.2
             }
            },
            "type": "barpolar"
           }
          ],
          "carpet": [
           {
            "aaxis": {
             "endlinecolor": "rgb(51,51,51)",
             "gridcolor": "white",
             "linecolor": "white",
             "minorgridcolor": "white",
             "startlinecolor": "rgb(51,51,51)"
            },
            "baxis": {
             "endlinecolor": "rgb(51,51,51)",
             "gridcolor": "white",
             "linecolor": "white",
             "minorgridcolor": "white",
             "startlinecolor": "rgb(51,51,51)"
            },
            "type": "carpet"
           }
          ],
          "choropleth": [
           {
            "colorbar": {
             "outlinewidth": 0,
             "tickcolor": "rgb(237,237,237)",
             "ticklen": 6,
             "ticks": "inside"
            },
            "type": "choropleth"
           }
          ],
          "contour": [
           {
            "colorbar": {
             "outlinewidth": 0,
             "tickcolor": "rgb(237,237,237)",
             "ticklen": 6,
             "ticks": "inside"
            },
            "colorscale": [
             [
              0,
              "rgb(20,44,66)"
             ],
             [
              1,
              "rgb(90,179,244)"
             ]
            ],
            "type": "contour"
           }
          ],
          "contourcarpet": [
           {
            "colorbar": {
             "outlinewidth": 0,
             "tickcolor": "rgb(237,237,237)",
             "ticklen": 6,
             "ticks": "inside"
            },
            "type": "contourcarpet"
           }
          ],
          "heatmap": [
           {
            "colorbar": {
             "outlinewidth": 0,
             "tickcolor": "rgb(237,237,237)",
             "ticklen": 6,
             "ticks": "inside"
            },
            "colorscale": [
             [
              0,
              "rgb(20,44,66)"
             ],
             [
              1,
              "rgb(90,179,244)"
             ]
            ],
            "type": "heatmap"
           }
          ],
          "heatmapgl": [
           {
            "colorbar": {
             "outlinewidth": 0,
             "tickcolor": "rgb(237,237,237)",
             "ticklen": 6,
             "ticks": "inside"
            },
            "colorscale": [
             [
              0,
              "rgb(20,44,66)"
             ],
             [
              1,
              "rgb(90,179,244)"
             ]
            ],
            "type": "heatmapgl"
           }
          ],
          "histogram": [
           {
            "marker": {
             "pattern": {
              "fillmode": "overlay",
              "size": 10,
              "solidity": 0.2
             }
            },
            "type": "histogram"
           }
          ],
          "histogram2d": [
           {
            "colorbar": {
             "outlinewidth": 0,
             "tickcolor": "rgb(237,237,237)",
             "ticklen": 6,
             "ticks": "inside"
            },
            "colorscale": [
             [
              0,
              "rgb(20,44,66)"
             ],
             [
              1,
              "rgb(90,179,244)"
             ]
            ],
            "type": "histogram2d"
           }
          ],
          "histogram2dcontour": [
           {
            "colorbar": {
             "outlinewidth": 0,
             "tickcolor": "rgb(237,237,237)",
             "ticklen": 6,
             "ticks": "inside"
            },
            "colorscale": [
             [
              0,
              "rgb(20,44,66)"
             ],
             [
              1,
              "rgb(90,179,244)"
             ]
            ],
            "type": "histogram2dcontour"
           }
          ],
          "mesh3d": [
           {
            "colorbar": {
             "outlinewidth": 0,
             "tickcolor": "rgb(237,237,237)",
             "ticklen": 6,
             "ticks": "inside"
            },
            "type": "mesh3d"
           }
          ],
          "parcoords": [
           {
            "line": {
             "colorbar": {
              "outlinewidth": 0,
              "tickcolor": "rgb(237,237,237)",
              "ticklen": 6,
              "ticks": "inside"
             }
            },
            "type": "parcoords"
           }
          ],
          "pie": [
           {
            "automargin": true,
            "type": "pie"
           }
          ],
          "scatter": [
           {
            "fillpattern": {
             "fillmode": "overlay",
             "size": 10,
             "solidity": 0.2
            },
            "type": "scatter"
           }
          ],
          "scatter3d": [
           {
            "line": {
             "colorbar": {
              "outlinewidth": 0,
              "tickcolor": "rgb(237,237,237)",
              "ticklen": 6,
              "ticks": "inside"
             }
            },
            "marker": {
             "colorbar": {
              "outlinewidth": 0,
              "tickcolor": "rgb(237,237,237)",
              "ticklen": 6,
              "ticks": "inside"
             }
            },
            "type": "scatter3d"
           }
          ],
          "scattercarpet": [
           {
            "marker": {
             "colorbar": {
              "outlinewidth": 0,
              "tickcolor": "rgb(237,237,237)",
              "ticklen": 6,
              "ticks": "inside"
             }
            },
            "type": "scattercarpet"
           }
          ],
          "scattergeo": [
           {
            "marker": {
             "colorbar": {
              "outlinewidth": 0,
              "tickcolor": "rgb(237,237,237)",
              "ticklen": 6,
              "ticks": "inside"
             }
            },
            "type": "scattergeo"
           }
          ],
          "scattergl": [
           {
            "marker": {
             "colorbar": {
              "outlinewidth": 0,
              "tickcolor": "rgb(237,237,237)",
              "ticklen": 6,
              "ticks": "inside"
             }
            },
            "type": "scattergl"
           }
          ],
          "scattermapbox": [
           {
            "marker": {
             "colorbar": {
              "outlinewidth": 0,
              "tickcolor": "rgb(237,237,237)",
              "ticklen": 6,
              "ticks": "inside"
             }
            },
            "type": "scattermapbox"
           }
          ],
          "scatterpolar": [
           {
            "marker": {
             "colorbar": {
              "outlinewidth": 0,
              "tickcolor": "rgb(237,237,237)",
              "ticklen": 6,
              "ticks": "inside"
             }
            },
            "type": "scatterpolar"
           }
          ],
          "scatterpolargl": [
           {
            "marker": {
             "colorbar": {
              "outlinewidth": 0,
              "tickcolor": "rgb(237,237,237)",
              "ticklen": 6,
              "ticks": "inside"
             }
            },
            "type": "scatterpolargl"
           }
          ],
          "scatterternary": [
           {
            "marker": {
             "colorbar": {
              "outlinewidth": 0,
              "tickcolor": "rgb(237,237,237)",
              "ticklen": 6,
              "ticks": "inside"
             }
            },
            "type": "scatterternary"
           }
          ],
          "surface": [
           {
            "colorbar": {
             "outlinewidth": 0,
             "tickcolor": "rgb(237,237,237)",
             "ticklen": 6,
             "ticks": "inside"
            },
            "colorscale": [
             [
              0,
              "rgb(20,44,66)"
             ],
             [
              1,
              "rgb(90,179,244)"
             ]
            ],
            "type": "surface"
           }
          ],
          "table": [
           {
            "cells": {
             "fill": {
              "color": "rgb(237,237,237)"
             },
             "line": {
              "color": "white"
             }
            },
            "header": {
             "fill": {
              "color": "rgb(217,217,217)"
             },
             "line": {
              "color": "white"
             }
            },
            "type": "table"
           }
          ]
         },
         "layout": {
          "annotationdefaults": {
           "arrowhead": 0,
           "arrowwidth": 1
          },
          "autotypenumbers": "strict",
          "coloraxis": {
           "colorbar": {
            "outlinewidth": 0,
            "tickcolor": "rgb(237,237,237)",
            "ticklen": 6,
            "ticks": "inside"
           }
          },
          "colorscale": {
           "sequential": [
            [
             0,
             "rgb(20,44,66)"
            ],
            [
             1,
             "rgb(90,179,244)"
            ]
           ],
           "sequentialminus": [
            [
             0,
             "rgb(20,44,66)"
            ],
            [
             1,
             "rgb(90,179,244)"
            ]
           ]
          },
          "colorway": [
           "#F8766D",
           "#A3A500",
           "#00BF7D",
           "#00B0F6",
           "#E76BF3"
          ],
          "font": {
           "color": "rgb(51,51,51)"
          },
          "geo": {
           "bgcolor": "white",
           "lakecolor": "white",
           "landcolor": "rgb(237,237,237)",
           "showlakes": true,
           "showland": true,
           "subunitcolor": "white"
          },
          "hoverlabel": {
           "align": "left"
          },
          "hovermode": "closest",
          "paper_bgcolor": "white",
          "plot_bgcolor": "rgb(237,237,237)",
          "polar": {
           "angularaxis": {
            "gridcolor": "white",
            "linecolor": "white",
            "showgrid": true,
            "tickcolor": "rgb(51,51,51)",
            "ticks": "outside"
           },
           "bgcolor": "rgb(237,237,237)",
           "radialaxis": {
            "gridcolor": "white",
            "linecolor": "white",
            "showgrid": true,
            "tickcolor": "rgb(51,51,51)",
            "ticks": "outside"
           }
          },
          "scene": {
           "xaxis": {
            "backgroundcolor": "rgb(237,237,237)",
            "gridcolor": "white",
            "gridwidth": 2,
            "linecolor": "white",
            "showbackground": true,
            "showgrid": true,
            "tickcolor": "rgb(51,51,51)",
            "ticks": "outside",
            "zerolinecolor": "white"
           },
           "yaxis": {
            "backgroundcolor": "rgb(237,237,237)",
            "gridcolor": "white",
            "gridwidth": 2,
            "linecolor": "white",
            "showbackground": true,
            "showgrid": true,
            "tickcolor": "rgb(51,51,51)",
            "ticks": "outside",
            "zerolinecolor": "white"
           },
           "zaxis": {
            "backgroundcolor": "rgb(237,237,237)",
            "gridcolor": "white",
            "gridwidth": 2,
            "linecolor": "white",
            "showbackground": true,
            "showgrid": true,
            "tickcolor": "rgb(51,51,51)",
            "ticks": "outside",
            "zerolinecolor": "white"
           }
          },
          "shapedefaults": {
           "fillcolor": "black",
           "line": {
            "width": 0
           },
           "opacity": 0.3
          },
          "ternary": {
           "aaxis": {
            "gridcolor": "white",
            "linecolor": "white",
            "showgrid": true,
            "tickcolor": "rgb(51,51,51)",
            "ticks": "outside"
           },
           "baxis": {
            "gridcolor": "white",
            "linecolor": "white",
            "showgrid": true,
            "tickcolor": "rgb(51,51,51)",
            "ticks": "outside"
           },
           "bgcolor": "rgb(237,237,237)",
           "caxis": {
            "gridcolor": "white",
            "linecolor": "white",
            "showgrid": true,
            "tickcolor": "rgb(51,51,51)",
            "ticks": "outside"
           }
          },
          "xaxis": {
           "automargin": true,
           "gridcolor": "white",
           "linecolor": "white",
           "showgrid": true,
           "tickcolor": "rgb(51,51,51)",
           "ticks": "outside",
           "title": {
            "standoff": 15
           },
           "zerolinecolor": "white"
          },
          "yaxis": {
           "automargin": true,
           "gridcolor": "white",
           "linecolor": "white",
           "showgrid": true,
           "tickcolor": "rgb(51,51,51)",
           "ticks": "outside",
           "title": {
            "standoff": 15
           },
           "zerolinecolor": "white"
          }
         }
        },
        "width": 1000,
        "xaxis": {
         "anchor": "y",
         "domain": [
          0,
          1
         ],
         "title": {
          "text": "Model"
         }
        },
        "yaxis": {
         "anchor": "x",
         "domain": [
          0,
          1
         ],
         "title": {
          "text": "Forces RMSE [eV/Å]"
         }
        }
       }
      }
     },
     "metadata": {},
     "output_type": "display_data"
    }
   ],
   "source": [
    "fig = px.box(results,x='Model',y='Delta F sum', points=\"all\")\n",
    "fig.update_layout(\n",
    "    yaxis={'title':'Forces RMSE [eV/Å]'},\n",
    "        font_family=\"Serif\",font_size=20,\n",
    "        template='ggplot2',\n",
    "        width=1000,\n",
    "        height=600\n",
    ")"
   ]
  },
  {
   "cell_type": "code",
   "execution_count": 49,
   "metadata": {},
   "outputs": [],
   "source": [
    "fig.write_image('/Users/dominicwelti/Library/CloudStorage/Dropbox/Apps/Overleaf/Master Thesis - MLIP evaluation/graphs/appendix/splitEvalF.pdf',format='pdf',scale=5)"
   ]
  }
 ],
 "metadata": {
  "kernelspec": {
   "display_name": "base",
   "language": "python",
   "name": "python3"
  },
  "language_info": {
   "codemirror_mode": {
    "name": "ipython",
    "version": 3
   },
   "file_extension": ".py",
   "mimetype": "text/x-python",
   "name": "python",
   "nbconvert_exporter": "python",
   "pygments_lexer": "ipython3",
   "version": "3.12.5"
  }
 },
 "nbformat": 4,
 "nbformat_minor": 2
}
