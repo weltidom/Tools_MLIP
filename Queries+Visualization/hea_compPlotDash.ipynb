{
 "cells": [
  {
   "cell_type": "code",
   "execution_count": 1,
   "metadata": {},
   "outputs": [],
   "source": [
    "import numpy as np\n",
    "import pandas as pd\n",
    "import plotly.graph_objects as go\n",
    "from dash import Dash,dcc,html\n",
    "from dash.dependencies import Input, Output, State\n",
    "import io\n",
    "\n",
    "#import data\n",
    "df = pd.read_csv('/Users/dominicwelti/Library/CloudStorage/Dropbox/Master_Thesis/data_npj/Graph_data.csv')"
   ]
  },
  {
   "cell_type": "code",
   "execution_count": 2,
   "metadata": {},
   "outputs": [
    {
     "name": "stderr",
     "output_type": "stream",
     "text": [
      "/var/folders/22/kgbcd6856bb9_kzpfp_36k600000gn/T/ipykernel_72712/1133479168.py:5: FutureWarning: Setting an item of incompatible dtype is deprecated and will raise an error in a future version of pandas. Value '0.07976590315941998' has dtype incompatible with int64, please explicitly cast to a compatible dtype first.\n",
      "  df.loc[i,'Normalized error']=(1/2)*( error_f/max(df['Error_F']) + error_e/max(df['Error_E']) )\n"
     ]
    }
   ],
   "source": [
    "def calculate_rel_e(df:pd.DataFrame):\n",
    "    '''Calculate normalized error. Returns dataframe with new column [\"Normalized error\"].'''\n",
    "    df['Normalized error']=0\n",
    "    for (i, error_e, error_f) in zip(df.index, df['Error_E'],df['Error_F']):\n",
    "        df.loc[i,'Normalized error']=(1/2)*( error_f/max(df['Error_F']) + error_e/max(df['Error_E']) )\n",
    "    return df\n",
    "\n",
    "df=calculate_rel_e(df)"
   ]
  },
  {
   "cell_type": "code",
   "execution_count": 3,
   "metadata": {},
   "outputs": [],
   "source": [
    "df['Colour']=''\n",
    "colours=['blue','red','green','purple','orange', 'turquoise', 'black']\n",
    "\n",
    "for i, name in enumerate(df['Type'].unique()):\n",
    "    df.loc[(df['Type']==name),['Colour']]=colours[i]"
   ]
  },
  {
   "cell_type": "code",
   "execution_count": 11,
   "metadata": {},
   "outputs": [],
   "source": [
    "def buildPlot(df):\n",
    "    fig = go.Figure(data=[])\n",
    "    i=0 # index for trace\n",
    "    traces=[] \n",
    "    for engine in df['Engine'].unique():\n",
    "        for suite in df['MD Suite'].unique():\n",
    "            for kind in df['Type'].unique():\n",
    "                subset=df.query('Type==@kind & Engine==@engine & `MD Suite`==@suite')\n",
    "                if len(subset)>=1:\n",
    "                    i+=1\n",
    "                    fig.add_trace(go.Scatter(\n",
    "                        x=subset['Cost'],\n",
    "                        y=subset['Normalized error'],\n",
    "                        mode='markers',\n",
    "                        name=kind,\n",
    "                        text=subset['Model']+'<br>'+'Engine: '+subset['MD Suite']+'-'+subset['Engine'],\n",
    "                        #textposition=\"center bottom\",\n",
    "                        hovertemplate=\"%{text}\"+\"<br>Computational cost: %{x} μs\"+\"<br>Normalized error: %{y}\",\n",
    "                        legendgroup=kind,\n",
    "                        marker={'color':subset['Colour']},\n",
    "                        #legendgrouptitle=kind,\n",
    "                        #yaxis=subset['y axes'].unique()[0],\n",
    "                    ))\n",
    "                    trace={\n",
    "                        'Trace': i,\n",
    "                        'Type': kind,\n",
    "                        'Engine': engine,\n",
    "                        'MD Suite': suite,\n",
    "                    }\n",
    "                    traces.append(trace)\n",
    "\n",
    "    traces=pd.DataFrame(traces) # convert list of dictionaries to DataFrame\n",
    "\n",
    "    # Add annotation\n",
    "    fig.update_xaxes(title_text='Computational cost of inference [<i>μs/atom/step</i>]',type=\"log\",minor_ticks='inside')\n",
    "    fig.update_layout(yaxis={'title':'Normalized error'},\n",
    "                      title={'text':'Interactive graph for comparing the performance <br> between different machine learning interatomic potentials.'},\n",
    "                      legend={'title':'Model'},\n",
    "                    font_family=\"Serif\",font_size=18,\n",
    "                    template='ggplot2',\n",
    "                    width=1000,\n",
    "                    height=600) #,'position':0\n",
    "\n",
    "    names=set()\n",
    "    fig.for_each_trace(\n",
    "        lambda trace:\n",
    "            trace.update(showlegend=False)\n",
    "            if (trace.name in names) else names.add(trace.name))\n",
    "    \n",
    "    return fig"
   ]
  },
  {
   "cell_type": "code",
   "execution_count": 12,
   "metadata": {},
   "outputs": [
    {
     "data": {
      "application/vnd.plotly.v1+json": {
       "config": {
        "plotlyServerURL": "https://plotly.com"
       },
       "data": [
        {
         "hovertemplate": "%{text}<br>Computational cost: %{x} μs<br>Normalized error: %{y}",
         "legendgroup": "GM-NN",
         "marker": {
          "color": [
           "blue",
           "blue",
           "blue",
           "blue",
           "blue"
          ]
         },
         "mode": "markers",
         "name": "GM-NN",
         "text": [
          "593-512-512-1<br>Engine: LAMMPS-CPU",
          "593-128-128-1<br>Engine: LAMMPS-CPU",
          "593-32-32-1<br>Engine: LAMMPS-CPU",
          "360-512-512-1<br>Engine: LAMMPS-CPU",
          "910-512-512-1<br>Engine: LAMMPS-CPU"
         ],
         "type": "scatter",
         "x": [
          43.81,
          40.42,
          37.54,
          44.25,
          50.04
         ],
         "y": [
          0.07976590315941998,
          0.08449816507850838,
          0.08864026178780551,
          0.09512265833263436,
          0.07621397165991411
         ]
        },
        {
         "hovertemplate": "%{text}<br>Computational cost: %{x} μs<br>Normalized error: %{y}",
         "legendgroup": "MTP",
         "marker": {
          "color": [
           "red",
           "red",
           "red",
           "red",
           "red"
          ]
         },
         "mode": "markers",
         "name": "MTP",
         "text": [
          "lev16<br>Engine: LAMMPS-CPU",
          "lev20<br>Engine: LAMMPS-CPU",
          "lev24<br>Engine: LAMMPS-CPU",
          "lev26<br>Engine: LAMMPS-CPU",
          "lev28<br>Engine: LAMMPS-CPU"
         ],
         "type": "scatter",
         "x": [
          3.45,
          7.69,
          17.57,
          25.1,
          43.78
         ],
         "y": [
          0.1269851978542541,
          0.11819380271828517,
          0.09702777970244977,
          0.09906752681270672,
          0.09132183635587873
         ]
        },
        {
         "hovertemplate": "%{text}<br>Computational cost: %{x} μs<br>Normalized error: %{y}",
         "legendgroup": "Classical",
         "marker": {
          "color": [
           "green",
           "green"
          ]
         },
         "mode": "markers",
         "name": "Classical",
         "text": [
          " EAM<br>Engine: LAMMPS-CPU",
          " MEAM<br>Engine: LAMMPS-CPU"
         ],
         "type": "scatter",
         "x": [
          0.5,
          6.2
         ],
         "y": [
          1,
          0.9389893162471084
         ]
        },
        {
         "hovertemplate": "%{text}<br>Computational cost: %{x} μs<br>Normalized error: %{y}",
         "legendgroup": "MACE",
         "marker": {
          "color": [
           "purple"
          ]
         },
         "mode": "markers",
         "name": "MACE",
         "text": [
          "Standard<br>Engine: LAMMPS-CPU"
         ],
         "type": "scatter",
         "x": [
          151.9
         ],
         "y": [
          0.08998499971433815
         ]
        },
        {
         "hovertemplate": "%{text}<br>Computational cost: %{x} μs<br>Normalized error: %{y}",
         "legendgroup": "NequIP",
         "marker": {
          "color": [
           "orange"
          ]
         },
         "mode": "markers",
         "name": "NequIP",
         "text": [
          "Standard<br>Engine: LAMMPS-CPU"
         ],
         "type": "scatter",
         "x": [
          7.077083333
         ],
         "y": [
          0.14343931995463446
         ]
        },
        {
         "hovertemplate": "%{text}<br>Computational cost: %{x} μs<br>Normalized error: %{y}",
         "legendgroup": "Allegro",
         "marker": {
          "color": [
           "turquoise"
          ]
         },
         "mode": "markers",
         "name": "Allegro",
         "text": [
          "Standard<br>Engine: LAMMPS-CPU"
         ],
         "type": "scatter",
         "x": [
          23.32152778
         ],
         "y": [
          0.12851774324713638
         ]
        },
        {
         "hovertemplate": "%{text}<br>Computational cost: %{x} μs<br>Normalized error: %{y}",
         "legendgroup": "MACE",
         "marker": {
          "color": [
           "purple"
          ]
         },
         "mode": "markers",
         "name": "MACE",
         "showlegend": false,
         "text": [
          "Standard<br>Engine: ASE-CPU"
         ],
         "type": "scatter",
         "x": [
          7.465
         ],
         "y": [
          0.08998499971433815
         ]
        },
        {
         "hovertemplate": "%{text}<br>Computational cost: %{x} μs<br>Normalized error: %{y}",
         "legendgroup": "NequIP",
         "marker": {
          "color": [
           "orange"
          ]
         },
         "mode": "markers",
         "name": "NequIP",
         "showlegend": false,
         "text": [
          "Standard<br>Engine: ASE-CPU"
         ],
         "type": "scatter",
         "x": [
          8.190740741
         ],
         "y": [
          0.14343931995463446
         ]
        },
        {
         "hovertemplate": "%{text}<br>Computational cost: %{x} μs<br>Normalized error: %{y}",
         "legendgroup": "Allegro",
         "marker": {
          "color": [
           "turquoise"
          ]
         },
         "mode": "markers",
         "name": "Allegro",
         "showlegend": false,
         "text": [
          "Standard<br>Engine: ASE-CPU"
         ],
         "type": "scatter",
         "x": [
          23.71134259
         ],
         "y": [
          0.12851774324713638
         ]
        },
        {
         "hovertemplate": "%{text}<br>Computational cost: %{x} μs<br>Normalized error: %{y}",
         "legendgroup": "GM-NN",
         "marker": {
          "color": [
           "blue",
           "blue",
           "blue",
           "blue",
           "blue"
          ]
         },
         "mode": "markers",
         "name": "GM-NN",
         "showlegend": false,
         "text": [
          "593-512-512-1<br>Engine: LAMMPS-GPU",
          "593-128-128-1<br>Engine: LAMMPS-GPU",
          "593-32-32-1<br>Engine: LAMMPS-GPU",
          "360-512-512-1<br>Engine: LAMMPS-GPU",
          "910-512-512-1<br>Engine: LAMMPS-GPU"
         ],
         "type": "scatter",
         "x": [
          7.25,
          7.47,
          7.28,
          7.3,
          7.23
         ],
         "y": [
          0.07976590315941998,
          0.08449816507850838,
          0.08864026178780551,
          0.09512265833263436,
          0.07621397165991411
         ]
        },
        {
         "hovertemplate": "%{text}<br>Computational cost: %{x} μs<br>Normalized error: %{y}",
         "legendgroup": "MACE",
         "marker": {
          "color": [
           "purple"
          ]
         },
         "mode": "markers",
         "name": "MACE",
         "showlegend": false,
         "text": [
          "Standard<br>Engine: LAMMPS-GPU"
         ],
         "type": "scatter",
         "x": [
          2.639351852
         ],
         "y": [
          0.08998499971433815
         ]
        },
        {
         "hovertemplate": "%{text}<br>Computational cost: %{x} μs<br>Normalized error: %{y}",
         "legendgroup": "NequIP",
         "marker": {
          "color": [
           "orange"
          ]
         },
         "mode": "markers",
         "name": "NequIP",
         "showlegend": false,
         "text": [
          "Standard<br>Engine: LAMMPS-GPU"
         ],
         "type": "scatter",
         "x": [
          0.121759259
         ],
         "y": [
          0.14343931995463446
         ]
        },
        {
         "hovertemplate": "%{text}<br>Computational cost: %{x} μs<br>Normalized error: %{y}",
         "legendgroup": "Allegro",
         "marker": {
          "color": [
           "turquoise"
          ]
         },
         "mode": "markers",
         "name": "Allegro",
         "showlegend": false,
         "text": [
          "Standard<br>Engine: LAMMPS-GPU"
         ],
         "type": "scatter",
         "x": [
          0.371296296
         ],
         "y": [
          0.12851774324713638
         ]
        },
        {
         "hovertemplate": "%{text}<br>Computational cost: %{x} μs<br>Normalized error: %{y}",
         "legendgroup": "MACE",
         "marker": {
          "color": [
           "purple"
          ]
         },
         "mode": "markers",
         "name": "MACE",
         "showlegend": false,
         "text": [
          "Standard<br>Engine: ASE-GPU"
         ],
         "type": "scatter",
         "x": [
          0.1759
         ],
         "y": [
          0.08998499971433815
         ]
        },
        {
         "hovertemplate": "%{text}<br>Computational cost: %{x} μs<br>Normalized error: %{y}",
         "legendgroup": "NequIP",
         "marker": {
          "color": [
           "orange"
          ]
         },
         "mode": "markers",
         "name": "NequIP",
         "showlegend": false,
         "text": [
          "Standard<br>Engine: ASE-GPU"
         ],
         "type": "scatter",
         "x": [
          0.160185185
         ],
         "y": [
          0.14343931995463446
         ]
        },
        {
         "hovertemplate": "%{text}<br>Computational cost: %{x} μs<br>Normalized error: %{y}",
         "legendgroup": "Allegro",
         "marker": {
          "color": [
           "turquoise"
          ]
         },
         "mode": "markers",
         "name": "Allegro",
         "showlegend": false,
         "text": [
          "Standard<br>Engine: ASE-GPU"
         ],
         "type": "scatter",
         "x": [
          0.389583333
         ],
         "y": [
          0.12851774324713638
         ]
        }
       ],
       "layout": {
        "font": {
         "family": "Serif",
         "size": 18
        },
        "height": 600,
        "legend": {
         "title": {
          "text": "Model"
         }
        },
        "template": {
         "data": {
          "bar": [
           {
            "error_x": {
             "color": "rgb(51,51,51)"
            },
            "error_y": {
             "color": "rgb(51,51,51)"
            },
            "marker": {
             "line": {
              "color": "rgb(237,237,237)",
              "width": 0.5
             },
             "pattern": {
              "fillmode": "overlay",
              "size": 10,
              "solidity": 0.2
             }
            },
            "type": "bar"
           }
          ],
          "barpolar": [
           {
            "marker": {
             "line": {
              "color": "rgb(237,237,237)",
              "width": 0.5
             },
             "pattern": {
              "fillmode": "overlay",
              "size": 10,
              "solidity": 0.2
             }
            },
            "type": "barpolar"
           }
          ],
          "carpet": [
           {
            "aaxis": {
             "endlinecolor": "rgb(51,51,51)",
             "gridcolor": "white",
             "linecolor": "white",
             "minorgridcolor": "white",
             "startlinecolor": "rgb(51,51,51)"
            },
            "baxis": {
             "endlinecolor": "rgb(51,51,51)",
             "gridcolor": "white",
             "linecolor": "white",
             "minorgridcolor": "white",
             "startlinecolor": "rgb(51,51,51)"
            },
            "type": "carpet"
           }
          ],
          "choropleth": [
           {
            "colorbar": {
             "outlinewidth": 0,
             "tickcolor": "rgb(237,237,237)",
             "ticklen": 6,
             "ticks": "inside"
            },
            "type": "choropleth"
           }
          ],
          "contour": [
           {
            "colorbar": {
             "outlinewidth": 0,
             "tickcolor": "rgb(237,237,237)",
             "ticklen": 6,
             "ticks": "inside"
            },
            "colorscale": [
             [
              0,
              "rgb(20,44,66)"
             ],
             [
              1,
              "rgb(90,179,244)"
             ]
            ],
            "type": "contour"
           }
          ],
          "contourcarpet": [
           {
            "colorbar": {
             "outlinewidth": 0,
             "tickcolor": "rgb(237,237,237)",
             "ticklen": 6,
             "ticks": "inside"
            },
            "type": "contourcarpet"
           }
          ],
          "heatmap": [
           {
            "colorbar": {
             "outlinewidth": 0,
             "tickcolor": "rgb(237,237,237)",
             "ticklen": 6,
             "ticks": "inside"
            },
            "colorscale": [
             [
              0,
              "rgb(20,44,66)"
             ],
             [
              1,
              "rgb(90,179,244)"
             ]
            ],
            "type": "heatmap"
           }
          ],
          "heatmapgl": [
           {
            "colorbar": {
             "outlinewidth": 0,
             "tickcolor": "rgb(237,237,237)",
             "ticklen": 6,
             "ticks": "inside"
            },
            "colorscale": [
             [
              0,
              "rgb(20,44,66)"
             ],
             [
              1,
              "rgb(90,179,244)"
             ]
            ],
            "type": "heatmapgl"
           }
          ],
          "histogram": [
           {
            "marker": {
             "pattern": {
              "fillmode": "overlay",
              "size": 10,
              "solidity": 0.2
             }
            },
            "type": "histogram"
           }
          ],
          "histogram2d": [
           {
            "colorbar": {
             "outlinewidth": 0,
             "tickcolor": "rgb(237,237,237)",
             "ticklen": 6,
             "ticks": "inside"
            },
            "colorscale": [
             [
              0,
              "rgb(20,44,66)"
             ],
             [
              1,
              "rgb(90,179,244)"
             ]
            ],
            "type": "histogram2d"
           }
          ],
          "histogram2dcontour": [
           {
            "colorbar": {
             "outlinewidth": 0,
             "tickcolor": "rgb(237,237,237)",
             "ticklen": 6,
             "ticks": "inside"
            },
            "colorscale": [
             [
              0,
              "rgb(20,44,66)"
             ],
             [
              1,
              "rgb(90,179,244)"
             ]
            ],
            "type": "histogram2dcontour"
           }
          ],
          "mesh3d": [
           {
            "colorbar": {
             "outlinewidth": 0,
             "tickcolor": "rgb(237,237,237)",
             "ticklen": 6,
             "ticks": "inside"
            },
            "type": "mesh3d"
           }
          ],
          "parcoords": [
           {
            "line": {
             "colorbar": {
              "outlinewidth": 0,
              "tickcolor": "rgb(237,237,237)",
              "ticklen": 6,
              "ticks": "inside"
             }
            },
            "type": "parcoords"
           }
          ],
          "pie": [
           {
            "automargin": true,
            "type": "pie"
           }
          ],
          "scatter": [
           {
            "fillpattern": {
             "fillmode": "overlay",
             "size": 10,
             "solidity": 0.2
            },
            "type": "scatter"
           }
          ],
          "scatter3d": [
           {
            "line": {
             "colorbar": {
              "outlinewidth": 0,
              "tickcolor": "rgb(237,237,237)",
              "ticklen": 6,
              "ticks": "inside"
             }
            },
            "marker": {
             "colorbar": {
              "outlinewidth": 0,
              "tickcolor": "rgb(237,237,237)",
              "ticklen": 6,
              "ticks": "inside"
             }
            },
            "type": "scatter3d"
           }
          ],
          "scattercarpet": [
           {
            "marker": {
             "colorbar": {
              "outlinewidth": 0,
              "tickcolor": "rgb(237,237,237)",
              "ticklen": 6,
              "ticks": "inside"
             }
            },
            "type": "scattercarpet"
           }
          ],
          "scattergeo": [
           {
            "marker": {
             "colorbar": {
              "outlinewidth": 0,
              "tickcolor": "rgb(237,237,237)",
              "ticklen": 6,
              "ticks": "inside"
             }
            },
            "type": "scattergeo"
           }
          ],
          "scattergl": [
           {
            "marker": {
             "colorbar": {
              "outlinewidth": 0,
              "tickcolor": "rgb(237,237,237)",
              "ticklen": 6,
              "ticks": "inside"
             }
            },
            "type": "scattergl"
           }
          ],
          "scattermapbox": [
           {
            "marker": {
             "colorbar": {
              "outlinewidth": 0,
              "tickcolor": "rgb(237,237,237)",
              "ticklen": 6,
              "ticks": "inside"
             }
            },
            "type": "scattermapbox"
           }
          ],
          "scatterpolar": [
           {
            "marker": {
             "colorbar": {
              "outlinewidth": 0,
              "tickcolor": "rgb(237,237,237)",
              "ticklen": 6,
              "ticks": "inside"
             }
            },
            "type": "scatterpolar"
           }
          ],
          "scatterpolargl": [
           {
            "marker": {
             "colorbar": {
              "outlinewidth": 0,
              "tickcolor": "rgb(237,237,237)",
              "ticklen": 6,
              "ticks": "inside"
             }
            },
            "type": "scatterpolargl"
           }
          ],
          "scatterternary": [
           {
            "marker": {
             "colorbar": {
              "outlinewidth": 0,
              "tickcolor": "rgb(237,237,237)",
              "ticklen": 6,
              "ticks": "inside"
             }
            },
            "type": "scatterternary"
           }
          ],
          "surface": [
           {
            "colorbar": {
             "outlinewidth": 0,
             "tickcolor": "rgb(237,237,237)",
             "ticklen": 6,
             "ticks": "inside"
            },
            "colorscale": [
             [
              0,
              "rgb(20,44,66)"
             ],
             [
              1,
              "rgb(90,179,244)"
             ]
            ],
            "type": "surface"
           }
          ],
          "table": [
           {
            "cells": {
             "fill": {
              "color": "rgb(237,237,237)"
             },
             "line": {
              "color": "white"
             }
            },
            "header": {
             "fill": {
              "color": "rgb(217,217,217)"
             },
             "line": {
              "color": "white"
             }
            },
            "type": "table"
           }
          ]
         },
         "layout": {
          "annotationdefaults": {
           "arrowhead": 0,
           "arrowwidth": 1
          },
          "autotypenumbers": "strict",
          "coloraxis": {
           "colorbar": {
            "outlinewidth": 0,
            "tickcolor": "rgb(237,237,237)",
            "ticklen": 6,
            "ticks": "inside"
           }
          },
          "colorscale": {
           "sequential": [
            [
             0,
             "rgb(20,44,66)"
            ],
            [
             1,
             "rgb(90,179,244)"
            ]
           ],
           "sequentialminus": [
            [
             0,
             "rgb(20,44,66)"
            ],
            [
             1,
             "rgb(90,179,244)"
            ]
           ]
          },
          "colorway": [
           "#F8766D",
           "#A3A500",
           "#00BF7D",
           "#00B0F6",
           "#E76BF3"
          ],
          "font": {
           "color": "rgb(51,51,51)"
          },
          "geo": {
           "bgcolor": "white",
           "lakecolor": "white",
           "landcolor": "rgb(237,237,237)",
           "showlakes": true,
           "showland": true,
           "subunitcolor": "white"
          },
          "hoverlabel": {
           "align": "left"
          },
          "hovermode": "closest",
          "paper_bgcolor": "white",
          "plot_bgcolor": "rgb(237,237,237)",
          "polar": {
           "angularaxis": {
            "gridcolor": "white",
            "linecolor": "white",
            "showgrid": true,
            "tickcolor": "rgb(51,51,51)",
            "ticks": "outside"
           },
           "bgcolor": "rgb(237,237,237)",
           "radialaxis": {
            "gridcolor": "white",
            "linecolor": "white",
            "showgrid": true,
            "tickcolor": "rgb(51,51,51)",
            "ticks": "outside"
           }
          },
          "scene": {
           "xaxis": {
            "backgroundcolor": "rgb(237,237,237)",
            "gridcolor": "white",
            "gridwidth": 2,
            "linecolor": "white",
            "showbackground": true,
            "showgrid": true,
            "tickcolor": "rgb(51,51,51)",
            "ticks": "outside",
            "zerolinecolor": "white"
           },
           "yaxis": {
            "backgroundcolor": "rgb(237,237,237)",
            "gridcolor": "white",
            "gridwidth": 2,
            "linecolor": "white",
            "showbackground": true,
            "showgrid": true,
            "tickcolor": "rgb(51,51,51)",
            "ticks": "outside",
            "zerolinecolor": "white"
           },
           "zaxis": {
            "backgroundcolor": "rgb(237,237,237)",
            "gridcolor": "white",
            "gridwidth": 2,
            "linecolor": "white",
            "showbackground": true,
            "showgrid": true,
            "tickcolor": "rgb(51,51,51)",
            "ticks": "outside",
            "zerolinecolor": "white"
           }
          },
          "shapedefaults": {
           "fillcolor": "black",
           "line": {
            "width": 0
           },
           "opacity": 0.3
          },
          "ternary": {
           "aaxis": {
            "gridcolor": "white",
            "linecolor": "white",
            "showgrid": true,
            "tickcolor": "rgb(51,51,51)",
            "ticks": "outside"
           },
           "baxis": {
            "gridcolor": "white",
            "linecolor": "white",
            "showgrid": true,
            "tickcolor": "rgb(51,51,51)",
            "ticks": "outside"
           },
           "bgcolor": "rgb(237,237,237)",
           "caxis": {
            "gridcolor": "white",
            "linecolor": "white",
            "showgrid": true,
            "tickcolor": "rgb(51,51,51)",
            "ticks": "outside"
           }
          },
          "xaxis": {
           "automargin": true,
           "gridcolor": "white",
           "linecolor": "white",
           "showgrid": true,
           "tickcolor": "rgb(51,51,51)",
           "ticks": "outside",
           "title": {
            "standoff": 15
           },
           "zerolinecolor": "white"
          },
          "yaxis": {
           "automargin": true,
           "gridcolor": "white",
           "linecolor": "white",
           "showgrid": true,
           "tickcolor": "rgb(51,51,51)",
           "ticks": "outside",
           "title": {
            "standoff": 15
           },
           "zerolinecolor": "white"
          }
         }
        },
        "title": {
         "text": "Interactive graph for comparing the performance <br> between different machine learning interatomic potentials."
        },
        "width": 1000,
        "xaxis": {
         "minor": {
          "ticks": "inside"
         },
         "title": {
          "text": "Computational cost of inference [<i>μs/atom/step</i>]"
         },
         "type": "log"
        },
        "yaxis": {
         "title": {
          "text": "Normalized error"
         }
        }
       }
      }
     },
     "metadata": {},
     "output_type": "display_data"
    }
   ],
   "source": [
    "fig = buildPlot(df)\n",
    "fig.show()"
   ]
  },
  {
   "cell_type": "code",
   "execution_count": 13,
   "metadata": {},
   "outputs": [
    {
     "data": {
      "text/html": [
       "\n",
       "        <iframe\n",
       "            width=\"100%\"\n",
       "            height=\"650\"\n",
       "            src=\"http://127.0.0.1:8050/\"\n",
       "            frameborder=\"0\"\n",
       "            allowfullscreen\n",
       "            \n",
       "        ></iframe>\n",
       "        "
      ],
      "text/plain": [
       "<IPython.lib.display.IFrame at 0x179c6b4a0>"
      ]
     },
     "metadata": {},
     "output_type": "display_data"
    }
   ],
   "source": [
    "app = Dash(__name__)\n",
    "\n",
    "app.layout = html.Div(\n",
    "    [\n",
    "        dcc.Dropdown(\n",
    "            id=\"md\",\n",
    "            options=[{\"label\": x, \"value\": x} for x in df[\"MD Suite\"].unique()]+[{'label': 'All MD suites', 'value': 'all_values'}],\n",
    "            value='all_values',\n",
    "        ),\n",
    "        dcc.Dropdown(\n",
    "            id=\"engine\",\n",
    "            options=[{\"label\": x, \"value\": x} for x in df[\"Engine\"].unique()]+[{'label': 'All engines', 'value': 'all_values'}],\n",
    "            value='all_values',\n",
    "        ),\n",
    "        dcc.Graph(id=\"graph1\"),\n",
    "    ]\n",
    ")\n",
    "\n",
    "@app.callback(\n",
    "    Output(\"graph1\", \"figure\"),\n",
    "    Input(\"md\", \"value\"),\n",
    "    Input(\"engine\", \"value\"),\n",
    ")\n",
    "def update_graph1(md, engine):\n",
    "    #print(md, engine)\n",
    "    if ('all' in engine) and ('all' in md):\n",
    "        return buildPlot(df)\n",
    "    elif 'all' in engine:\n",
    "        return buildPlot(df.query('`MD Suite`==@md'))\n",
    "    elif 'all' in md:\n",
    "        return buildPlot(df.query('`Engine`==@engine'))\n",
    "    else:\n",
    "        return buildPlot(df.query('Engine==@engine & `MD Suite`==@md'))\n",
    "\n",
    "\n",
    "    #return buildPlot(df.loc[df[\"MD Suite\"].eq(md)])\n",
    "\n",
    "\n",
    "# Run app and display result inline in the notebook\n",
    "#app.run_server(mode=\"inline\")\n",
    "app.run(mode=\"inline\")"
   ]
  },
  {
   "cell_type": "code",
   "execution_count": 7,
   "metadata": {},
   "outputs": [],
   "source": [
    "import chart_studio\n",
    "chart_studio.tools.set_credentials_file(username='weltidom', api_key='tdBwffRNsNdVvH5BNYTa')"
   ]
  },
  {
   "cell_type": "code",
   "execution_count": 8,
   "metadata": {},
   "outputs": [
    {
     "data": {
      "text/plain": [
       "['Stream',\n",
       " '__builtins__',\n",
       " '__cached__',\n",
       " '__doc__',\n",
       " '__file__',\n",
       " '__loader__',\n",
       " '__name__',\n",
       " '__package__',\n",
       " '__path__',\n",
       " '__spec__',\n",
       " 'chunked_requests',\n",
       " 'create_animations',\n",
       " 'dashboard_ops',\n",
       " 'file_ops',\n",
       " 'get_config',\n",
       " 'get_credentials',\n",
       " 'get_figure',\n",
       " 'get_grid',\n",
       " 'grid_ops',\n",
       " 'icreate_animations',\n",
       " 'image',\n",
       " 'iplot',\n",
       " 'iplot_mpl',\n",
       " 'meta_ops',\n",
       " 'parse_grid_id_args',\n",
       " 'plot',\n",
       " 'plot_mpl',\n",
       " 'plotly',\n",
       " 'presentation_ops',\n",
       " 'sign_in',\n",
       " 'update_plot_options']"
      ]
     },
     "execution_count": 8,
     "metadata": {},
     "output_type": "execute_result"
    }
   ],
   "source": [
    "import chart_studio.plotly as py\n",
    "\n",
    "#py.iplot()\n",
    "dir(py)"
   ]
  }
 ],
 "metadata": {
  "kernelspec": {
   "display_name": "base",
   "language": "python",
   "name": "python3"
  },
  "language_info": {
   "codemirror_mode": {
    "name": "ipython",
    "version": 3
   },
   "file_extension": ".py",
   "mimetype": "text/x-python",
   "name": "python",
   "nbconvert_exporter": "python",
   "pygments_lexer": "ipython3",
   "version": "3.9.19"
  }
 },
 "nbformat": 4,
 "nbformat_minor": 2
}
