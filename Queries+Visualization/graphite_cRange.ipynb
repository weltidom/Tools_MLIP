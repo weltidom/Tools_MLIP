{
 "cells": [
  {
   "cell_type": "code",
   "execution_count": 14,
   "metadata": {},
   "outputs": [],
   "source": [
    "import pandas as pd\n",
    "import numpy as np\n",
    "import plotly.express as px\n",
    "import plotly.graph_objects as go\n",
    "import os\n",
    "import py4vasp as pv"
   ]
  },
  {
   "cell_type": "code",
   "execution_count": 2,
   "metadata": {},
   "outputs": [],
   "source": [
    "data_mace=pd.read_pickle('/Users/dominicwelti/Documents/Master_Thesis_Data_Set/Graphite/MACE/results.pkl')"
   ]
  },
  {
   "cell_type": "code",
   "execution_count": 3,
   "metadata": {},
   "outputs": [],
   "source": [
    "dft_folder='/Users/dominicwelti/Documents/Master_Thesis_Data_Set/Graphite/DFT'\n",
    "files=list(filter(lambda x:'.h5' in x, os.listdir(dft_folder)))\n",
    "\n",
    "data_dft=pd.DataFrame({\n",
    "    'Calculation type': 'DFT',\n",
    "    'Model': '',\n",
    "    'c Factor': [0]*len(files),\n",
    "    'c Parameter': 0,\n",
    "    'Energy': 0\n",
    "})"
   ]
  },
  {
   "cell_type": "code",
   "execution_count": 4,
   "metadata": {},
   "outputs": [
    {
     "name": "stderr",
     "output_type": "stream",
     "text": [
      "/var/folders/22/kgbcd6856bb9_kzpfp_36k600000gn/T/ipykernel_4036/1806797434.py:3: FutureWarning: Setting an item of incompatible dtype is deprecated and will raise an error in a future version of pandas. Value '0.8' has dtype incompatible with int64, please explicitly cast to a compatible dtype first.\n",
      "  data_dft.loc[i, 'c Factor'] = files[i].split('_')[1].split('.h')[0]\n",
      "/var/folders/22/kgbcd6856bb9_kzpfp_36k600000gn/T/ipykernel_4036/1806797434.py:7: FutureWarning: Setting an item of incompatible dtype is deprecated and will raise an error in a future version of pandas. Value '5.331480284600624' has dtype incompatible with int64, please explicitly cast to a compatible dtype first.\n",
      "  data_dft.loc[i, 'c Parameter'] = atoms.get_cell()[2,2]\n",
      "/var/folders/22/kgbcd6856bb9_kzpfp_36k600000gn/T/ipykernel_4036/1806797434.py:8: FutureWarning: Setting an item of incompatible dtype is deprecated and will raise an error in a future version of pandas. Value '-40.091938708129305' has dtype incompatible with int64, please explicitly cast to a compatible dtype first.\n",
      "  data_dft.loc[i, 'Energy'] = calc.energy.read()['energy(sigma->0)']\n"
     ]
    }
   ],
   "source": [
    "for i, row in data_dft.iterrows():\n",
    "    data_dft.loc[i, 'Model'] = files[i].split('_')[0]\n",
    "    data_dft.loc[i, 'c Factor'] = files[i].split('_')[1].split('.h')[0]\n",
    "\n",
    "    calc=pv.Calculation.from_file(f'{dft_folder}/{files[i]}')\n",
    "    atoms=calc.structure.to_ase()\n",
    "    data_dft.loc[i, 'c Parameter'] = atoms.get_cell()[2,2]\n",
    "    data_dft.loc[i, 'Energy'] = calc.energy.read()['energy(sigma->0)']\n"
   ]
  },
  {
   "cell_type": "code",
   "execution_count": 5,
   "metadata": {},
   "outputs": [],
   "source": [
    "def normalize(df:pd.DataFrame):\n",
    "    '''Normalize energy values (delta to lowest value of model)'''\n",
    "    df['Relative energy']=0\n",
    "    df['Energy difference [eV]']=0\n",
    "    for model in df['Model'].unique():\n",
    "        min_e, max_e = np.min(df.loc[df['Model']==model, 'Energy']), np.max(df.loc[df['Model']==model, 'Energy'])\n",
    "        df.loc[df['Model']==model, 'Relative energy'] = (-df.loc[df['Model']==model, 'Energy'] + min_e) / (-max_e+min_e)\n",
    "        df.loc[df['Model']==model, 'Energy difference [eV]'] = df.loc[df['Model']==model, 'Energy'] - min_e\n",
    "    return df"
   ]
  },
  {
   "cell_type": "code",
   "execution_count": 6,
   "metadata": {},
   "outputs": [
    {
     "name": "stderr",
     "output_type": "stream",
     "text": [
      "/var/folders/22/kgbcd6856bb9_kzpfp_36k600000gn/T/ipykernel_4036/3041446304.py:7: FutureWarning: Setting an item of incompatible dtype is deprecated and will raise an error in a future version of pandas. Value '[ 0.47937824  0.06462964  1.          0.12754265  0.01116822  0.05257268\n",
      "  0.10293684  0.1135347   0.08934213  0.07245805  0.03102748  0.13182945\n",
      "  0.12158932 -0.          0.01037473  0.20042502]' has dtype incompatible with int64, please explicitly cast to a compatible dtype first.\n",
      "  df.loc[df['Model']==model, 'Relative energy'] = (-df.loc[df['Model']==model, 'Energy'] + min_e) / (-max_e+min_e)\n",
      "/var/folders/22/kgbcd6856bb9_kzpfp_36k600000gn/T/ipykernel_4036/3041446304.py:8: FutureWarning: Setting an item of incompatible dtype is deprecated and will raise an error in a future version of pandas. Value '[0.34371375 0.04633939 0.71699906 0.09144796 0.00800761 0.03769456\n",
      " 0.07380562 0.08140427 0.06405822 0.05195235 0.02224668 0.09452159\n",
      " 0.08717943 0.         0.00743867 0.14370455]' has dtype incompatible with int64, please explicitly cast to a compatible dtype first.\n",
      "  df.loc[df['Model']==model, 'Energy difference [eV]'] = df.loc[df['Model']==model, 'Energy'] - min_e\n",
      "/var/folders/22/kgbcd6856bb9_kzpfp_36k600000gn/T/ipykernel_4036/3041446304.py:7: FutureWarning: Setting an item of incompatible dtype is deprecated and will raise an error in a future version of pandas. Value '[ 0.87374553  0.2490821   1.          0.54927302  0.8220982   0.2490821\n",
      "  0.28031527  0.26371959  0.88177412  0.42380183  0.24942478  0.30591864\n",
      "  0.25187252  0.30386253  0.81534244 -0.        ]' has dtype incompatible with int64, please explicitly cast to a compatible dtype first.\n",
      "  df.loc[df['Model']==model, 'Relative energy'] = (-df.loc[df['Model']==model, 'Energy'] + min_e) / (-max_e+min_e)\n",
      "/var/folders/22/kgbcd6856bb9_kzpfp_36k600000gn/T/ipykernel_4036/3041446304.py:8: FutureWarning: Setting an item of incompatible dtype is deprecated and will raise an error in a future version of pandas. Value '[8.71484375 2.484375   9.97412109 5.47851562 8.19970703 2.484375\n",
      " 2.79589844 2.63037109 8.79492188 4.22705078 2.48779297 3.05126953\n",
      " 2.51220703 3.03076172 8.13232422 0.        ]' has dtype incompatible with int64, please explicitly cast to a compatible dtype first.\n",
      "  df.loc[df['Model']==model, 'Energy difference [eV]'] = df.loc[df['Model']==model, 'Energy'] - min_e\n"
     ]
    }
   ],
   "source": [
    "data_dft=normalize(data_dft)\n",
    "data_mace=normalize(data_mace)"
   ]
  },
  {
   "cell_type": "code",
   "execution_count": 7,
   "metadata": {},
   "outputs": [],
   "source": [
    "df=pd.concat([data_mace, data_dft])\n",
    "df['c Factor']=df['c Factor'].astype(float)\n",
    "df=df.sort_values('c Factor').reset_index(drop=True)"
   ]
  },
  {
   "cell_type": "code",
   "execution_count": 36,
   "metadata": {},
   "outputs": [],
   "source": [
    "plot=px.line(df, x='c Factor', y='Relative energy', color='Model', markers=True, template='ggplot2', \n",
    "             title='Graphite: relative energy in relation to c factor (multiplier of relaxed c lattice parameter determined with DFT-PBE-D3BF). Model ANI-1ccx: MACE model trained on ANI-1ccx dataset (organic molecules CCSD(T) level). Model s66x8: MACE model trained on s66x8 dataset (organic dimer molecules CCSD(T) level). Model ANI-1ccx+s66x8: trained on both.')"
   ]
  },
  {
   "cell_type": "code",
   "execution_count": 37,
   "metadata": {},
   "outputs": [
    {
     "data": {
      "application/vnd.plotly.v1+json": {
       "config": {
        "plotlyServerURL": "https://plot.ly"
       },
       "data": [
        {
         "hovertemplate": "Model=LDA<br>c Factor=%{x}<br>Relative energy=%{y}<extra></extra>",
         "legendgroup": "LDA",
         "line": {
          "color": "#F8766D",
          "dash": "solid"
         },
         "marker": {
          "symbol": "circle"
         },
         "mode": "lines+markers",
         "name": "LDA",
         "orientation": "v",
         "showlegend": true,
         "type": "scatter",
         "x": [
          0.75,
          0.8,
          0.85,
          0.9,
          0.95,
          1,
          1.05,
          1.1,
          1.15,
          1.2,
          1.25,
          1.3,
          1.35,
          1.4,
          1.4500000000000002,
          1.5
         ],
         "xaxis": "x",
         "y": [
          1,
          0.4793782393281736,
          0.20042501852549605,
          0.06462963760926206,
          0.010374725575589681,
          0,
          0.011168223021899657,
          0.03102748319504665,
          0.05257267874502973,
          0.07245804640090628,
          0.08934212635074287,
          0.10293683877116852,
          0.11353470193569029,
          0.12158932283344244,
          0.12754265138168033,
          0.1318294527295567
         ],
         "yaxis": "y"
        },
        {
         "hovertemplate": "Model=PBE-D3BF<br>c Factor=%{x}<br>Relative energy=%{y}<extra></extra>",
         "legendgroup": "PBE-D3BF",
         "line": {
          "color": "#A3A500",
          "dash": "solid"
         },
         "marker": {
          "symbol": "circle"
         },
         "mode": "lines+markers",
         "name": "PBE-D3BF",
         "orientation": "v",
         "showlegend": true,
         "type": "scatter",
         "x": [
          0.75,
          0.8,
          0.85,
          0.9,
          0.95,
          1,
          1.05,
          1.1,
          1.15,
          1.2,
          1.25,
          1.3,
          1.35,
          1.4,
          1.4500000000000002,
          1.5
         ],
         "xaxis": "x",
         "y": [
          1,
          0.49652320570454034,
          0.22078865179159304,
          0.07987295809312205,
          0.017711043280589485,
          0,
          0.006075383606012258,
          0.02376440777295143,
          0.04607935036938557,
          0.06928997608070124,
          0.09145515926050107,
          0.1116815052770519,
          0.12971482170086102,
          0.1455547849927657,
          0.15930577987827413,
          0.17113858083898703
         ],
         "yaxis": "y"
        },
        {
         "hovertemplate": "Model=PBE<br>c Factor=%{x}<br>Relative energy=%{y}<extra></extra>",
         "legendgroup": "PBE",
         "line": {
          "color": "#00BF7D",
          "dash": "solid"
         },
         "marker": {
          "symbol": "circle"
         },
         "mode": "lines+markers",
         "name": "PBE",
         "orientation": "v",
         "showlegend": true,
         "type": "scatter",
         "x": [
          0.75,
          0.8,
          0.85,
          0.9,
          0.95,
          1,
          1.05,
          1.1,
          1.15,
          1.2,
          1.25,
          1.3,
          1.35,
          1.4,
          1.4500000000000002,
          1.5
         ],
         "xaxis": "x",
         "y": [
          1,
          0.5853882601016192,
          0.336732307784714,
          0.19010677130236822,
          0.10512911974240942,
          0.05666222170760281,
          0.029466833506722395,
          0.014492057201868311,
          0.006463887782155989,
          0.002403876464343513,
          0.0005845425595173532,
          0,
          0.00011440303768900418,
          0.0006006291692837876,
          0.0012332330266262277,
          0.00187067861113001
         ],
         "yaxis": "y"
        },
        {
         "hovertemplate": "Model=ANI-1ccx<br>c Factor=%{x}<br>Relative energy=%{y}<extra></extra>",
         "legendgroup": "ANI-1ccx",
         "line": {
          "color": "#00B0F6",
          "dash": "solid"
         },
         "marker": {
          "symbol": "circle"
         },
         "mode": "lines+markers",
         "name": "ANI-1ccx",
         "orientation": "v",
         "showlegend": true,
         "type": "scatter",
         "x": [
          0.75,
          0.8,
          0.85,
          0.9,
          0.95,
          1,
          1.05,
          1.1,
          1.15,
          1.2,
          1.25,
          1.3,
          1.35,
          1.4,
          1.45,
          1.5
         ],
         "xaxis": "x",
         "y": [
          0.8817741224849464,
          1,
          0.8153424389288687,
          0.873745532873158,
          0.8220982033583003,
          0.30386253488030546,
          0,
          0.28031526900670684,
          0.5492730210016155,
          0.42380183091007,
          0.3059186370979586,
          0.26371958682136387,
          0.2518725216625055,
          0.2494247809272042,
          0.249082097224262,
          0.249082097224262
         ],
         "yaxis": "y"
        },
        {
         "hovertemplate": "Model=s66x8<br>c Factor=%{x}<br>Relative energy=%{y}<extra></extra>",
         "legendgroup": "s66x8",
         "line": {
          "color": "#E76BF3",
          "dash": "solid"
         },
         "marker": {
          "symbol": "circle"
         },
         "mode": "lines+markers",
         "name": "s66x8",
         "orientation": "v",
         "showlegend": true,
         "type": "scatter",
         "x": [
          0.75,
          0.8,
          0.85,
          0.9,
          0.95,
          1,
          1.05,
          1.1,
          1.15,
          1.2,
          1.25,
          1.3,
          1.35,
          1.4,
          1.45,
          1.5
         ],
         "xaxis": "x",
         "y": [
          1,
          0.252686271790306,
          0.07438791777957733,
          0.026912677711512678,
          0.013699426878973483,
          0.01179051479481432,
          0.013851543310679915,
          0.01534288087642926,
          0.013875404711731905,
          0.010000909715915107,
          0.005640238673664023,
          0.0023413999782264717,
          0.0006203964273517275,
          0.00008351490368196331,
          0.0000029826751314986897,
          0
         ],
         "yaxis": "y"
        },
        {
         "hovertemplate": "Model=ANI-1ccx+s66x8<br>c Factor=%{x}<br>Relative energy=%{y}<extra></extra>",
         "legendgroup": "ANI-1ccx+s66x8",
         "line": {
          "color": "#F8766D",
          "dash": "solid"
         },
         "marker": {
          "symbol": "circle"
         },
         "mode": "lines+markers",
         "name": "ANI-1ccx+s66x8",
         "orientation": "v",
         "showlegend": true,
         "type": "scatter",
         "x": [
          0.75,
          0.8,
          0.85,
          0.9,
          0.95,
          1,
          1.05,
          1.1,
          1.15,
          1.2,
          1.25,
          1.3,
          1.35,
          1.4,
          1.45,
          1.5
         ],
         "xaxis": "x",
         "y": [
          1,
          0.6287688442211056,
          0.4331030150753769,
          0.32097989949748745,
          0.22173366834170855,
          0.0989321608040201,
          0.013190954773869347,
          0,
          0.06187185929648241,
          0.11934673366834171,
          0.1253140703517588,
          0.1089824120603015,
          0.09547738693467336,
          0.09045226130653267,
          0.08982412060301508,
          0.08951005025125629
         ],
         "yaxis": "y"
        }
       ],
       "layout": {
        "legend": {
         "title": {
          "text": "Model"
         },
         "tracegroupgap": 0
        },
        "template": {
         "data": {
          "bar": [
           {
            "error_x": {
             "color": "rgb(51,51,51)"
            },
            "error_y": {
             "color": "rgb(51,51,51)"
            },
            "marker": {
             "line": {
              "color": "rgb(237,237,237)",
              "width": 0.5
             },
             "pattern": {
              "fillmode": "overlay",
              "size": 10,
              "solidity": 0.2
             }
            },
            "type": "bar"
           }
          ],
          "barpolar": [
           {
            "marker": {
             "line": {
              "color": "rgb(237,237,237)",
              "width": 0.5
             },
             "pattern": {
              "fillmode": "overlay",
              "size": 10,
              "solidity": 0.2
             }
            },
            "type": "barpolar"
           }
          ],
          "carpet": [
           {
            "aaxis": {
             "endlinecolor": "rgb(51,51,51)",
             "gridcolor": "white",
             "linecolor": "white",
             "minorgridcolor": "white",
             "startlinecolor": "rgb(51,51,51)"
            },
            "baxis": {
             "endlinecolor": "rgb(51,51,51)",
             "gridcolor": "white",
             "linecolor": "white",
             "minorgridcolor": "white",
             "startlinecolor": "rgb(51,51,51)"
            },
            "type": "carpet"
           }
          ],
          "choropleth": [
           {
            "colorbar": {
             "outlinewidth": 0,
             "tickcolor": "rgb(237,237,237)",
             "ticklen": 6,
             "ticks": "inside"
            },
            "type": "choropleth"
           }
          ],
          "contour": [
           {
            "colorbar": {
             "outlinewidth": 0,
             "tickcolor": "rgb(237,237,237)",
             "ticklen": 6,
             "ticks": "inside"
            },
            "colorscale": [
             [
              0,
              "rgb(20,44,66)"
             ],
             [
              1,
              "rgb(90,179,244)"
             ]
            ],
            "type": "contour"
           }
          ],
          "contourcarpet": [
           {
            "colorbar": {
             "outlinewidth": 0,
             "tickcolor": "rgb(237,237,237)",
             "ticklen": 6,
             "ticks": "inside"
            },
            "type": "contourcarpet"
           }
          ],
          "heatmap": [
           {
            "colorbar": {
             "outlinewidth": 0,
             "tickcolor": "rgb(237,237,237)",
             "ticklen": 6,
             "ticks": "inside"
            },
            "colorscale": [
             [
              0,
              "rgb(20,44,66)"
             ],
             [
              1,
              "rgb(90,179,244)"
             ]
            ],
            "type": "heatmap"
           }
          ],
          "heatmapgl": [
           {
            "colorbar": {
             "outlinewidth": 0,
             "tickcolor": "rgb(237,237,237)",
             "ticklen": 6,
             "ticks": "inside"
            },
            "colorscale": [
             [
              0,
              "rgb(20,44,66)"
             ],
             [
              1,
              "rgb(90,179,244)"
             ]
            ],
            "type": "heatmapgl"
           }
          ],
          "histogram": [
           {
            "marker": {
             "pattern": {
              "fillmode": "overlay",
              "size": 10,
              "solidity": 0.2
             }
            },
            "type": "histogram"
           }
          ],
          "histogram2d": [
           {
            "colorbar": {
             "outlinewidth": 0,
             "tickcolor": "rgb(237,237,237)",
             "ticklen": 6,
             "ticks": "inside"
            },
            "colorscale": [
             [
              0,
              "rgb(20,44,66)"
             ],
             [
              1,
              "rgb(90,179,244)"
             ]
            ],
            "type": "histogram2d"
           }
          ],
          "histogram2dcontour": [
           {
            "colorbar": {
             "outlinewidth": 0,
             "tickcolor": "rgb(237,237,237)",
             "ticklen": 6,
             "ticks": "inside"
            },
            "colorscale": [
             [
              0,
              "rgb(20,44,66)"
             ],
             [
              1,
              "rgb(90,179,244)"
             ]
            ],
            "type": "histogram2dcontour"
           }
          ],
          "mesh3d": [
           {
            "colorbar": {
             "outlinewidth": 0,
             "tickcolor": "rgb(237,237,237)",
             "ticklen": 6,
             "ticks": "inside"
            },
            "type": "mesh3d"
           }
          ],
          "parcoords": [
           {
            "line": {
             "colorbar": {
              "outlinewidth": 0,
              "tickcolor": "rgb(237,237,237)",
              "ticklen": 6,
              "ticks": "inside"
             }
            },
            "type": "parcoords"
           }
          ],
          "pie": [
           {
            "automargin": true,
            "type": "pie"
           }
          ],
          "scatter": [
           {
            "fillpattern": {
             "fillmode": "overlay",
             "size": 10,
             "solidity": 0.2
            },
            "type": "scatter"
           }
          ],
          "scatter3d": [
           {
            "line": {
             "colorbar": {
              "outlinewidth": 0,
              "tickcolor": "rgb(237,237,237)",
              "ticklen": 6,
              "ticks": "inside"
             }
            },
            "marker": {
             "colorbar": {
              "outlinewidth": 0,
              "tickcolor": "rgb(237,237,237)",
              "ticklen": 6,
              "ticks": "inside"
             }
            },
            "type": "scatter3d"
           }
          ],
          "scattercarpet": [
           {
            "marker": {
             "colorbar": {
              "outlinewidth": 0,
              "tickcolor": "rgb(237,237,237)",
              "ticklen": 6,
              "ticks": "inside"
             }
            },
            "type": "scattercarpet"
           }
          ],
          "scattergeo": [
           {
            "marker": {
             "colorbar": {
              "outlinewidth": 0,
              "tickcolor": "rgb(237,237,237)",
              "ticklen": 6,
              "ticks": "inside"
             }
            },
            "type": "scattergeo"
           }
          ],
          "scattergl": [
           {
            "marker": {
             "colorbar": {
              "outlinewidth": 0,
              "tickcolor": "rgb(237,237,237)",
              "ticklen": 6,
              "ticks": "inside"
             }
            },
            "type": "scattergl"
           }
          ],
          "scattermapbox": [
           {
            "marker": {
             "colorbar": {
              "outlinewidth": 0,
              "tickcolor": "rgb(237,237,237)",
              "ticklen": 6,
              "ticks": "inside"
             }
            },
            "type": "scattermapbox"
           }
          ],
          "scatterpolar": [
           {
            "marker": {
             "colorbar": {
              "outlinewidth": 0,
              "tickcolor": "rgb(237,237,237)",
              "ticklen": 6,
              "ticks": "inside"
             }
            },
            "type": "scatterpolar"
           }
          ],
          "scatterpolargl": [
           {
            "marker": {
             "colorbar": {
              "outlinewidth": 0,
              "tickcolor": "rgb(237,237,237)",
              "ticklen": 6,
              "ticks": "inside"
             }
            },
            "type": "scatterpolargl"
           }
          ],
          "scatterternary": [
           {
            "marker": {
             "colorbar": {
              "outlinewidth": 0,
              "tickcolor": "rgb(237,237,237)",
              "ticklen": 6,
              "ticks": "inside"
             }
            },
            "type": "scatterternary"
           }
          ],
          "surface": [
           {
            "colorbar": {
             "outlinewidth": 0,
             "tickcolor": "rgb(237,237,237)",
             "ticklen": 6,
             "ticks": "inside"
            },
            "colorscale": [
             [
              0,
              "rgb(20,44,66)"
             ],
             [
              1,
              "rgb(90,179,244)"
             ]
            ],
            "type": "surface"
           }
          ],
          "table": [
           {
            "cells": {
             "fill": {
              "color": "rgb(237,237,237)"
             },
             "line": {
              "color": "white"
             }
            },
            "header": {
             "fill": {
              "color": "rgb(217,217,217)"
             },
             "line": {
              "color": "white"
             }
            },
            "type": "table"
           }
          ]
         },
         "layout": {
          "annotationdefaults": {
           "arrowhead": 0,
           "arrowwidth": 1
          },
          "autotypenumbers": "strict",
          "coloraxis": {
           "colorbar": {
            "outlinewidth": 0,
            "tickcolor": "rgb(237,237,237)",
            "ticklen": 6,
            "ticks": "inside"
           }
          },
          "colorscale": {
           "sequential": [
            [
             0,
             "rgb(20,44,66)"
            ],
            [
             1,
             "rgb(90,179,244)"
            ]
           ],
           "sequentialminus": [
            [
             0,
             "rgb(20,44,66)"
            ],
            [
             1,
             "rgb(90,179,244)"
            ]
           ]
          },
          "colorway": [
           "#F8766D",
           "#A3A500",
           "#00BF7D",
           "#00B0F6",
           "#E76BF3"
          ],
          "font": {
           "color": "rgb(51,51,51)"
          },
          "geo": {
           "bgcolor": "white",
           "lakecolor": "white",
           "landcolor": "rgb(237,237,237)",
           "showlakes": true,
           "showland": true,
           "subunitcolor": "white"
          },
          "hoverlabel": {
           "align": "left"
          },
          "hovermode": "closest",
          "paper_bgcolor": "white",
          "plot_bgcolor": "rgb(237,237,237)",
          "polar": {
           "angularaxis": {
            "gridcolor": "white",
            "linecolor": "white",
            "showgrid": true,
            "tickcolor": "rgb(51,51,51)",
            "ticks": "outside"
           },
           "bgcolor": "rgb(237,237,237)",
           "radialaxis": {
            "gridcolor": "white",
            "linecolor": "white",
            "showgrid": true,
            "tickcolor": "rgb(51,51,51)",
            "ticks": "outside"
           }
          },
          "scene": {
           "xaxis": {
            "backgroundcolor": "rgb(237,237,237)",
            "gridcolor": "white",
            "gridwidth": 2,
            "linecolor": "white",
            "showbackground": true,
            "showgrid": true,
            "tickcolor": "rgb(51,51,51)",
            "ticks": "outside",
            "zerolinecolor": "white"
           },
           "yaxis": {
            "backgroundcolor": "rgb(237,237,237)",
            "gridcolor": "white",
            "gridwidth": 2,
            "linecolor": "white",
            "showbackground": true,
            "showgrid": true,
            "tickcolor": "rgb(51,51,51)",
            "ticks": "outside",
            "zerolinecolor": "white"
           },
           "zaxis": {
            "backgroundcolor": "rgb(237,237,237)",
            "gridcolor": "white",
            "gridwidth": 2,
            "linecolor": "white",
            "showbackground": true,
            "showgrid": true,
            "tickcolor": "rgb(51,51,51)",
            "ticks": "outside",
            "zerolinecolor": "white"
           }
          },
          "shapedefaults": {
           "fillcolor": "black",
           "line": {
            "width": 0
           },
           "opacity": 0.3
          },
          "ternary": {
           "aaxis": {
            "gridcolor": "white",
            "linecolor": "white",
            "showgrid": true,
            "tickcolor": "rgb(51,51,51)",
            "ticks": "outside"
           },
           "baxis": {
            "gridcolor": "white",
            "linecolor": "white",
            "showgrid": true,
            "tickcolor": "rgb(51,51,51)",
            "ticks": "outside"
           },
           "bgcolor": "rgb(237,237,237)",
           "caxis": {
            "gridcolor": "white",
            "linecolor": "white",
            "showgrid": true,
            "tickcolor": "rgb(51,51,51)",
            "ticks": "outside"
           }
          },
          "xaxis": {
           "automargin": true,
           "gridcolor": "white",
           "linecolor": "white",
           "showgrid": true,
           "tickcolor": "rgb(51,51,51)",
           "ticks": "outside",
           "title": {
            "standoff": 15
           },
           "zerolinecolor": "white"
          },
          "yaxis": {
           "automargin": true,
           "gridcolor": "white",
           "linecolor": "white",
           "showgrid": true,
           "tickcolor": "rgb(51,51,51)",
           "ticks": "outside",
           "title": {
            "standoff": 15
           },
           "zerolinecolor": "white"
          }
         }
        },
        "title": {
         "text": "Graphite: relative energy in relation to c factor (multiplier of relaxed c lattice parameter determined with DFT-PBE-D3BF). Model ANI-1ccx: MACE model trained on ANI-1ccx dataset (organic molecules CCSD(T) level). Model s66x8: MACE model trained on s66x8 dataset (organic dimer molecules CCSD(T) level). Model ANI-1ccx+s66x8: trained on both."
        },
        "xaxis": {
         "anchor": "y",
         "domain": [
          0,
          1
         ],
         "title": {
          "text": "c Factor"
         }
        },
        "yaxis": {
         "anchor": "x",
         "domain": [
          0,
          1
         ],
         "title": {
          "text": "Relative energy"
         }
        }
       }
      }
     },
     "metadata": {},
     "output_type": "display_data"
    }
   ],
   "source": [
    "plot.show()"
   ]
  },
  {
   "cell_type": "code",
   "execution_count": 18,
   "metadata": {},
   "outputs": [],
   "source": [
    "plot2=px.line(df, x='c Factor', y='Energy difference [eV]', color='Model', markers=True, template='ggplot2', \n",
    "             title='Graphite: energy diffence in relation to c factor (multiplier of relaxed c lattice parameter determined with DFT-PBE-D3BF). Model ANI-1ccx: MACE model trained on ANI-1ccx dataset (organic molecules CCSD(T) level). Model s66x8: MACE model trained on s66x8 dataset (organic dimer molecules CCSD(T) level). Model ANI-1ccx+s66x8: trained on both.')"
   ]
  },
  {
   "cell_type": "code",
   "execution_count": 19,
   "metadata": {},
   "outputs": [
    {
     "data": {
      "application/vnd.plotly.v1+json": {
       "config": {
        "plotlyServerURL": "https://plot.ly"
       },
       "data": [
        {
         "hovertemplate": "Model=LDA<br>c Factor=%{x}<br>Energy difference [eV]=%{y}<extra></extra>",
         "legendgroup": "LDA",
         "line": {
          "color": "#F8766D",
          "dash": "solid"
         },
         "marker": {
          "symbol": "circle"
         },
         "mode": "lines+markers",
         "name": "LDA",
         "orientation": "v",
         "showlegend": true,
         "type": "scatter",
         "x": [
          0.75,
          0.8,
          0.85,
          0.9,
          0.95,
          1,
          1.05,
          1.1,
          1.15,
          1.2,
          1.25,
          1.3,
          1.35,
          1.4,
          1.4500000000000002,
          1.5
         ],
         "xaxis": "x",
         "y": [
          0.7169990577967624,
          0.34371374592657133,
          0.14370454944167932,
          0.046339389271587095,
          0.007438668462597775,
          0,
          0.008007605383966165,
          0.022246676216653327,
          0.037694561126038195,
          0.05195235099924389,
          0.06405822041504194,
          0.07380561641150507,
          0.0814042743151262,
          0.0871794299097246,
          0.09144796086956575,
          0.09452159339695498
         ],
         "yaxis": "y"
        },
        {
         "hovertemplate": "Model=PBE-D3BF<br>c Factor=%{x}<br>Energy difference [eV]=%{y}<extra></extra>",
         "legendgroup": "PBE-D3BF",
         "line": {
          "color": "#A3A500",
          "dash": "solid"
         },
         "marker": {
          "symbol": "circle"
         },
         "mode": "lines+markers",
         "name": "PBE-D3BF",
         "orientation": "v",
         "showlegend": true,
         "type": "scatter",
         "x": [
          0.75,
          0.8,
          0.85,
          0.9,
          0.95,
          1,
          1.05,
          1.1,
          1.15,
          1.2,
          1.25,
          1.3,
          1.35,
          1.4,
          1.4500000000000002,
          1.5
         ],
         "xaxis": "x",
         "y": [
          0.8702015730405179,
          0.43207527465521167,
          0.19213063209853942,
          0.06950557377603417,
          0.015412177722957665,
          0,
          0.005286808370776441,
          0.020679825026398646,
          0.040098323176124495,
          0.06029624618136609,
          0.07958442345115913,
          0.09718542157162346,
          0.11287804189075956,
          0.1266620028642791,
          0.13862814024452064,
          0.14892506225400837
         ],
         "yaxis": "y"
        },
        {
         "hovertemplate": "Model=PBE<br>c Factor=%{x}<br>Energy difference [eV]=%{y}<extra></extra>",
         "legendgroup": "PBE",
         "line": {
          "color": "#00BF7D",
          "dash": "solid"
         },
         "marker": {
          "symbol": "circle"
         },
         "mode": "lines+markers",
         "name": "PBE",
         "orientation": "v",
         "showlegend": true,
         "type": "scatter",
         "x": [
          0.75,
          0.8,
          0.85,
          0.9,
          0.95,
          1,
          1.05,
          1.1,
          1.15,
          1.2,
          1.25,
          1.3,
          1.35,
          1.4,
          1.4500000000000002,
          1.5
         ],
         "xaxis": "x",
         "y": [
          1.1229436656260887,
          0.6573580386129905,
          0.3781314120384991,
          0.2134791946266219,
          0.11805407908758525,
          0.06362848294685364,
          0.0330895940324325,
          0.01627376383672896,
          0.007258581840289935,
          0.0026994178485821863,
          0.0006564083644988727,
          0,
          0.00012846816650124993,
          0.000674472721037489,
          0.0013848512154908121,
          0.002100666696790654
         ],
         "yaxis": "y"
        },
        {
         "hovertemplate": "Model=ANI-1ccx<br>c Factor=%{x}<br>Energy difference [eV]=%{y}<extra></extra>",
         "legendgroup": "ANI-1ccx",
         "line": {
          "color": "#00B0F6",
          "dash": "solid"
         },
         "marker": {
          "symbol": "circle"
         },
         "mode": "lines+markers",
         "name": "ANI-1ccx",
         "orientation": "v",
         "showlegend": true,
         "type": "scatter",
         "x": [
          0.75,
          0.8,
          0.85,
          0.9,
          0.95,
          1,
          1.05,
          1.1,
          1.15,
          1.2,
          1.25,
          1.3,
          1.35,
          1.4,
          1.45,
          1.5
         ],
         "xaxis": "x",
         "y": [
          8.794921875,
          9.97412109375,
          8.13232421875,
          8.71484375,
          8.19970703125,
          3.03076171875,
          0,
          2.7958984375,
          5.478515625,
          4.22705078125,
          3.05126953125,
          2.63037109375,
          2.51220703125,
          2.48779296875,
          2.484375,
          2.484375
         ],
         "yaxis": "y"
        },
        {
         "hovertemplate": "Model=s66x8<br>c Factor=%{x}<br>Energy difference [eV]=%{y}<extra></extra>",
         "legendgroup": "s66x8",
         "line": {
          "color": "#E76BF3",
          "dash": "solid"
         },
         "marker": {
          "symbol": "circle"
         },
         "mode": "lines+markers",
         "name": "s66x8",
         "orientation": "v",
         "showlegend": true,
         "type": "scatter",
         "x": [
          0.75,
          0.8,
          0.85,
          0.9,
          0.95,
          1,
          1.05,
          1.1,
          1.15,
          1.2,
          1.25,
          1.3,
          1.35,
          1.4,
          1.45,
          1.5
         ],
         "xaxis": "x",
         "y": [
          163.705810546875,
          41.3662109375,
          12.177734375,
          4.40576171875,
          2.24267578125,
          1.93017578125,
          2.267578125,
          2.51171875,
          2.271484375,
          1.63720703125,
          0.92333984375,
          0.38330078125,
          0.1015625,
          0.013671875,
          0.00048828125,
          0
         ],
         "yaxis": "y"
        },
        {
         "hovertemplate": "Model=ANI-1ccx+s66x8<br>c Factor=%{x}<br>Energy difference [eV]=%{y}<extra></extra>",
         "legendgroup": "ANI-1ccx+s66x8",
         "line": {
          "color": "#F8766D",
          "dash": "solid"
         },
         "marker": {
          "symbol": "circle"
         },
         "mode": "lines+markers",
         "name": "ANI-1ccx+s66x8",
         "orientation": "v",
         "showlegend": true,
         "type": "scatter",
         "x": [
          0.75,
          0.8,
          0.85,
          0.9,
          0.95,
          1,
          1.05,
          1.1,
          1.15,
          1.2,
          1.25,
          1.3,
          1.35,
          1.4,
          1.45,
          1.5
         ],
         "xaxis": "x",
         "y": [
          1.5546875,
          0.9775390625,
          0.67333984375,
          0.4990234375,
          0.3447265625,
          0.15380859375,
          0.0205078125,
          0,
          0.09619140625,
          0.185546875,
          0.19482421875,
          0.16943359375,
          0.1484375,
          0.140625,
          0.1396484375,
          0.13916015625
         ],
         "yaxis": "y"
        }
       ],
       "layout": {
        "legend": {
         "title": {
          "text": "Model"
         },
         "tracegroupgap": 0
        },
        "template": {
         "data": {
          "bar": [
           {
            "error_x": {
             "color": "rgb(51,51,51)"
            },
            "error_y": {
             "color": "rgb(51,51,51)"
            },
            "marker": {
             "line": {
              "color": "rgb(237,237,237)",
              "width": 0.5
             },
             "pattern": {
              "fillmode": "overlay",
              "size": 10,
              "solidity": 0.2
             }
            },
            "type": "bar"
           }
          ],
          "barpolar": [
           {
            "marker": {
             "line": {
              "color": "rgb(237,237,237)",
              "width": 0.5
             },
             "pattern": {
              "fillmode": "overlay",
              "size": 10,
              "solidity": 0.2
             }
            },
            "type": "barpolar"
           }
          ],
          "carpet": [
           {
            "aaxis": {
             "endlinecolor": "rgb(51,51,51)",
             "gridcolor": "white",
             "linecolor": "white",
             "minorgridcolor": "white",
             "startlinecolor": "rgb(51,51,51)"
            },
            "baxis": {
             "endlinecolor": "rgb(51,51,51)",
             "gridcolor": "white",
             "linecolor": "white",
             "minorgridcolor": "white",
             "startlinecolor": "rgb(51,51,51)"
            },
            "type": "carpet"
           }
          ],
          "choropleth": [
           {
            "colorbar": {
             "outlinewidth": 0,
             "tickcolor": "rgb(237,237,237)",
             "ticklen": 6,
             "ticks": "inside"
            },
            "type": "choropleth"
           }
          ],
          "contour": [
           {
            "colorbar": {
             "outlinewidth": 0,
             "tickcolor": "rgb(237,237,237)",
             "ticklen": 6,
             "ticks": "inside"
            },
            "colorscale": [
             [
              0,
              "rgb(20,44,66)"
             ],
             [
              1,
              "rgb(90,179,244)"
             ]
            ],
            "type": "contour"
           }
          ],
          "contourcarpet": [
           {
            "colorbar": {
             "outlinewidth": 0,
             "tickcolor": "rgb(237,237,237)",
             "ticklen": 6,
             "ticks": "inside"
            },
            "type": "contourcarpet"
           }
          ],
          "heatmap": [
           {
            "colorbar": {
             "outlinewidth": 0,
             "tickcolor": "rgb(237,237,237)",
             "ticklen": 6,
             "ticks": "inside"
            },
            "colorscale": [
             [
              0,
              "rgb(20,44,66)"
             ],
             [
              1,
              "rgb(90,179,244)"
             ]
            ],
            "type": "heatmap"
           }
          ],
          "heatmapgl": [
           {
            "colorbar": {
             "outlinewidth": 0,
             "tickcolor": "rgb(237,237,237)",
             "ticklen": 6,
             "ticks": "inside"
            },
            "colorscale": [
             [
              0,
              "rgb(20,44,66)"
             ],
             [
              1,
              "rgb(90,179,244)"
             ]
            ],
            "type": "heatmapgl"
           }
          ],
          "histogram": [
           {
            "marker": {
             "pattern": {
              "fillmode": "overlay",
              "size": 10,
              "solidity": 0.2
             }
            },
            "type": "histogram"
           }
          ],
          "histogram2d": [
           {
            "colorbar": {
             "outlinewidth": 0,
             "tickcolor": "rgb(237,237,237)",
             "ticklen": 6,
             "ticks": "inside"
            },
            "colorscale": [
             [
              0,
              "rgb(20,44,66)"
             ],
             [
              1,
              "rgb(90,179,244)"
             ]
            ],
            "type": "histogram2d"
           }
          ],
          "histogram2dcontour": [
           {
            "colorbar": {
             "outlinewidth": 0,
             "tickcolor": "rgb(237,237,237)",
             "ticklen": 6,
             "ticks": "inside"
            },
            "colorscale": [
             [
              0,
              "rgb(20,44,66)"
             ],
             [
              1,
              "rgb(90,179,244)"
             ]
            ],
            "type": "histogram2dcontour"
           }
          ],
          "mesh3d": [
           {
            "colorbar": {
             "outlinewidth": 0,
             "tickcolor": "rgb(237,237,237)",
             "ticklen": 6,
             "ticks": "inside"
            },
            "type": "mesh3d"
           }
          ],
          "parcoords": [
           {
            "line": {
             "colorbar": {
              "outlinewidth": 0,
              "tickcolor": "rgb(237,237,237)",
              "ticklen": 6,
              "ticks": "inside"
             }
            },
            "type": "parcoords"
           }
          ],
          "pie": [
           {
            "automargin": true,
            "type": "pie"
           }
          ],
          "scatter": [
           {
            "fillpattern": {
             "fillmode": "overlay",
             "size": 10,
             "solidity": 0.2
            },
            "type": "scatter"
           }
          ],
          "scatter3d": [
           {
            "line": {
             "colorbar": {
              "outlinewidth": 0,
              "tickcolor": "rgb(237,237,237)",
              "ticklen": 6,
              "ticks": "inside"
             }
            },
            "marker": {
             "colorbar": {
              "outlinewidth": 0,
              "tickcolor": "rgb(237,237,237)",
              "ticklen": 6,
              "ticks": "inside"
             }
            },
            "type": "scatter3d"
           }
          ],
          "scattercarpet": [
           {
            "marker": {
             "colorbar": {
              "outlinewidth": 0,
              "tickcolor": "rgb(237,237,237)",
              "ticklen": 6,
              "ticks": "inside"
             }
            },
            "type": "scattercarpet"
           }
          ],
          "scattergeo": [
           {
            "marker": {
             "colorbar": {
              "outlinewidth": 0,
              "tickcolor": "rgb(237,237,237)",
              "ticklen": 6,
              "ticks": "inside"
             }
            },
            "type": "scattergeo"
           }
          ],
          "scattergl": [
           {
            "marker": {
             "colorbar": {
              "outlinewidth": 0,
              "tickcolor": "rgb(237,237,237)",
              "ticklen": 6,
              "ticks": "inside"
             }
            },
            "type": "scattergl"
           }
          ],
          "scattermapbox": [
           {
            "marker": {
             "colorbar": {
              "outlinewidth": 0,
              "tickcolor": "rgb(237,237,237)",
              "ticklen": 6,
              "ticks": "inside"
             }
            },
            "type": "scattermapbox"
           }
          ],
          "scatterpolar": [
           {
            "marker": {
             "colorbar": {
              "outlinewidth": 0,
              "tickcolor": "rgb(237,237,237)",
              "ticklen": 6,
              "ticks": "inside"
             }
            },
            "type": "scatterpolar"
           }
          ],
          "scatterpolargl": [
           {
            "marker": {
             "colorbar": {
              "outlinewidth": 0,
              "tickcolor": "rgb(237,237,237)",
              "ticklen": 6,
              "ticks": "inside"
             }
            },
            "type": "scatterpolargl"
           }
          ],
          "scatterternary": [
           {
            "marker": {
             "colorbar": {
              "outlinewidth": 0,
              "tickcolor": "rgb(237,237,237)",
              "ticklen": 6,
              "ticks": "inside"
             }
            },
            "type": "scatterternary"
           }
          ],
          "surface": [
           {
            "colorbar": {
             "outlinewidth": 0,
             "tickcolor": "rgb(237,237,237)",
             "ticklen": 6,
             "ticks": "inside"
            },
            "colorscale": [
             [
              0,
              "rgb(20,44,66)"
             ],
             [
              1,
              "rgb(90,179,244)"
             ]
            ],
            "type": "surface"
           }
          ],
          "table": [
           {
            "cells": {
             "fill": {
              "color": "rgb(237,237,237)"
             },
             "line": {
              "color": "white"
             }
            },
            "header": {
             "fill": {
              "color": "rgb(217,217,217)"
             },
             "line": {
              "color": "white"
             }
            },
            "type": "table"
           }
          ]
         },
         "layout": {
          "annotationdefaults": {
           "arrowhead": 0,
           "arrowwidth": 1
          },
          "autotypenumbers": "strict",
          "coloraxis": {
           "colorbar": {
            "outlinewidth": 0,
            "tickcolor": "rgb(237,237,237)",
            "ticklen": 6,
            "ticks": "inside"
           }
          },
          "colorscale": {
           "sequential": [
            [
             0,
             "rgb(20,44,66)"
            ],
            [
             1,
             "rgb(90,179,244)"
            ]
           ],
           "sequentialminus": [
            [
             0,
             "rgb(20,44,66)"
            ],
            [
             1,
             "rgb(90,179,244)"
            ]
           ]
          },
          "colorway": [
           "#F8766D",
           "#A3A500",
           "#00BF7D",
           "#00B0F6",
           "#E76BF3"
          ],
          "font": {
           "color": "rgb(51,51,51)"
          },
          "geo": {
           "bgcolor": "white",
           "lakecolor": "white",
           "landcolor": "rgb(237,237,237)",
           "showlakes": true,
           "showland": true,
           "subunitcolor": "white"
          },
          "hoverlabel": {
           "align": "left"
          },
          "hovermode": "closest",
          "paper_bgcolor": "white",
          "plot_bgcolor": "rgb(237,237,237)",
          "polar": {
           "angularaxis": {
            "gridcolor": "white",
            "linecolor": "white",
            "showgrid": true,
            "tickcolor": "rgb(51,51,51)",
            "ticks": "outside"
           },
           "bgcolor": "rgb(237,237,237)",
           "radialaxis": {
            "gridcolor": "white",
            "linecolor": "white",
            "showgrid": true,
            "tickcolor": "rgb(51,51,51)",
            "ticks": "outside"
           }
          },
          "scene": {
           "xaxis": {
            "backgroundcolor": "rgb(237,237,237)",
            "gridcolor": "white",
            "gridwidth": 2,
            "linecolor": "white",
            "showbackground": true,
            "showgrid": true,
            "tickcolor": "rgb(51,51,51)",
            "ticks": "outside",
            "zerolinecolor": "white"
           },
           "yaxis": {
            "backgroundcolor": "rgb(237,237,237)",
            "gridcolor": "white",
            "gridwidth": 2,
            "linecolor": "white",
            "showbackground": true,
            "showgrid": true,
            "tickcolor": "rgb(51,51,51)",
            "ticks": "outside",
            "zerolinecolor": "white"
           },
           "zaxis": {
            "backgroundcolor": "rgb(237,237,237)",
            "gridcolor": "white",
            "gridwidth": 2,
            "linecolor": "white",
            "showbackground": true,
            "showgrid": true,
            "tickcolor": "rgb(51,51,51)",
            "ticks": "outside",
            "zerolinecolor": "white"
           }
          },
          "shapedefaults": {
           "fillcolor": "black",
           "line": {
            "width": 0
           },
           "opacity": 0.3
          },
          "ternary": {
           "aaxis": {
            "gridcolor": "white",
            "linecolor": "white",
            "showgrid": true,
            "tickcolor": "rgb(51,51,51)",
            "ticks": "outside"
           },
           "baxis": {
            "gridcolor": "white",
            "linecolor": "white",
            "showgrid": true,
            "tickcolor": "rgb(51,51,51)",
            "ticks": "outside"
           },
           "bgcolor": "rgb(237,237,237)",
           "caxis": {
            "gridcolor": "white",
            "linecolor": "white",
            "showgrid": true,
            "tickcolor": "rgb(51,51,51)",
            "ticks": "outside"
           }
          },
          "xaxis": {
           "automargin": true,
           "gridcolor": "white",
           "linecolor": "white",
           "showgrid": true,
           "tickcolor": "rgb(51,51,51)",
           "ticks": "outside",
           "title": {
            "standoff": 15
           },
           "zerolinecolor": "white"
          },
          "yaxis": {
           "automargin": true,
           "gridcolor": "white",
           "linecolor": "white",
           "showgrid": true,
           "tickcolor": "rgb(51,51,51)",
           "ticks": "outside",
           "title": {
            "standoff": 15
           },
           "zerolinecolor": "white"
          }
         }
        },
        "title": {
         "text": "Graphite: energy diffence in relation to c factor (multiplier of relaxed c lattice parameter determined with DFT-PBE-D3BF). Model ANI-1ccx: MACE model trained on ANI-1ccx dataset (organic molecules CCSD(T) level). Model s66x8: MACE model trained on s66x8 dataset (organic dimer molecules CCSD(T) level). Model ANI-1ccx+s66x8: trained on both."
        },
        "xaxis": {
         "anchor": "y",
         "domain": [
          0,
          1
         ],
         "title": {
          "text": "c Factor"
         }
        },
        "yaxis": {
         "anchor": "x",
         "domain": [
          0,
          1
         ],
         "title": {
          "text": "Energy difference [eV]"
         }
        }
       }
      }
     },
     "metadata": {},
     "output_type": "display_data"
    }
   ],
   "source": [
    "plot2.show()"
   ]
  },
  {
   "cell_type": "code",
   "execution_count": 38,
   "metadata": {},
   "outputs": [],
   "source": [
    "plot.write_html('/Users/dominicwelti/Library/CloudStorage/Dropbox/Master_Thesis/Graphs/graphite_cRange.html')"
   ]
  },
  {
   "cell_type": "code",
   "execution_count": 10,
   "metadata": {},
   "outputs": [],
   "source": [
    "# prepare plots for use in thesis report\n",
    "# rename columns\n",
    "df.loc[df['Model']=='LDA', 'Model']='DFT LDA'\n",
    "df.loc[df['Model']=='PBE-D3BF', 'Model']='DFT PBE-D3BJ'\n",
    "df.loc[df['Model']=='PBE', 'Model']='DFT PBE'\n",
    "df.loc[df['Model']=='ANI-1ccx', 'Model']='MACE ANI-1ccx'\n",
    "df.loc[df['Model']=='ANI-1ccx+s66x8', 'Model']='MACE ANI-1ccx+s66x8'\n",
    "df.loc[df['Model']=='s66x8', 'Model']='MACE s66x8'\n",
    "\n",
    "df=df.rename(columns={'Model': 'Method'})"
   ]
  },
  {
   "cell_type": "code",
   "execution_count": 118,
   "metadata": {},
   "outputs": [],
   "source": [
    "df_fp = df.query('`Calculation type`==\"DFT\"')"
   ]
  },
  {
   "cell_type": "code",
   "execution_count": 41,
   "metadata": {},
   "outputs": [
    {
     "data": {
      "application/vnd.plotly.v1+json": {
       "config": {
        "plotlyServerURL": "https://plot.ly"
       },
       "data": [
        {
         "hovertemplate": "Method=DFT LDA<br>c Factor=%{x}<br>Relative energy=%{y}<extra></extra>",
         "legendgroup": "DFT LDA",
         "line": {
          "color": "#F8766D",
          "dash": "solid"
         },
         "marker": {
          "symbol": "circle"
         },
         "mode": "lines+markers",
         "name": "DFT LDA",
         "orientation": "v",
         "showlegend": true,
         "type": "scatter",
         "x": [
          0.75,
          0.8,
          0.85,
          0.9,
          0.95,
          1,
          1.05,
          1.1,
          1.15,
          1.2,
          1.25,
          1.3,
          1.35,
          1.4,
          1.4500000000000002,
          1.5
         ],
         "xaxis": "x",
         "y": [
          1,
          0.4793782393281736,
          0.20042501852549605,
          0.06462963760926206,
          0.010374725575589681,
          0,
          0.011168223021899657,
          0.03102748319504665,
          0.05257267874502973,
          0.07245804640090628,
          0.08934212635074287,
          0.10293683877116852,
          0.11353470193569029,
          0.12158932283344244,
          0.12754265138168033,
          0.1318294527295567
         ],
         "yaxis": "y"
        },
        {
         "hovertemplate": "Method=DFT PBE-D3BJ<br>c Factor=%{x}<br>Relative energy=%{y}<extra></extra>",
         "legendgroup": "DFT PBE-D3BJ",
         "line": {
          "color": "#A3A500",
          "dash": "solid"
         },
         "marker": {
          "symbol": "circle"
         },
         "mode": "lines+markers",
         "name": "DFT PBE-D3BJ",
         "orientation": "v",
         "showlegend": true,
         "type": "scatter",
         "x": [
          0.75,
          0.8,
          0.85,
          0.9,
          0.95,
          1,
          1.05,
          1.1,
          1.15,
          1.2,
          1.25,
          1.3,
          1.35,
          1.4,
          1.4500000000000002,
          1.5
         ],
         "xaxis": "x",
         "y": [
          1,
          0.49652320570454034,
          0.22078865179159304,
          0.07987295809312205,
          0.017711043280589485,
          0,
          0.006075383606012258,
          0.02376440777295143,
          0.04607935036938557,
          0.06928997608070124,
          0.09145515926050107,
          0.1116815052770519,
          0.12971482170086102,
          0.1455547849927657,
          0.15930577987827413,
          0.17113858083898703
         ],
         "yaxis": "y"
        },
        {
         "hovertemplate": "Method=DFT PBE<br>c Factor=%{x}<br>Relative energy=%{y}<extra></extra>",
         "legendgroup": "DFT PBE",
         "line": {
          "color": "#00BF7D",
          "dash": "solid"
         },
         "marker": {
          "symbol": "circle"
         },
         "mode": "lines+markers",
         "name": "DFT PBE",
         "orientation": "v",
         "showlegend": true,
         "type": "scatter",
         "x": [
          0.75,
          0.8,
          0.85,
          0.9,
          0.95,
          1,
          1.05,
          1.1,
          1.15,
          1.2,
          1.25,
          1.3,
          1.35,
          1.4,
          1.4500000000000002,
          1.5
         ],
         "xaxis": "x",
         "y": [
          1,
          0.5853882601016192,
          0.336732307784714,
          0.19010677130236822,
          0.10512911974240942,
          0.05666222170760281,
          0.029466833506722395,
          0.014492057201868311,
          0.006463887782155989,
          0.002403876464343513,
          0.0005845425595173532,
          0,
          0.00011440303768900418,
          0.0006006291692837876,
          0.0012332330266262277,
          0.00187067861113001
         ],
         "yaxis": "y"
        }
       ],
       "layout": {
        "font": {
         "family": "Serif",
         "size": 14
        },
        "height": 350,
        "legend": {
         "title": {
          "text": "Method"
         },
         "tracegroupgap": 0
        },
        "margin": {
         "t": 60
        },
        "template": {
         "data": {
          "bar": [
           {
            "error_x": {
             "color": "rgb(51,51,51)"
            },
            "error_y": {
             "color": "rgb(51,51,51)"
            },
            "marker": {
             "line": {
              "color": "rgb(237,237,237)",
              "width": 0.5
             },
             "pattern": {
              "fillmode": "overlay",
              "size": 10,
              "solidity": 0.2
             }
            },
            "type": "bar"
           }
          ],
          "barpolar": [
           {
            "marker": {
             "line": {
              "color": "rgb(237,237,237)",
              "width": 0.5
             },
             "pattern": {
              "fillmode": "overlay",
              "size": 10,
              "solidity": 0.2
             }
            },
            "type": "barpolar"
           }
          ],
          "carpet": [
           {
            "aaxis": {
             "endlinecolor": "rgb(51,51,51)",
             "gridcolor": "white",
             "linecolor": "white",
             "minorgridcolor": "white",
             "startlinecolor": "rgb(51,51,51)"
            },
            "baxis": {
             "endlinecolor": "rgb(51,51,51)",
             "gridcolor": "white",
             "linecolor": "white",
             "minorgridcolor": "white",
             "startlinecolor": "rgb(51,51,51)"
            },
            "type": "carpet"
           }
          ],
          "choropleth": [
           {
            "colorbar": {
             "outlinewidth": 0,
             "tickcolor": "rgb(237,237,237)",
             "ticklen": 6,
             "ticks": "inside"
            },
            "type": "choropleth"
           }
          ],
          "contour": [
           {
            "colorbar": {
             "outlinewidth": 0,
             "tickcolor": "rgb(237,237,237)",
             "ticklen": 6,
             "ticks": "inside"
            },
            "colorscale": [
             [
              0,
              "rgb(20,44,66)"
             ],
             [
              1,
              "rgb(90,179,244)"
             ]
            ],
            "type": "contour"
           }
          ],
          "contourcarpet": [
           {
            "colorbar": {
             "outlinewidth": 0,
             "tickcolor": "rgb(237,237,237)",
             "ticklen": 6,
             "ticks": "inside"
            },
            "type": "contourcarpet"
           }
          ],
          "heatmap": [
           {
            "colorbar": {
             "outlinewidth": 0,
             "tickcolor": "rgb(237,237,237)",
             "ticklen": 6,
             "ticks": "inside"
            },
            "colorscale": [
             [
              0,
              "rgb(20,44,66)"
             ],
             [
              1,
              "rgb(90,179,244)"
             ]
            ],
            "type": "heatmap"
           }
          ],
          "heatmapgl": [
           {
            "colorbar": {
             "outlinewidth": 0,
             "tickcolor": "rgb(237,237,237)",
             "ticklen": 6,
             "ticks": "inside"
            },
            "colorscale": [
             [
              0,
              "rgb(20,44,66)"
             ],
             [
              1,
              "rgb(90,179,244)"
             ]
            ],
            "type": "heatmapgl"
           }
          ],
          "histogram": [
           {
            "marker": {
             "pattern": {
              "fillmode": "overlay",
              "size": 10,
              "solidity": 0.2
             }
            },
            "type": "histogram"
           }
          ],
          "histogram2d": [
           {
            "colorbar": {
             "outlinewidth": 0,
             "tickcolor": "rgb(237,237,237)",
             "ticklen": 6,
             "ticks": "inside"
            },
            "colorscale": [
             [
              0,
              "rgb(20,44,66)"
             ],
             [
              1,
              "rgb(90,179,244)"
             ]
            ],
            "type": "histogram2d"
           }
          ],
          "histogram2dcontour": [
           {
            "colorbar": {
             "outlinewidth": 0,
             "tickcolor": "rgb(237,237,237)",
             "ticklen": 6,
             "ticks": "inside"
            },
            "colorscale": [
             [
              0,
              "rgb(20,44,66)"
             ],
             [
              1,
              "rgb(90,179,244)"
             ]
            ],
            "type": "histogram2dcontour"
           }
          ],
          "mesh3d": [
           {
            "colorbar": {
             "outlinewidth": 0,
             "tickcolor": "rgb(237,237,237)",
             "ticklen": 6,
             "ticks": "inside"
            },
            "type": "mesh3d"
           }
          ],
          "parcoords": [
           {
            "line": {
             "colorbar": {
              "outlinewidth": 0,
              "tickcolor": "rgb(237,237,237)",
              "ticklen": 6,
              "ticks": "inside"
             }
            },
            "type": "parcoords"
           }
          ],
          "pie": [
           {
            "automargin": true,
            "type": "pie"
           }
          ],
          "scatter": [
           {
            "fillpattern": {
             "fillmode": "overlay",
             "size": 10,
             "solidity": 0.2
            },
            "type": "scatter"
           }
          ],
          "scatter3d": [
           {
            "line": {
             "colorbar": {
              "outlinewidth": 0,
              "tickcolor": "rgb(237,237,237)",
              "ticklen": 6,
              "ticks": "inside"
             }
            },
            "marker": {
             "colorbar": {
              "outlinewidth": 0,
              "tickcolor": "rgb(237,237,237)",
              "ticklen": 6,
              "ticks": "inside"
             }
            },
            "type": "scatter3d"
           }
          ],
          "scattercarpet": [
           {
            "marker": {
             "colorbar": {
              "outlinewidth": 0,
              "tickcolor": "rgb(237,237,237)",
              "ticklen": 6,
              "ticks": "inside"
             }
            },
            "type": "scattercarpet"
           }
          ],
          "scattergeo": [
           {
            "marker": {
             "colorbar": {
              "outlinewidth": 0,
              "tickcolor": "rgb(237,237,237)",
              "ticklen": 6,
              "ticks": "inside"
             }
            },
            "type": "scattergeo"
           }
          ],
          "scattergl": [
           {
            "marker": {
             "colorbar": {
              "outlinewidth": 0,
              "tickcolor": "rgb(237,237,237)",
              "ticklen": 6,
              "ticks": "inside"
             }
            },
            "type": "scattergl"
           }
          ],
          "scattermapbox": [
           {
            "marker": {
             "colorbar": {
              "outlinewidth": 0,
              "tickcolor": "rgb(237,237,237)",
              "ticklen": 6,
              "ticks": "inside"
             }
            },
            "type": "scattermapbox"
           }
          ],
          "scatterpolar": [
           {
            "marker": {
             "colorbar": {
              "outlinewidth": 0,
              "tickcolor": "rgb(237,237,237)",
              "ticklen": 6,
              "ticks": "inside"
             }
            },
            "type": "scatterpolar"
           }
          ],
          "scatterpolargl": [
           {
            "marker": {
             "colorbar": {
              "outlinewidth": 0,
              "tickcolor": "rgb(237,237,237)",
              "ticklen": 6,
              "ticks": "inside"
             }
            },
            "type": "scatterpolargl"
           }
          ],
          "scatterternary": [
           {
            "marker": {
             "colorbar": {
              "outlinewidth": 0,
              "tickcolor": "rgb(237,237,237)",
              "ticklen": 6,
              "ticks": "inside"
             }
            },
            "type": "scatterternary"
           }
          ],
          "surface": [
           {
            "colorbar": {
             "outlinewidth": 0,
             "tickcolor": "rgb(237,237,237)",
             "ticklen": 6,
             "ticks": "inside"
            },
            "colorscale": [
             [
              0,
              "rgb(20,44,66)"
             ],
             [
              1,
              "rgb(90,179,244)"
             ]
            ],
            "type": "surface"
           }
          ],
          "table": [
           {
            "cells": {
             "fill": {
              "color": "rgb(237,237,237)"
             },
             "line": {
              "color": "white"
             }
            },
            "header": {
             "fill": {
              "color": "rgb(217,217,217)"
             },
             "line": {
              "color": "white"
             }
            },
            "type": "table"
           }
          ]
         },
         "layout": {
          "annotationdefaults": {
           "arrowhead": 0,
           "arrowwidth": 1
          },
          "autotypenumbers": "strict",
          "coloraxis": {
           "colorbar": {
            "outlinewidth": 0,
            "tickcolor": "rgb(237,237,237)",
            "ticklen": 6,
            "ticks": "inside"
           }
          },
          "colorscale": {
           "sequential": [
            [
             0,
             "rgb(20,44,66)"
            ],
            [
             1,
             "rgb(90,179,244)"
            ]
           ],
           "sequentialminus": [
            [
             0,
             "rgb(20,44,66)"
            ],
            [
             1,
             "rgb(90,179,244)"
            ]
           ]
          },
          "colorway": [
           "#F8766D",
           "#A3A500",
           "#00BF7D",
           "#00B0F6",
           "#E76BF3"
          ],
          "font": {
           "color": "rgb(51,51,51)"
          },
          "geo": {
           "bgcolor": "white",
           "lakecolor": "white",
           "landcolor": "rgb(237,237,237)",
           "showlakes": true,
           "showland": true,
           "subunitcolor": "white"
          },
          "hoverlabel": {
           "align": "left"
          },
          "hovermode": "closest",
          "paper_bgcolor": "white",
          "plot_bgcolor": "rgb(237,237,237)",
          "polar": {
           "angularaxis": {
            "gridcolor": "white",
            "linecolor": "white",
            "showgrid": true,
            "tickcolor": "rgb(51,51,51)",
            "ticks": "outside"
           },
           "bgcolor": "rgb(237,237,237)",
           "radialaxis": {
            "gridcolor": "white",
            "linecolor": "white",
            "showgrid": true,
            "tickcolor": "rgb(51,51,51)",
            "ticks": "outside"
           }
          },
          "scene": {
           "xaxis": {
            "backgroundcolor": "rgb(237,237,237)",
            "gridcolor": "white",
            "gridwidth": 2,
            "linecolor": "white",
            "showbackground": true,
            "showgrid": true,
            "tickcolor": "rgb(51,51,51)",
            "ticks": "outside",
            "zerolinecolor": "white"
           },
           "yaxis": {
            "backgroundcolor": "rgb(237,237,237)",
            "gridcolor": "white",
            "gridwidth": 2,
            "linecolor": "white",
            "showbackground": true,
            "showgrid": true,
            "tickcolor": "rgb(51,51,51)",
            "ticks": "outside",
            "zerolinecolor": "white"
           },
           "zaxis": {
            "backgroundcolor": "rgb(237,237,237)",
            "gridcolor": "white",
            "gridwidth": 2,
            "linecolor": "white",
            "showbackground": true,
            "showgrid": true,
            "tickcolor": "rgb(51,51,51)",
            "ticks": "outside",
            "zerolinecolor": "white"
           }
          },
          "shapedefaults": {
           "fillcolor": "black",
           "line": {
            "width": 0
           },
           "opacity": 0.3
          },
          "ternary": {
           "aaxis": {
            "gridcolor": "white",
            "linecolor": "white",
            "showgrid": true,
            "tickcolor": "rgb(51,51,51)",
            "ticks": "outside"
           },
           "baxis": {
            "gridcolor": "white",
            "linecolor": "white",
            "showgrid": true,
            "tickcolor": "rgb(51,51,51)",
            "ticks": "outside"
           },
           "bgcolor": "rgb(237,237,237)",
           "caxis": {
            "gridcolor": "white",
            "linecolor": "white",
            "showgrid": true,
            "tickcolor": "rgb(51,51,51)",
            "ticks": "outside"
           }
          },
          "xaxis": {
           "automargin": true,
           "gridcolor": "white",
           "linecolor": "white",
           "showgrid": true,
           "tickcolor": "rgb(51,51,51)",
           "ticks": "outside",
           "title": {
            "standoff": 15
           },
           "zerolinecolor": "white"
          },
          "yaxis": {
           "automargin": true,
           "gridcolor": "white",
           "linecolor": "white",
           "showgrid": true,
           "tickcolor": "rgb(51,51,51)",
           "ticks": "outside",
           "title": {
            "standoff": 15
           },
           "zerolinecolor": "white"
          }
         }
        },
        "width": 1000,
        "xaxis": {
         "anchor": "y",
         "domain": [
          0,
          1
         ],
         "range": [
          0.75,
          1.5
         ],
         "title": {
          "text": "c Factor"
         }
        },
        "yaxis": {
         "anchor": "x",
         "domain": [
          0,
          1
         ],
         "range": [
          -0.2,
          1
         ],
         "title": {
          "text": "Relative energy"
         }
        }
       }
      }
     },
     "metadata": {},
     "output_type": "display_data"
    }
   ],
   "source": [
    "plot=px.line(df_fp, x='c Factor', y='Relative energy', color='Method', markers=True, template='ggplot2')\n",
    "plot.update_layout(font_family=\"Serif\",font_size=14,\n",
    "                   xaxis=dict(\n",
    "                       range=[0.75,1.5]\n",
    "                   ),\n",
    "                   yaxis=dict(\n",
    "                       range=[-0.2,1]\n",
    "                   ),\n",
    "                   width=1000,\n",
    "                   height=350)"
   ]
  },
  {
   "cell_type": "code",
   "execution_count": 122,
   "metadata": {},
   "outputs": [
    {
     "name": "stderr",
     "output_type": "stream",
     "text": [
      "/var/folders/22/kgbcd6856bb9_kzpfp_36k600000gn/T/ipykernel_4036/2439892023.py:1: SettingWithCopyWarning:\n",
      "\n",
      "\n",
      "A value is trying to be set on a copy of a slice from a DataFrame.\n",
      "Try using .loc[row_indexer,col_indexer] = value instead\n",
      "\n",
      "See the caveats in the documentation: https://pandas.pydata.org/pandas-docs/stable/user_guide/indexing.html#returning-a-view-versus-a-copy\n",
      "\n"
     ]
    }
   ],
   "source": [
    "df_fp['Colour'] = ''\n",
    "df_fp.loc[df['Method']=='DFT PBE-D3BJ','Colour'] = 'red'\n",
    "df_fp.loc[df['Method']=='DFT LDA','Colour'] = 'turquoise'\n",
    "df_fp.loc[df['Method']=='DFT PBE','Colour'] = 'grey'"
   ]
  },
  {
   "cell_type": "code",
   "execution_count": 126,
   "metadata": {},
   "outputs": [
    {
     "name": "stdout",
     "output_type": "stream",
     "text": [
      "DFT LDA\n",
      "DFT PBE-D3BJ\n",
      "DFT PBE\n"
     ]
    }
   ],
   "source": [
    "from plotly.subplots import make_subplots\n",
    "\n",
    "plot_combined = make_subplots(rows=2, cols=1, shared_xaxes=True)\n",
    "\n",
    "for method in df_fp['Method'].unique():\n",
    "    print(method)\n",
    "    subset=df_fp.query('Method==@method')\n",
    "    plot_combined.add_trace(go.Scatter(\n",
    "        x=subset['c Factor'],\n",
    "        y=subset['Energy difference [eV]']/4,\n",
    "        mode='lines+markers',\n",
    "        name=method,\n",
    "        legendgroup=method,\n",
    "        #line_color=subset['Colour'].tail(1)\n",
    "        line={'color':subset['Colour'].unique()[0]}\n",
    "        ),\n",
    "    row=1, col=1\n",
    "    ) \n",
    "\n",
    "    plot_combined.add_trace(go.Scatter(\n",
    "        x=subset['c Factor'],\n",
    "        y=subset['Relative energy'],\n",
    "        mode='lines+markers',\n",
    "        name=method,\n",
    "        legendgroup=method,\n",
    "        showlegend=False,\n",
    "        #line_color=subset['Colour'].tail(1)\n",
    "        line={'color':subset['Colour'].unique()[0]}\n",
    "        ),\n",
    "    row=2, col=1 \n",
    "    )"
   ]
  },
  {
   "cell_type": "code",
   "execution_count": 133,
   "metadata": {},
   "outputs": [
    {
     "data": {
      "application/vnd.plotly.v1+json": {
       "config": {
        "plotlyServerURL": "https://plot.ly"
       },
       "data": [
        {
         "legendgroup": "DFT LDA",
         "line": {
          "color": "turquoise"
         },
         "mode": "lines+markers",
         "name": "DFT LDA",
         "type": "scatter",
         "x": [
          0.75,
          0.8,
          0.85,
          0.9,
          0.95,
          1,
          1.05,
          1.1,
          1.15,
          1.2,
          1.25,
          1.3,
          1.35,
          1.4,
          1.4500000000000002,
          1.5
         ],
         "xaxis": "x",
         "y": [
          0.1792497644491906,
          0.08592843648164283,
          0.03592613736041983,
          0.011584847317896774,
          0.0018596671156494438,
          0,
          0.0020019013459915413,
          0.005561669054163332,
          0.009423640281509549,
          0.012988087749810973,
          0.016014555103760486,
          0.018451404102876268,
          0.02035106857878155,
          0.02179485747743115,
          0.022861990217391437,
          0.023630398349238746
         ],
         "yaxis": "y"
        },
        {
         "legendgroup": "DFT LDA",
         "line": {
          "color": "turquoise"
         },
         "mode": "lines+markers",
         "name": "DFT LDA",
         "showlegend": false,
         "type": "scatter",
         "x": [
          0.75,
          0.8,
          0.85,
          0.9,
          0.95,
          1,
          1.05,
          1.1,
          1.15,
          1.2,
          1.25,
          1.3,
          1.35,
          1.4,
          1.4500000000000002,
          1.5
         ],
         "xaxis": "x2",
         "y": [
          1,
          0.4793782393281736,
          0.20042501852549605,
          0.06462963760926206,
          0.010374725575589681,
          0,
          0.011168223021899657,
          0.03102748319504665,
          0.05257267874502973,
          0.07245804640090628,
          0.08934212635074287,
          0.10293683877116852,
          0.11353470193569029,
          0.12158932283344244,
          0.12754265138168033,
          0.1318294527295567
         ],
         "yaxis": "y2"
        },
        {
         "legendgroup": "DFT PBE-D3BJ",
         "line": {
          "color": "red"
         },
         "mode": "lines+markers",
         "name": "DFT PBE-D3BJ",
         "type": "scatter",
         "x": [
          0.75,
          0.8,
          0.85,
          0.9,
          0.95,
          1,
          1.05,
          1.1,
          1.15,
          1.2,
          1.25,
          1.3,
          1.35,
          1.4,
          1.4500000000000002,
          1.5
         ],
         "xaxis": "x",
         "y": [
          0.21755039326012948,
          0.10801881866380292,
          0.048032658024634856,
          0.017376393444008542,
          0.0038530444307394163,
          0,
          0.0013217020926941103,
          0.0051699562565996615,
          0.010024580794031124,
          0.015074061545341522,
          0.01989610586278978,
          0.024296355392905866,
          0.02821951047268989,
          0.03166550071606977,
          0.03465703506113016,
          0.03723126556350209
         ],
         "yaxis": "y"
        },
        {
         "legendgroup": "DFT PBE-D3BJ",
         "line": {
          "color": "red"
         },
         "mode": "lines+markers",
         "name": "DFT PBE-D3BJ",
         "showlegend": false,
         "type": "scatter",
         "x": [
          0.75,
          0.8,
          0.85,
          0.9,
          0.95,
          1,
          1.05,
          1.1,
          1.15,
          1.2,
          1.25,
          1.3,
          1.35,
          1.4,
          1.4500000000000002,
          1.5
         ],
         "xaxis": "x2",
         "y": [
          1,
          0.49652320570454034,
          0.22078865179159304,
          0.07987295809312205,
          0.017711043280589485,
          0,
          0.006075383606012258,
          0.02376440777295143,
          0.04607935036938557,
          0.06928997608070124,
          0.09145515926050107,
          0.1116815052770519,
          0.12971482170086102,
          0.1455547849927657,
          0.15930577987827413,
          0.17113858083898703
         ],
         "yaxis": "y2"
        },
        {
         "legendgroup": "DFT PBE",
         "line": {
          "color": "grey"
         },
         "mode": "lines+markers",
         "name": "DFT PBE",
         "type": "scatter",
         "x": [
          0.75,
          0.8,
          0.85,
          0.9,
          0.95,
          1,
          1.05,
          1.1,
          1.15,
          1.2,
          1.25,
          1.3,
          1.35,
          1.4,
          1.4500000000000002,
          1.5
         ],
         "xaxis": "x",
         "y": [
          0.2807359164065222,
          0.16433950965324762,
          0.09453285300962477,
          0.053369798656655476,
          0.029513519771896313,
          0.01590712073671341,
          0.008272398508108125,
          0.00406844095918224,
          0.0018146454600724837,
          0.0006748544621455466,
          0.00016410209112471819,
          0,
          0.00003211704162531248,
          0.00016861818025937225,
          0.00034621280387270303,
          0.0005251666741976635
         ],
         "yaxis": "y"
        },
        {
         "legendgroup": "DFT PBE",
         "line": {
          "color": "grey"
         },
         "mode": "lines+markers",
         "name": "DFT PBE",
         "showlegend": false,
         "type": "scatter",
         "x": [
          0.75,
          0.8,
          0.85,
          0.9,
          0.95,
          1,
          1.05,
          1.1,
          1.15,
          1.2,
          1.25,
          1.3,
          1.35,
          1.4,
          1.4500000000000002,
          1.5
         ],
         "xaxis": "x2",
         "y": [
          1,
          0.5853882601016192,
          0.336732307784714,
          0.19010677130236822,
          0.10512911974240942,
          0.05666222170760281,
          0.029466833506722395,
          0.014492057201868311,
          0.006463887782155989,
          0.002403876464343513,
          0.0005845425595173532,
          0,
          0.00011440303768900418,
          0.0006006291692837876,
          0.0012332330266262277,
          0.00187067861113001
         ],
         "yaxis": "y2"
        }
       ],
       "layout": {
        "font": {
         "family": "Serif",
         "size": 18
        },
        "grid": {
         "yaxes": [
          "y"
         ]
        },
        "height": 600,
        "legend": {
         "title": {
          "text": "Method"
         }
        },
        "template": {
         "data": {
          "bar": [
           {
            "error_x": {
             "color": "rgb(51,51,51)"
            },
            "error_y": {
             "color": "rgb(51,51,51)"
            },
            "marker": {
             "line": {
              "color": "rgb(237,237,237)",
              "width": 0.5
             },
             "pattern": {
              "fillmode": "overlay",
              "size": 10,
              "solidity": 0.2
             }
            },
            "type": "bar"
           }
          ],
          "barpolar": [
           {
            "marker": {
             "line": {
              "color": "rgb(237,237,237)",
              "width": 0.5
             },
             "pattern": {
              "fillmode": "overlay",
              "size": 10,
              "solidity": 0.2
             }
            },
            "type": "barpolar"
           }
          ],
          "carpet": [
           {
            "aaxis": {
             "endlinecolor": "rgb(51,51,51)",
             "gridcolor": "white",
             "linecolor": "white",
             "minorgridcolor": "white",
             "startlinecolor": "rgb(51,51,51)"
            },
            "baxis": {
             "endlinecolor": "rgb(51,51,51)",
             "gridcolor": "white",
             "linecolor": "white",
             "minorgridcolor": "white",
             "startlinecolor": "rgb(51,51,51)"
            },
            "type": "carpet"
           }
          ],
          "choropleth": [
           {
            "colorbar": {
             "outlinewidth": 0,
             "tickcolor": "rgb(237,237,237)",
             "ticklen": 6,
             "ticks": "inside"
            },
            "type": "choropleth"
           }
          ],
          "contour": [
           {
            "colorbar": {
             "outlinewidth": 0,
             "tickcolor": "rgb(237,237,237)",
             "ticklen": 6,
             "ticks": "inside"
            },
            "colorscale": [
             [
              0,
              "rgb(20,44,66)"
             ],
             [
              1,
              "rgb(90,179,244)"
             ]
            ],
            "type": "contour"
           }
          ],
          "contourcarpet": [
           {
            "colorbar": {
             "outlinewidth": 0,
             "tickcolor": "rgb(237,237,237)",
             "ticklen": 6,
             "ticks": "inside"
            },
            "type": "contourcarpet"
           }
          ],
          "heatmap": [
           {
            "colorbar": {
             "outlinewidth": 0,
             "tickcolor": "rgb(237,237,237)",
             "ticklen": 6,
             "ticks": "inside"
            },
            "colorscale": [
             [
              0,
              "rgb(20,44,66)"
             ],
             [
              1,
              "rgb(90,179,244)"
             ]
            ],
            "type": "heatmap"
           }
          ],
          "heatmapgl": [
           {
            "colorbar": {
             "outlinewidth": 0,
             "tickcolor": "rgb(237,237,237)",
             "ticklen": 6,
             "ticks": "inside"
            },
            "colorscale": [
             [
              0,
              "rgb(20,44,66)"
             ],
             [
              1,
              "rgb(90,179,244)"
             ]
            ],
            "type": "heatmapgl"
           }
          ],
          "histogram": [
           {
            "marker": {
             "pattern": {
              "fillmode": "overlay",
              "size": 10,
              "solidity": 0.2
             }
            },
            "type": "histogram"
           }
          ],
          "histogram2d": [
           {
            "colorbar": {
             "outlinewidth": 0,
             "tickcolor": "rgb(237,237,237)",
             "ticklen": 6,
             "ticks": "inside"
            },
            "colorscale": [
             [
              0,
              "rgb(20,44,66)"
             ],
             [
              1,
              "rgb(90,179,244)"
             ]
            ],
            "type": "histogram2d"
           }
          ],
          "histogram2dcontour": [
           {
            "colorbar": {
             "outlinewidth": 0,
             "tickcolor": "rgb(237,237,237)",
             "ticklen": 6,
             "ticks": "inside"
            },
            "colorscale": [
             [
              0,
              "rgb(20,44,66)"
             ],
             [
              1,
              "rgb(90,179,244)"
             ]
            ],
            "type": "histogram2dcontour"
           }
          ],
          "mesh3d": [
           {
            "colorbar": {
             "outlinewidth": 0,
             "tickcolor": "rgb(237,237,237)",
             "ticklen": 6,
             "ticks": "inside"
            },
            "type": "mesh3d"
           }
          ],
          "parcoords": [
           {
            "line": {
             "colorbar": {
              "outlinewidth": 0,
              "tickcolor": "rgb(237,237,237)",
              "ticklen": 6,
              "ticks": "inside"
             }
            },
            "type": "parcoords"
           }
          ],
          "pie": [
           {
            "automargin": true,
            "type": "pie"
           }
          ],
          "scatter": [
           {
            "fillpattern": {
             "fillmode": "overlay",
             "size": 10,
             "solidity": 0.2
            },
            "type": "scatter"
           }
          ],
          "scatter3d": [
           {
            "line": {
             "colorbar": {
              "outlinewidth": 0,
              "tickcolor": "rgb(237,237,237)",
              "ticklen": 6,
              "ticks": "inside"
             }
            },
            "marker": {
             "colorbar": {
              "outlinewidth": 0,
              "tickcolor": "rgb(237,237,237)",
              "ticklen": 6,
              "ticks": "inside"
             }
            },
            "type": "scatter3d"
           }
          ],
          "scattercarpet": [
           {
            "marker": {
             "colorbar": {
              "outlinewidth": 0,
              "tickcolor": "rgb(237,237,237)",
              "ticklen": 6,
              "ticks": "inside"
             }
            },
            "type": "scattercarpet"
           }
          ],
          "scattergeo": [
           {
            "marker": {
             "colorbar": {
              "outlinewidth": 0,
              "tickcolor": "rgb(237,237,237)",
              "ticklen": 6,
              "ticks": "inside"
             }
            },
            "type": "scattergeo"
           }
          ],
          "scattergl": [
           {
            "marker": {
             "colorbar": {
              "outlinewidth": 0,
              "tickcolor": "rgb(237,237,237)",
              "ticklen": 6,
              "ticks": "inside"
             }
            },
            "type": "scattergl"
           }
          ],
          "scattermapbox": [
           {
            "marker": {
             "colorbar": {
              "outlinewidth": 0,
              "tickcolor": "rgb(237,237,237)",
              "ticklen": 6,
              "ticks": "inside"
             }
            },
            "type": "scattermapbox"
           }
          ],
          "scatterpolar": [
           {
            "marker": {
             "colorbar": {
              "outlinewidth": 0,
              "tickcolor": "rgb(237,237,237)",
              "ticklen": 6,
              "ticks": "inside"
             }
            },
            "type": "scatterpolar"
           }
          ],
          "scatterpolargl": [
           {
            "marker": {
             "colorbar": {
              "outlinewidth": 0,
              "tickcolor": "rgb(237,237,237)",
              "ticklen": 6,
              "ticks": "inside"
             }
            },
            "type": "scatterpolargl"
           }
          ],
          "scatterternary": [
           {
            "marker": {
             "colorbar": {
              "outlinewidth": 0,
              "tickcolor": "rgb(237,237,237)",
              "ticklen": 6,
              "ticks": "inside"
             }
            },
            "type": "scatterternary"
           }
          ],
          "surface": [
           {
            "colorbar": {
             "outlinewidth": 0,
             "tickcolor": "rgb(237,237,237)",
             "ticklen": 6,
             "ticks": "inside"
            },
            "colorscale": [
             [
              0,
              "rgb(20,44,66)"
             ],
             [
              1,
              "rgb(90,179,244)"
             ]
            ],
            "type": "surface"
           }
          ],
          "table": [
           {
            "cells": {
             "fill": {
              "color": "rgb(237,237,237)"
             },
             "line": {
              "color": "white"
             }
            },
            "header": {
             "fill": {
              "color": "rgb(217,217,217)"
             },
             "line": {
              "color": "white"
             }
            },
            "type": "table"
           }
          ]
         },
         "layout": {
          "annotationdefaults": {
           "arrowhead": 0,
           "arrowwidth": 1
          },
          "autotypenumbers": "strict",
          "coloraxis": {
           "colorbar": {
            "outlinewidth": 0,
            "tickcolor": "rgb(237,237,237)",
            "ticklen": 6,
            "ticks": "inside"
           }
          },
          "colorscale": {
           "sequential": [
            [
             0,
             "rgb(20,44,66)"
            ],
            [
             1,
             "rgb(90,179,244)"
            ]
           ],
           "sequentialminus": [
            [
             0,
             "rgb(20,44,66)"
            ],
            [
             1,
             "rgb(90,179,244)"
            ]
           ]
          },
          "colorway": [
           "#F8766D",
           "#A3A500",
           "#00BF7D",
           "#00B0F6",
           "#E76BF3"
          ],
          "font": {
           "color": "rgb(51,51,51)"
          },
          "geo": {
           "bgcolor": "white",
           "lakecolor": "white",
           "landcolor": "rgb(237,237,237)",
           "showlakes": true,
           "showland": true,
           "subunitcolor": "white"
          },
          "hoverlabel": {
           "align": "left"
          },
          "hovermode": "closest",
          "paper_bgcolor": "white",
          "plot_bgcolor": "rgb(237,237,237)",
          "polar": {
           "angularaxis": {
            "gridcolor": "white",
            "linecolor": "white",
            "showgrid": true,
            "tickcolor": "rgb(51,51,51)",
            "ticks": "outside"
           },
           "bgcolor": "rgb(237,237,237)",
           "radialaxis": {
            "gridcolor": "white",
            "linecolor": "white",
            "showgrid": true,
            "tickcolor": "rgb(51,51,51)",
            "ticks": "outside"
           }
          },
          "scene": {
           "xaxis": {
            "backgroundcolor": "rgb(237,237,237)",
            "gridcolor": "white",
            "gridwidth": 2,
            "linecolor": "white",
            "showbackground": true,
            "showgrid": true,
            "tickcolor": "rgb(51,51,51)",
            "ticks": "outside",
            "zerolinecolor": "white"
           },
           "yaxis": {
            "backgroundcolor": "rgb(237,237,237)",
            "gridcolor": "white",
            "gridwidth": 2,
            "linecolor": "white",
            "showbackground": true,
            "showgrid": true,
            "tickcolor": "rgb(51,51,51)",
            "ticks": "outside",
            "zerolinecolor": "white"
           },
           "zaxis": {
            "backgroundcolor": "rgb(237,237,237)",
            "gridcolor": "white",
            "gridwidth": 2,
            "linecolor": "white",
            "showbackground": true,
            "showgrid": true,
            "tickcolor": "rgb(51,51,51)",
            "ticks": "outside",
            "zerolinecolor": "white"
           }
          },
          "shapedefaults": {
           "fillcolor": "black",
           "line": {
            "width": 0
           },
           "opacity": 0.3
          },
          "ternary": {
           "aaxis": {
            "gridcolor": "white",
            "linecolor": "white",
            "showgrid": true,
            "tickcolor": "rgb(51,51,51)",
            "ticks": "outside"
           },
           "baxis": {
            "gridcolor": "white",
            "linecolor": "white",
            "showgrid": true,
            "tickcolor": "rgb(51,51,51)",
            "ticks": "outside"
           },
           "bgcolor": "rgb(237,237,237)",
           "caxis": {
            "gridcolor": "white",
            "linecolor": "white",
            "showgrid": true,
            "tickcolor": "rgb(51,51,51)",
            "ticks": "outside"
           }
          },
          "xaxis": {
           "automargin": true,
           "gridcolor": "white",
           "linecolor": "white",
           "showgrid": true,
           "tickcolor": "rgb(51,51,51)",
           "ticks": "outside",
           "title": {
            "standoff": 15
           },
           "zerolinecolor": "white"
          },
          "yaxis": {
           "automargin": true,
           "gridcolor": "white",
           "linecolor": "white",
           "showgrid": true,
           "tickcolor": "rgb(51,51,51)",
           "ticks": "outside",
           "title": {
            "standoff": 15
           },
           "zerolinecolor": "white"
          }
         }
        },
        "width": 1000,
        "xaxis": {
         "anchor": "y",
         "domain": [
          0,
          1
         ],
         "matches": "x2",
         "showticklabels": false
        },
        "xaxis2": {
         "anchor": "y2",
         "domain": [
          0,
          1
         ],
         "range": [
          0.75,
          1.5
         ],
         "title": {
          "text": "<i>c</i> Factor"
         }
        },
        "yaxis": {
         "anchor": "x",
         "domain": [
          0.575,
          1
         ],
         "title": {
          "text": "Energy difference per atom [eV]"
         }
        },
        "yaxis2": {
         "anchor": "x2",
         "domain": [
          0,
          0.425
         ],
         "title": {
          "text": "Relative energy"
         }
        }
       }
      }
     },
     "metadata": {},
     "output_type": "display_data"
    }
   ],
   "source": [
    "#fig_combined.update_xaxes(title_text='<i>c</i> Factor')\n",
    "plot_combined.update_layout(yaxis1={'title':'Energy difference per atom [eV]'}, #'range':[-0.9,4]\n",
    "                yaxis2={'title':'Relative energy'},\n",
    "                xaxis2={'title':'<i>c</i> Factor','range':[0.75,1.5]},\n",
    "                grid_yaxes=['y1'],\n",
    "                legend_title_text='Method',\n",
    "                font_family=\"Serif\",font_size=18,\n",
    "                template='ggplot2',\n",
    "                width=1000,\n",
    "                height=600) #,'position':0\n",
    "\n",
    "plot_combined.show()"
   ]
  },
  {
   "cell_type": "code",
   "execution_count": 134,
   "metadata": {},
   "outputs": [],
   "source": [
    "plot_combined.write_image('/Users/dominicwelti/Library/CloudStorage/Dropbox/Apps/Overleaf/Master Thesis - MLIP evaluation/graphs/results/graphite_ab_initio.png',format='png',scale=5)"
   ]
  },
  {
   "cell_type": "code",
   "execution_count": 11,
   "metadata": {},
   "outputs": [],
   "source": [
    "df_mace=df.query('`Method`.str.contains(\"MACE\") or `Method`.str.contains(\"PBE-D3BJ\")')"
   ]
  },
  {
   "cell_type": "code",
   "execution_count": 44,
   "metadata": {},
   "outputs": [
    {
     "data": {
      "application/vnd.plotly.v1+json": {
       "config": {
        "plotlyServerURL": "https://plot.ly"
       },
       "data": [
        {
         "hovertemplate": "Method=DFT PBE-D3BJ<br>c Factor=%{x}<br>Relative energy=%{y}<extra></extra>",
         "legendgroup": "DFT PBE-D3BJ",
         "line": {
          "color": "#F8766D",
          "dash": "solid"
         },
         "marker": {
          "symbol": "circle"
         },
         "mode": "lines+markers",
         "name": "DFT PBE-D3BJ",
         "orientation": "v",
         "showlegend": true,
         "type": "scatter",
         "x": [
          0.75,
          0.8,
          0.85,
          0.9,
          0.95,
          1,
          1.05,
          1.1,
          1.15,
          1.2,
          1.25,
          1.3,
          1.35,
          1.4,
          1.4500000000000002,
          1.5
         ],
         "xaxis": "x",
         "y": [
          1,
          0.49652320570454034,
          0.22078865179159304,
          0.07987295809312205,
          0.017711043280589485,
          0,
          0.006075383606012258,
          0.02376440777295143,
          0.04607935036938557,
          0.06928997608070124,
          0.09145515926050107,
          0.1116815052770519,
          0.12971482170086102,
          0.1455547849927657,
          0.15930577987827413,
          0.17113858083898703
         ],
         "yaxis": "y"
        },
        {
         "hovertemplate": "Method=MACE ANI-1ccx<br>c Factor=%{x}<br>Relative energy=%{y}<extra></extra>",
         "legendgroup": "MACE ANI-1ccx",
         "line": {
          "color": "#A3A500",
          "dash": "solid"
         },
         "marker": {
          "symbol": "circle"
         },
         "mode": "lines+markers",
         "name": "MACE ANI-1ccx",
         "orientation": "v",
         "showlegend": true,
         "type": "scatter",
         "x": [
          0.75,
          0.8,
          0.85,
          0.9,
          0.95,
          1,
          1.05,
          1.1,
          1.15,
          1.2,
          1.25,
          1.3,
          1.35,
          1.4,
          1.45,
          1.5
         ],
         "xaxis": "x",
         "y": [
          0.8817741224849464,
          1,
          0.8153424389288687,
          0.873745532873158,
          0.8220982033583003,
          0.30386253488030546,
          0,
          0.28031526900670684,
          0.5492730210016155,
          0.42380183091007,
          0.3059186370979586,
          0.26371958682136387,
          0.2518725216625055,
          0.2494247809272042,
          0.249082097224262,
          0.249082097224262
         ],
         "yaxis": "y"
        },
        {
         "hovertemplate": "Method=MACE s66x8<br>c Factor=%{x}<br>Relative energy=%{y}<extra></extra>",
         "legendgroup": "MACE s66x8",
         "line": {
          "color": "#00BF7D",
          "dash": "solid"
         },
         "marker": {
          "symbol": "circle"
         },
         "mode": "lines+markers",
         "name": "MACE s66x8",
         "orientation": "v",
         "showlegend": true,
         "type": "scatter",
         "x": [
          0.75,
          0.8,
          0.85,
          0.9,
          0.95,
          1,
          1.05,
          1.1,
          1.15,
          1.2,
          1.25,
          1.3,
          1.35,
          1.4,
          1.45,
          1.5
         ],
         "xaxis": "x",
         "y": [
          1,
          0.252686271790306,
          0.07438791777957733,
          0.026912677711512678,
          0.013699426878973483,
          0.01179051479481432,
          0.013851543310679915,
          0.01534288087642926,
          0.013875404711731905,
          0.010000909715915107,
          0.005640238673664023,
          0.0023413999782264717,
          0.0006203964273517275,
          0.00008351490368196331,
          0.0000029826751314986897,
          0
         ],
         "yaxis": "y"
        },
        {
         "hovertemplate": "Method=MACE ANI-1ccx+s66x8<br>c Factor=%{x}<br>Relative energy=%{y}<extra></extra>",
         "legendgroup": "MACE ANI-1ccx+s66x8",
         "line": {
          "color": "#00B0F6",
          "dash": "solid"
         },
         "marker": {
          "symbol": "circle"
         },
         "mode": "lines+markers",
         "name": "MACE ANI-1ccx+s66x8",
         "orientation": "v",
         "showlegend": true,
         "type": "scatter",
         "x": [
          0.75,
          0.8,
          0.85,
          0.9,
          0.95,
          1,
          1.05,
          1.1,
          1.15,
          1.2,
          1.25,
          1.3,
          1.35,
          1.4,
          1.45,
          1.5
         ],
         "xaxis": "x",
         "y": [
          1,
          0.6287688442211056,
          0.4331030150753769,
          0.32097989949748745,
          0.22173366834170855,
          0.0989321608040201,
          0.013190954773869347,
          0,
          0.06187185929648241,
          0.11934673366834171,
          0.1253140703517588,
          0.1089824120603015,
          0.09547738693467336,
          0.09045226130653267,
          0.08982412060301508,
          0.08951005025125629
         ],
         "yaxis": "y"
        }
       ],
       "layout": {
        "font": {
         "family": "Serif",
         "size": 14
        },
        "height": 350,
        "legend": {
         "title": {
          "text": "Method"
         },
         "tracegroupgap": 0
        },
        "margin": {
         "t": 60
        },
        "template": {
         "data": {
          "bar": [
           {
            "error_x": {
             "color": "rgb(51,51,51)"
            },
            "error_y": {
             "color": "rgb(51,51,51)"
            },
            "marker": {
             "line": {
              "color": "rgb(237,237,237)",
              "width": 0.5
             },
             "pattern": {
              "fillmode": "overlay",
              "size": 10,
              "solidity": 0.2
             }
            },
            "type": "bar"
           }
          ],
          "barpolar": [
           {
            "marker": {
             "line": {
              "color": "rgb(237,237,237)",
              "width": 0.5
             },
             "pattern": {
              "fillmode": "overlay",
              "size": 10,
              "solidity": 0.2
             }
            },
            "type": "barpolar"
           }
          ],
          "carpet": [
           {
            "aaxis": {
             "endlinecolor": "rgb(51,51,51)",
             "gridcolor": "white",
             "linecolor": "white",
             "minorgridcolor": "white",
             "startlinecolor": "rgb(51,51,51)"
            },
            "baxis": {
             "endlinecolor": "rgb(51,51,51)",
             "gridcolor": "white",
             "linecolor": "white",
             "minorgridcolor": "white",
             "startlinecolor": "rgb(51,51,51)"
            },
            "type": "carpet"
           }
          ],
          "choropleth": [
           {
            "colorbar": {
             "outlinewidth": 0,
             "tickcolor": "rgb(237,237,237)",
             "ticklen": 6,
             "ticks": "inside"
            },
            "type": "choropleth"
           }
          ],
          "contour": [
           {
            "colorbar": {
             "outlinewidth": 0,
             "tickcolor": "rgb(237,237,237)",
             "ticklen": 6,
             "ticks": "inside"
            },
            "colorscale": [
             [
              0,
              "rgb(20,44,66)"
             ],
             [
              1,
              "rgb(90,179,244)"
             ]
            ],
            "type": "contour"
           }
          ],
          "contourcarpet": [
           {
            "colorbar": {
             "outlinewidth": 0,
             "tickcolor": "rgb(237,237,237)",
             "ticklen": 6,
             "ticks": "inside"
            },
            "type": "contourcarpet"
           }
          ],
          "heatmap": [
           {
            "colorbar": {
             "outlinewidth": 0,
             "tickcolor": "rgb(237,237,237)",
             "ticklen": 6,
             "ticks": "inside"
            },
            "colorscale": [
             [
              0,
              "rgb(20,44,66)"
             ],
             [
              1,
              "rgb(90,179,244)"
             ]
            ],
            "type": "heatmap"
           }
          ],
          "heatmapgl": [
           {
            "colorbar": {
             "outlinewidth": 0,
             "tickcolor": "rgb(237,237,237)",
             "ticklen": 6,
             "ticks": "inside"
            },
            "colorscale": [
             [
              0,
              "rgb(20,44,66)"
             ],
             [
              1,
              "rgb(90,179,244)"
             ]
            ],
            "type": "heatmapgl"
           }
          ],
          "histogram": [
           {
            "marker": {
             "pattern": {
              "fillmode": "overlay",
              "size": 10,
              "solidity": 0.2
             }
            },
            "type": "histogram"
           }
          ],
          "histogram2d": [
           {
            "colorbar": {
             "outlinewidth": 0,
             "tickcolor": "rgb(237,237,237)",
             "ticklen": 6,
             "ticks": "inside"
            },
            "colorscale": [
             [
              0,
              "rgb(20,44,66)"
             ],
             [
              1,
              "rgb(90,179,244)"
             ]
            ],
            "type": "histogram2d"
           }
          ],
          "histogram2dcontour": [
           {
            "colorbar": {
             "outlinewidth": 0,
             "tickcolor": "rgb(237,237,237)",
             "ticklen": 6,
             "ticks": "inside"
            },
            "colorscale": [
             [
              0,
              "rgb(20,44,66)"
             ],
             [
              1,
              "rgb(90,179,244)"
             ]
            ],
            "type": "histogram2dcontour"
           }
          ],
          "mesh3d": [
           {
            "colorbar": {
             "outlinewidth": 0,
             "tickcolor": "rgb(237,237,237)",
             "ticklen": 6,
             "ticks": "inside"
            },
            "type": "mesh3d"
           }
          ],
          "parcoords": [
           {
            "line": {
             "colorbar": {
              "outlinewidth": 0,
              "tickcolor": "rgb(237,237,237)",
              "ticklen": 6,
              "ticks": "inside"
             }
            },
            "type": "parcoords"
           }
          ],
          "pie": [
           {
            "automargin": true,
            "type": "pie"
           }
          ],
          "scatter": [
           {
            "fillpattern": {
             "fillmode": "overlay",
             "size": 10,
             "solidity": 0.2
            },
            "type": "scatter"
           }
          ],
          "scatter3d": [
           {
            "line": {
             "colorbar": {
              "outlinewidth": 0,
              "tickcolor": "rgb(237,237,237)",
              "ticklen": 6,
              "ticks": "inside"
             }
            },
            "marker": {
             "colorbar": {
              "outlinewidth": 0,
              "tickcolor": "rgb(237,237,237)",
              "ticklen": 6,
              "ticks": "inside"
             }
            },
            "type": "scatter3d"
           }
          ],
          "scattercarpet": [
           {
            "marker": {
             "colorbar": {
              "outlinewidth": 0,
              "tickcolor": "rgb(237,237,237)",
              "ticklen": 6,
              "ticks": "inside"
             }
            },
            "type": "scattercarpet"
           }
          ],
          "scattergeo": [
           {
            "marker": {
             "colorbar": {
              "outlinewidth": 0,
              "tickcolor": "rgb(237,237,237)",
              "ticklen": 6,
              "ticks": "inside"
             }
            },
            "type": "scattergeo"
           }
          ],
          "scattergl": [
           {
            "marker": {
             "colorbar": {
              "outlinewidth": 0,
              "tickcolor": "rgb(237,237,237)",
              "ticklen": 6,
              "ticks": "inside"
             }
            },
            "type": "scattergl"
           }
          ],
          "scattermapbox": [
           {
            "marker": {
             "colorbar": {
              "outlinewidth": 0,
              "tickcolor": "rgb(237,237,237)",
              "ticklen": 6,
              "ticks": "inside"
             }
            },
            "type": "scattermapbox"
           }
          ],
          "scatterpolar": [
           {
            "marker": {
             "colorbar": {
              "outlinewidth": 0,
              "tickcolor": "rgb(237,237,237)",
              "ticklen": 6,
              "ticks": "inside"
             }
            },
            "type": "scatterpolar"
           }
          ],
          "scatterpolargl": [
           {
            "marker": {
             "colorbar": {
              "outlinewidth": 0,
              "tickcolor": "rgb(237,237,237)",
              "ticklen": 6,
              "ticks": "inside"
             }
            },
            "type": "scatterpolargl"
           }
          ],
          "scatterternary": [
           {
            "marker": {
             "colorbar": {
              "outlinewidth": 0,
              "tickcolor": "rgb(237,237,237)",
              "ticklen": 6,
              "ticks": "inside"
             }
            },
            "type": "scatterternary"
           }
          ],
          "surface": [
           {
            "colorbar": {
             "outlinewidth": 0,
             "tickcolor": "rgb(237,237,237)",
             "ticklen": 6,
             "ticks": "inside"
            },
            "colorscale": [
             [
              0,
              "rgb(20,44,66)"
             ],
             [
              1,
              "rgb(90,179,244)"
             ]
            ],
            "type": "surface"
           }
          ],
          "table": [
           {
            "cells": {
             "fill": {
              "color": "rgb(237,237,237)"
             },
             "line": {
              "color": "white"
             }
            },
            "header": {
             "fill": {
              "color": "rgb(217,217,217)"
             },
             "line": {
              "color": "white"
             }
            },
            "type": "table"
           }
          ]
         },
         "layout": {
          "annotationdefaults": {
           "arrowhead": 0,
           "arrowwidth": 1
          },
          "autotypenumbers": "strict",
          "coloraxis": {
           "colorbar": {
            "outlinewidth": 0,
            "tickcolor": "rgb(237,237,237)",
            "ticklen": 6,
            "ticks": "inside"
           }
          },
          "colorscale": {
           "sequential": [
            [
             0,
             "rgb(20,44,66)"
            ],
            [
             1,
             "rgb(90,179,244)"
            ]
           ],
           "sequentialminus": [
            [
             0,
             "rgb(20,44,66)"
            ],
            [
             1,
             "rgb(90,179,244)"
            ]
           ]
          },
          "colorway": [
           "#F8766D",
           "#A3A500",
           "#00BF7D",
           "#00B0F6",
           "#E76BF3"
          ],
          "font": {
           "color": "rgb(51,51,51)"
          },
          "geo": {
           "bgcolor": "white",
           "lakecolor": "white",
           "landcolor": "rgb(237,237,237)",
           "showlakes": true,
           "showland": true,
           "subunitcolor": "white"
          },
          "hoverlabel": {
           "align": "left"
          },
          "hovermode": "closest",
          "paper_bgcolor": "white",
          "plot_bgcolor": "rgb(237,237,237)",
          "polar": {
           "angularaxis": {
            "gridcolor": "white",
            "linecolor": "white",
            "showgrid": true,
            "tickcolor": "rgb(51,51,51)",
            "ticks": "outside"
           },
           "bgcolor": "rgb(237,237,237)",
           "radialaxis": {
            "gridcolor": "white",
            "linecolor": "white",
            "showgrid": true,
            "tickcolor": "rgb(51,51,51)",
            "ticks": "outside"
           }
          },
          "scene": {
           "xaxis": {
            "backgroundcolor": "rgb(237,237,237)",
            "gridcolor": "white",
            "gridwidth": 2,
            "linecolor": "white",
            "showbackground": true,
            "showgrid": true,
            "tickcolor": "rgb(51,51,51)",
            "ticks": "outside",
            "zerolinecolor": "white"
           },
           "yaxis": {
            "backgroundcolor": "rgb(237,237,237)",
            "gridcolor": "white",
            "gridwidth": 2,
            "linecolor": "white",
            "showbackground": true,
            "showgrid": true,
            "tickcolor": "rgb(51,51,51)",
            "ticks": "outside",
            "zerolinecolor": "white"
           },
           "zaxis": {
            "backgroundcolor": "rgb(237,237,237)",
            "gridcolor": "white",
            "gridwidth": 2,
            "linecolor": "white",
            "showbackground": true,
            "showgrid": true,
            "tickcolor": "rgb(51,51,51)",
            "ticks": "outside",
            "zerolinecolor": "white"
           }
          },
          "shapedefaults": {
           "fillcolor": "black",
           "line": {
            "width": 0
           },
           "opacity": 0.3
          },
          "ternary": {
           "aaxis": {
            "gridcolor": "white",
            "linecolor": "white",
            "showgrid": true,
            "tickcolor": "rgb(51,51,51)",
            "ticks": "outside"
           },
           "baxis": {
            "gridcolor": "white",
            "linecolor": "white",
            "showgrid": true,
            "tickcolor": "rgb(51,51,51)",
            "ticks": "outside"
           },
           "bgcolor": "rgb(237,237,237)",
           "caxis": {
            "gridcolor": "white",
            "linecolor": "white",
            "showgrid": true,
            "tickcolor": "rgb(51,51,51)",
            "ticks": "outside"
           }
          },
          "xaxis": {
           "automargin": true,
           "gridcolor": "white",
           "linecolor": "white",
           "showgrid": true,
           "tickcolor": "rgb(51,51,51)",
           "ticks": "outside",
           "title": {
            "standoff": 15
           },
           "zerolinecolor": "white"
          },
          "yaxis": {
           "automargin": true,
           "gridcolor": "white",
           "linecolor": "white",
           "showgrid": true,
           "tickcolor": "rgb(51,51,51)",
           "ticks": "outside",
           "title": {
            "standoff": 15
           },
           "zerolinecolor": "white"
          }
         }
        },
        "width": 1000,
        "xaxis": {
         "anchor": "y",
         "domain": [
          0,
          1
         ],
         "range": [
          0.75,
          1.5
         ],
         "title": {
          "text": "c Factor"
         }
        },
        "yaxis": {
         "anchor": "x",
         "domain": [
          0,
          1
         ],
         "range": [
          -0.2,
          1
         ],
         "title": {
          "text": "Relative energy"
         }
        }
       }
      }
     },
     "metadata": {},
     "output_type": "display_data"
    }
   ],
   "source": [
    "plot=px.line(df_mace, x='c Factor', y='Relative energy', color='Method', markers=True, template='ggplot2')\n",
    "plot.update_layout(font_family=\"Serif\",font_size=14,\n",
    "                   xaxis=dict(\n",
    "                       range=[0.75,1.5]\n",
    "                   ),\n",
    "                   yaxis=dict(\n",
    "                       range=[-0.2,1]\n",
    "                   ),\n",
    "                   width=1000,\n",
    "                   height=350)"
   ]
  },
  {
   "cell_type": "code",
   "execution_count": 12,
   "metadata": {},
   "outputs": [
    {
     "data": {
      "text/html": [
       "<div>\n",
       "<style scoped>\n",
       "    .dataframe tbody tr th:only-of-type {\n",
       "        vertical-align: middle;\n",
       "    }\n",
       "\n",
       "    .dataframe tbody tr th {\n",
       "        vertical-align: top;\n",
       "    }\n",
       "\n",
       "    .dataframe thead th {\n",
       "        text-align: right;\n",
       "    }\n",
       "</style>\n",
       "<table border=\"1\" class=\"dataframe\">\n",
       "  <thead>\n",
       "    <tr style=\"text-align: right;\">\n",
       "      <th></th>\n",
       "      <th>Calculation type</th>\n",
       "      <th>Method</th>\n",
       "      <th>c Factor</th>\n",
       "      <th>c Parameter</th>\n",
       "      <th>Energy</th>\n",
       "      <th>Relative energy</th>\n",
       "      <th>Energy difference [eV]</th>\n",
       "    </tr>\n",
       "  </thead>\n",
       "  <tbody>\n",
       "    <tr>\n",
       "      <th>1</th>\n",
       "      <td>DFT</td>\n",
       "      <td>DFT PBE-D3BJ</td>\n",
       "      <td>0.75</td>\n",
       "      <td>4.998263</td>\n",
       "      <td>-36.602311</td>\n",
       "      <td>1.000000</td>\n",
       "      <td>0.870202</td>\n",
       "    </tr>\n",
       "    <tr>\n",
       "      <th>3</th>\n",
       "      <td>MACE</td>\n",
       "      <td>MACE ANI-1ccx</td>\n",
       "      <td>0.75</td>\n",
       "      <td>4.998263</td>\n",
       "      <td>-4137.178711</td>\n",
       "      <td>0.881774</td>\n",
       "      <td>8.794922</td>\n",
       "    </tr>\n",
       "    <tr>\n",
       "      <th>4</th>\n",
       "      <td>MACE</td>\n",
       "      <td>MACE s66x8</td>\n",
       "      <td>0.75</td>\n",
       "      <td>4.998263</td>\n",
       "      <td>-3968.296631</td>\n",
       "      <td>1.000000</td>\n",
       "      <td>163.705811</td>\n",
       "    </tr>\n",
       "    <tr>\n",
       "      <th>5</th>\n",
       "      <td>MACE</td>\n",
       "      <td>MACE ANI-1ccx+s66x8</td>\n",
       "      <td>0.75</td>\n",
       "      <td>4.998263</td>\n",
       "      <td>-4139.689453</td>\n",
       "      <td>1.000000</td>\n",
       "      <td>1.554688</td>\n",
       "    </tr>\n",
       "    <tr>\n",
       "      <th>6</th>\n",
       "      <td>DFT</td>\n",
       "      <td>DFT PBE-D3BJ</td>\n",
       "      <td>0.80</td>\n",
       "      <td>5.331480</td>\n",
       "      <td>-37.040437</td>\n",
       "      <td>0.496523</td>\n",
       "      <td>0.432075</td>\n",
       "    </tr>\n",
       "    <tr>\n",
       "      <th>...</th>\n",
       "      <td>...</td>\n",
       "      <td>...</td>\n",
       "      <td>...</td>\n",
       "      <td>...</td>\n",
       "      <td>...</td>\n",
       "      <td>...</td>\n",
       "      <td>...</td>\n",
       "    </tr>\n",
       "    <tr>\n",
       "      <th>88</th>\n",
       "      <td>DFT</td>\n",
       "      <td>DFT PBE-D3BJ</td>\n",
       "      <td>1.45</td>\n",
       "      <td>9.663308</td>\n",
       "      <td>-37.333884</td>\n",
       "      <td>0.159306</td>\n",
       "      <td>0.138628</td>\n",
       "    </tr>\n",
       "    <tr>\n",
       "      <th>90</th>\n",
       "      <td>MACE</td>\n",
       "      <td>MACE ANI-1ccx</td>\n",
       "      <td>1.50</td>\n",
       "      <td>9.996526</td>\n",
       "      <td>-4143.489258</td>\n",
       "      <td>0.249082</td>\n",
       "      <td>2.484375</td>\n",
       "    </tr>\n",
       "    <tr>\n",
       "      <th>91</th>\n",
       "      <td>DFT</td>\n",
       "      <td>DFT PBE-D3BJ</td>\n",
       "      <td>1.50</td>\n",
       "      <td>9.996526</td>\n",
       "      <td>-37.323587</td>\n",
       "      <td>0.171139</td>\n",
       "      <td>0.148925</td>\n",
       "    </tr>\n",
       "    <tr>\n",
       "      <th>92</th>\n",
       "      <td>MACE</td>\n",
       "      <td>MACE s66x8</td>\n",
       "      <td>1.50</td>\n",
       "      <td>9.996526</td>\n",
       "      <td>-4132.002441</td>\n",
       "      <td>-0.000000</td>\n",
       "      <td>0.000000</td>\n",
       "    </tr>\n",
       "    <tr>\n",
       "      <th>95</th>\n",
       "      <td>MACE</td>\n",
       "      <td>MACE ANI-1ccx+s66x8</td>\n",
       "      <td>1.50</td>\n",
       "      <td>9.996526</td>\n",
       "      <td>-4141.104980</td>\n",
       "      <td>0.089510</td>\n",
       "      <td>0.139160</td>\n",
       "    </tr>\n",
       "  </tbody>\n",
       "</table>\n",
       "<p>64 rows × 7 columns</p>\n",
       "</div>"
      ],
      "text/plain": [
       "   Calculation type               Method  c Factor  c Parameter       Energy  \\\n",
       "1               DFT         DFT PBE-D3BJ      0.75     4.998263   -36.602311   \n",
       "3              MACE        MACE ANI-1ccx      0.75     4.998263 -4137.178711   \n",
       "4              MACE           MACE s66x8      0.75     4.998263 -3968.296631   \n",
       "5              MACE  MACE ANI-1ccx+s66x8      0.75     4.998263 -4139.689453   \n",
       "6               DFT         DFT PBE-D3BJ      0.80     5.331480   -37.040437   \n",
       "..              ...                  ...       ...          ...          ...   \n",
       "88              DFT         DFT PBE-D3BJ      1.45     9.663308   -37.333884   \n",
       "90             MACE        MACE ANI-1ccx      1.50     9.996526 -4143.489258   \n",
       "91              DFT         DFT PBE-D3BJ      1.50     9.996526   -37.323587   \n",
       "92             MACE           MACE s66x8      1.50     9.996526 -4132.002441   \n",
       "95             MACE  MACE ANI-1ccx+s66x8      1.50     9.996526 -4141.104980   \n",
       "\n",
       "    Relative energy  Energy difference [eV]  \n",
       "1          1.000000                0.870202  \n",
       "3          0.881774                8.794922  \n",
       "4          1.000000              163.705811  \n",
       "5          1.000000                1.554688  \n",
       "6          0.496523                0.432075  \n",
       "..              ...                     ...  \n",
       "88         0.159306                0.138628  \n",
       "90         0.249082                2.484375  \n",
       "91         0.171139                0.148925  \n",
       "92        -0.000000                0.000000  \n",
       "95         0.089510                0.139160  \n",
       "\n",
       "[64 rows x 7 columns]"
      ]
     },
     "execution_count": 12,
     "metadata": {},
     "output_type": "execute_result"
    }
   ],
   "source": [
    "df_mace"
   ]
  },
  {
   "cell_type": "code",
   "execution_count": null,
   "metadata": {},
   "outputs": [],
   "source": [
    "df.loc[df['Model']==model, 'Relative energy'] ="
   ]
  },
  {
   "cell_type": "code",
   "execution_count": 76,
   "metadata": {},
   "outputs": [
    {
     "name": "stderr",
     "output_type": "stream",
     "text": [
      "/var/folders/22/kgbcd6856bb9_kzpfp_36k600000gn/T/ipykernel_4036/4294754581.py:1: SettingWithCopyWarning:\n",
      "\n",
      "\n",
      "A value is trying to be set on a copy of a slice from a DataFrame.\n",
      "Try using .loc[row_indexer,col_indexer] = value instead\n",
      "\n",
      "See the caveats in the documentation: https://pandas.pydata.org/pandas-docs/stable/user_guide/indexing.html#returning-a-view-versus-a-copy\n",
      "\n"
     ]
    }
   ],
   "source": [
    "df_mace['Colour'] = ''\n",
    "df_mace.loc[df['Method']=='DFT PBE-D3BJ','Colour'] = 'red'\n",
    "df_mace.loc[df['Method']=='MACE ANI-1ccx','Colour'] = 'green'\n",
    "df_mace.loc[df['Method']=='MACE s66x8','Colour'] = 'purple'\n",
    "df_mace.loc[df['Method']=='MACE ANI-1ccx+s66x8','Colour'] = 'orange'"
   ]
  },
  {
   "cell_type": "code",
   "execution_count": 69,
   "metadata": {},
   "outputs": [
    {
     "data": {
      "text/plain": [
       "array(['lightslategrey', 'limegreen', 'aqua', 'salmon'], dtype=object)"
      ]
     },
     "execution_count": 69,
     "metadata": {},
     "output_type": "execute_result"
    }
   ],
   "source": [
    "df_mace['Colour'].unique()"
   ]
  },
  {
   "cell_type": "code",
   "execution_count": 130,
   "metadata": {},
   "outputs": [
    {
     "name": "stdout",
     "output_type": "stream",
     "text": [
      "DFT PBE-D3BJ\n",
      "MACE ANI-1ccx\n",
      "MACE s66x8\n",
      "MACE ANI-1ccx+s66x8\n"
     ]
    }
   ],
   "source": [
    "from plotly.subplots import make_subplots\n",
    "\n",
    "fig_combined = make_subplots(rows=2, cols=1, shared_xaxes=True)\n",
    "\n",
    "for method in df_mace['Method'].unique():\n",
    "    print(method)\n",
    "    subset=df_mace.query('Method==@method')\n",
    "    fig_combined.add_trace(go.Scatter(\n",
    "        x=subset['c Factor'],\n",
    "        y=subset['Energy difference [eV]']/4,\n",
    "        mode='lines+markers',\n",
    "        name=method,\n",
    "        legendgroup=method,\n",
    "        #line_color=subset['Colour'].tail(1)\n",
    "        line={'color':subset['Colour'].unique()[0]}\n",
    "        ),\n",
    "    row=1, col=1\n",
    "    ) \n",
    "\n",
    "    fig_combined.add_trace(go.Scatter(\n",
    "        x=subset['c Factor'],\n",
    "        y=subset['Relative energy'],\n",
    "        mode='lines+markers',\n",
    "        name=method,\n",
    "        legendgroup=method,\n",
    "        showlegend=False,\n",
    "        #line_color=subset['Colour'].tail(1)\n",
    "        line={'color':subset['Colour'].unique()[0]}\n",
    "        ),\n",
    "    row=2, col=1 \n",
    "    )"
   ]
  },
  {
   "cell_type": "code",
   "execution_count": 135,
   "metadata": {},
   "outputs": [
    {
     "data": {
      "application/vnd.plotly.v1+json": {
       "config": {
        "plotlyServerURL": "https://plot.ly"
       },
       "data": [
        {
         "legendgroup": "DFT PBE-D3BJ",
         "line": {
          "color": "red"
         },
         "mode": "lines+markers",
         "name": "DFT PBE-D3BJ",
         "type": "scatter",
         "x": [
          0.75,
          0.8,
          0.85,
          0.9,
          0.95,
          1,
          1.05,
          1.1,
          1.15,
          1.2,
          1.25,
          1.3,
          1.35,
          1.4,
          1.4500000000000002,
          1.5
         ],
         "xaxis": "x",
         "y": [
          0.21755039326012948,
          0.10801881866380292,
          0.048032658024634856,
          0.017376393444008542,
          0.0038530444307394163,
          0,
          0.0013217020926941103,
          0.0051699562565996615,
          0.010024580794031124,
          0.015074061545341522,
          0.01989610586278978,
          0.024296355392905866,
          0.02821951047268989,
          0.03166550071606977,
          0.03465703506113016,
          0.03723126556350209
         ],
         "yaxis": "y"
        },
        {
         "legendgroup": "DFT PBE-D3BJ",
         "line": {
          "color": "red"
         },
         "mode": "lines+markers",
         "name": "DFT PBE-D3BJ",
         "showlegend": false,
         "type": "scatter",
         "x": [
          0.75,
          0.8,
          0.85,
          0.9,
          0.95,
          1,
          1.05,
          1.1,
          1.15,
          1.2,
          1.25,
          1.3,
          1.35,
          1.4,
          1.4500000000000002,
          1.5
         ],
         "xaxis": "x2",
         "y": [
          1,
          0.49652320570454034,
          0.22078865179159304,
          0.07987295809312205,
          0.017711043280589485,
          0,
          0.006075383606012258,
          0.02376440777295143,
          0.04607935036938557,
          0.06928997608070124,
          0.09145515926050107,
          0.1116815052770519,
          0.12971482170086102,
          0.1455547849927657,
          0.15930577987827413,
          0.17113858083898703
         ],
         "yaxis": "y2"
        },
        {
         "legendgroup": "MACE ANI-1ccx",
         "line": {
          "color": "green"
         },
         "mode": "lines+markers",
         "name": "MACE ANI-1ccx",
         "type": "scatter",
         "x": [
          0.75,
          0.8,
          0.85,
          0.9,
          0.95,
          1,
          1.05,
          1.1,
          1.15,
          1.2,
          1.25,
          1.3,
          1.35,
          1.4,
          1.45,
          1.5
         ],
         "xaxis": "x",
         "y": [
          2.19873046875,
          2.4935302734375,
          2.0330810546875,
          2.1787109375,
          2.0499267578125,
          0.7576904296875,
          0,
          0.698974609375,
          1.36962890625,
          1.0567626953125,
          0.7628173828125,
          0.6575927734375,
          0.6280517578125,
          0.6219482421875,
          0.62109375,
          0.62109375
         ],
         "yaxis": "y"
        },
        {
         "legendgroup": "MACE ANI-1ccx",
         "line": {
          "color": "green"
         },
         "mode": "lines+markers",
         "name": "MACE ANI-1ccx",
         "showlegend": false,
         "type": "scatter",
         "x": [
          0.75,
          0.8,
          0.85,
          0.9,
          0.95,
          1,
          1.05,
          1.1,
          1.15,
          1.2,
          1.25,
          1.3,
          1.35,
          1.4,
          1.45,
          1.5
         ],
         "xaxis": "x2",
         "y": [
          0.8817741224849464,
          1,
          0.8153424389288687,
          0.873745532873158,
          0.8220982033583003,
          0.30386253488030546,
          0,
          0.28031526900670684,
          0.5492730210016155,
          0.42380183091007,
          0.3059186370979586,
          0.26371958682136387,
          0.2518725216625055,
          0.2494247809272042,
          0.249082097224262,
          0.249082097224262
         ],
         "yaxis": "y2"
        },
        {
         "legendgroup": "MACE s66x8",
         "line": {
          "color": "purple"
         },
         "mode": "lines+markers",
         "name": "MACE s66x8",
         "type": "scatter",
         "x": [
          0.75,
          0.8,
          0.85,
          0.9,
          0.95,
          1,
          1.05,
          1.1,
          1.15,
          1.2,
          1.25,
          1.3,
          1.35,
          1.4,
          1.45,
          1.5
         ],
         "xaxis": "x",
         "y": [
          40.92645263671875,
          10.341552734375,
          3.04443359375,
          1.1014404296875,
          0.5606689453125,
          0.4825439453125,
          0.56689453125,
          0.6279296875,
          0.56787109375,
          0.4093017578125,
          0.2308349609375,
          0.0958251953125,
          0.025390625,
          0.00341796875,
          0.0001220703125,
          0
         ],
         "yaxis": "y"
        },
        {
         "legendgroup": "MACE s66x8",
         "line": {
          "color": "purple"
         },
         "mode": "lines+markers",
         "name": "MACE s66x8",
         "showlegend": false,
         "type": "scatter",
         "x": [
          0.75,
          0.8,
          0.85,
          0.9,
          0.95,
          1,
          1.05,
          1.1,
          1.15,
          1.2,
          1.25,
          1.3,
          1.35,
          1.4,
          1.45,
          1.5
         ],
         "xaxis": "x2",
         "y": [
          1,
          0.252686271790306,
          0.07438791777957733,
          0.026912677711512678,
          0.013699426878973483,
          0.01179051479481432,
          0.013851543310679915,
          0.01534288087642926,
          0.013875404711731905,
          0.010000909715915107,
          0.005640238673664023,
          0.0023413999782264717,
          0.0006203964273517275,
          0.00008351490368196331,
          0.0000029826751314986897,
          0
         ],
         "yaxis": "y2"
        },
        {
         "legendgroup": "MACE ANI-1ccx+s66x8",
         "line": {
          "color": "orange"
         },
         "mode": "lines+markers",
         "name": "MACE ANI-1ccx+s66x8",
         "type": "scatter",
         "x": [
          0.75,
          0.8,
          0.85,
          0.9,
          0.95,
          1,
          1.05,
          1.1,
          1.15,
          1.2,
          1.25,
          1.3,
          1.35,
          1.4,
          1.45,
          1.5
         ],
         "xaxis": "x",
         "y": [
          0.388671875,
          0.244384765625,
          0.1683349609375,
          0.124755859375,
          0.086181640625,
          0.0384521484375,
          0.005126953125,
          0,
          0.0240478515625,
          0.04638671875,
          0.0487060546875,
          0.0423583984375,
          0.037109375,
          0.03515625,
          0.034912109375,
          0.0347900390625
         ],
         "yaxis": "y"
        },
        {
         "legendgroup": "MACE ANI-1ccx+s66x8",
         "line": {
          "color": "orange"
         },
         "mode": "lines+markers",
         "name": "MACE ANI-1ccx+s66x8",
         "showlegend": false,
         "type": "scatter",
         "x": [
          0.75,
          0.8,
          0.85,
          0.9,
          0.95,
          1,
          1.05,
          1.1,
          1.15,
          1.2,
          1.25,
          1.3,
          1.35,
          1.4,
          1.45,
          1.5
         ],
         "xaxis": "x2",
         "y": [
          1,
          0.6287688442211056,
          0.4331030150753769,
          0.32097989949748745,
          0.22173366834170855,
          0.0989321608040201,
          0.013190954773869347,
          0,
          0.06187185929648241,
          0.11934673366834171,
          0.1253140703517588,
          0.1089824120603015,
          0.09547738693467336,
          0.09045226130653267,
          0.08982412060301508,
          0.08951005025125629
         ],
         "yaxis": "y2"
        }
       ],
       "layout": {
        "font": {
         "family": "Serif",
         "size": 18
        },
        "grid": {
         "yaxes": [
          "y"
         ]
        },
        "height": 600,
        "legend": {
         "title": {
          "text": "Method"
         }
        },
        "template": {
         "data": {
          "bar": [
           {
            "error_x": {
             "color": "rgb(51,51,51)"
            },
            "error_y": {
             "color": "rgb(51,51,51)"
            },
            "marker": {
             "line": {
              "color": "rgb(237,237,237)",
              "width": 0.5
             },
             "pattern": {
              "fillmode": "overlay",
              "size": 10,
              "solidity": 0.2
             }
            },
            "type": "bar"
           }
          ],
          "barpolar": [
           {
            "marker": {
             "line": {
              "color": "rgb(237,237,237)",
              "width": 0.5
             },
             "pattern": {
              "fillmode": "overlay",
              "size": 10,
              "solidity": 0.2
             }
            },
            "type": "barpolar"
           }
          ],
          "carpet": [
           {
            "aaxis": {
             "endlinecolor": "rgb(51,51,51)",
             "gridcolor": "white",
             "linecolor": "white",
             "minorgridcolor": "white",
             "startlinecolor": "rgb(51,51,51)"
            },
            "baxis": {
             "endlinecolor": "rgb(51,51,51)",
             "gridcolor": "white",
             "linecolor": "white",
             "minorgridcolor": "white",
             "startlinecolor": "rgb(51,51,51)"
            },
            "type": "carpet"
           }
          ],
          "choropleth": [
           {
            "colorbar": {
             "outlinewidth": 0,
             "tickcolor": "rgb(237,237,237)",
             "ticklen": 6,
             "ticks": "inside"
            },
            "type": "choropleth"
           }
          ],
          "contour": [
           {
            "colorbar": {
             "outlinewidth": 0,
             "tickcolor": "rgb(237,237,237)",
             "ticklen": 6,
             "ticks": "inside"
            },
            "colorscale": [
             [
              0,
              "rgb(20,44,66)"
             ],
             [
              1,
              "rgb(90,179,244)"
             ]
            ],
            "type": "contour"
           }
          ],
          "contourcarpet": [
           {
            "colorbar": {
             "outlinewidth": 0,
             "tickcolor": "rgb(237,237,237)",
             "ticklen": 6,
             "ticks": "inside"
            },
            "type": "contourcarpet"
           }
          ],
          "heatmap": [
           {
            "colorbar": {
             "outlinewidth": 0,
             "tickcolor": "rgb(237,237,237)",
             "ticklen": 6,
             "ticks": "inside"
            },
            "colorscale": [
             [
              0,
              "rgb(20,44,66)"
             ],
             [
              1,
              "rgb(90,179,244)"
             ]
            ],
            "type": "heatmap"
           }
          ],
          "heatmapgl": [
           {
            "colorbar": {
             "outlinewidth": 0,
             "tickcolor": "rgb(237,237,237)",
             "ticklen": 6,
             "ticks": "inside"
            },
            "colorscale": [
             [
              0,
              "rgb(20,44,66)"
             ],
             [
              1,
              "rgb(90,179,244)"
             ]
            ],
            "type": "heatmapgl"
           }
          ],
          "histogram": [
           {
            "marker": {
             "pattern": {
              "fillmode": "overlay",
              "size": 10,
              "solidity": 0.2
             }
            },
            "type": "histogram"
           }
          ],
          "histogram2d": [
           {
            "colorbar": {
             "outlinewidth": 0,
             "tickcolor": "rgb(237,237,237)",
             "ticklen": 6,
             "ticks": "inside"
            },
            "colorscale": [
             [
              0,
              "rgb(20,44,66)"
             ],
             [
              1,
              "rgb(90,179,244)"
             ]
            ],
            "type": "histogram2d"
           }
          ],
          "histogram2dcontour": [
           {
            "colorbar": {
             "outlinewidth": 0,
             "tickcolor": "rgb(237,237,237)",
             "ticklen": 6,
             "ticks": "inside"
            },
            "colorscale": [
             [
              0,
              "rgb(20,44,66)"
             ],
             [
              1,
              "rgb(90,179,244)"
             ]
            ],
            "type": "histogram2dcontour"
           }
          ],
          "mesh3d": [
           {
            "colorbar": {
             "outlinewidth": 0,
             "tickcolor": "rgb(237,237,237)",
             "ticklen": 6,
             "ticks": "inside"
            },
            "type": "mesh3d"
           }
          ],
          "parcoords": [
           {
            "line": {
             "colorbar": {
              "outlinewidth": 0,
              "tickcolor": "rgb(237,237,237)",
              "ticklen": 6,
              "ticks": "inside"
             }
            },
            "type": "parcoords"
           }
          ],
          "pie": [
           {
            "automargin": true,
            "type": "pie"
           }
          ],
          "scatter": [
           {
            "fillpattern": {
             "fillmode": "overlay",
             "size": 10,
             "solidity": 0.2
            },
            "type": "scatter"
           }
          ],
          "scatter3d": [
           {
            "line": {
             "colorbar": {
              "outlinewidth": 0,
              "tickcolor": "rgb(237,237,237)",
              "ticklen": 6,
              "ticks": "inside"
             }
            },
            "marker": {
             "colorbar": {
              "outlinewidth": 0,
              "tickcolor": "rgb(237,237,237)",
              "ticklen": 6,
              "ticks": "inside"
             }
            },
            "type": "scatter3d"
           }
          ],
          "scattercarpet": [
           {
            "marker": {
             "colorbar": {
              "outlinewidth": 0,
              "tickcolor": "rgb(237,237,237)",
              "ticklen": 6,
              "ticks": "inside"
             }
            },
            "type": "scattercarpet"
           }
          ],
          "scattergeo": [
           {
            "marker": {
             "colorbar": {
              "outlinewidth": 0,
              "tickcolor": "rgb(237,237,237)",
              "ticklen": 6,
              "ticks": "inside"
             }
            },
            "type": "scattergeo"
           }
          ],
          "scattergl": [
           {
            "marker": {
             "colorbar": {
              "outlinewidth": 0,
              "tickcolor": "rgb(237,237,237)",
              "ticklen": 6,
              "ticks": "inside"
             }
            },
            "type": "scattergl"
           }
          ],
          "scattermapbox": [
           {
            "marker": {
             "colorbar": {
              "outlinewidth": 0,
              "tickcolor": "rgb(237,237,237)",
              "ticklen": 6,
              "ticks": "inside"
             }
            },
            "type": "scattermapbox"
           }
          ],
          "scatterpolar": [
           {
            "marker": {
             "colorbar": {
              "outlinewidth": 0,
              "tickcolor": "rgb(237,237,237)",
              "ticklen": 6,
              "ticks": "inside"
             }
            },
            "type": "scatterpolar"
           }
          ],
          "scatterpolargl": [
           {
            "marker": {
             "colorbar": {
              "outlinewidth": 0,
              "tickcolor": "rgb(237,237,237)",
              "ticklen": 6,
              "ticks": "inside"
             }
            },
            "type": "scatterpolargl"
           }
          ],
          "scatterternary": [
           {
            "marker": {
             "colorbar": {
              "outlinewidth": 0,
              "tickcolor": "rgb(237,237,237)",
              "ticklen": 6,
              "ticks": "inside"
             }
            },
            "type": "scatterternary"
           }
          ],
          "surface": [
           {
            "colorbar": {
             "outlinewidth": 0,
             "tickcolor": "rgb(237,237,237)",
             "ticklen": 6,
             "ticks": "inside"
            },
            "colorscale": [
             [
              0,
              "rgb(20,44,66)"
             ],
             [
              1,
              "rgb(90,179,244)"
             ]
            ],
            "type": "surface"
           }
          ],
          "table": [
           {
            "cells": {
             "fill": {
              "color": "rgb(237,237,237)"
             },
             "line": {
              "color": "white"
             }
            },
            "header": {
             "fill": {
              "color": "rgb(217,217,217)"
             },
             "line": {
              "color": "white"
             }
            },
            "type": "table"
           }
          ]
         },
         "layout": {
          "annotationdefaults": {
           "arrowhead": 0,
           "arrowwidth": 1
          },
          "autotypenumbers": "strict",
          "coloraxis": {
           "colorbar": {
            "outlinewidth": 0,
            "tickcolor": "rgb(237,237,237)",
            "ticklen": 6,
            "ticks": "inside"
           }
          },
          "colorscale": {
           "sequential": [
            [
             0,
             "rgb(20,44,66)"
            ],
            [
             1,
             "rgb(90,179,244)"
            ]
           ],
           "sequentialminus": [
            [
             0,
             "rgb(20,44,66)"
            ],
            [
             1,
             "rgb(90,179,244)"
            ]
           ]
          },
          "colorway": [
           "#F8766D",
           "#A3A500",
           "#00BF7D",
           "#00B0F6",
           "#E76BF3"
          ],
          "font": {
           "color": "rgb(51,51,51)"
          },
          "geo": {
           "bgcolor": "white",
           "lakecolor": "white",
           "landcolor": "rgb(237,237,237)",
           "showlakes": true,
           "showland": true,
           "subunitcolor": "white"
          },
          "hoverlabel": {
           "align": "left"
          },
          "hovermode": "closest",
          "paper_bgcolor": "white",
          "plot_bgcolor": "rgb(237,237,237)",
          "polar": {
           "angularaxis": {
            "gridcolor": "white",
            "linecolor": "white",
            "showgrid": true,
            "tickcolor": "rgb(51,51,51)",
            "ticks": "outside"
           },
           "bgcolor": "rgb(237,237,237)",
           "radialaxis": {
            "gridcolor": "white",
            "linecolor": "white",
            "showgrid": true,
            "tickcolor": "rgb(51,51,51)",
            "ticks": "outside"
           }
          },
          "scene": {
           "xaxis": {
            "backgroundcolor": "rgb(237,237,237)",
            "gridcolor": "white",
            "gridwidth": 2,
            "linecolor": "white",
            "showbackground": true,
            "showgrid": true,
            "tickcolor": "rgb(51,51,51)",
            "ticks": "outside",
            "zerolinecolor": "white"
           },
           "yaxis": {
            "backgroundcolor": "rgb(237,237,237)",
            "gridcolor": "white",
            "gridwidth": 2,
            "linecolor": "white",
            "showbackground": true,
            "showgrid": true,
            "tickcolor": "rgb(51,51,51)",
            "ticks": "outside",
            "zerolinecolor": "white"
           },
           "zaxis": {
            "backgroundcolor": "rgb(237,237,237)",
            "gridcolor": "white",
            "gridwidth": 2,
            "linecolor": "white",
            "showbackground": true,
            "showgrid": true,
            "tickcolor": "rgb(51,51,51)",
            "ticks": "outside",
            "zerolinecolor": "white"
           }
          },
          "shapedefaults": {
           "fillcolor": "black",
           "line": {
            "width": 0
           },
           "opacity": 0.3
          },
          "ternary": {
           "aaxis": {
            "gridcolor": "white",
            "linecolor": "white",
            "showgrid": true,
            "tickcolor": "rgb(51,51,51)",
            "ticks": "outside"
           },
           "baxis": {
            "gridcolor": "white",
            "linecolor": "white",
            "showgrid": true,
            "tickcolor": "rgb(51,51,51)",
            "ticks": "outside"
           },
           "bgcolor": "rgb(237,237,237)",
           "caxis": {
            "gridcolor": "white",
            "linecolor": "white",
            "showgrid": true,
            "tickcolor": "rgb(51,51,51)",
            "ticks": "outside"
           }
          },
          "xaxis": {
           "automargin": true,
           "gridcolor": "white",
           "linecolor": "white",
           "showgrid": true,
           "tickcolor": "rgb(51,51,51)",
           "ticks": "outside",
           "title": {
            "standoff": 15
           },
           "zerolinecolor": "white"
          },
          "yaxis": {
           "automargin": true,
           "gridcolor": "white",
           "linecolor": "white",
           "showgrid": true,
           "tickcolor": "rgb(51,51,51)",
           "ticks": "outside",
           "title": {
            "standoff": 15
           },
           "zerolinecolor": "white"
          }
         }
        },
        "width": 1000,
        "xaxis": {
         "anchor": "y",
         "domain": [
          0,
          1
         ],
         "matches": "x2",
         "showticklabels": false
        },
        "xaxis2": {
         "anchor": "y2",
         "domain": [
          0,
          1
         ],
         "range": [
          0.75,
          1.5
         ],
         "title": {
          "text": "<i>c</i> Factor"
         }
        },
        "yaxis": {
         "anchor": "x",
         "domain": [
          0.575,
          1
         ],
         "range": [
          -0.9,
          4
         ],
         "title": {
          "text": "Energy difference per atom [eV]"
         }
        },
        "yaxis2": {
         "anchor": "x2",
         "domain": [
          0,
          0.425
         ],
         "title": {
          "text": "Relative energy"
         }
        }
       }
      }
     },
     "metadata": {},
     "output_type": "display_data"
    }
   ],
   "source": [
    "#fig_combined.update_xaxes(title_text='<i>c</i> Factor')\n",
    "fig_combined.update_layout(yaxis1={'title':'Energy difference per atom [eV]', 'range':[-0.9,4]},\n",
    "                yaxis2={'title':'Relative energy'},\n",
    "                xaxis2={'title':'<i>c</i> Factor','range':[0.75,1.5]},\n",
    "                grid_yaxes=['y1'],\n",
    "                legend_title_text='Method',\n",
    "                font_family=\"Serif\",font_size=18,\n",
    "                template='ggplot2',\n",
    "                width=1000,\n",
    "                height=600) #,'position':0\n",
    "\n",
    "fig_combined.show()"
   ]
  },
  {
   "cell_type": "code",
   "execution_count": 136,
   "metadata": {},
   "outputs": [],
   "source": [
    "fig_combined.write_image('/Users/dominicwelti/Library/CloudStorage/Dropbox/Apps/Overleaf/Master Thesis - MLIP evaluation/graphs/results/graphite_mace.png',format='png',scale=5)"
   ]
  }
 ],
 "metadata": {
  "kernelspec": {
   "display_name": "base",
   "language": "python",
   "name": "python3"
  },
  "language_info": {
   "codemirror_mode": {
    "name": "ipython",
    "version": 3
   },
   "file_extension": ".py",
   "mimetype": "text/x-python",
   "name": "python",
   "nbconvert_exporter": "python",
   "pygments_lexer": "ipython3",
   "version": "3.9.19"
  }
 },
 "nbformat": 4,
 "nbformat_minor": 2
}
