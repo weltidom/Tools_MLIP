{
 "cells": [
  {
   "cell_type": "code",
   "execution_count": 135,
   "metadata": {},
   "outputs": [],
   "source": [
    "import pandas as pd\n",
    "import numpy as np\n",
    "import plotly.express as px\n",
    "import os\n",
    "import py4vasp as pv"
   ]
  },
  {
   "cell_type": "code",
   "execution_count": 136,
   "metadata": {},
   "outputs": [],
   "source": [
    "data_mace=pd.read_pickle('/Users/dominicwelti/Documents/Master_Thesis_Data_Set/Graphite/MACE/results.pkl')"
   ]
  },
  {
   "cell_type": "code",
   "execution_count": 137,
   "metadata": {},
   "outputs": [],
   "source": [
    "dft_folder='/Users/dominicwelti/Documents/Master_Thesis_Data_Set/Graphite/DFT'\n",
    "files=list(filter(lambda x:'.h5' in x, os.listdir(dft_folder)))\n",
    "\n",
    "data_dft=pd.DataFrame({\n",
    "    'Calculation type': 'DFT',\n",
    "    'Model': '',\n",
    "    'c Factor': [0]*len(files),\n",
    "    'c Parameter': 0,\n",
    "    'Energy': 0\n",
    "})"
   ]
  },
  {
   "cell_type": "code",
   "execution_count": 138,
   "metadata": {},
   "outputs": [],
   "source": [
    "for i, row in data_dft.iterrows():\n",
    "    data_dft.loc[i, 'Model'] = files[i].split('_')[0]\n",
    "    data_dft.loc[i, 'c Factor'] = files[i].split('_')[1].split('.h')[0]\n",
    "\n",
    "    calc=pv.Calculation.from_file(f'{dft_folder}/{files[i]}')\n",
    "    atoms=calc.structure.to_ase()\n",
    "    data_dft.loc[i, 'c Parameter'] = atoms.get_cell()[2,2]\n",
    "    data_dft.loc[i, 'Energy'] = calc.energy.read()['energy(sigma->0)']\n"
   ]
  },
  {
   "cell_type": "code",
   "execution_count": 139,
   "metadata": {},
   "outputs": [],
   "source": [
    "def normalize(df:pd.DataFrame):\n",
    "    '''Normalize energy values (delta to lowest value of model)'''\n",
    "    df['Relative energy']=0\n",
    "    for model in df['Model'].unique():\n",
    "        min_e, max_e = np.min(df.loc[df['Model']==model, 'Energy']), np.max(df.loc[df['Model']==model, 'Energy'])\n",
    "        df.loc[df['Model']==model, 'Relative energy'] = (-df.loc[df['Model']==model, 'Energy'] + min_e) / (-max_e+min_e)\n",
    "    return df"
   ]
  },
  {
   "cell_type": "code",
   "execution_count": 140,
   "metadata": {},
   "outputs": [],
   "source": [
    "data_dft=normalize(data_dft)\n",
    "data_mace=normalize(data_mace)"
   ]
  },
  {
   "cell_type": "code",
   "execution_count": 141,
   "metadata": {},
   "outputs": [],
   "source": [
    "df=pd.concat([data_mace, data_dft])\n",
    "df['c Factor']=df['c Factor'].astype(float)\n",
    "df=df.sort_values('c Factor').reset_index(drop=True)"
   ]
  },
  {
   "cell_type": "code",
   "execution_count": 142,
   "metadata": {},
   "outputs": [],
   "source": [
    "plot=px.line(df, x='c Factor', y='Relative energy', color='Model', markers=True, template='ggplot2')"
   ]
  },
  {
   "cell_type": "code",
   "execution_count": 143,
   "metadata": {},
   "outputs": [
    {
     "data": {
      "application/vnd.plotly.v1+json": {
       "config": {
        "plotlyServerURL": "https://plot.ly"
       },
       "data": [
        {
         "hovertemplate": "Model=LDA<br>c Factor=%{x}<br>Relative energy=%{y}<extra></extra>",
         "legendgroup": "LDA",
         "line": {
          "color": "#F8766D",
          "dash": "solid"
         },
         "marker": {
          "symbol": "circle"
         },
         "mode": "lines+markers",
         "name": "LDA",
         "orientation": "v",
         "showlegend": true,
         "type": "scatter",
         "x": [
          0.75,
          0.8,
          0.85,
          0.9,
          0.95,
          1,
          1.05,
          1.1,
          1.15,
          1.2,
          1.25,
          1.3,
          1.35,
          1.4,
          1.4500000000000002,
          1.5
         ],
         "xaxis": "x",
         "y": [
          1,
          0.4793782393281736,
          0.20042501852549605,
          0.06462963760926206,
          0.010374725575589681,
          0,
          0.011168223021899657,
          0.03102748319504665,
          0.05257267874502973,
          0.07245804640090628,
          0.08934212635074287,
          0.10293683877116852,
          0.11353470193569029,
          0.12158932283344244,
          0.12754265138168033,
          0.1318294527295567
         ],
         "yaxis": "y"
        },
        {
         "hovertemplate": "Model=PBE-D3BF<br>c Factor=%{x}<br>Relative energy=%{y}<extra></extra>",
         "legendgroup": "PBE-D3BF",
         "line": {
          "color": "#A3A500",
          "dash": "solid"
         },
         "marker": {
          "symbol": "circle"
         },
         "mode": "lines+markers",
         "name": "PBE-D3BF",
         "orientation": "v",
         "showlegend": true,
         "type": "scatter",
         "x": [
          0.75,
          0.8,
          0.85,
          0.9,
          0.95,
          1,
          1.05,
          1.1,
          1.15,
          1.2,
          1.25,
          1.3,
          1.35,
          1.4,
          1.4500000000000002,
          1.5
         ],
         "xaxis": "x",
         "y": [
          1,
          0.49652320570454034,
          0.22078865179159304,
          0.07987295809312205,
          0.017711043280589485,
          0,
          0.006075383606012258,
          0.02376440777295143,
          0.04607935036938557,
          0.06928997608070124,
          0.09145515926050107,
          0.1116815052770519,
          0.12971482170086102,
          0.1455547849927657,
          0.15930577987827413,
          0.17113858083898703
         ],
         "yaxis": "y"
        },
        {
         "hovertemplate": "Model=PBE<br>c Factor=%{x}<br>Relative energy=%{y}<extra></extra>",
         "legendgroup": "PBE",
         "line": {
          "color": "#00BF7D",
          "dash": "solid"
         },
         "marker": {
          "symbol": "circle"
         },
         "mode": "lines+markers",
         "name": "PBE",
         "orientation": "v",
         "showlegend": true,
         "type": "scatter",
         "x": [
          0.75,
          0.8,
          0.85,
          0.9,
          0.95,
          1,
          1.05,
          1.1,
          1.15,
          1.2,
          1.25,
          1.3,
          1.35,
          1.4,
          1.4500000000000002,
          1.5
         ],
         "xaxis": "x",
         "y": [
          1,
          0.5853882601016192,
          0.336732307784714,
          0.19010677130236822,
          0.10512911974240942,
          0.05666222170760281,
          0.029466833506722395,
          0.014492057201868311,
          0.006463887782155989,
          0.002403876464343513,
          0.0005845425595173532,
          0,
          0.00011440303768900418,
          0.0006006291692837876,
          0.0012332330266262277,
          0.00187067861113001
         ],
         "yaxis": "y"
        },
        {
         "hovertemplate": "Model=ANI-1ccx<br>c Factor=%{x}<br>Relative energy=%{y}<extra></extra>",
         "legendgroup": "ANI-1ccx",
         "line": {
          "color": "#00B0F6",
          "dash": "solid"
         },
         "marker": {
          "symbol": "circle"
         },
         "mode": "lines+markers",
         "name": "ANI-1ccx",
         "orientation": "v",
         "showlegend": true,
         "type": "scatter",
         "x": [
          0.75,
          0.8,
          0.85,
          0.9,
          0.95,
          1,
          1.05,
          1.1,
          1.15,
          1.2,
          1.25,
          1.3,
          1.35,
          1.4,
          1.45,
          1.5
         ],
         "xaxis": "x",
         "y": [
          0.8817741224849464,
          1,
          0.8153424389288687,
          0.873745532873158,
          0.8220982033583003,
          0.30386253488030546,
          0,
          0.28031526900670684,
          0.5492730210016155,
          0.42380183091007,
          0.3059186370979586,
          0.26371958682136387,
          0.2518725216625055,
          0.2494247809272042,
          0.249082097224262,
          0.249082097224262
         ],
         "yaxis": "y"
        },
        {
         "hovertemplate": "Model=s66x8<br>c Factor=%{x}<br>Relative energy=%{y}<extra></extra>",
         "legendgroup": "s66x8",
         "line": {
          "color": "#E76BF3",
          "dash": "solid"
         },
         "marker": {
          "symbol": "circle"
         },
         "mode": "lines+markers",
         "name": "s66x8",
         "orientation": "v",
         "showlegend": true,
         "type": "scatter",
         "x": [
          0.75,
          0.8,
          0.85,
          0.9,
          0.95,
          1,
          1.05,
          1.1,
          1.15,
          1.2,
          1.25,
          1.3,
          1.35,
          1.4,
          1.45,
          1.5
         ],
         "xaxis": "x",
         "y": [
          1,
          0.252686271790306,
          0.07438791777957733,
          0.026912677711512678,
          0.013699426878973483,
          0.01179051479481432,
          0.013851543310679915,
          0.01534288087642926,
          0.013875404711731905,
          0.010000909715915107,
          0.005640238673664023,
          0.0023413999782264717,
          0.0006203964273517275,
          0.00008351490368196331,
          0.0000029826751314986897,
          0
         ],
         "yaxis": "y"
        },
        {
         "hovertemplate": "Model=ANI-1ccx+s66x8<br>c Factor=%{x}<br>Relative energy=%{y}<extra></extra>",
         "legendgroup": "ANI-1ccx+s66x8",
         "line": {
          "color": "#F8766D",
          "dash": "solid"
         },
         "marker": {
          "symbol": "circle"
         },
         "mode": "lines+markers",
         "name": "ANI-1ccx+s66x8",
         "orientation": "v",
         "showlegend": true,
         "type": "scatter",
         "x": [
          0.75,
          0.8,
          0.85,
          0.9,
          0.95,
          1,
          1.05,
          1.1,
          1.15,
          1.2,
          1.25,
          1.3,
          1.35,
          1.4,
          1.45,
          1.5
         ],
         "xaxis": "x",
         "y": [
          1,
          0.6287688442211056,
          0.4331030150753769,
          0.32097989949748745,
          0.22173366834170855,
          0.0989321608040201,
          0.013190954773869347,
          0,
          0.06187185929648241,
          0.11934673366834171,
          0.1253140703517588,
          0.1089824120603015,
          0.09547738693467336,
          0.09045226130653267,
          0.08982412060301508,
          0.08951005025125629
         ],
         "yaxis": "y"
        }
       ],
       "layout": {
        "legend": {
         "title": {
          "text": "Model"
         },
         "tracegroupgap": 0
        },
        "margin": {
         "t": 60
        },
        "template": {
         "data": {
          "bar": [
           {
            "error_x": {
             "color": "rgb(51,51,51)"
            },
            "error_y": {
             "color": "rgb(51,51,51)"
            },
            "marker": {
             "line": {
              "color": "rgb(237,237,237)",
              "width": 0.5
             },
             "pattern": {
              "fillmode": "overlay",
              "size": 10,
              "solidity": 0.2
             }
            },
            "type": "bar"
           }
          ],
          "barpolar": [
           {
            "marker": {
             "line": {
              "color": "rgb(237,237,237)",
              "width": 0.5
             },
             "pattern": {
              "fillmode": "overlay",
              "size": 10,
              "solidity": 0.2
             }
            },
            "type": "barpolar"
           }
          ],
          "carpet": [
           {
            "aaxis": {
             "endlinecolor": "rgb(51,51,51)",
             "gridcolor": "white",
             "linecolor": "white",
             "minorgridcolor": "white",
             "startlinecolor": "rgb(51,51,51)"
            },
            "baxis": {
             "endlinecolor": "rgb(51,51,51)",
             "gridcolor": "white",
             "linecolor": "white",
             "minorgridcolor": "white",
             "startlinecolor": "rgb(51,51,51)"
            },
            "type": "carpet"
           }
          ],
          "choropleth": [
           {
            "colorbar": {
             "outlinewidth": 0,
             "tickcolor": "rgb(237,237,237)",
             "ticklen": 6,
             "ticks": "inside"
            },
            "type": "choropleth"
           }
          ],
          "contour": [
           {
            "colorbar": {
             "outlinewidth": 0,
             "tickcolor": "rgb(237,237,237)",
             "ticklen": 6,
             "ticks": "inside"
            },
            "colorscale": [
             [
              0,
              "rgb(20,44,66)"
             ],
             [
              1,
              "rgb(90,179,244)"
             ]
            ],
            "type": "contour"
           }
          ],
          "contourcarpet": [
           {
            "colorbar": {
             "outlinewidth": 0,
             "tickcolor": "rgb(237,237,237)",
             "ticklen": 6,
             "ticks": "inside"
            },
            "type": "contourcarpet"
           }
          ],
          "heatmap": [
           {
            "colorbar": {
             "outlinewidth": 0,
             "tickcolor": "rgb(237,237,237)",
             "ticklen": 6,
             "ticks": "inside"
            },
            "colorscale": [
             [
              0,
              "rgb(20,44,66)"
             ],
             [
              1,
              "rgb(90,179,244)"
             ]
            ],
            "type": "heatmap"
           }
          ],
          "heatmapgl": [
           {
            "colorbar": {
             "outlinewidth": 0,
             "tickcolor": "rgb(237,237,237)",
             "ticklen": 6,
             "ticks": "inside"
            },
            "colorscale": [
             [
              0,
              "rgb(20,44,66)"
             ],
             [
              1,
              "rgb(90,179,244)"
             ]
            ],
            "type": "heatmapgl"
           }
          ],
          "histogram": [
           {
            "marker": {
             "pattern": {
              "fillmode": "overlay",
              "size": 10,
              "solidity": 0.2
             }
            },
            "type": "histogram"
           }
          ],
          "histogram2d": [
           {
            "colorbar": {
             "outlinewidth": 0,
             "tickcolor": "rgb(237,237,237)",
             "ticklen": 6,
             "ticks": "inside"
            },
            "colorscale": [
             [
              0,
              "rgb(20,44,66)"
             ],
             [
              1,
              "rgb(90,179,244)"
             ]
            ],
            "type": "histogram2d"
           }
          ],
          "histogram2dcontour": [
           {
            "colorbar": {
             "outlinewidth": 0,
             "tickcolor": "rgb(237,237,237)",
             "ticklen": 6,
             "ticks": "inside"
            },
            "colorscale": [
             [
              0,
              "rgb(20,44,66)"
             ],
             [
              1,
              "rgb(90,179,244)"
             ]
            ],
            "type": "histogram2dcontour"
           }
          ],
          "mesh3d": [
           {
            "colorbar": {
             "outlinewidth": 0,
             "tickcolor": "rgb(237,237,237)",
             "ticklen": 6,
             "ticks": "inside"
            },
            "type": "mesh3d"
           }
          ],
          "parcoords": [
           {
            "line": {
             "colorbar": {
              "outlinewidth": 0,
              "tickcolor": "rgb(237,237,237)",
              "ticklen": 6,
              "ticks": "inside"
             }
            },
            "type": "parcoords"
           }
          ],
          "pie": [
           {
            "automargin": true,
            "type": "pie"
           }
          ],
          "scatter": [
           {
            "fillpattern": {
             "fillmode": "overlay",
             "size": 10,
             "solidity": 0.2
            },
            "type": "scatter"
           }
          ],
          "scatter3d": [
           {
            "line": {
             "colorbar": {
              "outlinewidth": 0,
              "tickcolor": "rgb(237,237,237)",
              "ticklen": 6,
              "ticks": "inside"
             }
            },
            "marker": {
             "colorbar": {
              "outlinewidth": 0,
              "tickcolor": "rgb(237,237,237)",
              "ticklen": 6,
              "ticks": "inside"
             }
            },
            "type": "scatter3d"
           }
          ],
          "scattercarpet": [
           {
            "marker": {
             "colorbar": {
              "outlinewidth": 0,
              "tickcolor": "rgb(237,237,237)",
              "ticklen": 6,
              "ticks": "inside"
             }
            },
            "type": "scattercarpet"
           }
          ],
          "scattergeo": [
           {
            "marker": {
             "colorbar": {
              "outlinewidth": 0,
              "tickcolor": "rgb(237,237,237)",
              "ticklen": 6,
              "ticks": "inside"
             }
            },
            "type": "scattergeo"
           }
          ],
          "scattergl": [
           {
            "marker": {
             "colorbar": {
              "outlinewidth": 0,
              "tickcolor": "rgb(237,237,237)",
              "ticklen": 6,
              "ticks": "inside"
             }
            },
            "type": "scattergl"
           }
          ],
          "scattermapbox": [
           {
            "marker": {
             "colorbar": {
              "outlinewidth": 0,
              "tickcolor": "rgb(237,237,237)",
              "ticklen": 6,
              "ticks": "inside"
             }
            },
            "type": "scattermapbox"
           }
          ],
          "scatterpolar": [
           {
            "marker": {
             "colorbar": {
              "outlinewidth": 0,
              "tickcolor": "rgb(237,237,237)",
              "ticklen": 6,
              "ticks": "inside"
             }
            },
            "type": "scatterpolar"
           }
          ],
          "scatterpolargl": [
           {
            "marker": {
             "colorbar": {
              "outlinewidth": 0,
              "tickcolor": "rgb(237,237,237)",
              "ticklen": 6,
              "ticks": "inside"
             }
            },
            "type": "scatterpolargl"
           }
          ],
          "scatterternary": [
           {
            "marker": {
             "colorbar": {
              "outlinewidth": 0,
              "tickcolor": "rgb(237,237,237)",
              "ticklen": 6,
              "ticks": "inside"
             }
            },
            "type": "scatterternary"
           }
          ],
          "surface": [
           {
            "colorbar": {
             "outlinewidth": 0,
             "tickcolor": "rgb(237,237,237)",
             "ticklen": 6,
             "ticks": "inside"
            },
            "colorscale": [
             [
              0,
              "rgb(20,44,66)"
             ],
             [
              1,
              "rgb(90,179,244)"
             ]
            ],
            "type": "surface"
           }
          ],
          "table": [
           {
            "cells": {
             "fill": {
              "color": "rgb(237,237,237)"
             },
             "line": {
              "color": "white"
             }
            },
            "header": {
             "fill": {
              "color": "rgb(217,217,217)"
             },
             "line": {
              "color": "white"
             }
            },
            "type": "table"
           }
          ]
         },
         "layout": {
          "annotationdefaults": {
           "arrowhead": 0,
           "arrowwidth": 1
          },
          "autotypenumbers": "strict",
          "coloraxis": {
           "colorbar": {
            "outlinewidth": 0,
            "tickcolor": "rgb(237,237,237)",
            "ticklen": 6,
            "ticks": "inside"
           }
          },
          "colorscale": {
           "sequential": [
            [
             0,
             "rgb(20,44,66)"
            ],
            [
             1,
             "rgb(90,179,244)"
            ]
           ],
           "sequentialminus": [
            [
             0,
             "rgb(20,44,66)"
            ],
            [
             1,
             "rgb(90,179,244)"
            ]
           ]
          },
          "colorway": [
           "#F8766D",
           "#A3A500",
           "#00BF7D",
           "#00B0F6",
           "#E76BF3"
          ],
          "font": {
           "color": "rgb(51,51,51)"
          },
          "geo": {
           "bgcolor": "white",
           "lakecolor": "white",
           "landcolor": "rgb(237,237,237)",
           "showlakes": true,
           "showland": true,
           "subunitcolor": "white"
          },
          "hoverlabel": {
           "align": "left"
          },
          "hovermode": "closest",
          "paper_bgcolor": "white",
          "plot_bgcolor": "rgb(237,237,237)",
          "polar": {
           "angularaxis": {
            "gridcolor": "white",
            "linecolor": "white",
            "showgrid": true,
            "tickcolor": "rgb(51,51,51)",
            "ticks": "outside"
           },
           "bgcolor": "rgb(237,237,237)",
           "radialaxis": {
            "gridcolor": "white",
            "linecolor": "white",
            "showgrid": true,
            "tickcolor": "rgb(51,51,51)",
            "ticks": "outside"
           }
          },
          "scene": {
           "xaxis": {
            "backgroundcolor": "rgb(237,237,237)",
            "gridcolor": "white",
            "gridwidth": 2,
            "linecolor": "white",
            "showbackground": true,
            "showgrid": true,
            "tickcolor": "rgb(51,51,51)",
            "ticks": "outside",
            "zerolinecolor": "white"
           },
           "yaxis": {
            "backgroundcolor": "rgb(237,237,237)",
            "gridcolor": "white",
            "gridwidth": 2,
            "linecolor": "white",
            "showbackground": true,
            "showgrid": true,
            "tickcolor": "rgb(51,51,51)",
            "ticks": "outside",
            "zerolinecolor": "white"
           },
           "zaxis": {
            "backgroundcolor": "rgb(237,237,237)",
            "gridcolor": "white",
            "gridwidth": 2,
            "linecolor": "white",
            "showbackground": true,
            "showgrid": true,
            "tickcolor": "rgb(51,51,51)",
            "ticks": "outside",
            "zerolinecolor": "white"
           }
          },
          "shapedefaults": {
           "fillcolor": "black",
           "line": {
            "width": 0
           },
           "opacity": 0.3
          },
          "ternary": {
           "aaxis": {
            "gridcolor": "white",
            "linecolor": "white",
            "showgrid": true,
            "tickcolor": "rgb(51,51,51)",
            "ticks": "outside"
           },
           "baxis": {
            "gridcolor": "white",
            "linecolor": "white",
            "showgrid": true,
            "tickcolor": "rgb(51,51,51)",
            "ticks": "outside"
           },
           "bgcolor": "rgb(237,237,237)",
           "caxis": {
            "gridcolor": "white",
            "linecolor": "white",
            "showgrid": true,
            "tickcolor": "rgb(51,51,51)",
            "ticks": "outside"
           }
          },
          "xaxis": {
           "automargin": true,
           "gridcolor": "white",
           "linecolor": "white",
           "showgrid": true,
           "tickcolor": "rgb(51,51,51)",
           "ticks": "outside",
           "title": {
            "standoff": 15
           },
           "zerolinecolor": "white"
          },
          "yaxis": {
           "automargin": true,
           "gridcolor": "white",
           "linecolor": "white",
           "showgrid": true,
           "tickcolor": "rgb(51,51,51)",
           "ticks": "outside",
           "title": {
            "standoff": 15
           },
           "zerolinecolor": "white"
          }
         }
        },
        "xaxis": {
         "anchor": "y",
         "domain": [
          0,
          1
         ],
         "title": {
          "text": "c Factor"
         }
        },
        "yaxis": {
         "anchor": "x",
         "domain": [
          0,
          1
         ],
         "title": {
          "text": "Relative energy"
         }
        }
       }
      }
     },
     "metadata": {},
     "output_type": "display_data"
    }
   ],
   "source": [
    "plot.show()"
   ]
  }
 ],
 "metadata": {
  "kernelspec": {
   "display_name": "base",
   "language": "python",
   "name": "python3"
  },
  "language_info": {
   "codemirror_mode": {
    "name": "ipython",
    "version": 3
   },
   "file_extension": ".py",
   "mimetype": "text/x-python",
   "name": "python",
   "nbconvert_exporter": "python",
   "pygments_lexer": "ipython3",
   "version": "3.9.16"
  }
 },
 "nbformat": 4,
 "nbformat_minor": 2
}
