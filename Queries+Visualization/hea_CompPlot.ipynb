{
 "cells": [
  {
   "cell_type": "code",
   "execution_count": 53,
   "metadata": {},
   "outputs": [],
   "source": [
    "import numpy as np\n",
    "import pandas as pd\n",
    "\n",
    "#import data\n",
    "df = pd.read_csv('/Users/dominicwelti/Library/CloudStorage/Dropbox/Master_Thesis/data_npj/Graph_data.csv')"
   ]
  },
  {
   "cell_type": "code",
   "execution_count": 54,
   "metadata": {},
   "outputs": [],
   "source": [
    "def calculate_rel_e(df:pd.DataFrame):\n",
    "    '''Calculate normalized error. Returns dataframe with new column [\"Normalized error\"].'''\n",
    "    df['Normalized error']=0\n",
    "    for (i, error_e, error_f) in zip(df.index, df['Error_E'],df['Error_F']):\n",
    "        df.loc[i,'Normalized error']=(1/2)*( error_f/max(df['Error_F']) + error_e/max(df['Error_E']) )\n",
    "    return df"
   ]
  },
  {
   "cell_type": "code",
   "execution_count": 55,
   "metadata": {},
   "outputs": [
    {
     "name": "stderr",
     "output_type": "stream",
     "text": [
      "/var/folders/22/kgbcd6856bb9_kzpfp_36k600000gn/T/ipykernel_94674/3109798719.py:5: FutureWarning:\n",
      "\n",
      "Setting an item of incompatible dtype is deprecated and will raise an error in a future version of pandas. Value '0.07976590315941998' has dtype incompatible with int64, please explicitly cast to a compatible dtype first.\n",
      "\n"
     ]
    }
   ],
   "source": [
    "df=calculate_rel_e(df)"
   ]
  },
  {
   "cell_type": "code",
   "execution_count": 56,
   "metadata": {},
   "outputs": [
    {
     "data": {
      "application/vnd.plotly.v1+json": {
       "config": {
        "plotlyServerURL": "https://plotly.com"
       },
       "data": [
        {
         "hovertemplate": "Type=GM-NN<br>Cost=%{x}<br>Normalized error=%{y}<br>Model=%{text}<extra></extra>",
         "legendgroup": "GM-NN",
         "marker": {
          "color": "#636efa",
          "symbol": "circle"
         },
         "mode": "markers+text",
         "name": "GM-NN",
         "orientation": "v",
         "showlegend": true,
         "text": [
          "593-512-512-1",
          "593-128-128-1",
          "593-32-32-1",
          "360-512-512-1",
          "910-512-512-1",
          "593-512-512-1",
          "593-128-128-1",
          "593-32-32-1",
          "360-512-512-1",
          "910-512-512-1"
         ],
         "type": "scatter",
         "x": [
          43.81,
          40.42,
          37.54,
          44.25,
          50.04,
          7.25,
          7.47,
          7.28,
          7.3,
          7.23
         ],
         "xaxis": "x",
         "y": [
          0.07976590315941998,
          0.08449816507850838,
          0.08864026178780551,
          0.09512265833263436,
          0.07621397165991411,
          0.07976590315941998,
          0.08449816507850838,
          0.08864026178780551,
          0.09512265833263436,
          0.07621397165991411
         ],
         "yaxis": "y"
        },
        {
         "hovertemplate": "Type=MTP<br>Cost=%{x}<br>Normalized error=%{y}<br>Model=%{text}<extra></extra>",
         "legendgroup": "MTP",
         "marker": {
          "color": "#EF553B",
          "symbol": "circle"
         },
         "mode": "markers+text",
         "name": "MTP",
         "orientation": "v",
         "showlegend": true,
         "text": [
          "lev16",
          "lev20",
          "lev24",
          "lev26",
          "lev28"
         ],
         "type": "scatter",
         "x": [
          3.45,
          7.69,
          17.57,
          25.1,
          43.78
         ],
         "xaxis": "x",
         "y": [
          0.1269851978542541,
          0.11819380271828517,
          0.09702777970244977,
          0.09906752681270672,
          0.09132183635587873
         ],
         "yaxis": "y"
        },
        {
         "hovertemplate": "Type=Classical<br>Cost=%{x}<br>Normalized error=%{y}<br>Model=%{text}<extra></extra>",
         "legendgroup": "Classical",
         "marker": {
          "color": "#00cc96",
          "symbol": "circle"
         },
         "mode": "markers+text",
         "name": "Classical",
         "orientation": "v",
         "showlegend": true,
         "text": [
          " EAM",
          " MEAM"
         ],
         "type": "scatter",
         "x": [
          0.5,
          6.2
         ],
         "xaxis": "x",
         "y": [
          1,
          0.9389893162471084
         ],
         "yaxis": "y"
        },
        {
         "hovertemplate": "Type=MACE<br>Cost=%{x}<br>Normalized error=%{y}<br>Model=%{text}<extra></extra>",
         "legendgroup": "MACE",
         "marker": {
          "color": "#ab63fa",
          "symbol": "circle"
         },
         "mode": "markers+text",
         "name": "MACE",
         "orientation": "v",
         "showlegend": true,
         "text": [
          "Standard",
          "Standard",
          "Standard",
          "Standard"
         ],
         "type": "scatter",
         "x": [
          151.9,
          2.639351852,
          0.1759,
          7.465
         ],
         "xaxis": "x",
         "y": [
          0.08998499971433815,
          0.08998499971433815,
          0.08998499971433815,
          0.08998499971433815
         ],
         "yaxis": "y"
        },
        {
         "hovertemplate": "Type=NequIP<br>Cost=%{x}<br>Normalized error=%{y}<br>Model=%{text}<extra></extra>",
         "legendgroup": "NequIP",
         "marker": {
          "color": "#FFA15A",
          "symbol": "circle"
         },
         "mode": "markers+text",
         "name": "NequIP",
         "orientation": "v",
         "showlegend": true,
         "text": [
          "Standard",
          "Standard",
          "Standard",
          "Standard"
         ],
         "type": "scatter",
         "x": [
          0.160185185,
          8.190740741,
          7.077083333,
          0.121759259
         ],
         "xaxis": "x",
         "y": [
          0.14343931995463446,
          0.14343931995463446,
          0.14343931995463446,
          0.14343931995463446
         ],
         "yaxis": "y"
        },
        {
         "hovertemplate": "Type=Allegro<br>Cost=%{x}<br>Normalized error=%{y}<br>Model=%{text}<extra></extra>",
         "legendgroup": "Allegro",
         "marker": {
          "color": "#19d3f3",
          "symbol": "circle"
         },
         "mode": "markers+text",
         "name": "Allegro",
         "orientation": "v",
         "showlegend": true,
         "text": [
          "Standard",
          "Standard",
          "Standard",
          "Standard"
         ],
         "type": "scatter",
         "x": [
          0.389583333,
          23.71134259,
          23.32152778,
          0.371296296
         ],
         "xaxis": "x",
         "y": [
          0.12851774324713638,
          0.12851774324713638,
          0.12851774324713638,
          0.12851774324713638
         ],
         "yaxis": "y"
        }
       ],
       "layout": {
        "legend": {
         "title": {
          "text": "Type"
         },
         "tracegroupgap": 0
        },
        "margin": {
         "t": 60
        },
        "template": {
         "data": {
          "bar": [
           {
            "error_x": {
             "color": "#2a3f5f"
            },
            "error_y": {
             "color": "#2a3f5f"
            },
            "marker": {
             "line": {
              "color": "#E5ECF6",
              "width": 0.5
             },
             "pattern": {
              "fillmode": "overlay",
              "size": 10,
              "solidity": 0.2
             }
            },
            "type": "bar"
           }
          ],
          "barpolar": [
           {
            "marker": {
             "line": {
              "color": "#E5ECF6",
              "width": 0.5
             },
             "pattern": {
              "fillmode": "overlay",
              "size": 10,
              "solidity": 0.2
             }
            },
            "type": "barpolar"
           }
          ],
          "carpet": [
           {
            "aaxis": {
             "endlinecolor": "#2a3f5f",
             "gridcolor": "white",
             "linecolor": "white",
             "minorgridcolor": "white",
             "startlinecolor": "#2a3f5f"
            },
            "baxis": {
             "endlinecolor": "#2a3f5f",
             "gridcolor": "white",
             "linecolor": "white",
             "minorgridcolor": "white",
             "startlinecolor": "#2a3f5f"
            },
            "type": "carpet"
           }
          ],
          "choropleth": [
           {
            "colorbar": {
             "outlinewidth": 0,
             "ticks": ""
            },
            "type": "choropleth"
           }
          ],
          "contour": [
           {
            "colorbar": {
             "outlinewidth": 0,
             "ticks": ""
            },
            "colorscale": [
             [
              0,
              "#0d0887"
             ],
             [
              0.1111111111111111,
              "#46039f"
             ],
             [
              0.2222222222222222,
              "#7201a8"
             ],
             [
              0.3333333333333333,
              "#9c179e"
             ],
             [
              0.4444444444444444,
              "#bd3786"
             ],
             [
              0.5555555555555556,
              "#d8576b"
             ],
             [
              0.6666666666666666,
              "#ed7953"
             ],
             [
              0.7777777777777778,
              "#fb9f3a"
             ],
             [
              0.8888888888888888,
              "#fdca26"
             ],
             [
              1,
              "#f0f921"
             ]
            ],
            "type": "contour"
           }
          ],
          "contourcarpet": [
           {
            "colorbar": {
             "outlinewidth": 0,
             "ticks": ""
            },
            "type": "contourcarpet"
           }
          ],
          "heatmap": [
           {
            "colorbar": {
             "outlinewidth": 0,
             "ticks": ""
            },
            "colorscale": [
             [
              0,
              "#0d0887"
             ],
             [
              0.1111111111111111,
              "#46039f"
             ],
             [
              0.2222222222222222,
              "#7201a8"
             ],
             [
              0.3333333333333333,
              "#9c179e"
             ],
             [
              0.4444444444444444,
              "#bd3786"
             ],
             [
              0.5555555555555556,
              "#d8576b"
             ],
             [
              0.6666666666666666,
              "#ed7953"
             ],
             [
              0.7777777777777778,
              "#fb9f3a"
             ],
             [
              0.8888888888888888,
              "#fdca26"
             ],
             [
              1,
              "#f0f921"
             ]
            ],
            "type": "heatmap"
           }
          ],
          "heatmapgl": [
           {
            "colorbar": {
             "outlinewidth": 0,
             "ticks": ""
            },
            "colorscale": [
             [
              0,
              "#0d0887"
             ],
             [
              0.1111111111111111,
              "#46039f"
             ],
             [
              0.2222222222222222,
              "#7201a8"
             ],
             [
              0.3333333333333333,
              "#9c179e"
             ],
             [
              0.4444444444444444,
              "#bd3786"
             ],
             [
              0.5555555555555556,
              "#d8576b"
             ],
             [
              0.6666666666666666,
              "#ed7953"
             ],
             [
              0.7777777777777778,
              "#fb9f3a"
             ],
             [
              0.8888888888888888,
              "#fdca26"
             ],
             [
              1,
              "#f0f921"
             ]
            ],
            "type": "heatmapgl"
           }
          ],
          "histogram": [
           {
            "marker": {
             "pattern": {
              "fillmode": "overlay",
              "size": 10,
              "solidity": 0.2
             }
            },
            "type": "histogram"
           }
          ],
          "histogram2d": [
           {
            "colorbar": {
             "outlinewidth": 0,
             "ticks": ""
            },
            "colorscale": [
             [
              0,
              "#0d0887"
             ],
             [
              0.1111111111111111,
              "#46039f"
             ],
             [
              0.2222222222222222,
              "#7201a8"
             ],
             [
              0.3333333333333333,
              "#9c179e"
             ],
             [
              0.4444444444444444,
              "#bd3786"
             ],
             [
              0.5555555555555556,
              "#d8576b"
             ],
             [
              0.6666666666666666,
              "#ed7953"
             ],
             [
              0.7777777777777778,
              "#fb9f3a"
             ],
             [
              0.8888888888888888,
              "#fdca26"
             ],
             [
              1,
              "#f0f921"
             ]
            ],
            "type": "histogram2d"
           }
          ],
          "histogram2dcontour": [
           {
            "colorbar": {
             "outlinewidth": 0,
             "ticks": ""
            },
            "colorscale": [
             [
              0,
              "#0d0887"
             ],
             [
              0.1111111111111111,
              "#46039f"
             ],
             [
              0.2222222222222222,
              "#7201a8"
             ],
             [
              0.3333333333333333,
              "#9c179e"
             ],
             [
              0.4444444444444444,
              "#bd3786"
             ],
             [
              0.5555555555555556,
              "#d8576b"
             ],
             [
              0.6666666666666666,
              "#ed7953"
             ],
             [
              0.7777777777777778,
              "#fb9f3a"
             ],
             [
              0.8888888888888888,
              "#fdca26"
             ],
             [
              1,
              "#f0f921"
             ]
            ],
            "type": "histogram2dcontour"
           }
          ],
          "mesh3d": [
           {
            "colorbar": {
             "outlinewidth": 0,
             "ticks": ""
            },
            "type": "mesh3d"
           }
          ],
          "parcoords": [
           {
            "line": {
             "colorbar": {
              "outlinewidth": 0,
              "ticks": ""
             }
            },
            "type": "parcoords"
           }
          ],
          "pie": [
           {
            "automargin": true,
            "type": "pie"
           }
          ],
          "scatter": [
           {
            "fillpattern": {
             "fillmode": "overlay",
             "size": 10,
             "solidity": 0.2
            },
            "type": "scatter"
           }
          ],
          "scatter3d": [
           {
            "line": {
             "colorbar": {
              "outlinewidth": 0,
              "ticks": ""
             }
            },
            "marker": {
             "colorbar": {
              "outlinewidth": 0,
              "ticks": ""
             }
            },
            "type": "scatter3d"
           }
          ],
          "scattercarpet": [
           {
            "marker": {
             "colorbar": {
              "outlinewidth": 0,
              "ticks": ""
             }
            },
            "type": "scattercarpet"
           }
          ],
          "scattergeo": [
           {
            "marker": {
             "colorbar": {
              "outlinewidth": 0,
              "ticks": ""
             }
            },
            "type": "scattergeo"
           }
          ],
          "scattergl": [
           {
            "marker": {
             "colorbar": {
              "outlinewidth": 0,
              "ticks": ""
             }
            },
            "type": "scattergl"
           }
          ],
          "scattermapbox": [
           {
            "marker": {
             "colorbar": {
              "outlinewidth": 0,
              "ticks": ""
             }
            },
            "type": "scattermapbox"
           }
          ],
          "scatterpolar": [
           {
            "marker": {
             "colorbar": {
              "outlinewidth": 0,
              "ticks": ""
             }
            },
            "type": "scatterpolar"
           }
          ],
          "scatterpolargl": [
           {
            "marker": {
             "colorbar": {
              "outlinewidth": 0,
              "ticks": ""
             }
            },
            "type": "scatterpolargl"
           }
          ],
          "scatterternary": [
           {
            "marker": {
             "colorbar": {
              "outlinewidth": 0,
              "ticks": ""
             }
            },
            "type": "scatterternary"
           }
          ],
          "surface": [
           {
            "colorbar": {
             "outlinewidth": 0,
             "ticks": ""
            },
            "colorscale": [
             [
              0,
              "#0d0887"
             ],
             [
              0.1111111111111111,
              "#46039f"
             ],
             [
              0.2222222222222222,
              "#7201a8"
             ],
             [
              0.3333333333333333,
              "#9c179e"
             ],
             [
              0.4444444444444444,
              "#bd3786"
             ],
             [
              0.5555555555555556,
              "#d8576b"
             ],
             [
              0.6666666666666666,
              "#ed7953"
             ],
             [
              0.7777777777777778,
              "#fb9f3a"
             ],
             [
              0.8888888888888888,
              "#fdca26"
             ],
             [
              1,
              "#f0f921"
             ]
            ],
            "type": "surface"
           }
          ],
          "table": [
           {
            "cells": {
             "fill": {
              "color": "#EBF0F8"
             },
             "line": {
              "color": "white"
             }
            },
            "header": {
             "fill": {
              "color": "#C8D4E3"
             },
             "line": {
              "color": "white"
             }
            },
            "type": "table"
           }
          ]
         },
         "layout": {
          "annotationdefaults": {
           "arrowcolor": "#2a3f5f",
           "arrowhead": 0,
           "arrowwidth": 1
          },
          "autotypenumbers": "strict",
          "coloraxis": {
           "colorbar": {
            "outlinewidth": 0,
            "ticks": ""
           }
          },
          "colorscale": {
           "diverging": [
            [
             0,
             "#8e0152"
            ],
            [
             0.1,
             "#c51b7d"
            ],
            [
             0.2,
             "#de77ae"
            ],
            [
             0.3,
             "#f1b6da"
            ],
            [
             0.4,
             "#fde0ef"
            ],
            [
             0.5,
             "#f7f7f7"
            ],
            [
             0.6,
             "#e6f5d0"
            ],
            [
             0.7,
             "#b8e186"
            ],
            [
             0.8,
             "#7fbc41"
            ],
            [
             0.9,
             "#4d9221"
            ],
            [
             1,
             "#276419"
            ]
           ],
           "sequential": [
            [
             0,
             "#0d0887"
            ],
            [
             0.1111111111111111,
             "#46039f"
            ],
            [
             0.2222222222222222,
             "#7201a8"
            ],
            [
             0.3333333333333333,
             "#9c179e"
            ],
            [
             0.4444444444444444,
             "#bd3786"
            ],
            [
             0.5555555555555556,
             "#d8576b"
            ],
            [
             0.6666666666666666,
             "#ed7953"
            ],
            [
             0.7777777777777778,
             "#fb9f3a"
            ],
            [
             0.8888888888888888,
             "#fdca26"
            ],
            [
             1,
             "#f0f921"
            ]
           ],
           "sequentialminus": [
            [
             0,
             "#0d0887"
            ],
            [
             0.1111111111111111,
             "#46039f"
            ],
            [
             0.2222222222222222,
             "#7201a8"
            ],
            [
             0.3333333333333333,
             "#9c179e"
            ],
            [
             0.4444444444444444,
             "#bd3786"
            ],
            [
             0.5555555555555556,
             "#d8576b"
            ],
            [
             0.6666666666666666,
             "#ed7953"
            ],
            [
             0.7777777777777778,
             "#fb9f3a"
            ],
            [
             0.8888888888888888,
             "#fdca26"
            ],
            [
             1,
             "#f0f921"
            ]
           ]
          },
          "colorway": [
           "#636efa",
           "#EF553B",
           "#00cc96",
           "#ab63fa",
           "#FFA15A",
           "#19d3f3",
           "#FF6692",
           "#B6E880",
           "#FF97FF",
           "#FECB52"
          ],
          "font": {
           "color": "#2a3f5f"
          },
          "geo": {
           "bgcolor": "white",
           "lakecolor": "white",
           "landcolor": "#E5ECF6",
           "showlakes": true,
           "showland": true,
           "subunitcolor": "white"
          },
          "hoverlabel": {
           "align": "left"
          },
          "hovermode": "closest",
          "mapbox": {
           "style": "light"
          },
          "paper_bgcolor": "white",
          "plot_bgcolor": "#E5ECF6",
          "polar": {
           "angularaxis": {
            "gridcolor": "white",
            "linecolor": "white",
            "ticks": ""
           },
           "bgcolor": "#E5ECF6",
           "radialaxis": {
            "gridcolor": "white",
            "linecolor": "white",
            "ticks": ""
           }
          },
          "scene": {
           "xaxis": {
            "backgroundcolor": "#E5ECF6",
            "gridcolor": "white",
            "gridwidth": 2,
            "linecolor": "white",
            "showbackground": true,
            "ticks": "",
            "zerolinecolor": "white"
           },
           "yaxis": {
            "backgroundcolor": "#E5ECF6",
            "gridcolor": "white",
            "gridwidth": 2,
            "linecolor": "white",
            "showbackground": true,
            "ticks": "",
            "zerolinecolor": "white"
           },
           "zaxis": {
            "backgroundcolor": "#E5ECF6",
            "gridcolor": "white",
            "gridwidth": 2,
            "linecolor": "white",
            "showbackground": true,
            "ticks": "",
            "zerolinecolor": "white"
           }
          },
          "shapedefaults": {
           "line": {
            "color": "#2a3f5f"
           }
          },
          "ternary": {
           "aaxis": {
            "gridcolor": "white",
            "linecolor": "white",
            "ticks": ""
           },
           "baxis": {
            "gridcolor": "white",
            "linecolor": "white",
            "ticks": ""
           },
           "bgcolor": "#E5ECF6",
           "caxis": {
            "gridcolor": "white",
            "linecolor": "white",
            "ticks": ""
           }
          },
          "title": {
           "x": 0.05
          },
          "xaxis": {
           "automargin": true,
           "gridcolor": "white",
           "linecolor": "white",
           "ticks": "",
           "title": {
            "standoff": 15
           },
           "zerolinecolor": "white",
           "zerolinewidth": 2
          },
          "yaxis": {
           "automargin": true,
           "gridcolor": "white",
           "linecolor": "white",
           "ticks": "",
           "title": {
            "standoff": 15
           },
           "zerolinecolor": "white",
           "zerolinewidth": 2
          }
         }
        },
        "xaxis": {
         "anchor": "y",
         "domain": [
          0,
          1
         ],
         "title": {
          "text": "Computational cost of inference [<i>μs/atom/step</i>]"
         },
         "type": "log"
        },
        "yaxis": {
         "anchor": "x",
         "domain": [
          0,
          1
         ],
         "title": {
          "text": "Normalized error"
         }
        }
       }
      }
     },
     "metadata": {},
     "output_type": "display_data"
    }
   ],
   "source": [
    "import plotly.express as px\n",
    "\n",
    "fig = px.scatter(df, x='Cost', y='Normalized error', color='Type', text='Model', log_x=True)\n",
    "fig.update_layout(\n",
    "    xaxis_title=dict(text='Computational cost of inference [<i>μs/atom/step</i>]')\n",
    ") \n",
    "#fig.update_layout(legend=dict(\n",
    "#    yanchor\n",
    "#))"
   ]
  },
  {
   "cell_type": "code",
   "execution_count": 57,
   "metadata": {},
   "outputs": [],
   "source": [
    "df['Colour']=''\n",
    "colours=['blue','red','green','purple','orange', 'turquoise', 'black']\n",
    "\n",
    "for i, name in enumerate(df['Type'].unique()):\n",
    "    df.loc[(df['Type']==name),['Colour']]=colours[i]"
   ]
  },
  {
   "cell_type": "code",
   "execution_count": 58,
   "metadata": {},
   "outputs": [],
   "source": [
    "def textpos(kind):\n",
    "    if 'MACE' in kind:\n",
    "        return 'bottom center'\n",
    "    elif 'GM-NN' in kind:\n",
    "        return 'bottom left'\n",
    "    else:\n",
    "        return 'middle right'"
   ]
  },
  {
   "cell_type": "code",
   "execution_count": 59,
   "metadata": {},
   "outputs": [],
   "source": [
    "# Thesis report plot for CPU\n",
    "import plotly.graph_objects as go\n",
    "\n",
    "layout = go.Layout(\n",
    "    yaxis1=dict(domain=[0.,0.7]),\n",
    "    yaxis2=dict(domain=[0.75,1])\n",
    ")\n",
    "\n",
    "# add assignment to y subplot\n",
    "df['y axes']='y1'\n",
    "df.loc[(df['Normalized error']>0.2),'y axes']='y2'\n",
    "df_sub=df.query(\"`Engine`=='CPU' and `MD Suite`=='LAMMPS'\")\n",
    "\n",
    "fig = go.Figure(data=[], layout=layout)\n",
    "\n",
    "for kind in df_sub['Type'].unique():\n",
    "    subset=df_sub.query('Type==@kind')\n",
    "    fig.add_trace(go.Scatter(\n",
    "        x=subset['Cost'],\n",
    "        y=subset['Normalized error'],\n",
    "        mode='markers+text',\n",
    "        name=kind,\n",
    "        marker={'color':subset['Colour']},\n",
    "        text=subset['Type']+' - '+subset['Model'],\n",
    "        #hovertemplate=\"%{text}\"+\"<br>Computational cost: %{x} μs\"+\"<br>Normalized error: %{y}\",\n",
    "        textposition=textpos(kind),\n",
    "        legendgroup=kind,\n",
    "        yaxis=subset['y axes'].unique()[0],\n",
    "    ),\n",
    "    )\n",
    "fig.update_xaxes(title_text='Computational cost of inference [<i>μs/atom/step</i>]',type=\"log\")\n",
    "fig.update_layout(yaxis1={'title':'Normalized error'},yaxis2={},grid_yaxes=['y1'],\n",
    "                xaxis={'range':[-1,2.5]},\n",
    "                font_family=\"Serif\",font_size=20,\n",
    "                template='ggplot2',\n",
    "                width=1000,\n",
    "                height=900,\n",
    "                showlegend=False) #,'position':0\n",
    "\n",
    "fig.write_image('/Users/dominicwelti/Library/CloudStorage/Dropbox/Apps/Overleaf/Master Thesis - MLIP evaluation/graphs/results/hea_LAMMPS-CPU.pdf',format='pdf',scale=5)"
   ]
  },
  {
   "cell_type": "code",
   "execution_count": 60,
   "metadata": {},
   "outputs": [
    {
     "data": {
      "application/vnd.plotly.v1+json": {
       "config": {
        "plotlyServerURL": "https://plotly.com"
       },
       "data": [
        {
         "legendgroup": "GM-NN",
         "marker": {
          "color": [
           "blue",
           "blue",
           "blue",
           "blue",
           "blue"
          ]
         },
         "mode": "markers+text",
         "name": "GM-NN",
         "text": [
          "GM-NN - 593-512-512-1",
          "GM-NN - 593-128-128-1",
          "GM-NN - 593-32-32-1",
          "GM-NN - 360-512-512-1",
          "GM-NN - 910-512-512-1"
         ],
         "textposition": "bottom left",
         "type": "scatter",
         "x": [
          43.81,
          40.42,
          37.54,
          44.25,
          50.04
         ],
         "y": [
          0.07976590315941998,
          0.08449816507850838,
          0.08864026178780551,
          0.09512265833263436,
          0.07621397165991411
         ],
         "yaxis": "y"
        },
        {
         "legendgroup": "MTP",
         "marker": {
          "color": [
           "red",
           "red",
           "red",
           "red",
           "red"
          ]
         },
         "mode": "markers+text",
         "name": "MTP",
         "text": [
          "MTP - lev16",
          "MTP - lev20",
          "MTP - lev24",
          "MTP - lev26",
          "MTP - lev28"
         ],
         "textposition": "middle right",
         "type": "scatter",
         "x": [
          3.45,
          7.69,
          17.57,
          25.1,
          43.78
         ],
         "y": [
          0.1269851978542541,
          0.11819380271828517,
          0.09702777970244977,
          0.09906752681270672,
          0.09132183635587873
         ],
         "yaxis": "y"
        },
        {
         "legendgroup": "Classical",
         "marker": {
          "color": [
           "green",
           "green"
          ]
         },
         "mode": "markers+text",
         "name": "Classical",
         "text": [
          "Classical -  EAM",
          "Classical -  MEAM"
         ],
         "textposition": "middle right",
         "type": "scatter",
         "x": [
          0.5,
          6.2
         ],
         "y": [
          1,
          0.9389893162471084
         ],
         "yaxis": "y2"
        },
        {
         "legendgroup": "MACE",
         "marker": {
          "color": [
           "purple"
          ]
         },
         "mode": "markers+text",
         "name": "MACE",
         "text": [
          "MACE - Standard"
         ],
         "textposition": "bottom center",
         "type": "scatter",
         "x": [
          151.9
         ],
         "y": [
          0.08998499971433815
         ],
         "yaxis": "y"
        },
        {
         "legendgroup": "NequIP",
         "marker": {
          "color": [
           "orange"
          ]
         },
         "mode": "markers+text",
         "name": "NequIP",
         "text": [
          "NequIP - Standard"
         ],
         "textposition": "middle right",
         "type": "scatter",
         "x": [
          7.077083333
         ],
         "y": [
          0.14343931995463446
         ],
         "yaxis": "y"
        },
        {
         "legendgroup": "Allegro",
         "marker": {
          "color": [
           "turquoise"
          ]
         },
         "mode": "markers+text",
         "name": "Allegro",
         "text": [
          "Allegro - Standard"
         ],
         "textposition": "middle right",
         "type": "scatter",
         "x": [
          23.32152778
         ],
         "y": [
          0.12851774324713638
         ],
         "yaxis": "y"
        }
       ],
       "layout": {
        "font": {
         "family": "Serif",
         "size": 20
        },
        "grid": {
         "yaxes": [
          "y"
         ]
        },
        "height": 900,
        "showlegend": false,
        "template": {
         "data": {
          "bar": [
           {
            "error_x": {
             "color": "rgb(51,51,51)"
            },
            "error_y": {
             "color": "rgb(51,51,51)"
            },
            "marker": {
             "line": {
              "color": "rgb(237,237,237)",
              "width": 0.5
             },
             "pattern": {
              "fillmode": "overlay",
              "size": 10,
              "solidity": 0.2
             }
            },
            "type": "bar"
           }
          ],
          "barpolar": [
           {
            "marker": {
             "line": {
              "color": "rgb(237,237,237)",
              "width": 0.5
             },
             "pattern": {
              "fillmode": "overlay",
              "size": 10,
              "solidity": 0.2
             }
            },
            "type": "barpolar"
           }
          ],
          "carpet": [
           {
            "aaxis": {
             "endlinecolor": "rgb(51,51,51)",
             "gridcolor": "white",
             "linecolor": "white",
             "minorgridcolor": "white",
             "startlinecolor": "rgb(51,51,51)"
            },
            "baxis": {
             "endlinecolor": "rgb(51,51,51)",
             "gridcolor": "white",
             "linecolor": "white",
             "minorgridcolor": "white",
             "startlinecolor": "rgb(51,51,51)"
            },
            "type": "carpet"
           }
          ],
          "choropleth": [
           {
            "colorbar": {
             "outlinewidth": 0,
             "tickcolor": "rgb(237,237,237)",
             "ticklen": 6,
             "ticks": "inside"
            },
            "type": "choropleth"
           }
          ],
          "contour": [
           {
            "colorbar": {
             "outlinewidth": 0,
             "tickcolor": "rgb(237,237,237)",
             "ticklen": 6,
             "ticks": "inside"
            },
            "colorscale": [
             [
              0,
              "rgb(20,44,66)"
             ],
             [
              1,
              "rgb(90,179,244)"
             ]
            ],
            "type": "contour"
           }
          ],
          "contourcarpet": [
           {
            "colorbar": {
             "outlinewidth": 0,
             "tickcolor": "rgb(237,237,237)",
             "ticklen": 6,
             "ticks": "inside"
            },
            "type": "contourcarpet"
           }
          ],
          "heatmap": [
           {
            "colorbar": {
             "outlinewidth": 0,
             "tickcolor": "rgb(237,237,237)",
             "ticklen": 6,
             "ticks": "inside"
            },
            "colorscale": [
             [
              0,
              "rgb(20,44,66)"
             ],
             [
              1,
              "rgb(90,179,244)"
             ]
            ],
            "type": "heatmap"
           }
          ],
          "heatmapgl": [
           {
            "colorbar": {
             "outlinewidth": 0,
             "tickcolor": "rgb(237,237,237)",
             "ticklen": 6,
             "ticks": "inside"
            },
            "colorscale": [
             [
              0,
              "rgb(20,44,66)"
             ],
             [
              1,
              "rgb(90,179,244)"
             ]
            ],
            "type": "heatmapgl"
           }
          ],
          "histogram": [
           {
            "marker": {
             "pattern": {
              "fillmode": "overlay",
              "size": 10,
              "solidity": 0.2
             }
            },
            "type": "histogram"
           }
          ],
          "histogram2d": [
           {
            "colorbar": {
             "outlinewidth": 0,
             "tickcolor": "rgb(237,237,237)",
             "ticklen": 6,
             "ticks": "inside"
            },
            "colorscale": [
             [
              0,
              "rgb(20,44,66)"
             ],
             [
              1,
              "rgb(90,179,244)"
             ]
            ],
            "type": "histogram2d"
           }
          ],
          "histogram2dcontour": [
           {
            "colorbar": {
             "outlinewidth": 0,
             "tickcolor": "rgb(237,237,237)",
             "ticklen": 6,
             "ticks": "inside"
            },
            "colorscale": [
             [
              0,
              "rgb(20,44,66)"
             ],
             [
              1,
              "rgb(90,179,244)"
             ]
            ],
            "type": "histogram2dcontour"
           }
          ],
          "mesh3d": [
           {
            "colorbar": {
             "outlinewidth": 0,
             "tickcolor": "rgb(237,237,237)",
             "ticklen": 6,
             "ticks": "inside"
            },
            "type": "mesh3d"
           }
          ],
          "parcoords": [
           {
            "line": {
             "colorbar": {
              "outlinewidth": 0,
              "tickcolor": "rgb(237,237,237)",
              "ticklen": 6,
              "ticks": "inside"
             }
            },
            "type": "parcoords"
           }
          ],
          "pie": [
           {
            "automargin": true,
            "type": "pie"
           }
          ],
          "scatter": [
           {
            "fillpattern": {
             "fillmode": "overlay",
             "size": 10,
             "solidity": 0.2
            },
            "type": "scatter"
           }
          ],
          "scatter3d": [
           {
            "line": {
             "colorbar": {
              "outlinewidth": 0,
              "tickcolor": "rgb(237,237,237)",
              "ticklen": 6,
              "ticks": "inside"
             }
            },
            "marker": {
             "colorbar": {
              "outlinewidth": 0,
              "tickcolor": "rgb(237,237,237)",
              "ticklen": 6,
              "ticks": "inside"
             }
            },
            "type": "scatter3d"
           }
          ],
          "scattercarpet": [
           {
            "marker": {
             "colorbar": {
              "outlinewidth": 0,
              "tickcolor": "rgb(237,237,237)",
              "ticklen": 6,
              "ticks": "inside"
             }
            },
            "type": "scattercarpet"
           }
          ],
          "scattergeo": [
           {
            "marker": {
             "colorbar": {
              "outlinewidth": 0,
              "tickcolor": "rgb(237,237,237)",
              "ticklen": 6,
              "ticks": "inside"
             }
            },
            "type": "scattergeo"
           }
          ],
          "scattergl": [
           {
            "marker": {
             "colorbar": {
              "outlinewidth": 0,
              "tickcolor": "rgb(237,237,237)",
              "ticklen": 6,
              "ticks": "inside"
             }
            },
            "type": "scattergl"
           }
          ],
          "scattermapbox": [
           {
            "marker": {
             "colorbar": {
              "outlinewidth": 0,
              "tickcolor": "rgb(237,237,237)",
              "ticklen": 6,
              "ticks": "inside"
             }
            },
            "type": "scattermapbox"
           }
          ],
          "scatterpolar": [
           {
            "marker": {
             "colorbar": {
              "outlinewidth": 0,
              "tickcolor": "rgb(237,237,237)",
              "ticklen": 6,
              "ticks": "inside"
             }
            },
            "type": "scatterpolar"
           }
          ],
          "scatterpolargl": [
           {
            "marker": {
             "colorbar": {
              "outlinewidth": 0,
              "tickcolor": "rgb(237,237,237)",
              "ticklen": 6,
              "ticks": "inside"
             }
            },
            "type": "scatterpolargl"
           }
          ],
          "scatterternary": [
           {
            "marker": {
             "colorbar": {
              "outlinewidth": 0,
              "tickcolor": "rgb(237,237,237)",
              "ticklen": 6,
              "ticks": "inside"
             }
            },
            "type": "scatterternary"
           }
          ],
          "surface": [
           {
            "colorbar": {
             "outlinewidth": 0,
             "tickcolor": "rgb(237,237,237)",
             "ticklen": 6,
             "ticks": "inside"
            },
            "colorscale": [
             [
              0,
              "rgb(20,44,66)"
             ],
             [
              1,
              "rgb(90,179,244)"
             ]
            ],
            "type": "surface"
           }
          ],
          "table": [
           {
            "cells": {
             "fill": {
              "color": "rgb(237,237,237)"
             },
             "line": {
              "color": "white"
             }
            },
            "header": {
             "fill": {
              "color": "rgb(217,217,217)"
             },
             "line": {
              "color": "white"
             }
            },
            "type": "table"
           }
          ]
         },
         "layout": {
          "annotationdefaults": {
           "arrowhead": 0,
           "arrowwidth": 1
          },
          "autotypenumbers": "strict",
          "coloraxis": {
           "colorbar": {
            "outlinewidth": 0,
            "tickcolor": "rgb(237,237,237)",
            "ticklen": 6,
            "ticks": "inside"
           }
          },
          "colorscale": {
           "sequential": [
            [
             0,
             "rgb(20,44,66)"
            ],
            [
             1,
             "rgb(90,179,244)"
            ]
           ],
           "sequentialminus": [
            [
             0,
             "rgb(20,44,66)"
            ],
            [
             1,
             "rgb(90,179,244)"
            ]
           ]
          },
          "colorway": [
           "#F8766D",
           "#A3A500",
           "#00BF7D",
           "#00B0F6",
           "#E76BF3"
          ],
          "font": {
           "color": "rgb(51,51,51)"
          },
          "geo": {
           "bgcolor": "white",
           "lakecolor": "white",
           "landcolor": "rgb(237,237,237)",
           "showlakes": true,
           "showland": true,
           "subunitcolor": "white"
          },
          "hoverlabel": {
           "align": "left"
          },
          "hovermode": "closest",
          "paper_bgcolor": "white",
          "plot_bgcolor": "rgb(237,237,237)",
          "polar": {
           "angularaxis": {
            "gridcolor": "white",
            "linecolor": "white",
            "showgrid": true,
            "tickcolor": "rgb(51,51,51)",
            "ticks": "outside"
           },
           "bgcolor": "rgb(237,237,237)",
           "radialaxis": {
            "gridcolor": "white",
            "linecolor": "white",
            "showgrid": true,
            "tickcolor": "rgb(51,51,51)",
            "ticks": "outside"
           }
          },
          "scene": {
           "xaxis": {
            "backgroundcolor": "rgb(237,237,237)",
            "gridcolor": "white",
            "gridwidth": 2,
            "linecolor": "white",
            "showbackground": true,
            "showgrid": true,
            "tickcolor": "rgb(51,51,51)",
            "ticks": "outside",
            "zerolinecolor": "white"
           },
           "yaxis": {
            "backgroundcolor": "rgb(237,237,237)",
            "gridcolor": "white",
            "gridwidth": 2,
            "linecolor": "white",
            "showbackground": true,
            "showgrid": true,
            "tickcolor": "rgb(51,51,51)",
            "ticks": "outside",
            "zerolinecolor": "white"
           },
           "zaxis": {
            "backgroundcolor": "rgb(237,237,237)",
            "gridcolor": "white",
            "gridwidth": 2,
            "linecolor": "white",
            "showbackground": true,
            "showgrid": true,
            "tickcolor": "rgb(51,51,51)",
            "ticks": "outside",
            "zerolinecolor": "white"
           }
          },
          "shapedefaults": {
           "fillcolor": "black",
           "line": {
            "width": 0
           },
           "opacity": 0.3
          },
          "ternary": {
           "aaxis": {
            "gridcolor": "white",
            "linecolor": "white",
            "showgrid": true,
            "tickcolor": "rgb(51,51,51)",
            "ticks": "outside"
           },
           "baxis": {
            "gridcolor": "white",
            "linecolor": "white",
            "showgrid": true,
            "tickcolor": "rgb(51,51,51)",
            "ticks": "outside"
           },
           "bgcolor": "rgb(237,237,237)",
           "caxis": {
            "gridcolor": "white",
            "linecolor": "white",
            "showgrid": true,
            "tickcolor": "rgb(51,51,51)",
            "ticks": "outside"
           }
          },
          "xaxis": {
           "automargin": true,
           "gridcolor": "white",
           "linecolor": "white",
           "showgrid": true,
           "tickcolor": "rgb(51,51,51)",
           "ticks": "outside",
           "title": {
            "standoff": 15
           },
           "zerolinecolor": "white"
          },
          "yaxis": {
           "automargin": true,
           "gridcolor": "white",
           "linecolor": "white",
           "showgrid": true,
           "tickcolor": "rgb(51,51,51)",
           "ticks": "outside",
           "title": {
            "standoff": 15
           },
           "zerolinecolor": "white"
          }
         }
        },
        "width": 1000,
        "xaxis": {
         "range": [
          -1,
          2.5
         ],
         "title": {
          "text": "Computational cost of inference [<i>μs/atom/step</i>]"
         },
         "type": "log"
        },
        "yaxis": {
         "domain": [
          0,
          0.7
         ],
         "title": {
          "text": "Normalized error"
         }
        },
        "yaxis2": {
         "domain": [
          0.75,
          1
         ]
        }
       }
      }
     },
     "metadata": {},
     "output_type": "display_data"
    }
   ],
   "source": [
    "fig.show()"
   ]
  },
  {
   "cell_type": "code",
   "execution_count": 77,
   "metadata": {},
   "outputs": [],
   "source": [
    "def textpos(kind):\n",
    "    if 'MACE' in kind:\n",
    "        return 'bottom center'\n",
    "    elif 'GM-NN' in kind:\n",
    "        return 'middle right'\n",
    "    else:\n",
    "        return 'middle right'\n",
    "# Thesis report plot for GPU\n",
    "#from colorhash import ColorHash\n",
    "\n",
    "df_sub=df.query(\"`Engine`=='GPU' and `MD Suite`=='LAMMPS'\") #and `Engine`=='CPU'\"\n",
    "fig = go.Figure(data=[])\n",
    "\n",
    "i=0 # index for trace\n",
    "traces=[] \n",
    "for engine in df_sub['Engine'].unique():\n",
    "    for suite in df_sub['MD Suite'].unique():\n",
    "        for kind in df_sub['Type'].unique():\n",
    "            subset=df_sub.query('Type==@kind & Engine==@engine & `MD Suite`==@suite')\n",
    "            if len(subset)>=1:\n",
    "                i+=1\n",
    "                fig.add_trace(go.Scatter(\n",
    "                x=subset['Cost'],\n",
    "                y=subset['Normalized error'],\n",
    "                mode='markers+text',\n",
    "                name=kind,\n",
    "                marker={'color':subset['Colour']},\n",
    "                text=subset['Type']+' - '+subset['Model'],\n",
    "                #hovertemplate=\"%{text}\"+\"<br>Computational cost: %{x} μs\"+\"<br>Normalized error: %{y}\",\n",
    "                textposition=textpos(kind),\n",
    "                legendgroup=kind,\n",
    "                yaxis=subset['y axes'].unique()[0],\n",
    "            ),\n",
    "    )\n",
    "                trace={\n",
    "                    'Trace': i,\n",
    "                    'Type': kind,\n",
    "                    'Engine': engine,\n",
    "                    'MD Suite': suite,\n",
    "                }\n",
    "                traces.append(trace)\n",
    "\n",
    "traces=pd.DataFrame(traces) # convert list of dictionaries to DataFrame\n",
    "\n",
    "# Add annotation\n",
    "fig.update_xaxes(title_text='Computational cost of inference [<i>μs/atom/step</i>]',type=\"log\",minor_ticks='inside')\n",
    "fig.update_layout(yaxis={'title':'Normalized error'},\n",
    "                xaxis={'range':[-1,2.5]},\n",
    "                font_family=\"Serif\",font_size=20,\n",
    "                template='ggplot2',\n",
    "                width=1000,\n",
    "                height=600,\n",
    "                showlegend=False) #,'position':0\n",
    "\n",
    "names=set()\n",
    "fig.for_each_trace(\n",
    "    lambda trace:\n",
    "        trace.update(showlegend=False)\n",
    "        if (trace.name in names) else names.add(trace.name))\n",
    "\n",
    "fig.write_image('/Users/dominicwelti/Library/CloudStorage/Dropbox/Apps/Overleaf/Master Thesis - MLIP evaluation/graphs/results/hea_LAMMPS-GPU.pdf',format='pdf',scale=5)"
   ]
  },
  {
   "cell_type": "code",
   "execution_count": 78,
   "metadata": {},
   "outputs": [
    {
     "data": {
      "application/vnd.plotly.v1+json": {
       "config": {
        "plotlyServerURL": "https://plotly.com"
       },
       "data": [
        {
         "legendgroup": "GM-NN",
         "marker": {
          "color": [
           "blue",
           "blue",
           "blue",
           "blue",
           "blue"
          ]
         },
         "mode": "markers+text",
         "name": "GM-NN",
         "text": [
          "GM-NN - 593-512-512-1",
          "GM-NN - 593-128-128-1",
          "GM-NN - 593-32-32-1",
          "GM-NN - 360-512-512-1",
          "GM-NN - 910-512-512-1"
         ],
         "textposition": "middle right",
         "type": "scatter",
         "x": [
          7.25,
          7.47,
          7.28,
          7.3,
          7.23
         ],
         "y": [
          0.07976590315941998,
          0.08449816507850838,
          0.08864026178780551,
          0.09512265833263436,
          0.07621397165991411
         ],
         "yaxis": "y"
        },
        {
         "legendgroup": "MACE",
         "marker": {
          "color": [
           "purple"
          ]
         },
         "mode": "markers+text",
         "name": "MACE",
         "text": [
          "MACE - Standard"
         ],
         "textposition": "bottom center",
         "type": "scatter",
         "x": [
          2.639351852
         ],
         "y": [
          0.08998499971433815
         ],
         "yaxis": "y"
        },
        {
         "legendgroup": "NequIP",
         "marker": {
          "color": [
           "orange"
          ]
         },
         "mode": "markers+text",
         "name": "NequIP",
         "text": [
          "NequIP - Standard"
         ],
         "textposition": "middle right",
         "type": "scatter",
         "x": [
          0.121759259
         ],
         "y": [
          0.14343931995463446
         ],
         "yaxis": "y"
        },
        {
         "legendgroup": "Allegro",
         "marker": {
          "color": [
           "turquoise"
          ]
         },
         "mode": "markers+text",
         "name": "Allegro",
         "text": [
          "Allegro - Standard"
         ],
         "textposition": "middle right",
         "type": "scatter",
         "x": [
          0.371296296
         ],
         "y": [
          0.12851774324713638
         ],
         "yaxis": "y"
        }
       ],
       "layout": {
        "font": {
         "family": "Serif",
         "size": 20
        },
        "height": 600,
        "showlegend": false,
        "template": {
         "data": {
          "bar": [
           {
            "error_x": {
             "color": "rgb(51,51,51)"
            },
            "error_y": {
             "color": "rgb(51,51,51)"
            },
            "marker": {
             "line": {
              "color": "rgb(237,237,237)",
              "width": 0.5
             },
             "pattern": {
              "fillmode": "overlay",
              "size": 10,
              "solidity": 0.2
             }
            },
            "type": "bar"
           }
          ],
          "barpolar": [
           {
            "marker": {
             "line": {
              "color": "rgb(237,237,237)",
              "width": 0.5
             },
             "pattern": {
              "fillmode": "overlay",
              "size": 10,
              "solidity": 0.2
             }
            },
            "type": "barpolar"
           }
          ],
          "carpet": [
           {
            "aaxis": {
             "endlinecolor": "rgb(51,51,51)",
             "gridcolor": "white",
             "linecolor": "white",
             "minorgridcolor": "white",
             "startlinecolor": "rgb(51,51,51)"
            },
            "baxis": {
             "endlinecolor": "rgb(51,51,51)",
             "gridcolor": "white",
             "linecolor": "white",
             "minorgridcolor": "white",
             "startlinecolor": "rgb(51,51,51)"
            },
            "type": "carpet"
           }
          ],
          "choropleth": [
           {
            "colorbar": {
             "outlinewidth": 0,
             "tickcolor": "rgb(237,237,237)",
             "ticklen": 6,
             "ticks": "inside"
            },
            "type": "choropleth"
           }
          ],
          "contour": [
           {
            "colorbar": {
             "outlinewidth": 0,
             "tickcolor": "rgb(237,237,237)",
             "ticklen": 6,
             "ticks": "inside"
            },
            "colorscale": [
             [
              0,
              "rgb(20,44,66)"
             ],
             [
              1,
              "rgb(90,179,244)"
             ]
            ],
            "type": "contour"
           }
          ],
          "contourcarpet": [
           {
            "colorbar": {
             "outlinewidth": 0,
             "tickcolor": "rgb(237,237,237)",
             "ticklen": 6,
             "ticks": "inside"
            },
            "type": "contourcarpet"
           }
          ],
          "heatmap": [
           {
            "colorbar": {
             "outlinewidth": 0,
             "tickcolor": "rgb(237,237,237)",
             "ticklen": 6,
             "ticks": "inside"
            },
            "colorscale": [
             [
              0,
              "rgb(20,44,66)"
             ],
             [
              1,
              "rgb(90,179,244)"
             ]
            ],
            "type": "heatmap"
           }
          ],
          "heatmapgl": [
           {
            "colorbar": {
             "outlinewidth": 0,
             "tickcolor": "rgb(237,237,237)",
             "ticklen": 6,
             "ticks": "inside"
            },
            "colorscale": [
             [
              0,
              "rgb(20,44,66)"
             ],
             [
              1,
              "rgb(90,179,244)"
             ]
            ],
            "type": "heatmapgl"
           }
          ],
          "histogram": [
           {
            "marker": {
             "pattern": {
              "fillmode": "overlay",
              "size": 10,
              "solidity": 0.2
             }
            },
            "type": "histogram"
           }
          ],
          "histogram2d": [
           {
            "colorbar": {
             "outlinewidth": 0,
             "tickcolor": "rgb(237,237,237)",
             "ticklen": 6,
             "ticks": "inside"
            },
            "colorscale": [
             [
              0,
              "rgb(20,44,66)"
             ],
             [
              1,
              "rgb(90,179,244)"
             ]
            ],
            "type": "histogram2d"
           }
          ],
          "histogram2dcontour": [
           {
            "colorbar": {
             "outlinewidth": 0,
             "tickcolor": "rgb(237,237,237)",
             "ticklen": 6,
             "ticks": "inside"
            },
            "colorscale": [
             [
              0,
              "rgb(20,44,66)"
             ],
             [
              1,
              "rgb(90,179,244)"
             ]
            ],
            "type": "histogram2dcontour"
           }
          ],
          "mesh3d": [
           {
            "colorbar": {
             "outlinewidth": 0,
             "tickcolor": "rgb(237,237,237)",
             "ticklen": 6,
             "ticks": "inside"
            },
            "type": "mesh3d"
           }
          ],
          "parcoords": [
           {
            "line": {
             "colorbar": {
              "outlinewidth": 0,
              "tickcolor": "rgb(237,237,237)",
              "ticklen": 6,
              "ticks": "inside"
             }
            },
            "type": "parcoords"
           }
          ],
          "pie": [
           {
            "automargin": true,
            "type": "pie"
           }
          ],
          "scatter": [
           {
            "fillpattern": {
             "fillmode": "overlay",
             "size": 10,
             "solidity": 0.2
            },
            "type": "scatter"
           }
          ],
          "scatter3d": [
           {
            "line": {
             "colorbar": {
              "outlinewidth": 0,
              "tickcolor": "rgb(237,237,237)",
              "ticklen": 6,
              "ticks": "inside"
             }
            },
            "marker": {
             "colorbar": {
              "outlinewidth": 0,
              "tickcolor": "rgb(237,237,237)",
              "ticklen": 6,
              "ticks": "inside"
             }
            },
            "type": "scatter3d"
           }
          ],
          "scattercarpet": [
           {
            "marker": {
             "colorbar": {
              "outlinewidth": 0,
              "tickcolor": "rgb(237,237,237)",
              "ticklen": 6,
              "ticks": "inside"
             }
            },
            "type": "scattercarpet"
           }
          ],
          "scattergeo": [
           {
            "marker": {
             "colorbar": {
              "outlinewidth": 0,
              "tickcolor": "rgb(237,237,237)",
              "ticklen": 6,
              "ticks": "inside"
             }
            },
            "type": "scattergeo"
           }
          ],
          "scattergl": [
           {
            "marker": {
             "colorbar": {
              "outlinewidth": 0,
              "tickcolor": "rgb(237,237,237)",
              "ticklen": 6,
              "ticks": "inside"
             }
            },
            "type": "scattergl"
           }
          ],
          "scattermapbox": [
           {
            "marker": {
             "colorbar": {
              "outlinewidth": 0,
              "tickcolor": "rgb(237,237,237)",
              "ticklen": 6,
              "ticks": "inside"
             }
            },
            "type": "scattermapbox"
           }
          ],
          "scatterpolar": [
           {
            "marker": {
             "colorbar": {
              "outlinewidth": 0,
              "tickcolor": "rgb(237,237,237)",
              "ticklen": 6,
              "ticks": "inside"
             }
            },
            "type": "scatterpolar"
           }
          ],
          "scatterpolargl": [
           {
            "marker": {
             "colorbar": {
              "outlinewidth": 0,
              "tickcolor": "rgb(237,237,237)",
              "ticklen": 6,
              "ticks": "inside"
             }
            },
            "type": "scatterpolargl"
           }
          ],
          "scatterternary": [
           {
            "marker": {
             "colorbar": {
              "outlinewidth": 0,
              "tickcolor": "rgb(237,237,237)",
              "ticklen": 6,
              "ticks": "inside"
             }
            },
            "type": "scatterternary"
           }
          ],
          "surface": [
           {
            "colorbar": {
             "outlinewidth": 0,
             "tickcolor": "rgb(237,237,237)",
             "ticklen": 6,
             "ticks": "inside"
            },
            "colorscale": [
             [
              0,
              "rgb(20,44,66)"
             ],
             [
              1,
              "rgb(90,179,244)"
             ]
            ],
            "type": "surface"
           }
          ],
          "table": [
           {
            "cells": {
             "fill": {
              "color": "rgb(237,237,237)"
             },
             "line": {
              "color": "white"
             }
            },
            "header": {
             "fill": {
              "color": "rgb(217,217,217)"
             },
             "line": {
              "color": "white"
             }
            },
            "type": "table"
           }
          ]
         },
         "layout": {
          "annotationdefaults": {
           "arrowhead": 0,
           "arrowwidth": 1
          },
          "autotypenumbers": "strict",
          "coloraxis": {
           "colorbar": {
            "outlinewidth": 0,
            "tickcolor": "rgb(237,237,237)",
            "ticklen": 6,
            "ticks": "inside"
           }
          },
          "colorscale": {
           "sequential": [
            [
             0,
             "rgb(20,44,66)"
            ],
            [
             1,
             "rgb(90,179,244)"
            ]
           ],
           "sequentialminus": [
            [
             0,
             "rgb(20,44,66)"
            ],
            [
             1,
             "rgb(90,179,244)"
            ]
           ]
          },
          "colorway": [
           "#F8766D",
           "#A3A500",
           "#00BF7D",
           "#00B0F6",
           "#E76BF3"
          ],
          "font": {
           "color": "rgb(51,51,51)"
          },
          "geo": {
           "bgcolor": "white",
           "lakecolor": "white",
           "landcolor": "rgb(237,237,237)",
           "showlakes": true,
           "showland": true,
           "subunitcolor": "white"
          },
          "hoverlabel": {
           "align": "left"
          },
          "hovermode": "closest",
          "paper_bgcolor": "white",
          "plot_bgcolor": "rgb(237,237,237)",
          "polar": {
           "angularaxis": {
            "gridcolor": "white",
            "linecolor": "white",
            "showgrid": true,
            "tickcolor": "rgb(51,51,51)",
            "ticks": "outside"
           },
           "bgcolor": "rgb(237,237,237)",
           "radialaxis": {
            "gridcolor": "white",
            "linecolor": "white",
            "showgrid": true,
            "tickcolor": "rgb(51,51,51)",
            "ticks": "outside"
           }
          },
          "scene": {
           "xaxis": {
            "backgroundcolor": "rgb(237,237,237)",
            "gridcolor": "white",
            "gridwidth": 2,
            "linecolor": "white",
            "showbackground": true,
            "showgrid": true,
            "tickcolor": "rgb(51,51,51)",
            "ticks": "outside",
            "zerolinecolor": "white"
           },
           "yaxis": {
            "backgroundcolor": "rgb(237,237,237)",
            "gridcolor": "white",
            "gridwidth": 2,
            "linecolor": "white",
            "showbackground": true,
            "showgrid": true,
            "tickcolor": "rgb(51,51,51)",
            "ticks": "outside",
            "zerolinecolor": "white"
           },
           "zaxis": {
            "backgroundcolor": "rgb(237,237,237)",
            "gridcolor": "white",
            "gridwidth": 2,
            "linecolor": "white",
            "showbackground": true,
            "showgrid": true,
            "tickcolor": "rgb(51,51,51)",
            "ticks": "outside",
            "zerolinecolor": "white"
           }
          },
          "shapedefaults": {
           "fillcolor": "black",
           "line": {
            "width": 0
           },
           "opacity": 0.3
          },
          "ternary": {
           "aaxis": {
            "gridcolor": "white",
            "linecolor": "white",
            "showgrid": true,
            "tickcolor": "rgb(51,51,51)",
            "ticks": "outside"
           },
           "baxis": {
            "gridcolor": "white",
            "linecolor": "white",
            "showgrid": true,
            "tickcolor": "rgb(51,51,51)",
            "ticks": "outside"
           },
           "bgcolor": "rgb(237,237,237)",
           "caxis": {
            "gridcolor": "white",
            "linecolor": "white",
            "showgrid": true,
            "tickcolor": "rgb(51,51,51)",
            "ticks": "outside"
           }
          },
          "xaxis": {
           "automargin": true,
           "gridcolor": "white",
           "linecolor": "white",
           "showgrid": true,
           "tickcolor": "rgb(51,51,51)",
           "ticks": "outside",
           "title": {
            "standoff": 15
           },
           "zerolinecolor": "white"
          },
          "yaxis": {
           "automargin": true,
           "gridcolor": "white",
           "linecolor": "white",
           "showgrid": true,
           "tickcolor": "rgb(51,51,51)",
           "ticks": "outside",
           "title": {
            "standoff": 15
           },
           "zerolinecolor": "white"
          }
         }
        },
        "width": 1000,
        "xaxis": {
         "minor": {
          "ticks": "inside"
         },
         "range": [
          -1,
          2.5
         ],
         "title": {
          "text": "Computational cost of inference [<i>μs/atom/step</i>]"
         },
         "type": "log"
        },
        "yaxis": {
         "title": {
          "text": "Normalized error"
         }
        }
       }
      }
     },
     "metadata": {},
     "output_type": "display_data"
    }
   ],
   "source": [
    "fig.show()"
   ]
  },
  {
   "cell_type": "code",
   "execution_count": 62,
   "metadata": {},
   "outputs": [],
   "source": [
    "def getText(suite:str, kind):\n",
    "    if suite=='ASE':\n",
    "        return f'{suite} - {kind}'\n",
    "    else:\n",
    "        return ''\n",
    "    \n",
    "def getPosition(suite:str):\n",
    "    if suite=='ASE':\n",
    "        return \"top center\"\n",
    "    elif suite=='LAMMPS':\n",
    "        return \"bottom center\"\n",
    "    else:\n",
    "        print('Undefined suite')"
   ]
  },
  {
   "cell_type": "code",
   "execution_count": 63,
   "metadata": {},
   "outputs": [],
   "source": [
    "# plot for report: comparing engine performance\n",
    "\n",
    "def getSymbol(txt):\n",
    "    if 'GPU' in txt:\n",
    "        return 'diamond'\n",
    "    elif 'CPU' in txt:\n",
    "        return 'circle'\n",
    "    else:\n",
    "        print('Undefined text')\n",
    "\n",
    "\n",
    "df_sub=df.query(\"not (`Type`=='Classical' or `Type`=='MTP' or `Type`=='GM-NN') and not `MD Suite`=='MLP Toolkit'\") #and `Engine`=='CPU'\"\n",
    "fig = go.Figure(data=[])\n",
    "\n",
    "i=0 # index for trace\n",
    "traces=[] \n",
    "for engine in df_sub['Engine'].unique():\n",
    "    for suite in df_sub['MD Suite'].unique():\n",
    "        for kind in df_sub['Type'].unique():\n",
    "            subset=df_sub.query('Type==@kind & Engine==@engine & `MD Suite`==@suite')\n",
    "            if len(subset)>=1:\n",
    "                i+=1\n",
    "                fig.add_trace(go.Scatter(\n",
    "                    #marker_symbol='square',\n",
    "                    x=subset['Cost'],\n",
    "                    y=subset['Normalized error'],\n",
    "                    mode='markers+text',\n",
    "                    name=engine,\n",
    "                    text=f'{kind} - {suite}',\n",
    "                    textposition=getPosition(suite),\n",
    "                    hovertemplate=\"%{text}\"+\"<br>Computational cost: %{x} μs\"+\"<br>Normalized error: %{y}\",\n",
    "                    legendgroup=engine,\n",
    "                    marker={'symbol':getSymbol(engine), 'color':subset['Colour']},\n",
    "                    #legendgrouptitle=kind,\n",
    "                    #yaxis=subset['y axes'].unique()[0],\n",
    "                ))\n",
    "                trace={\n",
    "                    'Trace': i,\n",
    "                    'Type': kind,\n",
    "                    'Engine': engine,\n",
    "                    'MD Suite': suite,\n",
    "                }\n",
    "                traces.append(trace)\n",
    "\n",
    "traces=pd.DataFrame(traces) # convert list of dictionaries to DataFrame\n",
    "\n",
    "# Add annotation\n",
    "fig.update_xaxes(title_text='Computational cost of inference [<i>μs/atom/step</i>]',type=\"log\",minor_ticks='inside')\n",
    "fig.update_layout(yaxis={'title':'Normalized error'},\n",
    "                xaxis={'range':[-1.35,2.58]},\n",
    "                font_family=\"Serif\",font_size=20,\n",
    "                template='ggplot2',\n",
    "                width=1000,\n",
    "                height=600,\n",
    "                showlegend=True) #,'position':0\n",
    "\n",
    "names=set()\n",
    "fig.for_each_trace(\n",
    "    lambda trace:\n",
    "        trace.update(showlegend=False)\n",
    "        if (trace.name in names) else names.add(trace.name))\n",
    "\n",
    "fig.write_image('/Users/dominicwelti/Library/CloudStorage/Dropbox/Apps/Overleaf/Master Thesis - MLIP evaluation/graphs/results/hea_SuiteComparison.pdf',format='pdf',scale=5)"
   ]
  },
  {
   "cell_type": "code",
   "execution_count": 64,
   "metadata": {},
   "outputs": [
    {
     "data": {
      "application/vnd.plotly.v1+json": {
       "config": {
        "plotlyServerURL": "https://plotly.com"
       },
       "data": [
        {
         "hovertemplate": "%{text}<br>Computational cost: %{x} μs<br>Normalized error: %{y}",
         "legendgroup": "CPU",
         "marker": {
          "color": [
           "purple"
          ],
          "symbol": "circle"
         },
         "mode": "markers+text",
         "name": "CPU",
         "text": "MACE - LAMMPS",
         "textposition": "bottom center",
         "type": "scatter",
         "x": [
          151.9
         ],
         "y": [
          0.08998499971433815
         ]
        },
        {
         "hovertemplate": "%{text}<br>Computational cost: %{x} μs<br>Normalized error: %{y}",
         "legendgroup": "CPU",
         "marker": {
          "color": [
           "orange"
          ],
          "symbol": "circle"
         },
         "mode": "markers+text",
         "name": "CPU",
         "showlegend": false,
         "text": "NequIP - LAMMPS",
         "textposition": "bottom center",
         "type": "scatter",
         "x": [
          7.077083333
         ],
         "y": [
          0.14343931995463446
         ]
        },
        {
         "hovertemplate": "%{text}<br>Computational cost: %{x} μs<br>Normalized error: %{y}",
         "legendgroup": "CPU",
         "marker": {
          "color": [
           "turquoise"
          ],
          "symbol": "circle"
         },
         "mode": "markers+text",
         "name": "CPU",
         "showlegend": false,
         "text": "Allegro - LAMMPS",
         "textposition": "bottom center",
         "type": "scatter",
         "x": [
          23.32152778
         ],
         "y": [
          0.12851774324713638
         ]
        },
        {
         "hovertemplate": "%{text}<br>Computational cost: %{x} μs<br>Normalized error: %{y}",
         "legendgroup": "CPU",
         "marker": {
          "color": [
           "purple"
          ],
          "symbol": "circle"
         },
         "mode": "markers+text",
         "name": "CPU",
         "showlegend": false,
         "text": "MACE - ASE",
         "textposition": "top center",
         "type": "scatter",
         "x": [
          7.465
         ],
         "y": [
          0.08998499971433815
         ]
        },
        {
         "hovertemplate": "%{text}<br>Computational cost: %{x} μs<br>Normalized error: %{y}",
         "legendgroup": "CPU",
         "marker": {
          "color": [
           "orange"
          ],
          "symbol": "circle"
         },
         "mode": "markers+text",
         "name": "CPU",
         "showlegend": false,
         "text": "NequIP - ASE",
         "textposition": "top center",
         "type": "scatter",
         "x": [
          8.190740741
         ],
         "y": [
          0.14343931995463446
         ]
        },
        {
         "hovertemplate": "%{text}<br>Computational cost: %{x} μs<br>Normalized error: %{y}",
         "legendgroup": "CPU",
         "marker": {
          "color": [
           "turquoise"
          ],
          "symbol": "circle"
         },
         "mode": "markers+text",
         "name": "CPU",
         "showlegend": false,
         "text": "Allegro - ASE",
         "textposition": "top center",
         "type": "scatter",
         "x": [
          23.71134259
         ],
         "y": [
          0.12851774324713638
         ]
        },
        {
         "hovertemplate": "%{text}<br>Computational cost: %{x} μs<br>Normalized error: %{y}",
         "legendgroup": "GPU",
         "marker": {
          "color": [
           "purple"
          ],
          "symbol": "diamond"
         },
         "mode": "markers+text",
         "name": "GPU",
         "text": "MACE - LAMMPS",
         "textposition": "bottom center",
         "type": "scatter",
         "x": [
          2.639351852
         ],
         "y": [
          0.08998499971433815
         ]
        },
        {
         "hovertemplate": "%{text}<br>Computational cost: %{x} μs<br>Normalized error: %{y}",
         "legendgroup": "GPU",
         "marker": {
          "color": [
           "orange"
          ],
          "symbol": "diamond"
         },
         "mode": "markers+text",
         "name": "GPU",
         "showlegend": false,
         "text": "NequIP - LAMMPS",
         "textposition": "bottom center",
         "type": "scatter",
         "x": [
          0.121759259
         ],
         "y": [
          0.14343931995463446
         ]
        },
        {
         "hovertemplate": "%{text}<br>Computational cost: %{x} μs<br>Normalized error: %{y}",
         "legendgroup": "GPU",
         "marker": {
          "color": [
           "turquoise"
          ],
          "symbol": "diamond"
         },
         "mode": "markers+text",
         "name": "GPU",
         "showlegend": false,
         "text": "Allegro - LAMMPS",
         "textposition": "bottom center",
         "type": "scatter",
         "x": [
          0.371296296
         ],
         "y": [
          0.12851774324713638
         ]
        },
        {
         "hovertemplate": "%{text}<br>Computational cost: %{x} μs<br>Normalized error: %{y}",
         "legendgroup": "GPU",
         "marker": {
          "color": [
           "purple"
          ],
          "symbol": "diamond"
         },
         "mode": "markers+text",
         "name": "GPU",
         "showlegend": false,
         "text": "MACE - ASE",
         "textposition": "top center",
         "type": "scatter",
         "x": [
          0.1759
         ],
         "y": [
          0.08998499971433815
         ]
        },
        {
         "hovertemplate": "%{text}<br>Computational cost: %{x} μs<br>Normalized error: %{y}",
         "legendgroup": "GPU",
         "marker": {
          "color": [
           "orange"
          ],
          "symbol": "diamond"
         },
         "mode": "markers+text",
         "name": "GPU",
         "showlegend": false,
         "text": "NequIP - ASE",
         "textposition": "top center",
         "type": "scatter",
         "x": [
          0.160185185
         ],
         "y": [
          0.14343931995463446
         ]
        },
        {
         "hovertemplate": "%{text}<br>Computational cost: %{x} μs<br>Normalized error: %{y}",
         "legendgroup": "GPU",
         "marker": {
          "color": [
           "turquoise"
          ],
          "symbol": "diamond"
         },
         "mode": "markers+text",
         "name": "GPU",
         "showlegend": false,
         "text": "Allegro - ASE",
         "textposition": "top center",
         "type": "scatter",
         "x": [
          0.389583333
         ],
         "y": [
          0.12851774324713638
         ]
        }
       ],
       "layout": {
        "font": {
         "family": "Serif",
         "size": 20
        },
        "height": 600,
        "showlegend": true,
        "template": {
         "data": {
          "bar": [
           {
            "error_x": {
             "color": "rgb(51,51,51)"
            },
            "error_y": {
             "color": "rgb(51,51,51)"
            },
            "marker": {
             "line": {
              "color": "rgb(237,237,237)",
              "width": 0.5
             },
             "pattern": {
              "fillmode": "overlay",
              "size": 10,
              "solidity": 0.2
             }
            },
            "type": "bar"
           }
          ],
          "barpolar": [
           {
            "marker": {
             "line": {
              "color": "rgb(237,237,237)",
              "width": 0.5
             },
             "pattern": {
              "fillmode": "overlay",
              "size": 10,
              "solidity": 0.2
             }
            },
            "type": "barpolar"
           }
          ],
          "carpet": [
           {
            "aaxis": {
             "endlinecolor": "rgb(51,51,51)",
             "gridcolor": "white",
             "linecolor": "white",
             "minorgridcolor": "white",
             "startlinecolor": "rgb(51,51,51)"
            },
            "baxis": {
             "endlinecolor": "rgb(51,51,51)",
             "gridcolor": "white",
             "linecolor": "white",
             "minorgridcolor": "white",
             "startlinecolor": "rgb(51,51,51)"
            },
            "type": "carpet"
           }
          ],
          "choropleth": [
           {
            "colorbar": {
             "outlinewidth": 0,
             "tickcolor": "rgb(237,237,237)",
             "ticklen": 6,
             "ticks": "inside"
            },
            "type": "choropleth"
           }
          ],
          "contour": [
           {
            "colorbar": {
             "outlinewidth": 0,
             "tickcolor": "rgb(237,237,237)",
             "ticklen": 6,
             "ticks": "inside"
            },
            "colorscale": [
             [
              0,
              "rgb(20,44,66)"
             ],
             [
              1,
              "rgb(90,179,244)"
             ]
            ],
            "type": "contour"
           }
          ],
          "contourcarpet": [
           {
            "colorbar": {
             "outlinewidth": 0,
             "tickcolor": "rgb(237,237,237)",
             "ticklen": 6,
             "ticks": "inside"
            },
            "type": "contourcarpet"
           }
          ],
          "heatmap": [
           {
            "colorbar": {
             "outlinewidth": 0,
             "tickcolor": "rgb(237,237,237)",
             "ticklen": 6,
             "ticks": "inside"
            },
            "colorscale": [
             [
              0,
              "rgb(20,44,66)"
             ],
             [
              1,
              "rgb(90,179,244)"
             ]
            ],
            "type": "heatmap"
           }
          ],
          "heatmapgl": [
           {
            "colorbar": {
             "outlinewidth": 0,
             "tickcolor": "rgb(237,237,237)",
             "ticklen": 6,
             "ticks": "inside"
            },
            "colorscale": [
             [
              0,
              "rgb(20,44,66)"
             ],
             [
              1,
              "rgb(90,179,244)"
             ]
            ],
            "type": "heatmapgl"
           }
          ],
          "histogram": [
           {
            "marker": {
             "pattern": {
              "fillmode": "overlay",
              "size": 10,
              "solidity": 0.2
             }
            },
            "type": "histogram"
           }
          ],
          "histogram2d": [
           {
            "colorbar": {
             "outlinewidth": 0,
             "tickcolor": "rgb(237,237,237)",
             "ticklen": 6,
             "ticks": "inside"
            },
            "colorscale": [
             [
              0,
              "rgb(20,44,66)"
             ],
             [
              1,
              "rgb(90,179,244)"
             ]
            ],
            "type": "histogram2d"
           }
          ],
          "histogram2dcontour": [
           {
            "colorbar": {
             "outlinewidth": 0,
             "tickcolor": "rgb(237,237,237)",
             "ticklen": 6,
             "ticks": "inside"
            },
            "colorscale": [
             [
              0,
              "rgb(20,44,66)"
             ],
             [
              1,
              "rgb(90,179,244)"
             ]
            ],
            "type": "histogram2dcontour"
           }
          ],
          "mesh3d": [
           {
            "colorbar": {
             "outlinewidth": 0,
             "tickcolor": "rgb(237,237,237)",
             "ticklen": 6,
             "ticks": "inside"
            },
            "type": "mesh3d"
           }
          ],
          "parcoords": [
           {
            "line": {
             "colorbar": {
              "outlinewidth": 0,
              "tickcolor": "rgb(237,237,237)",
              "ticklen": 6,
              "ticks": "inside"
             }
            },
            "type": "parcoords"
           }
          ],
          "pie": [
           {
            "automargin": true,
            "type": "pie"
           }
          ],
          "scatter": [
           {
            "fillpattern": {
             "fillmode": "overlay",
             "size": 10,
             "solidity": 0.2
            },
            "type": "scatter"
           }
          ],
          "scatter3d": [
           {
            "line": {
             "colorbar": {
              "outlinewidth": 0,
              "tickcolor": "rgb(237,237,237)",
              "ticklen": 6,
              "ticks": "inside"
             }
            },
            "marker": {
             "colorbar": {
              "outlinewidth": 0,
              "tickcolor": "rgb(237,237,237)",
              "ticklen": 6,
              "ticks": "inside"
             }
            },
            "type": "scatter3d"
           }
          ],
          "scattercarpet": [
           {
            "marker": {
             "colorbar": {
              "outlinewidth": 0,
              "tickcolor": "rgb(237,237,237)",
              "ticklen": 6,
              "ticks": "inside"
             }
            },
            "type": "scattercarpet"
           }
          ],
          "scattergeo": [
           {
            "marker": {
             "colorbar": {
              "outlinewidth": 0,
              "tickcolor": "rgb(237,237,237)",
              "ticklen": 6,
              "ticks": "inside"
             }
            },
            "type": "scattergeo"
           }
          ],
          "scattergl": [
           {
            "marker": {
             "colorbar": {
              "outlinewidth": 0,
              "tickcolor": "rgb(237,237,237)",
              "ticklen": 6,
              "ticks": "inside"
             }
            },
            "type": "scattergl"
           }
          ],
          "scattermapbox": [
           {
            "marker": {
             "colorbar": {
              "outlinewidth": 0,
              "tickcolor": "rgb(237,237,237)",
              "ticklen": 6,
              "ticks": "inside"
             }
            },
            "type": "scattermapbox"
           }
          ],
          "scatterpolar": [
           {
            "marker": {
             "colorbar": {
              "outlinewidth": 0,
              "tickcolor": "rgb(237,237,237)",
              "ticklen": 6,
              "ticks": "inside"
             }
            },
            "type": "scatterpolar"
           }
          ],
          "scatterpolargl": [
           {
            "marker": {
             "colorbar": {
              "outlinewidth": 0,
              "tickcolor": "rgb(237,237,237)",
              "ticklen": 6,
              "ticks": "inside"
             }
            },
            "type": "scatterpolargl"
           }
          ],
          "scatterternary": [
           {
            "marker": {
             "colorbar": {
              "outlinewidth": 0,
              "tickcolor": "rgb(237,237,237)",
              "ticklen": 6,
              "ticks": "inside"
             }
            },
            "type": "scatterternary"
           }
          ],
          "surface": [
           {
            "colorbar": {
             "outlinewidth": 0,
             "tickcolor": "rgb(237,237,237)",
             "ticklen": 6,
             "ticks": "inside"
            },
            "colorscale": [
             [
              0,
              "rgb(20,44,66)"
             ],
             [
              1,
              "rgb(90,179,244)"
             ]
            ],
            "type": "surface"
           }
          ],
          "table": [
           {
            "cells": {
             "fill": {
              "color": "rgb(237,237,237)"
             },
             "line": {
              "color": "white"
             }
            },
            "header": {
             "fill": {
              "color": "rgb(217,217,217)"
             },
             "line": {
              "color": "white"
             }
            },
            "type": "table"
           }
          ]
         },
         "layout": {
          "annotationdefaults": {
           "arrowhead": 0,
           "arrowwidth": 1
          },
          "autotypenumbers": "strict",
          "coloraxis": {
           "colorbar": {
            "outlinewidth": 0,
            "tickcolor": "rgb(237,237,237)",
            "ticklen": 6,
            "ticks": "inside"
           }
          },
          "colorscale": {
           "sequential": [
            [
             0,
             "rgb(20,44,66)"
            ],
            [
             1,
             "rgb(90,179,244)"
            ]
           ],
           "sequentialminus": [
            [
             0,
             "rgb(20,44,66)"
            ],
            [
             1,
             "rgb(90,179,244)"
            ]
           ]
          },
          "colorway": [
           "#F8766D",
           "#A3A500",
           "#00BF7D",
           "#00B0F6",
           "#E76BF3"
          ],
          "font": {
           "color": "rgb(51,51,51)"
          },
          "geo": {
           "bgcolor": "white",
           "lakecolor": "white",
           "landcolor": "rgb(237,237,237)",
           "showlakes": true,
           "showland": true,
           "subunitcolor": "white"
          },
          "hoverlabel": {
           "align": "left"
          },
          "hovermode": "closest",
          "paper_bgcolor": "white",
          "plot_bgcolor": "rgb(237,237,237)",
          "polar": {
           "angularaxis": {
            "gridcolor": "white",
            "linecolor": "white",
            "showgrid": true,
            "tickcolor": "rgb(51,51,51)",
            "ticks": "outside"
           },
           "bgcolor": "rgb(237,237,237)",
           "radialaxis": {
            "gridcolor": "white",
            "linecolor": "white",
            "showgrid": true,
            "tickcolor": "rgb(51,51,51)",
            "ticks": "outside"
           }
          },
          "scene": {
           "xaxis": {
            "backgroundcolor": "rgb(237,237,237)",
            "gridcolor": "white",
            "gridwidth": 2,
            "linecolor": "white",
            "showbackground": true,
            "showgrid": true,
            "tickcolor": "rgb(51,51,51)",
            "ticks": "outside",
            "zerolinecolor": "white"
           },
           "yaxis": {
            "backgroundcolor": "rgb(237,237,237)",
            "gridcolor": "white",
            "gridwidth": 2,
            "linecolor": "white",
            "showbackground": true,
            "showgrid": true,
            "tickcolor": "rgb(51,51,51)",
            "ticks": "outside",
            "zerolinecolor": "white"
           },
           "zaxis": {
            "backgroundcolor": "rgb(237,237,237)",
            "gridcolor": "white",
            "gridwidth": 2,
            "linecolor": "white",
            "showbackground": true,
            "showgrid": true,
            "tickcolor": "rgb(51,51,51)",
            "ticks": "outside",
            "zerolinecolor": "white"
           }
          },
          "shapedefaults": {
           "fillcolor": "black",
           "line": {
            "width": 0
           },
           "opacity": 0.3
          },
          "ternary": {
           "aaxis": {
            "gridcolor": "white",
            "linecolor": "white",
            "showgrid": true,
            "tickcolor": "rgb(51,51,51)",
            "ticks": "outside"
           },
           "baxis": {
            "gridcolor": "white",
            "linecolor": "white",
            "showgrid": true,
            "tickcolor": "rgb(51,51,51)",
            "ticks": "outside"
           },
           "bgcolor": "rgb(237,237,237)",
           "caxis": {
            "gridcolor": "white",
            "linecolor": "white",
            "showgrid": true,
            "tickcolor": "rgb(51,51,51)",
            "ticks": "outside"
           }
          },
          "xaxis": {
           "automargin": true,
           "gridcolor": "white",
           "linecolor": "white",
           "showgrid": true,
           "tickcolor": "rgb(51,51,51)",
           "ticks": "outside",
           "title": {
            "standoff": 15
           },
           "zerolinecolor": "white"
          },
          "yaxis": {
           "automargin": true,
           "gridcolor": "white",
           "linecolor": "white",
           "showgrid": true,
           "tickcolor": "rgb(51,51,51)",
           "ticks": "outside",
           "title": {
            "standoff": 15
           },
           "zerolinecolor": "white"
          }
         }
        },
        "width": 1000,
        "xaxis": {
         "minor": {
          "ticks": "inside"
         },
         "range": [
          -1.35,
          2.58
         ],
         "title": {
          "text": "Computational cost of inference [<i>μs/atom/step</i>]"
         },
         "type": "log"
        },
        "yaxis": {
         "title": {
          "text": "Normalized error"
         }
        }
       }
      }
     },
     "metadata": {},
     "output_type": "display_data"
    }
   ],
   "source": [
    "fig.show()"
   ]
  },
  {
   "cell_type": "code",
   "execution_count": 65,
   "metadata": {},
   "outputs": [
    {
     "data": {
      "application/vnd.plotly.v1+json": {
       "config": {
        "plotlyServerURL": "https://plotly.com"
       },
       "data": [
        {
         "hovertemplate": "%{text}<br>Computational cost: %{x} μs<br>Normalized error: %{y}",
         "legendgroup": "GM-NN",
         "marker": {
          "color": [
           "blue",
           "blue",
           "blue",
           "blue",
           "blue"
          ]
         },
         "mode": "markers",
         "name": "GM-NN",
         "text": [
          "593-512-512-1<br>Engine: LAMMPS-CPU",
          "593-128-128-1<br>Engine: LAMMPS-CPU",
          "593-32-32-1<br>Engine: LAMMPS-CPU",
          "360-512-512-1<br>Engine: LAMMPS-CPU",
          "910-512-512-1<br>Engine: LAMMPS-CPU"
         ],
         "type": "scatter",
         "x": [
          43.81,
          40.42,
          37.54,
          44.25,
          50.04
         ],
         "y": [
          0.07976590315941998,
          0.08449816507850838,
          0.08864026178780551,
          0.09512265833263436,
          0.07621397165991411
         ]
        },
        {
         "hovertemplate": "%{text}<br>Computational cost: %{x} μs<br>Normalized error: %{y}",
         "legendgroup": "MTP",
         "marker": {
          "color": [
           "red",
           "red",
           "red",
           "red",
           "red"
          ]
         },
         "mode": "markers",
         "name": "MTP",
         "text": [
          "lev16<br>Engine: LAMMPS-CPU",
          "lev20<br>Engine: LAMMPS-CPU",
          "lev24<br>Engine: LAMMPS-CPU",
          "lev26<br>Engine: LAMMPS-CPU",
          "lev28<br>Engine: LAMMPS-CPU"
         ],
         "type": "scatter",
         "x": [
          3.45,
          7.69,
          17.57,
          25.1,
          43.78
         ],
         "y": [
          0.1269851978542541,
          0.11819380271828517,
          0.09702777970244977,
          0.09906752681270672,
          0.09132183635587873
         ]
        },
        {
         "hovertemplate": "%{text}<br>Computational cost: %{x} μs<br>Normalized error: %{y}",
         "legendgroup": "Classical",
         "marker": {
          "color": [
           "green",
           "green"
          ]
         },
         "mode": "markers",
         "name": "Classical",
         "text": [
          " EAM<br>Engine: LAMMPS-CPU",
          " MEAM<br>Engine: LAMMPS-CPU"
         ],
         "type": "scatter",
         "x": [
          0.5,
          6.2
         ],
         "y": [
          1,
          0.9389893162471084
         ]
        },
        {
         "hovertemplate": "%{text}<br>Computational cost: %{x} μs<br>Normalized error: %{y}",
         "legendgroup": "MACE",
         "marker": {
          "color": [
           "purple"
          ]
         },
         "mode": "markers",
         "name": "MACE",
         "text": [
          "Standard<br>Engine: LAMMPS-CPU"
         ],
         "type": "scatter",
         "x": [
          151.9
         ],
         "y": [
          0.08998499971433815
         ]
        },
        {
         "hovertemplate": "%{text}<br>Computational cost: %{x} μs<br>Normalized error: %{y}",
         "legendgroup": "NequIP",
         "marker": {
          "color": [
           "orange"
          ]
         },
         "mode": "markers",
         "name": "NequIP",
         "text": [
          "Standard<br>Engine: LAMMPS-CPU"
         ],
         "type": "scatter",
         "x": [
          7.077083333
         ],
         "y": [
          0.14343931995463446
         ]
        },
        {
         "hovertemplate": "%{text}<br>Computational cost: %{x} μs<br>Normalized error: %{y}",
         "legendgroup": "Allegro",
         "marker": {
          "color": [
           "turquoise"
          ]
         },
         "mode": "markers",
         "name": "Allegro",
         "text": [
          "Standard<br>Engine: LAMMPS-CPU"
         ],
         "type": "scatter",
         "x": [
          23.32152778
         ],
         "y": [
          0.12851774324713638
         ]
        },
        {
         "hovertemplate": "%{text}<br>Computational cost: %{x} μs<br>Normalized error: %{y}",
         "legendgroup": "MACE",
         "marker": {
          "color": [
           "purple"
          ]
         },
         "mode": "markers",
         "name": "MACE",
         "showlegend": false,
         "text": [
          "Standard<br>Engine: ASE-CPU"
         ],
         "type": "scatter",
         "x": [
          7.465
         ],
         "y": [
          0.08998499971433815
         ]
        },
        {
         "hovertemplate": "%{text}<br>Computational cost: %{x} μs<br>Normalized error: %{y}",
         "legendgroup": "NequIP",
         "marker": {
          "color": [
           "orange"
          ]
         },
         "mode": "markers",
         "name": "NequIP",
         "showlegend": false,
         "text": [
          "Standard<br>Engine: ASE-CPU"
         ],
         "type": "scatter",
         "x": [
          8.190740741
         ],
         "y": [
          0.14343931995463446
         ]
        },
        {
         "hovertemplate": "%{text}<br>Computational cost: %{x} μs<br>Normalized error: %{y}",
         "legendgroup": "Allegro",
         "marker": {
          "color": [
           "turquoise"
          ]
         },
         "mode": "markers",
         "name": "Allegro",
         "showlegend": false,
         "text": [
          "Standard<br>Engine: ASE-CPU"
         ],
         "type": "scatter",
         "x": [
          23.71134259
         ],
         "y": [
          0.12851774324713638
         ]
        },
        {
         "hovertemplate": "%{text}<br>Computational cost: %{x} μs<br>Normalized error: %{y}",
         "legendgroup": "GM-NN",
         "marker": {
          "color": [
           "blue",
           "blue",
           "blue",
           "blue",
           "blue"
          ]
         },
         "mode": "markers",
         "name": "GM-NN",
         "showlegend": false,
         "text": [
          "593-512-512-1<br>Engine: LAMMPS-GPU",
          "593-128-128-1<br>Engine: LAMMPS-GPU",
          "593-32-32-1<br>Engine: LAMMPS-GPU",
          "360-512-512-1<br>Engine: LAMMPS-GPU",
          "910-512-512-1<br>Engine: LAMMPS-GPU"
         ],
         "type": "scatter",
         "x": [
          7.25,
          7.47,
          7.28,
          7.3,
          7.23
         ],
         "y": [
          0.07976590315941998,
          0.08449816507850838,
          0.08864026178780551,
          0.09512265833263436,
          0.07621397165991411
         ]
        },
        {
         "hovertemplate": "%{text}<br>Computational cost: %{x} μs<br>Normalized error: %{y}",
         "legendgroup": "MACE",
         "marker": {
          "color": [
           "purple"
          ]
         },
         "mode": "markers",
         "name": "MACE",
         "showlegend": false,
         "text": [
          "Standard<br>Engine: LAMMPS-GPU"
         ],
         "type": "scatter",
         "x": [
          2.639351852
         ],
         "y": [
          0.08998499971433815
         ]
        },
        {
         "hovertemplate": "%{text}<br>Computational cost: %{x} μs<br>Normalized error: %{y}",
         "legendgroup": "NequIP",
         "marker": {
          "color": [
           "orange"
          ]
         },
         "mode": "markers",
         "name": "NequIP",
         "showlegend": false,
         "text": [
          "Standard<br>Engine: LAMMPS-GPU"
         ],
         "type": "scatter",
         "x": [
          0.121759259
         ],
         "y": [
          0.14343931995463446
         ]
        },
        {
         "hovertemplate": "%{text}<br>Computational cost: %{x} μs<br>Normalized error: %{y}",
         "legendgroup": "Allegro",
         "marker": {
          "color": [
           "turquoise"
          ]
         },
         "mode": "markers",
         "name": "Allegro",
         "showlegend": false,
         "text": [
          "Standard<br>Engine: LAMMPS-GPU"
         ],
         "type": "scatter",
         "x": [
          0.371296296
         ],
         "y": [
          0.12851774324713638
         ]
        },
        {
         "hovertemplate": "%{text}<br>Computational cost: %{x} μs<br>Normalized error: %{y}",
         "legendgroup": "MACE",
         "marker": {
          "color": [
           "purple"
          ]
         },
         "mode": "markers",
         "name": "MACE",
         "showlegend": false,
         "text": [
          "Standard<br>Engine: ASE-GPU"
         ],
         "type": "scatter",
         "x": [
          0.1759
         ],
         "y": [
          0.08998499971433815
         ]
        },
        {
         "hovertemplate": "%{text}<br>Computational cost: %{x} μs<br>Normalized error: %{y}",
         "legendgroup": "NequIP",
         "marker": {
          "color": [
           "orange"
          ]
         },
         "mode": "markers",
         "name": "NequIP",
         "showlegend": false,
         "text": [
          "Standard<br>Engine: ASE-GPU"
         ],
         "type": "scatter",
         "x": [
          0.160185185
         ],
         "y": [
          0.14343931995463446
         ]
        },
        {
         "hovertemplate": "%{text}<br>Computational cost: %{x} μs<br>Normalized error: %{y}",
         "legendgroup": "Allegro",
         "marker": {
          "color": [
           "turquoise"
          ]
         },
         "mode": "markers",
         "name": "Allegro",
         "showlegend": false,
         "text": [
          "Standard<br>Engine: ASE-GPU"
         ],
         "type": "scatter",
         "x": [
          0.389583333
         ],
         "y": [
          0.12851774324713638
         ]
        }
       ],
       "layout": {
        "font": {
         "family": "Serif",
         "size": 20
        },
        "height": 600,
        "template": {
         "data": {
          "bar": [
           {
            "error_x": {
             "color": "rgb(51,51,51)"
            },
            "error_y": {
             "color": "rgb(51,51,51)"
            },
            "marker": {
             "line": {
              "color": "rgb(237,237,237)",
              "width": 0.5
             },
             "pattern": {
              "fillmode": "overlay",
              "size": 10,
              "solidity": 0.2
             }
            },
            "type": "bar"
           }
          ],
          "barpolar": [
           {
            "marker": {
             "line": {
              "color": "rgb(237,237,237)",
              "width": 0.5
             },
             "pattern": {
              "fillmode": "overlay",
              "size": 10,
              "solidity": 0.2
             }
            },
            "type": "barpolar"
           }
          ],
          "carpet": [
           {
            "aaxis": {
             "endlinecolor": "rgb(51,51,51)",
             "gridcolor": "white",
             "linecolor": "white",
             "minorgridcolor": "white",
             "startlinecolor": "rgb(51,51,51)"
            },
            "baxis": {
             "endlinecolor": "rgb(51,51,51)",
             "gridcolor": "white",
             "linecolor": "white",
             "minorgridcolor": "white",
             "startlinecolor": "rgb(51,51,51)"
            },
            "type": "carpet"
           }
          ],
          "choropleth": [
           {
            "colorbar": {
             "outlinewidth": 0,
             "tickcolor": "rgb(237,237,237)",
             "ticklen": 6,
             "ticks": "inside"
            },
            "type": "choropleth"
           }
          ],
          "contour": [
           {
            "colorbar": {
             "outlinewidth": 0,
             "tickcolor": "rgb(237,237,237)",
             "ticklen": 6,
             "ticks": "inside"
            },
            "colorscale": [
             [
              0,
              "rgb(20,44,66)"
             ],
             [
              1,
              "rgb(90,179,244)"
             ]
            ],
            "type": "contour"
           }
          ],
          "contourcarpet": [
           {
            "colorbar": {
             "outlinewidth": 0,
             "tickcolor": "rgb(237,237,237)",
             "ticklen": 6,
             "ticks": "inside"
            },
            "type": "contourcarpet"
           }
          ],
          "heatmap": [
           {
            "colorbar": {
             "outlinewidth": 0,
             "tickcolor": "rgb(237,237,237)",
             "ticklen": 6,
             "ticks": "inside"
            },
            "colorscale": [
             [
              0,
              "rgb(20,44,66)"
             ],
             [
              1,
              "rgb(90,179,244)"
             ]
            ],
            "type": "heatmap"
           }
          ],
          "heatmapgl": [
           {
            "colorbar": {
             "outlinewidth": 0,
             "tickcolor": "rgb(237,237,237)",
             "ticklen": 6,
             "ticks": "inside"
            },
            "colorscale": [
             [
              0,
              "rgb(20,44,66)"
             ],
             [
              1,
              "rgb(90,179,244)"
             ]
            ],
            "type": "heatmapgl"
           }
          ],
          "histogram": [
           {
            "marker": {
             "pattern": {
              "fillmode": "overlay",
              "size": 10,
              "solidity": 0.2
             }
            },
            "type": "histogram"
           }
          ],
          "histogram2d": [
           {
            "colorbar": {
             "outlinewidth": 0,
             "tickcolor": "rgb(237,237,237)",
             "ticklen": 6,
             "ticks": "inside"
            },
            "colorscale": [
             [
              0,
              "rgb(20,44,66)"
             ],
             [
              1,
              "rgb(90,179,244)"
             ]
            ],
            "type": "histogram2d"
           }
          ],
          "histogram2dcontour": [
           {
            "colorbar": {
             "outlinewidth": 0,
             "tickcolor": "rgb(237,237,237)",
             "ticklen": 6,
             "ticks": "inside"
            },
            "colorscale": [
             [
              0,
              "rgb(20,44,66)"
             ],
             [
              1,
              "rgb(90,179,244)"
             ]
            ],
            "type": "histogram2dcontour"
           }
          ],
          "mesh3d": [
           {
            "colorbar": {
             "outlinewidth": 0,
             "tickcolor": "rgb(237,237,237)",
             "ticklen": 6,
             "ticks": "inside"
            },
            "type": "mesh3d"
           }
          ],
          "parcoords": [
           {
            "line": {
             "colorbar": {
              "outlinewidth": 0,
              "tickcolor": "rgb(237,237,237)",
              "ticklen": 6,
              "ticks": "inside"
             }
            },
            "type": "parcoords"
           }
          ],
          "pie": [
           {
            "automargin": true,
            "type": "pie"
           }
          ],
          "scatter": [
           {
            "fillpattern": {
             "fillmode": "overlay",
             "size": 10,
             "solidity": 0.2
            },
            "type": "scatter"
           }
          ],
          "scatter3d": [
           {
            "line": {
             "colorbar": {
              "outlinewidth": 0,
              "tickcolor": "rgb(237,237,237)",
              "ticklen": 6,
              "ticks": "inside"
             }
            },
            "marker": {
             "colorbar": {
              "outlinewidth": 0,
              "tickcolor": "rgb(237,237,237)",
              "ticklen": 6,
              "ticks": "inside"
             }
            },
            "type": "scatter3d"
           }
          ],
          "scattercarpet": [
           {
            "marker": {
             "colorbar": {
              "outlinewidth": 0,
              "tickcolor": "rgb(237,237,237)",
              "ticklen": 6,
              "ticks": "inside"
             }
            },
            "type": "scattercarpet"
           }
          ],
          "scattergeo": [
           {
            "marker": {
             "colorbar": {
              "outlinewidth": 0,
              "tickcolor": "rgb(237,237,237)",
              "ticklen": 6,
              "ticks": "inside"
             }
            },
            "type": "scattergeo"
           }
          ],
          "scattergl": [
           {
            "marker": {
             "colorbar": {
              "outlinewidth": 0,
              "tickcolor": "rgb(237,237,237)",
              "ticklen": 6,
              "ticks": "inside"
             }
            },
            "type": "scattergl"
           }
          ],
          "scattermapbox": [
           {
            "marker": {
             "colorbar": {
              "outlinewidth": 0,
              "tickcolor": "rgb(237,237,237)",
              "ticklen": 6,
              "ticks": "inside"
             }
            },
            "type": "scattermapbox"
           }
          ],
          "scatterpolar": [
           {
            "marker": {
             "colorbar": {
              "outlinewidth": 0,
              "tickcolor": "rgb(237,237,237)",
              "ticklen": 6,
              "ticks": "inside"
             }
            },
            "type": "scatterpolar"
           }
          ],
          "scatterpolargl": [
           {
            "marker": {
             "colorbar": {
              "outlinewidth": 0,
              "tickcolor": "rgb(237,237,237)",
              "ticklen": 6,
              "ticks": "inside"
             }
            },
            "type": "scatterpolargl"
           }
          ],
          "scatterternary": [
           {
            "marker": {
             "colorbar": {
              "outlinewidth": 0,
              "tickcolor": "rgb(237,237,237)",
              "ticklen": 6,
              "ticks": "inside"
             }
            },
            "type": "scatterternary"
           }
          ],
          "surface": [
           {
            "colorbar": {
             "outlinewidth": 0,
             "tickcolor": "rgb(237,237,237)",
             "ticklen": 6,
             "ticks": "inside"
            },
            "colorscale": [
             [
              0,
              "rgb(20,44,66)"
             ],
             [
              1,
              "rgb(90,179,244)"
             ]
            ],
            "type": "surface"
           }
          ],
          "table": [
           {
            "cells": {
             "fill": {
              "color": "rgb(237,237,237)"
             },
             "line": {
              "color": "white"
             }
            },
            "header": {
             "fill": {
              "color": "rgb(217,217,217)"
             },
             "line": {
              "color": "white"
             }
            },
            "type": "table"
           }
          ]
         },
         "layout": {
          "annotationdefaults": {
           "arrowhead": 0,
           "arrowwidth": 1
          },
          "autotypenumbers": "strict",
          "coloraxis": {
           "colorbar": {
            "outlinewidth": 0,
            "tickcolor": "rgb(237,237,237)",
            "ticklen": 6,
            "ticks": "inside"
           }
          },
          "colorscale": {
           "sequential": [
            [
             0,
             "rgb(20,44,66)"
            ],
            [
             1,
             "rgb(90,179,244)"
            ]
           ],
           "sequentialminus": [
            [
             0,
             "rgb(20,44,66)"
            ],
            [
             1,
             "rgb(90,179,244)"
            ]
           ]
          },
          "colorway": [
           "#F8766D",
           "#A3A500",
           "#00BF7D",
           "#00B0F6",
           "#E76BF3"
          ],
          "font": {
           "color": "rgb(51,51,51)"
          },
          "geo": {
           "bgcolor": "white",
           "lakecolor": "white",
           "landcolor": "rgb(237,237,237)",
           "showlakes": true,
           "showland": true,
           "subunitcolor": "white"
          },
          "hoverlabel": {
           "align": "left"
          },
          "hovermode": "closest",
          "paper_bgcolor": "white",
          "plot_bgcolor": "rgb(237,237,237)",
          "polar": {
           "angularaxis": {
            "gridcolor": "white",
            "linecolor": "white",
            "showgrid": true,
            "tickcolor": "rgb(51,51,51)",
            "ticks": "outside"
           },
           "bgcolor": "rgb(237,237,237)",
           "radialaxis": {
            "gridcolor": "white",
            "linecolor": "white",
            "showgrid": true,
            "tickcolor": "rgb(51,51,51)",
            "ticks": "outside"
           }
          },
          "scene": {
           "xaxis": {
            "backgroundcolor": "rgb(237,237,237)",
            "gridcolor": "white",
            "gridwidth": 2,
            "linecolor": "white",
            "showbackground": true,
            "showgrid": true,
            "tickcolor": "rgb(51,51,51)",
            "ticks": "outside",
            "zerolinecolor": "white"
           },
           "yaxis": {
            "backgroundcolor": "rgb(237,237,237)",
            "gridcolor": "white",
            "gridwidth": 2,
            "linecolor": "white",
            "showbackground": true,
            "showgrid": true,
            "tickcolor": "rgb(51,51,51)",
            "ticks": "outside",
            "zerolinecolor": "white"
           },
           "zaxis": {
            "backgroundcolor": "rgb(237,237,237)",
            "gridcolor": "white",
            "gridwidth": 2,
            "linecolor": "white",
            "showbackground": true,
            "showgrid": true,
            "tickcolor": "rgb(51,51,51)",
            "ticks": "outside",
            "zerolinecolor": "white"
           }
          },
          "shapedefaults": {
           "fillcolor": "black",
           "line": {
            "width": 0
           },
           "opacity": 0.3
          },
          "ternary": {
           "aaxis": {
            "gridcolor": "white",
            "linecolor": "white",
            "showgrid": true,
            "tickcolor": "rgb(51,51,51)",
            "ticks": "outside"
           },
           "baxis": {
            "gridcolor": "white",
            "linecolor": "white",
            "showgrid": true,
            "tickcolor": "rgb(51,51,51)",
            "ticks": "outside"
           },
           "bgcolor": "rgb(237,237,237)",
           "caxis": {
            "gridcolor": "white",
            "linecolor": "white",
            "showgrid": true,
            "tickcolor": "rgb(51,51,51)",
            "ticks": "outside"
           }
          },
          "xaxis": {
           "automargin": true,
           "gridcolor": "white",
           "linecolor": "white",
           "showgrid": true,
           "tickcolor": "rgb(51,51,51)",
           "ticks": "outside",
           "title": {
            "standoff": 15
           },
           "zerolinecolor": "white"
          },
          "yaxis": {
           "automargin": true,
           "gridcolor": "white",
           "linecolor": "white",
           "showgrid": true,
           "tickcolor": "rgb(51,51,51)",
           "ticks": "outside",
           "title": {
            "standoff": 15
           },
           "zerolinecolor": "white"
          }
         }
        },
        "width": 1000,
        "xaxis": {
         "minor": {
          "ticks": "inside"
         },
         "title": {
          "text": "Computational cost of inference [<i>μs/atom/step</i>]"
         },
         "type": "log"
        },
        "yaxis": {
         "title": {
          "text": "Normalized error"
         }
        }
       }
      }
     },
     "metadata": {},
     "output_type": "display_data"
    }
   ],
   "source": [
    "import plotly.graph_objects as go\n",
    "#from colorhash import ColorHash\n",
    "\n",
    "fig = go.Figure(data=[])\n",
    "\n",
    "i=0 # index for trace\n",
    "traces=[] \n",
    "for engine in df['Engine'].unique():\n",
    "    for suite in df['MD Suite'].unique():\n",
    "        for kind in df['Type'].unique():\n",
    "            subset=df.query('Type==@kind & Engine==@engine & `MD Suite`==@suite')\n",
    "            if len(subset)>=1:\n",
    "                i+=1\n",
    "                fig.add_trace(go.Scatter(\n",
    "                    x=subset['Cost'],\n",
    "                    y=subset['Normalized error'],\n",
    "                    mode='markers',\n",
    "                    name=kind,\n",
    "                    text=subset['Model']+'<br>'+'Engine: '+subset['MD Suite']+'-'+subset['Engine'],\n",
    "                    #textposition=\"center bottom\",\n",
    "                    hovertemplate=\"%{text}\"+\"<br>Computational cost: %{x} μs\"+\"<br>Normalized error: %{y}\",\n",
    "                    legendgroup=kind,\n",
    "                    marker={'color':subset['Colour']},\n",
    "                    #legendgrouptitle=kind,\n",
    "                    #yaxis=subset['y axes'].unique()[0],\n",
    "                ))\n",
    "                trace={\n",
    "                    'Trace': i,\n",
    "                    'Type': kind,\n",
    "                    'Engine': engine,\n",
    "                    'MD Suite': suite,\n",
    "                }\n",
    "                traces.append(trace)\n",
    "\n",
    "traces=pd.DataFrame(traces) # convert list of dictionaries to DataFrame\n",
    "\n",
    "# Add annotation\n",
    "fig.update_xaxes(title_text='Computational cost of inference [<i>μs/atom/step</i>]',type=\"log\",minor_ticks='inside')\n",
    "fig.update_layout(yaxis={'title':'Normalized error'},\n",
    "                font_family=\"Serif\",font_size=20,\n",
    "                template='ggplot2',\n",
    "                width=1000,\n",
    "                height=600) #,'position':0\n",
    "\n",
    "names=set()\n",
    "fig.for_each_trace(\n",
    "    lambda trace:\n",
    "        trace.update(showlegend=False)\n",
    "        if (trace.name in names) else names.add(trace.name))\n",
    "\n"
   ]
  },
  {
   "cell_type": "code",
   "execution_count": 66,
   "metadata": {},
   "outputs": [],
   "source": [
    "def produce_buttons(df:pd.DataFrame, traces:pd.DataFrame):\n",
    "    '''Produces buttons list for drop down menu'''\n",
    "    vis_eng=[]\n",
    "    for engine_sub in df['Engine'].unique():\n",
    "        entries=[]\n",
    "        for i, engine in enumerate(traces['Engine']):\n",
    "            if engine_sub==engine:\n",
    "                entry=True\n",
    "            else:\n",
    "                entry=False\n",
    "            entries.append(entry)\n",
    "        vis_eng.append(entries)\n",
    "\n",
    "    vis_md=[]\n",
    "    for md_sub in df['MD Suite'].unique():\n",
    "        entries=[]\n",
    "        for i, md in enumerate(traces['MD Suite']):\n",
    "            if md_sub==md:\n",
    "                entry=True\n",
    "            else:\n",
    "                entry=False\n",
    "            entries.append(entry)\n",
    "        vis_md.append(entries)\n",
    "\n",
    "    lst_eng=[]\n",
    "    lst_eng.append({\n",
    "            'label': 'All engines',\n",
    "            'args': [\n",
    "                        {'visible': len(vis_eng[0])*[True]}\n",
    "                        ],\n",
    "            'method':'update'\n",
    "        })\n",
    "    for i, engine in enumerate(df['Engine'].unique()):\n",
    "        lst_eng.append({\n",
    "            'label': engine,\n",
    "            'args': [\n",
    "                        {'visible': vis_eng[i]}\n",
    "                        ],\n",
    "            'method':'update'\n",
    "        })\n",
    "    \n",
    "    lst_md=[]\n",
    "    lst_md.append({\n",
    "            'label': 'All MD suites',\n",
    "            'args': [\n",
    "                        {'visible': len(vis_md[0])*[True]}\n",
    "                        ],\n",
    "            'method':'update'\n",
    "        })\n",
    "    for i, md in enumerate(df['MD Suite'].unique()):\n",
    "        lst_md.append({\n",
    "            'label': md,\n",
    "            'args': [\n",
    "                        {'visible': vis_md[i]}\n",
    "                        ],\n",
    "            'method':'update'\n",
    "        })\n",
    "\n",
    "    return lst_eng, lst_md"
   ]
  },
  {
   "cell_type": "code",
   "execution_count": 67,
   "metadata": {},
   "outputs": [
    {
     "data": {
      "application/vnd.plotly.v1+json": {
       "config": {
        "plotlyServerURL": "https://plotly.com"
       },
       "data": [
        {
         "hovertemplate": "%{text}<br>Computational cost: %{x} μs<br>Normalized error: %{y}",
         "legendgroup": "GM-NN",
         "marker": {
          "color": [
           "blue",
           "blue",
           "blue",
           "blue",
           "blue"
          ]
         },
         "mode": "markers",
         "name": "GM-NN",
         "text": [
          "593-512-512-1<br>Engine: LAMMPS-CPU",
          "593-128-128-1<br>Engine: LAMMPS-CPU",
          "593-32-32-1<br>Engine: LAMMPS-CPU",
          "360-512-512-1<br>Engine: LAMMPS-CPU",
          "910-512-512-1<br>Engine: LAMMPS-CPU"
         ],
         "type": "scatter",
         "x": [
          43.81,
          40.42,
          37.54,
          44.25,
          50.04
         ],
         "y": [
          0.07976590315941998,
          0.08449816507850838,
          0.08864026178780551,
          0.09512265833263436,
          0.07621397165991411
         ]
        },
        {
         "hovertemplate": "%{text}<br>Computational cost: %{x} μs<br>Normalized error: %{y}",
         "legendgroup": "MTP",
         "marker": {
          "color": [
           "red",
           "red",
           "red",
           "red",
           "red"
          ]
         },
         "mode": "markers",
         "name": "MTP",
         "text": [
          "lev16<br>Engine: LAMMPS-CPU",
          "lev20<br>Engine: LAMMPS-CPU",
          "lev24<br>Engine: LAMMPS-CPU",
          "lev26<br>Engine: LAMMPS-CPU",
          "lev28<br>Engine: LAMMPS-CPU"
         ],
         "type": "scatter",
         "x": [
          3.45,
          7.69,
          17.57,
          25.1,
          43.78
         ],
         "y": [
          0.1269851978542541,
          0.11819380271828517,
          0.09702777970244977,
          0.09906752681270672,
          0.09132183635587873
         ]
        },
        {
         "hovertemplate": "%{text}<br>Computational cost: %{x} μs<br>Normalized error: %{y}",
         "legendgroup": "Classical",
         "marker": {
          "color": [
           "green",
           "green"
          ]
         },
         "mode": "markers",
         "name": "Classical",
         "text": [
          " EAM<br>Engine: LAMMPS-CPU",
          " MEAM<br>Engine: LAMMPS-CPU"
         ],
         "type": "scatter",
         "x": [
          0.5,
          6.2
         ],
         "y": [
          1,
          0.9389893162471084
         ]
        },
        {
         "hovertemplate": "%{text}<br>Computational cost: %{x} μs<br>Normalized error: %{y}",
         "legendgroup": "MACE",
         "marker": {
          "color": [
           "purple"
          ]
         },
         "mode": "markers",
         "name": "MACE",
         "text": [
          "Standard<br>Engine: LAMMPS-CPU"
         ],
         "type": "scatter",
         "x": [
          151.9
         ],
         "y": [
          0.08998499971433815
         ]
        },
        {
         "hovertemplate": "%{text}<br>Computational cost: %{x} μs<br>Normalized error: %{y}",
         "legendgroup": "NequIP",
         "marker": {
          "color": [
           "orange"
          ]
         },
         "mode": "markers",
         "name": "NequIP",
         "text": [
          "Standard<br>Engine: LAMMPS-CPU"
         ],
         "type": "scatter",
         "x": [
          7.077083333
         ],
         "y": [
          0.14343931995463446
         ]
        },
        {
         "hovertemplate": "%{text}<br>Computational cost: %{x} μs<br>Normalized error: %{y}",
         "legendgroup": "Allegro",
         "marker": {
          "color": [
           "turquoise"
          ]
         },
         "mode": "markers",
         "name": "Allegro",
         "text": [
          "Standard<br>Engine: LAMMPS-CPU"
         ],
         "type": "scatter",
         "x": [
          23.32152778
         ],
         "y": [
          0.12851774324713638
         ]
        },
        {
         "hovertemplate": "%{text}<br>Computational cost: %{x} μs<br>Normalized error: %{y}",
         "legendgroup": "MACE",
         "marker": {
          "color": [
           "purple"
          ]
         },
         "mode": "markers",
         "name": "MACE",
         "showlegend": false,
         "text": [
          "Standard<br>Engine: ASE-CPU"
         ],
         "type": "scatter",
         "x": [
          7.465
         ],
         "y": [
          0.08998499971433815
         ]
        },
        {
         "hovertemplate": "%{text}<br>Computational cost: %{x} μs<br>Normalized error: %{y}",
         "legendgroup": "NequIP",
         "marker": {
          "color": [
           "orange"
          ]
         },
         "mode": "markers",
         "name": "NequIP",
         "showlegend": false,
         "text": [
          "Standard<br>Engine: ASE-CPU"
         ],
         "type": "scatter",
         "x": [
          8.190740741
         ],
         "y": [
          0.14343931995463446
         ]
        },
        {
         "hovertemplate": "%{text}<br>Computational cost: %{x} μs<br>Normalized error: %{y}",
         "legendgroup": "Allegro",
         "marker": {
          "color": [
           "turquoise"
          ]
         },
         "mode": "markers",
         "name": "Allegro",
         "showlegend": false,
         "text": [
          "Standard<br>Engine: ASE-CPU"
         ],
         "type": "scatter",
         "x": [
          23.71134259
         ],
         "y": [
          0.12851774324713638
         ]
        },
        {
         "hovertemplate": "%{text}<br>Computational cost: %{x} μs<br>Normalized error: %{y}",
         "legendgroup": "GM-NN",
         "marker": {
          "color": [
           "blue",
           "blue",
           "blue",
           "blue",
           "blue"
          ]
         },
         "mode": "markers",
         "name": "GM-NN",
         "showlegend": false,
         "text": [
          "593-512-512-1<br>Engine: LAMMPS-GPU",
          "593-128-128-1<br>Engine: LAMMPS-GPU",
          "593-32-32-1<br>Engine: LAMMPS-GPU",
          "360-512-512-1<br>Engine: LAMMPS-GPU",
          "910-512-512-1<br>Engine: LAMMPS-GPU"
         ],
         "type": "scatter",
         "x": [
          7.25,
          7.47,
          7.28,
          7.3,
          7.23
         ],
         "y": [
          0.07976590315941998,
          0.08449816507850838,
          0.08864026178780551,
          0.09512265833263436,
          0.07621397165991411
         ]
        },
        {
         "hovertemplate": "%{text}<br>Computational cost: %{x} μs<br>Normalized error: %{y}",
         "legendgroup": "MACE",
         "marker": {
          "color": [
           "purple"
          ]
         },
         "mode": "markers",
         "name": "MACE",
         "showlegend": false,
         "text": [
          "Standard<br>Engine: LAMMPS-GPU"
         ],
         "type": "scatter",
         "x": [
          2.639351852
         ],
         "y": [
          0.08998499971433815
         ]
        },
        {
         "hovertemplate": "%{text}<br>Computational cost: %{x} μs<br>Normalized error: %{y}",
         "legendgroup": "NequIP",
         "marker": {
          "color": [
           "orange"
          ]
         },
         "mode": "markers",
         "name": "NequIP",
         "showlegend": false,
         "text": [
          "Standard<br>Engine: LAMMPS-GPU"
         ],
         "type": "scatter",
         "x": [
          0.121759259
         ],
         "y": [
          0.14343931995463446
         ]
        },
        {
         "hovertemplate": "%{text}<br>Computational cost: %{x} μs<br>Normalized error: %{y}",
         "legendgroup": "Allegro",
         "marker": {
          "color": [
           "turquoise"
          ]
         },
         "mode": "markers",
         "name": "Allegro",
         "showlegend": false,
         "text": [
          "Standard<br>Engine: LAMMPS-GPU"
         ],
         "type": "scatter",
         "x": [
          0.371296296
         ],
         "y": [
          0.12851774324713638
         ]
        },
        {
         "hovertemplate": "%{text}<br>Computational cost: %{x} μs<br>Normalized error: %{y}",
         "legendgroup": "MACE",
         "marker": {
          "color": [
           "purple"
          ]
         },
         "mode": "markers",
         "name": "MACE",
         "showlegend": false,
         "text": [
          "Standard<br>Engine: ASE-GPU"
         ],
         "type": "scatter",
         "x": [
          0.1759
         ],
         "y": [
          0.08998499971433815
         ]
        },
        {
         "hovertemplate": "%{text}<br>Computational cost: %{x} μs<br>Normalized error: %{y}",
         "legendgroup": "NequIP",
         "marker": {
          "color": [
           "orange"
          ]
         },
         "mode": "markers",
         "name": "NequIP",
         "showlegend": false,
         "text": [
          "Standard<br>Engine: ASE-GPU"
         ],
         "type": "scatter",
         "x": [
          0.160185185
         ],
         "y": [
          0.14343931995463446
         ]
        },
        {
         "hovertemplate": "%{text}<br>Computational cost: %{x} μs<br>Normalized error: %{y}",
         "legendgroup": "Allegro",
         "marker": {
          "color": [
           "turquoise"
          ]
         },
         "mode": "markers",
         "name": "Allegro",
         "showlegend": false,
         "text": [
          "Standard<br>Engine: ASE-GPU"
         ],
         "type": "scatter",
         "x": [
          0.389583333
         ],
         "y": [
          0.12851774324713638
         ]
        }
       ],
       "layout": {
        "font": {
         "family": "Serif",
         "size": 20
        },
        "height": 600,
        "template": {
         "data": {
          "bar": [
           {
            "error_x": {
             "color": "rgb(51,51,51)"
            },
            "error_y": {
             "color": "rgb(51,51,51)"
            },
            "marker": {
             "line": {
              "color": "rgb(237,237,237)",
              "width": 0.5
             },
             "pattern": {
              "fillmode": "overlay",
              "size": 10,
              "solidity": 0.2
             }
            },
            "type": "bar"
           }
          ],
          "barpolar": [
           {
            "marker": {
             "line": {
              "color": "rgb(237,237,237)",
              "width": 0.5
             },
             "pattern": {
              "fillmode": "overlay",
              "size": 10,
              "solidity": 0.2
             }
            },
            "type": "barpolar"
           }
          ],
          "carpet": [
           {
            "aaxis": {
             "endlinecolor": "rgb(51,51,51)",
             "gridcolor": "white",
             "linecolor": "white",
             "minorgridcolor": "white",
             "startlinecolor": "rgb(51,51,51)"
            },
            "baxis": {
             "endlinecolor": "rgb(51,51,51)",
             "gridcolor": "white",
             "linecolor": "white",
             "minorgridcolor": "white",
             "startlinecolor": "rgb(51,51,51)"
            },
            "type": "carpet"
           }
          ],
          "choropleth": [
           {
            "colorbar": {
             "outlinewidth": 0,
             "tickcolor": "rgb(237,237,237)",
             "ticklen": 6,
             "ticks": "inside"
            },
            "type": "choropleth"
           }
          ],
          "contour": [
           {
            "colorbar": {
             "outlinewidth": 0,
             "tickcolor": "rgb(237,237,237)",
             "ticklen": 6,
             "ticks": "inside"
            },
            "colorscale": [
             [
              0,
              "rgb(20,44,66)"
             ],
             [
              1,
              "rgb(90,179,244)"
             ]
            ],
            "type": "contour"
           }
          ],
          "contourcarpet": [
           {
            "colorbar": {
             "outlinewidth": 0,
             "tickcolor": "rgb(237,237,237)",
             "ticklen": 6,
             "ticks": "inside"
            },
            "type": "contourcarpet"
           }
          ],
          "heatmap": [
           {
            "colorbar": {
             "outlinewidth": 0,
             "tickcolor": "rgb(237,237,237)",
             "ticklen": 6,
             "ticks": "inside"
            },
            "colorscale": [
             [
              0,
              "rgb(20,44,66)"
             ],
             [
              1,
              "rgb(90,179,244)"
             ]
            ],
            "type": "heatmap"
           }
          ],
          "heatmapgl": [
           {
            "colorbar": {
             "outlinewidth": 0,
             "tickcolor": "rgb(237,237,237)",
             "ticklen": 6,
             "ticks": "inside"
            },
            "colorscale": [
             [
              0,
              "rgb(20,44,66)"
             ],
             [
              1,
              "rgb(90,179,244)"
             ]
            ],
            "type": "heatmapgl"
           }
          ],
          "histogram": [
           {
            "marker": {
             "pattern": {
              "fillmode": "overlay",
              "size": 10,
              "solidity": 0.2
             }
            },
            "type": "histogram"
           }
          ],
          "histogram2d": [
           {
            "colorbar": {
             "outlinewidth": 0,
             "tickcolor": "rgb(237,237,237)",
             "ticklen": 6,
             "ticks": "inside"
            },
            "colorscale": [
             [
              0,
              "rgb(20,44,66)"
             ],
             [
              1,
              "rgb(90,179,244)"
             ]
            ],
            "type": "histogram2d"
           }
          ],
          "histogram2dcontour": [
           {
            "colorbar": {
             "outlinewidth": 0,
             "tickcolor": "rgb(237,237,237)",
             "ticklen": 6,
             "ticks": "inside"
            },
            "colorscale": [
             [
              0,
              "rgb(20,44,66)"
             ],
             [
              1,
              "rgb(90,179,244)"
             ]
            ],
            "type": "histogram2dcontour"
           }
          ],
          "mesh3d": [
           {
            "colorbar": {
             "outlinewidth": 0,
             "tickcolor": "rgb(237,237,237)",
             "ticklen": 6,
             "ticks": "inside"
            },
            "type": "mesh3d"
           }
          ],
          "parcoords": [
           {
            "line": {
             "colorbar": {
              "outlinewidth": 0,
              "tickcolor": "rgb(237,237,237)",
              "ticklen": 6,
              "ticks": "inside"
             }
            },
            "type": "parcoords"
           }
          ],
          "pie": [
           {
            "automargin": true,
            "type": "pie"
           }
          ],
          "scatter": [
           {
            "fillpattern": {
             "fillmode": "overlay",
             "size": 10,
             "solidity": 0.2
            },
            "type": "scatter"
           }
          ],
          "scatter3d": [
           {
            "line": {
             "colorbar": {
              "outlinewidth": 0,
              "tickcolor": "rgb(237,237,237)",
              "ticklen": 6,
              "ticks": "inside"
             }
            },
            "marker": {
             "colorbar": {
              "outlinewidth": 0,
              "tickcolor": "rgb(237,237,237)",
              "ticklen": 6,
              "ticks": "inside"
             }
            },
            "type": "scatter3d"
           }
          ],
          "scattercarpet": [
           {
            "marker": {
             "colorbar": {
              "outlinewidth": 0,
              "tickcolor": "rgb(237,237,237)",
              "ticklen": 6,
              "ticks": "inside"
             }
            },
            "type": "scattercarpet"
           }
          ],
          "scattergeo": [
           {
            "marker": {
             "colorbar": {
              "outlinewidth": 0,
              "tickcolor": "rgb(237,237,237)",
              "ticklen": 6,
              "ticks": "inside"
             }
            },
            "type": "scattergeo"
           }
          ],
          "scattergl": [
           {
            "marker": {
             "colorbar": {
              "outlinewidth": 0,
              "tickcolor": "rgb(237,237,237)",
              "ticklen": 6,
              "ticks": "inside"
             }
            },
            "type": "scattergl"
           }
          ],
          "scattermapbox": [
           {
            "marker": {
             "colorbar": {
              "outlinewidth": 0,
              "tickcolor": "rgb(237,237,237)",
              "ticklen": 6,
              "ticks": "inside"
             }
            },
            "type": "scattermapbox"
           }
          ],
          "scatterpolar": [
           {
            "marker": {
             "colorbar": {
              "outlinewidth": 0,
              "tickcolor": "rgb(237,237,237)",
              "ticklen": 6,
              "ticks": "inside"
             }
            },
            "type": "scatterpolar"
           }
          ],
          "scatterpolargl": [
           {
            "marker": {
             "colorbar": {
              "outlinewidth": 0,
              "tickcolor": "rgb(237,237,237)",
              "ticklen": 6,
              "ticks": "inside"
             }
            },
            "type": "scatterpolargl"
           }
          ],
          "scatterternary": [
           {
            "marker": {
             "colorbar": {
              "outlinewidth": 0,
              "tickcolor": "rgb(237,237,237)",
              "ticklen": 6,
              "ticks": "inside"
             }
            },
            "type": "scatterternary"
           }
          ],
          "surface": [
           {
            "colorbar": {
             "outlinewidth": 0,
             "tickcolor": "rgb(237,237,237)",
             "ticklen": 6,
             "ticks": "inside"
            },
            "colorscale": [
             [
              0,
              "rgb(20,44,66)"
             ],
             [
              1,
              "rgb(90,179,244)"
             ]
            ],
            "type": "surface"
           }
          ],
          "table": [
           {
            "cells": {
             "fill": {
              "color": "rgb(237,237,237)"
             },
             "line": {
              "color": "white"
             }
            },
            "header": {
             "fill": {
              "color": "rgb(217,217,217)"
             },
             "line": {
              "color": "white"
             }
            },
            "type": "table"
           }
          ]
         },
         "layout": {
          "annotationdefaults": {
           "arrowhead": 0,
           "arrowwidth": 1
          },
          "autotypenumbers": "strict",
          "coloraxis": {
           "colorbar": {
            "outlinewidth": 0,
            "tickcolor": "rgb(237,237,237)",
            "ticklen": 6,
            "ticks": "inside"
           }
          },
          "colorscale": {
           "sequential": [
            [
             0,
             "rgb(20,44,66)"
            ],
            [
             1,
             "rgb(90,179,244)"
            ]
           ],
           "sequentialminus": [
            [
             0,
             "rgb(20,44,66)"
            ],
            [
             1,
             "rgb(90,179,244)"
            ]
           ]
          },
          "colorway": [
           "#F8766D",
           "#A3A500",
           "#00BF7D",
           "#00B0F6",
           "#E76BF3"
          ],
          "font": {
           "color": "rgb(51,51,51)"
          },
          "geo": {
           "bgcolor": "white",
           "lakecolor": "white",
           "landcolor": "rgb(237,237,237)",
           "showlakes": true,
           "showland": true,
           "subunitcolor": "white"
          },
          "hoverlabel": {
           "align": "left"
          },
          "hovermode": "closest",
          "paper_bgcolor": "white",
          "plot_bgcolor": "rgb(237,237,237)",
          "polar": {
           "angularaxis": {
            "gridcolor": "white",
            "linecolor": "white",
            "showgrid": true,
            "tickcolor": "rgb(51,51,51)",
            "ticks": "outside"
           },
           "bgcolor": "rgb(237,237,237)",
           "radialaxis": {
            "gridcolor": "white",
            "linecolor": "white",
            "showgrid": true,
            "tickcolor": "rgb(51,51,51)",
            "ticks": "outside"
           }
          },
          "scene": {
           "xaxis": {
            "backgroundcolor": "rgb(237,237,237)",
            "gridcolor": "white",
            "gridwidth": 2,
            "linecolor": "white",
            "showbackground": true,
            "showgrid": true,
            "tickcolor": "rgb(51,51,51)",
            "ticks": "outside",
            "zerolinecolor": "white"
           },
           "yaxis": {
            "backgroundcolor": "rgb(237,237,237)",
            "gridcolor": "white",
            "gridwidth": 2,
            "linecolor": "white",
            "showbackground": true,
            "showgrid": true,
            "tickcolor": "rgb(51,51,51)",
            "ticks": "outside",
            "zerolinecolor": "white"
           },
           "zaxis": {
            "backgroundcolor": "rgb(237,237,237)",
            "gridcolor": "white",
            "gridwidth": 2,
            "linecolor": "white",
            "showbackground": true,
            "showgrid": true,
            "tickcolor": "rgb(51,51,51)",
            "ticks": "outside",
            "zerolinecolor": "white"
           }
          },
          "shapedefaults": {
           "fillcolor": "black",
           "line": {
            "width": 0
           },
           "opacity": 0.3
          },
          "ternary": {
           "aaxis": {
            "gridcolor": "white",
            "linecolor": "white",
            "showgrid": true,
            "tickcolor": "rgb(51,51,51)",
            "ticks": "outside"
           },
           "baxis": {
            "gridcolor": "white",
            "linecolor": "white",
            "showgrid": true,
            "tickcolor": "rgb(51,51,51)",
            "ticks": "outside"
           },
           "bgcolor": "rgb(237,237,237)",
           "caxis": {
            "gridcolor": "white",
            "linecolor": "white",
            "showgrid": true,
            "tickcolor": "rgb(51,51,51)",
            "ticks": "outside"
           }
          },
          "xaxis": {
           "automargin": true,
           "gridcolor": "white",
           "linecolor": "white",
           "showgrid": true,
           "tickcolor": "rgb(51,51,51)",
           "ticks": "outside",
           "title": {
            "standoff": 15
           },
           "zerolinecolor": "white"
          },
          "yaxis": {
           "automargin": true,
           "gridcolor": "white",
           "linecolor": "white",
           "showgrid": true,
           "tickcolor": "rgb(51,51,51)",
           "ticks": "outside",
           "title": {
            "standoff": 15
           },
           "zerolinecolor": "white"
          }
         }
        },
        "updatemenus": [
         {
          "buttons": [
           {
            "args": [
             {
              "visible": [
               true,
               true,
               true,
               true,
               true,
               true,
               true,
               true,
               true,
               true,
               true,
               true,
               true,
               true,
               true,
               true
              ]
             }
            ],
            "label": "All engines",
            "method": "update"
           },
           {
            "args": [
             {
              "visible": [
               true,
               true,
               true,
               true,
               true,
               true,
               true,
               true,
               true,
               false,
               false,
               false,
               false,
               false,
               false,
               false
              ]
             }
            ],
            "label": "CPU",
            "method": "update"
           },
           {
            "args": [
             {
              "visible": [
               false,
               false,
               false,
               false,
               false,
               false,
               false,
               false,
               false,
               true,
               true,
               true,
               true,
               true,
               true,
               true
              ]
             }
            ],
            "label": "GPU",
            "method": "update"
           }
          ],
          "direction": "down",
          "x": 0.05,
          "y": 1.1
         },
         {
          "buttons": [
           {
            "args": [
             {
              "visible": [
               true,
               true,
               true,
               true,
               true,
               true,
               true,
               true,
               true,
               true,
               true,
               true,
               true,
               true,
               true,
               true
              ]
             }
            ],
            "label": "All MD suites",
            "method": "update"
           },
           {
            "args": [
             {
              "visible": [
               true,
               true,
               true,
               true,
               true,
               true,
               false,
               false,
               false,
               true,
               true,
               true,
               true,
               false,
               false,
               false
              ]
             }
            ],
            "label": "LAMMPS",
            "method": "update"
           },
           {
            "args": [
             {
              "visible": [
               false,
               false,
               false,
               false,
               false,
               false,
               true,
               true,
               true,
               false,
               false,
               false,
               false,
               true,
               true,
               true
              ]
             }
            ],
            "label": "ASE",
            "method": "update"
           }
          ],
          "direction": "down",
          "x": 0.3,
          "y": 1.1
         }
        ],
        "width": 1000,
        "xaxis": {
         "minor": {
          "ticks": "inside"
         },
         "title": {
          "text": "Computational cost of inference [<i>μs/atom/step</i>]"
         },
         "type": "log"
        },
        "yaxis": {
         "title": {
          "text": "Normalized error"
         }
        }
       }
      }
     },
     "metadata": {},
     "output_type": "display_data"
    }
   ],
   "source": [
    "# Add dropdown\n",
    "\n",
    "lst_eng, lst_md = produce_buttons(df, traces)\n",
    "fig.update_layout(\n",
    "    updatemenus=[\n",
    "        dict(\n",
    "            buttons=lst_eng,\n",
    "            direction=\"down\",\n",
    "            x=0.05,\n",
    "            y=1.1,\n",
    "            #type = \"buttons\",\n",
    "            #active=0\n",
    "        ),\n",
    "        dict(\n",
    "            buttons=lst_md,\n",
    "            direction=\"down\",\n",
    "            x=0.3,\n",
    "            y=1.1,\n",
    "            #type = \"buttons\",\n",
    "            #active=0\n",
    "        )\n",
    "    ]\n",
    ")\n",
    "\n",
    "# fig.update_layout(\n",
    "#     annotations=[\n",
    "#         dict(text=\"Engine\", x=0, xref=\"paper\", y=1.1, yref=\"paper\",\n",
    "#                              align=\"left\", showarrow=False),\n",
    "#         dict(text=\"MD Suite\", x=0.075, xref=\"paper\", y=1.1,\n",
    "#                              yref=\"paper\", showarrow=False)])"
   ]
  },
  {
   "cell_type": "code",
   "execution_count": 68,
   "metadata": {},
   "outputs": [],
   "source": [
    "fig.write_html('/Users/dominicwelti/Library/CloudStorage/Dropbox/Master_Thesis/data_npj/Inference.html')"
   ]
  }
 ],
 "metadata": {
  "kernelspec": {
   "display_name": "base",
   "language": "python",
   "name": "python3"
  },
  "language_info": {
   "codemirror_mode": {
    "name": "ipython",
    "version": 3
   },
   "file_extension": ".py",
   "mimetype": "text/x-python",
   "name": "python",
   "nbconvert_exporter": "python",
   "pygments_lexer": "ipython3",
   "version": "3.12.5"
  }
 },
 "nbformat": 4,
 "nbformat_minor": 2
}
