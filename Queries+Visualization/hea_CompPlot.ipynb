{
 "cells": [
  {
   "cell_type": "code",
   "execution_count": 1,
   "metadata": {},
   "outputs": [],
   "source": [
    "import numpy as np\n",
    "import pandas as pd\n",
    "\n",
    "#import data\n",
    "df = pd.read_csv('/Users/dominicwelti/Library/CloudStorage/Dropbox/Master_Thesis/data_npj/Graph_data.csv')"
   ]
  },
  {
   "cell_type": "code",
   "execution_count": 2,
   "metadata": {},
   "outputs": [],
   "source": [
    "def calculate_rel_e(df:pd.DataFrame):\n",
    "    '''Calculate normalized error. Returns dataframe with new column [\"Normalized error\"].'''\n",
    "    df['Normalized error']=0\n",
    "    for (i, error_e, error_f) in zip(df.index, df['Error_E'],df['Error_F']):\n",
    "        df.loc[i,'Normalized error']=(1/2)*( error_f/max(df['Error_F']) + error_e/max(df['Error_E']) )\n",
    "    return df"
   ]
  },
  {
   "cell_type": "code",
   "execution_count": 3,
   "metadata": {},
   "outputs": [
    {
     "name": "stderr",
     "output_type": "stream",
     "text": [
      "/var/folders/22/kgbcd6856bb9_kzpfp_36k600000gn/T/ipykernel_3784/3109798719.py:5: FutureWarning: Setting an item of incompatible dtype is deprecated and will raise an error in a future version of pandas. Value '0.07976590315941998' has dtype incompatible with int64, please explicitly cast to a compatible dtype first.\n",
      "  df.loc[i,'Normalized error']=(1/2)*( error_f/max(df['Error_F']) + error_e/max(df['Error_E']) )\n"
     ]
    }
   ],
   "source": [
    "df=calculate_rel_e(df)"
   ]
  },
  {
   "cell_type": "code",
   "execution_count": 4,
   "metadata": {},
   "outputs": [
    {
     "data": {
      "application/vnd.plotly.v1+json": {
       "config": {
        "plotlyServerURL": "https://plot.ly"
       },
       "data": [
        {
         "hovertemplate": "Type=GM-NN<br>Cost=%{x}<br>Normalized error=%{y}<br>Model=%{text}<extra></extra>",
         "legendgroup": "GM-NN",
         "marker": {
          "color": "#636efa",
          "symbol": "circle"
         },
         "mode": "markers+text",
         "name": "GM-NN",
         "orientation": "v",
         "showlegend": true,
         "text": [
          "593-512-512-1",
          "593-128-128-1",
          "593-32-32-1",
          "360-512-512-1",
          "910-512-512-1",
          "593-512-512-1",
          "593-128-128-1",
          "593-32-32-1",
          "360-512-512-1",
          "910-512-512-1"
         ],
         "type": "scatter",
         "x": [
          43.81,
          40.42,
          37.54,
          44.25,
          50.04,
          7.25,
          7.47,
          7.28,
          7.3,
          7.23
         ],
         "xaxis": "x",
         "y": [
          0.07976590315941998,
          0.08449816507850838,
          0.08864026178780551,
          0.09512265833263436,
          0.07621397165991411,
          0.07976590315941998,
          0.08449816507850838,
          0.08864026178780551,
          0.09512265833263436,
          0.07621397165991411
         ],
         "yaxis": "y"
        },
        {
         "hovertemplate": "Type=MTP<br>Cost=%{x}<br>Normalized error=%{y}<br>Model=%{text}<extra></extra>",
         "legendgroup": "MTP",
         "marker": {
          "color": "#EF553B",
          "symbol": "circle"
         },
         "mode": "markers+text",
         "name": "MTP",
         "orientation": "v",
         "showlegend": true,
         "text": [
          "lev16",
          "lev20",
          "lev24",
          "lev26",
          "lev28"
         ],
         "type": "scatter",
         "x": [
          3.45,
          7.69,
          17.57,
          25.1,
          43.78
         ],
         "xaxis": "x",
         "y": [
          0.1269851978542541,
          0.11819380271828517,
          0.09702777970244977,
          0.09906752681270672,
          0.09132183635587873
         ],
         "yaxis": "y"
        },
        {
         "hovertemplate": "Type=Classical<br>Cost=%{x}<br>Normalized error=%{y}<br>Model=%{text}<extra></extra>",
         "legendgroup": "Classical",
         "marker": {
          "color": "#00cc96",
          "symbol": "circle"
         },
         "mode": "markers+text",
         "name": "Classical",
         "orientation": "v",
         "showlegend": true,
         "text": [
          " EAM",
          " MEAM"
         ],
         "type": "scatter",
         "x": [
          0.5,
          6.2
         ],
         "xaxis": "x",
         "y": [
          1,
          0.9389893162471084
         ],
         "yaxis": "y"
        },
        {
         "hovertemplate": "Type=MACE<br>Cost=%{x}<br>Normalized error=%{y}<br>Model=%{text}<extra></extra>",
         "legendgroup": "MACE",
         "marker": {
          "color": "#ab63fa",
          "symbol": "circle"
         },
         "mode": "markers+text",
         "name": "MACE",
         "orientation": "v",
         "showlegend": true,
         "text": [
          "Standard",
          "Standard",
          "Standard",
          "Standard"
         ],
         "type": "scatter",
         "x": [
          151.9,
          2.639351852,
          0.1759,
          7.465
         ],
         "xaxis": "x",
         "y": [
          0.08998499971433815,
          0.08998499971433815,
          0.08998499971433815,
          0.08998499971433815
         ],
         "yaxis": "y"
        },
        {
         "hovertemplate": "Type=NequIP<br>Cost=%{x}<br>Normalized error=%{y}<br>Model=%{text}<extra></extra>",
         "legendgroup": "NequIP",
         "marker": {
          "color": "#FFA15A",
          "symbol": "circle"
         },
         "mode": "markers+text",
         "name": "NequIP",
         "orientation": "v",
         "showlegend": true,
         "text": [
          "Standard",
          "Standard",
          "Standard",
          "Standard"
         ],
         "type": "scatter",
         "x": [
          0.160185185,
          8.190740741,
          7.077083333,
          0.121759259
         ],
         "xaxis": "x",
         "y": [
          0.14343931995463446,
          0.14343931995463446,
          0.14343931995463446,
          0.14343931995463446
         ],
         "yaxis": "y"
        },
        {
         "hovertemplate": "Type=Allegro<br>Cost=%{x}<br>Normalized error=%{y}<br>Model=%{text}<extra></extra>",
         "legendgroup": "Allegro",
         "marker": {
          "color": "#19d3f3",
          "symbol": "circle"
         },
         "mode": "markers+text",
         "name": "Allegro",
         "orientation": "v",
         "showlegend": true,
         "text": [
          "Standard",
          "Standard",
          "Standard",
          "Standard"
         ],
         "type": "scatter",
         "x": [
          0.389583333,
          23.71134259,
          23.32152778,
          0.371296296
         ],
         "xaxis": "x",
         "y": [
          0.12851774324713638,
          0.12851774324713638,
          0.12851774324713638,
          0.12851774324713638
         ],
         "yaxis": "y"
        }
       ],
       "layout": {
        "legend": {
         "title": {
          "text": "Type"
         },
         "tracegroupgap": 0
        },
        "margin": {
         "t": 60
        },
        "template": {
         "data": {
          "bar": [
           {
            "error_x": {
             "color": "#2a3f5f"
            },
            "error_y": {
             "color": "#2a3f5f"
            },
            "marker": {
             "line": {
              "color": "#E5ECF6",
              "width": 0.5
             },
             "pattern": {
              "fillmode": "overlay",
              "size": 10,
              "solidity": 0.2
             }
            },
            "type": "bar"
           }
          ],
          "barpolar": [
           {
            "marker": {
             "line": {
              "color": "#E5ECF6",
              "width": 0.5
             },
             "pattern": {
              "fillmode": "overlay",
              "size": 10,
              "solidity": 0.2
             }
            },
            "type": "barpolar"
           }
          ],
          "carpet": [
           {
            "aaxis": {
             "endlinecolor": "#2a3f5f",
             "gridcolor": "white",
             "linecolor": "white",
             "minorgridcolor": "white",
             "startlinecolor": "#2a3f5f"
            },
            "baxis": {
             "endlinecolor": "#2a3f5f",
             "gridcolor": "white",
             "linecolor": "white",
             "minorgridcolor": "white",
             "startlinecolor": "#2a3f5f"
            },
            "type": "carpet"
           }
          ],
          "choropleth": [
           {
            "colorbar": {
             "outlinewidth": 0,
             "ticks": ""
            },
            "type": "choropleth"
           }
          ],
          "contour": [
           {
            "colorbar": {
             "outlinewidth": 0,
             "ticks": ""
            },
            "colorscale": [
             [
              0,
              "#0d0887"
             ],
             [
              0.1111111111111111,
              "#46039f"
             ],
             [
              0.2222222222222222,
              "#7201a8"
             ],
             [
              0.3333333333333333,
              "#9c179e"
             ],
             [
              0.4444444444444444,
              "#bd3786"
             ],
             [
              0.5555555555555556,
              "#d8576b"
             ],
             [
              0.6666666666666666,
              "#ed7953"
             ],
             [
              0.7777777777777778,
              "#fb9f3a"
             ],
             [
              0.8888888888888888,
              "#fdca26"
             ],
             [
              1,
              "#f0f921"
             ]
            ],
            "type": "contour"
           }
          ],
          "contourcarpet": [
           {
            "colorbar": {
             "outlinewidth": 0,
             "ticks": ""
            },
            "type": "contourcarpet"
           }
          ],
          "heatmap": [
           {
            "colorbar": {
             "outlinewidth": 0,
             "ticks": ""
            },
            "colorscale": [
             [
              0,
              "#0d0887"
             ],
             [
              0.1111111111111111,
              "#46039f"
             ],
             [
              0.2222222222222222,
              "#7201a8"
             ],
             [
              0.3333333333333333,
              "#9c179e"
             ],
             [
              0.4444444444444444,
              "#bd3786"
             ],
             [
              0.5555555555555556,
              "#d8576b"
             ],
             [
              0.6666666666666666,
              "#ed7953"
             ],
             [
              0.7777777777777778,
              "#fb9f3a"
             ],
             [
              0.8888888888888888,
              "#fdca26"
             ],
             [
              1,
              "#f0f921"
             ]
            ],
            "type": "heatmap"
           }
          ],
          "heatmapgl": [
           {
            "colorbar": {
             "outlinewidth": 0,
             "ticks": ""
            },
            "colorscale": [
             [
              0,
              "#0d0887"
             ],
             [
              0.1111111111111111,
              "#46039f"
             ],
             [
              0.2222222222222222,
              "#7201a8"
             ],
             [
              0.3333333333333333,
              "#9c179e"
             ],
             [
              0.4444444444444444,
              "#bd3786"
             ],
             [
              0.5555555555555556,
              "#d8576b"
             ],
             [
              0.6666666666666666,
              "#ed7953"
             ],
             [
              0.7777777777777778,
              "#fb9f3a"
             ],
             [
              0.8888888888888888,
              "#fdca26"
             ],
             [
              1,
              "#f0f921"
             ]
            ],
            "type": "heatmapgl"
           }
          ],
          "histogram": [
           {
            "marker": {
             "pattern": {
              "fillmode": "overlay",
              "size": 10,
              "solidity": 0.2
             }
            },
            "type": "histogram"
           }
          ],
          "histogram2d": [
           {
            "colorbar": {
             "outlinewidth": 0,
             "ticks": ""
            },
            "colorscale": [
             [
              0,
              "#0d0887"
             ],
             [
              0.1111111111111111,
              "#46039f"
             ],
             [
              0.2222222222222222,
              "#7201a8"
             ],
             [
              0.3333333333333333,
              "#9c179e"
             ],
             [
              0.4444444444444444,
              "#bd3786"
             ],
             [
              0.5555555555555556,
              "#d8576b"
             ],
             [
              0.6666666666666666,
              "#ed7953"
             ],
             [
              0.7777777777777778,
              "#fb9f3a"
             ],
             [
              0.8888888888888888,
              "#fdca26"
             ],
             [
              1,
              "#f0f921"
             ]
            ],
            "type": "histogram2d"
           }
          ],
          "histogram2dcontour": [
           {
            "colorbar": {
             "outlinewidth": 0,
             "ticks": ""
            },
            "colorscale": [
             [
              0,
              "#0d0887"
             ],
             [
              0.1111111111111111,
              "#46039f"
             ],
             [
              0.2222222222222222,
              "#7201a8"
             ],
             [
              0.3333333333333333,
              "#9c179e"
             ],
             [
              0.4444444444444444,
              "#bd3786"
             ],
             [
              0.5555555555555556,
              "#d8576b"
             ],
             [
              0.6666666666666666,
              "#ed7953"
             ],
             [
              0.7777777777777778,
              "#fb9f3a"
             ],
             [
              0.8888888888888888,
              "#fdca26"
             ],
             [
              1,
              "#f0f921"
             ]
            ],
            "type": "histogram2dcontour"
           }
          ],
          "mesh3d": [
           {
            "colorbar": {
             "outlinewidth": 0,
             "ticks": ""
            },
            "type": "mesh3d"
           }
          ],
          "parcoords": [
           {
            "line": {
             "colorbar": {
              "outlinewidth": 0,
              "ticks": ""
             }
            },
            "type": "parcoords"
           }
          ],
          "pie": [
           {
            "automargin": true,
            "type": "pie"
           }
          ],
          "scatter": [
           {
            "fillpattern": {
             "fillmode": "overlay",
             "size": 10,
             "solidity": 0.2
            },
            "type": "scatter"
           }
          ],
          "scatter3d": [
           {
            "line": {
             "colorbar": {
              "outlinewidth": 0,
              "ticks": ""
             }
            },
            "marker": {
             "colorbar": {
              "outlinewidth": 0,
              "ticks": ""
             }
            },
            "type": "scatter3d"
           }
          ],
          "scattercarpet": [
           {
            "marker": {
             "colorbar": {
              "outlinewidth": 0,
              "ticks": ""
             }
            },
            "type": "scattercarpet"
           }
          ],
          "scattergeo": [
           {
            "marker": {
             "colorbar": {
              "outlinewidth": 0,
              "ticks": ""
             }
            },
            "type": "scattergeo"
           }
          ],
          "scattergl": [
           {
            "marker": {
             "colorbar": {
              "outlinewidth": 0,
              "ticks": ""
             }
            },
            "type": "scattergl"
           }
          ],
          "scattermapbox": [
           {
            "marker": {
             "colorbar": {
              "outlinewidth": 0,
              "ticks": ""
             }
            },
            "type": "scattermapbox"
           }
          ],
          "scatterpolar": [
           {
            "marker": {
             "colorbar": {
              "outlinewidth": 0,
              "ticks": ""
             }
            },
            "type": "scatterpolar"
           }
          ],
          "scatterpolargl": [
           {
            "marker": {
             "colorbar": {
              "outlinewidth": 0,
              "ticks": ""
             }
            },
            "type": "scatterpolargl"
           }
          ],
          "scatterternary": [
           {
            "marker": {
             "colorbar": {
              "outlinewidth": 0,
              "ticks": ""
             }
            },
            "type": "scatterternary"
           }
          ],
          "surface": [
           {
            "colorbar": {
             "outlinewidth": 0,
             "ticks": ""
            },
            "colorscale": [
             [
              0,
              "#0d0887"
             ],
             [
              0.1111111111111111,
              "#46039f"
             ],
             [
              0.2222222222222222,
              "#7201a8"
             ],
             [
              0.3333333333333333,
              "#9c179e"
             ],
             [
              0.4444444444444444,
              "#bd3786"
             ],
             [
              0.5555555555555556,
              "#d8576b"
             ],
             [
              0.6666666666666666,
              "#ed7953"
             ],
             [
              0.7777777777777778,
              "#fb9f3a"
             ],
             [
              0.8888888888888888,
              "#fdca26"
             ],
             [
              1,
              "#f0f921"
             ]
            ],
            "type": "surface"
           }
          ],
          "table": [
           {
            "cells": {
             "fill": {
              "color": "#EBF0F8"
             },
             "line": {
              "color": "white"
             }
            },
            "header": {
             "fill": {
              "color": "#C8D4E3"
             },
             "line": {
              "color": "white"
             }
            },
            "type": "table"
           }
          ]
         },
         "layout": {
          "annotationdefaults": {
           "arrowcolor": "#2a3f5f",
           "arrowhead": 0,
           "arrowwidth": 1
          },
          "autotypenumbers": "strict",
          "coloraxis": {
           "colorbar": {
            "outlinewidth": 0,
            "ticks": ""
           }
          },
          "colorscale": {
           "diverging": [
            [
             0,
             "#8e0152"
            ],
            [
             0.1,
             "#c51b7d"
            ],
            [
             0.2,
             "#de77ae"
            ],
            [
             0.3,
             "#f1b6da"
            ],
            [
             0.4,
             "#fde0ef"
            ],
            [
             0.5,
             "#f7f7f7"
            ],
            [
             0.6,
             "#e6f5d0"
            ],
            [
             0.7,
             "#b8e186"
            ],
            [
             0.8,
             "#7fbc41"
            ],
            [
             0.9,
             "#4d9221"
            ],
            [
             1,
             "#276419"
            ]
           ],
           "sequential": [
            [
             0,
             "#0d0887"
            ],
            [
             0.1111111111111111,
             "#46039f"
            ],
            [
             0.2222222222222222,
             "#7201a8"
            ],
            [
             0.3333333333333333,
             "#9c179e"
            ],
            [
             0.4444444444444444,
             "#bd3786"
            ],
            [
             0.5555555555555556,
             "#d8576b"
            ],
            [
             0.6666666666666666,
             "#ed7953"
            ],
            [
             0.7777777777777778,
             "#fb9f3a"
            ],
            [
             0.8888888888888888,
             "#fdca26"
            ],
            [
             1,
             "#f0f921"
            ]
           ],
           "sequentialminus": [
            [
             0,
             "#0d0887"
            ],
            [
             0.1111111111111111,
             "#46039f"
            ],
            [
             0.2222222222222222,
             "#7201a8"
            ],
            [
             0.3333333333333333,
             "#9c179e"
            ],
            [
             0.4444444444444444,
             "#bd3786"
            ],
            [
             0.5555555555555556,
             "#d8576b"
            ],
            [
             0.6666666666666666,
             "#ed7953"
            ],
            [
             0.7777777777777778,
             "#fb9f3a"
            ],
            [
             0.8888888888888888,
             "#fdca26"
            ],
            [
             1,
             "#f0f921"
            ]
           ]
          },
          "colorway": [
           "#636efa",
           "#EF553B",
           "#00cc96",
           "#ab63fa",
           "#FFA15A",
           "#19d3f3",
           "#FF6692",
           "#B6E880",
           "#FF97FF",
           "#FECB52"
          ],
          "font": {
           "color": "#2a3f5f"
          },
          "geo": {
           "bgcolor": "white",
           "lakecolor": "white",
           "landcolor": "#E5ECF6",
           "showlakes": true,
           "showland": true,
           "subunitcolor": "white"
          },
          "hoverlabel": {
           "align": "left"
          },
          "hovermode": "closest",
          "mapbox": {
           "style": "light"
          },
          "paper_bgcolor": "white",
          "plot_bgcolor": "#E5ECF6",
          "polar": {
           "angularaxis": {
            "gridcolor": "white",
            "linecolor": "white",
            "ticks": ""
           },
           "bgcolor": "#E5ECF6",
           "radialaxis": {
            "gridcolor": "white",
            "linecolor": "white",
            "ticks": ""
           }
          },
          "scene": {
           "xaxis": {
            "backgroundcolor": "#E5ECF6",
            "gridcolor": "white",
            "gridwidth": 2,
            "linecolor": "white",
            "showbackground": true,
            "ticks": "",
            "zerolinecolor": "white"
           },
           "yaxis": {
            "backgroundcolor": "#E5ECF6",
            "gridcolor": "white",
            "gridwidth": 2,
            "linecolor": "white",
            "showbackground": true,
            "ticks": "",
            "zerolinecolor": "white"
           },
           "zaxis": {
            "backgroundcolor": "#E5ECF6",
            "gridcolor": "white",
            "gridwidth": 2,
            "linecolor": "white",
            "showbackground": true,
            "ticks": "",
            "zerolinecolor": "white"
           }
          },
          "shapedefaults": {
           "line": {
            "color": "#2a3f5f"
           }
          },
          "ternary": {
           "aaxis": {
            "gridcolor": "white",
            "linecolor": "white",
            "ticks": ""
           },
           "baxis": {
            "gridcolor": "white",
            "linecolor": "white",
            "ticks": ""
           },
           "bgcolor": "#E5ECF6",
           "caxis": {
            "gridcolor": "white",
            "linecolor": "white",
            "ticks": ""
           }
          },
          "title": {
           "x": 0.05
          },
          "xaxis": {
           "automargin": true,
           "gridcolor": "white",
           "linecolor": "white",
           "ticks": "",
           "title": {
            "standoff": 15
           },
           "zerolinecolor": "white",
           "zerolinewidth": 2
          },
          "yaxis": {
           "automargin": true,
           "gridcolor": "white",
           "linecolor": "white",
           "ticks": "",
           "title": {
            "standoff": 15
           },
           "zerolinecolor": "white",
           "zerolinewidth": 2
          }
         }
        },
        "xaxis": {
         "anchor": "y",
         "domain": [
          0,
          1
         ],
         "title": {
          "text": "Computational cost of inference [<i>μs/atom/step</i>]"
         },
         "type": "log"
        },
        "yaxis": {
         "anchor": "x",
         "domain": [
          0,
          1
         ],
         "title": {
          "text": "Normalized error"
         }
        }
       }
      }
     },
     "metadata": {},
     "output_type": "display_data"
    }
   ],
   "source": [
    "import plotly.express as px\n",
    "\n",
    "fig = px.scatter(df, x='Cost', y='Normalized error', color='Type', text='Model', log_x=True)\n",
    "fig.update_layout(\n",
    "    xaxis_title=dict(text='Computational cost of inference [<i>μs/atom/step</i>]')\n",
    ") \n",
    "#fig.update_layout(legend=dict(\n",
    "#    yanchor\n",
    "#))"
   ]
  },
  {
   "cell_type": "code",
   "execution_count": 5,
   "metadata": {},
   "outputs": [],
   "source": [
    "df['Colour']=''\n",
    "colours=['blue','red','green','purple','orange', 'turquoise', 'black']\n",
    "\n",
    "for i, name in enumerate(df['Type'].unique()):\n",
    "    df.loc[(df['Type']==name),['Colour']]=colours[i]"
   ]
  },
  {
   "cell_type": "code",
   "execution_count": 20,
   "metadata": {},
   "outputs": [
    {
     "ename": "ValueError",
     "evalue": "Invalid property specified for object of type plotly.graph_objs.Layout: 'scale'\n\nDid you mean \"scene\"?\n\n    Valid properties:\n        activeselection\n            :class:`plotly.graph_objects.layout.Activeselection`\n            instance or dict with compatible properties\n        activeshape\n            :class:`plotly.graph_objects.layout.Activeshape`\n            instance or dict with compatible properties\n        annotations\n            A tuple of\n            :class:`plotly.graph_objects.layout.Annotation`\n            instances or dicts with compatible properties\n        annotationdefaults\n            When used in a template (as\n            layout.template.layout.annotationdefaults), sets the\n            default property values to use for elements of\n            layout.annotations\n        autosize\n            Determines whether or not a layout width or height that\n            has been left undefined by the user is initialized on\n            each relayout. Note that, regardless of this attribute,\n            an undefined layout width or height is always\n            initialized on the first call to plot.\n        autotypenumbers\n            Using \"strict\" a numeric string in trace data is not\n            converted to a number. Using *convert types* a numeric\n            string in trace data may be treated as a number during\n            automatic axis `type` detection. This is the default\n            value; however it could be overridden for individual\n            axes.\n        barcornerradius\n            Sets the rounding of bar corners. May be an integer\n            number of pixels, or a percentage of bar width (as a\n            string ending in %).\n        bargap\n            Sets the gap (in plot fraction) between bars of\n            adjacent location coordinates.\n        bargroupgap\n            Sets the gap (in plot fraction) between bars of the\n            same location coordinate.\n        barmode\n            Determines how bars at the same location coordinate are\n            displayed on the graph. With \"stack\", the bars are\n            stacked on top of one another With \"relative\", the bars\n            are stacked on top of one another, with negative values\n            below the axis, positive values above With \"group\", the\n            bars are plotted next to one another centered around\n            the shared location. With \"overlay\", the bars are\n            plotted over one another, you might need to reduce\n            \"opacity\" to see multiple bars.\n        barnorm\n            Sets the normalization for bar traces on the graph.\n            With \"fraction\", the value of each bar is divided by\n            the sum of all values at that location coordinate.\n            \"percent\" is the same but multiplied by 100 to show\n            percentages.\n        boxgap\n            Sets the gap (in plot fraction) between boxes of\n            adjacent location coordinates. Has no effect on traces\n            that have \"width\" set.\n        boxgroupgap\n            Sets the gap (in plot fraction) between boxes of the\n            same location coordinate. Has no effect on traces that\n            have \"width\" set.\n        boxmode\n            Determines how boxes at the same location coordinate\n            are displayed on the graph. If \"group\", the boxes are\n            plotted next to one another centered around the shared\n            location. If \"overlay\", the boxes are plotted over one\n            another, you might need to set \"opacity\" to see them\n            multiple boxes. Has no effect on traces that have\n            \"width\" set.\n        calendar\n            Sets the default calendar system to use for\n            interpreting and displaying dates throughout the plot.\n        clickmode\n            Determines the mode of single click interactions.\n            \"event\" is the default value and emits the\n            `plotly_click` event. In addition this mode emits the\n            `plotly_selected` event in drag modes \"lasso\" and\n            \"select\", but with no event data attached (kept for\n            compatibility reasons). The \"select\" flag enables\n            selecting single data points via click. This mode also\n            supports persistent selections, meaning that pressing\n            Shift while clicking, adds to / subtracts from an\n            existing selection. \"select\" with `hovermode`: \"x\" can\n            be confusing, consider explicitly setting `hovermode`:\n            \"closest\" when using this feature. Selection events are\n            sent accordingly as long as \"event\" flag is set as\n            well. When the \"event\" flag is missing, `plotly_click`\n            and `plotly_selected` events are not fired.\n        coloraxis\n            :class:`plotly.graph_objects.layout.Coloraxis` instance\n            or dict with compatible properties\n        colorscale\n            :class:`plotly.graph_objects.layout.Colorscale`\n            instance or dict with compatible properties\n        colorway\n            Sets the default trace colors.\n        computed\n            Placeholder for exporting automargin-impacting values\n            namely `margin.t`, `margin.b`, `margin.l` and\n            `margin.r` in \"full-json\" mode.\n        datarevision\n            If provided, a changed value tells `Plotly.react` that\n            one or more data arrays has changed. This way you can\n            modify arrays in-place rather than making a complete\n            new copy for an incremental change. If NOT provided,\n            `Plotly.react` assumes that data arrays are being\n            treated as immutable, thus any data array with a\n            different identity from its predecessor contains new\n            data.\n        dragmode\n            Determines the mode of drag interactions. \"select\" and\n            \"lasso\" apply only to scatter traces with markers or\n            text. \"orbit\" and \"turntable\" apply only to 3D scenes.\n        editrevision\n            Controls persistence of user-driven changes in\n            `editable: true` configuration, other than trace names\n            and axis titles. Defaults to `layout.uirevision`.\n        extendfunnelareacolors\n            If `true`, the funnelarea slice colors (whether given\n            by `funnelareacolorway` or inherited from `colorway`)\n            will be extended to three times its original length by\n            first repeating every color 20% lighter then each color\n            20% darker. This is intended to reduce the likelihood\n            of reusing the same color when you have many slices,\n            but you can set `false` to disable. Colors provided in\n            the trace, using `marker.colors`, are never extended.\n        extendiciclecolors\n            If `true`, the icicle slice colors (whether given by\n            `iciclecolorway` or inherited from `colorway`) will be\n            extended to three times its original length by first\n            repeating every color 20% lighter then each color 20%\n            darker. This is intended to reduce the likelihood of\n            reusing the same color when you have many slices, but\n            you can set `false` to disable. Colors provided in the\n            trace, using `marker.colors`, are never extended.\n        extendpiecolors\n            If `true`, the pie slice colors (whether given by\n            `piecolorway` or inherited from `colorway`) will be\n            extended to three times its original length by first\n            repeating every color 20% lighter then each color 20%\n            darker. This is intended to reduce the likelihood of\n            reusing the same color when you have many slices, but\n            you can set `false` to disable. Colors provided in the\n            trace, using `marker.colors`, are never extended.\n        extendsunburstcolors\n            If `true`, the sunburst slice colors (whether given by\n            `sunburstcolorway` or inherited from `colorway`) will\n            be extended to three times its original length by first\n            repeating every color 20% lighter then each color 20%\n            darker. This is intended to reduce the likelihood of\n            reusing the same color when you have many slices, but\n            you can set `false` to disable. Colors provided in the\n            trace, using `marker.colors`, are never extended.\n        extendtreemapcolors\n            If `true`, the treemap slice colors (whether given by\n            `treemapcolorway` or inherited from `colorway`) will be\n            extended to three times its original length by first\n            repeating every color 20% lighter then each color 20%\n            darker. This is intended to reduce the likelihood of\n            reusing the same color when you have many slices, but\n            you can set `false` to disable. Colors provided in the\n            trace, using `marker.colors`, are never extended.\n        font\n            Sets the global font. Note that fonts used in traces\n            and other layout components inherit from the global\n            font.\n        funnelareacolorway\n            Sets the default funnelarea slice colors. Defaults to\n            the main `colorway` used for trace colors. If you\n            specify a new list here it can still be extended with\n            lighter and darker colors, see\n            `extendfunnelareacolors`.\n        funnelgap\n            Sets the gap (in plot fraction) between bars of\n            adjacent location coordinates.\n        funnelgroupgap\n            Sets the gap (in plot fraction) between bars of the\n            same location coordinate.\n        funnelmode\n            Determines how bars at the same location coordinate are\n            displayed on the graph. With \"stack\", the bars are\n            stacked on top of one another With \"group\", the bars\n            are plotted next to one another centered around the\n            shared location. With \"overlay\", the bars are plotted\n            over one another, you might need to reduce \"opacity\" to\n            see multiple bars.\n        geo\n            :class:`plotly.graph_objects.layout.Geo` instance or\n            dict with compatible properties\n        grid\n            :class:`plotly.graph_objects.layout.Grid` instance or\n            dict with compatible properties\n        height\n            Sets the plot's height (in px).\n        hiddenlabels\n            hiddenlabels is the funnelarea & pie chart analog of\n            visible:'legendonly' but it can contain many labels,\n            and can simultaneously hide slices from several\n            pies/funnelarea charts\n        hiddenlabelssrc\n            Sets the source reference on Chart Studio Cloud for\n            `hiddenlabels`.\n        hidesources\n            Determines whether or not a text link citing the data\n            source is placed at the bottom-right cored of the\n            figure. Has only an effect only on graphs that have\n            been generated via forked graphs from the Chart Studio\n            Cloud (at https://chart-studio.plotly.com or on-\n            premise).\n        hoverdistance\n            Sets the default distance (in pixels) to look for data\n            to add hover labels (-1 means no cutoff, 0 means no\n            looking for data). This is only a real distance for\n            hovering on point-like objects, like scatter points.\n            For area-like objects (bars, scatter fills, etc)\n            hovering is on inside the area and off outside, but\n            these objects will not supersede hover on point-like\n            objects in case of conflict.\n        hoverlabel\n            :class:`plotly.graph_objects.layout.Hoverlabel`\n            instance or dict with compatible properties\n        hovermode\n            Determines the mode of hover interactions. If\n            \"closest\", a single hoverlabel will appear for the\n            \"closest\" point within the `hoverdistance`. If \"x\" (or\n            \"y\"), multiple hoverlabels will appear for multiple\n            points at the \"closest\" x- (or y-) coordinate within\n            the `hoverdistance`, with the caveat that no more than\n            one hoverlabel will appear per trace. If *x unified*\n            (or *y unified*), a single hoverlabel will appear\n            multiple points at the closest x- (or y-) coordinate\n            within the `hoverdistance` with the caveat that no more\n            than one hoverlabel will appear per trace. In this\n            mode, spikelines are enabled by default perpendicular\n            to the specified axis. If false, hover interactions are\n            disabled.\n        iciclecolorway\n            Sets the default icicle slice colors. Defaults to the\n            main `colorway` used for trace colors. If you specify a\n            new list here it can still be extended with lighter and\n            darker colors, see `extendiciclecolors`.\n        images\n            A tuple of :class:`plotly.graph_objects.layout.Image`\n            instances or dicts with compatible properties\n        imagedefaults\n            When used in a template (as\n            layout.template.layout.imagedefaults), sets the default\n            property values to use for elements of layout.images\n        legend\n            :class:`plotly.graph_objects.layout.Legend` instance or\n            dict with compatible properties\n        mapbox\n            :class:`plotly.graph_objects.layout.Mapbox` instance or\n            dict with compatible properties\n        margin\n            :class:`plotly.graph_objects.layout.Margin` instance or\n            dict with compatible properties\n        meta\n            Assigns extra meta information that can be used in\n            various `text` attributes. Attributes such as the\n            graph, axis and colorbar `title.text`, annotation\n            `text` `trace.name` in legend items, `rangeselector`,\n            `updatemenus` and `sliders` `label` text all support\n            `meta`. One can access `meta` fields using template\n            strings: `%{meta[i]}` where `i` is the index of the\n            `meta` item in question. `meta` can also be an object\n            for example `{key: value}` which can be accessed\n            %{meta[key]}.\n        metasrc\n            Sets the source reference on Chart Studio Cloud for\n            `meta`.\n        minreducedheight\n            Minimum height of the plot with margin.automargin\n            applied (in px)\n        minreducedwidth\n            Minimum width of the plot with margin.automargin\n            applied (in px)\n        modebar\n            :class:`plotly.graph_objects.layout.Modebar` instance\n            or dict with compatible properties\n        newselection\n            :class:`plotly.graph_objects.layout.Newselection`\n            instance or dict with compatible properties\n        newshape\n            :class:`plotly.graph_objects.layout.Newshape` instance\n            or dict with compatible properties\n        paper_bgcolor\n            Sets the background color of the paper where the graph\n            is drawn.\n        piecolorway\n            Sets the default pie slice colors. Defaults to the main\n            `colorway` used for trace colors. If you specify a new\n            list here it can still be extended with lighter and\n            darker colors, see `extendpiecolors`.\n        plot_bgcolor\n            Sets the background color of the plotting area in-\n            between x and y axes.\n        polar\n            :class:`plotly.graph_objects.layout.Polar` instance or\n            dict with compatible properties\n        scattergap\n            Sets the gap (in plot fraction) between scatter points\n            of adjacent location coordinates. Defaults to `bargap`.\n        scattermode\n            Determines how scatter points at the same location\n            coordinate are displayed on the graph. With \"group\",\n            the scatter points are plotted next to one another\n            centered around the shared location. With \"overlay\",\n            the scatter points are plotted over one another, you\n            might need to reduce \"opacity\" to see multiple scatter\n            points.\n        scene\n            :class:`plotly.graph_objects.layout.Scene` instance or\n            dict with compatible properties\n        selectdirection\n            When `dragmode` is set to \"select\", this limits the\n            selection of the drag to horizontal, vertical or\n            diagonal. \"h\" only allows horizontal selection, \"v\"\n            only vertical, \"d\" only diagonal and \"any\" sets no\n            limit.\n        selectionrevision\n            Controls persistence of user-driven changes in selected\n            points from all traces.\n        selections\n            A tuple of\n            :class:`plotly.graph_objects.layout.Selection`\n            instances or dicts with compatible properties\n        selectiondefaults\n            When used in a template (as\n            layout.template.layout.selectiondefaults), sets the\n            default property values to use for elements of\n            layout.selections\n        separators\n            Sets the decimal and thousand separators. For example,\n            *. * puts a '.' before decimals and a space between\n            thousands. In English locales, dflt is \".,\" but other\n            locales may alter this default.\n        shapes\n            A tuple of :class:`plotly.graph_objects.layout.Shape`\n            instances or dicts with compatible properties\n        shapedefaults\n            When used in a template (as\n            layout.template.layout.shapedefaults), sets the default\n            property values to use for elements of layout.shapes\n        showlegend\n            Determines whether or not a legend is drawn. Default is\n            `true` if there is a trace to show and any of these: a)\n            Two or more traces would by default be shown in the\n            legend. b) One pie trace is shown in the legend. c) One\n            trace is explicitly given with `showlegend: true`.\n        sliders\n            A tuple of :class:`plotly.graph_objects.layout.Slider`\n            instances or dicts with compatible properties\n        sliderdefaults\n            When used in a template (as\n            layout.template.layout.sliderdefaults), sets the\n            default property values to use for elements of\n            layout.sliders\n        smith\n            :class:`plotly.graph_objects.layout.Smith` instance or\n            dict with compatible properties\n        spikedistance\n            Sets the default distance (in pixels) to look for data\n            to draw spikelines to (-1 means no cutoff, 0 means no\n            looking for data). As with hoverdistance, distance does\n            not apply to area-like objects. In addition, some\n            objects can be hovered on but will not generate\n            spikelines, such as scatter fills.\n        sunburstcolorway\n            Sets the default sunburst slice colors. Defaults to the\n            main `colorway` used for trace colors. If you specify a\n            new list here it can still be extended with lighter and\n            darker colors, see `extendsunburstcolors`.\n        template\n            Default attributes to be applied to the plot. This\n            should be a dict with format: `{'layout':\n            layoutTemplate, 'data': {trace_type: [traceTemplate,\n            ...], ...}}` where `layoutTemplate` is a dict matching\n            the structure of `figure.layout` and `traceTemplate` is\n            a dict matching the structure of the trace with type\n            `trace_type` (e.g. 'scatter'). Alternatively, this may\n            be specified as an instance of\n            plotly.graph_objs.layout.Template.  Trace templates are\n            applied cyclically to traces of each type. Container\n            arrays (eg `annotations`) have special handling: An\n            object ending in `defaults` (eg `annotationdefaults`)\n            is applied to each array item. But if an item has a\n            `templateitemname` key we look in the template array\n            for an item with matching `name` and apply that\n            instead. If no matching `name` is found we mark the\n            item invisible. Any named template item not referenced\n            is appended to the end of the array, so this can be\n            used to add a watermark annotation or a logo image, for\n            example. To omit one of these items on the plot, make\n            an item with matching `templateitemname` and `visible:\n            false`.\n        ternary\n            :class:`plotly.graph_objects.layout.Ternary` instance\n            or dict with compatible properties\n        title\n            :class:`plotly.graph_objects.layout.Title` instance or\n            dict with compatible properties\n        titlefont\n            Deprecated: Please use layout.title.font instead. Sets\n            the title font. Note that the title's font used to be\n            customized by the now deprecated `titlefont` attribute.\n        transition\n            Sets transition options used during Plotly.react\n            updates.\n        treemapcolorway\n            Sets the default treemap slice colors. Defaults to the\n            main `colorway` used for trace colors. If you specify a\n            new list here it can still be extended with lighter and\n            darker colors, see `extendtreemapcolors`.\n        uirevision\n            Used to allow user interactions with the plot to\n            persist after `Plotly.react` calls that are unaware of\n            these interactions. If `uirevision` is omitted, or if\n            it is given and it changed from the previous\n            `Plotly.react` call, the exact new figure is used. If\n            `uirevision` is truthy and did NOT change, any\n            attribute that has been affected by user interactions\n            and did not receive a different value in the new figure\n            will keep the interaction value. `layout.uirevision`\n            attribute serves as the default for `uirevision`\n            attributes in various sub-containers. For finer control\n            you can set these sub-attributes directly. For example,\n            if your app separately controls the data on the x and y\n            axes you might set `xaxis.uirevision=*time*` and\n            `yaxis.uirevision=*cost*`. Then if only the y data is\n            changed, you can update `yaxis.uirevision=*quantity*`\n            and the y axis range will reset but the x axis range\n            will retain any user-driven zoom.\n        uniformtext\n            :class:`plotly.graph_objects.layout.Uniformtext`\n            instance or dict with compatible properties\n        updatemenus\n            A tuple of\n            :class:`plotly.graph_objects.layout.Updatemenu`\n            instances or dicts with compatible properties\n        updatemenudefaults\n            When used in a template (as\n            layout.template.layout.updatemenudefaults), sets the\n            default property values to use for elements of\n            layout.updatemenus\n        violingap\n            Sets the gap (in plot fraction) between violins of\n            adjacent location coordinates. Has no effect on traces\n            that have \"width\" set.\n        violingroupgap\n            Sets the gap (in plot fraction) between violins of the\n            same location coordinate. Has no effect on traces that\n            have \"width\" set.\n        violinmode\n            Determines how violins at the same location coordinate\n            are displayed on the graph. If \"group\", the violins are\n            plotted next to one another centered around the shared\n            location. If \"overlay\", the violins are plotted over\n            one another, you might need to set \"opacity\" to see\n            them multiple violins. Has no effect on traces that\n            have \"width\" set.\n        waterfallgap\n            Sets the gap (in plot fraction) between bars of\n            adjacent location coordinates.\n        waterfallgroupgap\n            Sets the gap (in plot fraction) between bars of the\n            same location coordinate.\n        waterfallmode\n            Determines how bars at the same location coordinate are\n            displayed on the graph. With \"group\", the bars are\n            plotted next to one another centered around the shared\n            location. With \"overlay\", the bars are plotted over one\n            another, you might need to reduce \"opacity\" to see\n            multiple bars.\n        width\n            Sets the plot's width (in px).\n        xaxis\n            :class:`plotly.graph_objects.layout.XAxis` instance or\n            dict with compatible properties\n        yaxis\n            :class:`plotly.graph_objects.layout.YAxis` instance or\n            dict with compatible properties\n        \nDid you mean \"scene\"?\n\nBad property path:\nscale\n^^^^^",
     "output_type": "error",
     "traceback": [
      "\u001b[0;31m---------------------------------------------------------------------------\u001b[0m",
      "\u001b[0;31mValueError\u001b[0m                                Traceback (most recent call last)",
      "Cell \u001b[0;32mIn[20], line 32\u001b[0m\n\u001b[1;32m     18\u001b[0m     fig\u001b[38;5;241m.\u001b[39madd_trace(go\u001b[38;5;241m.\u001b[39mScatter(\n\u001b[1;32m     19\u001b[0m         x\u001b[38;5;241m=\u001b[39msubset[\u001b[38;5;124m'\u001b[39m\u001b[38;5;124mCost\u001b[39m\u001b[38;5;124m'\u001b[39m],\n\u001b[1;32m     20\u001b[0m         y\u001b[38;5;241m=\u001b[39msubset[\u001b[38;5;124m'\u001b[39m\u001b[38;5;124mNormalized error\u001b[39m\u001b[38;5;124m'\u001b[39m],\n\u001b[0;32m   (...)\u001b[0m\n\u001b[1;32m     29\u001b[0m     ),\n\u001b[1;32m     30\u001b[0m     )\n\u001b[1;32m     31\u001b[0m fig\u001b[38;5;241m.\u001b[39mupdate_xaxes(title_text\u001b[38;5;241m=\u001b[39m\u001b[38;5;124m'\u001b[39m\u001b[38;5;124mComputational cost of inference [<i>μs/atom/step</i>]\u001b[39m\u001b[38;5;124m'\u001b[39m,\u001b[38;5;28mtype\u001b[39m\u001b[38;5;241m=\u001b[39m\u001b[38;5;124m\"\u001b[39m\u001b[38;5;124mlog\u001b[39m\u001b[38;5;124m\"\u001b[39m)\n\u001b[0;32m---> 32\u001b[0m \u001b[43mfig\u001b[49m\u001b[38;5;241;43m.\u001b[39;49m\u001b[43mupdate_layout\u001b[49m\u001b[43m(\u001b[49m\u001b[43myaxis1\u001b[49m\u001b[38;5;241;43m=\u001b[39;49m\u001b[43m{\u001b[49m\u001b[38;5;124;43m'\u001b[39;49m\u001b[38;5;124;43mtitle\u001b[39;49m\u001b[38;5;124;43m'\u001b[39;49m\u001b[43m:\u001b[49m\u001b[38;5;124;43m'\u001b[39;49m\u001b[38;5;124;43mNormalized error\u001b[39;49m\u001b[38;5;124;43m'\u001b[39;49m\u001b[43m}\u001b[49m\u001b[43m,\u001b[49m\u001b[43myaxis2\u001b[49m\u001b[38;5;241;43m=\u001b[39;49m\u001b[43m{\u001b[49m\u001b[43m}\u001b[49m\u001b[43m,\u001b[49m\u001b[43mgrid_yaxes\u001b[49m\u001b[38;5;241;43m=\u001b[39;49m\u001b[43m[\u001b[49m\u001b[38;5;124;43m'\u001b[39;49m\u001b[38;5;124;43my1\u001b[39;49m\u001b[38;5;124;43m'\u001b[39;49m\u001b[43m]\u001b[49m\u001b[43m,\u001b[49m\n\u001b[1;32m     33\u001b[0m \u001b[43m                \u001b[49m\u001b[43mxaxis\u001b[49m\u001b[38;5;241;43m=\u001b[39;49m\u001b[43m{\u001b[49m\u001b[38;5;124;43m'\u001b[39;49m\u001b[38;5;124;43mrange\u001b[39;49m\u001b[38;5;124;43m'\u001b[39;49m\u001b[43m:\u001b[49m\u001b[43m[\u001b[49m\u001b[38;5;241;43m-\u001b[39;49m\u001b[38;5;241;43m1\u001b[39;49m\u001b[43m,\u001b[49m\u001b[38;5;241;43m2.5\u001b[39;49m\u001b[43m]\u001b[49m\u001b[43m}\u001b[49m\u001b[43m,\u001b[49m\n\u001b[1;32m     34\u001b[0m \u001b[43m                \u001b[49m\u001b[43mfont_family\u001b[49m\u001b[38;5;241;43m=\u001b[39;49m\u001b[38;5;124;43m\"\u001b[39;49m\u001b[38;5;124;43mSerif\u001b[39;49m\u001b[38;5;124;43m\"\u001b[39;49m\u001b[43m,\u001b[49m\u001b[43mfont_size\u001b[49m\u001b[38;5;241;43m=\u001b[39;49m\u001b[38;5;241;43m18\u001b[39;49m\u001b[43m,\u001b[49m\n\u001b[1;32m     35\u001b[0m \u001b[43m                \u001b[49m\u001b[43mtemplate\u001b[49m\u001b[38;5;241;43m=\u001b[39;49m\u001b[38;5;124;43m'\u001b[39;49m\u001b[38;5;124;43mggplot2\u001b[39;49m\u001b[38;5;124;43m'\u001b[39;49m\u001b[43m,\u001b[49m\n\u001b[1;32m     36\u001b[0m \u001b[43m                \u001b[49m\u001b[43mwidth\u001b[49m\u001b[38;5;241;43m=\u001b[39;49m\u001b[38;5;241;43m1000\u001b[39;49m\u001b[43m,\u001b[49m\n\u001b[1;32m     37\u001b[0m \u001b[43m                \u001b[49m\u001b[43mheight\u001b[49m\u001b[38;5;241;43m=\u001b[39;49m\u001b[38;5;241;43m900\u001b[39;49m\u001b[43m,\u001b[49m\n\u001b[1;32m     38\u001b[0m \u001b[43m                \u001b[49m\u001b[43mscale\u001b[49m\u001b[38;5;241;43m=\u001b[39;49m\u001b[38;5;241;43m2\u001b[39;49m\u001b[43m,\u001b[49m\n\u001b[1;32m     39\u001b[0m \u001b[43m                \u001b[49m\u001b[43mshowlegend\u001b[49m\u001b[38;5;241;43m=\u001b[39;49m\u001b[38;5;28;43;01mFalse\u001b[39;49;00m\u001b[43m)\u001b[49m \u001b[38;5;66;03m#,'position':0\u001b[39;00m\n\u001b[1;32m     41\u001b[0m fig\u001b[38;5;241m.\u001b[39mwrite_image(\u001b[38;5;124m'\u001b[39m\u001b[38;5;124m/Users/dominicwelti/Library/CloudStorage/Dropbox/Apps/Overleaf/Master Thesis - MLIP evaluation/graphs/results/hea_LAMMPS-CPU.png\u001b[39m\u001b[38;5;124m'\u001b[39m,\u001b[38;5;28mformat\u001b[39m\u001b[38;5;241m=\u001b[39m\u001b[38;5;124m'\u001b[39m\u001b[38;5;124mpng\u001b[39m\u001b[38;5;124m'\u001b[39m,scale\u001b[38;5;241m=\u001b[39m\u001b[38;5;241m5\u001b[39m)\n",
      "File \u001b[0;32m~/opt/anaconda3/lib/python3.9/site-packages/plotly/graph_objs/_figure.py:779\u001b[0m, in \u001b[0;36mFigure.update_layout\u001b[0;34m(self, dict1, overwrite, **kwargs)\u001b[0m\n\u001b[1;32m    753\u001b[0m \u001b[38;5;28;01mdef\u001b[39;00m \u001b[38;5;21mupdate_layout\u001b[39m(\u001b[38;5;28mself\u001b[39m, dict1\u001b[38;5;241m=\u001b[39m\u001b[38;5;28;01mNone\u001b[39;00m, overwrite\u001b[38;5;241m=\u001b[39m\u001b[38;5;28;01mFalse\u001b[39;00m, \u001b[38;5;241m*\u001b[39m\u001b[38;5;241m*\u001b[39mkwargs) \u001b[38;5;241m-\u001b[39m\u001b[38;5;241m>\u001b[39m \u001b[38;5;124m\"\u001b[39m\u001b[38;5;124mFigure\u001b[39m\u001b[38;5;124m\"\u001b[39m:\n\u001b[1;32m    754\u001b[0m \u001b[38;5;250m    \u001b[39m\u001b[38;5;124;03m\"\"\"\u001b[39;00m\n\u001b[1;32m    755\u001b[0m \n\u001b[1;32m    756\u001b[0m \u001b[38;5;124;03m    Update the properties of the figure's layout with a dict and/or with\u001b[39;00m\n\u001b[0;32m   (...)\u001b[0m\n\u001b[1;32m    777\u001b[0m \n\u001b[1;32m    778\u001b[0m \u001b[38;5;124;03m    \"\"\"\u001b[39;00m\n\u001b[0;32m--> 779\u001b[0m     \u001b[38;5;28;01mreturn\u001b[39;00m \u001b[38;5;28;43msuper\u001b[39;49m\u001b[43m(\u001b[49m\u001b[43mFigure\u001b[49m\u001b[43m,\u001b[49m\u001b[43m \u001b[49m\u001b[38;5;28;43mself\u001b[39;49m\u001b[43m)\u001b[49m\u001b[38;5;241;43m.\u001b[39;49m\u001b[43mupdate_layout\u001b[49m\u001b[43m(\u001b[49m\u001b[43mdict1\u001b[49m\u001b[43m,\u001b[49m\u001b[43m \u001b[49m\u001b[43moverwrite\u001b[49m\u001b[43m,\u001b[49m\u001b[43m \u001b[49m\u001b[38;5;241;43m*\u001b[39;49m\u001b[38;5;241;43m*\u001b[39;49m\u001b[43mkwargs\u001b[49m\u001b[43m)\u001b[49m\n",
      "File \u001b[0;32m~/opt/anaconda3/lib/python3.9/site-packages/plotly/basedatatypes.py:1391\u001b[0m, in \u001b[0;36mBaseFigure.update_layout\u001b[0;34m(self, dict1, overwrite, **kwargs)\u001b[0m\n\u001b[1;32m   1367\u001b[0m \u001b[38;5;28;01mdef\u001b[39;00m \u001b[38;5;21mupdate_layout\u001b[39m(\u001b[38;5;28mself\u001b[39m, dict1\u001b[38;5;241m=\u001b[39m\u001b[38;5;28;01mNone\u001b[39;00m, overwrite\u001b[38;5;241m=\u001b[39m\u001b[38;5;28;01mFalse\u001b[39;00m, \u001b[38;5;241m*\u001b[39m\u001b[38;5;241m*\u001b[39mkwargs):\n\u001b[1;32m   1368\u001b[0m \u001b[38;5;250m    \u001b[39m\u001b[38;5;124;03m\"\"\"\u001b[39;00m\n\u001b[1;32m   1369\u001b[0m \u001b[38;5;124;03m    Update the properties of the figure's layout with a dict and/or with\u001b[39;00m\n\u001b[1;32m   1370\u001b[0m \u001b[38;5;124;03m    keyword arguments.\u001b[39;00m\n\u001b[0;32m   (...)\u001b[0m\n\u001b[1;32m   1389\u001b[0m \u001b[38;5;124;03m        The Figure object that the update_layout method was called on\u001b[39;00m\n\u001b[1;32m   1390\u001b[0m \u001b[38;5;124;03m    \"\"\"\u001b[39;00m\n\u001b[0;32m-> 1391\u001b[0m     \u001b[38;5;28;43mself\u001b[39;49m\u001b[38;5;241;43m.\u001b[39;49m\u001b[43mlayout\u001b[49m\u001b[38;5;241;43m.\u001b[39;49m\u001b[43mupdate\u001b[49m\u001b[43m(\u001b[49m\u001b[43mdict1\u001b[49m\u001b[43m,\u001b[49m\u001b[43m \u001b[49m\u001b[43moverwrite\u001b[49m\u001b[38;5;241;43m=\u001b[39;49m\u001b[43moverwrite\u001b[49m\u001b[43m,\u001b[49m\u001b[43m \u001b[49m\u001b[38;5;241;43m*\u001b[39;49m\u001b[38;5;241;43m*\u001b[39;49m\u001b[43mkwargs\u001b[49m\u001b[43m)\u001b[49m\n\u001b[1;32m   1392\u001b[0m     \u001b[38;5;28;01mreturn\u001b[39;00m \u001b[38;5;28mself\u001b[39m\n",
      "File \u001b[0;32m~/opt/anaconda3/lib/python3.9/site-packages/plotly/basedatatypes.py:5137\u001b[0m, in \u001b[0;36mBasePlotlyType.update\u001b[0;34m(self, dict1, overwrite, **kwargs)\u001b[0m\n\u001b[1;32m   5135\u001b[0m     \u001b[38;5;28;01mwith\u001b[39;00m \u001b[38;5;28mself\u001b[39m\u001b[38;5;241m.\u001b[39mfigure\u001b[38;5;241m.\u001b[39mbatch_update():\n\u001b[1;32m   5136\u001b[0m         BaseFigure\u001b[38;5;241m.\u001b[39m_perform_update(\u001b[38;5;28mself\u001b[39m, dict1, overwrite\u001b[38;5;241m=\u001b[39moverwrite)\n\u001b[0;32m-> 5137\u001b[0m         \u001b[43mBaseFigure\u001b[49m\u001b[38;5;241;43m.\u001b[39;49m\u001b[43m_perform_update\u001b[49m\u001b[43m(\u001b[49m\u001b[38;5;28;43mself\u001b[39;49m\u001b[43m,\u001b[49m\u001b[43m \u001b[49m\u001b[43mkwargs\u001b[49m\u001b[43m,\u001b[49m\u001b[43m \u001b[49m\u001b[43moverwrite\u001b[49m\u001b[38;5;241;43m=\u001b[39;49m\u001b[43moverwrite\u001b[49m\u001b[43m)\u001b[49m\n\u001b[1;32m   5138\u001b[0m \u001b[38;5;28;01melse\u001b[39;00m:\n\u001b[1;32m   5139\u001b[0m     BaseFigure\u001b[38;5;241m.\u001b[39m_perform_update(\u001b[38;5;28mself\u001b[39m, dict1, overwrite\u001b[38;5;241m=\u001b[39moverwrite)\n",
      "File \u001b[0;32m~/opt/anaconda3/lib/python3.9/site-packages/plotly/basedatatypes.py:3896\u001b[0m, in \u001b[0;36mBaseFigure._perform_update\u001b[0;34m(plotly_obj, update_obj, overwrite)\u001b[0m\n\u001b[1;32m   3894\u001b[0m     err \u001b[38;5;241m=\u001b[39m _check_path_in_prop_tree(plotly_obj, key, error_cast\u001b[38;5;241m=\u001b[39m\u001b[38;5;167;01mValueError\u001b[39;00m)\n\u001b[1;32m   3895\u001b[0m     \u001b[38;5;28;01mif\u001b[39;00m err \u001b[38;5;129;01mis\u001b[39;00m \u001b[38;5;129;01mnot\u001b[39;00m \u001b[38;5;28;01mNone\u001b[39;00m:\n\u001b[0;32m-> 3896\u001b[0m         \u001b[38;5;28;01mraise\u001b[39;00m err\n\u001b[1;32m   3898\u001b[0m \u001b[38;5;66;03m# Convert update_obj to dict\u001b[39;00m\n\u001b[1;32m   3899\u001b[0m \u001b[38;5;66;03m# --------------------------\u001b[39;00m\n\u001b[1;32m   3900\u001b[0m \u001b[38;5;28;01mif\u001b[39;00m \u001b[38;5;28misinstance\u001b[39m(update_obj, BasePlotlyType):\n",
      "\u001b[0;31mValueError\u001b[0m: Invalid property specified for object of type plotly.graph_objs.Layout: 'scale'\n\nDid you mean \"scene\"?\n\n    Valid properties:\n        activeselection\n            :class:`plotly.graph_objects.layout.Activeselection`\n            instance or dict with compatible properties\n        activeshape\n            :class:`plotly.graph_objects.layout.Activeshape`\n            instance or dict with compatible properties\n        annotations\n            A tuple of\n            :class:`plotly.graph_objects.layout.Annotation`\n            instances or dicts with compatible properties\n        annotationdefaults\n            When used in a template (as\n            layout.template.layout.annotationdefaults), sets the\n            default property values to use for elements of\n            layout.annotations\n        autosize\n            Determines whether or not a layout width or height that\n            has been left undefined by the user is initialized on\n            each relayout. Note that, regardless of this attribute,\n            an undefined layout width or height is always\n            initialized on the first call to plot.\n        autotypenumbers\n            Using \"strict\" a numeric string in trace data is not\n            converted to a number. Using *convert types* a numeric\n            string in trace data may be treated as a number during\n            automatic axis `type` detection. This is the default\n            value; however it could be overridden for individual\n            axes.\n        barcornerradius\n            Sets the rounding of bar corners. May be an integer\n            number of pixels, or a percentage of bar width (as a\n            string ending in %).\n        bargap\n            Sets the gap (in plot fraction) between bars of\n            adjacent location coordinates.\n        bargroupgap\n            Sets the gap (in plot fraction) between bars of the\n            same location coordinate.\n        barmode\n            Determines how bars at the same location coordinate are\n            displayed on the graph. With \"stack\", the bars are\n            stacked on top of one another With \"relative\", the bars\n            are stacked on top of one another, with negative values\n            below the axis, positive values above With \"group\", the\n            bars are plotted next to one another centered around\n            the shared location. With \"overlay\", the bars are\n            plotted over one another, you might need to reduce\n            \"opacity\" to see multiple bars.\n        barnorm\n            Sets the normalization for bar traces on the graph.\n            With \"fraction\", the value of each bar is divided by\n            the sum of all values at that location coordinate.\n            \"percent\" is the same but multiplied by 100 to show\n            percentages.\n        boxgap\n            Sets the gap (in plot fraction) between boxes of\n            adjacent location coordinates. Has no effect on traces\n            that have \"width\" set.\n        boxgroupgap\n            Sets the gap (in plot fraction) between boxes of the\n            same location coordinate. Has no effect on traces that\n            have \"width\" set.\n        boxmode\n            Determines how boxes at the same location coordinate\n            are displayed on the graph. If \"group\", the boxes are\n            plotted next to one another centered around the shared\n            location. If \"overlay\", the boxes are plotted over one\n            another, you might need to set \"opacity\" to see them\n            multiple boxes. Has no effect on traces that have\n            \"width\" set.\n        calendar\n            Sets the default calendar system to use for\n            interpreting and displaying dates throughout the plot.\n        clickmode\n            Determines the mode of single click interactions.\n            \"event\" is the default value and emits the\n            `plotly_click` event. In addition this mode emits the\n            `plotly_selected` event in drag modes \"lasso\" and\n            \"select\", but with no event data attached (kept for\n            compatibility reasons). The \"select\" flag enables\n            selecting single data points via click. This mode also\n            supports persistent selections, meaning that pressing\n            Shift while clicking, adds to / subtracts from an\n            existing selection. \"select\" with `hovermode`: \"x\" can\n            be confusing, consider explicitly setting `hovermode`:\n            \"closest\" when using this feature. Selection events are\n            sent accordingly as long as \"event\" flag is set as\n            well. When the \"event\" flag is missing, `plotly_click`\n            and `plotly_selected` events are not fired.\n        coloraxis\n            :class:`plotly.graph_objects.layout.Coloraxis` instance\n            or dict with compatible properties\n        colorscale\n            :class:`plotly.graph_objects.layout.Colorscale`\n            instance or dict with compatible properties\n        colorway\n            Sets the default trace colors.\n        computed\n            Placeholder for exporting automargin-impacting values\n            namely `margin.t`, `margin.b`, `margin.l` and\n            `margin.r` in \"full-json\" mode.\n        datarevision\n            If provided, a changed value tells `Plotly.react` that\n            one or more data arrays has changed. This way you can\n            modify arrays in-place rather than making a complete\n            new copy for an incremental change. If NOT provided,\n            `Plotly.react` assumes that data arrays are being\n            treated as immutable, thus any data array with a\n            different identity from its predecessor contains new\n            data.\n        dragmode\n            Determines the mode of drag interactions. \"select\" and\n            \"lasso\" apply only to scatter traces with markers or\n            text. \"orbit\" and \"turntable\" apply only to 3D scenes.\n        editrevision\n            Controls persistence of user-driven changes in\n            `editable: true` configuration, other than trace names\n            and axis titles. Defaults to `layout.uirevision`.\n        extendfunnelareacolors\n            If `true`, the funnelarea slice colors (whether given\n            by `funnelareacolorway` or inherited from `colorway`)\n            will be extended to three times its original length by\n            first repeating every color 20% lighter then each color\n            20% darker. This is intended to reduce the likelihood\n            of reusing the same color when you have many slices,\n            but you can set `false` to disable. Colors provided in\n            the trace, using `marker.colors`, are never extended.\n        extendiciclecolors\n            If `true`, the icicle slice colors (whether given by\n            `iciclecolorway` or inherited from `colorway`) will be\n            extended to three times its original length by first\n            repeating every color 20% lighter then each color 20%\n            darker. This is intended to reduce the likelihood of\n            reusing the same color when you have many slices, but\n            you can set `false` to disable. Colors provided in the\n            trace, using `marker.colors`, are never extended.\n        extendpiecolors\n            If `true`, the pie slice colors (whether given by\n            `piecolorway` or inherited from `colorway`) will be\n            extended to three times its original length by first\n            repeating every color 20% lighter then each color 20%\n            darker. This is intended to reduce the likelihood of\n            reusing the same color when you have many slices, but\n            you can set `false` to disable. Colors provided in the\n            trace, using `marker.colors`, are never extended.\n        extendsunburstcolors\n            If `true`, the sunburst slice colors (whether given by\n            `sunburstcolorway` or inherited from `colorway`) will\n            be extended to three times its original length by first\n            repeating every color 20% lighter then each color 20%\n            darker. This is intended to reduce the likelihood of\n            reusing the same color when you have many slices, but\n            you can set `false` to disable. Colors provided in the\n            trace, using `marker.colors`, are never extended.\n        extendtreemapcolors\n            If `true`, the treemap slice colors (whether given by\n            `treemapcolorway` or inherited from `colorway`) will be\n            extended to three times its original length by first\n            repeating every color 20% lighter then each color 20%\n            darker. This is intended to reduce the likelihood of\n            reusing the same color when you have many slices, but\n            you can set `false` to disable. Colors provided in the\n            trace, using `marker.colors`, are never extended.\n        font\n            Sets the global font. Note that fonts used in traces\n            and other layout components inherit from the global\n            font.\n        funnelareacolorway\n            Sets the default funnelarea slice colors. Defaults to\n            the main `colorway` used for trace colors. If you\n            specify a new list here it can still be extended with\n            lighter and darker colors, see\n            `extendfunnelareacolors`.\n        funnelgap\n            Sets the gap (in plot fraction) between bars of\n            adjacent location coordinates.\n        funnelgroupgap\n            Sets the gap (in plot fraction) between bars of the\n            same location coordinate.\n        funnelmode\n            Determines how bars at the same location coordinate are\n            displayed on the graph. With \"stack\", the bars are\n            stacked on top of one another With \"group\", the bars\n            are plotted next to one another centered around the\n            shared location. With \"overlay\", the bars are plotted\n            over one another, you might need to reduce \"opacity\" to\n            see multiple bars.\n        geo\n            :class:`plotly.graph_objects.layout.Geo` instance or\n            dict with compatible properties\n        grid\n            :class:`plotly.graph_objects.layout.Grid` instance or\n            dict with compatible properties\n        height\n            Sets the plot's height (in px).\n        hiddenlabels\n            hiddenlabels is the funnelarea & pie chart analog of\n            visible:'legendonly' but it can contain many labels,\n            and can simultaneously hide slices from several\n            pies/funnelarea charts\n        hiddenlabelssrc\n            Sets the source reference on Chart Studio Cloud for\n            `hiddenlabels`.\n        hidesources\n            Determines whether or not a text link citing the data\n            source is placed at the bottom-right cored of the\n            figure. Has only an effect only on graphs that have\n            been generated via forked graphs from the Chart Studio\n            Cloud (at https://chart-studio.plotly.com or on-\n            premise).\n        hoverdistance\n            Sets the default distance (in pixels) to look for data\n            to add hover labels (-1 means no cutoff, 0 means no\n            looking for data). This is only a real distance for\n            hovering on point-like objects, like scatter points.\n            For area-like objects (bars, scatter fills, etc)\n            hovering is on inside the area and off outside, but\n            these objects will not supersede hover on point-like\n            objects in case of conflict.\n        hoverlabel\n            :class:`plotly.graph_objects.layout.Hoverlabel`\n            instance or dict with compatible properties\n        hovermode\n            Determines the mode of hover interactions. If\n            \"closest\", a single hoverlabel will appear for the\n            \"closest\" point within the `hoverdistance`. If \"x\" (or\n            \"y\"), multiple hoverlabels will appear for multiple\n            points at the \"closest\" x- (or y-) coordinate within\n            the `hoverdistance`, with the caveat that no more than\n            one hoverlabel will appear per trace. If *x unified*\n            (or *y unified*), a single hoverlabel will appear\n            multiple points at the closest x- (or y-) coordinate\n            within the `hoverdistance` with the caveat that no more\n            than one hoverlabel will appear per trace. In this\n            mode, spikelines are enabled by default perpendicular\n            to the specified axis. If false, hover interactions are\n            disabled.\n        iciclecolorway\n            Sets the default icicle slice colors. Defaults to the\n            main `colorway` used for trace colors. If you specify a\n            new list here it can still be extended with lighter and\n            darker colors, see `extendiciclecolors`.\n        images\n            A tuple of :class:`plotly.graph_objects.layout.Image`\n            instances or dicts with compatible properties\n        imagedefaults\n            When used in a template (as\n            layout.template.layout.imagedefaults), sets the default\n            property values to use for elements of layout.images\n        legend\n            :class:`plotly.graph_objects.layout.Legend` instance or\n            dict with compatible properties\n        mapbox\n            :class:`plotly.graph_objects.layout.Mapbox` instance or\n            dict with compatible properties\n        margin\n            :class:`plotly.graph_objects.layout.Margin` instance or\n            dict with compatible properties\n        meta\n            Assigns extra meta information that can be used in\n            various `text` attributes. Attributes such as the\n            graph, axis and colorbar `title.text`, annotation\n            `text` `trace.name` in legend items, `rangeselector`,\n            `updatemenus` and `sliders` `label` text all support\n            `meta`. One can access `meta` fields using template\n            strings: `%{meta[i]}` where `i` is the index of the\n            `meta` item in question. `meta` can also be an object\n            for example `{key: value}` which can be accessed\n            %{meta[key]}.\n        metasrc\n            Sets the source reference on Chart Studio Cloud for\n            `meta`.\n        minreducedheight\n            Minimum height of the plot with margin.automargin\n            applied (in px)\n        minreducedwidth\n            Minimum width of the plot with margin.automargin\n            applied (in px)\n        modebar\n            :class:`plotly.graph_objects.layout.Modebar` instance\n            or dict with compatible properties\n        newselection\n            :class:`plotly.graph_objects.layout.Newselection`\n            instance or dict with compatible properties\n        newshape\n            :class:`plotly.graph_objects.layout.Newshape` instance\n            or dict with compatible properties\n        paper_bgcolor\n            Sets the background color of the paper where the graph\n            is drawn.\n        piecolorway\n            Sets the default pie slice colors. Defaults to the main\n            `colorway` used for trace colors. If you specify a new\n            list here it can still be extended with lighter and\n            darker colors, see `extendpiecolors`.\n        plot_bgcolor\n            Sets the background color of the plotting area in-\n            between x and y axes.\n        polar\n            :class:`plotly.graph_objects.layout.Polar` instance or\n            dict with compatible properties\n        scattergap\n            Sets the gap (in plot fraction) between scatter points\n            of adjacent location coordinates. Defaults to `bargap`.\n        scattermode\n            Determines how scatter points at the same location\n            coordinate are displayed on the graph. With \"group\",\n            the scatter points are plotted next to one another\n            centered around the shared location. With \"overlay\",\n            the scatter points are plotted over one another, you\n            might need to reduce \"opacity\" to see multiple scatter\n            points.\n        scene\n            :class:`plotly.graph_objects.layout.Scene` instance or\n            dict with compatible properties\n        selectdirection\n            When `dragmode` is set to \"select\", this limits the\n            selection of the drag to horizontal, vertical or\n            diagonal. \"h\" only allows horizontal selection, \"v\"\n            only vertical, \"d\" only diagonal and \"any\" sets no\n            limit.\n        selectionrevision\n            Controls persistence of user-driven changes in selected\n            points from all traces.\n        selections\n            A tuple of\n            :class:`plotly.graph_objects.layout.Selection`\n            instances or dicts with compatible properties\n        selectiondefaults\n            When used in a template (as\n            layout.template.layout.selectiondefaults), sets the\n            default property values to use for elements of\n            layout.selections\n        separators\n            Sets the decimal and thousand separators. For example,\n            *. * puts a '.' before decimals and a space between\n            thousands. In English locales, dflt is \".,\" but other\n            locales may alter this default.\n        shapes\n            A tuple of :class:`plotly.graph_objects.layout.Shape`\n            instances or dicts with compatible properties\n        shapedefaults\n            When used in a template (as\n            layout.template.layout.shapedefaults), sets the default\n            property values to use for elements of layout.shapes\n        showlegend\n            Determines whether or not a legend is drawn. Default is\n            `true` if there is a trace to show and any of these: a)\n            Two or more traces would by default be shown in the\n            legend. b) One pie trace is shown in the legend. c) One\n            trace is explicitly given with `showlegend: true`.\n        sliders\n            A tuple of :class:`plotly.graph_objects.layout.Slider`\n            instances or dicts with compatible properties\n        sliderdefaults\n            When used in a template (as\n            layout.template.layout.sliderdefaults), sets the\n            default property values to use for elements of\n            layout.sliders\n        smith\n            :class:`plotly.graph_objects.layout.Smith` instance or\n            dict with compatible properties\n        spikedistance\n            Sets the default distance (in pixels) to look for data\n            to draw spikelines to (-1 means no cutoff, 0 means no\n            looking for data). As with hoverdistance, distance does\n            not apply to area-like objects. In addition, some\n            objects can be hovered on but will not generate\n            spikelines, such as scatter fills.\n        sunburstcolorway\n            Sets the default sunburst slice colors. Defaults to the\n            main `colorway` used for trace colors. If you specify a\n            new list here it can still be extended with lighter and\n            darker colors, see `extendsunburstcolors`.\n        template\n            Default attributes to be applied to the plot. This\n            should be a dict with format: `{'layout':\n            layoutTemplate, 'data': {trace_type: [traceTemplate,\n            ...], ...}}` where `layoutTemplate` is a dict matching\n            the structure of `figure.layout` and `traceTemplate` is\n            a dict matching the structure of the trace with type\n            `trace_type` (e.g. 'scatter'). Alternatively, this may\n            be specified as an instance of\n            plotly.graph_objs.layout.Template.  Trace templates are\n            applied cyclically to traces of each type. Container\n            arrays (eg `annotations`) have special handling: An\n            object ending in `defaults` (eg `annotationdefaults`)\n            is applied to each array item. But if an item has a\n            `templateitemname` key we look in the template array\n            for an item with matching `name` and apply that\n            instead. If no matching `name` is found we mark the\n            item invisible. Any named template item not referenced\n            is appended to the end of the array, so this can be\n            used to add a watermark annotation or a logo image, for\n            example. To omit one of these items on the plot, make\n            an item with matching `templateitemname` and `visible:\n            false`.\n        ternary\n            :class:`plotly.graph_objects.layout.Ternary` instance\n            or dict with compatible properties\n        title\n            :class:`plotly.graph_objects.layout.Title` instance or\n            dict with compatible properties\n        titlefont\n            Deprecated: Please use layout.title.font instead. Sets\n            the title font. Note that the title's font used to be\n            customized by the now deprecated `titlefont` attribute.\n        transition\n            Sets transition options used during Plotly.react\n            updates.\n        treemapcolorway\n            Sets the default treemap slice colors. Defaults to the\n            main `colorway` used for trace colors. If you specify a\n            new list here it can still be extended with lighter and\n            darker colors, see `extendtreemapcolors`.\n        uirevision\n            Used to allow user interactions with the plot to\n            persist after `Plotly.react` calls that are unaware of\n            these interactions. If `uirevision` is omitted, or if\n            it is given and it changed from the previous\n            `Plotly.react` call, the exact new figure is used. If\n            `uirevision` is truthy and did NOT change, any\n            attribute that has been affected by user interactions\n            and did not receive a different value in the new figure\n            will keep the interaction value. `layout.uirevision`\n            attribute serves as the default for `uirevision`\n            attributes in various sub-containers. For finer control\n            you can set these sub-attributes directly. For example,\n            if your app separately controls the data on the x and y\n            axes you might set `xaxis.uirevision=*time*` and\n            `yaxis.uirevision=*cost*`. Then if only the y data is\n            changed, you can update `yaxis.uirevision=*quantity*`\n            and the y axis range will reset but the x axis range\n            will retain any user-driven zoom.\n        uniformtext\n            :class:`plotly.graph_objects.layout.Uniformtext`\n            instance or dict with compatible properties\n        updatemenus\n            A tuple of\n            :class:`plotly.graph_objects.layout.Updatemenu`\n            instances or dicts with compatible properties\n        updatemenudefaults\n            When used in a template (as\n            layout.template.layout.updatemenudefaults), sets the\n            default property values to use for elements of\n            layout.updatemenus\n        violingap\n            Sets the gap (in plot fraction) between violins of\n            adjacent location coordinates. Has no effect on traces\n            that have \"width\" set.\n        violingroupgap\n            Sets the gap (in plot fraction) between violins of the\n            same location coordinate. Has no effect on traces that\n            have \"width\" set.\n        violinmode\n            Determines how violins at the same location coordinate\n            are displayed on the graph. If \"group\", the violins are\n            plotted next to one another centered around the shared\n            location. If \"overlay\", the violins are plotted over\n            one another, you might need to set \"opacity\" to see\n            them multiple violins. Has no effect on traces that\n            have \"width\" set.\n        waterfallgap\n            Sets the gap (in plot fraction) between bars of\n            adjacent location coordinates.\n        waterfallgroupgap\n            Sets the gap (in plot fraction) between bars of the\n            same location coordinate.\n        waterfallmode\n            Determines how bars at the same location coordinate are\n            displayed on the graph. With \"group\", the bars are\n            plotted next to one another centered around the shared\n            location. With \"overlay\", the bars are plotted over one\n            another, you might need to reduce \"opacity\" to see\n            multiple bars.\n        width\n            Sets the plot's width (in px).\n        xaxis\n            :class:`plotly.graph_objects.layout.XAxis` instance or\n            dict with compatible properties\n        yaxis\n            :class:`plotly.graph_objects.layout.YAxis` instance or\n            dict with compatible properties\n        \nDid you mean \"scene\"?\n\nBad property path:\nscale\n^^^^^"
     ]
    }
   ],
   "source": [
    "# Thesis report plot for CPU\n",
    "import plotly.graph_objects as go\n",
    "\n",
    "layout = go.Layout(\n",
    "    yaxis1=dict(domain=[0.,0.7]),\n",
    "    yaxis2=dict(domain=[0.75,1])\n",
    ")\n",
    "\n",
    "# add assignment to y subplot\n",
    "df['y axes']='y1'\n",
    "df.loc[(df['Normalized error']>0.2),'y axes']='y2'\n",
    "df_sub=df.query(\"`Engine`=='CPU' and `MD Suite`=='LAMMPS'\")\n",
    "\n",
    "fig = go.Figure(data=[], layout=layout)\n",
    "\n",
    "for kind in df_sub['Type'].unique():\n",
    "    subset=df_sub.query('Type==@kind')\n",
    "    fig.add_trace(go.Scatter(\n",
    "        x=subset['Cost'],\n",
    "        y=subset['Normalized error'],\n",
    "        mode='markers+text',\n",
    "        name=kind,\n",
    "        marker={'color':subset['Colour']},\n",
    "        text=subset['Type']+' - '+subset['Model'],\n",
    "        #hovertemplate=\"%{text}\"+\"<br>Computational cost: %{x} μs\"+\"<br>Normalized error: %{y}\",\n",
    "        textposition=\"middle left\",\n",
    "        legendgroup=kind,\n",
    "        yaxis=subset['y axes'].unique()[0],\n",
    "    ),\n",
    "    )\n",
    "fig.update_xaxes(title_text='Computational cost of inference [<i>μs/atom/step</i>]',type=\"log\")\n",
    "fig.update_layout(yaxis1={'title':'Normalized error'},yaxis2={},grid_yaxes=['y1'],\n",
    "                xaxis={'range':[-1,2.5]},\n",
    "                font_family=\"Serif\",font_size=18,\n",
    "                template='ggplot2',\n",
    "                width=1000,\n",
    "                height=900,\n",
    "                showlegend=False) #,'position':0\n",
    "\n",
    "fig.write_image('/Users/dominicwelti/Library/CloudStorage/Dropbox/Apps/Overleaf/Master Thesis - MLIP evaluation/graphs/results/hea_LAMMPS-CPU.png',format='png',scale=5)"
   ]
  },
  {
   "cell_type": "code",
   "execution_count": 19,
   "metadata": {},
   "outputs": [
    {
     "data": {
      "application/vnd.plotly.v1+json": {
       "config": {
        "plotlyServerURL": "https://plot.ly"
       },
       "data": [
        {
         "legendgroup": "GM-NN",
         "marker": {
          "color": [
           "blue",
           "blue",
           "blue",
           "blue",
           "blue"
          ]
         },
         "mode": "markers+text",
         "name": "GM-NN",
         "text": [
          "GM-NN - 593-512-512-1",
          "GM-NN - 593-128-128-1",
          "GM-NN - 593-32-32-1",
          "GM-NN - 360-512-512-1",
          "GM-NN - 910-512-512-1"
         ],
         "textposition": "middle left",
         "type": "scatter",
         "x": [
          43.81,
          40.42,
          37.54,
          44.25,
          50.04
         ],
         "y": [
          0.07976590315941998,
          0.08449816507850838,
          0.08864026178780551,
          0.09512265833263436,
          0.07621397165991411
         ],
         "yaxis": "y"
        },
        {
         "legendgroup": "MTP",
         "marker": {
          "color": [
           "red",
           "red",
           "red",
           "red",
           "red"
          ]
         },
         "mode": "markers+text",
         "name": "MTP",
         "text": [
          "MTP - lev16",
          "MTP - lev20",
          "MTP - lev24",
          "MTP - lev26",
          "MTP - lev28"
         ],
         "textposition": "middle left",
         "type": "scatter",
         "x": [
          3.45,
          7.69,
          17.57,
          25.1,
          43.78
         ],
         "y": [
          0.1269851978542541,
          0.11819380271828517,
          0.09702777970244977,
          0.09906752681270672,
          0.09132183635587873
         ],
         "yaxis": "y"
        },
        {
         "legendgroup": "Classical",
         "marker": {
          "color": [
           "green",
           "green"
          ]
         },
         "mode": "markers+text",
         "name": "Classical",
         "text": [
          "Classical -  EAM",
          "Classical -  MEAM"
         ],
         "textposition": "middle left",
         "type": "scatter",
         "x": [
          0.5,
          6.2
         ],
         "y": [
          1,
          0.9389893162471084
         ],
         "yaxis": "y2"
        },
        {
         "legendgroup": "MACE",
         "marker": {
          "color": [
           "purple"
          ]
         },
         "mode": "markers+text",
         "name": "MACE",
         "text": [
          "MACE - Standard"
         ],
         "textposition": "middle left",
         "type": "scatter",
         "x": [
          151.9
         ],
         "y": [
          0.08998499971433815
         ],
         "yaxis": "y"
        },
        {
         "legendgroup": "NequIP",
         "marker": {
          "color": [
           "orange"
          ]
         },
         "mode": "markers+text",
         "name": "NequIP",
         "text": [
          "NequIP - Standard"
         ],
         "textposition": "middle left",
         "type": "scatter",
         "x": [
          7.077083333
         ],
         "y": [
          0.14343931995463446
         ],
         "yaxis": "y"
        },
        {
         "legendgroup": "Allegro",
         "marker": {
          "color": [
           "turquoise"
          ]
         },
         "mode": "markers+text",
         "name": "Allegro",
         "text": [
          "Allegro - Standard"
         ],
         "textposition": "middle left",
         "type": "scatter",
         "x": [
          23.32152778
         ],
         "y": [
          0.12851774324713638
         ],
         "yaxis": "y"
        }
       ],
       "layout": {
        "font": {
         "family": "Serif",
         "size": 18
        },
        "grid": {
         "yaxes": [
          "y"
         ]
        },
        "height": 900,
        "showlegend": false,
        "template": {
         "data": {
          "bar": [
           {
            "error_x": {
             "color": "rgb(51,51,51)"
            },
            "error_y": {
             "color": "rgb(51,51,51)"
            },
            "marker": {
             "line": {
              "color": "rgb(237,237,237)",
              "width": 0.5
             },
             "pattern": {
              "fillmode": "overlay",
              "size": 10,
              "solidity": 0.2
             }
            },
            "type": "bar"
           }
          ],
          "barpolar": [
           {
            "marker": {
             "line": {
              "color": "rgb(237,237,237)",
              "width": 0.5
             },
             "pattern": {
              "fillmode": "overlay",
              "size": 10,
              "solidity": 0.2
             }
            },
            "type": "barpolar"
           }
          ],
          "carpet": [
           {
            "aaxis": {
             "endlinecolor": "rgb(51,51,51)",
             "gridcolor": "white",
             "linecolor": "white",
             "minorgridcolor": "white",
             "startlinecolor": "rgb(51,51,51)"
            },
            "baxis": {
             "endlinecolor": "rgb(51,51,51)",
             "gridcolor": "white",
             "linecolor": "white",
             "minorgridcolor": "white",
             "startlinecolor": "rgb(51,51,51)"
            },
            "type": "carpet"
           }
          ],
          "choropleth": [
           {
            "colorbar": {
             "outlinewidth": 0,
             "tickcolor": "rgb(237,237,237)",
             "ticklen": 6,
             "ticks": "inside"
            },
            "type": "choropleth"
           }
          ],
          "contour": [
           {
            "colorbar": {
             "outlinewidth": 0,
             "tickcolor": "rgb(237,237,237)",
             "ticklen": 6,
             "ticks": "inside"
            },
            "colorscale": [
             [
              0,
              "rgb(20,44,66)"
             ],
             [
              1,
              "rgb(90,179,244)"
             ]
            ],
            "type": "contour"
           }
          ],
          "contourcarpet": [
           {
            "colorbar": {
             "outlinewidth": 0,
             "tickcolor": "rgb(237,237,237)",
             "ticklen": 6,
             "ticks": "inside"
            },
            "type": "contourcarpet"
           }
          ],
          "heatmap": [
           {
            "colorbar": {
             "outlinewidth": 0,
             "tickcolor": "rgb(237,237,237)",
             "ticklen": 6,
             "ticks": "inside"
            },
            "colorscale": [
             [
              0,
              "rgb(20,44,66)"
             ],
             [
              1,
              "rgb(90,179,244)"
             ]
            ],
            "type": "heatmap"
           }
          ],
          "heatmapgl": [
           {
            "colorbar": {
             "outlinewidth": 0,
             "tickcolor": "rgb(237,237,237)",
             "ticklen": 6,
             "ticks": "inside"
            },
            "colorscale": [
             [
              0,
              "rgb(20,44,66)"
             ],
             [
              1,
              "rgb(90,179,244)"
             ]
            ],
            "type": "heatmapgl"
           }
          ],
          "histogram": [
           {
            "marker": {
             "pattern": {
              "fillmode": "overlay",
              "size": 10,
              "solidity": 0.2
             }
            },
            "type": "histogram"
           }
          ],
          "histogram2d": [
           {
            "colorbar": {
             "outlinewidth": 0,
             "tickcolor": "rgb(237,237,237)",
             "ticklen": 6,
             "ticks": "inside"
            },
            "colorscale": [
             [
              0,
              "rgb(20,44,66)"
             ],
             [
              1,
              "rgb(90,179,244)"
             ]
            ],
            "type": "histogram2d"
           }
          ],
          "histogram2dcontour": [
           {
            "colorbar": {
             "outlinewidth": 0,
             "tickcolor": "rgb(237,237,237)",
             "ticklen": 6,
             "ticks": "inside"
            },
            "colorscale": [
             [
              0,
              "rgb(20,44,66)"
             ],
             [
              1,
              "rgb(90,179,244)"
             ]
            ],
            "type": "histogram2dcontour"
           }
          ],
          "mesh3d": [
           {
            "colorbar": {
             "outlinewidth": 0,
             "tickcolor": "rgb(237,237,237)",
             "ticklen": 6,
             "ticks": "inside"
            },
            "type": "mesh3d"
           }
          ],
          "parcoords": [
           {
            "line": {
             "colorbar": {
              "outlinewidth": 0,
              "tickcolor": "rgb(237,237,237)",
              "ticklen": 6,
              "ticks": "inside"
             }
            },
            "type": "parcoords"
           }
          ],
          "pie": [
           {
            "automargin": true,
            "type": "pie"
           }
          ],
          "scatter": [
           {
            "fillpattern": {
             "fillmode": "overlay",
             "size": 10,
             "solidity": 0.2
            },
            "type": "scatter"
           }
          ],
          "scatter3d": [
           {
            "line": {
             "colorbar": {
              "outlinewidth": 0,
              "tickcolor": "rgb(237,237,237)",
              "ticklen": 6,
              "ticks": "inside"
             }
            },
            "marker": {
             "colorbar": {
              "outlinewidth": 0,
              "tickcolor": "rgb(237,237,237)",
              "ticklen": 6,
              "ticks": "inside"
             }
            },
            "type": "scatter3d"
           }
          ],
          "scattercarpet": [
           {
            "marker": {
             "colorbar": {
              "outlinewidth": 0,
              "tickcolor": "rgb(237,237,237)",
              "ticklen": 6,
              "ticks": "inside"
             }
            },
            "type": "scattercarpet"
           }
          ],
          "scattergeo": [
           {
            "marker": {
             "colorbar": {
              "outlinewidth": 0,
              "tickcolor": "rgb(237,237,237)",
              "ticklen": 6,
              "ticks": "inside"
             }
            },
            "type": "scattergeo"
           }
          ],
          "scattergl": [
           {
            "marker": {
             "colorbar": {
              "outlinewidth": 0,
              "tickcolor": "rgb(237,237,237)",
              "ticklen": 6,
              "ticks": "inside"
             }
            },
            "type": "scattergl"
           }
          ],
          "scattermapbox": [
           {
            "marker": {
             "colorbar": {
              "outlinewidth": 0,
              "tickcolor": "rgb(237,237,237)",
              "ticklen": 6,
              "ticks": "inside"
             }
            },
            "type": "scattermapbox"
           }
          ],
          "scatterpolar": [
           {
            "marker": {
             "colorbar": {
              "outlinewidth": 0,
              "tickcolor": "rgb(237,237,237)",
              "ticklen": 6,
              "ticks": "inside"
             }
            },
            "type": "scatterpolar"
           }
          ],
          "scatterpolargl": [
           {
            "marker": {
             "colorbar": {
              "outlinewidth": 0,
              "tickcolor": "rgb(237,237,237)",
              "ticklen": 6,
              "ticks": "inside"
             }
            },
            "type": "scatterpolargl"
           }
          ],
          "scatterternary": [
           {
            "marker": {
             "colorbar": {
              "outlinewidth": 0,
              "tickcolor": "rgb(237,237,237)",
              "ticklen": 6,
              "ticks": "inside"
             }
            },
            "type": "scatterternary"
           }
          ],
          "surface": [
           {
            "colorbar": {
             "outlinewidth": 0,
             "tickcolor": "rgb(237,237,237)",
             "ticklen": 6,
             "ticks": "inside"
            },
            "colorscale": [
             [
              0,
              "rgb(20,44,66)"
             ],
             [
              1,
              "rgb(90,179,244)"
             ]
            ],
            "type": "surface"
           }
          ],
          "table": [
           {
            "cells": {
             "fill": {
              "color": "rgb(237,237,237)"
             },
             "line": {
              "color": "white"
             }
            },
            "header": {
             "fill": {
              "color": "rgb(217,217,217)"
             },
             "line": {
              "color": "white"
             }
            },
            "type": "table"
           }
          ]
         },
         "layout": {
          "annotationdefaults": {
           "arrowhead": 0,
           "arrowwidth": 1
          },
          "autotypenumbers": "strict",
          "coloraxis": {
           "colorbar": {
            "outlinewidth": 0,
            "tickcolor": "rgb(237,237,237)",
            "ticklen": 6,
            "ticks": "inside"
           }
          },
          "colorscale": {
           "sequential": [
            [
             0,
             "rgb(20,44,66)"
            ],
            [
             1,
             "rgb(90,179,244)"
            ]
           ],
           "sequentialminus": [
            [
             0,
             "rgb(20,44,66)"
            ],
            [
             1,
             "rgb(90,179,244)"
            ]
           ]
          },
          "colorway": [
           "#F8766D",
           "#A3A500",
           "#00BF7D",
           "#00B0F6",
           "#E76BF3"
          ],
          "font": {
           "color": "rgb(51,51,51)"
          },
          "geo": {
           "bgcolor": "white",
           "lakecolor": "white",
           "landcolor": "rgb(237,237,237)",
           "showlakes": true,
           "showland": true,
           "subunitcolor": "white"
          },
          "hoverlabel": {
           "align": "left"
          },
          "hovermode": "closest",
          "paper_bgcolor": "white",
          "plot_bgcolor": "rgb(237,237,237)",
          "polar": {
           "angularaxis": {
            "gridcolor": "white",
            "linecolor": "white",
            "showgrid": true,
            "tickcolor": "rgb(51,51,51)",
            "ticks": "outside"
           },
           "bgcolor": "rgb(237,237,237)",
           "radialaxis": {
            "gridcolor": "white",
            "linecolor": "white",
            "showgrid": true,
            "tickcolor": "rgb(51,51,51)",
            "ticks": "outside"
           }
          },
          "scene": {
           "xaxis": {
            "backgroundcolor": "rgb(237,237,237)",
            "gridcolor": "white",
            "gridwidth": 2,
            "linecolor": "white",
            "showbackground": true,
            "showgrid": true,
            "tickcolor": "rgb(51,51,51)",
            "ticks": "outside",
            "zerolinecolor": "white"
           },
           "yaxis": {
            "backgroundcolor": "rgb(237,237,237)",
            "gridcolor": "white",
            "gridwidth": 2,
            "linecolor": "white",
            "showbackground": true,
            "showgrid": true,
            "tickcolor": "rgb(51,51,51)",
            "ticks": "outside",
            "zerolinecolor": "white"
           },
           "zaxis": {
            "backgroundcolor": "rgb(237,237,237)",
            "gridcolor": "white",
            "gridwidth": 2,
            "linecolor": "white",
            "showbackground": true,
            "showgrid": true,
            "tickcolor": "rgb(51,51,51)",
            "ticks": "outside",
            "zerolinecolor": "white"
           }
          },
          "shapedefaults": {
           "fillcolor": "black",
           "line": {
            "width": 0
           },
           "opacity": 0.3
          },
          "ternary": {
           "aaxis": {
            "gridcolor": "white",
            "linecolor": "white",
            "showgrid": true,
            "tickcolor": "rgb(51,51,51)",
            "ticks": "outside"
           },
           "baxis": {
            "gridcolor": "white",
            "linecolor": "white",
            "showgrid": true,
            "tickcolor": "rgb(51,51,51)",
            "ticks": "outside"
           },
           "bgcolor": "rgb(237,237,237)",
           "caxis": {
            "gridcolor": "white",
            "linecolor": "white",
            "showgrid": true,
            "tickcolor": "rgb(51,51,51)",
            "ticks": "outside"
           }
          },
          "xaxis": {
           "automargin": true,
           "gridcolor": "white",
           "linecolor": "white",
           "showgrid": true,
           "tickcolor": "rgb(51,51,51)",
           "ticks": "outside",
           "title": {
            "standoff": 15
           },
           "zerolinecolor": "white"
          },
          "yaxis": {
           "automargin": true,
           "gridcolor": "white",
           "linecolor": "white",
           "showgrid": true,
           "tickcolor": "rgb(51,51,51)",
           "ticks": "outside",
           "title": {
            "standoff": 15
           },
           "zerolinecolor": "white"
          }
         }
        },
        "width": 1000,
        "xaxis": {
         "range": [
          -1,
          2.5
         ],
         "title": {
          "text": "Computational cost of inference [<i>μs/atom/step</i>]"
         },
         "type": "log"
        },
        "yaxis": {
         "domain": [
          0,
          0.7
         ],
         "title": {
          "text": "Normalized error"
         }
        },
        "yaxis2": {
         "domain": [
          0.75,
          1
         ]
        }
       }
      }
     },
     "metadata": {},
     "output_type": "display_data"
    }
   ],
   "source": [
    "fig.show()"
   ]
  },
  {
   "cell_type": "code",
   "execution_count": 8,
   "metadata": {},
   "outputs": [],
   "source": [
    "# Thesis report plot for GPU\n",
    "#from colorhash import ColorHash\n",
    "\n",
    "df_sub=df.query(\"`Engine`=='GPU' and `MD Suite`=='LAMMPS'\") #and `Engine`=='CPU'\"\n",
    "fig = go.Figure(data=[])\n",
    "\n",
    "i=0 # index for trace\n",
    "traces=[] \n",
    "for engine in df_sub['Engine'].unique():\n",
    "    for suite in df_sub['MD Suite'].unique():\n",
    "        for kind in df_sub['Type'].unique():\n",
    "            subset=df_sub.query('Type==@kind & Engine==@engine & `MD Suite`==@suite')\n",
    "            if len(subset)>=1:\n",
    "                i+=1\n",
    "                fig.add_trace(go.Scatter(\n",
    "                x=subset['Cost'],\n",
    "                y=subset['Normalized error'],\n",
    "                mode='markers+text',\n",
    "                name=kind,\n",
    "                marker={'color':subset['Colour']},\n",
    "                text=subset['Type']+' - '+subset['Model'],\n",
    "                #hovertemplate=\"%{text}\"+\"<br>Computational cost: %{x} μs\"+\"<br>Normalized error: %{y}\",\n",
    "                textposition=\"middle right\",\n",
    "                legendgroup=kind,\n",
    "                yaxis=subset['y axes'].unique()[0],\n",
    "            ),\n",
    "    )\n",
    "                trace={\n",
    "                    'Trace': i,\n",
    "                    'Type': kind,\n",
    "                    'Engine': engine,\n",
    "                    'MD Suite': suite,\n",
    "                }\n",
    "                traces.append(trace)\n",
    "\n",
    "traces=pd.DataFrame(traces) # convert list of dictionaries to DataFrame\n",
    "\n",
    "# Add annotation\n",
    "fig.update_xaxes(title_text='Computational cost of inference [<i>μs/atom/step</i>]',type=\"log\",minor_ticks='inside')\n",
    "fig.update_layout(yaxis={'title':'Normalized error'},\n",
    "                xaxis={'range':[-1,2.5]},\n",
    "                font_family=\"Serif\",font_size=18,\n",
    "                template='ggplot2',\n",
    "                width=1000,\n",
    "                height=600,\n",
    "                showlegend=False) #,'position':0\n",
    "\n",
    "names=set()\n",
    "fig.for_each_trace(\n",
    "    lambda trace:\n",
    "        trace.update(showlegend=False)\n",
    "        if (trace.name in names) else names.add(trace.name))\n",
    "\n",
    "fig.write_image('/Users/dominicwelti/Library/CloudStorage/Dropbox/Apps/Overleaf/Master Thesis - MLIP evaluation/graphs/results/hea_LAMMPS-GPU.png',format='png',scale=5)"
   ]
  },
  {
   "cell_type": "code",
   "execution_count": 9,
   "metadata": {},
   "outputs": [],
   "source": [
    "def getText(suite:str, kind):\n",
    "    if suite=='ASE':\n",
    "        return f'{suite} - {kind}'\n",
    "    else:\n",
    "        return ''\n",
    "    \n",
    "def getPosition(suite:str):\n",
    "    if suite=='ASE':\n",
    "        return \"top center\"\n",
    "    elif suite=='LAMMPS':\n",
    "        return \"bottom center\"\n",
    "    else:\n",
    "        print('Undefined suite')"
   ]
  },
  {
   "cell_type": "code",
   "execution_count": 25,
   "metadata": {},
   "outputs": [],
   "source": [
    "# plot for report: comparing engine performance\n",
    "\n",
    "def getSymbol(txt):\n",
    "    if 'GPU' in txt:\n",
    "        return 'diamond'\n",
    "    elif 'CPU' in txt:\n",
    "        return 'circle'\n",
    "    else:\n",
    "        print('Undefined text')\n",
    "\n",
    "\n",
    "df_sub=df.query(\"not (`Type`=='Classical' or `Type`=='MTP' or `Type`=='GM-NN') and not `MD Suite`=='MLP Toolkit'\") #and `Engine`=='CPU'\"\n",
    "fig = go.Figure(data=[])\n",
    "\n",
    "i=0 # index for trace\n",
    "traces=[] \n",
    "for engine in df_sub['Engine'].unique():\n",
    "    for suite in df_sub['MD Suite'].unique():\n",
    "        for kind in df_sub['Type'].unique():\n",
    "            subset=df_sub.query('Type==@kind & Engine==@engine & `MD Suite`==@suite')\n",
    "            if len(subset)>=1:\n",
    "                i+=1\n",
    "                fig.add_trace(go.Scatter(\n",
    "                    #marker_symbol='square',\n",
    "                    x=subset['Cost'],\n",
    "                    y=subset['Normalized error'],\n",
    "                    mode='markers+text',\n",
    "                    name=engine,\n",
    "                    text=f'{kind} - {suite}',\n",
    "                    textposition=getPosition(suite),\n",
    "                    hovertemplate=\"%{text}\"+\"<br>Computational cost: %{x} μs\"+\"<br>Normalized error: %{y}\",\n",
    "                    legendgroup=engine,\n",
    "                    marker={'symbol':getSymbol(engine), 'color':subset['Colour']},\n",
    "                    #legendgrouptitle=kind,\n",
    "                    #yaxis=subset['y axes'].unique()[0],\n",
    "                ))\n",
    "                trace={\n",
    "                    'Trace': i,\n",
    "                    'Type': kind,\n",
    "                    'Engine': engine,\n",
    "                    'MD Suite': suite,\n",
    "                }\n",
    "                traces.append(trace)\n",
    "\n",
    "traces=pd.DataFrame(traces) # convert list of dictionaries to DataFrame\n",
    "\n",
    "# Add annotation\n",
    "fig.update_xaxes(title_text='Computational cost of inference [<i>μs/atom/step</i>]',type=\"log\",minor_ticks='inside')\n",
    "fig.update_layout(yaxis={'title':'Normalized error'},\n",
    "                xaxis={'range':[-1.3,2.55]},\n",
    "                font_family=\"Serif\",font_size=18,\n",
    "                template='ggplot2',\n",
    "                width=1000,\n",
    "                height=600,\n",
    "                showlegend=True) #,'position':0\n",
    "\n",
    "names=set()\n",
    "fig.for_each_trace(\n",
    "    lambda trace:\n",
    "        trace.update(showlegend=False)\n",
    "        if (trace.name in names) else names.add(trace.name))\n",
    "\n",
    "fig.write_image('/Users/dominicwelti/Library/CloudStorage/Dropbox/Apps/Overleaf/Master Thesis - MLIP evaluation/graphs/results/hea_SuiteComparison.png',format='png',scale=5)"
   ]
  },
  {
   "cell_type": "code",
   "execution_count": 26,
   "metadata": {},
   "outputs": [
    {
     "data": {
      "application/vnd.plotly.v1+json": {
       "config": {
        "plotlyServerURL": "https://plot.ly"
       },
       "data": [
        {
         "hovertemplate": "%{text}<br>Computational cost: %{x} μs<br>Normalized error: %{y}",
         "legendgroup": "CPU",
         "marker": {
          "color": [
           "purple"
          ],
          "symbol": "circle"
         },
         "mode": "markers+text",
         "name": "CPU",
         "text": "MACE - LAMMPS",
         "textposition": "bottom center",
         "type": "scatter",
         "x": [
          151.9
         ],
         "y": [
          0.08998499971433815
         ]
        },
        {
         "hovertemplate": "%{text}<br>Computational cost: %{x} μs<br>Normalized error: %{y}",
         "legendgroup": "CPU",
         "marker": {
          "color": [
           "orange"
          ],
          "symbol": "circle"
         },
         "mode": "markers+text",
         "name": "CPU",
         "showlegend": false,
         "text": "NequIP - LAMMPS",
         "textposition": "bottom center",
         "type": "scatter",
         "x": [
          7.077083333
         ],
         "y": [
          0.14343931995463446
         ]
        },
        {
         "hovertemplate": "%{text}<br>Computational cost: %{x} μs<br>Normalized error: %{y}",
         "legendgroup": "CPU",
         "marker": {
          "color": [
           "turquoise"
          ],
          "symbol": "circle"
         },
         "mode": "markers+text",
         "name": "CPU",
         "showlegend": false,
         "text": "Allegro - LAMMPS",
         "textposition": "bottom center",
         "type": "scatter",
         "x": [
          23.32152778
         ],
         "y": [
          0.12851774324713638
         ]
        },
        {
         "hovertemplate": "%{text}<br>Computational cost: %{x} μs<br>Normalized error: %{y}",
         "legendgroup": "CPU",
         "marker": {
          "color": [
           "purple"
          ],
          "symbol": "circle"
         },
         "mode": "markers+text",
         "name": "CPU",
         "showlegend": false,
         "text": "MACE - ASE",
         "textposition": "top center",
         "type": "scatter",
         "x": [
          7.465
         ],
         "y": [
          0.08998499971433815
         ]
        },
        {
         "hovertemplate": "%{text}<br>Computational cost: %{x} μs<br>Normalized error: %{y}",
         "legendgroup": "CPU",
         "marker": {
          "color": [
           "orange"
          ],
          "symbol": "circle"
         },
         "mode": "markers+text",
         "name": "CPU",
         "showlegend": false,
         "text": "NequIP - ASE",
         "textposition": "top center",
         "type": "scatter",
         "x": [
          8.190740741
         ],
         "y": [
          0.14343931995463446
         ]
        },
        {
         "hovertemplate": "%{text}<br>Computational cost: %{x} μs<br>Normalized error: %{y}",
         "legendgroup": "CPU",
         "marker": {
          "color": [
           "turquoise"
          ],
          "symbol": "circle"
         },
         "mode": "markers+text",
         "name": "CPU",
         "showlegend": false,
         "text": "Allegro - ASE",
         "textposition": "top center",
         "type": "scatter",
         "x": [
          23.71134259
         ],
         "y": [
          0.12851774324713638
         ]
        },
        {
         "hovertemplate": "%{text}<br>Computational cost: %{x} μs<br>Normalized error: %{y}",
         "legendgroup": "GPU",
         "marker": {
          "color": [
           "purple"
          ],
          "symbol": "diamond"
         },
         "mode": "markers+text",
         "name": "GPU",
         "text": "MACE - LAMMPS",
         "textposition": "bottom center",
         "type": "scatter",
         "x": [
          2.639351852
         ],
         "y": [
          0.08998499971433815
         ]
        },
        {
         "hovertemplate": "%{text}<br>Computational cost: %{x} μs<br>Normalized error: %{y}",
         "legendgroup": "GPU",
         "marker": {
          "color": [
           "orange"
          ],
          "symbol": "diamond"
         },
         "mode": "markers+text",
         "name": "GPU",
         "showlegend": false,
         "text": "NequIP - LAMMPS",
         "textposition": "bottom center",
         "type": "scatter",
         "x": [
          0.121759259
         ],
         "y": [
          0.14343931995463446
         ]
        },
        {
         "hovertemplate": "%{text}<br>Computational cost: %{x} μs<br>Normalized error: %{y}",
         "legendgroup": "GPU",
         "marker": {
          "color": [
           "turquoise"
          ],
          "symbol": "diamond"
         },
         "mode": "markers+text",
         "name": "GPU",
         "showlegend": false,
         "text": "Allegro - LAMMPS",
         "textposition": "bottom center",
         "type": "scatter",
         "x": [
          0.371296296
         ],
         "y": [
          0.12851774324713638
         ]
        },
        {
         "hovertemplate": "%{text}<br>Computational cost: %{x} μs<br>Normalized error: %{y}",
         "legendgroup": "GPU",
         "marker": {
          "color": [
           "purple"
          ],
          "symbol": "diamond"
         },
         "mode": "markers+text",
         "name": "GPU",
         "showlegend": false,
         "text": "MACE - ASE",
         "textposition": "top center",
         "type": "scatter",
         "x": [
          0.1759
         ],
         "y": [
          0.08998499971433815
         ]
        },
        {
         "hovertemplate": "%{text}<br>Computational cost: %{x} μs<br>Normalized error: %{y}",
         "legendgroup": "GPU",
         "marker": {
          "color": [
           "orange"
          ],
          "symbol": "diamond"
         },
         "mode": "markers+text",
         "name": "GPU",
         "showlegend": false,
         "text": "NequIP - ASE",
         "textposition": "top center",
         "type": "scatter",
         "x": [
          0.160185185
         ],
         "y": [
          0.14343931995463446
         ]
        },
        {
         "hovertemplate": "%{text}<br>Computational cost: %{x} μs<br>Normalized error: %{y}",
         "legendgroup": "GPU",
         "marker": {
          "color": [
           "turquoise"
          ],
          "symbol": "diamond"
         },
         "mode": "markers+text",
         "name": "GPU",
         "showlegend": false,
         "text": "Allegro - ASE",
         "textposition": "top center",
         "type": "scatter",
         "x": [
          0.389583333
         ],
         "y": [
          0.12851774324713638
         ]
        }
       ],
       "layout": {
        "font": {
         "family": "Serif",
         "size": 18
        },
        "height": 600,
        "showlegend": true,
        "template": {
         "data": {
          "bar": [
           {
            "error_x": {
             "color": "rgb(51,51,51)"
            },
            "error_y": {
             "color": "rgb(51,51,51)"
            },
            "marker": {
             "line": {
              "color": "rgb(237,237,237)",
              "width": 0.5
             },
             "pattern": {
              "fillmode": "overlay",
              "size": 10,
              "solidity": 0.2
             }
            },
            "type": "bar"
           }
          ],
          "barpolar": [
           {
            "marker": {
             "line": {
              "color": "rgb(237,237,237)",
              "width": 0.5
             },
             "pattern": {
              "fillmode": "overlay",
              "size": 10,
              "solidity": 0.2
             }
            },
            "type": "barpolar"
           }
          ],
          "carpet": [
           {
            "aaxis": {
             "endlinecolor": "rgb(51,51,51)",
             "gridcolor": "white",
             "linecolor": "white",
             "minorgridcolor": "white",
             "startlinecolor": "rgb(51,51,51)"
            },
            "baxis": {
             "endlinecolor": "rgb(51,51,51)",
             "gridcolor": "white",
             "linecolor": "white",
             "minorgridcolor": "white",
             "startlinecolor": "rgb(51,51,51)"
            },
            "type": "carpet"
           }
          ],
          "choropleth": [
           {
            "colorbar": {
             "outlinewidth": 0,
             "tickcolor": "rgb(237,237,237)",
             "ticklen": 6,
             "ticks": "inside"
            },
            "type": "choropleth"
           }
          ],
          "contour": [
           {
            "colorbar": {
             "outlinewidth": 0,
             "tickcolor": "rgb(237,237,237)",
             "ticklen": 6,
             "ticks": "inside"
            },
            "colorscale": [
             [
              0,
              "rgb(20,44,66)"
             ],
             [
              1,
              "rgb(90,179,244)"
             ]
            ],
            "type": "contour"
           }
          ],
          "contourcarpet": [
           {
            "colorbar": {
             "outlinewidth": 0,
             "tickcolor": "rgb(237,237,237)",
             "ticklen": 6,
             "ticks": "inside"
            },
            "type": "contourcarpet"
           }
          ],
          "heatmap": [
           {
            "colorbar": {
             "outlinewidth": 0,
             "tickcolor": "rgb(237,237,237)",
             "ticklen": 6,
             "ticks": "inside"
            },
            "colorscale": [
             [
              0,
              "rgb(20,44,66)"
             ],
             [
              1,
              "rgb(90,179,244)"
             ]
            ],
            "type": "heatmap"
           }
          ],
          "heatmapgl": [
           {
            "colorbar": {
             "outlinewidth": 0,
             "tickcolor": "rgb(237,237,237)",
             "ticklen": 6,
             "ticks": "inside"
            },
            "colorscale": [
             [
              0,
              "rgb(20,44,66)"
             ],
             [
              1,
              "rgb(90,179,244)"
             ]
            ],
            "type": "heatmapgl"
           }
          ],
          "histogram": [
           {
            "marker": {
             "pattern": {
              "fillmode": "overlay",
              "size": 10,
              "solidity": 0.2
             }
            },
            "type": "histogram"
           }
          ],
          "histogram2d": [
           {
            "colorbar": {
             "outlinewidth": 0,
             "tickcolor": "rgb(237,237,237)",
             "ticklen": 6,
             "ticks": "inside"
            },
            "colorscale": [
             [
              0,
              "rgb(20,44,66)"
             ],
             [
              1,
              "rgb(90,179,244)"
             ]
            ],
            "type": "histogram2d"
           }
          ],
          "histogram2dcontour": [
           {
            "colorbar": {
             "outlinewidth": 0,
             "tickcolor": "rgb(237,237,237)",
             "ticklen": 6,
             "ticks": "inside"
            },
            "colorscale": [
             [
              0,
              "rgb(20,44,66)"
             ],
             [
              1,
              "rgb(90,179,244)"
             ]
            ],
            "type": "histogram2dcontour"
           }
          ],
          "mesh3d": [
           {
            "colorbar": {
             "outlinewidth": 0,
             "tickcolor": "rgb(237,237,237)",
             "ticklen": 6,
             "ticks": "inside"
            },
            "type": "mesh3d"
           }
          ],
          "parcoords": [
           {
            "line": {
             "colorbar": {
              "outlinewidth": 0,
              "tickcolor": "rgb(237,237,237)",
              "ticklen": 6,
              "ticks": "inside"
             }
            },
            "type": "parcoords"
           }
          ],
          "pie": [
           {
            "automargin": true,
            "type": "pie"
           }
          ],
          "scatter": [
           {
            "fillpattern": {
             "fillmode": "overlay",
             "size": 10,
             "solidity": 0.2
            },
            "type": "scatter"
           }
          ],
          "scatter3d": [
           {
            "line": {
             "colorbar": {
              "outlinewidth": 0,
              "tickcolor": "rgb(237,237,237)",
              "ticklen": 6,
              "ticks": "inside"
             }
            },
            "marker": {
             "colorbar": {
              "outlinewidth": 0,
              "tickcolor": "rgb(237,237,237)",
              "ticklen": 6,
              "ticks": "inside"
             }
            },
            "type": "scatter3d"
           }
          ],
          "scattercarpet": [
           {
            "marker": {
             "colorbar": {
              "outlinewidth": 0,
              "tickcolor": "rgb(237,237,237)",
              "ticklen": 6,
              "ticks": "inside"
             }
            },
            "type": "scattercarpet"
           }
          ],
          "scattergeo": [
           {
            "marker": {
             "colorbar": {
              "outlinewidth": 0,
              "tickcolor": "rgb(237,237,237)",
              "ticklen": 6,
              "ticks": "inside"
             }
            },
            "type": "scattergeo"
           }
          ],
          "scattergl": [
           {
            "marker": {
             "colorbar": {
              "outlinewidth": 0,
              "tickcolor": "rgb(237,237,237)",
              "ticklen": 6,
              "ticks": "inside"
             }
            },
            "type": "scattergl"
           }
          ],
          "scattermapbox": [
           {
            "marker": {
             "colorbar": {
              "outlinewidth": 0,
              "tickcolor": "rgb(237,237,237)",
              "ticklen": 6,
              "ticks": "inside"
             }
            },
            "type": "scattermapbox"
           }
          ],
          "scatterpolar": [
           {
            "marker": {
             "colorbar": {
              "outlinewidth": 0,
              "tickcolor": "rgb(237,237,237)",
              "ticklen": 6,
              "ticks": "inside"
             }
            },
            "type": "scatterpolar"
           }
          ],
          "scatterpolargl": [
           {
            "marker": {
             "colorbar": {
              "outlinewidth": 0,
              "tickcolor": "rgb(237,237,237)",
              "ticklen": 6,
              "ticks": "inside"
             }
            },
            "type": "scatterpolargl"
           }
          ],
          "scatterternary": [
           {
            "marker": {
             "colorbar": {
              "outlinewidth": 0,
              "tickcolor": "rgb(237,237,237)",
              "ticklen": 6,
              "ticks": "inside"
             }
            },
            "type": "scatterternary"
           }
          ],
          "surface": [
           {
            "colorbar": {
             "outlinewidth": 0,
             "tickcolor": "rgb(237,237,237)",
             "ticklen": 6,
             "ticks": "inside"
            },
            "colorscale": [
             [
              0,
              "rgb(20,44,66)"
             ],
             [
              1,
              "rgb(90,179,244)"
             ]
            ],
            "type": "surface"
           }
          ],
          "table": [
           {
            "cells": {
             "fill": {
              "color": "rgb(237,237,237)"
             },
             "line": {
              "color": "white"
             }
            },
            "header": {
             "fill": {
              "color": "rgb(217,217,217)"
             },
             "line": {
              "color": "white"
             }
            },
            "type": "table"
           }
          ]
         },
         "layout": {
          "annotationdefaults": {
           "arrowhead": 0,
           "arrowwidth": 1
          },
          "autotypenumbers": "strict",
          "coloraxis": {
           "colorbar": {
            "outlinewidth": 0,
            "tickcolor": "rgb(237,237,237)",
            "ticklen": 6,
            "ticks": "inside"
           }
          },
          "colorscale": {
           "sequential": [
            [
             0,
             "rgb(20,44,66)"
            ],
            [
             1,
             "rgb(90,179,244)"
            ]
           ],
           "sequentialminus": [
            [
             0,
             "rgb(20,44,66)"
            ],
            [
             1,
             "rgb(90,179,244)"
            ]
           ]
          },
          "colorway": [
           "#F8766D",
           "#A3A500",
           "#00BF7D",
           "#00B0F6",
           "#E76BF3"
          ],
          "font": {
           "color": "rgb(51,51,51)"
          },
          "geo": {
           "bgcolor": "white",
           "lakecolor": "white",
           "landcolor": "rgb(237,237,237)",
           "showlakes": true,
           "showland": true,
           "subunitcolor": "white"
          },
          "hoverlabel": {
           "align": "left"
          },
          "hovermode": "closest",
          "paper_bgcolor": "white",
          "plot_bgcolor": "rgb(237,237,237)",
          "polar": {
           "angularaxis": {
            "gridcolor": "white",
            "linecolor": "white",
            "showgrid": true,
            "tickcolor": "rgb(51,51,51)",
            "ticks": "outside"
           },
           "bgcolor": "rgb(237,237,237)",
           "radialaxis": {
            "gridcolor": "white",
            "linecolor": "white",
            "showgrid": true,
            "tickcolor": "rgb(51,51,51)",
            "ticks": "outside"
           }
          },
          "scene": {
           "xaxis": {
            "backgroundcolor": "rgb(237,237,237)",
            "gridcolor": "white",
            "gridwidth": 2,
            "linecolor": "white",
            "showbackground": true,
            "showgrid": true,
            "tickcolor": "rgb(51,51,51)",
            "ticks": "outside",
            "zerolinecolor": "white"
           },
           "yaxis": {
            "backgroundcolor": "rgb(237,237,237)",
            "gridcolor": "white",
            "gridwidth": 2,
            "linecolor": "white",
            "showbackground": true,
            "showgrid": true,
            "tickcolor": "rgb(51,51,51)",
            "ticks": "outside",
            "zerolinecolor": "white"
           },
           "zaxis": {
            "backgroundcolor": "rgb(237,237,237)",
            "gridcolor": "white",
            "gridwidth": 2,
            "linecolor": "white",
            "showbackground": true,
            "showgrid": true,
            "tickcolor": "rgb(51,51,51)",
            "ticks": "outside",
            "zerolinecolor": "white"
           }
          },
          "shapedefaults": {
           "fillcolor": "black",
           "line": {
            "width": 0
           },
           "opacity": 0.3
          },
          "ternary": {
           "aaxis": {
            "gridcolor": "white",
            "linecolor": "white",
            "showgrid": true,
            "tickcolor": "rgb(51,51,51)",
            "ticks": "outside"
           },
           "baxis": {
            "gridcolor": "white",
            "linecolor": "white",
            "showgrid": true,
            "tickcolor": "rgb(51,51,51)",
            "ticks": "outside"
           },
           "bgcolor": "rgb(237,237,237)",
           "caxis": {
            "gridcolor": "white",
            "linecolor": "white",
            "showgrid": true,
            "tickcolor": "rgb(51,51,51)",
            "ticks": "outside"
           }
          },
          "xaxis": {
           "automargin": true,
           "gridcolor": "white",
           "linecolor": "white",
           "showgrid": true,
           "tickcolor": "rgb(51,51,51)",
           "ticks": "outside",
           "title": {
            "standoff": 15
           },
           "zerolinecolor": "white"
          },
          "yaxis": {
           "automargin": true,
           "gridcolor": "white",
           "linecolor": "white",
           "showgrid": true,
           "tickcolor": "rgb(51,51,51)",
           "ticks": "outside",
           "title": {
            "standoff": 15
           },
           "zerolinecolor": "white"
          }
         }
        },
        "width": 1000,
        "xaxis": {
         "minor": {
          "ticks": "inside"
         },
         "range": [
          -1.3,
          2.55
         ],
         "title": {
          "text": "Computational cost of inference [<i>μs/atom/step</i>]"
         },
         "type": "log"
        },
        "yaxis": {
         "title": {
          "text": "Normalized error"
         }
        }
       }
      }
     },
     "metadata": {},
     "output_type": "display_data"
    }
   ],
   "source": [
    "fig.show()"
   ]
  },
  {
   "cell_type": "code",
   "execution_count": 12,
   "metadata": {},
   "outputs": [
    {
     "data": {
      "application/vnd.plotly.v1+json": {
       "config": {
        "plotlyServerURL": "https://plot.ly"
       },
       "data": [
        {
         "hovertemplate": "%{text}<br>Computational cost: %{x} μs<br>Normalized error: %{y}",
         "legendgroup": "GM-NN",
         "marker": {
          "color": [
           "blue",
           "blue",
           "blue",
           "blue",
           "blue"
          ]
         },
         "mode": "markers",
         "name": "GM-NN",
         "text": [
          "593-512-512-1<br>Engine: LAMMPS-CPU",
          "593-128-128-1<br>Engine: LAMMPS-CPU",
          "593-32-32-1<br>Engine: LAMMPS-CPU",
          "360-512-512-1<br>Engine: LAMMPS-CPU",
          "910-512-512-1<br>Engine: LAMMPS-CPU"
         ],
         "type": "scatter",
         "x": [
          43.81,
          40.42,
          37.54,
          44.25,
          50.04
         ],
         "y": [
          0.07976590315941998,
          0.08449816507850838,
          0.08864026178780551,
          0.09512265833263436,
          0.07621397165991411
         ]
        },
        {
         "hovertemplate": "%{text}<br>Computational cost: %{x} μs<br>Normalized error: %{y}",
         "legendgroup": "MTP",
         "marker": {
          "color": [
           "red",
           "red",
           "red",
           "red",
           "red"
          ]
         },
         "mode": "markers",
         "name": "MTP",
         "text": [
          "lev16<br>Engine: LAMMPS-CPU",
          "lev20<br>Engine: LAMMPS-CPU",
          "lev24<br>Engine: LAMMPS-CPU",
          "lev26<br>Engine: LAMMPS-CPU",
          "lev28<br>Engine: LAMMPS-CPU"
         ],
         "type": "scatter",
         "x": [
          3.45,
          7.69,
          17.57,
          25.1,
          43.78
         ],
         "y": [
          0.1269851978542541,
          0.11819380271828517,
          0.09702777970244977,
          0.09906752681270672,
          0.09132183635587873
         ]
        },
        {
         "hovertemplate": "%{text}<br>Computational cost: %{x} μs<br>Normalized error: %{y}",
         "legendgroup": "Classical",
         "marker": {
          "color": [
           "green",
           "green"
          ]
         },
         "mode": "markers",
         "name": "Classical",
         "text": [
          " EAM<br>Engine: LAMMPS-CPU",
          " MEAM<br>Engine: LAMMPS-CPU"
         ],
         "type": "scatter",
         "x": [
          0.5,
          6.2
         ],
         "y": [
          1,
          0.9389893162471084
         ]
        },
        {
         "hovertemplate": "%{text}<br>Computational cost: %{x} μs<br>Normalized error: %{y}",
         "legendgroup": "MACE",
         "marker": {
          "color": [
           "purple"
          ]
         },
         "mode": "markers",
         "name": "MACE",
         "text": [
          "Standard<br>Engine: LAMMPS-CPU"
         ],
         "type": "scatter",
         "x": [
          151.9
         ],
         "y": [
          0.08998499971433815
         ]
        },
        {
         "hovertemplate": "%{text}<br>Computational cost: %{x} μs<br>Normalized error: %{y}",
         "legendgroup": "NequIP",
         "marker": {
          "color": [
           "orange"
          ]
         },
         "mode": "markers",
         "name": "NequIP",
         "text": [
          "Standard<br>Engine: LAMMPS-CPU"
         ],
         "type": "scatter",
         "x": [
          7.077083333
         ],
         "y": [
          0.14343931995463446
         ]
        },
        {
         "hovertemplate": "%{text}<br>Computational cost: %{x} μs<br>Normalized error: %{y}",
         "legendgroup": "Allegro",
         "marker": {
          "color": [
           "turquoise"
          ]
         },
         "mode": "markers",
         "name": "Allegro",
         "text": [
          "Standard<br>Engine: LAMMPS-CPU"
         ],
         "type": "scatter",
         "x": [
          23.32152778
         ],
         "y": [
          0.12851774324713638
         ]
        },
        {
         "hovertemplate": "%{text}<br>Computational cost: %{x} μs<br>Normalized error: %{y}",
         "legendgroup": "MACE",
         "marker": {
          "color": [
           "purple"
          ]
         },
         "mode": "markers",
         "name": "MACE",
         "showlegend": false,
         "text": [
          "Standard<br>Engine: ASE-CPU"
         ],
         "type": "scatter",
         "x": [
          7.465
         ],
         "y": [
          0.08998499971433815
         ]
        },
        {
         "hovertemplate": "%{text}<br>Computational cost: %{x} μs<br>Normalized error: %{y}",
         "legendgroup": "NequIP",
         "marker": {
          "color": [
           "orange"
          ]
         },
         "mode": "markers",
         "name": "NequIP",
         "showlegend": false,
         "text": [
          "Standard<br>Engine: ASE-CPU"
         ],
         "type": "scatter",
         "x": [
          8.190740741
         ],
         "y": [
          0.14343931995463446
         ]
        },
        {
         "hovertemplate": "%{text}<br>Computational cost: %{x} μs<br>Normalized error: %{y}",
         "legendgroup": "Allegro",
         "marker": {
          "color": [
           "turquoise"
          ]
         },
         "mode": "markers",
         "name": "Allegro",
         "showlegend": false,
         "text": [
          "Standard<br>Engine: ASE-CPU"
         ],
         "type": "scatter",
         "x": [
          23.71134259
         ],
         "y": [
          0.12851774324713638
         ]
        },
        {
         "hovertemplate": "%{text}<br>Computational cost: %{x} μs<br>Normalized error: %{y}",
         "legendgroup": "GM-NN",
         "marker": {
          "color": [
           "blue",
           "blue",
           "blue",
           "blue",
           "blue"
          ]
         },
         "mode": "markers",
         "name": "GM-NN",
         "showlegend": false,
         "text": [
          "593-512-512-1<br>Engine: LAMMPS-GPU",
          "593-128-128-1<br>Engine: LAMMPS-GPU",
          "593-32-32-1<br>Engine: LAMMPS-GPU",
          "360-512-512-1<br>Engine: LAMMPS-GPU",
          "910-512-512-1<br>Engine: LAMMPS-GPU"
         ],
         "type": "scatter",
         "x": [
          7.25,
          7.47,
          7.28,
          7.3,
          7.23
         ],
         "y": [
          0.07976590315941998,
          0.08449816507850838,
          0.08864026178780551,
          0.09512265833263436,
          0.07621397165991411
         ]
        },
        {
         "hovertemplate": "%{text}<br>Computational cost: %{x} μs<br>Normalized error: %{y}",
         "legendgroup": "MACE",
         "marker": {
          "color": [
           "purple"
          ]
         },
         "mode": "markers",
         "name": "MACE",
         "showlegend": false,
         "text": [
          "Standard<br>Engine: LAMMPS-GPU"
         ],
         "type": "scatter",
         "x": [
          2.639351852
         ],
         "y": [
          0.08998499971433815
         ]
        },
        {
         "hovertemplate": "%{text}<br>Computational cost: %{x} μs<br>Normalized error: %{y}",
         "legendgroup": "NequIP",
         "marker": {
          "color": [
           "orange"
          ]
         },
         "mode": "markers",
         "name": "NequIP",
         "showlegend": false,
         "text": [
          "Standard<br>Engine: LAMMPS-GPU"
         ],
         "type": "scatter",
         "x": [
          0.121759259
         ],
         "y": [
          0.14343931995463446
         ]
        },
        {
         "hovertemplate": "%{text}<br>Computational cost: %{x} μs<br>Normalized error: %{y}",
         "legendgroup": "Allegro",
         "marker": {
          "color": [
           "turquoise"
          ]
         },
         "mode": "markers",
         "name": "Allegro",
         "showlegend": false,
         "text": [
          "Standard<br>Engine: LAMMPS-GPU"
         ],
         "type": "scatter",
         "x": [
          0.371296296
         ],
         "y": [
          0.12851774324713638
         ]
        },
        {
         "hovertemplate": "%{text}<br>Computational cost: %{x} μs<br>Normalized error: %{y}",
         "legendgroup": "MACE",
         "marker": {
          "color": [
           "purple"
          ]
         },
         "mode": "markers",
         "name": "MACE",
         "showlegend": false,
         "text": [
          "Standard<br>Engine: ASE-GPU"
         ],
         "type": "scatter",
         "x": [
          0.1759
         ],
         "y": [
          0.08998499971433815
         ]
        },
        {
         "hovertemplate": "%{text}<br>Computational cost: %{x} μs<br>Normalized error: %{y}",
         "legendgroup": "NequIP",
         "marker": {
          "color": [
           "orange"
          ]
         },
         "mode": "markers",
         "name": "NequIP",
         "showlegend": false,
         "text": [
          "Standard<br>Engine: ASE-GPU"
         ],
         "type": "scatter",
         "x": [
          0.160185185
         ],
         "y": [
          0.14343931995463446
         ]
        },
        {
         "hovertemplate": "%{text}<br>Computational cost: %{x} μs<br>Normalized error: %{y}",
         "legendgroup": "Allegro",
         "marker": {
          "color": [
           "turquoise"
          ]
         },
         "mode": "markers",
         "name": "Allegro",
         "showlegend": false,
         "text": [
          "Standard<br>Engine: ASE-GPU"
         ],
         "type": "scatter",
         "x": [
          0.389583333
         ],
         "y": [
          0.12851774324713638
         ]
        }
       ],
       "layout": {
        "font": {
         "family": "Serif",
         "size": 18
        },
        "height": 600,
        "template": {
         "data": {
          "bar": [
           {
            "error_x": {
             "color": "rgb(51,51,51)"
            },
            "error_y": {
             "color": "rgb(51,51,51)"
            },
            "marker": {
             "line": {
              "color": "rgb(237,237,237)",
              "width": 0.5
             },
             "pattern": {
              "fillmode": "overlay",
              "size": 10,
              "solidity": 0.2
             }
            },
            "type": "bar"
           }
          ],
          "barpolar": [
           {
            "marker": {
             "line": {
              "color": "rgb(237,237,237)",
              "width": 0.5
             },
             "pattern": {
              "fillmode": "overlay",
              "size": 10,
              "solidity": 0.2
             }
            },
            "type": "barpolar"
           }
          ],
          "carpet": [
           {
            "aaxis": {
             "endlinecolor": "rgb(51,51,51)",
             "gridcolor": "white",
             "linecolor": "white",
             "minorgridcolor": "white",
             "startlinecolor": "rgb(51,51,51)"
            },
            "baxis": {
             "endlinecolor": "rgb(51,51,51)",
             "gridcolor": "white",
             "linecolor": "white",
             "minorgridcolor": "white",
             "startlinecolor": "rgb(51,51,51)"
            },
            "type": "carpet"
           }
          ],
          "choropleth": [
           {
            "colorbar": {
             "outlinewidth": 0,
             "tickcolor": "rgb(237,237,237)",
             "ticklen": 6,
             "ticks": "inside"
            },
            "type": "choropleth"
           }
          ],
          "contour": [
           {
            "colorbar": {
             "outlinewidth": 0,
             "tickcolor": "rgb(237,237,237)",
             "ticklen": 6,
             "ticks": "inside"
            },
            "colorscale": [
             [
              0,
              "rgb(20,44,66)"
             ],
             [
              1,
              "rgb(90,179,244)"
             ]
            ],
            "type": "contour"
           }
          ],
          "contourcarpet": [
           {
            "colorbar": {
             "outlinewidth": 0,
             "tickcolor": "rgb(237,237,237)",
             "ticklen": 6,
             "ticks": "inside"
            },
            "type": "contourcarpet"
           }
          ],
          "heatmap": [
           {
            "colorbar": {
             "outlinewidth": 0,
             "tickcolor": "rgb(237,237,237)",
             "ticklen": 6,
             "ticks": "inside"
            },
            "colorscale": [
             [
              0,
              "rgb(20,44,66)"
             ],
             [
              1,
              "rgb(90,179,244)"
             ]
            ],
            "type": "heatmap"
           }
          ],
          "heatmapgl": [
           {
            "colorbar": {
             "outlinewidth": 0,
             "tickcolor": "rgb(237,237,237)",
             "ticklen": 6,
             "ticks": "inside"
            },
            "colorscale": [
             [
              0,
              "rgb(20,44,66)"
             ],
             [
              1,
              "rgb(90,179,244)"
             ]
            ],
            "type": "heatmapgl"
           }
          ],
          "histogram": [
           {
            "marker": {
             "pattern": {
              "fillmode": "overlay",
              "size": 10,
              "solidity": 0.2
             }
            },
            "type": "histogram"
           }
          ],
          "histogram2d": [
           {
            "colorbar": {
             "outlinewidth": 0,
             "tickcolor": "rgb(237,237,237)",
             "ticklen": 6,
             "ticks": "inside"
            },
            "colorscale": [
             [
              0,
              "rgb(20,44,66)"
             ],
             [
              1,
              "rgb(90,179,244)"
             ]
            ],
            "type": "histogram2d"
           }
          ],
          "histogram2dcontour": [
           {
            "colorbar": {
             "outlinewidth": 0,
             "tickcolor": "rgb(237,237,237)",
             "ticklen": 6,
             "ticks": "inside"
            },
            "colorscale": [
             [
              0,
              "rgb(20,44,66)"
             ],
             [
              1,
              "rgb(90,179,244)"
             ]
            ],
            "type": "histogram2dcontour"
           }
          ],
          "mesh3d": [
           {
            "colorbar": {
             "outlinewidth": 0,
             "tickcolor": "rgb(237,237,237)",
             "ticklen": 6,
             "ticks": "inside"
            },
            "type": "mesh3d"
           }
          ],
          "parcoords": [
           {
            "line": {
             "colorbar": {
              "outlinewidth": 0,
              "tickcolor": "rgb(237,237,237)",
              "ticklen": 6,
              "ticks": "inside"
             }
            },
            "type": "parcoords"
           }
          ],
          "pie": [
           {
            "automargin": true,
            "type": "pie"
           }
          ],
          "scatter": [
           {
            "fillpattern": {
             "fillmode": "overlay",
             "size": 10,
             "solidity": 0.2
            },
            "type": "scatter"
           }
          ],
          "scatter3d": [
           {
            "line": {
             "colorbar": {
              "outlinewidth": 0,
              "tickcolor": "rgb(237,237,237)",
              "ticklen": 6,
              "ticks": "inside"
             }
            },
            "marker": {
             "colorbar": {
              "outlinewidth": 0,
              "tickcolor": "rgb(237,237,237)",
              "ticklen": 6,
              "ticks": "inside"
             }
            },
            "type": "scatter3d"
           }
          ],
          "scattercarpet": [
           {
            "marker": {
             "colorbar": {
              "outlinewidth": 0,
              "tickcolor": "rgb(237,237,237)",
              "ticklen": 6,
              "ticks": "inside"
             }
            },
            "type": "scattercarpet"
           }
          ],
          "scattergeo": [
           {
            "marker": {
             "colorbar": {
              "outlinewidth": 0,
              "tickcolor": "rgb(237,237,237)",
              "ticklen": 6,
              "ticks": "inside"
             }
            },
            "type": "scattergeo"
           }
          ],
          "scattergl": [
           {
            "marker": {
             "colorbar": {
              "outlinewidth": 0,
              "tickcolor": "rgb(237,237,237)",
              "ticklen": 6,
              "ticks": "inside"
             }
            },
            "type": "scattergl"
           }
          ],
          "scattermapbox": [
           {
            "marker": {
             "colorbar": {
              "outlinewidth": 0,
              "tickcolor": "rgb(237,237,237)",
              "ticklen": 6,
              "ticks": "inside"
             }
            },
            "type": "scattermapbox"
           }
          ],
          "scatterpolar": [
           {
            "marker": {
             "colorbar": {
              "outlinewidth": 0,
              "tickcolor": "rgb(237,237,237)",
              "ticklen": 6,
              "ticks": "inside"
             }
            },
            "type": "scatterpolar"
           }
          ],
          "scatterpolargl": [
           {
            "marker": {
             "colorbar": {
              "outlinewidth": 0,
              "tickcolor": "rgb(237,237,237)",
              "ticklen": 6,
              "ticks": "inside"
             }
            },
            "type": "scatterpolargl"
           }
          ],
          "scatterternary": [
           {
            "marker": {
             "colorbar": {
              "outlinewidth": 0,
              "tickcolor": "rgb(237,237,237)",
              "ticklen": 6,
              "ticks": "inside"
             }
            },
            "type": "scatterternary"
           }
          ],
          "surface": [
           {
            "colorbar": {
             "outlinewidth": 0,
             "tickcolor": "rgb(237,237,237)",
             "ticklen": 6,
             "ticks": "inside"
            },
            "colorscale": [
             [
              0,
              "rgb(20,44,66)"
             ],
             [
              1,
              "rgb(90,179,244)"
             ]
            ],
            "type": "surface"
           }
          ],
          "table": [
           {
            "cells": {
             "fill": {
              "color": "rgb(237,237,237)"
             },
             "line": {
              "color": "white"
             }
            },
            "header": {
             "fill": {
              "color": "rgb(217,217,217)"
             },
             "line": {
              "color": "white"
             }
            },
            "type": "table"
           }
          ]
         },
         "layout": {
          "annotationdefaults": {
           "arrowhead": 0,
           "arrowwidth": 1
          },
          "autotypenumbers": "strict",
          "coloraxis": {
           "colorbar": {
            "outlinewidth": 0,
            "tickcolor": "rgb(237,237,237)",
            "ticklen": 6,
            "ticks": "inside"
           }
          },
          "colorscale": {
           "sequential": [
            [
             0,
             "rgb(20,44,66)"
            ],
            [
             1,
             "rgb(90,179,244)"
            ]
           ],
           "sequentialminus": [
            [
             0,
             "rgb(20,44,66)"
            ],
            [
             1,
             "rgb(90,179,244)"
            ]
           ]
          },
          "colorway": [
           "#F8766D",
           "#A3A500",
           "#00BF7D",
           "#00B0F6",
           "#E76BF3"
          ],
          "font": {
           "color": "rgb(51,51,51)"
          },
          "geo": {
           "bgcolor": "white",
           "lakecolor": "white",
           "landcolor": "rgb(237,237,237)",
           "showlakes": true,
           "showland": true,
           "subunitcolor": "white"
          },
          "hoverlabel": {
           "align": "left"
          },
          "hovermode": "closest",
          "paper_bgcolor": "white",
          "plot_bgcolor": "rgb(237,237,237)",
          "polar": {
           "angularaxis": {
            "gridcolor": "white",
            "linecolor": "white",
            "showgrid": true,
            "tickcolor": "rgb(51,51,51)",
            "ticks": "outside"
           },
           "bgcolor": "rgb(237,237,237)",
           "radialaxis": {
            "gridcolor": "white",
            "linecolor": "white",
            "showgrid": true,
            "tickcolor": "rgb(51,51,51)",
            "ticks": "outside"
           }
          },
          "scene": {
           "xaxis": {
            "backgroundcolor": "rgb(237,237,237)",
            "gridcolor": "white",
            "gridwidth": 2,
            "linecolor": "white",
            "showbackground": true,
            "showgrid": true,
            "tickcolor": "rgb(51,51,51)",
            "ticks": "outside",
            "zerolinecolor": "white"
           },
           "yaxis": {
            "backgroundcolor": "rgb(237,237,237)",
            "gridcolor": "white",
            "gridwidth": 2,
            "linecolor": "white",
            "showbackground": true,
            "showgrid": true,
            "tickcolor": "rgb(51,51,51)",
            "ticks": "outside",
            "zerolinecolor": "white"
           },
           "zaxis": {
            "backgroundcolor": "rgb(237,237,237)",
            "gridcolor": "white",
            "gridwidth": 2,
            "linecolor": "white",
            "showbackground": true,
            "showgrid": true,
            "tickcolor": "rgb(51,51,51)",
            "ticks": "outside",
            "zerolinecolor": "white"
           }
          },
          "shapedefaults": {
           "fillcolor": "black",
           "line": {
            "width": 0
           },
           "opacity": 0.3
          },
          "ternary": {
           "aaxis": {
            "gridcolor": "white",
            "linecolor": "white",
            "showgrid": true,
            "tickcolor": "rgb(51,51,51)",
            "ticks": "outside"
           },
           "baxis": {
            "gridcolor": "white",
            "linecolor": "white",
            "showgrid": true,
            "tickcolor": "rgb(51,51,51)",
            "ticks": "outside"
           },
           "bgcolor": "rgb(237,237,237)",
           "caxis": {
            "gridcolor": "white",
            "linecolor": "white",
            "showgrid": true,
            "tickcolor": "rgb(51,51,51)",
            "ticks": "outside"
           }
          },
          "xaxis": {
           "automargin": true,
           "gridcolor": "white",
           "linecolor": "white",
           "showgrid": true,
           "tickcolor": "rgb(51,51,51)",
           "ticks": "outside",
           "title": {
            "standoff": 15
           },
           "zerolinecolor": "white"
          },
          "yaxis": {
           "automargin": true,
           "gridcolor": "white",
           "linecolor": "white",
           "showgrid": true,
           "tickcolor": "rgb(51,51,51)",
           "ticks": "outside",
           "title": {
            "standoff": 15
           },
           "zerolinecolor": "white"
          }
         }
        },
        "width": 1000,
        "xaxis": {
         "minor": {
          "ticks": "inside"
         },
         "title": {
          "text": "Computational cost of inference [<i>μs/atom/step</i>]"
         },
         "type": "log"
        },
        "yaxis": {
         "title": {
          "text": "Normalized error"
         }
        }
       }
      }
     },
     "metadata": {},
     "output_type": "display_data"
    }
   ],
   "source": [
    "import plotly.graph_objects as go\n",
    "#from colorhash import ColorHash\n",
    "\n",
    "fig = go.Figure(data=[])\n",
    "\n",
    "i=0 # index for trace\n",
    "traces=[] \n",
    "for engine in df['Engine'].unique():\n",
    "    for suite in df['MD Suite'].unique():\n",
    "        for kind in df['Type'].unique():\n",
    "            subset=df.query('Type==@kind & Engine==@engine & `MD Suite`==@suite')\n",
    "            if len(subset)>=1:\n",
    "                i+=1\n",
    "                fig.add_trace(go.Scatter(\n",
    "                    x=subset['Cost'],\n",
    "                    y=subset['Normalized error'],\n",
    "                    mode='markers',\n",
    "                    name=kind,\n",
    "                    text=subset['Model']+'<br>'+'Engine: '+subset['MD Suite']+'-'+subset['Engine'],\n",
    "                    #textposition=\"center bottom\",\n",
    "                    hovertemplate=\"%{text}\"+\"<br>Computational cost: %{x} μs\"+\"<br>Normalized error: %{y}\",\n",
    "                    legendgroup=kind,\n",
    "                    marker={'color':subset['Colour']},\n",
    "                    #legendgrouptitle=kind,\n",
    "                    #yaxis=subset['y axes'].unique()[0],\n",
    "                ))\n",
    "                trace={\n",
    "                    'Trace': i,\n",
    "                    'Type': kind,\n",
    "                    'Engine': engine,\n",
    "                    'MD Suite': suite,\n",
    "                }\n",
    "                traces.append(trace)\n",
    "\n",
    "traces=pd.DataFrame(traces) # convert list of dictionaries to DataFrame\n",
    "\n",
    "# Add annotation\n",
    "fig.update_xaxes(title_text='Computational cost of inference [<i>μs/atom/step</i>]',type=\"log\",minor_ticks='inside')\n",
    "fig.update_layout(yaxis={'title':'Normalized error'},\n",
    "                font_family=\"Serif\",font_size=18,\n",
    "                template='ggplot2',\n",
    "                width=1000,\n",
    "                height=600) #,'position':0\n",
    "\n",
    "names=set()\n",
    "fig.for_each_trace(\n",
    "    lambda trace:\n",
    "        trace.update(showlegend=False)\n",
    "        if (trace.name in names) else names.add(trace.name))\n",
    "\n"
   ]
  },
  {
   "cell_type": "code",
   "execution_count": 13,
   "metadata": {},
   "outputs": [],
   "source": [
    "def produce_buttons(df:pd.DataFrame, traces:pd.DataFrame):\n",
    "    '''Produces buttons list for drop down menu'''\n",
    "    vis_eng=[]\n",
    "    for engine_sub in df['Engine'].unique():\n",
    "        entries=[]\n",
    "        for i, engine in enumerate(traces['Engine']):\n",
    "            if engine_sub==engine:\n",
    "                entry=True\n",
    "            else:\n",
    "                entry=False\n",
    "            entries.append(entry)\n",
    "        vis_eng.append(entries)\n",
    "\n",
    "    vis_md=[]\n",
    "    for md_sub in df['MD Suite'].unique():\n",
    "        entries=[]\n",
    "        for i, md in enumerate(traces['MD Suite']):\n",
    "            if md_sub==md:\n",
    "                entry=True\n",
    "            else:\n",
    "                entry=False\n",
    "            entries.append(entry)\n",
    "        vis_md.append(entries)\n",
    "\n",
    "    lst_eng=[]\n",
    "    lst_eng.append({\n",
    "            'label': 'All',\n",
    "            'args': [\n",
    "                        {'visible': len(vis_eng[0])*[True]}\n",
    "                        ],\n",
    "            'method':'update'\n",
    "        })\n",
    "    for i, engine in enumerate(df['Engine'].unique()):\n",
    "        lst_eng.append({\n",
    "            'label': engine,\n",
    "            'args': [\n",
    "                        {'visible': vis_eng[i]}\n",
    "                        ],\n",
    "            'method':'update'\n",
    "        })\n",
    "    \n",
    "    lst_md=[]\n",
    "    lst_md.append({\n",
    "            'label': 'All',\n",
    "            'args': [\n",
    "                        {'visible': len(vis_md[0])*[True]}\n",
    "                        ],\n",
    "            'method':'update'\n",
    "        })\n",
    "    for i, md in enumerate(df['MD Suite'].unique()):\n",
    "        lst_md.append({\n",
    "            'label': md,\n",
    "            'args': [\n",
    "                        {'visible': vis_md[i]}\n",
    "                        ],\n",
    "            'method':'update'\n",
    "        })\n",
    "\n",
    "    return lst_eng, lst_md"
   ]
  },
  {
   "cell_type": "code",
   "execution_count": 12,
   "metadata": {},
   "outputs": [
    {
     "data": {
      "application/vnd.plotly.v1+json": {
       "config": {
        "plotlyServerURL": "https://plot.ly"
       },
       "data": [
        {
         "hovertemplate": "%{text}<br>Computational cost: %{x} μs<br>Normalized error: %{y}",
         "legendgroup": "GM-NN",
         "marker": {
          "color": [
           "blue",
           "blue",
           "blue",
           "blue",
           "blue"
          ]
         },
         "mode": "markers",
         "name": "GM-NN",
         "text": [
          "593-512-512-1<br>Engine: LAMMPS-CPU",
          "593-128-128-1<br>Engine: LAMMPS-CPU",
          "593-32-32-1<br>Engine: LAMMPS-CPU",
          "360-512-512-1<br>Engine: LAMMPS-CPU",
          "910-512-512-1<br>Engine: LAMMPS-CPU"
         ],
         "type": "scatter",
         "x": [
          43.81,
          40.42,
          37.54,
          44.25,
          50.04
         ],
         "y": [
          0.07976590315941998,
          0.08449816507850838,
          0.08864026178780551,
          0.09512265833263436,
          0.07621397165991411
         ]
        },
        {
         "hovertemplate": "%{text}<br>Computational cost: %{x} μs<br>Normalized error: %{y}",
         "legendgroup": "MTP",
         "marker": {
          "color": [
           "red",
           "red",
           "red",
           "red",
           "red"
          ]
         },
         "mode": "markers",
         "name": "MTP",
         "text": [
          "lev16<br>Engine: LAMMPS-CPU",
          "lev20<br>Engine: LAMMPS-CPU",
          "lev24<br>Engine: LAMMPS-CPU",
          "lev26<br>Engine: LAMMPS-CPU",
          "lev28<br>Engine: LAMMPS-CPU"
         ],
         "type": "scatter",
         "x": [
          3.45,
          7.69,
          17.57,
          25.1,
          43.78
         ],
         "y": [
          0.1269851978542541,
          0.11819380271828517,
          0.09702777970244977,
          0.09906752681270672,
          0.09132183635587873
         ]
        },
        {
         "hovertemplate": "%{text}<br>Computational cost: %{x} μs<br>Normalized error: %{y}",
         "legendgroup": "Classical",
         "marker": {
          "color": [
           "green",
           "green"
          ]
         },
         "mode": "markers",
         "name": "Classical",
         "text": [
          " EAM<br>Engine: LAMMPS-CPU",
          " MEAM<br>Engine: LAMMPS-CPU"
         ],
         "type": "scatter",
         "x": [
          0.5,
          6.2
         ],
         "y": [
          1,
          0.9389893162471084
         ]
        },
        {
         "hovertemplate": "%{text}<br>Computational cost: %{x} μs<br>Normalized error: %{y}",
         "legendgroup": "MACE",
         "marker": {
          "color": [
           "purple"
          ]
         },
         "mode": "markers",
         "name": "MACE",
         "text": [
          "Standard<br>Engine: LAMMPS-CPU"
         ],
         "type": "scatter",
         "x": [
          151.9
         ],
         "y": [
          0.08998499971433815
         ]
        },
        {
         "hovertemplate": "%{text}<br>Computational cost: %{x} μs<br>Normalized error: %{y}",
         "legendgroup": "NequIP",
         "marker": {
          "color": [
           "orange"
          ]
         },
         "mode": "markers",
         "name": "NequIP",
         "text": [
          "Standard<br>Engine: LAMMPS-CPU"
         ],
         "type": "scatter",
         "x": [
          7.077083333
         ],
         "y": [
          0.14343931995463446
         ]
        },
        {
         "hovertemplate": "%{text}<br>Computational cost: %{x} μs<br>Normalized error: %{y}",
         "legendgroup": "Allegro",
         "marker": {
          "color": [
           "turquoise"
          ]
         },
         "mode": "markers",
         "name": "Allegro",
         "text": [
          "Standard<br>Engine: LAMMPS-CPU"
         ],
         "type": "scatter",
         "x": [
          23.32152778
         ],
         "y": [
          0.12851774324713638
         ]
        },
        {
         "hovertemplate": "%{text}<br>Computational cost: %{x} μs<br>Normalized error: %{y}",
         "legendgroup": "MACE",
         "marker": {
          "color": [
           "purple"
          ]
         },
         "mode": "markers",
         "name": "MACE",
         "showlegend": false,
         "text": [
          "Reference<br>Engine: MLP Toolkit-CPU"
         ],
         "type": "scatter",
         "x": [
          500
         ],
         "y": [
          0.07329292737746626
         ]
        },
        {
         "hovertemplate": "%{text}<br>Computational cost: %{x} μs<br>Normalized error: %{y}",
         "legendgroup": "MACE",
         "marker": {
          "color": [
           "purple"
          ]
         },
         "mode": "markers",
         "name": "MACE",
         "showlegend": false,
         "text": [
          "Standard<br>Engine: ASE-CPU"
         ],
         "type": "scatter",
         "x": [
          7.465
         ],
         "y": [
          0.08998499971433815
         ]
        },
        {
         "hovertemplate": "%{text}<br>Computational cost: %{x} μs<br>Normalized error: %{y}",
         "legendgroup": "NequIP",
         "marker": {
          "color": [
           "orange"
          ]
         },
         "mode": "markers",
         "name": "NequIP",
         "showlegend": false,
         "text": [
          "Standard<br>Engine: ASE-CPU"
         ],
         "type": "scatter",
         "x": [
          8.190740741
         ],
         "y": [
          0.14343931995463446
         ]
        },
        {
         "hovertemplate": "%{text}<br>Computational cost: %{x} μs<br>Normalized error: %{y}",
         "legendgroup": "Allegro",
         "marker": {
          "color": [
           "turquoise"
          ]
         },
         "mode": "markers",
         "name": "Allegro",
         "showlegend": false,
         "text": [
          "Standard<br>Engine: ASE-CPU"
         ],
         "type": "scatter",
         "x": [
          23.71134259
         ],
         "y": [
          0.12851774324713638
         ]
        },
        {
         "hovertemplate": "%{text}<br>Computational cost: %{x} μs<br>Normalized error: %{y}",
         "legendgroup": "UF3",
         "marker": {
          "color": [
           "black"
          ]
         },
         "mode": "markers",
         "name": "UF3",
         "text": [
          "Standard<br>Engine: ASE-CPU"
         ],
         "type": "scatter",
         "x": [
          1315.99537
         ],
         "y": [
          0.3021324686896387
         ]
        },
        {
         "hovertemplate": "%{text}<br>Computational cost: %{x} μs<br>Normalized error: %{y}",
         "legendgroup": "GM-NN",
         "marker": {
          "color": [
           "blue",
           "blue",
           "blue",
           "blue",
           "blue"
          ]
         },
         "mode": "markers",
         "name": "GM-NN",
         "showlegend": false,
         "text": [
          "593-512-512-1<br>Engine: LAMMPS-GPU",
          "593-128-128-1<br>Engine: LAMMPS-GPU",
          "593-32-32-1<br>Engine: LAMMPS-GPU",
          "360-512-512-1<br>Engine: LAMMPS-GPU",
          "910-512-512-1<br>Engine: LAMMPS-GPU"
         ],
         "type": "scatter",
         "x": [
          7.25,
          7.47,
          7.28,
          7.3,
          7.23
         ],
         "y": [
          0.07976590315941998,
          0.08449816507850838,
          0.08864026178780551,
          0.09512265833263436,
          0.07621397165991411
         ]
        },
        {
         "hovertemplate": "%{text}<br>Computational cost: %{x} μs<br>Normalized error: %{y}",
         "legendgroup": "MACE",
         "marker": {
          "color": [
           "purple"
          ]
         },
         "mode": "markers",
         "name": "MACE",
         "showlegend": false,
         "text": [
          "Standard<br>Engine: LAMMPS-GPU"
         ],
         "type": "scatter",
         "x": [
          2.639351852
         ],
         "y": [
          0.08998499971433815
         ]
        },
        {
         "hovertemplate": "%{text}<br>Computational cost: %{x} μs<br>Normalized error: %{y}",
         "legendgroup": "NequIP",
         "marker": {
          "color": [
           "orange"
          ]
         },
         "mode": "markers",
         "name": "NequIP",
         "showlegend": false,
         "text": [
          "Standard<br>Engine: LAMMPS-GPU"
         ],
         "type": "scatter",
         "x": [
          0.121759259
         ],
         "y": [
          0.14343931995463446
         ]
        },
        {
         "hovertemplate": "%{text}<br>Computational cost: %{x} μs<br>Normalized error: %{y}",
         "legendgroup": "Allegro",
         "marker": {
          "color": [
           "turquoise"
          ]
         },
         "mode": "markers",
         "name": "Allegro",
         "showlegend": false,
         "text": [
          "Standard<br>Engine: LAMMPS-GPU"
         ],
         "type": "scatter",
         "x": [
          0.371296296
         ],
         "y": [
          0.12851774324713638
         ]
        },
        {
         "hovertemplate": "%{text}<br>Computational cost: %{x} μs<br>Normalized error: %{y}",
         "legendgroup": "MACE",
         "marker": {
          "color": [
           "purple"
          ]
         },
         "mode": "markers",
         "name": "MACE",
         "showlegend": false,
         "text": [
          "Standard<br>Engine: ASE-GPU"
         ],
         "type": "scatter",
         "x": [
          0.1759
         ],
         "y": [
          0.08998499971433815
         ]
        },
        {
         "hovertemplate": "%{text}<br>Computational cost: %{x} μs<br>Normalized error: %{y}",
         "legendgroup": "NequIP",
         "marker": {
          "color": [
           "orange"
          ]
         },
         "mode": "markers",
         "name": "NequIP",
         "showlegend": false,
         "text": [
          "Standard<br>Engine: ASE-GPU"
         ],
         "type": "scatter",
         "x": [
          0.160185185
         ],
         "y": [
          0.14343931995463446
         ]
        },
        {
         "hovertemplate": "%{text}<br>Computational cost: %{x} μs<br>Normalized error: %{y}",
         "legendgroup": "Allegro",
         "marker": {
          "color": [
           "turquoise"
          ]
         },
         "mode": "markers",
         "name": "Allegro",
         "showlegend": false,
         "text": [
          "Standard<br>Engine: ASE-GPU"
         ],
         "type": "scatter",
         "x": [
          0.389583333
         ],
         "y": [
          0.12851774324713638
         ]
        }
       ],
       "layout": {
        "font": {
         "family": "Serif",
         "size": 14
        },
        "height": 600,
        "template": {
         "data": {
          "bar": [
           {
            "error_x": {
             "color": "rgb(51,51,51)"
            },
            "error_y": {
             "color": "rgb(51,51,51)"
            },
            "marker": {
             "line": {
              "color": "rgb(237,237,237)",
              "width": 0.5
             },
             "pattern": {
              "fillmode": "overlay",
              "size": 10,
              "solidity": 0.2
             }
            },
            "type": "bar"
           }
          ],
          "barpolar": [
           {
            "marker": {
             "line": {
              "color": "rgb(237,237,237)",
              "width": 0.5
             },
             "pattern": {
              "fillmode": "overlay",
              "size": 10,
              "solidity": 0.2
             }
            },
            "type": "barpolar"
           }
          ],
          "carpet": [
           {
            "aaxis": {
             "endlinecolor": "rgb(51,51,51)",
             "gridcolor": "white",
             "linecolor": "white",
             "minorgridcolor": "white",
             "startlinecolor": "rgb(51,51,51)"
            },
            "baxis": {
             "endlinecolor": "rgb(51,51,51)",
             "gridcolor": "white",
             "linecolor": "white",
             "minorgridcolor": "white",
             "startlinecolor": "rgb(51,51,51)"
            },
            "type": "carpet"
           }
          ],
          "choropleth": [
           {
            "colorbar": {
             "outlinewidth": 0,
             "tickcolor": "rgb(237,237,237)",
             "ticklen": 6,
             "ticks": "inside"
            },
            "type": "choropleth"
           }
          ],
          "contour": [
           {
            "colorbar": {
             "outlinewidth": 0,
             "tickcolor": "rgb(237,237,237)",
             "ticklen": 6,
             "ticks": "inside"
            },
            "colorscale": [
             [
              0,
              "rgb(20,44,66)"
             ],
             [
              1,
              "rgb(90,179,244)"
             ]
            ],
            "type": "contour"
           }
          ],
          "contourcarpet": [
           {
            "colorbar": {
             "outlinewidth": 0,
             "tickcolor": "rgb(237,237,237)",
             "ticklen": 6,
             "ticks": "inside"
            },
            "type": "contourcarpet"
           }
          ],
          "heatmap": [
           {
            "colorbar": {
             "outlinewidth": 0,
             "tickcolor": "rgb(237,237,237)",
             "ticklen": 6,
             "ticks": "inside"
            },
            "colorscale": [
             [
              0,
              "rgb(20,44,66)"
             ],
             [
              1,
              "rgb(90,179,244)"
             ]
            ],
            "type": "heatmap"
           }
          ],
          "heatmapgl": [
           {
            "colorbar": {
             "outlinewidth": 0,
             "tickcolor": "rgb(237,237,237)",
             "ticklen": 6,
             "ticks": "inside"
            },
            "colorscale": [
             [
              0,
              "rgb(20,44,66)"
             ],
             [
              1,
              "rgb(90,179,244)"
             ]
            ],
            "type": "heatmapgl"
           }
          ],
          "histogram": [
           {
            "marker": {
             "pattern": {
              "fillmode": "overlay",
              "size": 10,
              "solidity": 0.2
             }
            },
            "type": "histogram"
           }
          ],
          "histogram2d": [
           {
            "colorbar": {
             "outlinewidth": 0,
             "tickcolor": "rgb(237,237,237)",
             "ticklen": 6,
             "ticks": "inside"
            },
            "colorscale": [
             [
              0,
              "rgb(20,44,66)"
             ],
             [
              1,
              "rgb(90,179,244)"
             ]
            ],
            "type": "histogram2d"
           }
          ],
          "histogram2dcontour": [
           {
            "colorbar": {
             "outlinewidth": 0,
             "tickcolor": "rgb(237,237,237)",
             "ticklen": 6,
             "ticks": "inside"
            },
            "colorscale": [
             [
              0,
              "rgb(20,44,66)"
             ],
             [
              1,
              "rgb(90,179,244)"
             ]
            ],
            "type": "histogram2dcontour"
           }
          ],
          "mesh3d": [
           {
            "colorbar": {
             "outlinewidth": 0,
             "tickcolor": "rgb(237,237,237)",
             "ticklen": 6,
             "ticks": "inside"
            },
            "type": "mesh3d"
           }
          ],
          "parcoords": [
           {
            "line": {
             "colorbar": {
              "outlinewidth": 0,
              "tickcolor": "rgb(237,237,237)",
              "ticklen": 6,
              "ticks": "inside"
             }
            },
            "type": "parcoords"
           }
          ],
          "pie": [
           {
            "automargin": true,
            "type": "pie"
           }
          ],
          "scatter": [
           {
            "fillpattern": {
             "fillmode": "overlay",
             "size": 10,
             "solidity": 0.2
            },
            "type": "scatter"
           }
          ],
          "scatter3d": [
           {
            "line": {
             "colorbar": {
              "outlinewidth": 0,
              "tickcolor": "rgb(237,237,237)",
              "ticklen": 6,
              "ticks": "inside"
             }
            },
            "marker": {
             "colorbar": {
              "outlinewidth": 0,
              "tickcolor": "rgb(237,237,237)",
              "ticklen": 6,
              "ticks": "inside"
             }
            },
            "type": "scatter3d"
           }
          ],
          "scattercarpet": [
           {
            "marker": {
             "colorbar": {
              "outlinewidth": 0,
              "tickcolor": "rgb(237,237,237)",
              "ticklen": 6,
              "ticks": "inside"
             }
            },
            "type": "scattercarpet"
           }
          ],
          "scattergeo": [
           {
            "marker": {
             "colorbar": {
              "outlinewidth": 0,
              "tickcolor": "rgb(237,237,237)",
              "ticklen": 6,
              "ticks": "inside"
             }
            },
            "type": "scattergeo"
           }
          ],
          "scattergl": [
           {
            "marker": {
             "colorbar": {
              "outlinewidth": 0,
              "tickcolor": "rgb(237,237,237)",
              "ticklen": 6,
              "ticks": "inside"
             }
            },
            "type": "scattergl"
           }
          ],
          "scattermapbox": [
           {
            "marker": {
             "colorbar": {
              "outlinewidth": 0,
              "tickcolor": "rgb(237,237,237)",
              "ticklen": 6,
              "ticks": "inside"
             }
            },
            "type": "scattermapbox"
           }
          ],
          "scatterpolar": [
           {
            "marker": {
             "colorbar": {
              "outlinewidth": 0,
              "tickcolor": "rgb(237,237,237)",
              "ticklen": 6,
              "ticks": "inside"
             }
            },
            "type": "scatterpolar"
           }
          ],
          "scatterpolargl": [
           {
            "marker": {
             "colorbar": {
              "outlinewidth": 0,
              "tickcolor": "rgb(237,237,237)",
              "ticklen": 6,
              "ticks": "inside"
             }
            },
            "type": "scatterpolargl"
           }
          ],
          "scatterternary": [
           {
            "marker": {
             "colorbar": {
              "outlinewidth": 0,
              "tickcolor": "rgb(237,237,237)",
              "ticklen": 6,
              "ticks": "inside"
             }
            },
            "type": "scatterternary"
           }
          ],
          "surface": [
           {
            "colorbar": {
             "outlinewidth": 0,
             "tickcolor": "rgb(237,237,237)",
             "ticklen": 6,
             "ticks": "inside"
            },
            "colorscale": [
             [
              0,
              "rgb(20,44,66)"
             ],
             [
              1,
              "rgb(90,179,244)"
             ]
            ],
            "type": "surface"
           }
          ],
          "table": [
           {
            "cells": {
             "fill": {
              "color": "rgb(237,237,237)"
             },
             "line": {
              "color": "white"
             }
            },
            "header": {
             "fill": {
              "color": "rgb(217,217,217)"
             },
             "line": {
              "color": "white"
             }
            },
            "type": "table"
           }
          ]
         },
         "layout": {
          "annotationdefaults": {
           "arrowhead": 0,
           "arrowwidth": 1
          },
          "autotypenumbers": "strict",
          "coloraxis": {
           "colorbar": {
            "outlinewidth": 0,
            "tickcolor": "rgb(237,237,237)",
            "ticklen": 6,
            "ticks": "inside"
           }
          },
          "colorscale": {
           "sequential": [
            [
             0,
             "rgb(20,44,66)"
            ],
            [
             1,
             "rgb(90,179,244)"
            ]
           ],
           "sequentialminus": [
            [
             0,
             "rgb(20,44,66)"
            ],
            [
             1,
             "rgb(90,179,244)"
            ]
           ]
          },
          "colorway": [
           "#F8766D",
           "#A3A500",
           "#00BF7D",
           "#00B0F6",
           "#E76BF3"
          ],
          "font": {
           "color": "rgb(51,51,51)"
          },
          "geo": {
           "bgcolor": "white",
           "lakecolor": "white",
           "landcolor": "rgb(237,237,237)",
           "showlakes": true,
           "showland": true,
           "subunitcolor": "white"
          },
          "hoverlabel": {
           "align": "left"
          },
          "hovermode": "closest",
          "paper_bgcolor": "white",
          "plot_bgcolor": "rgb(237,237,237)",
          "polar": {
           "angularaxis": {
            "gridcolor": "white",
            "linecolor": "white",
            "showgrid": true,
            "tickcolor": "rgb(51,51,51)",
            "ticks": "outside"
           },
           "bgcolor": "rgb(237,237,237)",
           "radialaxis": {
            "gridcolor": "white",
            "linecolor": "white",
            "showgrid": true,
            "tickcolor": "rgb(51,51,51)",
            "ticks": "outside"
           }
          },
          "scene": {
           "xaxis": {
            "backgroundcolor": "rgb(237,237,237)",
            "gridcolor": "white",
            "gridwidth": 2,
            "linecolor": "white",
            "showbackground": true,
            "showgrid": true,
            "tickcolor": "rgb(51,51,51)",
            "ticks": "outside",
            "zerolinecolor": "white"
           },
           "yaxis": {
            "backgroundcolor": "rgb(237,237,237)",
            "gridcolor": "white",
            "gridwidth": 2,
            "linecolor": "white",
            "showbackground": true,
            "showgrid": true,
            "tickcolor": "rgb(51,51,51)",
            "ticks": "outside",
            "zerolinecolor": "white"
           },
           "zaxis": {
            "backgroundcolor": "rgb(237,237,237)",
            "gridcolor": "white",
            "gridwidth": 2,
            "linecolor": "white",
            "showbackground": true,
            "showgrid": true,
            "tickcolor": "rgb(51,51,51)",
            "ticks": "outside",
            "zerolinecolor": "white"
           }
          },
          "shapedefaults": {
           "fillcolor": "black",
           "line": {
            "width": 0
           },
           "opacity": 0.3
          },
          "ternary": {
           "aaxis": {
            "gridcolor": "white",
            "linecolor": "white",
            "showgrid": true,
            "tickcolor": "rgb(51,51,51)",
            "ticks": "outside"
           },
           "baxis": {
            "gridcolor": "white",
            "linecolor": "white",
            "showgrid": true,
            "tickcolor": "rgb(51,51,51)",
            "ticks": "outside"
           },
           "bgcolor": "rgb(237,237,237)",
           "caxis": {
            "gridcolor": "white",
            "linecolor": "white",
            "showgrid": true,
            "tickcolor": "rgb(51,51,51)",
            "ticks": "outside"
           }
          },
          "xaxis": {
           "automargin": true,
           "gridcolor": "white",
           "linecolor": "white",
           "showgrid": true,
           "tickcolor": "rgb(51,51,51)",
           "ticks": "outside",
           "title": {
            "standoff": 15
           },
           "zerolinecolor": "white"
          },
          "yaxis": {
           "automargin": true,
           "gridcolor": "white",
           "linecolor": "white",
           "showgrid": true,
           "tickcolor": "rgb(51,51,51)",
           "ticks": "outside",
           "title": {
            "standoff": 15
           },
           "zerolinecolor": "white"
          }
         }
        },
        "updatemenus": [
         {
          "buttons": [
           {
            "args": [
             {
              "visible": [
               true,
               true,
               true,
               true,
               true,
               true,
               true,
               true,
               true,
               true,
               true,
               true,
               true,
               true,
               true,
               true,
               true,
               true
              ]
             }
            ],
            "label": "All",
            "method": "update"
           },
           {
            "args": [
             {
              "visible": [
               true,
               true,
               true,
               true,
               true,
               true,
               true,
               true,
               true,
               true,
               true,
               false,
               false,
               false,
               false,
               false,
               false,
               false
              ]
             }
            ],
            "label": "CPU",
            "method": "update"
           },
           {
            "args": [
             {
              "visible": [
               false,
               false,
               false,
               false,
               false,
               false,
               false,
               false,
               false,
               false,
               false,
               true,
               true,
               true,
               true,
               true,
               true,
               true
              ]
             }
            ],
            "label": "GPU",
            "method": "update"
           }
          ],
          "direction": "down",
          "x": 0.05,
          "y": 1.05
         },
         {
          "buttons": [
           {
            "args": [
             {
              "visible": [
               true,
               true,
               true,
               true,
               true,
               true,
               true,
               true,
               true,
               true,
               true,
               true,
               true,
               true,
               true,
               true,
               true,
               true
              ]
             }
            ],
            "label": "All",
            "method": "update"
           },
           {
            "args": [
             {
              "visible": [
               true,
               true,
               true,
               true,
               true,
               true,
               false,
               false,
               false,
               false,
               false,
               true,
               true,
               true,
               true,
               false,
               false,
               false
              ]
             }
            ],
            "label": "LAMMPS",
            "method": "update"
           },
           {
            "args": [
             {
              "visible": [
               false,
               false,
               false,
               false,
               false,
               false,
               true,
               false,
               false,
               false,
               false,
               false,
               false,
               false,
               false,
               false,
               false,
               false
              ]
             }
            ],
            "label": "MLP Toolkit",
            "method": "update"
           },
           {
            "args": [
             {
              "visible": [
               false,
               false,
               false,
               false,
               false,
               false,
               false,
               true,
               true,
               true,
               true,
               false,
               false,
               false,
               false,
               true,
               true,
               true
              ]
             }
            ],
            "label": "ASE",
            "method": "update"
           }
          ],
          "direction": "down",
          "x": 0.15,
          "y": 1.05
         }
        ],
        "width": 1000,
        "xaxis": {
         "minor": {
          "ticks": "inside"
         },
         "title": {
          "text": "Computational cost of inference [<i>μs/atom/step</i>]"
         },
         "type": "log"
        },
        "yaxis": {
         "title": {
          "text": "Normalized error"
         }
        }
       }
      }
     },
     "metadata": {},
     "output_type": "display_data"
    }
   ],
   "source": [
    "# Add dropdown\n",
    "\n",
    "lst_eng, lst_md = produce_buttons(df, traces)\n",
    "fig.update_layout(\n",
    "    updatemenus=[\n",
    "        dict(\n",
    "            buttons=lst_eng,\n",
    "            direction=\"down\",\n",
    "            x=0.05,\n",
    "            y=1.05\n",
    "            #type = \"buttons\",\n",
    "            #active=0\n",
    "        ),\n",
    "        dict(\n",
    "            buttons=lst_md,\n",
    "            direction=\"down\",\n",
    "            x=0.15,\n",
    "            y=1.05\n",
    "            #type = \"buttons\",\n",
    "            #active=0\n",
    "        )\n",
    "    ]\n",
    ")\n",
    "\n",
    "# fig.update_layout(\n",
    "#     annotations=[\n",
    "#         dict(text=\"Engine\", x=0, xref=\"paper\", y=1.1, yref=\"paper\",\n",
    "#                              align=\"left\", showarrow=False),\n",
    "#         dict(text=\"MD Suite\", x=0.075, xref=\"paper\", y=1.1,\n",
    "#                              yref=\"paper\", showarrow=False)])"
   ]
  },
  {
   "cell_type": "code",
   "execution_count": 13,
   "metadata": {},
   "outputs": [],
   "source": [
    "fig.write_html('/Users/dominicwelti/Library/CloudStorage/Dropbox/Master_Thesis/data_npj/Inference.html')"
   ]
  }
 ],
 "metadata": {
  "kernelspec": {
   "display_name": "base",
   "language": "python",
   "name": "python3"
  },
  "language_info": {
   "codemirror_mode": {
    "name": "ipython",
    "version": 3
   },
   "file_extension": ".py",
   "mimetype": "text/x-python",
   "name": "python",
   "nbconvert_exporter": "python",
   "pygments_lexer": "ipython3",
   "version": "3.9.19"
  }
 },
 "nbformat": 4,
 "nbformat_minor": 2
}
