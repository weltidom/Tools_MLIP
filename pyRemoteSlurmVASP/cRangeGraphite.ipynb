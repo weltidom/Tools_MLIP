{
 "cells": [
  {
   "cell_type": "code",
   "execution_count": 2,
   "metadata": {},
   "outputs": [
    {
     "name": "stderr",
     "output_type": "stream",
     "text": [
      "/Users/dominicwelti/opt/anaconda3/lib/python3.9/site-packages/paramiko/transport.py:219: CryptographyDeprecationWarning: Blowfish has been deprecated\n",
      "  \"class\": algorithms.Blowfish,\n"
     ]
    }
   ],
   "source": [
    "from pyExecVaspSlurm import *\n",
    "import numpy as np\n",
    "import pandas as pd\n",
    "import os\n",
    "from ase.io import read, write"
   ]
  },
  {
   "cell_type": "code",
   "execution_count": 2,
   "metadata": {},
   "outputs": [
    {
     "name": "stdout",
     "output_type": "stream",
     "text": [
      "Your OTP: Password: <paramiko.Transport at 0x10f37b80 (cipher aes128-ctr, 128 bits) (active; 0 open channel(s))>\n",
      "<paramiko.sftp_client.SFTPClient object at 0x138ad1eb0>\n"
     ]
    }
   ],
   "source": [
    "server = Server('st_st179390','justus2.uni-ulm.de', '/lustre/home/st/st_us-031400/st_st179390/') # all refer to server\n",
    "sftp, ts = server.connect()"
   ]
  },
  {
   "cell_type": "code",
   "execution_count": 8,
   "metadata": {},
   "outputs": [],
   "source": [
    "# Download h5 files\n",
    "folders=server.list_folders(sftp,'Graphite_DFT')\n",
    "results_dir='/Users/dominicwelti/Documents/Master_Thesis_Data_Set/Graphite/DFT'\n",
    "\n",
    "for folder in folders:\n",
    "    #name=folder.split(\"/\")[-2]\n",
    "    sftp.get(f'Graphite_DFT/{folder}/vaspout.h5',f'{results_dir}/{folder}.h5')"
   ]
  },
  {
   "cell_type": "code",
   "execution_count": 10,
   "metadata": {},
   "outputs": [],
   "source": [
    "# Download POSCAR files for DFT-D3BF\n",
    "poscar_dir='/Users/dominicwelti/Documents/Master_Thesis_Data_Set/Graphite/POSCAR'\n",
    "folders_sub=list(filter(lambda x: 'D3BF' in x, folders))\n",
    "\n",
    "for folder in folders_sub:\n",
    "    sftp.get(f'Graphite_DFT/{folder}/POSCAR',f'{poscar_dir}/{folder}_POSCAR')"
   ]
  },
  {
   "cell_type": "code",
   "execution_count": 58,
   "metadata": {},
   "outputs": [],
   "source": [
    "# Graphite: create remote folders for POSCAR files\n",
    "poscars=list(filter(lambda x:'POSCAR' in x, os.listdir(poscar_dir)))\n",
    "for poscar in poscars:\n",
    "    c_par=np.round(float(poscar.split('_')[1]), 2)\n",
    "    sftp.mkdir(f'Graphite_MLIP/{c_par}')\n",
    "    sftp.put(f'{poscar_dir}/{poscar}', f'Graphite_MLIP/{c_par}/POSCAR')"
   ]
  },
  {
   "cell_type": "code",
   "execution_count": 56,
   "metadata": {},
   "outputs": [],
   "source": [
    "# Benzene: create remote folders for ase.xyz files\n",
    "xyz_folder='/Users/dominicwelti/Documents/Master_Thesis_Data_Set/Benzene/DF-KS_PBE-D3_BJ/aug-cc-pVTZ'\n",
    "xyz_folders=list(filter(lambda x:'Benzene' in x, os.listdir(xyz_folder)))\n",
    "\n",
    "for folder in xyz_folders:\n",
    "    distance=folder.split('_')[-1]\n",
    "    sftp.mkdir(f'Benzene_MLIP/{distance}')\n",
    "    sftp.put(f'{xyz_folder}/{folder}/ase.xyz', f'Benzene_MLIP/{distance}/ase.xyz')"
   ]
  },
  {
   "cell_type": "code",
   "execution_count": 69,
   "metadata": {},
   "outputs": [],
   "source": [
    "sftp.get('Benzene_MLIP/benzene_MACE.pkl', '/Users/dominicwelti/Documents/Master_Thesis_Data_Set/Benzene/MACE/results.pkl')"
   ]
  }
 ],
 "metadata": {
  "kernelspec": {
   "display_name": "base",
   "language": "python",
   "name": "python3"
  },
  "language_info": {
   "codemirror_mode": {
    "name": "ipython",
    "version": 3
   },
   "file_extension": ".py",
   "mimetype": "text/x-python",
   "name": "python",
   "nbconvert_exporter": "python",
   "pygments_lexer": "ipython3",
   "version": "3.9.16"
  }
 },
 "nbformat": 4,
 "nbformat_minor": 2
}
