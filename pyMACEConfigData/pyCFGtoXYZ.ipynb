{
 "cells": [
  {
   "cell_type": "code",
   "execution_count": 82,
   "metadata": {},
   "outputs": [],
   "source": [
    "import numpy as np\n",
    "import pandas as pd\n",
    "\n",
    "class Cfg:\n",
    "    def __init__(self, file_name:str, path:str):\n",
    "        self.name = file_name\n",
    "        self.path = path\n",
    "\n",
    "    def read(self):\n",
    "        '''Read file and save lines in list self.lines.'''\n",
    "        lines = []\n",
    "        with open(self.path, 'r') as file:\n",
    "            for line in file:\n",
    "                lines.append(line.rstrip())\n",
    "        self.lines = lines\n",
    "        self.no_configs = self.lines.count('BEGIN_CFG')\n",
    "        \n",
    "    def parse(self):\n",
    "        '''Parse previously read self.lines to DataFrame self.data.'''\n",
    "        config = 0\n",
    "        data_lst = []\n",
    "        \n",
    "        for i, line in enumerate(self.lines):\n",
    "            if 'BEGIN_CFG' in line:\n",
    "                config+=1\n",
    "                data = pd.DataFrame({\n",
    "                    'Name': self.name,\n",
    "                    'Lattice': [[]],\n",
    "                    'Configuration': config,\n",
    "                    'Config. size': 0,\n",
    "                    'Energy': 0,\n",
    "                    'Atom': [[]],\n",
    "                    'Position': [[]],\n",
    "                    'Force': [[]]\n",
    "                    })\n",
    "            elif 'Size' in line:\n",
    "                size = int(self.lines[i+1]) # number of atoms in config\n",
    "                data['Config. size'] = size\n",
    "            elif 'SuperCell' in line:\n",
    "                data['Lattice']=[[\n",
    "                    list(filter(lambda x: len(x) > 0,self.lines[i+1].split(' '))),\n",
    "                    list(filter(lambda x: len(x) > 0,self.lines[i+2].split(' '))),\n",
    "                    list(filter(lambda x: len(x) > 0,self.lines[i+3].split(' ')))\n",
    "                    ]]\n",
    "            elif 'AtomData' in line:\n",
    "                atoms, pos, force = [], [], []\n",
    "                for entry in range(1,size+1):\n",
    "                    values = list(filter(lambda x: len(x) > 0,self.lines[i+entry].strip('\\t').split(' '))) # clean up string, turn into list, remove empty entries\n",
    "                    atoms.append(int(values[1]))\n",
    "                    pos.append(values[2:5])\n",
    "                    force.append(values[5:8])\n",
    "                data['Atom']=[atoms]\n",
    "                data['Position']=[pos]\n",
    "                data['Force']=[force]\n",
    "            elif 'Energy' in line:\n",
    "                data['Energy'] = float(self.lines[i+1].strip('\\t'))\n",
    "            elif 'END_CFG' in line:\n",
    "                data_lst.append(data)\n",
    "\n",
    "        self.data = pd.concat(data_lst)"
   ]
  },
  {
   "cell_type": "code",
   "execution_count": 145,
   "metadata": {},
   "outputs": [],
   "source": [
    "class Xyz:\n",
    "    def __init__(self, folder:str, name:str, assignment:dict={}):\n",
    "        self.name = name\n",
    "        self.assign = assignment # dictionary with number to atom species assignment\n",
    "        self.path = f'{folder}/{name}'\n",
    "\n",
    "    def unpack(lst):\n",
    "        '''Unpack list (2 levels) and turn into string'''\n",
    "        unpacked = ''\n",
    "        for i, entry in enumerate(lst):\n",
    "            unpacked = f'{unpacked} {\" \".join(entry)}'\n",
    "        return unpacked[1:]\n",
    "\n",
    "    def type_to_symbol(self, no: int):\n",
    "        '''Method for turning atom type numbers to atomic symbols.'''\n",
    "        for type, symbol in self.assign.items():\n",
    "            if type==no:\n",
    "                species=symbol\n",
    "        return species\n",
    "\n",
    "    def write(self, data:pd.DataFrame):\n",
    "        '''Write configuration data to extended XYZ file for use in MACE'''\n",
    "        with open(f'{self.path}.xyz', 'w') as f:\n",
    "            for run, config in zip(data['Name'],data['Configuration']):\n",
    "                subset = data.query('Name==@run and Configuration==@config')\n",
    "                f.write(f\"{subset['Config. size'].to_string(index=False)}\\n\")\n",
    "                f.write(f'Energy={float(subset[\"Energy\"])} Lattice=\\\"{unpack(subset[\"Lattice\"][0])}\\\" Properties=species:S:1:pos:R:3:forces:R:3\\n')\n",
    "                for species, position, force in zip(subset['Atom'][0], subset['Position'][0], subset['Force'][0]):\n",
    "                    f.write(f'{self.type_to_symbol(species)}{position[0]:>12}{position[1]:>12}{position[2]:>12}{force[0]:>12}{force[1]:>12}{force[2]:>12}\\n')\n",
    "        "
   ]
  },
  {
   "cell_type": "code",
   "execution_count": 140,
   "metadata": {},
   "outputs": [],
   "source": [
    "atom_types = {0:'Ta', 1:'V', 2:'Cr', 3:'W'} "
   ]
  },
  {
   "cell_type": "code",
   "execution_count": 155,
   "metadata": {},
   "outputs": [],
   "source": [
    "cfg = Cfg('test', '/Users/dominicwelti/Library/CloudStorage/Dropbox/Master_Thesis/data_npj/Dataset/cfg/in_distribution_splits/4comp.cfg_train_0', atom_types)\n",
    "cfg.read()\n",
    "cfg.parse()\n",
    "cfg.type_to_symbol()"
   ]
  },
  {
   "cell_type": "code",
   "execution_count": 3,
   "metadata": {},
   "outputs": [],
   "source": [
    "#retrieve paths to CFG files in project\n",
    "import os\n",
    "folder_path='/Users/dominicwelti/Library/CloudStorage/Dropbox/Master_Thesis/data_npj/Dataset/cfg'\n",
    "\n",
    "files=[]\n",
    "for (dirpath, dirnames, filenames) in os.walk(folder_path):\n",
    "    for filename in filenames:\n",
    "        files.append(f'{dirpath}/{filename}')\n",
    "\n",
    "f=filter(lambda x: '.cfg' in x, files)\n",
    "files=list(f)"
   ]
  },
  {
   "cell_type": "code",
   "execution_count": 4,
   "metadata": {},
   "outputs": [],
   "source": [
    "# only select CFG files containing string in file name\n",
    "files_train = list(filter(lambda x: 'train_0' in x, files))"
   ]
  },
  {
   "cell_type": "code",
   "execution_count": 83,
   "metadata": {},
   "outputs": [],
   "source": [
    "# retrieve data contained in relevant CFG files\n",
    "data_lst = []\n",
    "for file in files_train:\n",
    "    cfg = Cfg(file.split('/')[-1], file, atom_types)\n",
    "    cfg.read()\n",
    "    cfg.parse()\n",
    "    data_lst.append(cfg.data)\n",
    "\n",
    "data = pd.concat(data_lst)"
   ]
  },
  {
   "cell_type": "code",
   "execution_count": 9,
   "metadata": {},
   "outputs": [
    {
     "data": {
      "text/plain": [
       "5373.0"
      ]
     },
     "execution_count": 9,
     "metadata": {},
     "output_type": "execute_result"
    }
   ],
   "source": [
    "# retrieve number of configurations contained\n",
    "data.groupby(by='Name').max('Configuration').sum()['Configuration']"
   ]
  },
  {
   "cell_type": "code",
   "execution_count": null,
   "metadata": {},
   "outputs": [],
   "source": [
    "test = [cfg.data['Atom']]"
   ]
  },
  {
   "cell_type": "code",
   "execution_count": null,
   "metadata": {},
   "outputs": [],
   "source": [
    "for type, symbol in cfg.atom_types.items():\n",
    "    cfg.data.loc[cfg.data['Atom']==type,'Atom'] = symbol"
   ]
  },
  {
   "cell_type": "code",
   "execution_count": 146,
   "metadata": {},
   "outputs": [],
   "source": [
    "xyz = Xyz('/Users/dominicwelti/Library/CloudStorage/Dropbox/Master_Thesis/data_npj/', 'test', atom_types)"
   ]
  },
  {
   "cell_type": "code",
   "execution_count": 147,
   "metadata": {},
   "outputs": [],
   "source": [
    "xyz.write(data)"
   ]
  }
 ],
 "metadata": {
  "kernelspec": {
   "display_name": "mace_env",
   "language": "python",
   "name": "python3"
  },
  "language_info": {
   "codemirror_mode": {
    "name": "ipython",
    "version": 3
   },
   "file_extension": ".py",
   "mimetype": "text/x-python",
   "name": "python",
   "nbconvert_exporter": "python",
   "pygments_lexer": "ipython3",
   "version": "3.9.16"
  }
 },
 "nbformat": 4,
 "nbformat_minor": 2
}
