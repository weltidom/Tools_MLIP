{
 "cells": [
  {
   "cell_type": "code",
   "execution_count": 11,
   "metadata": {},
   "outputs": [],
   "source": [
    "import numpy as np\n",
    "import pandas as pd\n",
    "\n",
    "class Cfg:\n",
    "    def __init__(self, file_name:str, path:str, atom_types: dict):\n",
    "        self.name = file_name\n",
    "        self.path = path\n",
    "        self.atom_types = atom_types\n",
    "\n",
    "    def read(self):\n",
    "        '''Read file and save lines in list self.lines.'''\n",
    "        lines = []\n",
    "        with open(self.path, 'r') as file:\n",
    "            for line in file:\n",
    "                lines.append(line.rstrip())\n",
    "        self.lines = lines\n",
    "        self.no_configs = self.lines.count('BEGIN_CFG')\n",
    "    \n",
    "    def type_to_symbol(self):\n",
    "        '''Method for turning atom type numbers in .CFG file to atomic symbols.'''\n",
    "        for type, symbol in self.atom_types.items():\n",
    "            self.data.loc[self.data['Atom']==type,'Atom'] = symbol\n",
    "        \n",
    "    def parse(self):\n",
    "        '''Parse previously read lines to DataFrame self.data.'''\n",
    "        config = 0\n",
    "        configs, atom_types, energies, positions, forces = np.array([]),[],np.array([]),[],[]\n",
    "        for i, line in enumerate(self.lines):\n",
    "            if 'BEGIN_CFG' in line:\n",
    "                config+=1\n",
    "            elif 'Size' in line:\n",
    "                size = int(self.lines[i+1]) # number of atoms in config\n",
    "            elif 'AtomData' in line:\n",
    "                for entry in range(1,size+1):\n",
    "                    values = list(filter(lambda x: len(x) > 0,self.lines[i+entry].strip('\\t').split('  '))) # clean up string, turn into list, remove empty entries\n",
    "                    atom_types.append(int(values[1]))\n",
    "                    positions.append(values[2:5])\n",
    "                    forces.append(values[5:8])\n",
    "                    configs = np.append(configs,config)\n",
    "            elif 'Energy' in line:\n",
    "                energies = np.append(energies,np.repeat(float(self.lines[i+1].strip('\\t')),size))\n",
    "\n",
    "        self.data = pd.DataFrame({\n",
    "            'Name': self.name,\n",
    "            'Configuration': configs,\n",
    "            'Energy': energies,\n",
    "            'Atom': atom_types,\n",
    "            'Position': positions,\n",
    "            'Force': forces\n",
    "            })"
   ]
  },
  {
   "cell_type": "code",
   "execution_count": 12,
   "metadata": {},
   "outputs": [],
   "source": [
    "atom_types = {0:'Ta', 1:'V', 2:'Cr', 3:'W'} "
   ]
  },
  {
   "cell_type": "code",
   "execution_count": 13,
   "metadata": {},
   "outputs": [],
   "source": [
    "cfg = Cfg('test', '/Users/dominicwelti/Library/CloudStorage/Dropbox/Master_Thesis/data_npj/Dataset/cfg/in_distribution_splits/4comp.cfg_train_0', atom_types)\n",
    "cfg.read()\n",
    "cfg.parse()\n",
    "cfg.type_to_symbol()"
   ]
  },
  {
   "cell_type": "code",
   "execution_count": 14,
   "metadata": {},
   "outputs": [],
   "source": [
    "import os\n",
    "folder_path='/Users/dominicwelti/Library/CloudStorage/Dropbox/Master_Thesis/data_npj/Dataset/cfg'\n",
    "\n",
    "files=[]\n",
    "for (dirpath, dirnames, filenames) in os.walk(folder_path):\n",
    "    for filename in filenames:\n",
    "        files.append(f'{dirpath}/{filename}')\n",
    "\n",
    "f=filter(lambda x: '.cfg' in x, files)\n",
    "files=list(f)"
   ]
  },
  {
   "cell_type": "code",
   "execution_count": 15,
   "metadata": {},
   "outputs": [],
   "source": [
    "files_train = list(filter(lambda x: 'train' in x, files))"
   ]
  },
  {
   "cell_type": "code",
   "execution_count": 16,
   "metadata": {},
   "outputs": [],
   "source": [
    "data = pd.DataFrame()\n",
    "for file in files_train:\n",
    "    cfg = Cfg(file.split('/')[-1], file, atom_types)\n",
    "    cfg.read()\n",
    "    cfg.parse()\n",
    "    cfg.type_to_symbol()\n",
    "\n",
    "    data = pd.concat([cfg.data, data])"
   ]
  },
  {
   "cell_type": "code",
   "execution_count": 18,
   "metadata": {},
   "outputs": [
    {
     "data": {
      "text/plain": [
       "120"
      ]
     },
     "execution_count": 18,
     "metadata": {},
     "output_type": "execute_result"
    }
   ],
   "source": [
    "len(data['Name'].unique())"
   ]
  }
 ],
 "metadata": {
  "kernelspec": {
   "display_name": "mace_env",
   "language": "python",
   "name": "python3"
  },
  "language_info": {
   "codemirror_mode": {
    "name": "ipython",
    "version": 3
   },
   "file_extension": ".py",
   "mimetype": "text/x-python",
   "name": "python",
   "nbconvert_exporter": "python",
   "pygments_lexer": "ipython3",
   "version": "3.9.16"
  }
 },
 "nbformat": 4,
 "nbformat_minor": 2
}
